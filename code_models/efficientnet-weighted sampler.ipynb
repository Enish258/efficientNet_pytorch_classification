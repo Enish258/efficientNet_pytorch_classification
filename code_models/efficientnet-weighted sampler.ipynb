{
 "cells": [
  {
   "cell_type": "code",
   "execution_count": 1,
   "id": "fc2d1f96",
   "metadata": {
    "execution": {
     "iopub.execute_input": "2022-02-04T10:29:50.689063Z",
     "iopub.status.busy": "2022-02-04T10:29:50.683715Z",
     "iopub.status.idle": "2022-02-04T10:29:53.018743Z",
     "shell.execute_reply": "2022-02-04T10:29:53.020118Z",
     "shell.execute_reply.started": "2022-02-03T18:59:11.903662Z"
    },
    "papermill": {
     "duration": 2.442412,
     "end_time": "2022-02-04T10:29:53.020610",
     "exception": false,
     "start_time": "2022-02-04T10:29:50.578198",
     "status": "completed"
    },
    "tags": []
   },
   "outputs": [],
   "source": [
    "import pandas as pd\n",
    "import numpy as np\n",
    "import torch\n",
    "import os\n",
    "import torchvision\n",
    "from torchvision.transforms import ToTensor, ToPILImage, Normalize, Compose,Resize\n",
    "import torchvision.transforms as tt\n",
    "from torch.utils.data import DataLoader\n",
    "from torch.utils.data import Dataset\n",
    "from torchvision import transforms \n",
    "\n",
    "from torch.utils.data.sampler import SubsetRandomSampler,WeightedRandomSampler\n",
    "import torch.nn as nn\n",
    "import torch.nn.functional as F\n",
    "\n",
    "from torch.utils.data import random_split\n",
    "from torchvision.datasets.utils import download_url\n",
    "import matplotlib.pyplot as plt\n",
    "import glob"
   ]
  },
  {
   "cell_type": "code",
   "execution_count": 2,
   "id": "f53338e9",
   "metadata": {
    "execution": {
     "iopub.execute_input": "2022-02-04T10:29:53.345727Z",
     "iopub.status.busy": "2022-02-04T10:29:53.344692Z",
     "iopub.status.idle": "2022-02-04T10:30:07.587883Z",
     "shell.execute_reply": "2022-02-04T10:30:07.588432Z",
     "shell.execute_reply.started": "2022-02-03T18:59:13.534821Z"
    },
    "papermill": {
     "duration": 14.401714,
     "end_time": "2022-02-04T10:30:07.588645",
     "exception": false,
     "start_time": "2022-02-04T10:29:53.186931",
     "status": "completed"
    },
    "tags": []
   },
   "outputs": [
    {
     "name": "stdout",
     "output_type": "stream",
     "text": [
      "Collecting efficientnet-pytorch\r\n",
      "  Downloading efficientnet_pytorch-0.7.1.tar.gz (21 kB)\r\n",
      "  Preparing metadata (setup.py) ... \u001b[?25l-\b \bdone\r\n",
      "\u001b[?25hRequirement already satisfied: torch in /opt/conda/lib/python3.7/site-packages (from efficientnet-pytorch) (1.9.1)\r\n",
      "Requirement already satisfied: typing-extensions in /opt/conda/lib/python3.7/site-packages (from torch->efficientnet-pytorch) (3.10.0.2)\r\n",
      "Building wheels for collected packages: efficientnet-pytorch\r\n",
      "  Building wheel for efficientnet-pytorch (setup.py) ... \u001b[?25l-\b \b\\\b \bdone\r\n",
      "\u001b[?25h  Created wheel for efficientnet-pytorch: filename=efficientnet_pytorch-0.7.1-py3-none-any.whl size=16446 sha256=da8f0a1bcaaaad686163297a924e0d5a3c057037e3f2c394c2f489bd885ad59d\r\n",
      "  Stored in directory: /root/.cache/pip/wheels/0e/cc/b2/49e74588263573ff778da58cc99b9c6349b496636a7e165be6\r\n",
      "Successfully built efficientnet-pytorch\r\n",
      "Installing collected packages: efficientnet-pytorch\r\n",
      "Successfully installed efficientnet-pytorch-0.7.1\r\n",
      "\u001b[33mWARNING: Running pip as the 'root' user can result in broken permissions and conflicting behaviour with the system package manager. It is recommended to use a virtual environment instead: https://pip.pypa.io/warnings/venv\u001b[0m\r\n",
      "Note: you may need to restart the kernel to use updated packages.\n"
     ]
    }
   ],
   "source": [
    "pip install --upgrade efficientnet-pytorch"
   ]
  },
  {
   "cell_type": "code",
   "execution_count": 3,
   "id": "8be99c7f",
   "metadata": {
    "execution": {
     "iopub.execute_input": "2022-02-04T10:30:07.802072Z",
     "iopub.status.busy": "2022-02-04T10:30:07.797277Z",
     "iopub.status.idle": "2022-02-04T10:30:08.772050Z",
     "shell.execute_reply": "2022-02-04T10:30:08.772629Z",
     "shell.execute_reply.started": "2022-02-03T18:59:24.772609Z"
    },
    "papermill": {
     "duration": 1.081517,
     "end_time": "2022-02-04T10:30:08.772997",
     "exception": false,
     "start_time": "2022-02-04T10:30:07.691480",
     "status": "completed"
    },
    "tags": []
   },
   "outputs": [],
   "source": [
    "from sklearn.metrics import balanced_accuracy_score,f1_score\n",
    "import zipfile\n",
    "import numpy as np\n",
    "from glob import glob\n",
    "import matplotlib.pyplot as plt\n",
    "import torch\n",
    "import torch.nn as nn\n",
    "\n",
    "from torchvision import datasets, transforms as T\n",
    "from efficientnet_pytorch import EfficientNet\n",
    "import os\n",
    "import torch.optim as optim\n",
    "from PIL import ImageFile\n",
    "from sklearn.metrics import accuracy_score\n",
    "from PIL import Image\n",
    "import PIL"
   ]
  },
  {
   "cell_type": "code",
   "execution_count": null,
   "id": "2f71bfde",
   "metadata": {
    "papermill": {
     "duration": 0.102037,
     "end_time": "2022-02-04T10:30:08.980010",
     "exception": false,
     "start_time": "2022-02-04T10:30:08.877973",
     "status": "completed"
    },
    "tags": []
   },
   "outputs": [],
   "source": []
  },
  {
   "cell_type": "code",
   "execution_count": 4,
   "id": "85fd69dd",
   "metadata": {
    "execution": {
     "iopub.execute_input": "2022-02-04T10:30:09.203922Z",
     "iopub.status.busy": "2022-02-04T10:30:09.202869Z",
     "iopub.status.idle": "2022-02-04T10:30:09.205606Z",
     "shell.execute_reply": "2022-02-04T10:30:09.206112Z",
     "shell.execute_reply.started": "2022-02-03T18:59:25.50534Z"
    },
    "papermill": {
     "duration": 0.111038,
     "end_time": "2022-02-04T10:30:09.206303",
     "exception": false,
     "start_time": "2022-02-04T10:30:09.095265",
     "status": "completed"
    },
    "tags": []
   },
   "outputs": [],
   "source": [
    "from PIL import Image\n",
    "import PIL"
   ]
  },
  {
   "cell_type": "code",
   "execution_count": 5,
   "id": "8eb5095b",
   "metadata": {
    "execution": {
     "iopub.execute_input": "2022-02-04T10:30:09.417144Z",
     "iopub.status.busy": "2022-02-04T10:30:09.415971Z",
     "iopub.status.idle": "2022-02-04T10:30:09.418391Z",
     "shell.execute_reply": "2022-02-04T10:30:09.418947Z",
     "shell.execute_reply.started": "2022-02-03T18:59:25.511206Z"
    },
    "papermill": {
     "duration": 0.110627,
     "end_time": "2022-02-04T10:30:09.419134",
     "exception": false,
     "start_time": "2022-02-04T10:30:09.308507",
     "status": "completed"
    },
    "tags": []
   },
   "outputs": [],
   "source": [
    "data_folder=\"../input/stylumia-complete/\""
   ]
  },
  {
   "cell_type": "code",
   "execution_count": 6,
   "id": "cb36e34c",
   "metadata": {
    "execution": {
     "iopub.execute_input": "2022-02-04T10:30:09.631183Z",
     "iopub.status.busy": "2022-02-04T10:30:09.630489Z",
     "iopub.status.idle": "2022-02-04T10:30:09.686116Z",
     "shell.execute_reply": "2022-02-04T10:30:09.685532Z",
     "shell.execute_reply.started": "2022-02-03T18:59:25.520779Z"
    },
    "papermill": {
     "duration": 0.16359,
     "end_time": "2022-02-04T10:30:09.686274",
     "exception": false,
     "start_time": "2022-02-04T10:30:09.522684",
     "status": "completed"
    },
    "tags": []
   },
   "outputs": [],
   "source": [
    "train_file=pd.read_csv(os.path.join(data_folder+'train_label.csv'))"
   ]
  },
  {
   "cell_type": "code",
   "execution_count": 7,
   "id": "81a04fa0",
   "metadata": {
    "execution": {
     "iopub.execute_input": "2022-02-04T10:30:09.899051Z",
     "iopub.status.busy": "2022-02-04T10:30:09.897915Z",
     "iopub.status.idle": "2022-02-04T10:30:09.910200Z",
     "shell.execute_reply": "2022-02-04T10:30:09.909635Z",
     "shell.execute_reply.started": "2022-02-03T18:59:25.570831Z"
    },
    "papermill": {
     "duration": 0.121135,
     "end_time": "2022-02-04T10:30:09.910379",
     "exception": false,
     "start_time": "2022-02-04T10:30:09.789244",
     "status": "completed"
    },
    "tags": []
   },
   "outputs": [],
   "source": [
    "train_file = train_file.sample(frac=1).reset_index(drop=True)"
   ]
  },
  {
   "cell_type": "code",
   "execution_count": 8,
   "id": "cb64ff3c",
   "metadata": {
    "execution": {
     "iopub.execute_input": "2022-02-04T10:30:10.127529Z",
     "iopub.status.busy": "2022-02-04T10:30:10.126353Z",
     "iopub.status.idle": "2022-02-04T10:30:10.141311Z",
     "shell.execute_reply": "2022-02-04T10:30:10.141912Z",
     "shell.execute_reply.started": "2022-02-03T18:59:25.587443Z"
    },
    "papermill": {
     "duration": 0.127769,
     "end_time": "2022-02-04T10:30:10.142138",
     "exception": false,
     "start_time": "2022-02-04T10:30:10.014369",
     "status": "completed"
    },
    "tags": []
   },
   "outputs": [
    {
     "data": {
      "text/html": [
       "<div>\n",
       "<style scoped>\n",
       "    .dataframe tbody tr th:only-of-type {\n",
       "        vertical-align: middle;\n",
       "    }\n",
       "\n",
       "    .dataframe tbody tr th {\n",
       "        vertical-align: top;\n",
       "    }\n",
       "\n",
       "    .dataframe thead th {\n",
       "        text-align: right;\n",
       "    }\n",
       "</style>\n",
       "<table border=\"1\" class=\"dataframe\">\n",
       "  <thead>\n",
       "    <tr style=\"text-align: right;\">\n",
       "      <th></th>\n",
       "      <th>file_name</th>\n",
       "      <th>label</th>\n",
       "    </tr>\n",
       "  </thead>\n",
       "  <tbody>\n",
       "    <tr>\n",
       "      <th>0</th>\n",
       "      <td>Image_000239.jpg</td>\n",
       "      <td>8</td>\n",
       "    </tr>\n",
       "    <tr>\n",
       "      <th>1</th>\n",
       "      <td>Image_007203.jpg</td>\n",
       "      <td>5</td>\n",
       "    </tr>\n",
       "    <tr>\n",
       "      <th>2</th>\n",
       "      <td>Image_030834.jpg</td>\n",
       "      <td>4</td>\n",
       "    </tr>\n",
       "    <tr>\n",
       "      <th>3</th>\n",
       "      <td>Image_016470.jpg</td>\n",
       "      <td>2</td>\n",
       "    </tr>\n",
       "    <tr>\n",
       "      <th>4</th>\n",
       "      <td>Image_014467.jpg</td>\n",
       "      <td>2</td>\n",
       "    </tr>\n",
       "    <tr>\n",
       "      <th>...</th>\n",
       "      <td>...</td>\n",
       "      <td>...</td>\n",
       "    </tr>\n",
       "    <tr>\n",
       "      <th>31744</th>\n",
       "      <td>Image_001944.jpg</td>\n",
       "      <td>8</td>\n",
       "    </tr>\n",
       "    <tr>\n",
       "      <th>31745</th>\n",
       "      <td>Image_010434.jpg</td>\n",
       "      <td>3</td>\n",
       "    </tr>\n",
       "    <tr>\n",
       "      <th>31746</th>\n",
       "      <td>Image_011908.jpg</td>\n",
       "      <td>0</td>\n",
       "    </tr>\n",
       "    <tr>\n",
       "      <th>31747</th>\n",
       "      <td>Image_010432.jpg</td>\n",
       "      <td>3</td>\n",
       "    </tr>\n",
       "    <tr>\n",
       "      <th>31748</th>\n",
       "      <td>Image_011736.jpg</td>\n",
       "      <td>0</td>\n",
       "    </tr>\n",
       "  </tbody>\n",
       "</table>\n",
       "<p>31749 rows × 2 columns</p>\n",
       "</div>"
      ],
      "text/plain": [
       "              file_name  label\n",
       "0      Image_000239.jpg      8\n",
       "1      Image_007203.jpg      5\n",
       "2      Image_030834.jpg      4\n",
       "3      Image_016470.jpg      2\n",
       "4      Image_014467.jpg      2\n",
       "...                 ...    ...\n",
       "31744  Image_001944.jpg      8\n",
       "31745  Image_010434.jpg      3\n",
       "31746  Image_011908.jpg      0\n",
       "31747  Image_010432.jpg      3\n",
       "31748  Image_011736.jpg      0\n",
       "\n",
       "[31749 rows x 2 columns]"
      ]
     },
     "execution_count": 8,
     "metadata": {},
     "output_type": "execute_result"
    }
   ],
   "source": [
    "train_file"
   ]
  },
  {
   "cell_type": "code",
   "execution_count": 9,
   "id": "dbe89259",
   "metadata": {
    "execution": {
     "iopub.execute_input": "2022-02-04T10:30:10.357584Z",
     "iopub.status.busy": "2022-02-04T10:30:10.356637Z",
     "iopub.status.idle": "2022-02-04T10:30:10.364016Z",
     "shell.execute_reply": "2022-02-04T10:30:10.364594Z",
     "shell.execute_reply.started": "2022-02-03T18:59:25.60762Z"
    },
    "papermill": {
     "duration": 0.120212,
     "end_time": "2022-02-04T10:30:10.364788",
     "exception": false,
     "start_time": "2022-02-04T10:30:10.244576",
     "status": "completed"
    },
    "tags": []
   },
   "outputs": [
    {
     "data": {
      "text/plain": [
       "8"
      ]
     },
     "execution_count": 9,
     "metadata": {},
     "output_type": "execute_result"
    }
   ],
   "source": [
    "train_file.loc[0,'label']"
   ]
  },
  {
   "cell_type": "code",
   "execution_count": null,
   "id": "9c5064ca",
   "metadata": {
    "papermill": {
     "duration": 0.10276,
     "end_time": "2022-02-04T10:30:10.573212",
     "exception": false,
     "start_time": "2022-02-04T10:30:10.470452",
     "status": "completed"
    },
    "tags": []
   },
   "outputs": [],
   "source": []
  },
  {
   "cell_type": "code",
   "execution_count": 10,
   "id": "a13db634",
   "metadata": {
    "execution": {
     "iopub.execute_input": "2022-02-04T10:30:10.792752Z",
     "iopub.status.busy": "2022-02-04T10:30:10.791834Z",
     "iopub.status.idle": "2022-02-04T10:30:10.795754Z",
     "shell.execute_reply": "2022-02-04T10:30:10.796305Z",
     "shell.execute_reply.started": "2022-02-03T18:59:25.622145Z"
    },
    "papermill": {
     "duration": 0.119958,
     "end_time": "2022-02-04T10:30:10.796508",
     "exception": false,
     "start_time": "2022-02-04T10:30:10.676550",
     "status": "completed"
    },
    "tags": []
   },
   "outputs": [
    {
     "data": {
      "text/html": [
       "<div>\n",
       "<style scoped>\n",
       "    .dataframe tbody tr th:only-of-type {\n",
       "        vertical-align: middle;\n",
       "    }\n",
       "\n",
       "    .dataframe tbody tr th {\n",
       "        vertical-align: top;\n",
       "    }\n",
       "\n",
       "    .dataframe thead th {\n",
       "        text-align: right;\n",
       "    }\n",
       "</style>\n",
       "<table border=\"1\" class=\"dataframe\">\n",
       "  <thead>\n",
       "    <tr style=\"text-align: right;\">\n",
       "      <th></th>\n",
       "      <th>file_name</th>\n",
       "      <th>label</th>\n",
       "    </tr>\n",
       "  </thead>\n",
       "  <tbody>\n",
       "    <tr>\n",
       "      <th>0</th>\n",
       "      <td>Image_000239.jpg</td>\n",
       "      <td>8</td>\n",
       "    </tr>\n",
       "    <tr>\n",
       "      <th>1</th>\n",
       "      <td>Image_007203.jpg</td>\n",
       "      <td>5</td>\n",
       "    </tr>\n",
       "    <tr>\n",
       "      <th>2</th>\n",
       "      <td>Image_030834.jpg</td>\n",
       "      <td>4</td>\n",
       "    </tr>\n",
       "    <tr>\n",
       "      <th>3</th>\n",
       "      <td>Image_016470.jpg</td>\n",
       "      <td>2</td>\n",
       "    </tr>\n",
       "    <tr>\n",
       "      <th>4</th>\n",
       "      <td>Image_014467.jpg</td>\n",
       "      <td>2</td>\n",
       "    </tr>\n",
       "    <tr>\n",
       "      <th>...</th>\n",
       "      <td>...</td>\n",
       "      <td>...</td>\n",
       "    </tr>\n",
       "    <tr>\n",
       "      <th>31744</th>\n",
       "      <td>Image_001944.jpg</td>\n",
       "      <td>8</td>\n",
       "    </tr>\n",
       "    <tr>\n",
       "      <th>31745</th>\n",
       "      <td>Image_010434.jpg</td>\n",
       "      <td>3</td>\n",
       "    </tr>\n",
       "    <tr>\n",
       "      <th>31746</th>\n",
       "      <td>Image_011908.jpg</td>\n",
       "      <td>0</td>\n",
       "    </tr>\n",
       "    <tr>\n",
       "      <th>31747</th>\n",
       "      <td>Image_010432.jpg</td>\n",
       "      <td>3</td>\n",
       "    </tr>\n",
       "    <tr>\n",
       "      <th>31748</th>\n",
       "      <td>Image_011736.jpg</td>\n",
       "      <td>0</td>\n",
       "    </tr>\n",
       "  </tbody>\n",
       "</table>\n",
       "<p>31749 rows × 2 columns</p>\n",
       "</div>"
      ],
      "text/plain": [
       "              file_name  label\n",
       "0      Image_000239.jpg      8\n",
       "1      Image_007203.jpg      5\n",
       "2      Image_030834.jpg      4\n",
       "3      Image_016470.jpg      2\n",
       "4      Image_014467.jpg      2\n",
       "...                 ...    ...\n",
       "31744  Image_001944.jpg      8\n",
       "31745  Image_010434.jpg      3\n",
       "31746  Image_011908.jpg      0\n",
       "31747  Image_010432.jpg      3\n",
       "31748  Image_011736.jpg      0\n",
       "\n",
       "[31749 rows x 2 columns]"
      ]
     },
     "execution_count": 10,
     "metadata": {},
     "output_type": "execute_result"
    }
   ],
   "source": [
    "train_file"
   ]
  },
  {
   "cell_type": "code",
   "execution_count": 11,
   "id": "61317165",
   "metadata": {
    "execution": {
     "iopub.execute_input": "2022-02-04T10:30:11.016172Z",
     "iopub.status.busy": "2022-02-04T10:30:11.013995Z",
     "iopub.status.idle": "2022-02-04T10:30:11.018882Z",
     "shell.execute_reply": "2022-02-04T10:30:11.018290Z",
     "shell.execute_reply.started": "2022-02-03T18:59:25.634397Z"
    },
    "papermill": {
     "duration": 0.118789,
     "end_time": "2022-02-04T10:30:11.019051",
     "exception": false,
     "start_time": "2022-02-04T10:30:10.900262",
     "status": "completed"
    },
    "tags": []
   },
   "outputs": [
    {
     "data": {
      "text/plain": [
       "6     6285\n",
       "3     4139\n",
       "9     3933\n",
       "7     3664\n",
       "2     2778\n",
       "5     2433\n",
       "8     2338\n",
       "0     2166\n",
       "4     2052\n",
       "10    1039\n",
       "1      922\n",
       "Name: label, dtype: int64"
      ]
     },
     "execution_count": 11,
     "metadata": {},
     "output_type": "execute_result"
    }
   ],
   "source": [
    "train_file['label'].value_counts()"
   ]
  },
  {
   "cell_type": "code",
   "execution_count": 12,
   "id": "a7e9cd09",
   "metadata": {
    "execution": {
     "iopub.execute_input": "2022-02-04T10:30:11.233825Z",
     "iopub.status.busy": "2022-02-04T10:30:11.232722Z",
     "iopub.status.idle": "2022-02-04T10:30:11.234924Z",
     "shell.execute_reply": "2022-02-04T10:30:11.235537Z",
     "shell.execute_reply.started": "2022-02-03T18:59:25.645139Z"
    },
    "papermill": {
     "duration": 0.112388,
     "end_time": "2022-02-04T10:30:11.235719",
     "exception": false,
     "start_time": "2022-02-04T10:30:11.123331",
     "status": "completed"
    },
    "tags": []
   },
   "outputs": [],
   "source": [
    "val_split_index = int(np.floor(0.2 * len(train_file)))"
   ]
  },
  {
   "cell_type": "code",
   "execution_count": 13,
   "id": "755cb981",
   "metadata": {
    "execution": {
     "iopub.execute_input": "2022-02-04T10:30:11.450127Z",
     "iopub.status.busy": "2022-02-04T10:30:11.449292Z",
     "iopub.status.idle": "2022-02-04T10:30:11.452986Z",
     "shell.execute_reply": "2022-02-04T10:30:11.453655Z",
     "shell.execute_reply.started": "2022-02-03T18:59:25.651503Z"
    },
    "papermill": {
     "duration": 0.114496,
     "end_time": "2022-02-04T10:30:11.453936",
     "exception": false,
     "start_time": "2022-02-04T10:30:11.339440",
     "status": "completed"
    },
    "tags": []
   },
   "outputs": [
    {
     "data": {
      "text/plain": [
       "6349"
      ]
     },
     "execution_count": 13,
     "metadata": {},
     "output_type": "execute_result"
    }
   ],
   "source": [
    "val_split_index"
   ]
  },
  {
   "cell_type": "code",
   "execution_count": 14,
   "id": "d5984a60",
   "metadata": {
    "execution": {
     "iopub.execute_input": "2022-02-04T10:30:11.669115Z",
     "iopub.status.busy": "2022-02-04T10:30:11.667845Z",
     "iopub.status.idle": "2022-02-04T10:30:11.670134Z",
     "shell.execute_reply": "2022-02-04T10:30:11.670716Z",
     "shell.execute_reply.started": "2022-02-03T18:59:25.661952Z"
    },
    "papermill": {
     "duration": 0.11213,
     "end_time": "2022-02-04T10:30:11.670914",
     "exception": false,
     "start_time": "2022-02-04T10:30:11.558784",
     "status": "completed"
    },
    "tags": []
   },
   "outputs": [],
   "source": [
    "val_df=train_file.loc[:val_split_index]\n",
    "train_df=train_file.loc[val_split_index:]"
   ]
  },
  {
   "cell_type": "code",
   "execution_count": 15,
   "id": "08d35726",
   "metadata": {
    "execution": {
     "iopub.execute_input": "2022-02-04T10:30:11.893194Z",
     "iopub.status.busy": "2022-02-04T10:30:11.892286Z",
     "iopub.status.idle": "2022-02-04T10:30:11.896101Z",
     "shell.execute_reply": "2022-02-04T10:30:11.896674Z",
     "shell.execute_reply.started": "2022-02-03T18:59:25.669752Z"
    },
    "papermill": {
     "duration": 0.12172,
     "end_time": "2022-02-04T10:30:11.896863",
     "exception": false,
     "start_time": "2022-02-04T10:30:11.775143",
     "status": "completed"
    },
    "tags": []
   },
   "outputs": [
    {
     "data": {
      "text/html": [
       "<div>\n",
       "<style scoped>\n",
       "    .dataframe tbody tr th:only-of-type {\n",
       "        vertical-align: middle;\n",
       "    }\n",
       "\n",
       "    .dataframe tbody tr th {\n",
       "        vertical-align: top;\n",
       "    }\n",
       "\n",
       "    .dataframe thead th {\n",
       "        text-align: right;\n",
       "    }\n",
       "</style>\n",
       "<table border=\"1\" class=\"dataframe\">\n",
       "  <thead>\n",
       "    <tr style=\"text-align: right;\">\n",
       "      <th></th>\n",
       "      <th>file_name</th>\n",
       "      <th>label</th>\n",
       "    </tr>\n",
       "  </thead>\n",
       "  <tbody>\n",
       "    <tr>\n",
       "      <th>0</th>\n",
       "      <td>Image_000239.jpg</td>\n",
       "      <td>8</td>\n",
       "    </tr>\n",
       "    <tr>\n",
       "      <th>1</th>\n",
       "      <td>Image_007203.jpg</td>\n",
       "      <td>5</td>\n",
       "    </tr>\n",
       "    <tr>\n",
       "      <th>2</th>\n",
       "      <td>Image_030834.jpg</td>\n",
       "      <td>4</td>\n",
       "    </tr>\n",
       "    <tr>\n",
       "      <th>3</th>\n",
       "      <td>Image_016470.jpg</td>\n",
       "      <td>2</td>\n",
       "    </tr>\n",
       "    <tr>\n",
       "      <th>4</th>\n",
       "      <td>Image_014467.jpg</td>\n",
       "      <td>2</td>\n",
       "    </tr>\n",
       "    <tr>\n",
       "      <th>...</th>\n",
       "      <td>...</td>\n",
       "      <td>...</td>\n",
       "    </tr>\n",
       "    <tr>\n",
       "      <th>6345</th>\n",
       "      <td>Image_013768.jpg</td>\n",
       "      <td>10</td>\n",
       "    </tr>\n",
       "    <tr>\n",
       "      <th>6346</th>\n",
       "      <td>Image_028841.jpg</td>\n",
       "      <td>9</td>\n",
       "    </tr>\n",
       "    <tr>\n",
       "      <th>6347</th>\n",
       "      <td>Image_018507.jpg</td>\n",
       "      <td>4</td>\n",
       "    </tr>\n",
       "    <tr>\n",
       "      <th>6348</th>\n",
       "      <td>Image_010563.jpg</td>\n",
       "      <td>3</td>\n",
       "    </tr>\n",
       "    <tr>\n",
       "      <th>6349</th>\n",
       "      <td>Image_019584.jpg</td>\n",
       "      <td>6</td>\n",
       "    </tr>\n",
       "  </tbody>\n",
       "</table>\n",
       "<p>6350 rows × 2 columns</p>\n",
       "</div>"
      ],
      "text/plain": [
       "             file_name  label\n",
       "0     Image_000239.jpg      8\n",
       "1     Image_007203.jpg      5\n",
       "2     Image_030834.jpg      4\n",
       "3     Image_016470.jpg      2\n",
       "4     Image_014467.jpg      2\n",
       "...                ...    ...\n",
       "6345  Image_013768.jpg     10\n",
       "6346  Image_028841.jpg      9\n",
       "6347  Image_018507.jpg      4\n",
       "6348  Image_010563.jpg      3\n",
       "6349  Image_019584.jpg      6\n",
       "\n",
       "[6350 rows x 2 columns]"
      ]
     },
     "execution_count": 15,
     "metadata": {},
     "output_type": "execute_result"
    }
   ],
   "source": [
    "val_df"
   ]
  },
  {
   "cell_type": "code",
   "execution_count": 16,
   "id": "a28dbabf",
   "metadata": {
    "execution": {
     "iopub.execute_input": "2022-02-04T10:30:12.116473Z",
     "iopub.status.busy": "2022-02-04T10:30:12.115489Z",
     "iopub.status.idle": "2022-02-04T10:30:12.123074Z",
     "shell.execute_reply": "2022-02-04T10:30:12.122474Z",
     "shell.execute_reply.started": "2022-02-03T18:59:25.684458Z"
    },
    "papermill": {
     "duration": 0.121964,
     "end_time": "2022-02-04T10:30:12.123229",
     "exception": false,
     "start_time": "2022-02-04T10:30:12.001265",
     "status": "completed"
    },
    "tags": []
   },
   "outputs": [],
   "source": [
    "train_df=train_df.sample(frac=1).reset_index(drop=True)"
   ]
  },
  {
   "cell_type": "code",
   "execution_count": 17,
   "id": "29cfdbb9",
   "metadata": {
    "execution": {
     "iopub.execute_input": "2022-02-04T10:30:12.346222Z",
     "iopub.status.busy": "2022-02-04T10:30:12.340532Z",
     "iopub.status.idle": "2022-02-04T10:30:12.351771Z",
     "shell.execute_reply": "2022-02-04T10:30:12.352318Z",
     "shell.execute_reply.started": "2022-02-03T18:59:25.696784Z"
    },
    "papermill": {
     "duration": 0.125017,
     "end_time": "2022-02-04T10:30:12.352782",
     "exception": false,
     "start_time": "2022-02-04T10:30:12.227765",
     "status": "completed"
    },
    "tags": []
   },
   "outputs": [
    {
     "data": {
      "text/html": [
       "<div>\n",
       "<style scoped>\n",
       "    .dataframe tbody tr th:only-of-type {\n",
       "        vertical-align: middle;\n",
       "    }\n",
       "\n",
       "    .dataframe tbody tr th {\n",
       "        vertical-align: top;\n",
       "    }\n",
       "\n",
       "    .dataframe thead th {\n",
       "        text-align: right;\n",
       "    }\n",
       "</style>\n",
       "<table border=\"1\" class=\"dataframe\">\n",
       "  <thead>\n",
       "    <tr style=\"text-align: right;\">\n",
       "      <th></th>\n",
       "      <th>file_name</th>\n",
       "      <th>label</th>\n",
       "    </tr>\n",
       "  </thead>\n",
       "  <tbody>\n",
       "    <tr>\n",
       "      <th>0</th>\n",
       "      <td>Image_024748.jpg</td>\n",
       "      <td>6</td>\n",
       "    </tr>\n",
       "    <tr>\n",
       "      <th>1</th>\n",
       "      <td>Image_012816.jpg</td>\n",
       "      <td>0</td>\n",
       "    </tr>\n",
       "    <tr>\n",
       "      <th>2</th>\n",
       "      <td>Image_021454.jpg</td>\n",
       "      <td>6</td>\n",
       "    </tr>\n",
       "    <tr>\n",
       "      <th>3</th>\n",
       "      <td>Image_022408.jpg</td>\n",
       "      <td>6</td>\n",
       "    </tr>\n",
       "    <tr>\n",
       "      <th>4</th>\n",
       "      <td>Image_003678.jpg</td>\n",
       "      <td>9</td>\n",
       "    </tr>\n",
       "    <tr>\n",
       "      <th>...</th>\n",
       "      <td>...</td>\n",
       "      <td>...</td>\n",
       "    </tr>\n",
       "    <tr>\n",
       "      <th>25395</th>\n",
       "      <td>Image_015864.jpg</td>\n",
       "      <td>2</td>\n",
       "    </tr>\n",
       "    <tr>\n",
       "      <th>25396</th>\n",
       "      <td>Image_028009.jpg</td>\n",
       "      <td>7</td>\n",
       "    </tr>\n",
       "    <tr>\n",
       "      <th>25397</th>\n",
       "      <td>Image_004611.jpg</td>\n",
       "      <td>9</td>\n",
       "    </tr>\n",
       "    <tr>\n",
       "      <th>25398</th>\n",
       "      <td>Image_030979.jpg</td>\n",
       "      <td>1</td>\n",
       "    </tr>\n",
       "    <tr>\n",
       "      <th>25399</th>\n",
       "      <td>Image_014597.jpg</td>\n",
       "      <td>2</td>\n",
       "    </tr>\n",
       "  </tbody>\n",
       "</table>\n",
       "<p>25400 rows × 2 columns</p>\n",
       "</div>"
      ],
      "text/plain": [
       "              file_name  label\n",
       "0      Image_024748.jpg      6\n",
       "1      Image_012816.jpg      0\n",
       "2      Image_021454.jpg      6\n",
       "3      Image_022408.jpg      6\n",
       "4      Image_003678.jpg      9\n",
       "...                 ...    ...\n",
       "25395  Image_015864.jpg      2\n",
       "25396  Image_028009.jpg      7\n",
       "25397  Image_004611.jpg      9\n",
       "25398  Image_030979.jpg      1\n",
       "25399  Image_014597.jpg      2\n",
       "\n",
       "[25400 rows x 2 columns]"
      ]
     },
     "execution_count": 17,
     "metadata": {},
     "output_type": "execute_result"
    }
   ],
   "source": [
    "train_df"
   ]
  },
  {
   "cell_type": "code",
   "execution_count": 18,
   "id": "84eaeec0",
   "metadata": {
    "execution": {
     "iopub.execute_input": "2022-02-04T10:30:12.578663Z",
     "iopub.status.busy": "2022-02-04T10:30:12.577792Z",
     "iopub.status.idle": "2022-02-04T10:30:12.581675Z",
     "shell.execute_reply": "2022-02-04T10:30:12.581091Z",
     "shell.execute_reply.started": "2022-02-03T18:59:25.710937Z"
    },
    "papermill": {
     "duration": 0.121718,
     "end_time": "2022-02-04T10:30:12.581833",
     "exception": false,
     "start_time": "2022-02-04T10:30:12.460115",
     "status": "completed"
    },
    "tags": []
   },
   "outputs": [],
   "source": [
    "targets,count=np.unique(train_df['label'],return_counts=True)"
   ]
  },
  {
   "cell_type": "code",
   "execution_count": null,
   "id": "06ed142e",
   "metadata": {
    "papermill": {
     "duration": 0.106944,
     "end_time": "2022-02-04T10:30:12.796659",
     "exception": false,
     "start_time": "2022-02-04T10:30:12.689715",
     "status": "completed"
    },
    "tags": []
   },
   "outputs": [],
   "source": []
  },
  {
   "cell_type": "code",
   "execution_count": 19,
   "id": "d218a779",
   "metadata": {
    "execution": {
     "iopub.execute_input": "2022-02-04T10:30:13.017114Z",
     "iopub.status.busy": "2022-02-04T10:30:13.016238Z",
     "iopub.status.idle": "2022-02-04T10:30:13.019862Z",
     "shell.execute_reply": "2022-02-04T10:30:13.020409Z",
     "shell.execute_reply.started": "2022-02-03T18:59:25.718207Z"
    },
    "papermill": {
     "duration": 0.115287,
     "end_time": "2022-02-04T10:30:13.020606",
     "exception": false,
     "start_time": "2022-02-04T10:30:12.905319",
     "status": "completed"
    },
    "tags": []
   },
   "outputs": [
    {
     "data": {
      "text/plain": [
       "array([ 0,  1,  2,  3,  4,  5,  6,  7,  8,  9, 10])"
      ]
     },
     "execution_count": 19,
     "metadata": {},
     "output_type": "execute_result"
    }
   ],
   "source": [
    "targets"
   ]
  },
  {
   "cell_type": "code",
   "execution_count": 20,
   "id": "e5ba2dc6",
   "metadata": {
    "execution": {
     "iopub.execute_input": "2022-02-04T10:30:13.431136Z",
     "iopub.status.busy": "2022-02-04T10:30:13.429998Z",
     "iopub.status.idle": "2022-02-04T10:30:13.437447Z",
     "shell.execute_reply": "2022-02-04T10:30:13.436594Z",
     "shell.execute_reply.started": "2022-02-03T18:59:25.728456Z"
    },
    "papermill": {
     "duration": 0.207862,
     "end_time": "2022-02-04T10:30:13.437667",
     "exception": false,
     "start_time": "2022-02-04T10:30:13.229805",
     "status": "completed"
    },
    "tags": []
   },
   "outputs": [
    {
     "data": {
      "text/plain": [
       "array([1721,  741, 2234, 3331, 1627, 1937, 5043, 2925, 1852, 3131,  858])"
      ]
     },
     "execution_count": 20,
     "metadata": {},
     "output_type": "execute_result"
    }
   ],
   "source": [
    "count"
   ]
  },
  {
   "cell_type": "code",
   "execution_count": 21,
   "id": "3d9fd76c",
   "metadata": {
    "execution": {
     "iopub.execute_input": "2022-02-04T10:30:13.779079Z",
     "iopub.status.busy": "2022-02-04T10:30:13.777973Z",
     "iopub.status.idle": "2022-02-04T10:30:13.780436Z",
     "shell.execute_reply": "2022-02-04T10:30:13.781016Z",
     "shell.execute_reply.started": "2022-02-03T18:59:25.736663Z"
    },
    "papermill": {
     "duration": 0.160211,
     "end_time": "2022-02-04T10:30:13.781206",
     "exception": false,
     "start_time": "2022-02-04T10:30:13.620995",
     "status": "completed"
    },
    "tags": []
   },
   "outputs": [],
   "source": [
    "weights=[sum(count)/c for c in count]"
   ]
  },
  {
   "cell_type": "code",
   "execution_count": 22,
   "id": "899e8859",
   "metadata": {
    "execution": {
     "iopub.execute_input": "2022-02-04T10:30:14.003377Z",
     "iopub.status.busy": "2022-02-04T10:30:14.002480Z",
     "iopub.status.idle": "2022-02-04T10:30:14.006322Z",
     "shell.execute_reply": "2022-02-04T10:30:14.006884Z",
     "shell.execute_reply.started": "2022-02-03T18:59:25.744456Z"
    },
    "papermill": {
     "duration": 0.119779,
     "end_time": "2022-02-04T10:30:14.007079",
     "exception": false,
     "start_time": "2022-02-04T10:30:13.887300",
     "status": "completed"
    },
    "tags": []
   },
   "outputs": [
    {
     "data": {
      "text/plain": [
       "[14.758861127251597,\n",
       " 34.27800269905533,\n",
       " 11.369740376007162,\n",
       " 7.625337736415491,\n",
       " 15.611555009219423,\n",
       " 13.113061435209087,\n",
       " 5.036684513186596,\n",
       " 8.683760683760683,\n",
       " 13.714902807775378,\n",
       " 8.11242414564037,\n",
       " 29.603729603729604]"
      ]
     },
     "execution_count": 22,
     "metadata": {},
     "output_type": "execute_result"
    }
   ],
   "source": [
    "weights"
   ]
  },
  {
   "cell_type": "code",
   "execution_count": 23,
   "id": "aa80ea17",
   "metadata": {
    "execution": {
     "iopub.execute_input": "2022-02-04T10:30:14.235919Z",
     "iopub.status.busy": "2022-02-04T10:30:14.234772Z",
     "iopub.status.idle": "2022-02-04T10:30:14.239850Z",
     "shell.execute_reply": "2022-02-04T10:30:14.239201Z",
     "shell.execute_reply.started": "2022-02-03T18:59:25.755006Z"
    },
    "papermill": {
     "duration": 0.123424,
     "end_time": "2022-02-04T10:30:14.240005",
     "exception": false,
     "start_time": "2022-02-04T10:30:14.116581",
     "status": "completed"
    },
    "tags": []
   },
   "outputs": [],
   "source": [
    "example_weights=[weights[e] for e in train_df['label']]"
   ]
  },
  {
   "cell_type": "code",
   "execution_count": 24,
   "id": "253707a6",
   "metadata": {
    "execution": {
     "iopub.execute_input": "2022-02-04T10:30:14.461517Z",
     "iopub.status.busy": "2022-02-04T10:30:14.460790Z",
     "iopub.status.idle": "2022-02-04T10:30:14.467277Z",
     "shell.execute_reply": "2022-02-04T10:30:14.466698Z",
     "shell.execute_reply.started": "2022-02-03T18:59:25.767563Z"
    },
    "papermill": {
     "duration": 0.120801,
     "end_time": "2022-02-04T10:30:14.467444",
     "exception": false,
     "start_time": "2022-02-04T10:30:14.346643",
     "status": "completed"
    },
    "tags": []
   },
   "outputs": [
    {
     "data": {
      "text/plain": [
       "25400"
      ]
     },
     "execution_count": 24,
     "metadata": {},
     "output_type": "execute_result"
    }
   ],
   "source": [
    "len(example_weights)"
   ]
  },
  {
   "cell_type": "code",
   "execution_count": null,
   "id": "0d28b6df",
   "metadata": {
    "papermill": {
     "duration": 0.105088,
     "end_time": "2022-02-04T10:30:14.679623",
     "exception": false,
     "start_time": "2022-02-04T10:30:14.574535",
     "status": "completed"
    },
    "tags": []
   },
   "outputs": [],
   "source": []
  },
  {
   "cell_type": "code",
   "execution_count": 25,
   "id": "b46ab9f4",
   "metadata": {
    "execution": {
     "iopub.execute_input": "2022-02-04T10:30:14.904848Z",
     "iopub.status.busy": "2022-02-04T10:30:14.903897Z",
     "iopub.status.idle": "2022-02-04T10:30:14.908130Z",
     "shell.execute_reply": "2022-02-04T10:30:14.907571Z",
     "shell.execute_reply.started": "2022-02-03T18:59:25.776223Z"
    },
    "papermill": {
     "duration": 0.121347,
     "end_time": "2022-02-04T10:30:14.908284",
     "exception": false,
     "start_time": "2022-02-04T10:30:14.786937",
     "status": "completed"
    },
    "tags": []
   },
   "outputs": [],
   "source": [
    "sampler=WeightedRandomSampler(example_weights,len(train_df['label']),replacement=True)"
   ]
  },
  {
   "cell_type": "code",
   "execution_count": 26,
   "id": "3b3ebbd0",
   "metadata": {
    "execution": {
     "iopub.execute_input": "2022-02-04T10:30:15.128516Z",
     "iopub.status.busy": "2022-02-04T10:30:15.127635Z",
     "iopub.status.idle": "2022-02-04T10:30:15.131261Z",
     "shell.execute_reply": "2022-02-04T10:30:15.131848Z",
     "shell.execute_reply.started": "2022-02-03T18:59:25.788937Z"
    },
    "papermill": {
     "duration": 0.116476,
     "end_time": "2022-02-04T10:30:15.132034",
     "exception": false,
     "start_time": "2022-02-04T10:30:15.015558",
     "status": "completed"
    },
    "tags": []
   },
   "outputs": [
    {
     "data": {
      "text/plain": [
       "<torch.utils.data.sampler.WeightedRandomSampler at 0x7f709c98f450>"
      ]
     },
     "execution_count": 26,
     "metadata": {},
     "output_type": "execute_result"
    }
   ],
   "source": [
    "sampler"
   ]
  },
  {
   "cell_type": "code",
   "execution_count": 27,
   "id": "6c777383",
   "metadata": {
    "execution": {
     "iopub.execute_input": "2022-02-04T10:30:15.356871Z",
     "iopub.status.busy": "2022-02-04T10:30:15.355699Z",
     "iopub.status.idle": "2022-02-04T10:30:15.366583Z",
     "shell.execute_reply": "2022-02-04T10:30:15.367251Z",
     "shell.execute_reply.started": "2022-02-03T18:59:25.799187Z"
    },
    "papermill": {
     "duration": 0.12812,
     "end_time": "2022-02-04T10:30:15.367490",
     "exception": false,
     "start_time": "2022-02-04T10:30:15.239370",
     "status": "completed"
    },
    "tags": []
   },
   "outputs": [
    {
     "data": {
      "text/html": [
       "<div>\n",
       "<style scoped>\n",
       "    .dataframe tbody tr th:only-of-type {\n",
       "        vertical-align: middle;\n",
       "    }\n",
       "\n",
       "    .dataframe tbody tr th {\n",
       "        vertical-align: top;\n",
       "    }\n",
       "\n",
       "    .dataframe thead th {\n",
       "        text-align: right;\n",
       "    }\n",
       "</style>\n",
       "<table border=\"1\" class=\"dataframe\">\n",
       "  <thead>\n",
       "    <tr style=\"text-align: right;\">\n",
       "      <th></th>\n",
       "      <th>file_name</th>\n",
       "      <th>label</th>\n",
       "    </tr>\n",
       "  </thead>\n",
       "  <tbody>\n",
       "    <tr>\n",
       "      <th>0</th>\n",
       "      <td>Image_024748.jpg</td>\n",
       "      <td>6</td>\n",
       "    </tr>\n",
       "    <tr>\n",
       "      <th>1</th>\n",
       "      <td>Image_012816.jpg</td>\n",
       "      <td>0</td>\n",
       "    </tr>\n",
       "    <tr>\n",
       "      <th>2</th>\n",
       "      <td>Image_021454.jpg</td>\n",
       "      <td>6</td>\n",
       "    </tr>\n",
       "    <tr>\n",
       "      <th>3</th>\n",
       "      <td>Image_022408.jpg</td>\n",
       "      <td>6</td>\n",
       "    </tr>\n",
       "    <tr>\n",
       "      <th>4</th>\n",
       "      <td>Image_003678.jpg</td>\n",
       "      <td>9</td>\n",
       "    </tr>\n",
       "    <tr>\n",
       "      <th>...</th>\n",
       "      <td>...</td>\n",
       "      <td>...</td>\n",
       "    </tr>\n",
       "    <tr>\n",
       "      <th>25395</th>\n",
       "      <td>Image_015864.jpg</td>\n",
       "      <td>2</td>\n",
       "    </tr>\n",
       "    <tr>\n",
       "      <th>25396</th>\n",
       "      <td>Image_028009.jpg</td>\n",
       "      <td>7</td>\n",
       "    </tr>\n",
       "    <tr>\n",
       "      <th>25397</th>\n",
       "      <td>Image_004611.jpg</td>\n",
       "      <td>9</td>\n",
       "    </tr>\n",
       "    <tr>\n",
       "      <th>25398</th>\n",
       "      <td>Image_030979.jpg</td>\n",
       "      <td>1</td>\n",
       "    </tr>\n",
       "    <tr>\n",
       "      <th>25399</th>\n",
       "      <td>Image_014597.jpg</td>\n",
       "      <td>2</td>\n",
       "    </tr>\n",
       "  </tbody>\n",
       "</table>\n",
       "<p>25400 rows × 2 columns</p>\n",
       "</div>"
      ],
      "text/plain": [
       "              file_name  label\n",
       "0      Image_024748.jpg      6\n",
       "1      Image_012816.jpg      0\n",
       "2      Image_021454.jpg      6\n",
       "3      Image_022408.jpg      6\n",
       "4      Image_003678.jpg      9\n",
       "...                 ...    ...\n",
       "25395  Image_015864.jpg      2\n",
       "25396  Image_028009.jpg      7\n",
       "25397  Image_004611.jpg      9\n",
       "25398  Image_030979.jpg      1\n",
       "25399  Image_014597.jpg      2\n",
       "\n",
       "[25400 rows x 2 columns]"
      ]
     },
     "execution_count": 27,
     "metadata": {},
     "output_type": "execute_result"
    }
   ],
   "source": [
    "train_df"
   ]
  },
  {
   "cell_type": "code",
   "execution_count": 28,
   "id": "c81e89a8",
   "metadata": {
    "execution": {
     "iopub.execute_input": "2022-02-04T10:30:15.594551Z",
     "iopub.status.busy": "2022-02-04T10:30:15.593635Z",
     "iopub.status.idle": "2022-02-04T10:30:15.597566Z",
     "shell.execute_reply": "2022-02-04T10:30:15.598107Z",
     "shell.execute_reply.started": "2022-02-03T18:59:25.816251Z"
    },
    "papermill": {
     "duration": 0.123859,
     "end_time": "2022-02-04T10:30:15.598292",
     "exception": false,
     "start_time": "2022-02-04T10:30:15.474433",
     "status": "completed"
    },
    "tags": []
   },
   "outputs": [
    {
     "data": {
      "text/html": [
       "<div>\n",
       "<style scoped>\n",
       "    .dataframe tbody tr th:only-of-type {\n",
       "        vertical-align: middle;\n",
       "    }\n",
       "\n",
       "    .dataframe tbody tr th {\n",
       "        vertical-align: top;\n",
       "    }\n",
       "\n",
       "    .dataframe thead th {\n",
       "        text-align: right;\n",
       "    }\n",
       "</style>\n",
       "<table border=\"1\" class=\"dataframe\">\n",
       "  <thead>\n",
       "    <tr style=\"text-align: right;\">\n",
       "      <th></th>\n",
       "      <th>file_name</th>\n",
       "      <th>label</th>\n",
       "    </tr>\n",
       "  </thead>\n",
       "  <tbody>\n",
       "    <tr>\n",
       "      <th>0</th>\n",
       "      <td>Image_000239.jpg</td>\n",
       "      <td>8</td>\n",
       "    </tr>\n",
       "    <tr>\n",
       "      <th>1</th>\n",
       "      <td>Image_007203.jpg</td>\n",
       "      <td>5</td>\n",
       "    </tr>\n",
       "    <tr>\n",
       "      <th>2</th>\n",
       "      <td>Image_030834.jpg</td>\n",
       "      <td>4</td>\n",
       "    </tr>\n",
       "    <tr>\n",
       "      <th>3</th>\n",
       "      <td>Image_016470.jpg</td>\n",
       "      <td>2</td>\n",
       "    </tr>\n",
       "    <tr>\n",
       "      <th>4</th>\n",
       "      <td>Image_014467.jpg</td>\n",
       "      <td>2</td>\n",
       "    </tr>\n",
       "    <tr>\n",
       "      <th>5</th>\n",
       "      <td>Image_004324.jpg</td>\n",
       "      <td>9</td>\n",
       "    </tr>\n",
       "    <tr>\n",
       "      <th>6</th>\n",
       "      <td>Image_015832.jpg</td>\n",
       "      <td>2</td>\n",
       "    </tr>\n",
       "    <tr>\n",
       "      <th>7</th>\n",
       "      <td>Image_004277.jpg</td>\n",
       "      <td>9</td>\n",
       "    </tr>\n",
       "    <tr>\n",
       "      <th>8</th>\n",
       "      <td>Image_008536.jpg</td>\n",
       "      <td>3</td>\n",
       "    </tr>\n",
       "    <tr>\n",
       "      <th>9</th>\n",
       "      <td>Image_029704.jpg</td>\n",
       "      <td>3</td>\n",
       "    </tr>\n",
       "    <tr>\n",
       "      <th>10</th>\n",
       "      <td>Image_000784.jpg</td>\n",
       "      <td>8</td>\n",
       "    </tr>\n",
       "    <tr>\n",
       "      <th>11</th>\n",
       "      <td>Image_003169.jpg</td>\n",
       "      <td>9</td>\n",
       "    </tr>\n",
       "    <tr>\n",
       "      <th>12</th>\n",
       "      <td>Image_009793.jpg</td>\n",
       "      <td>3</td>\n",
       "    </tr>\n",
       "    <tr>\n",
       "      <th>13</th>\n",
       "      <td>Image_022452.jpg</td>\n",
       "      <td>6</td>\n",
       "    </tr>\n",
       "    <tr>\n",
       "      <th>14</th>\n",
       "      <td>Image_023835.jpg</td>\n",
       "      <td>6</td>\n",
       "    </tr>\n",
       "    <tr>\n",
       "      <th>15</th>\n",
       "      <td>Image_012074.jpg</td>\n",
       "      <td>0</td>\n",
       "    </tr>\n",
       "    <tr>\n",
       "      <th>16</th>\n",
       "      <td>Image_020625.jpg</td>\n",
       "      <td>6</td>\n",
       "    </tr>\n",
       "    <tr>\n",
       "      <th>17</th>\n",
       "      <td>Image_007870.jpg</td>\n",
       "      <td>3</td>\n",
       "    </tr>\n",
       "    <tr>\n",
       "      <th>18</th>\n",
       "      <td>Image_021676.jpg</td>\n",
       "      <td>6</td>\n",
       "    </tr>\n",
       "    <tr>\n",
       "      <th>19</th>\n",
       "      <td>Image_015855.jpg</td>\n",
       "      <td>2</td>\n",
       "    </tr>\n",
       "    <tr>\n",
       "      <th>20</th>\n",
       "      <td>Image_018729.jpg</td>\n",
       "      <td>1</td>\n",
       "    </tr>\n",
       "    <tr>\n",
       "      <th>21</th>\n",
       "      <td>Image_013326.jpg</td>\n",
       "      <td>0</td>\n",
       "    </tr>\n",
       "    <tr>\n",
       "      <th>22</th>\n",
       "      <td>Image_009617.jpg</td>\n",
       "      <td>3</td>\n",
       "    </tr>\n",
       "    <tr>\n",
       "      <th>23</th>\n",
       "      <td>Image_028457.jpg</td>\n",
       "      <td>7</td>\n",
       "    </tr>\n",
       "    <tr>\n",
       "      <th>24</th>\n",
       "      <td>Image_026528.jpg</td>\n",
       "      <td>7</td>\n",
       "    </tr>\n",
       "    <tr>\n",
       "      <th>25</th>\n",
       "      <td>Image_001388.jpg</td>\n",
       "      <td>8</td>\n",
       "    </tr>\n",
       "    <tr>\n",
       "      <th>26</th>\n",
       "      <td>Image_011153.jpg</td>\n",
       "      <td>3</td>\n",
       "    </tr>\n",
       "    <tr>\n",
       "      <th>27</th>\n",
       "      <td>Image_026093.jpg</td>\n",
       "      <td>7</td>\n",
       "    </tr>\n",
       "    <tr>\n",
       "      <th>28</th>\n",
       "      <td>Image_017847.jpg</td>\n",
       "      <td>4</td>\n",
       "    </tr>\n",
       "    <tr>\n",
       "      <th>29</th>\n",
       "      <td>Image_029860.jpg</td>\n",
       "      <td>0</td>\n",
       "    </tr>\n",
       "    <tr>\n",
       "      <th>30</th>\n",
       "      <td>Image_004893.jpg</td>\n",
       "      <td>9</td>\n",
       "    </tr>\n",
       "    <tr>\n",
       "      <th>31</th>\n",
       "      <td>Image_019973.jpg</td>\n",
       "      <td>6</td>\n",
       "    </tr>\n",
       "  </tbody>\n",
       "</table>\n",
       "</div>"
      ],
      "text/plain": [
       "           file_name  label\n",
       "0   Image_000239.jpg      8\n",
       "1   Image_007203.jpg      5\n",
       "2   Image_030834.jpg      4\n",
       "3   Image_016470.jpg      2\n",
       "4   Image_014467.jpg      2\n",
       "5   Image_004324.jpg      9\n",
       "6   Image_015832.jpg      2\n",
       "7   Image_004277.jpg      9\n",
       "8   Image_008536.jpg      3\n",
       "9   Image_029704.jpg      3\n",
       "10  Image_000784.jpg      8\n",
       "11  Image_003169.jpg      9\n",
       "12  Image_009793.jpg      3\n",
       "13  Image_022452.jpg      6\n",
       "14  Image_023835.jpg      6\n",
       "15  Image_012074.jpg      0\n",
       "16  Image_020625.jpg      6\n",
       "17  Image_007870.jpg      3\n",
       "18  Image_021676.jpg      6\n",
       "19  Image_015855.jpg      2\n",
       "20  Image_018729.jpg      1\n",
       "21  Image_013326.jpg      0\n",
       "22  Image_009617.jpg      3\n",
       "23  Image_028457.jpg      7\n",
       "24  Image_026528.jpg      7\n",
       "25  Image_001388.jpg      8\n",
       "26  Image_011153.jpg      3\n",
       "27  Image_026093.jpg      7\n",
       "28  Image_017847.jpg      4\n",
       "29  Image_029860.jpg      0\n",
       "30  Image_004893.jpg      9\n",
       "31  Image_019973.jpg      6"
      ]
     },
     "execution_count": 28,
     "metadata": {},
     "output_type": "execute_result"
    }
   ],
   "source": [
    "val_df[:32]"
   ]
  },
  {
   "cell_type": "code",
   "execution_count": 29,
   "id": "76028066",
   "metadata": {
    "execution": {
     "iopub.execute_input": "2022-02-04T10:30:15.828546Z",
     "iopub.status.busy": "2022-02-04T10:30:15.827260Z",
     "iopub.status.idle": "2022-02-04T10:30:15.829565Z",
     "shell.execute_reply": "2022-02-04T10:30:15.830111Z"
    },
    "papermill": {
     "duration": 0.124879,
     "end_time": "2022-02-04T10:30:15.830309",
     "exception": false,
     "start_time": "2022-02-04T10:30:15.705430",
     "status": "completed"
    },
    "tags": []
   },
   "outputs": [],
   "source": [
    "class CustomDataset(torch.utils.data.Dataset):\n",
    "    def __init__(self, df, images_folder,mode,stats,transform = ToTensor()):\n",
    "        self.df = df\n",
    "        self.mode=mode\n",
    "        self.images_folder = os.path.join(images_folder+'/'+'train')\n",
    "       \n",
    "        self.transform1=Resize((260,260))\n",
    "        self.train_tfms=tt.Compose([tt.RandomCrop(224,padding=4,padding_mode='reflect'),\n",
    "                      tt.RandomHorizontalFlip(),\n",
    "                      tt.ToTensor(),\n",
    "                      tt.Normalize(*stats,inplace=True)])\n",
    "        self.valid_tfms=tt.Compose([tt.ToTensor(),tt.Normalize(*stats,inplace=True)])\n",
    "\n",
    "    def __len__(self):\n",
    "        return len(self.df)\n",
    "    def __getitem__(self, index):\n",
    "        filename = self.df.loc[index, \"file_name\"]\n",
    "        label = self.df.loc[index, \"label\"]\n",
    "        image = PIL.Image.open(os.path.join(self.images_folder,filename))\n",
    "        if self.mode=='train':\n",
    "            image=self.transform1(image)\n",
    "            image=self.train_tfms(image)\n",
    "        else:\n",
    "            image=self.transform1(image)\n",
    "            image=self.valid_tfms(image)\n",
    "        return image, label"
   ]
  },
  {
   "cell_type": "code",
   "execution_count": 30,
   "id": "e027b231",
   "metadata": {
    "execution": {
     "iopub.execute_input": "2022-02-04T10:30:16.051718Z",
     "iopub.status.busy": "2022-02-04T10:30:16.050635Z",
     "iopub.status.idle": "2022-02-04T10:30:16.053070Z",
     "shell.execute_reply": "2022-02-04T10:30:16.053678Z"
    },
    "papermill": {
     "duration": 0.115939,
     "end_time": "2022-02-04T10:30:16.053863",
     "exception": false,
     "start_time": "2022-02-04T10:30:15.937924",
     "status": "completed"
    },
    "tags": []
   },
   "outputs": [],
   "source": [
    "img1=os.path.join(data_folder+'train/'+train_file.loc[12658,\"file_name\"])"
   ]
  },
  {
   "cell_type": "code",
   "execution_count": 31,
   "id": "2edd8a22",
   "metadata": {
    "execution": {
     "iopub.execute_input": "2022-02-04T10:30:16.278054Z",
     "iopub.status.busy": "2022-02-04T10:30:16.277154Z",
     "iopub.status.idle": "2022-02-04T10:30:16.280880Z",
     "shell.execute_reply": "2022-02-04T10:30:16.281443Z"
    },
    "papermill": {
     "duration": 0.119998,
     "end_time": "2022-02-04T10:30:16.281645",
     "exception": false,
     "start_time": "2022-02-04T10:30:16.161647",
     "status": "completed"
    },
    "tags": []
   },
   "outputs": [
    {
     "data": {
      "text/plain": [
       "'../input/stylumia-complete/train/Image_010580.jpg'"
      ]
     },
     "execution_count": 31,
     "metadata": {},
     "output_type": "execute_result"
    }
   ],
   "source": [
    "img1"
   ]
  },
  {
   "cell_type": "code",
   "execution_count": 32,
   "id": "8a01f673",
   "metadata": {
    "execution": {
     "iopub.execute_input": "2022-02-04T10:30:16.507293Z",
     "iopub.status.busy": "2022-02-04T10:30:16.506390Z",
     "iopub.status.idle": "2022-02-04T10:30:16.510170Z",
     "shell.execute_reply": "2022-02-04T10:30:16.510763Z",
     "shell.execute_reply.started": "2022-02-03T18:59:25.862734Z"
    },
    "papermill": {
     "duration": 0.119938,
     "end_time": "2022-02-04T10:30:16.510959",
     "exception": false,
     "start_time": "2022-02-04T10:30:16.391021",
     "status": "completed"
    },
    "tags": []
   },
   "outputs": [
    {
     "data": {
      "text/plain": [
       "31749"
      ]
     },
     "execution_count": 32,
     "metadata": {},
     "output_type": "execute_result"
    }
   ],
   "source": [
    "len(train_file)"
   ]
  },
  {
   "cell_type": "code",
   "execution_count": 33,
   "id": "156c91d8",
   "metadata": {
    "execution": {
     "iopub.execute_input": "2022-02-04T10:30:16.737878Z",
     "iopub.status.busy": "2022-02-04T10:30:16.737185Z",
     "iopub.status.idle": "2022-02-04T10:30:16.772506Z",
     "shell.execute_reply": "2022-02-04T10:30:16.771843Z",
     "shell.execute_reply.started": "2022-02-03T18:59:25.871432Z"
    },
    "papermill": {
     "duration": 0.149948,
     "end_time": "2022-02-04T10:30:16.772664",
     "exception": false,
     "start_time": "2022-02-04T10:30:16.622716",
     "status": "completed"
    },
    "tags": []
   },
   "outputs": [],
   "source": [
    "image = PIL.Image.open(img1)"
   ]
  },
  {
   "cell_type": "code",
   "execution_count": 34,
   "id": "a63e5bfd",
   "metadata": {
    "execution": {
     "iopub.execute_input": "2022-02-04T10:30:16.998790Z",
     "iopub.status.busy": "2022-02-04T10:30:16.997777Z",
     "iopub.status.idle": "2022-02-04T10:30:17.001468Z",
     "shell.execute_reply": "2022-02-04T10:30:17.002122Z",
     "shell.execute_reply.started": "2022-02-03T18:59:25.910474Z"
    },
    "papermill": {
     "duration": 0.119575,
     "end_time": "2022-02-04T10:30:17.002307",
     "exception": false,
     "start_time": "2022-02-04T10:30:16.882732",
     "status": "completed"
    },
    "tags": []
   },
   "outputs": [
    {
     "data": {
      "text/plain": [
       "0.6719160104986877"
      ]
     },
     "execution_count": 34,
     "metadata": {},
     "output_type": "execute_result"
    }
   ],
   "source": [
    "512/762"
   ]
  },
  {
   "cell_type": "code",
   "execution_count": 35,
   "id": "dac1eeb1",
   "metadata": {
    "execution": {
     "iopub.execute_input": "2022-02-04T10:30:17.224925Z",
     "iopub.status.busy": "2022-02-04T10:30:17.223840Z",
     "iopub.status.idle": "2022-02-04T10:30:17.229822Z",
     "shell.execute_reply": "2022-02-04T10:30:17.229234Z",
     "shell.execute_reply.started": "2022-02-03T18:59:25.917629Z"
    },
    "papermill": {
     "duration": 0.118201,
     "end_time": "2022-02-04T10:30:17.229979",
     "exception": false,
     "start_time": "2022-02-04T10:30:17.111778",
     "status": "completed"
    },
    "tags": []
   },
   "outputs": [],
   "source": [
    "x=transforms.Resize((256,256))"
   ]
  },
  {
   "cell_type": "code",
   "execution_count": 36,
   "id": "b74fb051",
   "metadata": {
    "execution": {
     "iopub.execute_input": "2022-02-04T10:30:17.459364Z",
     "iopub.status.busy": "2022-02-04T10:30:17.458286Z",
     "iopub.status.idle": "2022-02-04T10:30:17.484964Z",
     "shell.execute_reply": "2022-02-04T10:30:17.484311Z",
     "shell.execute_reply.started": "2022-02-03T18:59:25.925094Z"
    },
    "papermill": {
     "duration": 0.14528,
     "end_time": "2022-02-04T10:30:17.485124",
     "exception": false,
     "start_time": "2022-02-04T10:30:17.339844",
     "status": "completed"
    },
    "tags": []
   },
   "outputs": [],
   "source": [
    "img=x(image)"
   ]
  },
  {
   "cell_type": "code",
   "execution_count": 37,
   "id": "c39c9767",
   "metadata": {
    "execution": {
     "iopub.execute_input": "2022-02-04T10:30:17.718609Z",
     "iopub.status.busy": "2022-02-04T10:30:17.717710Z",
     "iopub.status.idle": "2022-02-04T10:30:17.721426Z",
     "shell.execute_reply": "2022-02-04T10:30:17.721984Z",
     "shell.execute_reply.started": "2022-02-03T18:59:25.973479Z"
    },
    "papermill": {
     "duration": 0.121976,
     "end_time": "2022-02-04T10:30:17.722162",
     "exception": false,
     "start_time": "2022-02-04T10:30:17.600186",
     "status": "completed"
    },
    "tags": []
   },
   "outputs": [
    {
     "data": {
      "text/plain": [
       "(256, 256)"
      ]
     },
     "execution_count": 37,
     "metadata": {},
     "output_type": "execute_result"
    }
   ],
   "source": [
    "img.size"
   ]
  },
  {
   "cell_type": "code",
   "execution_count": 38,
   "id": "72b656ff",
   "metadata": {
    "execution": {
     "iopub.execute_input": "2022-02-04T10:30:17.955331Z",
     "iopub.status.busy": "2022-02-04T10:30:17.954304Z",
     "iopub.status.idle": "2022-02-04T10:30:17.987404Z",
     "shell.execute_reply": "2022-02-04T10:30:17.987979Z",
     "shell.execute_reply.started": "2022-02-03T18:59:25.981151Z"
    },
    "papermill": {
     "duration": 0.153061,
     "end_time": "2022-02-04T10:30:17.988168",
     "exception": false,
     "start_time": "2022-02-04T10:30:17.835107",
     "status": "completed"
    },
    "tags": []
   },
   "outputs": [
    {
     "data": {
      "image/png": "[encoded data removed]",
      "text/plain": [
       "<PIL.Image.Image image mode=RGB size=256x256 at 0x7F709C977950>"
      ]
     },
     "execution_count": 38,
     "metadata": {},
     "output_type": "execute_result"
    }
   ],
   "source": [
    "img"
   ]
  },
  {
   "cell_type": "code",
   "execution_count": 39,
   "id": "7ad27c2a",
   "metadata": {
    "execution": {
     "iopub.execute_input": "2022-02-04T10:30:18.221844Z",
     "iopub.status.busy": "2022-02-04T10:30:18.220864Z",
     "iopub.status.idle": "2022-02-04T10:30:18.224544Z",
     "shell.execute_reply": "2022-02-04T10:30:18.225197Z",
     "shell.execute_reply.started": "2022-02-03T18:59:26.003544Z"
    },
    "papermill": {
     "duration": 0.123449,
     "end_time": "2022-02-04T10:30:18.225407",
     "exception": false,
     "start_time": "2022-02-04T10:30:18.101958",
     "status": "completed"
    },
    "tags": []
   },
   "outputs": [
    {
     "data": {
      "text/plain": [
       "'/kaggle/working'"
      ]
     },
     "execution_count": 39,
     "metadata": {},
     "output_type": "execute_result"
    }
   ],
   "source": [
    "pwd"
   ]
  },
  {
   "cell_type": "code",
   "execution_count": 40,
   "id": "19e22878",
   "metadata": {
    "execution": {
     "iopub.execute_input": "2022-02-04T10:30:18.462018Z",
     "iopub.status.busy": "2022-02-04T10:30:18.461116Z",
     "iopub.status.idle": "2022-02-04T10:30:18.566609Z",
     "shell.execute_reply": "2022-02-04T10:30:18.566009Z",
     "shell.execute_reply.started": "2022-02-03T18:59:44.380884Z"
    },
    "papermill": {
     "duration": 0.228235,
     "end_time": "2022-02-04T10:30:18.566780",
     "exception": false,
     "start_time": "2022-02-04T10:30:18.338545",
     "status": "completed"
    },
    "tags": []
   },
   "outputs": [
    {
     "data": {
      "text/plain": [
       "tensor([[[0.9020, 0.8980, 0.8941,  ..., 0.8745, 0.8745, 0.8745],\n",
       "         [0.9059, 0.9020, 0.8980,  ..., 0.8784, 0.8745, 0.8745],\n",
       "         [0.9020, 0.8980, 0.8941,  ..., 0.8784, 0.8784, 0.8784],\n",
       "         ...,\n",
       "         [0.9686, 0.9686, 0.9686,  ..., 0.9686, 0.9647, 0.9608],\n",
       "         [0.9647, 0.9686, 0.9686,  ..., 0.9686, 0.9647, 0.9608],\n",
       "         [0.9647, 0.9647, 0.9686,  ..., 0.9686, 0.9647, 0.9608]],\n",
       "\n",
       "        [[0.8980, 0.8941, 0.8902,  ..., 0.8706, 0.8706, 0.8706],\n",
       "         [0.9020, 0.8980, 0.8941,  ..., 0.8745, 0.8706, 0.8706],\n",
       "         [0.8980, 0.8941, 0.8902,  ..., 0.8745, 0.8745, 0.8745],\n",
       "         ...,\n",
       "         [0.9686, 0.9686, 0.9686,  ..., 0.9686, 0.9647, 0.9608],\n",
       "         [0.9647, 0.9686, 0.9686,  ..., 0.9686, 0.9647, 0.9608],\n",
       "         [0.9647, 0.9647, 0.9686,  ..., 0.9686, 0.9647, 0.9608]],\n",
       "\n",
       "        [[0.8902, 0.8863, 0.8824,  ..., 0.8627, 0.8627, 0.8627],\n",
       "         [0.8941, 0.8902, 0.8863,  ..., 0.8667, 0.8627, 0.8627],\n",
       "         [0.8902, 0.8863, 0.8824,  ..., 0.8667, 0.8667, 0.8667],\n",
       "         ...,\n",
       "         [0.9686, 0.9686, 0.9686,  ..., 0.9686, 0.9647, 0.9608],\n",
       "         [0.9647, 0.9686, 0.9686,  ..., 0.9686, 0.9647, 0.9608],\n",
       "         [0.9647, 0.9647, 0.9686,  ..., 0.9686, 0.9647, 0.9608]]])"
      ]
     },
     "execution_count": 40,
     "metadata": {},
     "output_type": "execute_result"
    }
   ],
   "source": [
    "convert_tensor = torchvision.transforms.ToTensor()\n",
    "\n",
    "convert_tensor(image)"
   ]
  },
  {
   "cell_type": "code",
   "execution_count": 41,
   "id": "f6ba384b",
   "metadata": {
    "execution": {
     "iopub.execute_input": "2022-02-04T10:30:18.800481Z",
     "iopub.status.busy": "2022-02-04T10:30:18.799377Z",
     "iopub.status.idle": "2022-02-04T10:30:18.802370Z",
     "shell.execute_reply": "2022-02-04T10:30:18.802929Z",
     "shell.execute_reply.started": "2022-02-03T18:59:44.697819Z"
    },
    "papermill": {
     "duration": 0.122003,
     "end_time": "2022-02-04T10:30:18.803105",
     "exception": false,
     "start_time": "2022-02-04T10:30:18.681102",
     "status": "completed"
    },
    "tags": []
   },
   "outputs": [],
   "source": [
    "stats = ((0.7955, 0.7599, 0.7506), (0.2721, 0.2932, 0.2981))"
   ]
  },
  {
   "cell_type": "code",
   "execution_count": 42,
   "id": "ffdcfe4d",
   "metadata": {
    "execution": {
     "iopub.execute_input": "2022-02-04T10:30:19.048596Z",
     "iopub.status.busy": "2022-02-04T10:30:19.047658Z",
     "iopub.status.idle": "2022-02-04T10:30:19.051244Z",
     "shell.execute_reply": "2022-02-04T10:30:19.050708Z",
     "shell.execute_reply.started": "2022-02-03T18:59:45.105939Z"
    },
    "papermill": {
     "duration": 0.133506,
     "end_time": "2022-02-04T10:30:19.051423",
     "exception": false,
     "start_time": "2022-02-04T10:30:18.917917",
     "status": "completed"
    },
    "tags": []
   },
   "outputs": [],
   "source": [
    "train_dataset=CustomDataset(train_df,data_folder,'train',stats)"
   ]
  },
  {
   "cell_type": "code",
   "execution_count": 43,
   "id": "f9cb23bb",
   "metadata": {
    "execution": {
     "iopub.execute_input": "2022-02-04T10:30:19.282801Z",
     "iopub.status.busy": "2022-02-04T10:30:19.281665Z",
     "iopub.status.idle": "2022-02-04T10:30:19.284324Z",
     "shell.execute_reply": "2022-02-04T10:30:19.284924Z",
     "shell.execute_reply.started": "2022-02-03T18:59:45.412609Z"
    },
    "papermill": {
     "duration": 0.120553,
     "end_time": "2022-02-04T10:30:19.285133",
     "exception": false,
     "start_time": "2022-02-04T10:30:19.164580",
     "status": "completed"
    },
    "tags": []
   },
   "outputs": [],
   "source": [
    "val_dataset=CustomDataset(val_df,data_folder,'val',stats)"
   ]
  },
  {
   "cell_type": "code",
   "execution_count": 44,
   "id": "455dcad3",
   "metadata": {
    "execution": {
     "iopub.execute_input": "2022-02-04T10:30:19.518777Z",
     "iopub.status.busy": "2022-02-04T10:30:19.517740Z",
     "iopub.status.idle": "2022-02-04T10:30:19.520388Z",
     "shell.execute_reply": "2022-02-04T10:30:19.520889Z",
     "shell.execute_reply.started": "2022-02-03T18:59:45.75485Z"
    },
    "papermill": {
     "duration": 0.122089,
     "end_time": "2022-02-04T10:30:19.521078",
     "exception": false,
     "start_time": "2022-02-04T10:30:19.398989",
     "status": "completed"
    },
    "tags": []
   },
   "outputs": [],
   "source": [
    "val_indices = list(range(len(val_dataset)-1))"
   ]
  },
  {
   "cell_type": "code",
   "execution_count": 45,
   "id": "89c67f7b",
   "metadata": {
    "execution": {
     "iopub.execute_input": "2022-02-04T10:30:19.752694Z",
     "iopub.status.busy": "2022-02-04T10:30:19.751698Z",
     "iopub.status.idle": "2022-02-04T10:30:19.755114Z",
     "shell.execute_reply": "2022-02-04T10:30:19.754568Z",
     "shell.execute_reply.started": "2022-02-03T18:59:46.129461Z"
    },
    "papermill": {
     "duration": 0.120502,
     "end_time": "2022-02-04T10:30:19.755264",
     "exception": false,
     "start_time": "2022-02-04T10:30:19.634762",
     "status": "completed"
    },
    "tags": []
   },
   "outputs": [],
   "source": [
    "#val_indices"
   ]
  },
  {
   "cell_type": "code",
   "execution_count": 46,
   "id": "9fde1053",
   "metadata": {
    "execution": {
     "iopub.execute_input": "2022-02-04T10:30:19.987193Z",
     "iopub.status.busy": "2022-02-04T10:30:19.986359Z",
     "iopub.status.idle": "2022-02-04T10:30:19.992906Z",
     "shell.execute_reply": "2022-02-04T10:30:19.992322Z",
     "shell.execute_reply.started": "2022-02-03T18:59:46.443611Z"
    },
    "papermill": {
     "duration": 0.124111,
     "end_time": "2022-02-04T10:30:19.993059",
     "exception": false,
     "start_time": "2022-02-04T10:30:19.868948",
     "status": "completed"
    },
    "tags": []
   },
   "outputs": [],
   "source": [
    "random_seed = 42\n",
    "torch.manual_seed(random_seed);"
   ]
  },
  {
   "cell_type": "code",
   "execution_count": 47,
   "id": "750f1e33",
   "metadata": {
    "execution": {
     "iopub.execute_input": "2022-02-04T10:30:20.222116Z",
     "iopub.status.busy": "2022-02-04T10:30:20.221249Z",
     "iopub.status.idle": "2022-02-04T10:30:20.225528Z",
     "shell.execute_reply": "2022-02-04T10:30:20.224939Z",
     "shell.execute_reply.started": "2022-02-03T18:59:46.844202Z"
    },
    "papermill": {
     "duration": 0.120467,
     "end_time": "2022-02-04T10:30:20.225679",
     "exception": false,
     "start_time": "2022-02-04T10:30:20.105212",
     "status": "completed"
    },
    "tags": []
   },
   "outputs": [],
   "source": [
    "#train_idx"
   ]
  },
  {
   "cell_type": "code",
   "execution_count": 48,
   "id": "598213cf",
   "metadata": {
    "execution": {
     "iopub.execute_input": "2022-02-04T10:30:20.457940Z",
     "iopub.status.busy": "2022-02-04T10:30:20.456825Z",
     "iopub.status.idle": "2022-02-04T10:30:20.464890Z",
     "shell.execute_reply": "2022-02-04T10:30:20.464266Z",
     "shell.execute_reply.started": "2022-02-03T18:59:47.103659Z"
    },
    "papermill": {
     "duration": 0.125865,
     "end_time": "2022-02-04T10:30:20.465049",
     "exception": false,
     "start_time": "2022-02-04T10:30:20.339184",
     "status": "completed"
    },
    "tags": []
   },
   "outputs": [
    {
     "data": {
      "text/plain": [
       "(25400, 6349)"
      ]
     },
     "execution_count": 48,
     "metadata": {},
     "output_type": "execute_result"
    }
   ],
   "source": [
    "\n",
    "val_sampler = SubsetRandomSampler(val_indices)\n",
    "len(sampler), len(val_sampler)\n"
   ]
  },
  {
   "cell_type": "code",
   "execution_count": 49,
   "id": "0897605a",
   "metadata": {
    "execution": {
     "iopub.execute_input": "2022-02-04T10:30:20.701600Z",
     "iopub.status.busy": "2022-02-04T10:30:20.700452Z",
     "iopub.status.idle": "2022-02-04T10:30:20.702725Z",
     "shell.execute_reply": "2022-02-04T10:30:20.703302Z",
     "shell.execute_reply.started": "2022-02-03T18:59:47.408824Z"
    },
    "papermill": {
     "duration": 0.123667,
     "end_time": "2022-02-04T10:30:20.703511",
     "exception": false,
     "start_time": "2022-02-04T10:30:20.579844",
     "status": "completed"
    },
    "tags": []
   },
   "outputs": [],
   "source": [
    "train_dl = DataLoader(dataset=train_dataset, shuffle=False, batch_size=64, sampler=sampler)\n",
    "val_dl = DataLoader(dataset=val_dataset, shuffle=False, batch_size=64, sampler=val_sampler)"
   ]
  },
  {
   "cell_type": "code",
   "execution_count": 50,
   "id": "bb36caa7",
   "metadata": {
    "execution": {
     "iopub.execute_input": "2022-02-04T10:30:20.939076Z",
     "iopub.status.busy": "2022-02-04T10:30:20.938105Z",
     "iopub.status.idle": "2022-02-04T10:30:20.941766Z",
     "shell.execute_reply": "2022-02-04T10:30:20.942407Z",
     "shell.execute_reply.started": "2022-02-03T18:59:48.092051Z"
    },
    "papermill": {
     "duration": 0.124485,
     "end_time": "2022-02-04T10:30:20.942611",
     "exception": false,
     "start_time": "2022-02-04T10:30:20.818126",
     "status": "completed"
    },
    "tags": []
   },
   "outputs": [
    {
     "data": {
      "text/plain": [
       "<torch.utils.data.dataloader.DataLoader at 0x7f709c505490>"
      ]
     },
     "execution_count": 50,
     "metadata": {},
     "output_type": "execute_result"
    }
   ],
   "source": [
    "val_dl"
   ]
  },
  {
   "cell_type": "code",
   "execution_count": 51,
   "id": "aed27a64",
   "metadata": {
    "execution": {
     "iopub.execute_input": "2022-02-04T10:30:21.178766Z",
     "iopub.status.busy": "2022-02-04T10:30:21.178042Z",
     "iopub.status.idle": "2022-02-04T10:30:24.381294Z",
     "shell.execute_reply": "2022-02-04T10:30:24.379778Z",
     "shell.execute_reply.started": "2022-02-03T18:59:48.402103Z"
    },
    "papermill": {
     "duration": 3.324404,
     "end_time": "2022-02-04T10:30:24.381535",
     "exception": false,
     "start_time": "2022-02-04T10:30:21.057131",
     "status": "completed"
    },
    "tags": []
   },
   "outputs": [
    {
     "name": "stdout",
     "output_type": "stream",
     "text": [
      "tensor([ 2,  8,  5,  5, 10,  3,  8,  0,  5,  3,  8,  5,  5, 10, 10,  5,  7,  7,\n",
      "         5,  1,  8,  3,  0,  3,  8,  7,  2,  8,  4,  7,  7,  8,  1, 10,  9,  8,\n",
      "         3,  9,  0,  5,  2,  9,  6,  1,  9,  7,  0,  0,  6,  4,  1,  7,  8,  9,\n",
      "         5,  6, 10,  7,  5, 10,  6,  4,  0,  0])\n"
     ]
    }
   ],
   "source": [
    "train_features, train_labels = next(iter(train_dl))\n",
    "print(train_labels)\n"
   ]
  },
  {
   "cell_type": "code",
   "execution_count": 52,
   "id": "88d40d03",
   "metadata": {
    "execution": {
     "iopub.execute_input": "2022-02-04T10:30:24.752979Z",
     "iopub.status.busy": "2022-02-04T10:30:24.752032Z",
     "iopub.status.idle": "2022-02-04T10:30:28.507604Z",
     "shell.execute_reply": "2022-02-04T10:30:28.508495Z",
     "shell.execute_reply.started": "2022-02-03T18:59:50.877628Z"
    },
    "papermill": {
     "duration": 3.911896,
     "end_time": "2022-02-04T10:30:28.508769",
     "exception": false,
     "start_time": "2022-02-04T10:30:24.596873",
     "status": "completed"
    },
    "tags": []
   },
   "outputs": [
    {
     "name": "stdout",
     "output_type": "stream",
     "text": [
      "tensor([[[[ 0.2904,  0.2904,  0.2904,  ...,  0.2904,  0.2904,  0.2904],\n",
      "          [ 0.2904,  0.2904,  0.2904,  ...,  0.2904,  0.2904,  0.2904],\n",
      "          [ 0.2904,  0.2904,  0.2904,  ...,  0.2904,  0.2904,  0.2904],\n",
      "          ...,\n",
      "          [ 0.2904,  0.2904,  0.2904,  ...,  0.2904,  0.2904,  0.2904],\n",
      "          [ 0.2904,  0.2904,  0.2904,  ...,  0.2904,  0.2904,  0.2904],\n",
      "          [ 0.2904,  0.2904,  0.2904,  ...,  0.2904,  0.2904,  0.2904]],\n",
      "\n",
      "         [[ 0.4176,  0.4176,  0.4176,  ...,  0.4176,  0.4176,  0.4176],\n",
      "          [ 0.4176,  0.4176,  0.4176,  ...,  0.4176,  0.4176,  0.4176],\n",
      "          [ 0.4176,  0.4176,  0.4176,  ...,  0.4176,  0.4176,  0.4176],\n",
      "          ...,\n",
      "          [ 0.4176,  0.4176,  0.4176,  ...,  0.4176,  0.4176,  0.4176],\n",
      "          [ 0.4176,  0.4176,  0.4176,  ...,  0.4176,  0.4176,  0.4176],\n",
      "          [ 0.4176,  0.4176,  0.4176,  ...,  0.4176,  0.4176,  0.4176]],\n",
      "\n",
      "         [[ 0.4288,  0.4288,  0.4288,  ...,  0.4288,  0.4288,  0.4288],\n",
      "          [ 0.4288,  0.4288,  0.4288,  ...,  0.4288,  0.4288,  0.4288],\n",
      "          [ 0.4288,  0.4288,  0.4288,  ...,  0.4288,  0.4288,  0.4288],\n",
      "          ...,\n",
      "          [ 0.4288,  0.4288,  0.4288,  ...,  0.4288,  0.4288,  0.4288],\n",
      "          [ 0.4288,  0.4288,  0.4288,  ...,  0.4288,  0.4288,  0.4288],\n",
      "          [ 0.4288,  0.4288,  0.4288,  ...,  0.4288,  0.4288,  0.4288]]],\n",
      "\n",
      "\n",
      "        [[[ 0.0165,  0.0454,  0.0598,  ..., -0.0843, -0.1276, -0.1564],\n",
      "          [ 0.0742,  0.0886,  0.1030,  ..., -0.0699, -0.0843, -0.0988],\n",
      "          [ 0.1174,  0.1174,  0.1607,  ..., -0.0411, -0.0555, -0.0699],\n",
      "          ...,\n",
      "          [-0.3294, -0.4014, -0.4158,  ..., -0.6752, -0.6752, -0.6752],\n",
      "          [-0.3294, -0.3870, -0.4302,  ..., -0.6752, -0.6897, -0.6897],\n",
      "          [-0.3582, -0.3870, -0.4302,  ..., -0.6897, -0.6897, -0.7041]],\n",
      "\n",
      "         [[ 0.1635,  0.1903,  0.1903,  ...,  0.0833,  0.0431,  0.0298],\n",
      "          [ 0.2170,  0.2304,  0.2304,  ...,  0.1100,  0.0833,  0.0699],\n",
      "          [ 0.2438,  0.2571,  0.2839,  ...,  0.1368,  0.1234,  0.1234],\n",
      "          ...,\n",
      "          [-0.1842, -0.2645, -0.2779,  ..., -0.4919, -0.4919, -0.4919],\n",
      "          [-0.2110, -0.2511, -0.2912,  ..., -0.4919, -0.5052, -0.5052],\n",
      "          [-0.2244, -0.2511, -0.2912,  ..., -0.5052, -0.5052, -0.5186]],\n",
      "\n",
      "         [[ 0.2578,  0.2841,  0.2841,  ...,  0.2052,  0.1657,  0.1394],\n",
      "          [ 0.2973,  0.3104,  0.3236,  ...,  0.2315,  0.2183,  0.2183],\n",
      "          [ 0.3236,  0.3367,  0.3630,  ...,  0.2446,  0.2446,  0.2446],\n",
      "          ...,\n",
      "          [-0.0842, -0.1632, -0.1763,  ..., -0.3868, -0.3868, -0.3868],\n",
      "          [-0.0974, -0.1500, -0.1895,  ..., -0.3868, -0.4000, -0.4000],\n",
      "          [-0.1237, -0.1500, -0.1895,  ..., -0.4000, -0.4000, -0.4131]]],\n",
      "\n",
      "\n",
      "        [[[ 0.5786,  0.5930,  0.5930,  ...,  0.4633,  0.4489,  0.4489],\n",
      "          [ 0.5930,  0.5930,  0.5930,  ...,  0.4489,  0.4633,  0.4489],\n",
      "          [ 0.5930,  0.5930,  0.6074,  ...,  0.4489,  0.4489,  0.4633],\n",
      "          ...,\n",
      "          [ 0.6651,  0.6651,  0.6651,  ...,  0.6651,  0.6651,  0.6507],\n",
      "          [ 0.6651,  0.6651,  0.6651,  ...,  0.6507,  0.6651,  0.6507],\n",
      "          [ 0.6507,  0.6507,  0.6507,  ...,  0.6507,  0.6651,  0.6507]],\n",
      "\n",
      "         [[ 0.6316,  0.6450,  0.6450,  ...,  0.5246,  0.5113,  0.5113],\n",
      "          [ 0.6450,  0.6450,  0.6450,  ...,  0.5113,  0.5246,  0.5113],\n",
      "          [ 0.6450,  0.6450,  0.6584,  ...,  0.5113,  0.5113,  0.5246],\n",
      "          ...,\n",
      "          [ 0.7386,  0.7386,  0.7386,  ...,  0.7386,  0.7386,  0.7253],\n",
      "          [ 0.7386,  0.7386,  0.7386,  ...,  0.7253,  0.7386,  0.7253],\n",
      "          [ 0.7253,  0.7253,  0.7253,  ...,  0.7253,  0.7386,  0.7253]],\n",
      "\n",
      "         [[ 0.6656,  0.6788,  0.6788,  ...,  0.5604,  0.5472,  0.5472],\n",
      "          [ 0.6788,  0.6788,  0.6788,  ...,  0.5472,  0.5604,  0.5472],\n",
      "          [ 0.6788,  0.6788,  0.6919,  ...,  0.5472,  0.5472,  0.5604],\n",
      "          ...,\n",
      "          [ 0.7577,  0.7577,  0.7577,  ...,  0.7577,  0.7577,  0.7445],\n",
      "          [ 0.7577,  0.7577,  0.7577,  ...,  0.7445,  0.7577,  0.7445],\n",
      "          [ 0.7445,  0.7445,  0.7445,  ...,  0.7445,  0.7577,  0.7445]]],\n",
      "\n",
      "\n",
      "        ...,\n",
      "\n",
      "\n",
      "        [[[ 0.7516,  0.7516,  0.7516,  ...,  0.7516,  0.7516,  0.7516],\n",
      "          [ 0.7516,  0.7516,  0.7516,  ...,  0.7516,  0.7516,  0.7516],\n",
      "          [ 0.7516,  0.7516,  0.7516,  ...,  0.7516,  0.7516,  0.7516],\n",
      "          ...,\n",
      "          [ 0.7516,  0.7516,  0.7516,  ...,  0.7516,  0.7516,  0.7516],\n",
      "          [ 0.7516,  0.7516,  0.7516,  ...,  0.7516,  0.7516,  0.7516],\n",
      "          [ 0.7516,  0.7516,  0.7516,  ...,  0.7516,  0.7516,  0.7516]],\n",
      "\n",
      "         [[ 0.8189,  0.8189,  0.8189,  ...,  0.8189,  0.8189,  0.8189],\n",
      "          [ 0.8189,  0.8189,  0.8189,  ...,  0.8189,  0.8189,  0.8189],\n",
      "          [ 0.8189,  0.8189,  0.8189,  ...,  0.8189,  0.8189,  0.8189],\n",
      "          ...,\n",
      "          [ 0.8189,  0.8189,  0.8189,  ...,  0.8189,  0.8189,  0.8189],\n",
      "          [ 0.8189,  0.8189,  0.8189,  ...,  0.8189,  0.8189,  0.8189],\n",
      "          [ 0.8189,  0.8189,  0.8189,  ...,  0.8189,  0.8189,  0.8189]],\n",
      "\n",
      "         [[ 0.8366,  0.8366,  0.8366,  ...,  0.8366,  0.8366,  0.8366],\n",
      "          [ 0.8366,  0.8366,  0.8366,  ...,  0.8366,  0.8366,  0.8366],\n",
      "          [ 0.8366,  0.8366,  0.8366,  ...,  0.8366,  0.8366,  0.8366],\n",
      "          ...,\n",
      "          [ 0.8366,  0.8366,  0.8366,  ...,  0.8366,  0.8366,  0.8366],\n",
      "          [ 0.8366,  0.8366,  0.8366,  ...,  0.8366,  0.8366,  0.8366],\n",
      "          [ 0.8366,  0.8366,  0.8366,  ...,  0.8366,  0.8366,  0.8366]]],\n",
      "\n",
      "\n",
      "        [[[ 0.4777,  0.5066,  0.4921,  ...,  0.4057,  0.3913,  0.4057],\n",
      "          [ 0.4777,  0.4921,  0.4921,  ...,  0.4201,  0.4201,  0.4201],\n",
      "          [ 0.4921,  0.4921,  0.4921,  ...,  0.4201,  0.4201,  0.4201],\n",
      "          ...,\n",
      "          [ 0.2327,  0.2327,  0.2327,  ...,  0.4921,  0.4777,  0.4921],\n",
      "          [ 0.2183,  0.2039,  0.2039,  ...,  0.4777,  0.4921,  0.4921],\n",
      "          [ 0.2327,  0.2327,  0.2183,  ...,  0.4777,  0.4777,  0.4777]],\n",
      "\n",
      "         [[ 0.5380,  0.5648,  0.5514,  ...,  0.4711,  0.4578,  0.4711],\n",
      "          [ 0.5380,  0.5514,  0.5514,  ...,  0.4845,  0.4845,  0.4845],\n",
      "          [ 0.5514,  0.5514,  0.5514,  ...,  0.4845,  0.4845,  0.4845],\n",
      "          ...,\n",
      "          [ 0.3106,  0.3106,  0.3106,  ...,  0.5514,  0.5380,  0.5514],\n",
      "          [ 0.2973,  0.2839,  0.2839,  ...,  0.5380,  0.5514,  0.5514],\n",
      "          [ 0.3106,  0.3106,  0.2973,  ...,  0.5514,  0.5380,  0.5380]],\n",
      "\n",
      "         [[ 0.5735,  0.5998,  0.5867,  ...,  0.5078,  0.4946,  0.5078],\n",
      "          [ 0.5735,  0.5867,  0.5867,  ...,  0.5209,  0.5209,  0.5209],\n",
      "          [ 0.5867,  0.5867,  0.5867,  ...,  0.5209,  0.5209,  0.5209],\n",
      "          ...,\n",
      "          [ 0.3499,  0.3499,  0.3499,  ...,  0.5867,  0.5735,  0.5867],\n",
      "          [ 0.3367,  0.3236,  0.3236,  ...,  0.5735,  0.5867,  0.5867],\n",
      "          [ 0.3499,  0.3499,  0.3367,  ...,  0.5867,  0.5735,  0.5735]]],\n",
      "\n",
      "\n",
      "        [[[-0.8482, -0.8482, -0.8482,  ..., -1.0211, -1.0067, -1.0211],\n",
      "          [-0.8482, -0.8338, -0.8338,  ..., -1.0067, -1.0067, -1.0211],\n",
      "          [-0.8338, -0.8194, -0.8194,  ..., -1.0067, -1.0067, -1.0067],\n",
      "          ...,\n",
      "          [-0.1420, -0.1420, -0.1420,  ..., -0.3726, -0.3726, -0.3726],\n",
      "          [-0.1276, -0.1276, -0.1420,  ..., -0.3582, -0.3582, -0.3582],\n",
      "          [-0.1132, -0.1132, -0.1276,  ..., -0.3726, -0.3582, -0.3582]],\n",
      "\n",
      "         [[-0.6791, -0.6791, -0.6791,  ..., -0.8396, -0.8396, -0.8396],\n",
      "          [-0.6791, -0.6657, -0.6657,  ..., -0.8262, -0.8262, -0.8262],\n",
      "          [-0.6657, -0.6524, -0.6524,  ..., -0.8262, -0.8262, -0.8129],\n",
      "          ...,\n",
      "          [ 0.0030,  0.0030,  0.0030,  ..., -0.2244, -0.2244, -0.2244],\n",
      "          [ 0.0164,  0.0030,  0.0030,  ..., -0.2244, -0.2244, -0.2110],\n",
      "          [ 0.0298,  0.0164,  0.0030,  ..., -0.2110, -0.2110, -0.1976]],\n",
      "\n",
      "         [[-0.5710, -0.5710, -0.5710,  ..., -0.7551, -0.7551, -0.7551],\n",
      "          [-0.5710, -0.5578, -0.5578,  ..., -0.7420, -0.7420, -0.7420],\n",
      "          [-0.5578, -0.5447, -0.5447,  ..., -0.7288, -0.7288, -0.7420],\n",
      "          ...,\n",
      "          [ 0.0999,  0.0999,  0.0999,  ..., -0.1237, -0.1237, -0.1237],\n",
      "          [ 0.1131,  0.0999,  0.0999,  ..., -0.1237, -0.1105, -0.1105],\n",
      "          [ 0.1131,  0.1131,  0.0999,  ..., -0.1105, -0.1105, -0.0974]]]])\n"
     ]
    }
   ],
   "source": [
    "for i in val_dl:\n",
    "    images,labels=i\n",
    "    print(images)\n",
    "    break"
   ]
  },
  {
   "cell_type": "code",
   "execution_count": 53,
   "id": "00978cbb",
   "metadata": {
    "execution": {
     "iopub.execute_input": "2022-02-04T10:30:28.793849Z",
     "iopub.status.busy": "2022-02-04T10:30:28.792856Z",
     "iopub.status.idle": "2022-02-04T10:30:28.796607Z",
     "shell.execute_reply": "2022-02-04T10:30:28.797183Z",
     "shell.execute_reply.started": "2022-02-03T18:59:53.119521Z"
    },
    "papermill": {
     "duration": 0.171252,
     "end_time": "2022-02-04T10:30:28.797389",
     "exception": false,
     "start_time": "2022-02-04T10:30:28.626137",
     "status": "completed"
    },
    "tags": []
   },
   "outputs": [
    {
     "data": {
      "text/plain": [
       "True"
      ]
     },
     "execution_count": 53,
     "metadata": {},
     "output_type": "execute_result"
    }
   ],
   "source": [
    "torch.cuda.is_available()"
   ]
  },
  {
   "cell_type": "code",
   "execution_count": 54,
   "id": "d45d18ab",
   "metadata": {
    "execution": {
     "iopub.execute_input": "2022-02-04T10:30:29.049787Z",
     "iopub.status.busy": "2022-02-04T10:30:29.048573Z",
     "iopub.status.idle": "2022-02-04T10:30:29.052995Z",
     "shell.execute_reply": "2022-02-04T10:30:29.052389Z",
     "shell.execute_reply.started": "2022-02-03T18:59:53.17234Z"
    },
    "papermill": {
     "duration": 0.139984,
     "end_time": "2022-02-04T10:30:29.053152",
     "exception": false,
     "start_time": "2022-02-04T10:30:28.913168",
     "status": "completed"
    },
    "tags": []
   },
   "outputs": [],
   "source": [
    "from torchvision.utils import make_grid\n",
    "\n",
    "def show_batch(dl):\n",
    "    for images, labels in dl:\n",
    "        fig, ax = plt.subplots(figsize=(12, 6))\n",
    "        ax.set_xticks([]); ax.set_yticks([])\n",
    "        ax.imshow(make_grid(images, nrow=4).permute(1,2,0))\n",
    "        break"
   ]
  },
  {
   "cell_type": "code",
   "execution_count": 55,
   "id": "2e0afea3",
   "metadata": {
    "execution": {
     "iopub.execute_input": "2022-02-04T10:30:29.293618Z",
     "iopub.status.busy": "2022-02-04T10:30:29.292555Z",
     "iopub.status.idle": "2022-02-04T10:30:32.645841Z",
     "shell.execute_reply": "2022-02-04T10:30:32.646406Z",
     "shell.execute_reply.started": "2022-02-03T18:59:53.181559Z"
    },
    "papermill": {
     "duration": 3.474935,
     "end_time": "2022-02-04T10:30:32.646600",
     "exception": false,
     "start_time": "2022-02-04T10:30:29.171665",
     "status": "completed"
    },
    "tags": []
   },
   "outputs": [
    {
     "data": {
      "image/png": "[encoded data removed]",
      "text/plain": [
       "<Figure size 864x432 with 1 Axes>"
      ]
     },
     "metadata": {},
     "output_type": "display_data"
    }
   ],
   "source": [
    "show_batch(train_dl)"
   ]
  },
  {
   "cell_type": "code",
   "execution_count": 56,
   "id": "76f841c4",
   "metadata": {
    "execution": {
     "iopub.execute_input": "2022-02-04T10:30:32.894141Z",
     "iopub.status.busy": "2022-02-04T10:30:32.893242Z",
     "iopub.status.idle": "2022-02-04T10:30:32.896774Z",
     "shell.execute_reply": "2022-02-04T10:30:32.897268Z",
     "shell.execute_reply.started": "2022-02-03T18:59:56.596746Z"
    },
    "papermill": {
     "duration": 0.134662,
     "end_time": "2022-02-04T10:30:32.897504",
     "exception": false,
     "start_time": "2022-02-04T10:30:32.762842",
     "status": "completed"
    },
    "tags": []
   },
   "outputs": [],
   "source": [
    "class ImageClassificationBase(nn.Module):\n",
    " \n",
    "    def training_step(self,batch):\n",
    "        model.train()\n",
    "        images,labels=batch\n",
    "        out=self(images)\n",
    "        loss=F.cross_entropy(out,labels)\n",
    "        acc,mic,mac,bal_acc=accuracy(labels,out)\n",
    "        return loss,acc,mic,mac,bal_acc\n",
    "    \n",
    "   \n",
    "    def validation_step(self,batch):\n",
    "        model.eval()\n",
    "        images,labels=batch\n",
    "        out=self(images)\n",
    "        loss=F.cross_entropy(out,labels)\n",
    "        acc,mic,mac,bal_acc=accuracy(labels,out)\n",
    "        return {'val_loss':loss.detach(),'val_acc':acc,'val_mic':mic,'val_mac':mac,'val_balacc':bal_acc}\n",
    "    \n",
    "    \n",
    "    def validation_epoch_end(self,result):\n",
    "        loss=[x['val_loss'] for x in result]\n",
    "        acc= [x['val_acc'] for x in result]\n",
    "        mic=[x['val_mic'] for x in result]\n",
    "        mac=[x['val_mac'] for x in result]\n",
    "        bal=[x['val_balacc'] for x in result]\n",
    "        l_b=torch.stack(loss).mean()\n",
    "        a_b=torch.stack(acc).mean()\n",
    "        mi_b=torch.stack(mic).mean()\n",
    "        ma_b=torch.stack(mac).mean()\n",
    "        ba_b=torch.stack(bal).mean()\n",
    "        return {'val_loss':l_b.item(), 'val_acc': a_b.item(),'micro_f1':mi_b.item(), 'macro_f1': ma_b.item(),'bal_acc':ba_b.item()}\n",
    "    \n",
    "    def epoch_end(self,epoch,result):\n",
    "        print(\"Epoch [{}], val_loss: {:.4f}, val_acc: {:.4f},val_mic: {:.4f}, val_mac: {:.4f}, bal_acc: {:.4f}\".format(\n",
    "            epoch,result['val_loss'], result['val_acc'],result['micro_f1'], result['macro_f1'],result['bal_acc']))\n",
    "        "
   ]
  },
  {
   "cell_type": "code",
   "execution_count": 57,
   "id": "f94cb98f",
   "metadata": {
    "execution": {
     "iopub.execute_input": "2022-02-04T10:30:33.137930Z",
     "iopub.status.busy": "2022-02-04T10:30:33.136682Z",
     "iopub.status.idle": "2022-02-04T10:30:33.138946Z",
     "shell.execute_reply": "2022-02-04T10:30:33.139509Z",
     "shell.execute_reply.started": "2022-02-03T18:59:56.614371Z"
    },
    "papermill": {
     "duration": 0.125707,
     "end_time": "2022-02-04T10:30:33.139700",
     "exception": false,
     "start_time": "2022-02-04T10:30:33.013993",
     "status": "completed"
    },
    "tags": []
   },
   "outputs": [],
   "source": [
    "class Classifier(ImageClassificationBase):\n",
    "    def __init__(self,model_transfer):\n",
    "        super(Classifier, self).__init__()\n",
    "        self.eff =  model_transfer\n",
    "\n",
    "    def forward(self, input):\n",
    "        x = self.eff(input)\n",
    "        return x\n"
   ]
  },
  {
   "cell_type": "code",
   "execution_count": 58,
   "id": "ccc67a7f",
   "metadata": {
    "execution": {
     "iopub.execute_input": "2022-02-04T10:30:33.377417Z",
     "iopub.status.busy": "2022-02-04T10:30:33.376727Z",
     "iopub.status.idle": "2022-02-04T10:30:35.647605Z",
     "shell.execute_reply": "2022-02-04T10:30:35.648157Z",
     "shell.execute_reply.started": "2022-02-03T19:05:55.300023Z"
    },
    "papermill": {
     "duration": 2.39251,
     "end_time": "2022-02-04T10:30:35.648357",
     "exception": false,
     "start_time": "2022-02-04T10:30:33.255847",
     "status": "completed"
    },
    "tags": []
   },
   "outputs": [
    {
     "name": "stderr",
     "output_type": "stream",
     "text": [
      "Downloading: \"https://github.com/lukemelas/EfficientNet-PyTorch/releases/download/1.0/efficientnet-b2-8bb594d6.pth\" to /root/.cache/torch/hub/checkpoints/efficientnet-b2-8bb594d6.pth\n"
     ]
    },
    {
     "data": {
      "application/vnd.jupyter.widget-view+json": {
       "model_id": "71001f74d99c42db8d6861e5edef1002",
       "version_major": 2,
       "version_minor": 0
      },
      "text/plain": [
       "  0%|          | 0.00/35.1M [00:00<?, ?B/s]"
      ]
     },
     "metadata": {},
     "output_type": "display_data"
    },
    {
     "name": "stdout",
     "output_type": "stream",
     "text": [
      "Loaded pretrained weights for efficientnet-b2\n"
     ]
    }
   ],
   "source": [
    "model_transfer= EfficientNet.from_pretrained('efficientnet-b2')"
   ]
  },
  {
   "cell_type": "code",
   "execution_count": 59,
   "id": "7e7c3b45",
   "metadata": {
    "execution": {
     "iopub.execute_input": "2022-02-04T10:30:35.891420Z",
     "iopub.status.busy": "2022-02-04T10:30:35.890279Z",
     "iopub.status.idle": "2022-02-04T10:30:35.893717Z",
     "shell.execute_reply": "2022-02-04T10:30:35.893099Z",
     "shell.execute_reply.started": "2022-02-03T19:05:55.547807Z"
    },
    "papermill": {
     "duration": 0.127567,
     "end_time": "2022-02-04T10:30:35.893856",
     "exception": false,
     "start_time": "2022-02-04T10:30:35.766289",
     "status": "completed"
    },
    "tags": []
   },
   "outputs": [],
   "source": [
    "#model_transfer"
   ]
  },
  {
   "cell_type": "code",
   "execution_count": 60,
   "id": "9a983b38",
   "metadata": {
    "execution": {
     "iopub.execute_input": "2022-02-04T10:30:36.141692Z",
     "iopub.status.busy": "2022-02-04T10:30:36.140647Z",
     "iopub.status.idle": "2022-02-04T10:30:36.152547Z",
     "shell.execute_reply": "2022-02-04T10:30:36.153505Z",
     "shell.execute_reply.started": "2022-02-03T19:05:55.862188Z"
    },
    "papermill": {
     "duration": 0.141403,
     "end_time": "2022-02-04T10:30:36.153688",
     "exception": false,
     "start_time": "2022-02-04T10:30:36.012285",
     "status": "completed"
    },
    "tags": []
   },
   "outputs": [],
   "source": [
    "for param in model_transfer.parameters():\n",
    "    param.requires_grad = False\n",
    "in_features = model_transfer._fc.in_features\n",
    "model_transfer._fc = nn.Sequential(\n",
    "    nn.BatchNorm1d(num_features=in_features),    \n",
    "    nn.Linear(in_features, 512),\n",
    "    nn.ReLU(),\n",
    "    nn.BatchNorm1d(512),\n",
    "    nn.Linear(512, 128),\n",
    "    nn.ReLU(),\n",
    "    nn.BatchNorm1d(num_features=128),\n",
    "    nn.Dropout(0.4),\n",
    "    nn.Linear(128, 11),\n",
    "    )\n",
    "        \n",
    "for param in model_transfer._fc.parameters():\n",
    "    param.require_grad = True"
   ]
  },
  {
   "cell_type": "code",
   "execution_count": 61,
   "id": "d5ea5907",
   "metadata": {
    "execution": {
     "iopub.execute_input": "2022-02-04T10:30:36.395790Z",
     "iopub.status.busy": "2022-02-04T10:30:36.394635Z",
     "iopub.status.idle": "2022-02-04T10:30:36.397293Z",
     "shell.execute_reply": "2022-02-04T10:30:36.397837Z",
     "shell.execute_reply.started": "2022-02-03T19:05:56.124315Z"
    },
    "papermill": {
     "duration": 0.125387,
     "end_time": "2022-02-04T10:30:36.398031",
     "exception": false,
     "start_time": "2022-02-04T10:30:36.272644",
     "status": "completed"
    },
    "tags": []
   },
   "outputs": [],
   "source": [
    "\n",
    "    #print(param)"
   ]
  },
  {
   "cell_type": "code",
   "execution_count": 62,
   "id": "74a7b72b",
   "metadata": {
    "execution": {
     "iopub.execute_input": "2022-02-04T10:30:36.646052Z",
     "iopub.status.busy": "2022-02-04T10:30:36.644943Z",
     "iopub.status.idle": "2022-02-04T10:30:36.647290Z",
     "shell.execute_reply": "2022-02-04T10:30:36.647927Z",
     "shell.execute_reply.started": "2022-02-03T19:05:56.53402Z"
    },
    "papermill": {
     "duration": 0.128346,
     "end_time": "2022-02-04T10:30:36.648101",
     "exception": false,
     "start_time": "2022-02-04T10:30:36.519755",
     "status": "completed"
    },
    "tags": []
   },
   "outputs": [],
   "source": [
    "model=Classifier(model_transfer)"
   ]
  },
  {
   "cell_type": "code",
   "execution_count": 63,
   "id": "dd4e435b",
   "metadata": {
    "execution": {
     "iopub.execute_input": "2022-02-04T10:30:36.898832Z",
     "iopub.status.busy": "2022-02-04T10:30:36.894951Z",
     "iopub.status.idle": "2022-02-04T10:30:36.904155Z",
     "shell.execute_reply": "2022-02-04T10:30:36.904754Z",
     "shell.execute_reply.started": "2022-02-03T19:05:56.865801Z"
    },
    "papermill": {
     "duration": 0.137834,
     "end_time": "2022-02-04T10:30:36.904962",
     "exception": false,
     "start_time": "2022-02-04T10:30:36.767128",
     "status": "completed"
    },
    "tags": []
   },
   "outputs": [
    {
     "data": {
      "text/plain": [
       "Classifier(\n",
       "  (eff): EfficientNet(\n",
       "    (_conv_stem): Conv2dStaticSamePadding(\n",
       "      3, 32, kernel_size=(3, 3), stride=(2, 2), bias=False\n",
       "      (static_padding): ZeroPad2d(padding=(0, 1, 0, 1), value=0.0)\n",
       "    )\n",
       "    (_bn0): BatchNorm2d(32, eps=0.001, momentum=0.010000000000000009, affine=True, track_running_stats=True)\n",
       "    (_blocks): ModuleList(\n",
       "      (0): MBConvBlock(\n",
       "        (_depthwise_conv): Conv2dStaticSamePadding(\n",
       "          32, 32, kernel_size=(3, 3), stride=[1, 1], groups=32, bias=False\n",
       "          (static_padding): ZeroPad2d(padding=(1, 1, 1, 1), value=0.0)\n",
       "        )\n",
       "        (_bn1): BatchNorm2d(32, eps=0.001, momentum=0.010000000000000009, affine=True, track_running_stats=True)\n",
       "        (_se_reduce): Conv2dStaticSamePadding(\n",
       "          32, 8, kernel_size=(1, 1), stride=(1, 1)\n",
       "          (static_padding): Identity()\n",
       "        )\n",
       "        (_se_expand): Conv2dStaticSamePadding(\n",
       "          8, 32, kernel_size=(1, 1), stride=(1, 1)\n",
       "          (static_padding): Identity()\n",
       "        )\n",
       "        (_project_conv): Conv2dStaticSamePadding(\n",
       "          32, 16, kernel_size=(1, 1), stride=(1, 1), bias=False\n",
       "          (static_padding): Identity()\n",
       "        )\n",
       "        (_bn2): BatchNorm2d(16, eps=0.001, momentum=0.010000000000000009, affine=True, track_running_stats=True)\n",
       "        (_swish): MemoryEfficientSwish()\n",
       "      )\n",
       "      (1): MBConvBlock(\n",
       "        (_depthwise_conv): Conv2dStaticSamePadding(\n",
       "          16, 16, kernel_size=(3, 3), stride=(1, 1), groups=16, bias=False\n",
       "          (static_padding): ZeroPad2d(padding=(1, 1, 1, 1), value=0.0)\n",
       "        )\n",
       "        (_bn1): BatchNorm2d(16, eps=0.001, momentum=0.010000000000000009, affine=True, track_running_stats=True)\n",
       "        (_se_reduce): Conv2dStaticSamePadding(\n",
       "          16, 4, kernel_size=(1, 1), stride=(1, 1)\n",
       "          (static_padding): Identity()\n",
       "        )\n",
       "        (_se_expand): Conv2dStaticSamePadding(\n",
       "          4, 16, kernel_size=(1, 1), stride=(1, 1)\n",
       "          (static_padding): Identity()\n",
       "        )\n",
       "        (_project_conv): Conv2dStaticSamePadding(\n",
       "          16, 16, kernel_size=(1, 1), stride=(1, 1), bias=False\n",
       "          (static_padding): Identity()\n",
       "        )\n",
       "        (_bn2): BatchNorm2d(16, eps=0.001, momentum=0.010000000000000009, affine=True, track_running_stats=True)\n",
       "        (_swish): MemoryEfficientSwish()\n",
       "      )\n",
       "      (2): MBConvBlock(\n",
       "        (_expand_conv): Conv2dStaticSamePadding(\n",
       "          16, 96, kernel_size=(1, 1), stride=(1, 1), bias=False\n",
       "          (static_padding): Identity()\n",
       "        )\n",
       "        (_bn0): BatchNorm2d(96, eps=0.001, momentum=0.010000000000000009, affine=True, track_running_stats=True)\n",
       "        (_depthwise_conv): Conv2dStaticSamePadding(\n",
       "          96, 96, kernel_size=(3, 3), stride=[2, 2], groups=96, bias=False\n",
       "          (static_padding): ZeroPad2d(padding=(0, 1, 0, 1), value=0.0)\n",
       "        )\n",
       "        (_bn1): BatchNorm2d(96, eps=0.001, momentum=0.010000000000000009, affine=True, track_running_stats=True)\n",
       "        (_se_reduce): Conv2dStaticSamePadding(\n",
       "          96, 4, kernel_size=(1, 1), stride=(1, 1)\n",
       "          (static_padding): Identity()\n",
       "        )\n",
       "        (_se_expand): Conv2dStaticSamePadding(\n",
       "          4, 96, kernel_size=(1, 1), stride=(1, 1)\n",
       "          (static_padding): Identity()\n",
       "        )\n",
       "        (_project_conv): Conv2dStaticSamePadding(\n",
       "          96, 24, kernel_size=(1, 1), stride=(1, 1), bias=False\n",
       "          (static_padding): Identity()\n",
       "        )\n",
       "        (_bn2): BatchNorm2d(24, eps=0.001, momentum=0.010000000000000009, affine=True, track_running_stats=True)\n",
       "        (_swish): MemoryEfficientSwish()\n",
       "      )\n",
       "      (3): MBConvBlock(\n",
       "        (_expand_conv): Conv2dStaticSamePadding(\n",
       "          24, 144, kernel_size=(1, 1), stride=(1, 1), bias=False\n",
       "          (static_padding): Identity()\n",
       "        )\n",
       "        (_bn0): BatchNorm2d(144, eps=0.001, momentum=0.010000000000000009, affine=True, track_running_stats=True)\n",
       "        (_depthwise_conv): Conv2dStaticSamePadding(\n",
       "          144, 144, kernel_size=(3, 3), stride=(1, 1), groups=144, bias=False\n",
       "          (static_padding): ZeroPad2d(padding=(1, 1, 1, 1), value=0.0)\n",
       "        )\n",
       "        (_bn1): BatchNorm2d(144, eps=0.001, momentum=0.010000000000000009, affine=True, track_running_stats=True)\n",
       "        (_se_reduce): Conv2dStaticSamePadding(\n",
       "          144, 6, kernel_size=(1, 1), stride=(1, 1)\n",
       "          (static_padding): Identity()\n",
       "        )\n",
       "        (_se_expand): Conv2dStaticSamePadding(\n",
       "          6, 144, kernel_size=(1, 1), stride=(1, 1)\n",
       "          (static_padding): Identity()\n",
       "        )\n",
       "        (_project_conv): Conv2dStaticSamePadding(\n",
       "          144, 24, kernel_size=(1, 1), stride=(1, 1), bias=False\n",
       "          (static_padding): Identity()\n",
       "        )\n",
       "        (_bn2): BatchNorm2d(24, eps=0.001, momentum=0.010000000000000009, affine=True, track_running_stats=True)\n",
       "        (_swish): MemoryEfficientSwish()\n",
       "      )\n",
       "      (4): MBConvBlock(\n",
       "        (_expand_conv): Conv2dStaticSamePadding(\n",
       "          24, 144, kernel_size=(1, 1), stride=(1, 1), bias=False\n",
       "          (static_padding): Identity()\n",
       "        )\n",
       "        (_bn0): BatchNorm2d(144, eps=0.001, momentum=0.010000000000000009, affine=True, track_running_stats=True)\n",
       "        (_depthwise_conv): Conv2dStaticSamePadding(\n",
       "          144, 144, kernel_size=(3, 3), stride=(1, 1), groups=144, bias=False\n",
       "          (static_padding): ZeroPad2d(padding=(1, 1, 1, 1), value=0.0)\n",
       "        )\n",
       "        (_bn1): BatchNorm2d(144, eps=0.001, momentum=0.010000000000000009, affine=True, track_running_stats=True)\n",
       "        (_se_reduce): Conv2dStaticSamePadding(\n",
       "          144, 6, kernel_size=(1, 1), stride=(1, 1)\n",
       "          (static_padding): Identity()\n",
       "        )\n",
       "        (_se_expand): Conv2dStaticSamePadding(\n",
       "          6, 144, kernel_size=(1, 1), stride=(1, 1)\n",
       "          (static_padding): Identity()\n",
       "        )\n",
       "        (_project_conv): Conv2dStaticSamePadding(\n",
       "          144, 24, kernel_size=(1, 1), stride=(1, 1), bias=False\n",
       "          (static_padding): Identity()\n",
       "        )\n",
       "        (_bn2): BatchNorm2d(24, eps=0.001, momentum=0.010000000000000009, affine=True, track_running_stats=True)\n",
       "        (_swish): MemoryEfficientSwish()\n",
       "      )\n",
       "      (5): MBConvBlock(\n",
       "        (_expand_conv): Conv2dStaticSamePadding(\n",
       "          24, 144, kernel_size=(1, 1), stride=(1, 1), bias=False\n",
       "          (static_padding): Identity()\n",
       "        )\n",
       "        (_bn0): BatchNorm2d(144, eps=0.001, momentum=0.010000000000000009, affine=True, track_running_stats=True)\n",
       "        (_depthwise_conv): Conv2dStaticSamePadding(\n",
       "          144, 144, kernel_size=(5, 5), stride=[2, 2], groups=144, bias=False\n",
       "          (static_padding): ZeroPad2d(padding=(2, 2, 2, 2), value=0.0)\n",
       "        )\n",
       "        (_bn1): BatchNorm2d(144, eps=0.001, momentum=0.010000000000000009, affine=True, track_running_stats=True)\n",
       "        (_se_reduce): Conv2dStaticSamePadding(\n",
       "          144, 6, kernel_size=(1, 1), stride=(1, 1)\n",
       "          (static_padding): Identity()\n",
       "        )\n",
       "        (_se_expand): Conv2dStaticSamePadding(\n",
       "          6, 144, kernel_size=(1, 1), stride=(1, 1)\n",
       "          (static_padding): Identity()\n",
       "        )\n",
       "        (_project_conv): Conv2dStaticSamePadding(\n",
       "          144, 48, kernel_size=(1, 1), stride=(1, 1), bias=False\n",
       "          (static_padding): Identity()\n",
       "        )\n",
       "        (_bn2): BatchNorm2d(48, eps=0.001, momentum=0.010000000000000009, affine=True, track_running_stats=True)\n",
       "        (_swish): MemoryEfficientSwish()\n",
       "      )\n",
       "      (6): MBConvBlock(\n",
       "        (_expand_conv): Conv2dStaticSamePadding(\n",
       "          48, 288, kernel_size=(1, 1), stride=(1, 1), bias=False\n",
       "          (static_padding): Identity()\n",
       "        )\n",
       "        (_bn0): BatchNorm2d(288, eps=0.001, momentum=0.010000000000000009, affine=True, track_running_stats=True)\n",
       "        (_depthwise_conv): Conv2dStaticSamePadding(\n",
       "          288, 288, kernel_size=(5, 5), stride=(1, 1), groups=288, bias=False\n",
       "          (static_padding): ZeroPad2d(padding=(2, 2, 2, 2), value=0.0)\n",
       "        )\n",
       "        (_bn1): BatchNorm2d(288, eps=0.001, momentum=0.010000000000000009, affine=True, track_running_stats=True)\n",
       "        (_se_reduce): Conv2dStaticSamePadding(\n",
       "          288, 12, kernel_size=(1, 1), stride=(1, 1)\n",
       "          (static_padding): Identity()\n",
       "        )\n",
       "        (_se_expand): Conv2dStaticSamePadding(\n",
       "          12, 288, kernel_size=(1, 1), stride=(1, 1)\n",
       "          (static_padding): Identity()\n",
       "        )\n",
       "        (_project_conv): Conv2dStaticSamePadding(\n",
       "          288, 48, kernel_size=(1, 1), stride=(1, 1), bias=False\n",
       "          (static_padding): Identity()\n",
       "        )\n",
       "        (_bn2): BatchNorm2d(48, eps=0.001, momentum=0.010000000000000009, affine=True, track_running_stats=True)\n",
       "        (_swish): MemoryEfficientSwish()\n",
       "      )\n",
       "      (7): MBConvBlock(\n",
       "        (_expand_conv): Conv2dStaticSamePadding(\n",
       "          48, 288, kernel_size=(1, 1), stride=(1, 1), bias=False\n",
       "          (static_padding): Identity()\n",
       "        )\n",
       "        (_bn0): BatchNorm2d(288, eps=0.001, momentum=0.010000000000000009, affine=True, track_running_stats=True)\n",
       "        (_depthwise_conv): Conv2dStaticSamePadding(\n",
       "          288, 288, kernel_size=(5, 5), stride=(1, 1), groups=288, bias=False\n",
       "          (static_padding): ZeroPad2d(padding=(2, 2, 2, 2), value=0.0)\n",
       "        )\n",
       "        (_bn1): BatchNorm2d(288, eps=0.001, momentum=0.010000000000000009, affine=True, track_running_stats=True)\n",
       "        (_se_reduce): Conv2dStaticSamePadding(\n",
       "          288, 12, kernel_size=(1, 1), stride=(1, 1)\n",
       "          (static_padding): Identity()\n",
       "        )\n",
       "        (_se_expand): Conv2dStaticSamePadding(\n",
       "          12, 288, kernel_size=(1, 1), stride=(1, 1)\n",
       "          (static_padding): Identity()\n",
       "        )\n",
       "        (_project_conv): Conv2dStaticSamePadding(\n",
       "          288, 48, kernel_size=(1, 1), stride=(1, 1), bias=False\n",
       "          (static_padding): Identity()\n",
       "        )\n",
       "        (_bn2): BatchNorm2d(48, eps=0.001, momentum=0.010000000000000009, affine=True, track_running_stats=True)\n",
       "        (_swish): MemoryEfficientSwish()\n",
       "      )\n",
       "      (8): MBConvBlock(\n",
       "        (_expand_conv): Conv2dStaticSamePadding(\n",
       "          48, 288, kernel_size=(1, 1), stride=(1, 1), bias=False\n",
       "          (static_padding): Identity()\n",
       "        )\n",
       "        (_bn0): BatchNorm2d(288, eps=0.001, momentum=0.010000000000000009, affine=True, track_running_stats=True)\n",
       "        (_depthwise_conv): Conv2dStaticSamePadding(\n",
       "          288, 288, kernel_size=(3, 3), stride=[2, 2], groups=288, bias=False\n",
       "          (static_padding): ZeroPad2d(padding=(1, 1, 1, 1), value=0.0)\n",
       "        )\n",
       "        (_bn1): BatchNorm2d(288, eps=0.001, momentum=0.010000000000000009, affine=True, track_running_stats=True)\n",
       "        (_se_reduce): Conv2dStaticSamePadding(\n",
       "          288, 12, kernel_size=(1, 1), stride=(1, 1)\n",
       "          (static_padding): Identity()\n",
       "        )\n",
       "        (_se_expand): Conv2dStaticSamePadding(\n",
       "          12, 288, kernel_size=(1, 1), stride=(1, 1)\n",
       "          (static_padding): Identity()\n",
       "        )\n",
       "        (_project_conv): Conv2dStaticSamePadding(\n",
       "          288, 88, kernel_size=(1, 1), stride=(1, 1), bias=False\n",
       "          (static_padding): Identity()\n",
       "        )\n",
       "        (_bn2): BatchNorm2d(88, eps=0.001, momentum=0.010000000000000009, affine=True, track_running_stats=True)\n",
       "        (_swish): MemoryEfficientSwish()\n",
       "      )\n",
       "      (9): MBConvBlock(\n",
       "        (_expand_conv): Conv2dStaticSamePadding(\n",
       "          88, 528, kernel_size=(1, 1), stride=(1, 1), bias=False\n",
       "          (static_padding): Identity()\n",
       "        )\n",
       "        (_bn0): BatchNorm2d(528, eps=0.001, momentum=0.010000000000000009, affine=True, track_running_stats=True)\n",
       "        (_depthwise_conv): Conv2dStaticSamePadding(\n",
       "          528, 528, kernel_size=(3, 3), stride=(1, 1), groups=528, bias=False\n",
       "          (static_padding): ZeroPad2d(padding=(1, 1, 1, 1), value=0.0)\n",
       "        )\n",
       "        (_bn1): BatchNorm2d(528, eps=0.001, momentum=0.010000000000000009, affine=True, track_running_stats=True)\n",
       "        (_se_reduce): Conv2dStaticSamePadding(\n",
       "          528, 22, kernel_size=(1, 1), stride=(1, 1)\n",
       "          (static_padding): Identity()\n",
       "        )\n",
       "        (_se_expand): Conv2dStaticSamePadding(\n",
       "          22, 528, kernel_size=(1, 1), stride=(1, 1)\n",
       "          (static_padding): Identity()\n",
       "        )\n",
       "        (_project_conv): Conv2dStaticSamePadding(\n",
       "          528, 88, kernel_size=(1, 1), stride=(1, 1), bias=False\n",
       "          (static_padding): Identity()\n",
       "        )\n",
       "        (_bn2): BatchNorm2d(88, eps=0.001, momentum=0.010000000000000009, affine=True, track_running_stats=True)\n",
       "        (_swish): MemoryEfficientSwish()\n",
       "      )\n",
       "      (10): MBConvBlock(\n",
       "        (_expand_conv): Conv2dStaticSamePadding(\n",
       "          88, 528, kernel_size=(1, 1), stride=(1, 1), bias=False\n",
       "          (static_padding): Identity()\n",
       "        )\n",
       "        (_bn0): BatchNorm2d(528, eps=0.001, momentum=0.010000000000000009, affine=True, track_running_stats=True)\n",
       "        (_depthwise_conv): Conv2dStaticSamePadding(\n",
       "          528, 528, kernel_size=(3, 3), stride=(1, 1), groups=528, bias=False\n",
       "          (static_padding): ZeroPad2d(padding=(1, 1, 1, 1), value=0.0)\n",
       "        )\n",
       "        (_bn1): BatchNorm2d(528, eps=0.001, momentum=0.010000000000000009, affine=True, track_running_stats=True)\n",
       "        (_se_reduce): Conv2dStaticSamePadding(\n",
       "          528, 22, kernel_size=(1, 1), stride=(1, 1)\n",
       "          (static_padding): Identity()\n",
       "        )\n",
       "        (_se_expand): Conv2dStaticSamePadding(\n",
       "          22, 528, kernel_size=(1, 1), stride=(1, 1)\n",
       "          (static_padding): Identity()\n",
       "        )\n",
       "        (_project_conv): Conv2dStaticSamePadding(\n",
       "          528, 88, kernel_size=(1, 1), stride=(1, 1), bias=False\n",
       "          (static_padding): Identity()\n",
       "        )\n",
       "        (_bn2): BatchNorm2d(88, eps=0.001, momentum=0.010000000000000009, affine=True, track_running_stats=True)\n",
       "        (_swish): MemoryEfficientSwish()\n",
       "      )\n",
       "      (11): MBConvBlock(\n",
       "        (_expand_conv): Conv2dStaticSamePadding(\n",
       "          88, 528, kernel_size=(1, 1), stride=(1, 1), bias=False\n",
       "          (static_padding): Identity()\n",
       "        )\n",
       "        (_bn0): BatchNorm2d(528, eps=0.001, momentum=0.010000000000000009, affine=True, track_running_stats=True)\n",
       "        (_depthwise_conv): Conv2dStaticSamePadding(\n",
       "          528, 528, kernel_size=(3, 3), stride=(1, 1), groups=528, bias=False\n",
       "          (static_padding): ZeroPad2d(padding=(1, 1, 1, 1), value=0.0)\n",
       "        )\n",
       "        (_bn1): BatchNorm2d(528, eps=0.001, momentum=0.010000000000000009, affine=True, track_running_stats=True)\n",
       "        (_se_reduce): Conv2dStaticSamePadding(\n",
       "          528, 22, kernel_size=(1, 1), stride=(1, 1)\n",
       "          (static_padding): Identity()\n",
       "        )\n",
       "        (_se_expand): Conv2dStaticSamePadding(\n",
       "          22, 528, kernel_size=(1, 1), stride=(1, 1)\n",
       "          (static_padding): Identity()\n",
       "        )\n",
       "        (_project_conv): Conv2dStaticSamePadding(\n",
       "          528, 88, kernel_size=(1, 1), stride=(1, 1), bias=False\n",
       "          (static_padding): Identity()\n",
       "        )\n",
       "        (_bn2): BatchNorm2d(88, eps=0.001, momentum=0.010000000000000009, affine=True, track_running_stats=True)\n",
       "        (_swish): MemoryEfficientSwish()\n",
       "      )\n",
       "      (12): MBConvBlock(\n",
       "        (_expand_conv): Conv2dStaticSamePadding(\n",
       "          88, 528, kernel_size=(1, 1), stride=(1, 1), bias=False\n",
       "          (static_padding): Identity()\n",
       "        )\n",
       "        (_bn0): BatchNorm2d(528, eps=0.001, momentum=0.010000000000000009, affine=True, track_running_stats=True)\n",
       "        (_depthwise_conv): Conv2dStaticSamePadding(\n",
       "          528, 528, kernel_size=(5, 5), stride=[1, 1], groups=528, bias=False\n",
       "          (static_padding): ZeroPad2d(padding=(2, 2, 2, 2), value=0.0)\n",
       "        )\n",
       "        (_bn1): BatchNorm2d(528, eps=0.001, momentum=0.010000000000000009, affine=True, track_running_stats=True)\n",
       "        (_se_reduce): Conv2dStaticSamePadding(\n",
       "          528, 22, kernel_size=(1, 1), stride=(1, 1)\n",
       "          (static_padding): Identity()\n",
       "        )\n",
       "        (_se_expand): Conv2dStaticSamePadding(\n",
       "          22, 528, kernel_size=(1, 1), stride=(1, 1)\n",
       "          (static_padding): Identity()\n",
       "        )\n",
       "        (_project_conv): Conv2dStaticSamePadding(\n",
       "          528, 120, kernel_size=(1, 1), stride=(1, 1), bias=False\n",
       "          (static_padding): Identity()\n",
       "        )\n",
       "        (_bn2): BatchNorm2d(120, eps=0.001, momentum=0.010000000000000009, affine=True, track_running_stats=True)\n",
       "        (_swish): MemoryEfficientSwish()\n",
       "      )\n",
       "      (13): MBConvBlock(\n",
       "        (_expand_conv): Conv2dStaticSamePadding(\n",
       "          120, 720, kernel_size=(1, 1), stride=(1, 1), bias=False\n",
       "          (static_padding): Identity()\n",
       "        )\n",
       "        (_bn0): BatchNorm2d(720, eps=0.001, momentum=0.010000000000000009, affine=True, track_running_stats=True)\n",
       "        (_depthwise_conv): Conv2dStaticSamePadding(\n",
       "          720, 720, kernel_size=(5, 5), stride=(1, 1), groups=720, bias=False\n",
       "          (static_padding): ZeroPad2d(padding=(2, 2, 2, 2), value=0.0)\n",
       "        )\n",
       "        (_bn1): BatchNorm2d(720, eps=0.001, momentum=0.010000000000000009, affine=True, track_running_stats=True)\n",
       "        (_se_reduce): Conv2dStaticSamePadding(\n",
       "          720, 30, kernel_size=(1, 1), stride=(1, 1)\n",
       "          (static_padding): Identity()\n",
       "        )\n",
       "        (_se_expand): Conv2dStaticSamePadding(\n",
       "          30, 720, kernel_size=(1, 1), stride=(1, 1)\n",
       "          (static_padding): Identity()\n",
       "        )\n",
       "        (_project_conv): Conv2dStaticSamePadding(\n",
       "          720, 120, kernel_size=(1, 1), stride=(1, 1), bias=False\n",
       "          (static_padding): Identity()\n",
       "        )\n",
       "        (_bn2): BatchNorm2d(120, eps=0.001, momentum=0.010000000000000009, affine=True, track_running_stats=True)\n",
       "        (_swish): MemoryEfficientSwish()\n",
       "      )\n",
       "      (14): MBConvBlock(\n",
       "        (_expand_conv): Conv2dStaticSamePadding(\n",
       "          120, 720, kernel_size=(1, 1), stride=(1, 1), bias=False\n",
       "          (static_padding): Identity()\n",
       "        )\n",
       "        (_bn0): BatchNorm2d(720, eps=0.001, momentum=0.010000000000000009, affine=True, track_running_stats=True)\n",
       "        (_depthwise_conv): Conv2dStaticSamePadding(\n",
       "          720, 720, kernel_size=(5, 5), stride=(1, 1), groups=720, bias=False\n",
       "          (static_padding): ZeroPad2d(padding=(2, 2, 2, 2), value=0.0)\n",
       "        )\n",
       "        (_bn1): BatchNorm2d(720, eps=0.001, momentum=0.010000000000000009, affine=True, track_running_stats=True)\n",
       "        (_se_reduce): Conv2dStaticSamePadding(\n",
       "          720, 30, kernel_size=(1, 1), stride=(1, 1)\n",
       "          (static_padding): Identity()\n",
       "        )\n",
       "        (_se_expand): Conv2dStaticSamePadding(\n",
       "          30, 720, kernel_size=(1, 1), stride=(1, 1)\n",
       "          (static_padding): Identity()\n",
       "        )\n",
       "        (_project_conv): Conv2dStaticSamePadding(\n",
       "          720, 120, kernel_size=(1, 1), stride=(1, 1), bias=False\n",
       "          (static_padding): Identity()\n",
       "        )\n",
       "        (_bn2): BatchNorm2d(120, eps=0.001, momentum=0.010000000000000009, affine=True, track_running_stats=True)\n",
       "        (_swish): MemoryEfficientSwish()\n",
       "      )\n",
       "      (15): MBConvBlock(\n",
       "        (_expand_conv): Conv2dStaticSamePadding(\n",
       "          120, 720, kernel_size=(1, 1), stride=(1, 1), bias=False\n",
       "          (static_padding): Identity()\n",
       "        )\n",
       "        (_bn0): BatchNorm2d(720, eps=0.001, momentum=0.010000000000000009, affine=True, track_running_stats=True)\n",
       "        (_depthwise_conv): Conv2dStaticSamePadding(\n",
       "          720, 720, kernel_size=(5, 5), stride=(1, 1), groups=720, bias=False\n",
       "          (static_padding): ZeroPad2d(padding=(2, 2, 2, 2), value=0.0)\n",
       "        )\n",
       "        (_bn1): BatchNorm2d(720, eps=0.001, momentum=0.010000000000000009, affine=True, track_running_stats=True)\n",
       "        (_se_reduce): Conv2dStaticSamePadding(\n",
       "          720, 30, kernel_size=(1, 1), stride=(1, 1)\n",
       "          (static_padding): Identity()\n",
       "        )\n",
       "        (_se_expand): Conv2dStaticSamePadding(\n",
       "          30, 720, kernel_size=(1, 1), stride=(1, 1)\n",
       "          (static_padding): Identity()\n",
       "        )\n",
       "        (_project_conv): Conv2dStaticSamePadding(\n",
       "          720, 120, kernel_size=(1, 1), stride=(1, 1), bias=False\n",
       "          (static_padding): Identity()\n",
       "        )\n",
       "        (_bn2): BatchNorm2d(120, eps=0.001, momentum=0.010000000000000009, affine=True, track_running_stats=True)\n",
       "        (_swish): MemoryEfficientSwish()\n",
       "      )\n",
       "      (16): MBConvBlock(\n",
       "        (_expand_conv): Conv2dStaticSamePadding(\n",
       "          120, 720, kernel_size=(1, 1), stride=(1, 1), bias=False\n",
       "          (static_padding): Identity()\n",
       "        )\n",
       "        (_bn0): BatchNorm2d(720, eps=0.001, momentum=0.010000000000000009, affine=True, track_running_stats=True)\n",
       "        (_depthwise_conv): Conv2dStaticSamePadding(\n",
       "          720, 720, kernel_size=(5, 5), stride=[2, 2], groups=720, bias=False\n",
       "          (static_padding): ZeroPad2d(padding=(2, 2, 2, 2), value=0.0)\n",
       "        )\n",
       "        (_bn1): BatchNorm2d(720, eps=0.001, momentum=0.010000000000000009, affine=True, track_running_stats=True)\n",
       "        (_se_reduce): Conv2dStaticSamePadding(\n",
       "          720, 30, kernel_size=(1, 1), stride=(1, 1)\n",
       "          (static_padding): Identity()\n",
       "        )\n",
       "        (_se_expand): Conv2dStaticSamePadding(\n",
       "          30, 720, kernel_size=(1, 1), stride=(1, 1)\n",
       "          (static_padding): Identity()\n",
       "        )\n",
       "        (_project_conv): Conv2dStaticSamePadding(\n",
       "          720, 208, kernel_size=(1, 1), stride=(1, 1), bias=False\n",
       "          (static_padding): Identity()\n",
       "        )\n",
       "        (_bn2): BatchNorm2d(208, eps=0.001, momentum=0.010000000000000009, affine=True, track_running_stats=True)\n",
       "        (_swish): MemoryEfficientSwish()\n",
       "      )\n",
       "      (17): MBConvBlock(\n",
       "        (_expand_conv): Conv2dStaticSamePadding(\n",
       "          208, 1248, kernel_size=(1, 1), stride=(1, 1), bias=False\n",
       "          (static_padding): Identity()\n",
       "        )\n",
       "        (_bn0): BatchNorm2d(1248, eps=0.001, momentum=0.010000000000000009, affine=True, track_running_stats=True)\n",
       "        (_depthwise_conv): Conv2dStaticSamePadding(\n",
       "          1248, 1248, kernel_size=(5, 5), stride=(1, 1), groups=1248, bias=False\n",
       "          (static_padding): ZeroPad2d(padding=(2, 2, 2, 2), value=0.0)\n",
       "        )\n",
       "        (_bn1): BatchNorm2d(1248, eps=0.001, momentum=0.010000000000000009, affine=True, track_running_stats=True)\n",
       "        (_se_reduce): Conv2dStaticSamePadding(\n",
       "          1248, 52, kernel_size=(1, 1), stride=(1, 1)\n",
       "          (static_padding): Identity()\n",
       "        )\n",
       "        (_se_expand): Conv2dStaticSamePadding(\n",
       "          52, 1248, kernel_size=(1, 1), stride=(1, 1)\n",
       "          (static_padding): Identity()\n",
       "        )\n",
       "        (_project_conv): Conv2dStaticSamePadding(\n",
       "          1248, 208, kernel_size=(1, 1), stride=(1, 1), bias=False\n",
       "          (static_padding): Identity()\n",
       "        )\n",
       "        (_bn2): BatchNorm2d(208, eps=0.001, momentum=0.010000000000000009, affine=True, track_running_stats=True)\n",
       "        (_swish): MemoryEfficientSwish()\n",
       "      )\n",
       "      (18): MBConvBlock(\n",
       "        (_expand_conv): Conv2dStaticSamePadding(\n",
       "          208, 1248, kernel_size=(1, 1), stride=(1, 1), bias=False\n",
       "          (static_padding): Identity()\n",
       "        )\n",
       "        (_bn0): BatchNorm2d(1248, eps=0.001, momentum=0.010000000000000009, affine=True, track_running_stats=True)\n",
       "        (_depthwise_conv): Conv2dStaticSamePadding(\n",
       "          1248, 1248, kernel_size=(5, 5), stride=(1, 1), groups=1248, bias=False\n",
       "          (static_padding): ZeroPad2d(padding=(2, 2, 2, 2), value=0.0)\n",
       "        )\n",
       "        (_bn1): BatchNorm2d(1248, eps=0.001, momentum=0.010000000000000009, affine=True, track_running_stats=True)\n",
       "        (_se_reduce): Conv2dStaticSamePadding(\n",
       "          1248, 52, kernel_size=(1, 1), stride=(1, 1)\n",
       "          (static_padding): Identity()\n",
       "        )\n",
       "        (_se_expand): Conv2dStaticSamePadding(\n",
       "          52, 1248, kernel_size=(1, 1), stride=(1, 1)\n",
       "          (static_padding): Identity()\n",
       "        )\n",
       "        (_project_conv): Conv2dStaticSamePadding(\n",
       "          1248, 208, kernel_size=(1, 1), stride=(1, 1), bias=False\n",
       "          (static_padding): Identity()\n",
       "        )\n",
       "        (_bn2): BatchNorm2d(208, eps=0.001, momentum=0.010000000000000009, affine=True, track_running_stats=True)\n",
       "        (_swish): MemoryEfficientSwish()\n",
       "      )\n",
       "      (19): MBConvBlock(\n",
       "        (_expand_conv): Conv2dStaticSamePadding(\n",
       "          208, 1248, kernel_size=(1, 1), stride=(1, 1), bias=False\n",
       "          (static_padding): Identity()\n",
       "        )\n",
       "        (_bn0): BatchNorm2d(1248, eps=0.001, momentum=0.010000000000000009, affine=True, track_running_stats=True)\n",
       "        (_depthwise_conv): Conv2dStaticSamePadding(\n",
       "          1248, 1248, kernel_size=(5, 5), stride=(1, 1), groups=1248, bias=False\n",
       "          (static_padding): ZeroPad2d(padding=(2, 2, 2, 2), value=0.0)\n",
       "        )\n",
       "        (_bn1): BatchNorm2d(1248, eps=0.001, momentum=0.010000000000000009, affine=True, track_running_stats=True)\n",
       "        (_se_reduce): Conv2dStaticSamePadding(\n",
       "          1248, 52, kernel_size=(1, 1), stride=(1, 1)\n",
       "          (static_padding): Identity()\n",
       "        )\n",
       "        (_se_expand): Conv2dStaticSamePadding(\n",
       "          52, 1248, kernel_size=(1, 1), stride=(1, 1)\n",
       "          (static_padding): Identity()\n",
       "        )\n",
       "        (_project_conv): Conv2dStaticSamePadding(\n",
       "          1248, 208, kernel_size=(1, 1), stride=(1, 1), bias=False\n",
       "          (static_padding): Identity()\n",
       "        )\n",
       "        (_bn2): BatchNorm2d(208, eps=0.001, momentum=0.010000000000000009, affine=True, track_running_stats=True)\n",
       "        (_swish): MemoryEfficientSwish()\n",
       "      )\n",
       "      (20): MBConvBlock(\n",
       "        (_expand_conv): Conv2dStaticSamePadding(\n",
       "          208, 1248, kernel_size=(1, 1), stride=(1, 1), bias=False\n",
       "          (static_padding): Identity()\n",
       "        )\n",
       "        (_bn0): BatchNorm2d(1248, eps=0.001, momentum=0.010000000000000009, affine=True, track_running_stats=True)\n",
       "        (_depthwise_conv): Conv2dStaticSamePadding(\n",
       "          1248, 1248, kernel_size=(5, 5), stride=(1, 1), groups=1248, bias=False\n",
       "          (static_padding): ZeroPad2d(padding=(2, 2, 2, 2), value=0.0)\n",
       "        )\n",
       "        (_bn1): BatchNorm2d(1248, eps=0.001, momentum=0.010000000000000009, affine=True, track_running_stats=True)\n",
       "        (_se_reduce): Conv2dStaticSamePadding(\n",
       "          1248, 52, kernel_size=(1, 1), stride=(1, 1)\n",
       "          (static_padding): Identity()\n",
       "        )\n",
       "        (_se_expand): Conv2dStaticSamePadding(\n",
       "          52, 1248, kernel_size=(1, 1), stride=(1, 1)\n",
       "          (static_padding): Identity()\n",
       "        )\n",
       "        (_project_conv): Conv2dStaticSamePadding(\n",
       "          1248, 208, kernel_size=(1, 1), stride=(1, 1), bias=False\n",
       "          (static_padding): Identity()\n",
       "        )\n",
       "        (_bn2): BatchNorm2d(208, eps=0.001, momentum=0.010000000000000009, affine=True, track_running_stats=True)\n",
       "        (_swish): MemoryEfficientSwish()\n",
       "      )\n",
       "      (21): MBConvBlock(\n",
       "        (_expand_conv): Conv2dStaticSamePadding(\n",
       "          208, 1248, kernel_size=(1, 1), stride=(1, 1), bias=False\n",
       "          (static_padding): Identity()\n",
       "        )\n",
       "        (_bn0): BatchNorm2d(1248, eps=0.001, momentum=0.010000000000000009, affine=True, track_running_stats=True)\n",
       "        (_depthwise_conv): Conv2dStaticSamePadding(\n",
       "          1248, 1248, kernel_size=(3, 3), stride=[1, 1], groups=1248, bias=False\n",
       "          (static_padding): ZeroPad2d(padding=(1, 1, 1, 1), value=0.0)\n",
       "        )\n",
       "        (_bn1): BatchNorm2d(1248, eps=0.001, momentum=0.010000000000000009, affine=True, track_running_stats=True)\n",
       "        (_se_reduce): Conv2dStaticSamePadding(\n",
       "          1248, 52, kernel_size=(1, 1), stride=(1, 1)\n",
       "          (static_padding): Identity()\n",
       "        )\n",
       "        (_se_expand): Conv2dStaticSamePadding(\n",
       "          52, 1248, kernel_size=(1, 1), stride=(1, 1)\n",
       "          (static_padding): Identity()\n",
       "        )\n",
       "        (_project_conv): Conv2dStaticSamePadding(\n",
       "          1248, 352, kernel_size=(1, 1), stride=(1, 1), bias=False\n",
       "          (static_padding): Identity()\n",
       "        )\n",
       "        (_bn2): BatchNorm2d(352, eps=0.001, momentum=0.010000000000000009, affine=True, track_running_stats=True)\n",
       "        (_swish): MemoryEfficientSwish()\n",
       "      )\n",
       "      (22): MBConvBlock(\n",
       "        (_expand_conv): Conv2dStaticSamePadding(\n",
       "          352, 2112, kernel_size=(1, 1), stride=(1, 1), bias=False\n",
       "          (static_padding): Identity()\n",
       "        )\n",
       "        (_bn0): BatchNorm2d(2112, eps=0.001, momentum=0.010000000000000009, affine=True, track_running_stats=True)\n",
       "        (_depthwise_conv): Conv2dStaticSamePadding(\n",
       "          2112, 2112, kernel_size=(3, 3), stride=(1, 1), groups=2112, bias=False\n",
       "          (static_padding): ZeroPad2d(padding=(1, 1, 1, 1), value=0.0)\n",
       "        )\n",
       "        (_bn1): BatchNorm2d(2112, eps=0.001, momentum=0.010000000000000009, affine=True, track_running_stats=True)\n",
       "        (_se_reduce): Conv2dStaticSamePadding(\n",
       "          2112, 88, kernel_size=(1, 1), stride=(1, 1)\n",
       "          (static_padding): Identity()\n",
       "        )\n",
       "        (_se_expand): Conv2dStaticSamePadding(\n",
       "          88, 2112, kernel_size=(1, 1), stride=(1, 1)\n",
       "          (static_padding): Identity()\n",
       "        )\n",
       "        (_project_conv): Conv2dStaticSamePadding(\n",
       "          2112, 352, kernel_size=(1, 1), stride=(1, 1), bias=False\n",
       "          (static_padding): Identity()\n",
       "        )\n",
       "        (_bn2): BatchNorm2d(352, eps=0.001, momentum=0.010000000000000009, affine=True, track_running_stats=True)\n",
       "        (_swish): MemoryEfficientSwish()\n",
       "      )\n",
       "    )\n",
       "    (_conv_head): Conv2dStaticSamePadding(\n",
       "      352, 1408, kernel_size=(1, 1), stride=(1, 1), bias=False\n",
       "      (static_padding): Identity()\n",
       "    )\n",
       "    (_bn1): BatchNorm2d(1408, eps=0.001, momentum=0.010000000000000009, affine=True, track_running_stats=True)\n",
       "    (_avg_pooling): AdaptiveAvgPool2d(output_size=1)\n",
       "    (_dropout): Dropout(p=0.3, inplace=False)\n",
       "    (_fc): Sequential(\n",
       "      (0): BatchNorm1d(1408, eps=1e-05, momentum=0.1, affine=True, track_running_stats=True)\n",
       "      (1): Linear(in_features=1408, out_features=512, bias=True)\n",
       "      (2): ReLU()\n",
       "      (3): BatchNorm1d(512, eps=1e-05, momentum=0.1, affine=True, track_running_stats=True)\n",
       "      (4): Linear(in_features=512, out_features=128, bias=True)\n",
       "      (5): ReLU()\n",
       "      (6): BatchNorm1d(128, eps=1e-05, momentum=0.1, affine=True, track_running_stats=True)\n",
       "      (7): Dropout(p=0.4, inplace=False)\n",
       "      (8): Linear(in_features=128, out_features=11, bias=True)\n",
       "    )\n",
       "    (_swish): MemoryEfficientSwish()\n",
       "  )\n",
       ")"
      ]
     },
     "execution_count": 63,
     "metadata": {},
     "output_type": "execute_result"
    }
   ],
   "source": [
    "model"
   ]
  },
  {
   "cell_type": "code",
   "execution_count": null,
   "id": "a52c4034",
   "metadata": {
    "papermill": {
     "duration": 0.119816,
     "end_time": "2022-02-04T10:30:37.145413",
     "exception": false,
     "start_time": "2022-02-04T10:30:37.025597",
     "status": "completed"
    },
    "tags": []
   },
   "outputs": [],
   "source": []
  },
  {
   "cell_type": "code",
   "execution_count": 64,
   "id": "0638ebcd",
   "metadata": {
    "execution": {
     "iopub.execute_input": "2022-02-04T10:30:37.398435Z",
     "iopub.status.busy": "2022-02-04T10:30:37.397226Z",
     "iopub.status.idle": "2022-02-04T10:30:37.400515Z",
     "shell.execute_reply": "2022-02-04T10:30:37.399926Z",
     "shell.execute_reply.started": "2022-02-03T19:05:57.858467Z"
    },
    "papermill": {
     "duration": 0.135626,
     "end_time": "2022-02-04T10:30:37.400670",
     "exception": false,
     "start_time": "2022-02-04T10:30:37.265044",
     "status": "completed"
    },
    "tags": []
   },
   "outputs": [],
   "source": [
    "def get_default_device():\n",
    "    \"\"\"Pick GPU if available, else CPU\"\"\"\n",
    "    if torch.cuda.is_available():\n",
    "        return torch.device('cuda')\n",
    "    else:\n",
    "        return torch.device('cpu')\n",
    "    \n",
    "def to_device(data, device):\n",
    "    \"\"\"Move tensor(s) to chosen device\"\"\"\n",
    "    if isinstance(data, (list,tuple)):\n",
    "        return [to_device(x, device) for x in data]\n",
    "    return data.to(device, non_blocking=True)\n",
    "\n",
    "class DeviceDataLoader():\n",
    "    \"\"\"Wrap a dataloader to move data to a device\"\"\"\n",
    "    def __init__(self, dl, device):\n",
    "        self.dl = dl\n",
    "        self.device = device\n",
    "        \n",
    "    def __iter__(self):\n",
    "        \"\"\"Yield a batch of data after moving it to device\"\"\"\n",
    "        for b in self.dl: \n",
    "            yield to_device(b, self.device)\n",
    "\n",
    "    def __len__(self):\n",
    "        \"\"\"Number of batches\"\"\"\n",
    "        return len(self.dl)"
   ]
  },
  {
   "cell_type": "code",
   "execution_count": 65,
   "id": "5b7105be",
   "metadata": {
    "execution": {
     "iopub.execute_input": "2022-02-04T10:30:37.649401Z",
     "iopub.status.busy": "2022-02-04T10:30:37.648378Z",
     "iopub.status.idle": "2022-02-04T10:30:37.652165Z",
     "shell.execute_reply": "2022-02-04T10:30:37.652780Z",
     "shell.execute_reply.started": "2022-02-03T19:05:58.580823Z"
    },
    "papermill": {
     "duration": 0.131306,
     "end_time": "2022-02-04T10:30:37.652951",
     "exception": false,
     "start_time": "2022-02-04T10:30:37.521645",
     "status": "completed"
    },
    "tags": []
   },
   "outputs": [
    {
     "data": {
      "text/plain": [
       "device(type='cuda')"
      ]
     },
     "execution_count": 65,
     "metadata": {},
     "output_type": "execute_result"
    }
   ],
   "source": [
    "device = get_default_device()\n",
    "device"
   ]
  },
  {
   "cell_type": "code",
   "execution_count": 66,
   "id": "a8dd17e9",
   "metadata": {
    "execution": {
     "iopub.execute_input": "2022-02-04T10:30:37.901932Z",
     "iopub.status.busy": "2022-02-04T10:30:37.900850Z",
     "iopub.status.idle": "2022-02-04T10:30:37.903179Z",
     "shell.execute_reply": "2022-02-04T10:30:37.903797Z",
     "shell.execute_reply.started": "2022-02-03T19:05:58.878311Z"
    },
    "papermill": {
     "duration": 0.129309,
     "end_time": "2022-02-04T10:30:37.903960",
     "exception": false,
     "start_time": "2022-02-04T10:30:37.774651",
     "status": "completed"
    },
    "tags": []
   },
   "outputs": [],
   "source": [
    "train_dl = DeviceDataLoader(train_dl, device)\n",
    "val_dl = DeviceDataLoader(val_dl, device)"
   ]
  },
  {
   "cell_type": "code",
   "execution_count": 67,
   "id": "a0d921ed",
   "metadata": {
    "execution": {
     "iopub.execute_input": "2022-02-04T10:30:38.147587Z",
     "iopub.status.busy": "2022-02-04T10:30:38.146530Z",
     "iopub.status.idle": "2022-02-04T10:30:38.150445Z",
     "shell.execute_reply": "2022-02-04T10:30:38.151031Z",
     "shell.execute_reply.started": "2022-02-03T19:05:59.452331Z"
    },
    "papermill": {
     "duration": 0.129227,
     "end_time": "2022-02-04T10:30:38.151226",
     "exception": false,
     "start_time": "2022-02-04T10:30:38.021999",
     "status": "completed"
    },
    "tags": []
   },
   "outputs": [
    {
     "data": {
      "text/plain": [
       "<__main__.DeviceDataLoader at 0x7f709c2d93d0>"
      ]
     },
     "execution_count": 67,
     "metadata": {},
     "output_type": "execute_result"
    }
   ],
   "source": [
    "train_dl"
   ]
  },
  {
   "cell_type": "code",
   "execution_count": 68,
   "id": "41c1b68b",
   "metadata": {
    "execution": {
     "iopub.execute_input": "2022-02-04T10:30:38.398730Z",
     "iopub.status.busy": "2022-02-04T10:30:38.397818Z",
     "iopub.status.idle": "2022-02-04T10:30:38.401493Z",
     "shell.execute_reply": "2022-02-04T10:30:38.402036Z",
     "shell.execute_reply.started": "2022-02-03T19:05:59.694217Z"
    },
    "papermill": {
     "duration": 0.129387,
     "end_time": "2022-02-04T10:30:38.402214",
     "exception": false,
     "start_time": "2022-02-04T10:30:38.272827",
     "status": "completed"
    },
    "tags": []
   },
   "outputs": [
    {
     "data": {
      "text/plain": [
       "<__main__.DeviceDataLoader at 0x7f709c2d9510>"
      ]
     },
     "execution_count": 68,
     "metadata": {},
     "output_type": "execute_result"
    }
   ],
   "source": [
    "val_dl"
   ]
  },
  {
   "cell_type": "code",
   "execution_count": 69,
   "id": "f24669df",
   "metadata": {
    "execution": {
     "iopub.execute_input": "2022-02-04T10:30:38.647500Z",
     "iopub.status.busy": "2022-02-04T10:30:38.646655Z",
     "iopub.status.idle": "2022-02-04T10:30:38.650220Z",
     "shell.execute_reply": "2022-02-04T10:30:38.650776Z",
     "shell.execute_reply.started": "2022-02-03T19:06:00.082264Z"
    },
    "papermill": {
     "duration": 0.128995,
     "end_time": "2022-02-04T10:30:38.650946",
     "exception": false,
     "start_time": "2022-02-04T10:30:38.521951",
     "status": "completed"
    },
    "tags": []
   },
   "outputs": [
    {
     "data": {
      "text/plain": [
       "True"
      ]
     },
     "execution_count": 69,
     "metadata": {},
     "output_type": "execute_result"
    }
   ],
   "source": [
    "torch.cuda.is_available()"
   ]
  },
  {
   "cell_type": "code",
   "execution_count": 70,
   "id": "8f055d9d",
   "metadata": {
    "execution": {
     "iopub.execute_input": "2022-02-04T10:30:38.898954Z",
     "iopub.status.busy": "2022-02-04T10:30:38.898272Z",
     "iopub.status.idle": "2022-02-04T10:30:42.310098Z",
     "shell.execute_reply": "2022-02-04T10:30:42.310813Z",
     "shell.execute_reply.started": "2022-02-03T19:06:00.380138Z"
    },
    "papermill": {
     "duration": 3.540395,
     "end_time": "2022-02-04T10:30:42.311019",
     "exception": false,
     "start_time": "2022-02-04T10:30:38.770624",
     "status": "completed"
    },
    "tags": []
   },
   "outputs": [
    {
     "data": {
      "text/plain": [
       "Classifier(\n",
       "  (eff): EfficientNet(\n",
       "    (_conv_stem): Conv2dStaticSamePadding(\n",
       "      3, 32, kernel_size=(3, 3), stride=(2, 2), bias=False\n",
       "      (static_padding): ZeroPad2d(padding=(0, 1, 0, 1), value=0.0)\n",
       "    )\n",
       "    (_bn0): BatchNorm2d(32, eps=0.001, momentum=0.010000000000000009, affine=True, track_running_stats=True)\n",
       "    (_blocks): ModuleList(\n",
       "      (0): MBConvBlock(\n",
       "        (_depthwise_conv): Conv2dStaticSamePadding(\n",
       "          32, 32, kernel_size=(3, 3), stride=[1, 1], groups=32, bias=False\n",
       "          (static_padding): ZeroPad2d(padding=(1, 1, 1, 1), value=0.0)\n",
       "        )\n",
       "        (_bn1): BatchNorm2d(32, eps=0.001, momentum=0.010000000000000009, affine=True, track_running_stats=True)\n",
       "        (_se_reduce): Conv2dStaticSamePadding(\n",
       "          32, 8, kernel_size=(1, 1), stride=(1, 1)\n",
       "          (static_padding): Identity()\n",
       "        )\n",
       "        (_se_expand): Conv2dStaticSamePadding(\n",
       "          8, 32, kernel_size=(1, 1), stride=(1, 1)\n",
       "          (static_padding): Identity()\n",
       "        )\n",
       "        (_project_conv): Conv2dStaticSamePadding(\n",
       "          32, 16, kernel_size=(1, 1), stride=(1, 1), bias=False\n",
       "          (static_padding): Identity()\n",
       "        )\n",
       "        (_bn2): BatchNorm2d(16, eps=0.001, momentum=0.010000000000000009, affine=True, track_running_stats=True)\n",
       "        (_swish): MemoryEfficientSwish()\n",
       "      )\n",
       "      (1): MBConvBlock(\n",
       "        (_depthwise_conv): Conv2dStaticSamePadding(\n",
       "          16, 16, kernel_size=(3, 3), stride=(1, 1), groups=16, bias=False\n",
       "          (static_padding): ZeroPad2d(padding=(1, 1, 1, 1), value=0.0)\n",
       "        )\n",
       "        (_bn1): BatchNorm2d(16, eps=0.001, momentum=0.010000000000000009, affine=True, track_running_stats=True)\n",
       "        (_se_reduce): Conv2dStaticSamePadding(\n",
       "          16, 4, kernel_size=(1, 1), stride=(1, 1)\n",
       "          (static_padding): Identity()\n",
       "        )\n",
       "        (_se_expand): Conv2dStaticSamePadding(\n",
       "          4, 16, kernel_size=(1, 1), stride=(1, 1)\n",
       "          (static_padding): Identity()\n",
       "        )\n",
       "        (_project_conv): Conv2dStaticSamePadding(\n",
       "          16, 16, kernel_size=(1, 1), stride=(1, 1), bias=False\n",
       "          (static_padding): Identity()\n",
       "        )\n",
       "        (_bn2): BatchNorm2d(16, eps=0.001, momentum=0.010000000000000009, affine=True, track_running_stats=True)\n",
       "        (_swish): MemoryEfficientSwish()\n",
       "      )\n",
       "      (2): MBConvBlock(\n",
       "        (_expand_conv): Conv2dStaticSamePadding(\n",
       "          16, 96, kernel_size=(1, 1), stride=(1, 1), bias=False\n",
       "          (static_padding): Identity()\n",
       "        )\n",
       "        (_bn0): BatchNorm2d(96, eps=0.001, momentum=0.010000000000000009, affine=True, track_running_stats=True)\n",
       "        (_depthwise_conv): Conv2dStaticSamePadding(\n",
       "          96, 96, kernel_size=(3, 3), stride=[2, 2], groups=96, bias=False\n",
       "          (static_padding): ZeroPad2d(padding=(0, 1, 0, 1), value=0.0)\n",
       "        )\n",
       "        (_bn1): BatchNorm2d(96, eps=0.001, momentum=0.010000000000000009, affine=True, track_running_stats=True)\n",
       "        (_se_reduce): Conv2dStaticSamePadding(\n",
       "          96, 4, kernel_size=(1, 1), stride=(1, 1)\n",
       "          (static_padding): Identity()\n",
       "        )\n",
       "        (_se_expand): Conv2dStaticSamePadding(\n",
       "          4, 96, kernel_size=(1, 1), stride=(1, 1)\n",
       "          (static_padding): Identity()\n",
       "        )\n",
       "        (_project_conv): Conv2dStaticSamePadding(\n",
       "          96, 24, kernel_size=(1, 1), stride=(1, 1), bias=False\n",
       "          (static_padding): Identity()\n",
       "        )\n",
       "        (_bn2): BatchNorm2d(24, eps=0.001, momentum=0.010000000000000009, affine=True, track_running_stats=True)\n",
       "        (_swish): MemoryEfficientSwish()\n",
       "      )\n",
       "      (3): MBConvBlock(\n",
       "        (_expand_conv): Conv2dStaticSamePadding(\n",
       "          24, 144, kernel_size=(1, 1), stride=(1, 1), bias=False\n",
       "          (static_padding): Identity()\n",
       "        )\n",
       "        (_bn0): BatchNorm2d(144, eps=0.001, momentum=0.010000000000000009, affine=True, track_running_stats=True)\n",
       "        (_depthwise_conv): Conv2dStaticSamePadding(\n",
       "          144, 144, kernel_size=(3, 3), stride=(1, 1), groups=144, bias=False\n",
       "          (static_padding): ZeroPad2d(padding=(1, 1, 1, 1), value=0.0)\n",
       "        )\n",
       "        (_bn1): BatchNorm2d(144, eps=0.001, momentum=0.010000000000000009, affine=True, track_running_stats=True)\n",
       "        (_se_reduce): Conv2dStaticSamePadding(\n",
       "          144, 6, kernel_size=(1, 1), stride=(1, 1)\n",
       "          (static_padding): Identity()\n",
       "        )\n",
       "        (_se_expand): Conv2dStaticSamePadding(\n",
       "          6, 144, kernel_size=(1, 1), stride=(1, 1)\n",
       "          (static_padding): Identity()\n",
       "        )\n",
       "        (_project_conv): Conv2dStaticSamePadding(\n",
       "          144, 24, kernel_size=(1, 1), stride=(1, 1), bias=False\n",
       "          (static_padding): Identity()\n",
       "        )\n",
       "        (_bn2): BatchNorm2d(24, eps=0.001, momentum=0.010000000000000009, affine=True, track_running_stats=True)\n",
       "        (_swish): MemoryEfficientSwish()\n",
       "      )\n",
       "      (4): MBConvBlock(\n",
       "        (_expand_conv): Conv2dStaticSamePadding(\n",
       "          24, 144, kernel_size=(1, 1), stride=(1, 1), bias=False\n",
       "          (static_padding): Identity()\n",
       "        )\n",
       "        (_bn0): BatchNorm2d(144, eps=0.001, momentum=0.010000000000000009, affine=True, track_running_stats=True)\n",
       "        (_depthwise_conv): Conv2dStaticSamePadding(\n",
       "          144, 144, kernel_size=(3, 3), stride=(1, 1), groups=144, bias=False\n",
       "          (static_padding): ZeroPad2d(padding=(1, 1, 1, 1), value=0.0)\n",
       "        )\n",
       "        (_bn1): BatchNorm2d(144, eps=0.001, momentum=0.010000000000000009, affine=True, track_running_stats=True)\n",
       "        (_se_reduce): Conv2dStaticSamePadding(\n",
       "          144, 6, kernel_size=(1, 1), stride=(1, 1)\n",
       "          (static_padding): Identity()\n",
       "        )\n",
       "        (_se_expand): Conv2dStaticSamePadding(\n",
       "          6, 144, kernel_size=(1, 1), stride=(1, 1)\n",
       "          (static_padding): Identity()\n",
       "        )\n",
       "        (_project_conv): Conv2dStaticSamePadding(\n",
       "          144, 24, kernel_size=(1, 1), stride=(1, 1), bias=False\n",
       "          (static_padding): Identity()\n",
       "        )\n",
       "        (_bn2): BatchNorm2d(24, eps=0.001, momentum=0.010000000000000009, affine=True, track_running_stats=True)\n",
       "        (_swish): MemoryEfficientSwish()\n",
       "      )\n",
       "      (5): MBConvBlock(\n",
       "        (_expand_conv): Conv2dStaticSamePadding(\n",
       "          24, 144, kernel_size=(1, 1), stride=(1, 1), bias=False\n",
       "          (static_padding): Identity()\n",
       "        )\n",
       "        (_bn0): BatchNorm2d(144, eps=0.001, momentum=0.010000000000000009, affine=True, track_running_stats=True)\n",
       "        (_depthwise_conv): Conv2dStaticSamePadding(\n",
       "          144, 144, kernel_size=(5, 5), stride=[2, 2], groups=144, bias=False\n",
       "          (static_padding): ZeroPad2d(padding=(2, 2, 2, 2), value=0.0)\n",
       "        )\n",
       "        (_bn1): BatchNorm2d(144, eps=0.001, momentum=0.010000000000000009, affine=True, track_running_stats=True)\n",
       "        (_se_reduce): Conv2dStaticSamePadding(\n",
       "          144, 6, kernel_size=(1, 1), stride=(1, 1)\n",
       "          (static_padding): Identity()\n",
       "        )\n",
       "        (_se_expand): Conv2dStaticSamePadding(\n",
       "          6, 144, kernel_size=(1, 1), stride=(1, 1)\n",
       "          (static_padding): Identity()\n",
       "        )\n",
       "        (_project_conv): Conv2dStaticSamePadding(\n",
       "          144, 48, kernel_size=(1, 1), stride=(1, 1), bias=False\n",
       "          (static_padding): Identity()\n",
       "        )\n",
       "        (_bn2): BatchNorm2d(48, eps=0.001, momentum=0.010000000000000009, affine=True, track_running_stats=True)\n",
       "        (_swish): MemoryEfficientSwish()\n",
       "      )\n",
       "      (6): MBConvBlock(\n",
       "        (_expand_conv): Conv2dStaticSamePadding(\n",
       "          48, 288, kernel_size=(1, 1), stride=(1, 1), bias=False\n",
       "          (static_padding): Identity()\n",
       "        )\n",
       "        (_bn0): BatchNorm2d(288, eps=0.001, momentum=0.010000000000000009, affine=True, track_running_stats=True)\n",
       "        (_depthwise_conv): Conv2dStaticSamePadding(\n",
       "          288, 288, kernel_size=(5, 5), stride=(1, 1), groups=288, bias=False\n",
       "          (static_padding): ZeroPad2d(padding=(2, 2, 2, 2), value=0.0)\n",
       "        )\n",
       "        (_bn1): BatchNorm2d(288, eps=0.001, momentum=0.010000000000000009, affine=True, track_running_stats=True)\n",
       "        (_se_reduce): Conv2dStaticSamePadding(\n",
       "          288, 12, kernel_size=(1, 1), stride=(1, 1)\n",
       "          (static_padding): Identity()\n",
       "        )\n",
       "        (_se_expand): Conv2dStaticSamePadding(\n",
       "          12, 288, kernel_size=(1, 1), stride=(1, 1)\n",
       "          (static_padding): Identity()\n",
       "        )\n",
       "        (_project_conv): Conv2dStaticSamePadding(\n",
       "          288, 48, kernel_size=(1, 1), stride=(1, 1), bias=False\n",
       "          (static_padding): Identity()\n",
       "        )\n",
       "        (_bn2): BatchNorm2d(48, eps=0.001, momentum=0.010000000000000009, affine=True, track_running_stats=True)\n",
       "        (_swish): MemoryEfficientSwish()\n",
       "      )\n",
       "      (7): MBConvBlock(\n",
       "        (_expand_conv): Conv2dStaticSamePadding(\n",
       "          48, 288, kernel_size=(1, 1), stride=(1, 1), bias=False\n",
       "          (static_padding): Identity()\n",
       "        )\n",
       "        (_bn0): BatchNorm2d(288, eps=0.001, momentum=0.010000000000000009, affine=True, track_running_stats=True)\n",
       "        (_depthwise_conv): Conv2dStaticSamePadding(\n",
       "          288, 288, kernel_size=(5, 5), stride=(1, 1), groups=288, bias=False\n",
       "          (static_padding): ZeroPad2d(padding=(2, 2, 2, 2), value=0.0)\n",
       "        )\n",
       "        (_bn1): BatchNorm2d(288, eps=0.001, momentum=0.010000000000000009, affine=True, track_running_stats=True)\n",
       "        (_se_reduce): Conv2dStaticSamePadding(\n",
       "          288, 12, kernel_size=(1, 1), stride=(1, 1)\n",
       "          (static_padding): Identity()\n",
       "        )\n",
       "        (_se_expand): Conv2dStaticSamePadding(\n",
       "          12, 288, kernel_size=(1, 1), stride=(1, 1)\n",
       "          (static_padding): Identity()\n",
       "        )\n",
       "        (_project_conv): Conv2dStaticSamePadding(\n",
       "          288, 48, kernel_size=(1, 1), stride=(1, 1), bias=False\n",
       "          (static_padding): Identity()\n",
       "        )\n",
       "        (_bn2): BatchNorm2d(48, eps=0.001, momentum=0.010000000000000009, affine=True, track_running_stats=True)\n",
       "        (_swish): MemoryEfficientSwish()\n",
       "      )\n",
       "      (8): MBConvBlock(\n",
       "        (_expand_conv): Conv2dStaticSamePadding(\n",
       "          48, 288, kernel_size=(1, 1), stride=(1, 1), bias=False\n",
       "          (static_padding): Identity()\n",
       "        )\n",
       "        (_bn0): BatchNorm2d(288, eps=0.001, momentum=0.010000000000000009, affine=True, track_running_stats=True)\n",
       "        (_depthwise_conv): Conv2dStaticSamePadding(\n",
       "          288, 288, kernel_size=(3, 3), stride=[2, 2], groups=288, bias=False\n",
       "          (static_padding): ZeroPad2d(padding=(1, 1, 1, 1), value=0.0)\n",
       "        )\n",
       "        (_bn1): BatchNorm2d(288, eps=0.001, momentum=0.010000000000000009, affine=True, track_running_stats=True)\n",
       "        (_se_reduce): Conv2dStaticSamePadding(\n",
       "          288, 12, kernel_size=(1, 1), stride=(1, 1)\n",
       "          (static_padding): Identity()\n",
       "        )\n",
       "        (_se_expand): Conv2dStaticSamePadding(\n",
       "          12, 288, kernel_size=(1, 1), stride=(1, 1)\n",
       "          (static_padding): Identity()\n",
       "        )\n",
       "        (_project_conv): Conv2dStaticSamePadding(\n",
       "          288, 88, kernel_size=(1, 1), stride=(1, 1), bias=False\n",
       "          (static_padding): Identity()\n",
       "        )\n",
       "        (_bn2): BatchNorm2d(88, eps=0.001, momentum=0.010000000000000009, affine=True, track_running_stats=True)\n",
       "        (_swish): MemoryEfficientSwish()\n",
       "      )\n",
       "      (9): MBConvBlock(\n",
       "        (_expand_conv): Conv2dStaticSamePadding(\n",
       "          88, 528, kernel_size=(1, 1), stride=(1, 1), bias=False\n",
       "          (static_padding): Identity()\n",
       "        )\n",
       "        (_bn0): BatchNorm2d(528, eps=0.001, momentum=0.010000000000000009, affine=True, track_running_stats=True)\n",
       "        (_depthwise_conv): Conv2dStaticSamePadding(\n",
       "          528, 528, kernel_size=(3, 3), stride=(1, 1), groups=528, bias=False\n",
       "          (static_padding): ZeroPad2d(padding=(1, 1, 1, 1), value=0.0)\n",
       "        )\n",
       "        (_bn1): BatchNorm2d(528, eps=0.001, momentum=0.010000000000000009, affine=True, track_running_stats=True)\n",
       "        (_se_reduce): Conv2dStaticSamePadding(\n",
       "          528, 22, kernel_size=(1, 1), stride=(1, 1)\n",
       "          (static_padding): Identity()\n",
       "        )\n",
       "        (_se_expand): Conv2dStaticSamePadding(\n",
       "          22, 528, kernel_size=(1, 1), stride=(1, 1)\n",
       "          (static_padding): Identity()\n",
       "        )\n",
       "        (_project_conv): Conv2dStaticSamePadding(\n",
       "          528, 88, kernel_size=(1, 1), stride=(1, 1), bias=False\n",
       "          (static_padding): Identity()\n",
       "        )\n",
       "        (_bn2): BatchNorm2d(88, eps=0.001, momentum=0.010000000000000009, affine=True, track_running_stats=True)\n",
       "        (_swish): MemoryEfficientSwish()\n",
       "      )\n",
       "      (10): MBConvBlock(\n",
       "        (_expand_conv): Conv2dStaticSamePadding(\n",
       "          88, 528, kernel_size=(1, 1), stride=(1, 1), bias=False\n",
       "          (static_padding): Identity()\n",
       "        )\n",
       "        (_bn0): BatchNorm2d(528, eps=0.001, momentum=0.010000000000000009, affine=True, track_running_stats=True)\n",
       "        (_depthwise_conv): Conv2dStaticSamePadding(\n",
       "          528, 528, kernel_size=(3, 3), stride=(1, 1), groups=528, bias=False\n",
       "          (static_padding): ZeroPad2d(padding=(1, 1, 1, 1), value=0.0)\n",
       "        )\n",
       "        (_bn1): BatchNorm2d(528, eps=0.001, momentum=0.010000000000000009, affine=True, track_running_stats=True)\n",
       "        (_se_reduce): Conv2dStaticSamePadding(\n",
       "          528, 22, kernel_size=(1, 1), stride=(1, 1)\n",
       "          (static_padding): Identity()\n",
       "        )\n",
       "        (_se_expand): Conv2dStaticSamePadding(\n",
       "          22, 528, kernel_size=(1, 1), stride=(1, 1)\n",
       "          (static_padding): Identity()\n",
       "        )\n",
       "        (_project_conv): Conv2dStaticSamePadding(\n",
       "          528, 88, kernel_size=(1, 1), stride=(1, 1), bias=False\n",
       "          (static_padding): Identity()\n",
       "        )\n",
       "        (_bn2): BatchNorm2d(88, eps=0.001, momentum=0.010000000000000009, affine=True, track_running_stats=True)\n",
       "        (_swish): MemoryEfficientSwish()\n",
       "      )\n",
       "      (11): MBConvBlock(\n",
       "        (_expand_conv): Conv2dStaticSamePadding(\n",
       "          88, 528, kernel_size=(1, 1), stride=(1, 1), bias=False\n",
       "          (static_padding): Identity()\n",
       "        )\n",
       "        (_bn0): BatchNorm2d(528, eps=0.001, momentum=0.010000000000000009, affine=True, track_running_stats=True)\n",
       "        (_depthwise_conv): Conv2dStaticSamePadding(\n",
       "          528, 528, kernel_size=(3, 3), stride=(1, 1), groups=528, bias=False\n",
       "          (static_padding): ZeroPad2d(padding=(1, 1, 1, 1), value=0.0)\n",
       "        )\n",
       "        (_bn1): BatchNorm2d(528, eps=0.001, momentum=0.010000000000000009, affine=True, track_running_stats=True)\n",
       "        (_se_reduce): Conv2dStaticSamePadding(\n",
       "          528, 22, kernel_size=(1, 1), stride=(1, 1)\n",
       "          (static_padding): Identity()\n",
       "        )\n",
       "        (_se_expand): Conv2dStaticSamePadding(\n",
       "          22, 528, kernel_size=(1, 1), stride=(1, 1)\n",
       "          (static_padding): Identity()\n",
       "        )\n",
       "        (_project_conv): Conv2dStaticSamePadding(\n",
       "          528, 88, kernel_size=(1, 1), stride=(1, 1), bias=False\n",
       "          (static_padding): Identity()\n",
       "        )\n",
       "        (_bn2): BatchNorm2d(88, eps=0.001, momentum=0.010000000000000009, affine=True, track_running_stats=True)\n",
       "        (_swish): MemoryEfficientSwish()\n",
       "      )\n",
       "      (12): MBConvBlock(\n",
       "        (_expand_conv): Conv2dStaticSamePadding(\n",
       "          88, 528, kernel_size=(1, 1), stride=(1, 1), bias=False\n",
       "          (static_padding): Identity()\n",
       "        )\n",
       "        (_bn0): BatchNorm2d(528, eps=0.001, momentum=0.010000000000000009, affine=True, track_running_stats=True)\n",
       "        (_depthwise_conv): Conv2dStaticSamePadding(\n",
       "          528, 528, kernel_size=(5, 5), stride=[1, 1], groups=528, bias=False\n",
       "          (static_padding): ZeroPad2d(padding=(2, 2, 2, 2), value=0.0)\n",
       "        )\n",
       "        (_bn1): BatchNorm2d(528, eps=0.001, momentum=0.010000000000000009, affine=True, track_running_stats=True)\n",
       "        (_se_reduce): Conv2dStaticSamePadding(\n",
       "          528, 22, kernel_size=(1, 1), stride=(1, 1)\n",
       "          (static_padding): Identity()\n",
       "        )\n",
       "        (_se_expand): Conv2dStaticSamePadding(\n",
       "          22, 528, kernel_size=(1, 1), stride=(1, 1)\n",
       "          (static_padding): Identity()\n",
       "        )\n",
       "        (_project_conv): Conv2dStaticSamePadding(\n",
       "          528, 120, kernel_size=(1, 1), stride=(1, 1), bias=False\n",
       "          (static_padding): Identity()\n",
       "        )\n",
       "        (_bn2): BatchNorm2d(120, eps=0.001, momentum=0.010000000000000009, affine=True, track_running_stats=True)\n",
       "        (_swish): MemoryEfficientSwish()\n",
       "      )\n",
       "      (13): MBConvBlock(\n",
       "        (_expand_conv): Conv2dStaticSamePadding(\n",
       "          120, 720, kernel_size=(1, 1), stride=(1, 1), bias=False\n",
       "          (static_padding): Identity()\n",
       "        )\n",
       "        (_bn0): BatchNorm2d(720, eps=0.001, momentum=0.010000000000000009, affine=True, track_running_stats=True)\n",
       "        (_depthwise_conv): Conv2dStaticSamePadding(\n",
       "          720, 720, kernel_size=(5, 5), stride=(1, 1), groups=720, bias=False\n",
       "          (static_padding): ZeroPad2d(padding=(2, 2, 2, 2), value=0.0)\n",
       "        )\n",
       "        (_bn1): BatchNorm2d(720, eps=0.001, momentum=0.010000000000000009, affine=True, track_running_stats=True)\n",
       "        (_se_reduce): Conv2dStaticSamePadding(\n",
       "          720, 30, kernel_size=(1, 1), stride=(1, 1)\n",
       "          (static_padding): Identity()\n",
       "        )\n",
       "        (_se_expand): Conv2dStaticSamePadding(\n",
       "          30, 720, kernel_size=(1, 1), stride=(1, 1)\n",
       "          (static_padding): Identity()\n",
       "        )\n",
       "        (_project_conv): Conv2dStaticSamePadding(\n",
       "          720, 120, kernel_size=(1, 1), stride=(1, 1), bias=False\n",
       "          (static_padding): Identity()\n",
       "        )\n",
       "        (_bn2): BatchNorm2d(120, eps=0.001, momentum=0.010000000000000009, affine=True, track_running_stats=True)\n",
       "        (_swish): MemoryEfficientSwish()\n",
       "      )\n",
       "      (14): MBConvBlock(\n",
       "        (_expand_conv): Conv2dStaticSamePadding(\n",
       "          120, 720, kernel_size=(1, 1), stride=(1, 1), bias=False\n",
       "          (static_padding): Identity()\n",
       "        )\n",
       "        (_bn0): BatchNorm2d(720, eps=0.001, momentum=0.010000000000000009, affine=True, track_running_stats=True)\n",
       "        (_depthwise_conv): Conv2dStaticSamePadding(\n",
       "          720, 720, kernel_size=(5, 5), stride=(1, 1), groups=720, bias=False\n",
       "          (static_padding): ZeroPad2d(padding=(2, 2, 2, 2), value=0.0)\n",
       "        )\n",
       "        (_bn1): BatchNorm2d(720, eps=0.001, momentum=0.010000000000000009, affine=True, track_running_stats=True)\n",
       "        (_se_reduce): Conv2dStaticSamePadding(\n",
       "          720, 30, kernel_size=(1, 1), stride=(1, 1)\n",
       "          (static_padding): Identity()\n",
       "        )\n",
       "        (_se_expand): Conv2dStaticSamePadding(\n",
       "          30, 720, kernel_size=(1, 1), stride=(1, 1)\n",
       "          (static_padding): Identity()\n",
       "        )\n",
       "        (_project_conv): Conv2dStaticSamePadding(\n",
       "          720, 120, kernel_size=(1, 1), stride=(1, 1), bias=False\n",
       "          (static_padding): Identity()\n",
       "        )\n",
       "        (_bn2): BatchNorm2d(120, eps=0.001, momentum=0.010000000000000009, affine=True, track_running_stats=True)\n",
       "        (_swish): MemoryEfficientSwish()\n",
       "      )\n",
       "      (15): MBConvBlock(\n",
       "        (_expand_conv): Conv2dStaticSamePadding(\n",
       "          120, 720, kernel_size=(1, 1), stride=(1, 1), bias=False\n",
       "          (static_padding): Identity()\n",
       "        )\n",
       "        (_bn0): BatchNorm2d(720, eps=0.001, momentum=0.010000000000000009, affine=True, track_running_stats=True)\n",
       "        (_depthwise_conv): Conv2dStaticSamePadding(\n",
       "          720, 720, kernel_size=(5, 5), stride=(1, 1), groups=720, bias=False\n",
       "          (static_padding): ZeroPad2d(padding=(2, 2, 2, 2), value=0.0)\n",
       "        )\n",
       "        (_bn1): BatchNorm2d(720, eps=0.001, momentum=0.010000000000000009, affine=True, track_running_stats=True)\n",
       "        (_se_reduce): Conv2dStaticSamePadding(\n",
       "          720, 30, kernel_size=(1, 1), stride=(1, 1)\n",
       "          (static_padding): Identity()\n",
       "        )\n",
       "        (_se_expand): Conv2dStaticSamePadding(\n",
       "          30, 720, kernel_size=(1, 1), stride=(1, 1)\n",
       "          (static_padding): Identity()\n",
       "        )\n",
       "        (_project_conv): Conv2dStaticSamePadding(\n",
       "          720, 120, kernel_size=(1, 1), stride=(1, 1), bias=False\n",
       "          (static_padding): Identity()\n",
       "        )\n",
       "        (_bn2): BatchNorm2d(120, eps=0.001, momentum=0.010000000000000009, affine=True, track_running_stats=True)\n",
       "        (_swish): MemoryEfficientSwish()\n",
       "      )\n",
       "      (16): MBConvBlock(\n",
       "        (_expand_conv): Conv2dStaticSamePadding(\n",
       "          120, 720, kernel_size=(1, 1), stride=(1, 1), bias=False\n",
       "          (static_padding): Identity()\n",
       "        )\n",
       "        (_bn0): BatchNorm2d(720, eps=0.001, momentum=0.010000000000000009, affine=True, track_running_stats=True)\n",
       "        (_depthwise_conv): Conv2dStaticSamePadding(\n",
       "          720, 720, kernel_size=(5, 5), stride=[2, 2], groups=720, bias=False\n",
       "          (static_padding): ZeroPad2d(padding=(2, 2, 2, 2), value=0.0)\n",
       "        )\n",
       "        (_bn1): BatchNorm2d(720, eps=0.001, momentum=0.010000000000000009, affine=True, track_running_stats=True)\n",
       "        (_se_reduce): Conv2dStaticSamePadding(\n",
       "          720, 30, kernel_size=(1, 1), stride=(1, 1)\n",
       "          (static_padding): Identity()\n",
       "        )\n",
       "        (_se_expand): Conv2dStaticSamePadding(\n",
       "          30, 720, kernel_size=(1, 1), stride=(1, 1)\n",
       "          (static_padding): Identity()\n",
       "        )\n",
       "        (_project_conv): Conv2dStaticSamePadding(\n",
       "          720, 208, kernel_size=(1, 1), stride=(1, 1), bias=False\n",
       "          (static_padding): Identity()\n",
       "        )\n",
       "        (_bn2): BatchNorm2d(208, eps=0.001, momentum=0.010000000000000009, affine=True, track_running_stats=True)\n",
       "        (_swish): MemoryEfficientSwish()\n",
       "      )\n",
       "      (17): MBConvBlock(\n",
       "        (_expand_conv): Conv2dStaticSamePadding(\n",
       "          208, 1248, kernel_size=(1, 1), stride=(1, 1), bias=False\n",
       "          (static_padding): Identity()\n",
       "        )\n",
       "        (_bn0): BatchNorm2d(1248, eps=0.001, momentum=0.010000000000000009, affine=True, track_running_stats=True)\n",
       "        (_depthwise_conv): Conv2dStaticSamePadding(\n",
       "          1248, 1248, kernel_size=(5, 5), stride=(1, 1), groups=1248, bias=False\n",
       "          (static_padding): ZeroPad2d(padding=(2, 2, 2, 2), value=0.0)\n",
       "        )\n",
       "        (_bn1): BatchNorm2d(1248, eps=0.001, momentum=0.010000000000000009, affine=True, track_running_stats=True)\n",
       "        (_se_reduce): Conv2dStaticSamePadding(\n",
       "          1248, 52, kernel_size=(1, 1), stride=(1, 1)\n",
       "          (static_padding): Identity()\n",
       "        )\n",
       "        (_se_expand): Conv2dStaticSamePadding(\n",
       "          52, 1248, kernel_size=(1, 1), stride=(1, 1)\n",
       "          (static_padding): Identity()\n",
       "        )\n",
       "        (_project_conv): Conv2dStaticSamePadding(\n",
       "          1248, 208, kernel_size=(1, 1), stride=(1, 1), bias=False\n",
       "          (static_padding): Identity()\n",
       "        )\n",
       "        (_bn2): BatchNorm2d(208, eps=0.001, momentum=0.010000000000000009, affine=True, track_running_stats=True)\n",
       "        (_swish): MemoryEfficientSwish()\n",
       "      )\n",
       "      (18): MBConvBlock(\n",
       "        (_expand_conv): Conv2dStaticSamePadding(\n",
       "          208, 1248, kernel_size=(1, 1), stride=(1, 1), bias=False\n",
       "          (static_padding): Identity()\n",
       "        )\n",
       "        (_bn0): BatchNorm2d(1248, eps=0.001, momentum=0.010000000000000009, affine=True, track_running_stats=True)\n",
       "        (_depthwise_conv): Conv2dStaticSamePadding(\n",
       "          1248, 1248, kernel_size=(5, 5), stride=(1, 1), groups=1248, bias=False\n",
       "          (static_padding): ZeroPad2d(padding=(2, 2, 2, 2), value=0.0)\n",
       "        )\n",
       "        (_bn1): BatchNorm2d(1248, eps=0.001, momentum=0.010000000000000009, affine=True, track_running_stats=True)\n",
       "        (_se_reduce): Conv2dStaticSamePadding(\n",
       "          1248, 52, kernel_size=(1, 1), stride=(1, 1)\n",
       "          (static_padding): Identity()\n",
       "        )\n",
       "        (_se_expand): Conv2dStaticSamePadding(\n",
       "          52, 1248, kernel_size=(1, 1), stride=(1, 1)\n",
       "          (static_padding): Identity()\n",
       "        )\n",
       "        (_project_conv): Conv2dStaticSamePadding(\n",
       "          1248, 208, kernel_size=(1, 1), stride=(1, 1), bias=False\n",
       "          (static_padding): Identity()\n",
       "        )\n",
       "        (_bn2): BatchNorm2d(208, eps=0.001, momentum=0.010000000000000009, affine=True, track_running_stats=True)\n",
       "        (_swish): MemoryEfficientSwish()\n",
       "      )\n",
       "      (19): MBConvBlock(\n",
       "        (_expand_conv): Conv2dStaticSamePadding(\n",
       "          208, 1248, kernel_size=(1, 1), stride=(1, 1), bias=False\n",
       "          (static_padding): Identity()\n",
       "        )\n",
       "        (_bn0): BatchNorm2d(1248, eps=0.001, momentum=0.010000000000000009, affine=True, track_running_stats=True)\n",
       "        (_depthwise_conv): Conv2dStaticSamePadding(\n",
       "          1248, 1248, kernel_size=(5, 5), stride=(1, 1), groups=1248, bias=False\n",
       "          (static_padding): ZeroPad2d(padding=(2, 2, 2, 2), value=0.0)\n",
       "        )\n",
       "        (_bn1): BatchNorm2d(1248, eps=0.001, momentum=0.010000000000000009, affine=True, track_running_stats=True)\n",
       "        (_se_reduce): Conv2dStaticSamePadding(\n",
       "          1248, 52, kernel_size=(1, 1), stride=(1, 1)\n",
       "          (static_padding): Identity()\n",
       "        )\n",
       "        (_se_expand): Conv2dStaticSamePadding(\n",
       "          52, 1248, kernel_size=(1, 1), stride=(1, 1)\n",
       "          (static_padding): Identity()\n",
       "        )\n",
       "        (_project_conv): Conv2dStaticSamePadding(\n",
       "          1248, 208, kernel_size=(1, 1), stride=(1, 1), bias=False\n",
       "          (static_padding): Identity()\n",
       "        )\n",
       "        (_bn2): BatchNorm2d(208, eps=0.001, momentum=0.010000000000000009, affine=True, track_running_stats=True)\n",
       "        (_swish): MemoryEfficientSwish()\n",
       "      )\n",
       "      (20): MBConvBlock(\n",
       "        (_expand_conv): Conv2dStaticSamePadding(\n",
       "          208, 1248, kernel_size=(1, 1), stride=(1, 1), bias=False\n",
       "          (static_padding): Identity()\n",
       "        )\n",
       "        (_bn0): BatchNorm2d(1248, eps=0.001, momentum=0.010000000000000009, affine=True, track_running_stats=True)\n",
       "        (_depthwise_conv): Conv2dStaticSamePadding(\n",
       "          1248, 1248, kernel_size=(5, 5), stride=(1, 1), groups=1248, bias=False\n",
       "          (static_padding): ZeroPad2d(padding=(2, 2, 2, 2), value=0.0)\n",
       "        )\n",
       "        (_bn1): BatchNorm2d(1248, eps=0.001, momentum=0.010000000000000009, affine=True, track_running_stats=True)\n",
       "        (_se_reduce): Conv2dStaticSamePadding(\n",
       "          1248, 52, kernel_size=(1, 1), stride=(1, 1)\n",
       "          (static_padding): Identity()\n",
       "        )\n",
       "        (_se_expand): Conv2dStaticSamePadding(\n",
       "          52, 1248, kernel_size=(1, 1), stride=(1, 1)\n",
       "          (static_padding): Identity()\n",
       "        )\n",
       "        (_project_conv): Conv2dStaticSamePadding(\n",
       "          1248, 208, kernel_size=(1, 1), stride=(1, 1), bias=False\n",
       "          (static_padding): Identity()\n",
       "        )\n",
       "        (_bn2): BatchNorm2d(208, eps=0.001, momentum=0.010000000000000009, affine=True, track_running_stats=True)\n",
       "        (_swish): MemoryEfficientSwish()\n",
       "      )\n",
       "      (21): MBConvBlock(\n",
       "        (_expand_conv): Conv2dStaticSamePadding(\n",
       "          208, 1248, kernel_size=(1, 1), stride=(1, 1), bias=False\n",
       "          (static_padding): Identity()\n",
       "        )\n",
       "        (_bn0): BatchNorm2d(1248, eps=0.001, momentum=0.010000000000000009, affine=True, track_running_stats=True)\n",
       "        (_depthwise_conv): Conv2dStaticSamePadding(\n",
       "          1248, 1248, kernel_size=(3, 3), stride=[1, 1], groups=1248, bias=False\n",
       "          (static_padding): ZeroPad2d(padding=(1, 1, 1, 1), value=0.0)\n",
       "        )\n",
       "        (_bn1): BatchNorm2d(1248, eps=0.001, momentum=0.010000000000000009, affine=True, track_running_stats=True)\n",
       "        (_se_reduce): Conv2dStaticSamePadding(\n",
       "          1248, 52, kernel_size=(1, 1), stride=(1, 1)\n",
       "          (static_padding): Identity()\n",
       "        )\n",
       "        (_se_expand): Conv2dStaticSamePadding(\n",
       "          52, 1248, kernel_size=(1, 1), stride=(1, 1)\n",
       "          (static_padding): Identity()\n",
       "        )\n",
       "        (_project_conv): Conv2dStaticSamePadding(\n",
       "          1248, 352, kernel_size=(1, 1), stride=(1, 1), bias=False\n",
       "          (static_padding): Identity()\n",
       "        )\n",
       "        (_bn2): BatchNorm2d(352, eps=0.001, momentum=0.010000000000000009, affine=True, track_running_stats=True)\n",
       "        (_swish): MemoryEfficientSwish()\n",
       "      )\n",
       "      (22): MBConvBlock(\n",
       "        (_expand_conv): Conv2dStaticSamePadding(\n",
       "          352, 2112, kernel_size=(1, 1), stride=(1, 1), bias=False\n",
       "          (static_padding): Identity()\n",
       "        )\n",
       "        (_bn0): BatchNorm2d(2112, eps=0.001, momentum=0.010000000000000009, affine=True, track_running_stats=True)\n",
       "        (_depthwise_conv): Conv2dStaticSamePadding(\n",
       "          2112, 2112, kernel_size=(3, 3), stride=(1, 1), groups=2112, bias=False\n",
       "          (static_padding): ZeroPad2d(padding=(1, 1, 1, 1), value=0.0)\n",
       "        )\n",
       "        (_bn1): BatchNorm2d(2112, eps=0.001, momentum=0.010000000000000009, affine=True, track_running_stats=True)\n",
       "        (_se_reduce): Conv2dStaticSamePadding(\n",
       "          2112, 88, kernel_size=(1, 1), stride=(1, 1)\n",
       "          (static_padding): Identity()\n",
       "        )\n",
       "        (_se_expand): Conv2dStaticSamePadding(\n",
       "          88, 2112, kernel_size=(1, 1), stride=(1, 1)\n",
       "          (static_padding): Identity()\n",
       "        )\n",
       "        (_project_conv): Conv2dStaticSamePadding(\n",
       "          2112, 352, kernel_size=(1, 1), stride=(1, 1), bias=False\n",
       "          (static_padding): Identity()\n",
       "        )\n",
       "        (_bn2): BatchNorm2d(352, eps=0.001, momentum=0.010000000000000009, affine=True, track_running_stats=True)\n",
       "        (_swish): MemoryEfficientSwish()\n",
       "      )\n",
       "    )\n",
       "    (_conv_head): Conv2dStaticSamePadding(\n",
       "      352, 1408, kernel_size=(1, 1), stride=(1, 1), bias=False\n",
       "      (static_padding): Identity()\n",
       "    )\n",
       "    (_bn1): BatchNorm2d(1408, eps=0.001, momentum=0.010000000000000009, affine=True, track_running_stats=True)\n",
       "    (_avg_pooling): AdaptiveAvgPool2d(output_size=1)\n",
       "    (_dropout): Dropout(p=0.3, inplace=False)\n",
       "    (_fc): Sequential(\n",
       "      (0): BatchNorm1d(1408, eps=1e-05, momentum=0.1, affine=True, track_running_stats=True)\n",
       "      (1): Linear(in_features=1408, out_features=512, bias=True)\n",
       "      (2): ReLU()\n",
       "      (3): BatchNorm1d(512, eps=1e-05, momentum=0.1, affine=True, track_running_stats=True)\n",
       "      (4): Linear(in_features=512, out_features=128, bias=True)\n",
       "      (5): ReLU()\n",
       "      (6): BatchNorm1d(128, eps=1e-05, momentum=0.1, affine=True, track_running_stats=True)\n",
       "      (7): Dropout(p=0.4, inplace=False)\n",
       "      (8): Linear(in_features=128, out_features=11, bias=True)\n",
       "    )\n",
       "    (_swish): MemoryEfficientSwish()\n",
       "  )\n",
       ")"
      ]
     },
     "execution_count": 70,
     "metadata": {},
     "output_type": "execute_result"
    }
   ],
   "source": [
    "model = to_device(model, device)\n",
    "model"
   ]
  },
  {
   "cell_type": "code",
   "execution_count": 71,
   "id": "24c455e5",
   "metadata": {
    "execution": {
     "iopub.execute_input": "2022-02-04T10:30:42.601928Z",
     "iopub.status.busy": "2022-02-04T10:30:42.599772Z",
     "iopub.status.idle": "2022-02-04T10:30:42.602699Z",
     "shell.execute_reply": "2022-02-04T10:30:42.603252Z",
     "shell.execute_reply.started": "2022-02-03T19:06:00.610798Z"
    },
    "papermill": {
     "duration": 0.157248,
     "end_time": "2022-02-04T10:30:42.603465",
     "exception": false,
     "start_time": "2022-02-04T10:30:42.446217",
     "status": "completed"
    },
    "tags": []
   },
   "outputs": [],
   "source": [
    "def accuracy(act,pred):\n",
    "    _, preds = torch.max(pred, dim=1)\n",
    "    #print(preds[0])\n",
    "    #print(\"a\")\n",
    "    #print(act[0])\n",
    "    act2=act.detach().cpu().numpy()\n",
    "    pred2=preds.detach().cpu().numpy()\n",
    "    acc=torch.tensor(torch.sum(preds==act).item() / len(preds))\n",
    "    mic=f1_score(act2, pred2, average='micro')\n",
    "    mac=f1_score(act2, pred2, average='macro')\n",
    "    bal_acc=balanced_accuracy_score(act2, pred2)\n",
    "    return acc,torch.tensor([mic]),torch.tensor([mac]),torch.tensor([bal_acc])"
   ]
  },
  {
   "cell_type": "code",
   "execution_count": 72,
   "id": "bfc9cfc4",
   "metadata": {
    "execution": {
     "iopub.execute_input": "2022-02-04T10:30:42.859062Z",
     "iopub.status.busy": "2022-02-04T10:30:42.858013Z",
     "iopub.status.idle": "2022-02-04T10:30:51.512977Z",
     "shell.execute_reply": "2022-02-04T10:30:51.512228Z",
     "shell.execute_reply.started": "2022-02-03T19:06:01.465403Z"
    },
    "papermill": {
     "duration": 8.785439,
     "end_time": "2022-02-04T10:30:51.513135",
     "exception": false,
     "start_time": "2022-02-04T10:30:42.727696",
     "status": "completed"
    },
    "tags": []
   },
   "outputs": [
    {
     "name": "stdout",
     "output_type": "stream",
     "text": [
      "tensor(0.0938) tensor([0.0938], dtype=torch.float64) tensor([0.0859], dtype=torch.float64) tensor([0.0808], dtype=torch.float64)\n"
     ]
    }
   ],
   "source": [
    "for batch in train_dl:\n",
    "    images,labels=batch\n",
    "    out=model(images)\n",
    "    a,b,c,d=accuracy(labels,out)\n",
    "    print(a,b,c,d)\n",
    "    #print(accuracy(labels,out))\n",
    "    #print(out)\n",
    "    #print(labels[0])\n",
    "    \n",
    "    break\n"
   ]
  },
  {
   "cell_type": "code",
   "execution_count": 73,
   "id": "da37fc50",
   "metadata": {
    "execution": {
     "iopub.execute_input": "2022-02-04T10:30:51.761822Z",
     "iopub.status.busy": "2022-02-04T10:30:51.760731Z",
     "iopub.status.idle": "2022-02-04T10:30:51.763020Z",
     "shell.execute_reply": "2022-02-04T10:30:51.763643Z",
     "shell.execute_reply.started": "2022-02-03T19:06:09.568902Z"
    },
    "papermill": {
     "duration": 0.130306,
     "end_time": "2022-02-04T10:30:51.763812",
     "exception": false,
     "start_time": "2022-02-04T10:30:51.633506",
     "status": "completed"
    },
    "tags": []
   },
   "outputs": [],
   "source": [
    "from torch.optim.lr_scheduler import ReduceLROnPlateau"
   ]
  },
  {
   "cell_type": "code",
   "execution_count": 74,
   "id": "8960cf07",
   "metadata": {
    "execution": {
     "iopub.execute_input": "2022-02-04T10:30:52.019447Z",
     "iopub.status.busy": "2022-02-04T10:30:52.018295Z",
     "iopub.status.idle": "2022-02-04T10:30:52.021425Z",
     "shell.execute_reply": "2022-02-04T10:30:52.020864Z",
     "shell.execute_reply.started": "2022-02-03T19:06:11.085075Z"
    },
    "papermill": {
     "duration": 0.135688,
     "end_time": "2022-02-04T10:30:52.021577",
     "exception": false,
     "start_time": "2022-02-04T10:30:51.885889",
     "status": "completed"
    },
    "tags": []
   },
   "outputs": [],
   "source": [
    "def fit(model,train_dl,valid_dl,opt,lr,epochs):\n",
    "    history = []\n",
    "    optimizer = opt(model.parameters(), lr)\n",
    "    scheduler = ReduceLROnPlateau(optimizer, 'min',patience=0,verbose=True,factor=0.1)\n",
    "    for epoch in range(epochs):\n",
    "        epoch_acc=[]\n",
    "        epoch_bal_acc=[]\n",
    "        epoch_f1=[]\n",
    "        for batch in train_dl:\n",
    "            images,labels=batch\n",
    "            loss,acc,mic,mac,bal_acc=model.training_step(batch)\n",
    "            loss.backward()\n",
    "            optimizer.step()\n",
    "            optimizer.zero_grad()\n",
    "            epoch_acc.append(acc)\n",
    "            epoch_bal_acc.append(bal_acc)\n",
    "            epoch_f1.append(mac)\n",
    "        dic_train=torch.stack(epoch_acc).mean()\n",
    "        dic_bal=torch.stack(epoch_bal_acc).mean()\n",
    "        dic_f1=torch.stack(epoch_f1).mean()\n",
    "        \n",
    "        print(\"Epoch [{}], train_acc: {:.4f},train_bal_acc: {:.4f},train_f1: {:.4f}\".format(\n",
    "        epoch,dic_train,dic_bal,dic_f1))\n",
    "\n",
    "        res=[model.validation_step(batch) for batch in val_dl ]\n",
    "        dic=model.validation_epoch_end(res)\n",
    "        valid_loss=dic['val_loss']\n",
    "        scheduler.step(valid_loss)\n",
    "        history.append(dic)\n",
    "        model.epoch_end(epoch,dic)\n",
    "    return history"
   ]
  },
  {
   "cell_type": "code",
   "execution_count": 75,
   "id": "8da2da37",
   "metadata": {
    "execution": {
     "iopub.execute_input": "2022-02-04T10:30:52.276766Z",
     "iopub.status.busy": "2022-02-04T10:30:52.275668Z",
     "iopub.status.idle": "2022-02-04T10:30:52.277924Z",
     "shell.execute_reply": "2022-02-04T10:30:52.278527Z",
     "shell.execute_reply.started": "2022-02-03T19:06:12.497834Z"
    },
    "papermill": {
     "duration": 0.134703,
     "end_time": "2022-02-04T10:30:52.278696",
     "exception": false,
     "start_time": "2022-02-04T10:30:52.143993",
     "status": "completed"
    },
    "tags": []
   },
   "outputs": [],
   "source": [
    "opt=torch.optim.Adam"
   ]
  },
  {
   "cell_type": "code",
   "execution_count": 76,
   "id": "04c0e279",
   "metadata": {
    "execution": {
     "iopub.execute_input": "2022-02-04T10:30:52.528607Z",
     "iopub.status.busy": "2022-02-04T10:30:52.527617Z",
     "iopub.status.idle": "2022-02-04T10:30:52.531397Z",
     "shell.execute_reply": "2022-02-04T10:30:52.531953Z",
     "shell.execute_reply.started": "2022-02-03T19:06:12.942902Z"
    },
    "papermill": {
     "duration": 0.131921,
     "end_time": "2022-02-04T10:30:52.532126",
     "exception": false,
     "start_time": "2022-02-04T10:30:52.400205",
     "status": "completed"
    },
    "tags": []
   },
   "outputs": [
    {
     "name": "stdout",
     "output_type": "stream",
     "text": [
      "0.0001\n"
     ]
    }
   ],
   "source": [
    "a=10e-5\n",
    "print(a)"
   ]
  },
  {
   "cell_type": "code",
   "execution_count": 77,
   "id": "b84d959a",
   "metadata": {
    "execution": {
     "iopub.execute_input": "2022-02-04T10:30:52.781159Z",
     "iopub.status.busy": "2022-02-04T10:30:52.780175Z",
     "iopub.status.idle": "2022-02-04T10:31:03.884585Z",
     "shell.execute_reply": "2022-02-04T10:31:03.883840Z",
     "shell.execute_reply.started": "2022-02-03T19:03:27.398411Z"
    },
    "papermill": {
     "duration": 11.23192,
     "end_time": "2022-02-04T10:31:03.884763",
     "exception": false,
     "start_time": "2022-02-04T10:30:52.652843",
     "status": "completed"
    },
    "tags": []
   },
   "outputs": [
    {
     "name": "stdout",
     "output_type": "stream",
     "text": [
      "Collecting torchsummary\r\n",
      "  Downloading torchsummary-1.5.1-py3-none-any.whl (2.8 kB)\r\n",
      "Installing collected packages: torchsummary\r\n",
      "Successfully installed torchsummary-1.5.1\r\n",
      "\u001b[33mWARNING: Running pip as the 'root' user can result in broken permissions and conflicting behaviour with the system package manager. It is recommended to use a virtual environment instead: https://pip.pypa.io/warnings/venv\u001b[0m\r\n",
      "Note: you may need to restart the kernel to use updated packages.\n"
     ]
    }
   ],
   "source": [
    "pip install torchsummary"
   ]
  },
  {
   "cell_type": "code",
   "execution_count": 78,
   "id": "ce278c17",
   "metadata": {
    "execution": {
     "iopub.execute_input": "2022-02-04T10:31:04.143595Z",
     "iopub.status.busy": "2022-02-04T10:31:04.142544Z",
     "iopub.status.idle": "2022-02-04T10:31:04.149099Z",
     "shell.execute_reply": "2022-02-04T10:31:04.148473Z",
     "shell.execute_reply.started": "2022-02-03T18:02:51.295433Z"
    },
    "papermill": {
     "duration": 0.138417,
     "end_time": "2022-02-04T10:31:04.149250",
     "exception": false,
     "start_time": "2022-02-04T10:31:04.010833",
     "status": "completed"
    },
    "tags": []
   },
   "outputs": [],
   "source": [
    "from torchsummary import summary\n",
    "#summary(model,input_size=(3,260,260))"
   ]
  },
  {
   "cell_type": "code",
   "execution_count": 79,
   "id": "b78dd96f",
   "metadata": {
    "execution": {
     "iopub.execute_input": "2022-02-04T10:31:04.412640Z",
     "iopub.status.busy": "2022-02-04T10:31:04.411578Z",
     "iopub.status.idle": "2022-02-04T13:39:16.347669Z",
     "shell.execute_reply": "2022-02-04T13:39:16.347058Z"
    },
    "papermill": {
     "duration": 11292.073313,
     "end_time": "2022-02-04T13:39:16.347830",
     "exception": false,
     "start_time": "2022-02-04T10:31:04.274517",
     "status": "completed"
    },
    "tags": []
   },
   "outputs": [
    {
     "name": "stderr",
     "output_type": "stream",
     "text": [
      "/opt/conda/lib/python3.7/site-packages/sklearn/metrics/_classification.py:1814: UserWarning: y_pred contains classes not in y_true\n",
      "  warnings.warn('y_pred contains classes not in y_true')\n"
     ]
    },
    {
     "name": "stdout",
     "output_type": "stream",
     "text": [
      "Epoch [0], train_acc: 0.4149,train_bal_acc: 0.4216,train_f1: 0.3856\n",
      "Epoch [0], val_loss: 1.5668, val_acc: 0.4425,val_mic: 0.4425, val_mac: 0.4387, bal_acc: 0.4891\n",
      "Epoch [1], train_acc: 0.4713,train_bal_acc: 0.4813,train_f1: 0.4443\n",
      "Epoch [1], val_loss: 1.5649, val_acc: 0.4414,val_mic: 0.4414, val_mac: 0.4412, bal_acc: 0.5078\n",
      "Epoch [2], train_acc: 0.4882,train_bal_acc: 0.5005,train_f1: 0.4634\n",
      "Epoch [2], val_loss: 1.4864, val_acc: 0.4921,val_mic: 0.4921, val_mac: 0.4569, bal_acc: 0.5020\n",
      "Epoch [3], train_acc: 0.5022,train_bal_acc: 0.5121,train_f1: 0.4770\n",
      "Epoch     4: reducing learning rate of group 0 to 1.0000e-03.\n",
      "Epoch [3], val_loss: 1.5475, val_acc: 0.4593,val_mic: 0.4593, val_mac: 0.4232, bal_acc: 0.4897\n",
      "Epoch [4], train_acc: 0.5208,train_bal_acc: 0.5281,train_f1: 0.4922\n",
      "Epoch [4], val_loss: 1.4633, val_acc: 0.4844,val_mic: 0.4844, val_mac: 0.4717, bal_acc: 0.5253\n",
      "Epoch [5], train_acc: 0.5340,train_bal_acc: 0.5449,train_f1: 0.5083\n",
      "Epoch [5], val_loss: 1.4504, val_acc: 0.4940,val_mic: 0.4940, val_mac: 0.4817, bal_acc: 0.5330\n",
      "Epoch [6], train_acc: 0.5362,train_bal_acc: 0.5477,train_f1: 0.5097\n",
      "Epoch [6], val_loss: 1.4374, val_acc: 0.4968,val_mic: 0.4968, val_mac: 0.4890, bal_acc: 0.5430\n",
      "Epoch [7], train_acc: 0.5446,train_bal_acc: 0.5563,train_f1: 0.5198\n",
      "Epoch [7], val_loss: 1.4252, val_acc: 0.4990,val_mic: 0.4990, val_mac: 0.4862, bal_acc: 0.5417\n",
      "Epoch [8], train_acc: 0.5486,train_bal_acc: 0.5587,train_f1: 0.5220\n",
      "Epoch [8], val_loss: 1.4077, val_acc: 0.5080,val_mic: 0.5080, val_mac: 0.4976, bal_acc: 0.5413\n",
      "Epoch [9], train_acc: 0.5607,train_bal_acc: 0.5693,train_f1: 0.5319\n",
      "Epoch    10: reducing learning rate of group 0 to 1.0000e-04.\n",
      "Epoch [9], val_loss: 1.4206, val_acc: 0.5020,val_mic: 0.5020, val_mac: 0.4886, bal_acc: 0.5400\n"
     ]
    },
    {
     "data": {
      "text/plain": [
       "[{'val_loss': 1.5668047666549683,\n",
       "  'val_acc': 0.4424639642238617,\n",
       "  'micro_f1': 0.44246394230769226,\n",
       "  'macro_f1': 0.43873463416853575,\n",
       "  'bal_acc': 0.48906580694543217},\n",
       " {'val_loss': 1.5649261474609375,\n",
       "  'val_acc': 0.4413701891899109,\n",
       "  'micro_f1': 0.44137019230769226,\n",
       "  'macro_f1': 0.44116375360780635,\n",
       "  'bal_acc': 0.5077778892410402},\n",
       " {'val_loss': 1.4863543510437012,\n",
       "  'val_acc': 0.49210333824157715,\n",
       "  'micro_f1': 0.4921033653846154,\n",
       "  'macro_f1': 0.45690465728592566,\n",
       "  'bal_acc': 0.5019798030148871},\n",
       " {'val_loss': 1.5474772453308105,\n",
       "  'val_acc': 0.4593029022216797,\n",
       "  'micro_f1': 0.4593028846153846,\n",
       "  'macro_f1': 0.4231583609242769,\n",
       "  'bal_acc': 0.48970588264031717},\n",
       " {'val_loss': 1.4633305072784424,\n",
       "  'val_acc': 0.48444709181785583,\n",
       "  'micro_f1': 0.4844471153846154,\n",
       "  'macro_f1': 0.47168208458628724,\n",
       "  'bal_acc': 0.5253115103961694},\n",
       " {'val_loss': 1.4503692388534546,\n",
       "  'val_acc': 0.49399039149284363,\n",
       "  'micro_f1': 0.4939903846153846,\n",
       "  'macro_f1': 0.48169870692266387,\n",
       "  'bal_acc': 0.5330364687620809},\n",
       " {'val_loss': 1.437363862991333,\n",
       "  'val_acc': 0.49681487679481506,\n",
       "  'micro_f1': 0.49681490384615384,\n",
       "  'macro_f1': 0.48899980650271374,\n",
       "  'bal_acc': 0.5429877225280687},\n",
       " {'val_loss': 1.4251699447631836,\n",
       "  'val_acc': 0.49899041652679443,\n",
       "  'micro_f1': 0.4989903846153846,\n",
       "  'macro_f1': 0.48619384513521496,\n",
       "  'bal_acc': 0.5416714883584325},\n",
       " {'val_loss': 1.4076915979385376,\n",
       "  'val_acc': 0.50801682472229,\n",
       "  'micro_f1': 0.5080168269230769,\n",
       "  'macro_f1': 0.4975639000970233,\n",
       "  'bal_acc': 0.5412744653066388},\n",
       " {'val_loss': 1.420622706413269,\n",
       "  'val_acc': 0.5019831657409668,\n",
       "  'micro_f1': 0.5019831730769231,\n",
       "  'macro_f1': 0.48858661483220445,\n",
       "  'bal_acc': 0.5400198467164017}]"
      ]
     },
     "execution_count": 79,
     "metadata": {},
     "output_type": "execute_result"
    }
   ],
   "source": [
    "fit(model,train_dl,val_dl,opt,1*10e-3,10)"
   ]
  },
  {
   "cell_type": "code",
   "execution_count": 80,
   "id": "df6e0e7e",
   "metadata": {
    "execution": {
     "iopub.execute_input": "2022-02-04T13:39:16.615390Z",
     "iopub.status.busy": "2022-02-04T13:39:16.614319Z",
     "iopub.status.idle": "2022-02-04T13:39:16.876864Z",
     "shell.execute_reply": "2022-02-04T13:39:16.876012Z"
    },
    "papermill": {
     "duration": 0.400721,
     "end_time": "2022-02-04T13:39:16.877015",
     "exception": false,
     "start_time": "2022-02-04T13:39:16.476294",
     "status": "completed"
    },
    "tags": []
   },
   "outputs": [],
   "source": [
    "torch.save(model.state_dict(), 'res_cust_0.pth')\n",
    "torch.save(model, 'res_cust_whole0.pkl')"
   ]
  },
  {
   "cell_type": "code",
   "execution_count": 81,
   "id": "cbbbaa80",
   "metadata": {
    "execution": {
     "iopub.execute_input": "2022-02-04T13:39:17.152184Z",
     "iopub.status.busy": "2022-02-04T13:39:17.151175Z",
     "iopub.status.idle": "2022-02-04T15:09:47.754298Z",
     "shell.execute_reply": "2022-02-04T15:09:47.753761Z",
     "shell.execute_reply.started": "2022-02-03T17:58:10.52731Z"
    },
    "papermill": {
     "duration": 5430.744366,
     "end_time": "2022-02-04T15:09:47.754477",
     "exception": false,
     "start_time": "2022-02-04T13:39:17.010111",
     "status": "completed"
    },
    "tags": []
   },
   "outputs": [
    {
     "name": "stdout",
     "output_type": "stream",
     "text": [
      "Epoch [0], train_acc: 0.5581,train_bal_acc: 0.5676,train_f1: 0.5293\n",
      "Epoch [0], val_loss: 1.4141, val_acc: 0.5066,val_mic: 0.5066, val_mac: 0.4957, bal_acc: 0.5473\n",
      "Epoch [1], train_acc: 0.5631,train_bal_acc: 0.5750,train_f1: 0.5370\n",
      "Epoch [1], val_loss: 1.4119, val_acc: 0.5073,val_mic: 0.5073, val_mac: 0.4916, bal_acc: 0.5470\n",
      "Epoch [2], train_acc: 0.5569,train_bal_acc: 0.5667,train_f1: 0.5303\n",
      "Epoch     3: reducing learning rate of group 0 to 5.0000e-06.\n",
      "Epoch [2], val_loss: 1.4126, val_acc: 0.5062,val_mic: 0.5062, val_mac: 0.4934, bal_acc: 0.5446\n",
      "Epoch [3], train_acc: 0.5618,train_bal_acc: 0.5735,train_f1: 0.5357\n",
      "Epoch [3], val_loss: 1.4073, val_acc: 0.5146,val_mic: 0.5146, val_mac: 0.5088, bal_acc: 0.5533\n",
      "Epoch [4], train_acc: 0.5601,train_bal_acc: 0.5697,train_f1: 0.5344\n",
      "Epoch     5: reducing learning rate of group 0 to 5.0000e-07.\n",
      "Epoch [4], val_loss: 1.4085, val_acc: 0.5093,val_mic: 0.5093, val_mac: 0.5016, bal_acc: 0.5497\n"
     ]
    },
    {
     "data": {
      "text/plain": [
       "[{'val_loss': 1.41411292552948,\n",
       "  'val_acc': 0.5066345930099487,\n",
       "  'micro_f1': 0.5066346153846154,\n",
       "  'macro_f1': 0.49569287636674525,\n",
       "  'bal_acc': 0.5472653618775793},\n",
       " {'val_loss': 1.4118996858596802,\n",
       "  'val_acc': 0.5072716474533081,\n",
       "  'micro_f1': 0.5072716346153846,\n",
       "  'macro_f1': 0.4915547142487247,\n",
       "  'bal_acc': 0.5469562517362968},\n",
       " {'val_loss': 1.4125605821609497,\n",
       "  'val_acc': 0.5061779022216797,\n",
       "  'micro_f1': 0.5061778846153846,\n",
       "  'macro_f1': 0.493417046207001,\n",
       "  'bal_acc': 0.544648517124283},\n",
       " {'val_loss': 1.4073128700256348,\n",
       "  'val_acc': 0.5145673155784607,\n",
       "  'micro_f1': 0.5145673076923077,\n",
       "  'macro_f1': 0.5088408198133478,\n",
       "  'bal_acc': 0.5533297751613295},\n",
       " {'val_loss': 1.408475637435913,\n",
       "  'val_acc': 0.5092667937278748,\n",
       "  'micro_f1': 0.5092668269230769,\n",
       "  'macro_f1': 0.5015767649518516,\n",
       "  'bal_acc': 0.5496531249367257}]"
      ]
     },
     "execution_count": 81,
     "metadata": {},
     "output_type": "execute_result"
    }
   ],
   "source": [
    "fit(model,train_dl,val_dl,opt,5*10e-6,5)"
   ]
  },
  {
   "cell_type": "code",
   "execution_count": 82,
   "id": "511034e8",
   "metadata": {
    "execution": {
     "iopub.execute_input": "2022-02-04T15:09:48.017732Z",
     "iopub.status.busy": "2022-02-04T15:09:48.016698Z",
     "iopub.status.idle": "2022-02-04T15:09:48.411429Z",
     "shell.execute_reply": "2022-02-04T15:09:48.412311Z"
    },
    "papermill": {
     "duration": 0.529952,
     "end_time": "2022-02-04T15:09:48.412617",
     "exception": false,
     "start_time": "2022-02-04T15:09:47.882665",
     "status": "completed"
    },
    "tags": []
   },
   "outputs": [],
   "source": [
    "torch.save(model.state_dict(), 'res_cust_1.pth')\n",
    "torch.save(model, 'res_cust_whole1.pkl')"
   ]
  },
  {
   "cell_type": "code",
   "execution_count": 83,
   "id": "424d1840",
   "metadata": {
    "execution": {
     "iopub.execute_input": "2022-02-04T15:09:48.984615Z",
     "iopub.status.busy": "2022-02-04T15:09:48.982701Z",
     "iopub.status.idle": "2022-02-04T15:09:48.985574Z",
     "shell.execute_reply": "2022-02-04T15:09:48.983584Z"
    },
    "papermill": {
     "duration": 0.267086,
     "end_time": "2022-02-04T15:09:48.985753",
     "exception": false,
     "start_time": "2022-02-04T15:09:48.718667",
     "status": "completed"
    },
    "tags": []
   },
   "outputs": [],
   "source": [
    "for param in model_transfer.parameters():\n",
    "    param.requires_grad=True"
   ]
  },
  {
   "cell_type": "code",
   "execution_count": 84,
   "id": "0c55015b",
   "metadata": {
    "execution": {
     "iopub.execute_input": "2022-02-04T15:09:49.500423Z",
     "iopub.status.busy": "2022-02-04T15:09:49.499327Z",
     "iopub.status.idle": "2022-02-04T20:05:12.358683Z",
     "shell.execute_reply": "2022-02-04T20:05:12.358027Z",
     "shell.execute_reply.started": "2022-01-29T14:44:43.220226Z"
    },
    "papermill": {
     "duration": 17723.099642,
     "end_time": "2022-02-04T20:05:12.358854",
     "exception": false,
     "start_time": "2022-02-04T15:09:49.259212",
     "status": "completed"
    },
    "tags": []
   },
   "outputs": [
    {
     "name": "stdout",
     "output_type": "stream",
     "text": [
      "Epoch [0], train_acc: 0.6551,train_bal_acc: 0.6668,train_f1: 0.6322\n",
      "Epoch [0], val_loss: 1.0735, val_acc: 0.6438,val_mic: 0.6438, val_mac: 0.6443, bal_acc: 0.6952\n",
      "Epoch [1], train_acc: 0.7290,train_bal_acc: 0.7393,train_f1: 0.7076\n",
      "Epoch [1], val_loss: 1.0390, val_acc: 0.6455,val_mic: 0.6455, val_mac: 0.6491, bal_acc: 0.6998\n",
      "Epoch [2], train_acc: 0.7728,train_bal_acc: 0.7855,train_f1: 0.7544\n",
      "Epoch [2], val_loss: 0.9039, val_acc: 0.6910,val_mic: 0.6910, val_mac: 0.6930, bal_acc: 0.7323\n",
      "Epoch [3], train_acc: 0.8047,train_bal_acc: 0.8146,train_f1: 0.7863\n",
      "Epoch [3], val_loss: 0.8704, val_acc: 0.7025,val_mic: 0.7025, val_mac: 0.7026, bal_acc: 0.7444\n",
      "Epoch [4], train_acc: 0.8278,train_bal_acc: 0.8405,train_f1: 0.8117\n",
      "Epoch [4], val_loss: 0.8299, val_acc: 0.7141,val_mic: 0.7141, val_mac: 0.7164, bal_acc: 0.7515\n",
      "Epoch [5], train_acc: 0.8472,train_bal_acc: 0.8569,train_f1: 0.8320\n",
      "Epoch     6: reducing learning rate of group 0 to 2.0000e-05.\n",
      "Epoch [5], val_loss: 0.8383, val_acc: 0.7060,val_mic: 0.7060, val_mac: 0.7165, bal_acc: 0.7471\n",
      "Epoch [6], train_acc: 0.8605,train_bal_acc: 0.8718,train_f1: 0.8468\n",
      "Epoch [6], val_loss: 0.7819, val_acc: 0.7321,val_mic: 0.7321, val_mac: 0.7447, bal_acc: 0.7739\n",
      "Epoch [7], train_acc: 0.8683,train_bal_acc: 0.8785,train_f1: 0.8556\n",
      "Epoch [7], val_loss: 0.7775, val_acc: 0.7330,val_mic: 0.7330, val_mac: 0.7380, bal_acc: 0.7685\n",
      "Epoch [8], train_acc: 0.8780,train_bal_acc: 0.8878,train_f1: 0.8651\n",
      "Epoch [8], val_loss: 0.7665, val_acc: 0.7348,val_mic: 0.7348, val_mac: 0.7353, bal_acc: 0.7650\n",
      "Epoch [9], train_acc: 0.8829,train_bal_acc: 0.8913,train_f1: 0.8687\n",
      "Epoch [9], val_loss: 0.7659, val_acc: 0.7377,val_mic: 0.7377, val_mac: 0.7377, bal_acc: 0.7675\n",
      "Epoch [10], train_acc: 0.8899,train_bal_acc: 0.8989,train_f1: 0.8790\n",
      "Epoch    11: reducing learning rate of group 0 to 2.0000e-06.\n",
      "Epoch [10], val_loss: 0.7713, val_acc: 0.7366,val_mic: 0.7366, val_mac: 0.7419, bal_acc: 0.7654\n",
      "Epoch [11], train_acc: 0.8910,train_bal_acc: 0.9006,train_f1: 0.8789\n",
      "Epoch    12: reducing learning rate of group 0 to 2.0000e-07.\n",
      "Epoch [11], val_loss: 0.7697, val_acc: 0.7346,val_mic: 0.7346, val_mac: 0.7333, bal_acc: 0.7622\n",
      "Epoch [12], train_acc: 0.8874,train_bal_acc: 0.8976,train_f1: 0.8763\n",
      "Epoch    13: reducing learning rate of group 0 to 2.0000e-08.\n",
      "Epoch [12], val_loss: 0.7771, val_acc: 0.7357,val_mic: 0.7357, val_mac: 0.7356, bal_acc: 0.7636\n",
      "Epoch [13], train_acc: 0.8904,train_bal_acc: 0.8996,train_f1: 0.8785\n",
      "Epoch    14: reducing learning rate of group 0 to 2.0000e-09.\n",
      "Epoch [13], val_loss: 0.7697, val_acc: 0.7381,val_mic: 0.7381, val_mac: 0.7398, bal_acc: 0.7689\n",
      "Epoch [14], train_acc: 0.8927,train_bal_acc: 0.9006,train_f1: 0.8813\n",
      "Epoch [14], val_loss: 0.7753, val_acc: 0.7365,val_mic: 0.7365, val_mac: 0.7412, bal_acc: 0.7693\n"
     ]
    },
    {
     "data": {
      "text/plain": [
       "[{'val_loss': 1.0735307931900024,\n",
       "  'val_acc': 0.6437980532646179,\n",
       "  'micro_f1': 0.6437980769230769,\n",
       "  'macro_f1': 0.6442718344570918,\n",
       "  'bal_acc': 0.6952381921713191},\n",
       " {'val_loss': 1.0390349626541138,\n",
       "  'val_acc': 0.6454927921295166,\n",
       "  'micro_f1': 0.6454927884615383,\n",
       "  'macro_f1': 0.6490833552368238,\n",
       "  'bal_acc': 0.699792494791817},\n",
       " {'val_loss': 0.9038751125335693,\n",
       "  'val_acc': 0.6909855604171753,\n",
       "  'micro_f1': 0.6909855769230769,\n",
       "  'macro_f1': 0.6930177786513321,\n",
       "  'bal_acc': 0.7322661174966808},\n",
       " {'val_loss': 0.87038254737854,\n",
       "  'val_acc': 0.7024999856948853,\n",
       "  'micro_f1': 0.7025,\n",
       "  'macro_f1': 0.7026351341823698,\n",
       "  'bal_acc': 0.744434893737475},\n",
       " {'val_loss': 0.8298887610435486,\n",
       "  'val_acc': 0.7141105532646179,\n",
       "  'micro_f1': 0.7141105769230769,\n",
       "  'macro_f1': 0.7163790192309983,\n",
       "  'bal_acc': 0.7515179640305801},\n",
       " {'val_loss': 0.8383456468582153,\n",
       "  'val_acc': 0.7060096263885498,\n",
       "  'micro_f1': 0.7060096153846155,\n",
       "  'macro_f1': 0.7164731436961346,\n",
       "  'bal_acc': 0.7470569938635668},\n",
       " {'val_loss': 0.7818838953971863,\n",
       "  'val_acc': 0.7320553064346313,\n",
       "  'micro_f1': 0.7320552884615384,\n",
       "  'macro_f1': 0.7447396956437703,\n",
       "  'bal_acc': 0.7739262518370584},\n",
       " {'val_loss': 0.777534544467926,\n",
       "  'val_acc': 0.7330167889595032,\n",
       "  'micro_f1': 0.7330168269230769,\n",
       "  'macro_f1': 0.7380437302230252,\n",
       "  'bal_acc': 0.7685488303689602},\n",
       " {'val_loss': 0.7664653062820435,\n",
       "  'val_acc': 0.7347595691680908,\n",
       "  'micro_f1': 0.7347596153846154,\n",
       "  'macro_f1': 0.7352527910984175,\n",
       "  'bal_acc': 0.7650355395714894},\n",
       " {'val_loss': 0.7659106850624084,\n",
       "  'val_acc': 0.7376802563667297,\n",
       "  'micro_f1': 0.7376802884615384,\n",
       "  'macro_f1': 0.737661097053546,\n",
       "  'bal_acc': 0.7675033090288754},\n",
       " {'val_loss': 0.7713253498077393,\n",
       "  'val_acc': 0.7366226315498352,\n",
       "  'micro_f1': 0.7366225961538462,\n",
       "  'macro_f1': 0.7418756720791544,\n",
       "  'bal_acc': 0.7653934299578592},\n",
       " {'val_loss': 0.7696969509124756,\n",
       "  'val_acc': 0.7345672845840454,\n",
       "  'micro_f1': 0.7345673076923077,\n",
       "  'macro_f1': 0.7333471668741405,\n",
       "  'bal_acc': 0.7622100052208555},\n",
       " {'val_loss': 0.7771409153938293,\n",
       "  'val_acc': 0.7357091307640076,\n",
       "  'micro_f1': 0.7357091346153846,\n",
       "  'macro_f1': 0.735580431653955,\n",
       "  'bal_acc': 0.7635910392983922},\n",
       " {'val_loss': 0.7696514129638672,\n",
       "  'val_acc': 0.7381490468978882,\n",
       "  'micro_f1': 0.7381490384615383,\n",
       "  'macro_f1': 0.7398236261515527,\n",
       "  'bal_acc': 0.7688652627524355},\n",
       " {'val_loss': 0.7753031849861145,\n",
       "  'val_acc': 0.7364543080329895,\n",
       "  'micro_f1': 0.7364543269230769,\n",
       "  'macro_f1': 0.741213279058594,\n",
       "  'bal_acc': 0.7693130659897898}]"
      ]
     },
     "execution_count": 84,
     "metadata": {},
     "output_type": "execute_result"
    }
   ],
   "source": [
    "fit(model,train_dl,val_dl,opt,2*10e-5,15)      "
   ]
  },
  {
   "cell_type": "code",
   "execution_count": 85,
   "id": "764f29ce",
   "metadata": {
    "execution": {
     "iopub.execute_input": "2022-02-04T20:05:12.651361Z",
     "iopub.status.busy": "2022-02-04T20:05:12.650313Z",
     "iopub.status.idle": "2022-02-04T20:05:12.901706Z",
     "shell.execute_reply": "2022-02-04T20:05:12.901085Z"
    },
    "papermill": {
     "duration": 0.400577,
     "end_time": "2022-02-04T20:05:12.901847",
     "exception": false,
     "start_time": "2022-02-04T20:05:12.501270",
     "status": "completed"
    },
    "tags": []
   },
   "outputs": [],
   "source": [
    "torch.save(model.state_dict(), 'res_cust_2.pth')\n",
    "torch.save(model, 'res_cust_whole2.pkl')"
   ]
  },
  {
   "cell_type": "code",
   "execution_count": null,
   "id": "044f37b5",
   "metadata": {
    "execution": {
     "iopub.execute_input": "2022-01-29T15:53:43.578405Z",
     "iopub.status.busy": "2022-01-29T15:53:43.577744Z"
    },
    "papermill": {
     "duration": 0.139275,
     "end_time": "2022-02-04T20:05:13.183243",
     "exception": false,
     "start_time": "2022-02-04T20:05:13.043968",
     "status": "completed"
    },
    "tags": []
   },
   "outputs": [],
   "source": []
  },
  {
   "cell_type": "code",
   "execution_count": null,
   "id": "99f9b885",
   "metadata": {
    "papermill": {
     "duration": 0.13967,
     "end_time": "2022-02-04T20:05:13.464829",
     "exception": false,
     "start_time": "2022-02-04T20:05:13.325159",
     "status": "completed"
    },
    "tags": []
   },
   "outputs": [],
   "source": []
  },
  {
   "cell_type": "code",
   "execution_count": 86,
   "id": "236e6cde",
   "metadata": {
    "execution": {
     "iopub.execute_input": "2022-02-04T20:05:13.764709Z",
     "iopub.status.busy": "2022-02-04T20:05:13.763602Z",
     "iopub.status.idle": "2022-02-04T20:05:13.766260Z",
     "shell.execute_reply": "2022-02-04T20:05:13.766780Z",
     "shell.execute_reply.started": "2022-02-03T19:03:40.199049Z"
    },
    "papermill": {
     "duration": 0.156804,
     "end_time": "2022-02-04T20:05:13.766932",
     "exception": false,
     "start_time": "2022-02-04T20:05:13.610128",
     "status": "completed"
    },
    "tags": []
   },
   "outputs": [],
   "source": [
    "import glob"
   ]
  },
  {
   "cell_type": "code",
   "execution_count": 87,
   "id": "b0c2f7e4",
   "metadata": {
    "execution": {
     "iopub.execute_input": "2022-02-04T20:05:14.063016Z",
     "iopub.status.busy": "2022-02-04T20:05:14.062399Z",
     "iopub.status.idle": "2022-02-04T20:05:15.075466Z",
     "shell.execute_reply": "2022-02-04T20:05:15.074785Z",
     "shell.execute_reply.started": "2022-02-03T19:03:40.557338Z"
    },
    "papermill": {
     "duration": 1.160629,
     "end_time": "2022-02-04T20:05:15.075684",
     "exception": false,
     "start_time": "2022-02-04T20:05:13.915055",
     "status": "completed"
    },
    "tags": []
   },
   "outputs": [],
   "source": [
    "from os import listdir\n",
    "onlyfiles = [f for f in listdir('../input/stylumia-complete/test')]"
   ]
  },
  {
   "cell_type": "code",
   "execution_count": 88,
   "id": "1c519d0c",
   "metadata": {
    "execution": {
     "iopub.execute_input": "2022-02-04T20:05:15.368758Z",
     "iopub.status.busy": "2022-02-04T20:05:15.367629Z",
     "iopub.status.idle": "2022-02-04T20:05:15.370058Z",
     "shell.execute_reply": "2022-02-04T20:05:15.370744Z",
     "shell.execute_reply.started": "2022-02-03T19:03:42.05182Z"
    },
    "papermill": {
     "duration": 0.152141,
     "end_time": "2022-02-04T20:05:15.370917",
     "exception": false,
     "start_time": "2022-02-04T20:05:15.218776",
     "status": "completed"
    },
    "tags": []
   },
   "outputs": [],
   "source": [
    "#onlyfiles"
   ]
  },
  {
   "cell_type": "code",
   "execution_count": 89,
   "id": "813c943c",
   "metadata": {
    "execution": {
     "iopub.execute_input": "2022-02-04T20:05:15.667606Z",
     "iopub.status.busy": "2022-02-04T20:05:15.666611Z",
     "iopub.status.idle": "2022-02-04T20:05:15.743239Z",
     "shell.execute_reply": "2022-02-04T20:05:15.742630Z",
     "shell.execute_reply.started": "2022-02-03T19:03:42.278324Z"
    },
    "papermill": {
     "duration": 0.22723,
     "end_time": "2022-02-04T20:05:15.743397",
     "exception": false,
     "start_time": "2022-02-04T20:05:15.516167",
     "status": "completed"
    },
    "tags": []
   },
   "outputs": [],
   "source": [
    "file_name=[]\n",
    "for name in glob.glob('../input/stylumia-complete/test/*'):\n",
    "    file_name1=name.split('/')\n",
    "    #print(file_name1[-1])\n",
    "    file_name.append(file_name1[-1])"
   ]
  },
  {
   "cell_type": "code",
   "execution_count": 90,
   "id": "d23003c5",
   "metadata": {
    "execution": {
     "iopub.execute_input": "2022-02-04T20:05:16.039461Z",
     "iopub.status.busy": "2022-02-04T20:05:16.038390Z",
     "iopub.status.idle": "2022-02-04T20:05:16.041144Z",
     "shell.execute_reply": "2022-02-04T20:05:16.041648Z",
     "shell.execute_reply.started": "2022-02-03T19:03:42.516781Z"
    },
    "papermill": {
     "duration": 0.150197,
     "end_time": "2022-02-04T20:05:16.041828",
     "exception": false,
     "start_time": "2022-02-04T20:05:15.891631",
     "status": "completed"
    },
    "tags": []
   },
   "outputs": [],
   "source": [
    "test_df=pd.DataFrame()"
   ]
  },
  {
   "cell_type": "code",
   "execution_count": 91,
   "id": "cd470587",
   "metadata": {
    "execution": {
     "iopub.execute_input": "2022-02-04T20:05:16.332562Z",
     "iopub.status.busy": "2022-02-04T20:05:16.331565Z",
     "iopub.status.idle": "2022-02-04T20:05:16.339799Z",
     "shell.execute_reply": "2022-02-04T20:05:16.339204Z",
     "shell.execute_reply.started": "2022-02-03T19:03:44.278641Z"
    },
    "papermill": {
     "duration": 0.156515,
     "end_time": "2022-02-04T20:05:16.339919",
     "exception": false,
     "start_time": "2022-02-04T20:05:16.183404",
     "status": "completed"
    },
    "tags": []
   },
   "outputs": [],
   "source": [
    "test_df['file_name']=pd.Series(file_name)"
   ]
  },
  {
   "cell_type": "code",
   "execution_count": 92,
   "id": "7021e5c4",
   "metadata": {
    "execution": {
     "iopub.execute_input": "2022-02-04T20:05:16.633664Z",
     "iopub.status.busy": "2022-02-04T20:05:16.632559Z",
     "iopub.status.idle": "2022-02-04T20:05:16.644494Z",
     "shell.execute_reply": "2022-02-04T20:05:16.643987Z",
     "shell.execute_reply.started": "2022-02-03T19:03:45.852902Z"
    },
    "papermill": {
     "duration": 0.160493,
     "end_time": "2022-02-04T20:05:16.644625",
     "exception": false,
     "start_time": "2022-02-04T20:05:16.484132",
     "status": "completed"
    },
    "tags": []
   },
   "outputs": [
    {
     "data": {
      "text/html": [
       "<div>\n",
       "<style scoped>\n",
       "    .dataframe tbody tr th:only-of-type {\n",
       "        vertical-align: middle;\n",
       "    }\n",
       "\n",
       "    .dataframe tbody tr th {\n",
       "        vertical-align: top;\n",
       "    }\n",
       "\n",
       "    .dataframe thead th {\n",
       "        text-align: right;\n",
       "    }\n",
       "</style>\n",
       "<table border=\"1\" class=\"dataframe\">\n",
       "  <thead>\n",
       "    <tr style=\"text-align: right;\">\n",
       "      <th></th>\n",
       "      <th>file_name</th>\n",
       "    </tr>\n",
       "  </thead>\n",
       "  <tbody>\n",
       "    <tr>\n",
       "      <th>0</th>\n",
       "      <td>Image_test_015339.jpg</td>\n",
       "    </tr>\n",
       "    <tr>\n",
       "      <th>1</th>\n",
       "      <td>Image_test_015427.jpg</td>\n",
       "    </tr>\n",
       "    <tr>\n",
       "      <th>2</th>\n",
       "      <td>Image_test_006765.jpg</td>\n",
       "    </tr>\n",
       "    <tr>\n",
       "      <th>3</th>\n",
       "      <td>Image_test_009681.jpg</td>\n",
       "    </tr>\n",
       "    <tr>\n",
       "      <th>4</th>\n",
       "      <td>Image_test_002734.jpg</td>\n",
       "    </tr>\n",
       "    <tr>\n",
       "      <th>...</th>\n",
       "      <td>...</td>\n",
       "    </tr>\n",
       "    <tr>\n",
       "      <th>18218</th>\n",
       "      <td>Image_test_017934.jpg</td>\n",
       "    </tr>\n",
       "    <tr>\n",
       "      <th>18219</th>\n",
       "      <td>Image_test_008324.jpg</td>\n",
       "    </tr>\n",
       "    <tr>\n",
       "      <th>18220</th>\n",
       "      <td>Image_test_010326.jpg</td>\n",
       "    </tr>\n",
       "    <tr>\n",
       "      <th>18221</th>\n",
       "      <td>Image_test_001255.jpg</td>\n",
       "    </tr>\n",
       "    <tr>\n",
       "      <th>18222</th>\n",
       "      <td>Image_test_006906.jpg</td>\n",
       "    </tr>\n",
       "  </tbody>\n",
       "</table>\n",
       "<p>18223 rows × 1 columns</p>\n",
       "</div>"
      ],
      "text/plain": [
       "                   file_name\n",
       "0      Image_test_015339.jpg\n",
       "1      Image_test_015427.jpg\n",
       "2      Image_test_006765.jpg\n",
       "3      Image_test_009681.jpg\n",
       "4      Image_test_002734.jpg\n",
       "...                      ...\n",
       "18218  Image_test_017934.jpg\n",
       "18219  Image_test_008324.jpg\n",
       "18220  Image_test_010326.jpg\n",
       "18221  Image_test_001255.jpg\n",
       "18222  Image_test_006906.jpg\n",
       "\n",
       "[18223 rows x 1 columns]"
      ]
     },
     "execution_count": 92,
     "metadata": {},
     "output_type": "execute_result"
    }
   ],
   "source": [
    "test_df"
   ]
  },
  {
   "cell_type": "code",
   "execution_count": 93,
   "id": "9bc5a332",
   "metadata": {
    "execution": {
     "iopub.execute_input": "2022-02-04T20:05:16.938924Z",
     "iopub.status.busy": "2022-02-04T20:05:16.937784Z",
     "iopub.status.idle": "2022-02-04T20:05:16.940117Z",
     "shell.execute_reply": "2022-02-04T20:05:16.940670Z",
     "shell.execute_reply.started": "2022-02-03T19:03:47.29547Z"
    },
    "papermill": {
     "duration": 0.152338,
     "end_time": "2022-02-04T20:05:16.940819",
     "exception": false,
     "start_time": "2022-02-04T20:05:16.788481",
     "status": "completed"
    },
    "tags": []
   },
   "outputs": [],
   "source": [
    "data_folder=\"../input/stylumia-complete/\""
   ]
  },
  {
   "cell_type": "code",
   "execution_count": 94,
   "id": "aa02715e",
   "metadata": {
    "execution": {
     "iopub.execute_input": "2022-02-04T20:05:17.235411Z",
     "iopub.status.busy": "2022-02-04T20:05:17.232289Z",
     "iopub.status.idle": "2022-02-04T20:05:17.238445Z",
     "shell.execute_reply": "2022-02-04T20:05:17.237930Z",
     "shell.execute_reply.started": "2022-02-03T19:03:54.142939Z"
    },
    "papermill": {
     "duration": 0.155404,
     "end_time": "2022-02-04T20:05:17.238581",
     "exception": false,
     "start_time": "2022-02-04T20:05:17.083177",
     "status": "completed"
    },
    "tags": []
   },
   "outputs": [],
   "source": [
    "class CustomDataset_test(torch.utils.data.Dataset):\n",
    "    def __init__(self, df, images_folder,mode,stats,transform = ToTensor()):\n",
    "        self.df = df\n",
    "        self.mode=mode\n",
    "        self.images_folder = os.path.join(images_folder+'test')\n",
    "       \n",
    "        self.transform1=Resize((260,260))\n",
    "        self.train_tfms=tt.Compose([tt.RandomCrop(112,padding=4,padding_mode='reflect'),\n",
    "                      tt.RandomHorizontalFlip(),\n",
    "                      tt.ToTensor(),\n",
    "                      tt.Normalize(*stats,inplace=True)])\n",
    "        self.valid_tfms=tt.Compose([tt.ToTensor(),tt.Normalize(*stats,inplace=True)])\n",
    "\n",
    "    def __len__(self):\n",
    "        return len(self.df)\n",
    "    def __getitem__(self, index):\n",
    "        filename = self.df.loc[index, \"file_name\"]\n",
    "        #print(os.path.join(self.images_folder,filename))\n",
    "        image = PIL.Image.open(os.path.join(self.images_folder,filename))\n",
    "        if self.mode=='train':\n",
    "            image=self.transform1(image)\n",
    "            image=self.train_tfms(image)\n",
    "        else:\n",
    "            image=self.transform1(image)\n",
    "            image=self.valid_tfms(image)\n",
    "        return image,filename"
   ]
  },
  {
   "cell_type": "code",
   "execution_count": 95,
   "id": "a180fc00",
   "metadata": {
    "execution": {
     "iopub.execute_input": "2022-02-04T20:05:17.534968Z",
     "iopub.status.busy": "2022-02-04T20:05:17.533834Z",
     "iopub.status.idle": "2022-02-04T20:05:17.536383Z",
     "shell.execute_reply": "2022-02-04T20:05:17.536950Z",
     "shell.execute_reply.started": "2022-02-03T19:03:56.09311Z"
    },
    "papermill": {
     "duration": 0.154818,
     "end_time": "2022-02-04T20:05:17.537152",
     "exception": false,
     "start_time": "2022-02-04T20:05:17.382334",
     "status": "completed"
    },
    "tags": []
   },
   "outputs": [],
   "source": [
    "dataset_test=CustomDataset_test(test_df,data_folder,\"test\",stats)"
   ]
  },
  {
   "cell_type": "code",
   "execution_count": 96,
   "id": "30d50862",
   "metadata": {
    "execution": {
     "iopub.execute_input": "2022-02-04T20:05:17.831782Z",
     "iopub.status.busy": "2022-02-04T20:05:17.830524Z",
     "iopub.status.idle": "2022-02-04T20:05:17.833489Z",
     "shell.execute_reply": "2022-02-04T20:05:17.834048Z",
     "shell.execute_reply.started": "2022-02-03T19:03:56.648779Z"
    },
    "papermill": {
     "duration": 0.150964,
     "end_time": "2022-02-04T20:05:17.834192",
     "exception": false,
     "start_time": "2022-02-04T20:05:17.683228",
     "status": "completed"
    },
    "tags": []
   },
   "outputs": [],
   "source": [
    "test_dl = DataLoader(dataset=dataset_test, shuffle=True, batch_size=64)"
   ]
  },
  {
   "cell_type": "code",
   "execution_count": 97,
   "id": "30779de8",
   "metadata": {
    "execution": {
     "iopub.execute_input": "2022-02-04T20:05:18.122688Z",
     "iopub.status.busy": "2022-02-04T20:05:18.121805Z",
     "iopub.status.idle": "2022-02-04T20:05:22.011668Z",
     "shell.execute_reply": "2022-02-04T20:05:22.011103Z",
     "shell.execute_reply.started": "2022-02-03T19:04:00.033898Z"
    },
    "papermill": {
     "duration": 4.035269,
     "end_time": "2022-02-04T20:05:22.011855",
     "exception": false,
     "start_time": "2022-02-04T20:05:17.976586",
     "status": "completed"
    },
    "tags": []
   },
   "outputs": [],
   "source": [
    "for i in test_dl:\n",
    "    #print(i)\n",
    "    break"
   ]
  },
  {
   "cell_type": "code",
   "execution_count": 98,
   "id": "3c489aec",
   "metadata": {
    "execution": {
     "iopub.execute_input": "2022-02-04T20:05:22.315772Z",
     "iopub.status.busy": "2022-02-04T20:05:22.315037Z",
     "iopub.status.idle": "2022-02-04T20:05:22.319273Z",
     "shell.execute_reply": "2022-02-04T20:05:22.318729Z",
     "shell.execute_reply.started": "2022-02-03T19:04:04.232905Z"
    },
    "papermill": {
     "duration": 0.164207,
     "end_time": "2022-02-04T20:05:22.319442",
     "exception": false,
     "start_time": "2022-02-04T20:05:22.155235",
     "status": "completed"
    },
    "tags": []
   },
   "outputs": [],
   "source": [
    "def get_default_device():\n",
    "    \"\"\"Pick GPU if available, else CPU\"\"\"\n",
    "    if torch.cuda.is_available():\n",
    "        return torch.device('cuda')\n",
    "    else:\n",
    "        return torch.device('cpu')\n",
    "    \n",
    "def to_device(data, device):\n",
    "    \"\"\"Move tensor(s) to chosen device\"\"\"\n",
    "    if isinstance(data, (list,tuple)):\n",
    "        return [to_device(x, device) for x in data]\n",
    "    return data.to(device, non_blocking=True)\n",
    "\n",
    "class DeviceDataLoader():\n",
    "    \"\"\"Wrap a dataloader to move data to a device\"\"\"\n",
    "    def __init__(self, dl, device):\n",
    "        self.dl = dl\n",
    "        self.device = device\n",
    "        \n",
    "    def __iter__(self):\n",
    "        \"\"\"Yield a batch of data after moving it to device\"\"\"\n",
    "        for b in self.dl: \n",
    "            yield to_device(b, self.device)\n",
    "\n",
    "    def __len__(self):\n",
    "        \"\"\"Number of batches\"\"\"\n",
    "        return len(self.dl)"
   ]
  },
  {
   "cell_type": "code",
   "execution_count": 99,
   "id": "8f87e15c",
   "metadata": {
    "execution": {
     "iopub.execute_input": "2022-02-04T20:05:22.614864Z",
     "iopub.status.busy": "2022-02-04T20:05:22.613827Z",
     "iopub.status.idle": "2022-02-04T20:05:22.617624Z",
     "shell.execute_reply": "2022-02-04T20:05:22.618188Z",
     "shell.execute_reply.started": "2022-02-03T19:04:04.245404Z"
    },
    "papermill": {
     "duration": 0.156935,
     "end_time": "2022-02-04T20:05:22.618335",
     "exception": false,
     "start_time": "2022-02-04T20:05:22.461400",
     "status": "completed"
    },
    "tags": []
   },
   "outputs": [
    {
     "data": {
      "text/plain": [
       "device(type='cuda')"
      ]
     },
     "execution_count": 99,
     "metadata": {},
     "output_type": "execute_result"
    }
   ],
   "source": [
    "device = get_default_device()\n",
    "device"
   ]
  },
  {
   "cell_type": "code",
   "execution_count": 100,
   "id": "dddd0e0d",
   "metadata": {
    "execution": {
     "iopub.execute_input": "2022-02-04T20:05:22.914073Z",
     "iopub.status.busy": "2022-02-04T20:05:22.913135Z",
     "iopub.status.idle": "2022-02-04T20:05:26.875270Z",
     "shell.execute_reply": "2022-02-04T20:05:26.875885Z",
     "shell.execute_reply.started": "2022-02-03T19:04:07.252975Z"
    },
    "papermill": {
     "duration": 4.11404,
     "end_time": "2022-02-04T20:05:26.876055",
     "exception": false,
     "start_time": "2022-02-04T20:05:22.762015",
     "status": "completed"
    },
    "tags": []
   },
   "outputs": [
    {
     "name": "stdout",
     "output_type": "stream",
     "text": [
      "[tensor([[[[-0.4014, -0.4447, -0.4879,  ..., -0.5888, -0.6032, -0.6176],\n",
      "          [-0.4302, -0.4879, -0.4735,  ..., -0.6032, -0.6176, -0.6176],\n",
      "          [-0.4302, -0.5023, -0.4591,  ..., -0.6032, -0.6032, -0.6176],\n",
      "          ...,\n",
      "          [-0.0988, -0.0988, -0.0988,  ..., -0.1852, -0.1852, -0.1996],\n",
      "          [-0.1132, -0.1276, -0.1132,  ..., -0.1708, -0.1564, -0.1708],\n",
      "          [-0.1420, -0.1420, -0.1132,  ..., -0.1708, -0.1852, -0.1564]],\n",
      "\n",
      "         [[-0.7995, -0.8396, -0.8797,  ..., -0.9466, -0.9600, -0.9734],\n",
      "          [-0.8262, -0.8797, -0.8664,  ..., -0.9600, -0.9734, -0.9734],\n",
      "          [-0.8262, -0.8931, -0.8530,  ..., -0.9600, -0.9600, -0.9734],\n",
      "          ...,\n",
      "          [-0.3849, -0.3849, -0.3849,  ..., -0.5186, -0.5186, -0.5320],\n",
      "          [-0.3982, -0.4116, -0.3982,  ..., -0.5052, -0.4919, -0.5052],\n",
      "          [-0.4250, -0.4250, -0.3982,  ..., -0.5052, -0.5052, -0.4919]],\n",
      "\n",
      "         [[-1.1761, -1.2156, -1.2550,  ..., -1.3340, -1.3471, -1.3603],\n",
      "          [-1.2024, -1.2550, -1.2419,  ..., -1.3471, -1.3603, -1.3603],\n",
      "          [-1.2024, -1.2682, -1.2287,  ..., -1.3471, -1.3471, -1.3603],\n",
      "          ...,\n",
      "          [-0.7288, -0.7288, -0.7288,  ..., -0.8999, -0.8999, -0.9130],\n",
      "          [-0.7420, -0.7551, -0.7420,  ..., -0.8867, -0.8735, -0.8867],\n",
      "          [-0.7683, -0.7683, -0.7420,  ..., -0.8867, -0.8999, -0.8735]]],\n",
      "\n",
      "\n",
      "        [[[ 0.7516,  0.7516,  0.7516,  ...,  0.7516,  0.7516,  0.7516],\n",
      "          [ 0.7516,  0.7516,  0.7516,  ...,  0.7516,  0.7516,  0.7516],\n",
      "          [ 0.7516,  0.7516,  0.7516,  ...,  0.7516,  0.7516,  0.7516],\n",
      "          ...,\n",
      "          [ 0.7516,  0.7516,  0.7516,  ...,  0.7516,  0.7516,  0.7516],\n",
      "          [ 0.7516,  0.7516,  0.7516,  ...,  0.7516,  0.7516,  0.7516],\n",
      "          [ 0.7516,  0.7516,  0.7516,  ...,  0.7516,  0.7516,  0.7516]],\n",
      "\n",
      "         [[ 0.8189,  0.8189,  0.8189,  ...,  0.8189,  0.8189,  0.8189],\n",
      "          [ 0.8189,  0.8189,  0.8189,  ...,  0.8189,  0.8189,  0.8189],\n",
      "          [ 0.8189,  0.8189,  0.8189,  ...,  0.8189,  0.8189,  0.8189],\n",
      "          ...,\n",
      "          [ 0.8189,  0.8189,  0.8189,  ...,  0.8189,  0.8189,  0.8189],\n",
      "          [ 0.8189,  0.8189,  0.8189,  ...,  0.8189,  0.8189,  0.8189],\n",
      "          [ 0.8189,  0.8189,  0.8189,  ...,  0.8189,  0.8189,  0.8189]],\n",
      "\n",
      "         [[ 0.8366,  0.8366,  0.8366,  ...,  0.8366,  0.8366,  0.8366],\n",
      "          [ 0.8366,  0.8366,  0.8366,  ...,  0.8366,  0.8366,  0.8366],\n",
      "          [ 0.8366,  0.8366,  0.8366,  ...,  0.8366,  0.8366,  0.8366],\n",
      "          ...,\n",
      "          [ 0.8366,  0.8366,  0.8366,  ...,  0.8366,  0.8366,  0.8366],\n",
      "          [ 0.8366,  0.8366,  0.8366,  ...,  0.8366,  0.8366,  0.8366],\n",
      "          [ 0.8366,  0.8366,  0.8366,  ...,  0.8366,  0.8366,  0.8366]]],\n",
      "\n",
      "\n",
      "        [[[ 0.4057,  0.4057,  0.4057,  ...,  0.3768,  0.3768,  0.3913],\n",
      "          [ 0.4057,  0.3913,  0.4057,  ...,  0.3768,  0.3768,  0.3768],\n",
      "          [ 0.4057,  0.3913,  0.3913,  ...,  0.3913,  0.3768,  0.3768],\n",
      "          ...,\n",
      "          [ 0.1607,  0.1462,  0.1462,  ...,  0.3913,  0.3913,  0.3913],\n",
      "          [ 0.1462,  0.1462,  0.1462,  ...,  0.3913,  0.3913,  0.3913],\n",
      "          [ 0.1607,  0.1462,  0.1462,  ...,  0.3913,  0.3913,  0.3913]],\n",
      "\n",
      "         [[ 0.4979,  0.4979,  0.4979,  ...,  0.4711,  0.4711,  0.4845],\n",
      "          [ 0.4979,  0.4845,  0.4979,  ...,  0.4711,  0.4711,  0.4711],\n",
      "          [ 0.4979,  0.4845,  0.4845,  ...,  0.4845,  0.4711,  0.4711],\n",
      "          ...,\n",
      "          [ 0.2705,  0.2571,  0.2571,  ...,  0.4845,  0.4845,  0.4845],\n",
      "          [ 0.2571,  0.2571,  0.2571,  ...,  0.4845,  0.4845,  0.4845],\n",
      "          [ 0.2705,  0.2571,  0.2571,  ...,  0.4845,  0.4845,  0.4845]],\n",
      "\n",
      "         [[ 0.5472,  0.5472,  0.5472,  ...,  0.5209,  0.5209,  0.5341],\n",
      "          [ 0.5472,  0.5341,  0.5472,  ...,  0.5209,  0.5209,  0.5209],\n",
      "          [ 0.5472,  0.5341,  0.5341,  ...,  0.5341,  0.5209,  0.5209],\n",
      "          ...,\n",
      "          [ 0.2973,  0.2841,  0.2841,  ...,  0.5078,  0.5078,  0.5078],\n",
      "          [ 0.2841,  0.2841,  0.2841,  ...,  0.5078,  0.5078,  0.5078],\n",
      "          [ 0.2973,  0.2841,  0.2841,  ...,  0.5078,  0.5078,  0.5078]]],\n",
      "\n",
      "\n",
      "        ...,\n",
      "\n",
      "\n",
      "        [[[ 0.2471,  0.2471,  0.2471,  ...,  0.2615,  0.2615,  0.2615],\n",
      "          [ 0.2471,  0.2471,  0.2471,  ...,  0.2760,  0.2760,  0.2760],\n",
      "          [ 0.2471,  0.2471,  0.2471,  ...,  0.2904,  0.2760,  0.2760],\n",
      "          ...,\n",
      "          [ 0.0310,  0.0310,  0.0310,  ...,  0.3480,  0.3480,  0.3480],\n",
      "          [ 0.0165,  0.0165,  0.0310,  ...,  0.3480,  0.3480,  0.3480],\n",
      "          [ 0.0021,  0.0021,  0.0165,  ...,  0.3480,  0.3480,  0.3480]],\n",
      "\n",
      "         [[ 0.3240,  0.3240,  0.3240,  ...,  0.3641,  0.3641,  0.3641],\n",
      "          [ 0.3240,  0.3240,  0.3240,  ...,  0.3641,  0.3508,  0.3641],\n",
      "          [ 0.3240,  0.3240,  0.3240,  ...,  0.3641,  0.3508,  0.3508],\n",
      "          ...,\n",
      "          [ 0.0699,  0.0699,  0.0699,  ...,  0.4176,  0.4176,  0.4176],\n",
      "          [ 0.0565,  0.0565,  0.0699,  ...,  0.4176,  0.4176,  0.4176],\n",
      "          [ 0.0431,  0.0431,  0.0565,  ...,  0.4176,  0.4176,  0.4176]],\n",
      "\n",
      "         [[ 0.3630,  0.3630,  0.3630,  ...,  0.3894,  0.3894,  0.3894],\n",
      "          [ 0.3630,  0.3630,  0.3630,  ...,  0.4025,  0.3894,  0.3894],\n",
      "          [ 0.3630,  0.3630,  0.3630,  ...,  0.4025,  0.3894,  0.3894],\n",
      "          ...,\n",
      "          [ 0.0999,  0.0999,  0.0999,  ...,  0.4551,  0.4551,  0.4551],\n",
      "          [ 0.0868,  0.0868,  0.0999,  ...,  0.4551,  0.4551,  0.4551],\n",
      "          [ 0.0736,  0.0736,  0.0736,  ...,  0.4551,  0.4551,  0.4551]]],\n",
      "\n",
      "\n",
      "        [[[ 0.1895,  0.2039,  0.1895,  ..., -0.1564, -0.1564, -0.0843],\n",
      "          [ 0.1895,  0.1895,  0.1895,  ..., -0.1708, -0.1564, -0.0843],\n",
      "          [ 0.1895,  0.1895,  0.1895,  ..., -0.1564, -0.1564, -0.0843],\n",
      "          ...,\n",
      "          [ 0.4777,  0.4921,  0.5066,  ...,  0.5354,  0.5354,  0.5354],\n",
      "          [ 0.4921,  0.4921,  0.4921,  ...,  0.5210,  0.5210,  0.5354],\n",
      "          [ 0.5066,  0.5066,  0.5066,  ...,  0.5642,  0.5354,  0.5498]],\n",
      "\n",
      "         [[ 0.1769,  0.1903,  0.1769,  ..., -0.1174, -0.1174, -0.0371],\n",
      "          [ 0.1769,  0.1769,  0.1769,  ..., -0.1307, -0.1307, -0.0371],\n",
      "          [ 0.1769,  0.1769,  0.1769,  ..., -0.1174, -0.1307, -0.0371],\n",
      "          ...,\n",
      "          [ 0.5648,  0.5781,  0.5781,  ...,  0.6183,  0.6183,  0.6183],\n",
      "          [ 0.5781,  0.5781,  0.5781,  ...,  0.6049,  0.6049,  0.6183],\n",
      "          [ 0.5915,  0.5915,  0.5648,  ...,  0.6450,  0.6183,  0.6316]],\n",
      "\n",
      "         [[ 0.1131,  0.1263,  0.1131,  ..., -0.1632, -0.1763, -0.0711],\n",
      "          [ 0.1131,  0.1131,  0.0999,  ..., -0.1763, -0.1763, -0.0842],\n",
      "          [ 0.1131,  0.1131,  0.0999,  ..., -0.1632, -0.1763, -0.0842],\n",
      "          ...,\n",
      "          [ 0.5867,  0.5998,  0.6130,  ...,  0.6393,  0.6393,  0.6393],\n",
      "          [ 0.5998,  0.5998,  0.5998,  ...,  0.6261,  0.6261,  0.6393],\n",
      "          [ 0.6130,  0.6130,  0.5998,  ...,  0.6656,  0.6393,  0.6525]]],\n",
      "\n",
      "\n",
      "        [[[ 0.5354,  0.5354,  0.5354,  ...,  0.6219,  0.6363,  0.6363],\n",
      "          [ 0.5354,  0.5354,  0.5354,  ...,  0.6219,  0.6363,  0.6363],\n",
      "          [ 0.5354,  0.5354,  0.5354,  ...,  0.6219,  0.6363,  0.6363],\n",
      "          ...,\n",
      "          [ 0.4777,  0.4777,  0.4777,  ...,  0.5066,  0.5066,  0.5066],\n",
      "          [ 0.4777,  0.4777,  0.4777,  ...,  0.5066,  0.5066,  0.5066],\n",
      "          [ 0.4777,  0.4777,  0.4777,  ...,  0.5210,  0.5210,  0.5210]],\n",
      "\n",
      "         [[ 0.6183,  0.6183,  0.6183,  ...,  0.6985,  0.7119,  0.7119],\n",
      "          [ 0.6183,  0.6183,  0.6183,  ...,  0.6985,  0.7119,  0.7119],\n",
      "          [ 0.6183,  0.6183,  0.6183,  ...,  0.6985,  0.7119,  0.7119],\n",
      "          ...,\n",
      "          [ 0.5648,  0.5648,  0.5648,  ...,  0.5915,  0.5915,  0.5915],\n",
      "          [ 0.5648,  0.5648,  0.5648,  ...,  0.5915,  0.5915,  0.5915],\n",
      "          [ 0.5648,  0.5648,  0.5648,  ...,  0.6049,  0.6049,  0.6049]],\n",
      "\n",
      "         [[ 0.6393,  0.6393,  0.6393,  ...,  0.7182,  0.7314,  0.7314],\n",
      "          [ 0.6393,  0.6393,  0.6393,  ...,  0.7182,  0.7314,  0.7314],\n",
      "          [ 0.6393,  0.6393,  0.6393,  ...,  0.7182,  0.7314,  0.7314],\n",
      "          ...,\n",
      "          [ 0.5867,  0.5867,  0.5867,  ...,  0.6130,  0.6130,  0.6130],\n",
      "          [ 0.5867,  0.5867,  0.5867,  ...,  0.6130,  0.6130,  0.6130],\n",
      "          [ 0.5867,  0.5867,  0.5867,  ...,  0.6261,  0.6261,  0.6261]]]]), ('Image_test_003624.jpg', 'Image_test_004399.jpg', 'Image_test_001329.jpg', 'Image_test_011958.jpg', 'Image_test_010198.jpg', 'Image_test_008259.jpg', 'Image_test_013544.jpg', 'Image_test_011098.jpg', 'Image_test_013536.jpg', 'Image_test_001435.jpg', 'Image_test_007443.jpg', 'Image_test_001747.jpg', 'Image_test_008548.jpg', 'Image_test_003876.jpg', 'Image_test_002531.jpg', 'Image_test_015953.jpg', 'Image_test_010565.jpg', 'Image_test_016823.jpg', 'Image_test_005441.jpg', 'Image_test_002287.jpg', 'Image_test_000466.jpg', 'Image_test_004706.jpg', 'Image_test_014292.jpg', 'Image_test_007794.jpg', 'Image_test_017752.jpg', 'Image_test_004474.jpg', 'Image_test_003955.jpg', 'Image_test_003782.jpg', 'Image_test_003007.jpg', 'Image_test_009261.jpg', 'Image_test_015416.jpg', 'Image_test_012488.jpg', 'Image_test_012456.jpg', 'Image_test_012937.jpg', 'Image_test_002530.jpg', 'Image_test_010979.jpg', 'Image_test_007385.jpg', 'Image_test_009748.jpg', 'Image_test_017096.jpg', 'Image_test_016687.jpg', 'Image_test_012803.jpg', 'Image_test_002985.jpg', 'Image_test_006888.jpg', 'Image_test_014879.jpg', 'Image_test_004973.jpg', 'Image_test_013068.jpg', 'Image_test_004337.jpg', 'Image_test_014811.jpg', 'Image_test_016094.jpg', 'Image_test_005898.jpg', 'Image_test_009818.jpg', 'Image_test_011169.jpg', 'Image_test_016635.jpg', 'Image_test_017370.jpg', 'Image_test_006233.jpg', 'Image_test_000064.jpg', 'Image_test_002446.jpg', 'Image_test_010960.jpg', 'Image_test_006868.jpg', 'Image_test_016097.jpg', 'Image_test_010232.jpg', 'Image_test_012679.jpg', 'Image_test_008001.jpg', 'Image_test_014453.jpg')]\n"
     ]
    }
   ],
   "source": [
    "for image in test_dl:\n",
    "    print(image)\n",
    "    break"
   ]
  },
  {
   "cell_type": "code",
   "execution_count": 101,
   "id": "ce292da2",
   "metadata": {
    "execution": {
     "iopub.execute_input": "2022-02-04T20:05:27.174618Z",
     "iopub.status.busy": "2022-02-04T20:05:27.169527Z",
     "iopub.status.idle": "2022-02-04T20:05:27.177605Z",
     "shell.execute_reply": "2022-02-04T20:05:27.177024Z",
     "shell.execute_reply.started": "2022-02-03T19:04:28.05983Z"
    },
    "papermill": {
     "duration": 0.155738,
     "end_time": "2022-02-04T20:05:27.177738",
     "exception": false,
     "start_time": "2022-02-04T20:05:27.022000",
     "status": "completed"
    },
    "tags": []
   },
   "outputs": [],
   "source": [
    "def predict(test_dl,model):\n",
    "    ans=[]\n",
    "    file_names=[]\n",
    "    model.eval()\n",
    "    for batch in test_dl:\n",
    "        with torch.no_grad():\n",
    "            images,names=batch\n",
    "            images=images.to(device=device)\n",
    "            out=model(images)\n",
    "        #print(out)\n",
    "        #print(type(out))\n",
    "            _, preds = torch.max(out, dim=1)\n",
    "            preds=preds.cpu().detach().numpy()\n",
    "            preds=preds.tolist()\n",
    "            #print(preds)\n",
    "            ans.extend(preds)\n",
    "            file_names.extend(names)\n",
    "            \n",
    "    label=pd.Series(ans)\n",
    "    file_name=pd.Series(file_names)\n",
    "    return label,file_name"
   ]
  },
  {
   "cell_type": "code",
   "execution_count": 102,
   "id": "48ec1431",
   "metadata": {
    "execution": {
     "iopub.execute_input": "2022-02-04T20:05:27.476202Z",
     "iopub.status.busy": "2022-02-04T20:05:27.474804Z",
     "iopub.status.idle": "2022-02-04T20:05:27.478620Z",
     "shell.execute_reply": "2022-02-04T20:05:27.477840Z",
     "shell.execute_reply.started": "2022-02-03T19:04:42.583123Z"
    },
    "papermill": {
     "duration": 0.15456,
     "end_time": "2022-02-04T20:05:27.478802",
     "exception": false,
     "start_time": "2022-02-04T20:05:27.324242",
     "status": "completed"
    },
    "tags": []
   },
   "outputs": [],
   "source": [
    "#model=Classifier(model_transfer)\n",
    "#model.load_state_dict(torch.load('../input/effnet/res_cust_3.pth'))\n",
    "#model.eval()"
   ]
  },
  {
   "cell_type": "code",
   "execution_count": 103,
   "id": "35911986",
   "metadata": {
    "execution": {
     "iopub.execute_input": "2022-02-04T20:05:27.780181Z",
     "iopub.status.busy": "2022-02-04T20:05:27.779244Z",
     "iopub.status.idle": "2022-02-04T20:23:53.045178Z",
     "shell.execute_reply": "2022-02-04T20:23:53.044582Z",
     "shell.execute_reply.started": "2022-02-03T19:04:54.269735Z"
    },
    "papermill": {
     "duration": 1105.418824,
     "end_time": "2022-02-04T20:23:53.045351",
     "exception": false,
     "start_time": "2022-02-04T20:05:27.626527",
     "status": "completed"
    },
    "tags": []
   },
   "outputs": [],
   "source": [
    "a,b=predict(test_dl,model)"
   ]
  },
  {
   "cell_type": "code",
   "execution_count": 104,
   "id": "b6a44679",
   "metadata": {
    "execution": {
     "iopub.execute_input": "2022-02-04T20:23:53.347003Z",
     "iopub.status.busy": "2022-02-04T20:23:53.344703Z",
     "iopub.status.idle": "2022-02-04T20:23:53.347850Z",
     "shell.execute_reply": "2022-02-04T20:23:53.348412Z",
     "shell.execute_reply.started": "2022-02-03T13:09:35.286296Z"
    },
    "papermill": {
     "duration": 0.156378,
     "end_time": "2022-02-04T20:23:53.348579",
     "exception": false,
     "start_time": "2022-02-04T20:23:53.192201",
     "status": "completed"
    },
    "tags": []
   },
   "outputs": [],
   "source": [
    "test_df['file_name']=b"
   ]
  },
  {
   "cell_type": "code",
   "execution_count": 105,
   "id": "e1a2ac1b",
   "metadata": {
    "execution": {
     "iopub.execute_input": "2022-02-04T20:23:53.643756Z",
     "iopub.status.busy": "2022-02-04T20:23:53.640304Z",
     "iopub.status.idle": "2022-02-04T20:23:53.648146Z",
     "shell.execute_reply": "2022-02-04T20:23:53.647466Z",
     "shell.execute_reply.started": "2022-02-03T13:09:15.417944Z"
    },
    "papermill": {
     "duration": 0.155396,
     "end_time": "2022-02-04T20:23:53.648305",
     "exception": false,
     "start_time": "2022-02-04T20:23:53.492909",
     "status": "completed"
    },
    "tags": []
   },
   "outputs": [
    {
     "data": {
      "text/plain": [
       "0        9\n",
       "1        8\n",
       "2        3\n",
       "3        5\n",
       "4        2\n",
       "        ..\n",
       "18218    6\n",
       "18219    5\n",
       "18220    6\n",
       "18221    1\n",
       "18222    9\n",
       "Length: 18223, dtype: int64"
      ]
     },
     "execution_count": 105,
     "metadata": {},
     "output_type": "execute_result"
    }
   ],
   "source": [
    "a"
   ]
  },
  {
   "cell_type": "code",
   "execution_count": 106,
   "id": "93cc19ea",
   "metadata": {
    "execution": {
     "iopub.execute_input": "2022-02-04T20:23:53.956402Z",
     "iopub.status.busy": "2022-02-04T20:23:53.955407Z",
     "iopub.status.idle": "2022-02-04T20:23:53.959260Z",
     "shell.execute_reply": "2022-02-04T20:23:53.959886Z",
     "shell.execute_reply.started": "2022-02-03T13:09:38.365794Z"
    },
    "papermill": {
     "duration": 0.166092,
     "end_time": "2022-02-04T20:23:53.960049",
     "exception": false,
     "start_time": "2022-02-04T20:23:53.793957",
     "status": "completed"
    },
    "tags": []
   },
   "outputs": [
    {
     "data": {
      "text/html": [
       "<div>\n",
       "<style scoped>\n",
       "    .dataframe tbody tr th:only-of-type {\n",
       "        vertical-align: middle;\n",
       "    }\n",
       "\n",
       "    .dataframe tbody tr th {\n",
       "        vertical-align: top;\n",
       "    }\n",
       "\n",
       "    .dataframe thead th {\n",
       "        text-align: right;\n",
       "    }\n",
       "</style>\n",
       "<table border=\"1\" class=\"dataframe\">\n",
       "  <thead>\n",
       "    <tr style=\"text-align: right;\">\n",
       "      <th></th>\n",
       "      <th>file_name</th>\n",
       "    </tr>\n",
       "  </thead>\n",
       "  <tbody>\n",
       "    <tr>\n",
       "      <th>0</th>\n",
       "      <td>Image_test_008105.jpg</td>\n",
       "    </tr>\n",
       "    <tr>\n",
       "      <th>1</th>\n",
       "      <td>Image_test_000019.jpg</td>\n",
       "    </tr>\n",
       "    <tr>\n",
       "      <th>2</th>\n",
       "      <td>Image_test_001611.jpg</td>\n",
       "    </tr>\n",
       "    <tr>\n",
       "      <th>3</th>\n",
       "      <td>Image_test_006141.jpg</td>\n",
       "    </tr>\n",
       "    <tr>\n",
       "      <th>4</th>\n",
       "      <td>Image_test_004296.jpg</td>\n",
       "    </tr>\n",
       "    <tr>\n",
       "      <th>...</th>\n",
       "      <td>...</td>\n",
       "    </tr>\n",
       "    <tr>\n",
       "      <th>18218</th>\n",
       "      <td>Image_test_015789.jpg</td>\n",
       "    </tr>\n",
       "    <tr>\n",
       "      <th>18219</th>\n",
       "      <td>Image_test_017339.jpg</td>\n",
       "    </tr>\n",
       "    <tr>\n",
       "      <th>18220</th>\n",
       "      <td>Image_test_006558.jpg</td>\n",
       "    </tr>\n",
       "    <tr>\n",
       "      <th>18221</th>\n",
       "      <td>Image_test_009765.jpg</td>\n",
       "    </tr>\n",
       "    <tr>\n",
       "      <th>18222</th>\n",
       "      <td>Image_test_004973.jpg</td>\n",
       "    </tr>\n",
       "  </tbody>\n",
       "</table>\n",
       "<p>18223 rows × 1 columns</p>\n",
       "</div>"
      ],
      "text/plain": [
       "                   file_name\n",
       "0      Image_test_008105.jpg\n",
       "1      Image_test_000019.jpg\n",
       "2      Image_test_001611.jpg\n",
       "3      Image_test_006141.jpg\n",
       "4      Image_test_004296.jpg\n",
       "...                      ...\n",
       "18218  Image_test_015789.jpg\n",
       "18219  Image_test_017339.jpg\n",
       "18220  Image_test_006558.jpg\n",
       "18221  Image_test_009765.jpg\n",
       "18222  Image_test_004973.jpg\n",
       "\n",
       "[18223 rows x 1 columns]"
      ]
     },
     "execution_count": 106,
     "metadata": {},
     "output_type": "execute_result"
    }
   ],
   "source": [
    "test_df"
   ]
  },
  {
   "cell_type": "code",
   "execution_count": 107,
   "id": "d6b0fc9a",
   "metadata": {
    "execution": {
     "iopub.execute_input": "2022-02-04T20:23:54.261518Z",
     "iopub.status.busy": "2022-02-04T20:23:54.259254Z",
     "iopub.status.idle": "2022-02-04T20:23:54.262203Z",
     "shell.execute_reply": "2022-02-04T20:23:54.262797Z",
     "shell.execute_reply.started": "2022-02-03T13:09:58.162558Z"
    },
    "papermill": {
     "duration": 0.155661,
     "end_time": "2022-02-04T20:23:54.262997",
     "exception": false,
     "start_time": "2022-02-04T20:23:54.107336",
     "status": "completed"
    },
    "tags": []
   },
   "outputs": [],
   "source": [
    "test_df['label']=a"
   ]
  },
  {
   "cell_type": "code",
   "execution_count": 108,
   "id": "652baaaa",
   "metadata": {
    "execution": {
     "iopub.execute_input": "2022-02-04T20:23:54.572067Z",
     "iopub.status.busy": "2022-02-04T20:23:54.571142Z",
     "iopub.status.idle": "2022-02-04T20:23:54.574827Z",
     "shell.execute_reply": "2022-02-04T20:23:54.575358Z",
     "shell.execute_reply.started": "2022-02-03T13:10:07.710865Z"
    },
    "papermill": {
     "duration": 0.165958,
     "end_time": "2022-02-04T20:23:54.575507",
     "exception": false,
     "start_time": "2022-02-04T20:23:54.409549",
     "status": "completed"
    },
    "tags": []
   },
   "outputs": [
    {
     "data": {
      "text/html": [
       "<div>\n",
       "<style scoped>\n",
       "    .dataframe tbody tr th:only-of-type {\n",
       "        vertical-align: middle;\n",
       "    }\n",
       "\n",
       "    .dataframe tbody tr th {\n",
       "        vertical-align: top;\n",
       "    }\n",
       "\n",
       "    .dataframe thead th {\n",
       "        text-align: right;\n",
       "    }\n",
       "</style>\n",
       "<table border=\"1\" class=\"dataframe\">\n",
       "  <thead>\n",
       "    <tr style=\"text-align: right;\">\n",
       "      <th></th>\n",
       "      <th>file_name</th>\n",
       "      <th>label</th>\n",
       "    </tr>\n",
       "  </thead>\n",
       "  <tbody>\n",
       "    <tr>\n",
       "      <th>0</th>\n",
       "      <td>Image_test_008105.jpg</td>\n",
       "      <td>9</td>\n",
       "    </tr>\n",
       "    <tr>\n",
       "      <th>1</th>\n",
       "      <td>Image_test_000019.jpg</td>\n",
       "      <td>8</td>\n",
       "    </tr>\n",
       "    <tr>\n",
       "      <th>2</th>\n",
       "      <td>Image_test_001611.jpg</td>\n",
       "      <td>3</td>\n",
       "    </tr>\n",
       "    <tr>\n",
       "      <th>3</th>\n",
       "      <td>Image_test_006141.jpg</td>\n",
       "      <td>5</td>\n",
       "    </tr>\n",
       "    <tr>\n",
       "      <th>4</th>\n",
       "      <td>Image_test_004296.jpg</td>\n",
       "      <td>2</td>\n",
       "    </tr>\n",
       "    <tr>\n",
       "      <th>...</th>\n",
       "      <td>...</td>\n",
       "      <td>...</td>\n",
       "    </tr>\n",
       "    <tr>\n",
       "      <th>18218</th>\n",
       "      <td>Image_test_015789.jpg</td>\n",
       "      <td>6</td>\n",
       "    </tr>\n",
       "    <tr>\n",
       "      <th>18219</th>\n",
       "      <td>Image_test_017339.jpg</td>\n",
       "      <td>5</td>\n",
       "    </tr>\n",
       "    <tr>\n",
       "      <th>18220</th>\n",
       "      <td>Image_test_006558.jpg</td>\n",
       "      <td>6</td>\n",
       "    </tr>\n",
       "    <tr>\n",
       "      <th>18221</th>\n",
       "      <td>Image_test_009765.jpg</td>\n",
       "      <td>1</td>\n",
       "    </tr>\n",
       "    <tr>\n",
       "      <th>18222</th>\n",
       "      <td>Image_test_004973.jpg</td>\n",
       "      <td>9</td>\n",
       "    </tr>\n",
       "  </tbody>\n",
       "</table>\n",
       "<p>18223 rows × 2 columns</p>\n",
       "</div>"
      ],
      "text/plain": [
       "                   file_name  label\n",
       "0      Image_test_008105.jpg      9\n",
       "1      Image_test_000019.jpg      8\n",
       "2      Image_test_001611.jpg      3\n",
       "3      Image_test_006141.jpg      5\n",
       "4      Image_test_004296.jpg      2\n",
       "...                      ...    ...\n",
       "18218  Image_test_015789.jpg      6\n",
       "18219  Image_test_017339.jpg      5\n",
       "18220  Image_test_006558.jpg      6\n",
       "18221  Image_test_009765.jpg      1\n",
       "18222  Image_test_004973.jpg      9\n",
       "\n",
       "[18223 rows x 2 columns]"
      ]
     },
     "execution_count": 108,
     "metadata": {},
     "output_type": "execute_result"
    }
   ],
   "source": [
    "test_df"
   ]
  },
  {
   "cell_type": "code",
   "execution_count": 109,
   "id": "69f12ec7",
   "metadata": {
    "execution": {
     "iopub.execute_input": "2022-02-04T20:23:54.875376Z",
     "iopub.status.busy": "2022-02-04T20:23:54.874330Z",
     "iopub.status.idle": "2022-02-04T20:23:54.877620Z",
     "shell.execute_reply": "2022-02-04T20:23:54.877084Z",
     "shell.execute_reply.started": "2022-02-03T13:10:14.241868Z"
    },
    "papermill": {
     "duration": 0.155495,
     "end_time": "2022-02-04T20:23:54.877762",
     "exception": false,
     "start_time": "2022-02-04T20:23:54.722267",
     "status": "completed"
    },
    "tags": []
   },
   "outputs": [],
   "source": [
    "test_df.set_index(['file_name'],inplace=True)"
   ]
  },
  {
   "cell_type": "code",
   "execution_count": 110,
   "id": "418d0f55",
   "metadata": {
    "execution": {
     "iopub.execute_input": "2022-02-04T20:23:55.177206Z",
     "iopub.status.busy": "2022-02-04T20:23:55.176139Z",
     "iopub.status.idle": "2022-02-04T20:23:55.180037Z",
     "shell.execute_reply": "2022-02-04T20:23:55.180549Z",
     "shell.execute_reply.started": "2022-02-03T10:19:16.733704Z"
    },
    "papermill": {
     "duration": 0.160147,
     "end_time": "2022-02-04T20:23:55.180709",
     "exception": false,
     "start_time": "2022-02-04T20:23:55.020562",
     "status": "completed"
    },
    "tags": []
   },
   "outputs": [
    {
     "data": {
      "text/html": [
       "<div>\n",
       "<style scoped>\n",
       "    .dataframe tbody tr th:only-of-type {\n",
       "        vertical-align: middle;\n",
       "    }\n",
       "\n",
       "    .dataframe tbody tr th {\n",
       "        vertical-align: top;\n",
       "    }\n",
       "\n",
       "    .dataframe thead th {\n",
       "        text-align: right;\n",
       "    }\n",
       "</style>\n",
       "<table border=\"1\" class=\"dataframe\">\n",
       "  <thead>\n",
       "    <tr style=\"text-align: right;\">\n",
       "      <th></th>\n",
       "      <th>label</th>\n",
       "    </tr>\n",
       "    <tr>\n",
       "      <th>file_name</th>\n",
       "      <th></th>\n",
       "    </tr>\n",
       "  </thead>\n",
       "  <tbody>\n",
       "    <tr>\n",
       "      <th>Image_test_008105.jpg</th>\n",
       "      <td>9</td>\n",
       "    </tr>\n",
       "    <tr>\n",
       "      <th>Image_test_000019.jpg</th>\n",
       "      <td>8</td>\n",
       "    </tr>\n",
       "    <tr>\n",
       "      <th>Image_test_001611.jpg</th>\n",
       "      <td>3</td>\n",
       "    </tr>\n",
       "    <tr>\n",
       "      <th>Image_test_006141.jpg</th>\n",
       "      <td>5</td>\n",
       "    </tr>\n",
       "    <tr>\n",
       "      <th>Image_test_004296.jpg</th>\n",
       "      <td>2</td>\n",
       "    </tr>\n",
       "    <tr>\n",
       "      <th>...</th>\n",
       "      <td>...</td>\n",
       "    </tr>\n",
       "    <tr>\n",
       "      <th>Image_test_015789.jpg</th>\n",
       "      <td>6</td>\n",
       "    </tr>\n",
       "    <tr>\n",
       "      <th>Image_test_017339.jpg</th>\n",
       "      <td>5</td>\n",
       "    </tr>\n",
       "    <tr>\n",
       "      <th>Image_test_006558.jpg</th>\n",
       "      <td>6</td>\n",
       "    </tr>\n",
       "    <tr>\n",
       "      <th>Image_test_009765.jpg</th>\n",
       "      <td>1</td>\n",
       "    </tr>\n",
       "    <tr>\n",
       "      <th>Image_test_004973.jpg</th>\n",
       "      <td>9</td>\n",
       "    </tr>\n",
       "  </tbody>\n",
       "</table>\n",
       "<p>18223 rows × 1 columns</p>\n",
       "</div>"
      ],
      "text/plain": [
       "                       label\n",
       "file_name                   \n",
       "Image_test_008105.jpg      9\n",
       "Image_test_000019.jpg      8\n",
       "Image_test_001611.jpg      3\n",
       "Image_test_006141.jpg      5\n",
       "Image_test_004296.jpg      2\n",
       "...                      ...\n",
       "Image_test_015789.jpg      6\n",
       "Image_test_017339.jpg      5\n",
       "Image_test_006558.jpg      6\n",
       "Image_test_009765.jpg      1\n",
       "Image_test_004973.jpg      9\n",
       "\n",
       "[18223 rows x 1 columns]"
      ]
     },
     "execution_count": 110,
     "metadata": {},
     "output_type": "execute_result"
    }
   ],
   "source": [
    "test_df"
   ]
  },
  {
   "cell_type": "code",
   "execution_count": 111,
   "id": "ed6fc26c",
   "metadata": {
    "execution": {
     "iopub.execute_input": "2022-02-04T20:23:55.481090Z",
     "iopub.status.busy": "2022-02-04T20:23:55.479918Z",
     "iopub.status.idle": "2022-02-04T20:23:55.511464Z",
     "shell.execute_reply": "2022-02-04T20:23:55.510926Z"
    },
    "papermill": {
     "duration": 0.183436,
     "end_time": "2022-02-04T20:23:55.511669",
     "exception": false,
     "start_time": "2022-02-04T20:23:55.328233",
     "status": "completed"
    },
    "tags": []
   },
   "outputs": [],
   "source": [
    "test_df.to_csv('file_res_8.csv')"
   ]
  }
 ],
 "metadata": {
  "kernelspec": {
   "display_name": "Python 3",
   "language": "python",
   "name": "python3"
  },
  "language_info": {
   "codemirror_mode": {
    "name": "ipython",
    "version": 3
   },
   "file_extension": ".py",
   "mimetype": "text/x-python",
   "name": "python",
   "nbconvert_exporter": "python",
   "pygments_lexer": "ipython3",
   "version": "3.7.12"
  },
  "papermill": {
   "default_parameters": {},
   "duration": 35657.564642,
   "end_time": "2022-02-04T20:23:58.220694",
   "environment_variables": {},
   "exception": null,
   "input_path": "__notebook__.ipynb",
   "output_path": "__notebook__.ipynb",
   "parameters": {},
   "start_time": "2022-02-04T10:29:40.656052",
   "version": "2.3.3"
  },
  "widgets": {
   "application/vnd.jupyter.widget-state+json": {
    "state": {
     "116e0775d2304992a1ea69e034318a1f": {
      "model_module": "@jupyter-widgets/controls",
      "model_module_version": "1.5.0",
      "model_name": "DescriptionStyleModel",
      "state": {
       "_model_module": "@jupyter-widgets/controls",
       "_model_module_version": "1.5.0",
       "_model_name": "DescriptionStyleModel",
       "_view_count": null,
       "_view_module": "@jupyter-widgets/base",
       "_view_module_version": "1.2.0",
       "_view_name": "StyleView",
       "description_width": ""
      }
     },
     "1be6fa6878c04fd4840aaa9884ce2657": {
      "model_module": "@jupyter-widgets/controls",
      "model_module_version": "1.5.0",
      "model_name": "FloatProgressModel",
      "state": {
       "_dom_classes": [],
       "_model_module": "@jupyter-widgets/controls",
       "_model_module_version": "1.5.0",
       "_model_name": "FloatProgressModel",
       "_view_count": null,
       "_view_module": "@jupyter-widgets/controls",
       "_view_module_version": "1.5.0",
       "_view_name": "ProgressView",
       "bar_style": "success",
       "description": "",
       "description_tooltip": null,
       "layout": "IPY_MODEL_30e6d9e6872c4f1f894ac978f331d07a",
       "max": 36804509.0,
       "min": 0.0,
       "orientation": "horizontal",
       "style": "IPY_MODEL_72bc69b9500e4d6b94a0f7fdb9a0c0ad",
       "value": 36804509.0
      }
     },
     "30e6d9e6872c4f1f894ac978f331d07a": {
      "model_module": "@jupyter-widgets/base",
      "model_module_version": "1.2.0",
      "model_name": "LayoutModel",
      "state": {
       "_model_module": "@jupyter-widgets/base",
       "_model_module_version": "1.2.0",
       "_model_name": "LayoutModel",
       "_view_count": null,
       "_view_module": "@jupyter-widgets/base",
       "_view_module_version": "1.2.0",
       "_view_name": "LayoutView",
       "align_content": null,
       "align_items": null,
       "align_self": null,
       "border": null,
       "bottom": null,
       "display": null,
       "flex": null,
       "flex_flow": null,
       "grid_area": null,
       "grid_auto_columns": null,
       "grid_auto_flow": null,
       "grid_auto_rows": null,
       "grid_column": null,
       "grid_gap": null,
       "grid_row": null,
       "grid_template_areas": null,
       "grid_template_columns": null,
       "grid_template_rows": null,
       "height": null,
       "justify_content": null,
       "justify_items": null,
       "left": null,
       "margin": null,
       "max_height": null,
       "max_width": null,
       "min_height": null,
       "min_width": null,
       "object_fit": null,
       "object_position": null,
       "order": null,
       "overflow": null,
       "overflow_x": null,
       "overflow_y": null,
       "padding": null,
       "right": null,
       "top": null,
       "visibility": null,
       "width": null
      }
     },
     "49c5673aae32442d854b454e946a3059": {
      "model_module": "@jupyter-widgets/controls",
      "model_module_version": "1.5.0",
      "model_name": "HTMLModel",
      "state": {
       "_dom_classes": [],
       "_model_module": "@jupyter-widgets/controls",
       "_model_module_version": "1.5.0",
       "_model_name": "HTMLModel",
       "_view_count": null,
       "_view_module": "@jupyter-widgets/controls",
       "_view_module_version": "1.5.0",
       "_view_name": "HTMLView",
       "description": "",
       "description_tooltip": null,
       "layout": "IPY_MODEL_9073a6bc12884c1198af53abed75ca0b",
       "placeholder": "​",
       "style": "IPY_MODEL_116e0775d2304992a1ea69e034318a1f",
       "value": "100%"
      }
     },
     "62174b6127984f98b492278d2b09e481": {
      "model_module": "@jupyter-widgets/controls",
      "model_module_version": "1.5.0",
      "model_name": "HTMLModel",
      "state": {
       "_dom_classes": [],
       "_model_module": "@jupyter-widgets/controls",
       "_model_module_version": "1.5.0",
       "_model_name": "HTMLModel",
       "_view_count": null,
       "_view_module": "@jupyter-widgets/controls",
       "_view_module_version": "1.5.0",
       "_view_name": "HTMLView",
       "description": "",
       "description_tooltip": null,
       "layout": "IPY_MODEL_d6f47bfd4c43479b9d4d06014977a606",
       "placeholder": "​",
       "style": "IPY_MODEL_b74dc99b291b4f909d6c128317f47a68",
       "value": " 35.1M/35.1M [00:01&lt;00:00, 27.7MB/s]"
      }
     },
     "71001f74d99c42db8d6861e5edef1002": {
      "model_module": "@jupyter-widgets/controls",
      "model_module_version": "1.5.0",
      "model_name": "HBoxModel",
      "state": {
       "_dom_classes": [],
       "_model_module": "@jupyter-widgets/controls",
       "_model_module_version": "1.5.0",
       "_model_name": "HBoxModel",
       "_view_count": null,
       "_view_module": "@jupyter-widgets/controls",
       "_view_module_version": "1.5.0",
       "_view_name": "HBoxView",
       "box_style": "",
       "children": [
        "IPY_MODEL_49c5673aae32442d854b454e946a3059",
        "IPY_MODEL_1be6fa6878c04fd4840aaa9884ce2657",
        "IPY_MODEL_62174b6127984f98b492278d2b09e481"
       ],
       "layout": "IPY_MODEL_7c74e79fa6d74dafbce5c935f077c410"
      }
     },
     "72bc69b9500e4d6b94a0f7fdb9a0c0ad": {
      "model_module": "@jupyter-widgets/controls",
      "model_module_version": "1.5.0",
      "model_name": "ProgressStyleModel",
      "state": {
       "_model_module": "@jupyter-widgets/controls",
       "_model_module_version": "1.5.0",
       "_model_name": "ProgressStyleModel",
       "_view_count": null,
       "_view_module": "@jupyter-widgets/base",
       "_view_module_version": "1.2.0",
       "_view_name": "StyleView",
       "bar_color": null,
       "description_width": ""
      }
     },
     "7c74e79fa6d74dafbce5c935f077c410": {
      "model_module": "@jupyter-widgets/base",
      "model_module_version": "1.2.0",
      "model_name": "LayoutModel",
      "state": {
       "_model_module": "@jupyter-widgets/base",
       "_model_module_version": "1.2.0",
       "_model_name": "LayoutModel",
       "_view_count": null,
       "_view_module": "@jupyter-widgets/base",
       "_view_module_version": "1.2.0",
       "_view_name": "LayoutView",
       "align_content": null,
       "align_items": null,
       "align_self": null,
       "border": null,
       "bottom": null,
       "display": null,
       "flex": null,
       "flex_flow": null,
       "grid_area": null,
       "grid_auto_columns": null,
       "grid_auto_flow": null,
       "grid_auto_rows": null,
       "grid_column": null,
       "grid_gap": null,
       "grid_row": null,
       "grid_template_areas": null,
       "grid_template_columns": null,
       "grid_template_rows": null,
       "height": null,
       "justify_content": null,
       "justify_items": null,
       "left": null,
       "margin": null,
       "max_height": null,
       "max_width": null,
       "min_height": null,
       "min_width": null,
       "object_fit": null,
       "object_position": null,
       "order": null,
       "overflow": null,
       "overflow_x": null,
       "overflow_y": null,
       "padding": null,
       "right": null,
       "top": null,
       "visibility": null,
       "width": null
      }
     },
     "9073a6bc12884c1198af53abed75ca0b": {
      "model_module": "@jupyter-widgets/base",
      "model_module_version": "1.2.0",
      "model_name": "LayoutModel",
      "state": {
       "_model_module": "@jupyter-widgets/base",
       "_model_module_version": "1.2.0",
       "_model_name": "LayoutModel",
       "_view_count": null,
       "_view_module": "@jupyter-widgets/base",
       "_view_module_version": "1.2.0",
       "_view_name": "LayoutView",
       "align_content": null,
       "align_items": null,
       "align_self": null,
       "border": null,
       "bottom": null,
       "display": null,
       "flex": null,
       "flex_flow": null,
       "grid_area": null,
       "grid_auto_columns": null,
       "grid_auto_flow": null,
       "grid_auto_rows": null,
       "grid_column": null,
       "grid_gap": null,
       "grid_row": null,
       "grid_template_areas": null,
       "grid_template_columns": null,
       "grid_template_rows": null,
       "height": null,
       "justify_content": null,
       "justify_items": null,
       "left": null,
       "margin": null,
       "max_height": null,
       "max_width": null,
       "min_height": null,
       "min_width": null,
       "object_fit": null,
       "object_position": null,
       "order": null,
       "overflow": null,
       "overflow_x": null,
       "overflow_y": null,
       "padding": null,
       "right": null,
       "top": null,
       "visibility": null,
       "width": null
      }
     },
     "b74dc99b291b4f909d6c128317f47a68": {
      "model_module": "@jupyter-widgets/controls",
      "model_module_version": "1.5.0",
      "model_name": "DescriptionStyleModel",
      "state": {
       "_model_module": "@jupyter-widgets/controls",
       "_model_module_version": "1.5.0",
       "_model_name": "DescriptionStyleModel",
       "_view_count": null,
       "_view_module": "@jupyter-widgets/base",
       "_view_module_version": "1.2.0",
       "_view_name": "StyleView",
       "description_width": ""
      }
     },
     "d6f47bfd4c43479b9d4d06014977a606": {
      "model_module": "@jupyter-widgets/base",
      "model_module_version": "1.2.0",
      "model_name": "LayoutModel",
      "state": {
       "_model_module": "@jupyter-widgets/base",
       "_model_module_version": "1.2.0",
       "_model_name": "LayoutModel",
       "_view_count": null,
       "_view_module": "@jupyter-widgets/base",
       "_view_module_version": "1.2.0",
       "_view_name": "LayoutView",
       "align_content": null,
       "align_items": null,
       "align_self": null,
       "border": null,
       "bottom": null,
       "display": null,
       "flex": null,
       "flex_flow": null,
       "grid_area": null,
       "grid_auto_columns": null,
       "grid_auto_flow": null,
       "grid_auto_rows": null,
       "grid_column": null,
       "grid_gap": null,
       "grid_row": null,
       "grid_template_areas": null,
       "grid_template_columns": null,
       "grid_template_rows": null,
       "height": null,
       "justify_content": null,
       "justify_items": null,
       "left": null,
       "margin": null,
       "max_height": null,
       "max_width": null,
       "min_height": null,
       "min_width": null,
       "object_fit": null,
       "object_position": null,
       "order": null,
       "overflow": null,
       "overflow_x": null,
       "overflow_y": null,
       "padding": null,
       "right": null,
       "top": null,
       "visibility": null,
       "width": null
      }
     }
    },
    "version_major": 2,
    "version_minor": 0
   }
  }
 },
 "nbformat": 4,
 "nbformat_minor": 5
}
