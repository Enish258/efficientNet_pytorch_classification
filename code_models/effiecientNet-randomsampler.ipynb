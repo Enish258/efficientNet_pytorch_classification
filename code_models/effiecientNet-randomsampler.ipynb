{
 "cells": [
  {
   "cell_type": "code",
   "execution_count": 1,
   "id": "89b02548",
   "metadata": {
    "execution": {
     "iopub.execute_input": "2022-02-06T20:55:05.265755Z",
     "iopub.status.busy": "2022-02-06T20:55:05.264667Z",
     "iopub.status.idle": "2022-02-06T20:55:07.028293Z",
     "shell.execute_reply": "2022-02-06T20:55:07.029309Z",
     "shell.execute_reply.started": "2022-02-06T20:29:24.619938Z"
    },
    "papermill": {
     "duration": 1.843438,
     "end_time": "2022-02-06T20:55:07.029673",
     "exception": false,
     "start_time": "2022-02-06T20:55:05.186235",
     "status": "completed"
    },
    "tags": []
   },
   "outputs": [],
   "source": [
    "import pandas as pd\n",
    "import numpy as np\n",
    "import torch\n",
    "import os\n",
    "import torchvision\n",
    "from torchvision.transforms import ToTensor, ToPILImage, Normalize, Compose,Resize\n",
    "import torchvision.transforms as tt\n",
    "from torch.utils.data import DataLoader\n",
    "from torch.utils.data import Dataset\n",
    "from torchvision import transforms \n",
    "\n",
    "from torch.utils.data.sampler import SubsetRandomSampler,WeightedRandomSampler\n",
    "import torch.nn as nn\n",
    "import torch.nn.functional as F\n",
    "\n",
    "from torch.utils.data import random_split\n",
    "from torchvision.datasets.utils import download_url\n",
    "import matplotlib.pyplot as plt\n",
    "import glob"
   ]
  },
  {
   "cell_type": "code",
   "execution_count": 2,
   "id": "62415777",
   "metadata": {
    "execution": {
     "iopub.execute_input": "2022-02-06T20:55:07.308493Z",
     "iopub.status.busy": "2022-02-06T20:55:07.307654Z",
     "iopub.status.idle": "2022-02-06T20:55:18.547641Z",
     "shell.execute_reply": "2022-02-06T20:55:18.548295Z",
     "shell.execute_reply.started": "2022-02-06T20:29:24.811674Z"
    },
    "papermill": {
     "duration": 11.380522,
     "end_time": "2022-02-06T20:55:18.548491",
     "exception": false,
     "start_time": "2022-02-06T20:55:07.167969",
     "status": "completed"
    },
    "tags": []
   },
   "outputs": [
    {
     "name": "stdout",
     "output_type": "stream",
     "text": [
      "Collecting efficientnet-pytorch\r\n",
      "  Downloading efficientnet_pytorch-0.7.1.tar.gz (21 kB)\r\n",
      "  Preparing metadata (setup.py) ... \u001b[?25l-\b \bdone\r\n",
      "\u001b[?25hRequirement already satisfied: torch in /opt/conda/lib/python3.7/site-packages (from efficientnet-pytorch) (1.9.1)\r\n",
      "Requirement already satisfied: typing-extensions in /opt/conda/lib/python3.7/site-packages (from torch->efficientnet-pytorch) (3.10.0.2)\r\n",
      "Building wheels for collected packages: efficientnet-pytorch\r\n",
      "  Building wheel for efficientnet-pytorch (setup.py) ... \u001b[?25l-\b \b\\\b \bdone\r\n",
      "\u001b[?25h  Created wheel for efficientnet-pytorch: filename=efficientnet_pytorch-0.7.1-py3-none-any.whl size=16446 sha256=b5b50d3dc243201832bcf7e6e7d3dcee2530cceb8d2dee77e0e9040e4ba8ef78\r\n",
      "  Stored in directory: /root/.cache/pip/wheels/0e/cc/b2/49e74588263573ff778da58cc99b9c6349b496636a7e165be6\r\n",
      "Successfully built efficientnet-pytorch\r\n",
      "Installing collected packages: efficientnet-pytorch\r\n",
      "Successfully installed efficientnet-pytorch-0.7.1\r\n",
      "\u001b[33mWARNING: Running pip as the 'root' user can result in broken permissions and conflicting behaviour with the system package manager. It is recommended to use a virtual environment instead: https://pip.pypa.io/warnings/venv\u001b[0m\r\n",
      "Note: you may need to restart the kernel to use updated packages.\n"
     ]
    }
   ],
   "source": [
    "pip install --upgrade efficientnet-pytorch"
   ]
  },
  {
   "cell_type": "code",
   "execution_count": 3,
   "id": "c8d376ee",
   "metadata": {
    "execution": {
     "iopub.execute_input": "2022-02-06T20:55:18.700717Z",
     "iopub.status.busy": "2022-02-06T20:55:18.699924Z",
     "iopub.status.idle": "2022-02-06T20:55:19.502607Z",
     "shell.execute_reply": "2022-02-06T20:55:19.502132Z",
     "shell.execute_reply.started": "2022-02-06T20:29:32.773070Z"
    },
    "papermill": {
     "duration": 0.882849,
     "end_time": "2022-02-06T20:55:19.502735",
     "exception": false,
     "start_time": "2022-02-06T20:55:18.619886",
     "status": "completed"
    },
    "tags": []
   },
   "outputs": [],
   "source": [
    "from sklearn.metrics import balanced_accuracy_score,f1_score\n",
    "import zipfile\n",
    "import numpy as np\n",
    "from glob import glob\n",
    "import matplotlib.pyplot as plt\n",
    "import torch\n",
    "import torch.nn as nn\n",
    "\n",
    "from torchvision import datasets, transforms as T\n",
    "from efficientnet_pytorch import EfficientNet\n",
    "import os\n",
    "import torch.optim as optim\n",
    "from PIL import ImageFile\n",
    "from sklearn.metrics import accuracy_score\n",
    "from PIL import Image\n",
    "import PIL"
   ]
  },
  {
   "cell_type": "code",
   "execution_count": null,
   "id": "b1ca6304",
   "metadata": {
    "papermill": {
     "duration": 0.070433,
     "end_time": "2022-02-06T20:55:19.643287",
     "exception": false,
     "start_time": "2022-02-06T20:55:19.572854",
     "status": "completed"
    },
    "tags": []
   },
   "outputs": [],
   "source": []
  },
  {
   "cell_type": "code",
   "execution_count": 4,
   "id": "abaa284a",
   "metadata": {
    "execution": {
     "iopub.execute_input": "2022-02-06T20:55:19.786651Z",
     "iopub.status.busy": "2022-02-06T20:55:19.785878Z",
     "iopub.status.idle": "2022-02-06T20:55:19.788255Z",
     "shell.execute_reply": "2022-02-06T20:55:19.787846Z",
     "shell.execute_reply.started": "2022-02-06T20:29:32.781867Z"
    },
    "papermill": {
     "duration": 0.075432,
     "end_time": "2022-02-06T20:55:19.788361",
     "exception": false,
     "start_time": "2022-02-06T20:55:19.712929",
     "status": "completed"
    },
    "tags": []
   },
   "outputs": [],
   "source": [
    "from PIL import Image\n",
    "import PIL"
   ]
  },
  {
   "cell_type": "code",
   "execution_count": 5,
   "id": "07e446cb",
   "metadata": {
    "execution": {
     "iopub.execute_input": "2022-02-06T20:55:19.931998Z",
     "iopub.status.busy": "2022-02-06T20:55:19.931236Z",
     "iopub.status.idle": "2022-02-06T20:55:19.933178Z",
     "shell.execute_reply": "2022-02-06T20:55:19.933621Z",
     "shell.execute_reply.started": "2022-02-06T20:29:32.791281Z"
    },
    "papermill": {
     "duration": 0.07563,
     "end_time": "2022-02-06T20:55:19.933748",
     "exception": false,
     "start_time": "2022-02-06T20:55:19.858118",
     "status": "completed"
    },
    "tags": []
   },
   "outputs": [],
   "source": [
    "data_folder=\"../input/stylumia-complete/\""
   ]
  },
  {
   "cell_type": "code",
   "execution_count": 6,
   "id": "79a4eb56",
   "metadata": {
    "execution": {
     "iopub.execute_input": "2022-02-06T20:55:20.077867Z",
     "iopub.status.busy": "2022-02-06T20:55:20.077368Z",
     "iopub.status.idle": "2022-02-06T20:55:20.126443Z",
     "shell.execute_reply": "2022-02-06T20:55:20.125762Z",
     "shell.execute_reply.started": "2022-02-06T20:29:32.799901Z"
    },
    "papermill": {
     "duration": 0.123359,
     "end_time": "2022-02-06T20:55:20.126549",
     "exception": false,
     "start_time": "2022-02-06T20:55:20.003190",
     "status": "completed"
    },
    "tags": []
   },
   "outputs": [],
   "source": [
    "train_file=pd.read_csv(os.path.join(data_folder+'train_label.csv'))"
   ]
  },
  {
   "cell_type": "code",
   "execution_count": 7,
   "id": "37baaeb8",
   "metadata": {
    "execution": {
     "iopub.execute_input": "2022-02-06T20:55:20.273567Z",
     "iopub.status.busy": "2022-02-06T20:55:20.272532Z",
     "iopub.status.idle": "2022-02-06T20:55:20.281257Z",
     "shell.execute_reply": "2022-02-06T20:55:20.281620Z",
     "shell.execute_reply.started": "2022-02-06T20:29:32.831535Z"
    },
    "papermill": {
     "duration": 0.084492,
     "end_time": "2022-02-06T20:55:20.281757",
     "exception": false,
     "start_time": "2022-02-06T20:55:20.197265",
     "status": "completed"
    },
    "tags": []
   },
   "outputs": [],
   "source": [
    "train_file = train_file.sample(frac=1).reset_index(drop=True)"
   ]
  },
  {
   "cell_type": "code",
   "execution_count": 8,
   "id": "ce1574d0",
   "metadata": {
    "execution": {
     "iopub.execute_input": "2022-02-06T20:55:20.429696Z",
     "iopub.status.busy": "2022-02-06T20:55:20.429110Z",
     "iopub.status.idle": "2022-02-06T20:55:20.439543Z",
     "shell.execute_reply": "2022-02-06T20:55:20.440061Z",
     "shell.execute_reply.started": "2022-02-06T20:29:32.844477Z"
    },
    "papermill": {
     "duration": 0.088282,
     "end_time": "2022-02-06T20:55:20.440184",
     "exception": false,
     "start_time": "2022-02-06T20:55:20.351902",
     "status": "completed"
    },
    "tags": []
   },
   "outputs": [
    {
     "data": {
      "text/html": [
       "<div>\n",
       "<style scoped>\n",
       "    .dataframe tbody tr th:only-of-type {\n",
       "        vertical-align: middle;\n",
       "    }\n",
       "\n",
       "    .dataframe tbody tr th {\n",
       "        vertical-align: top;\n",
       "    }\n",
       "\n",
       "    .dataframe thead th {\n",
       "        text-align: right;\n",
       "    }\n",
       "</style>\n",
       "<table border=\"1\" class=\"dataframe\">\n",
       "  <thead>\n",
       "    <tr style=\"text-align: right;\">\n",
       "      <th></th>\n",
       "      <th>file_name</th>\n",
       "      <th>label</th>\n",
       "    </tr>\n",
       "  </thead>\n",
       "  <tbody>\n",
       "    <tr>\n",
       "      <th>0</th>\n",
       "      <td>Image_028657.jpg</td>\n",
       "      <td>8</td>\n",
       "    </tr>\n",
       "    <tr>\n",
       "      <th>1</th>\n",
       "      <td>Image_023142.jpg</td>\n",
       "      <td>6</td>\n",
       "    </tr>\n",
       "    <tr>\n",
       "      <th>2</th>\n",
       "      <td>Image_009611.jpg</td>\n",
       "      <td>3</td>\n",
       "    </tr>\n",
       "    <tr>\n",
       "      <th>3</th>\n",
       "      <td>Image_015397.jpg</td>\n",
       "      <td>2</td>\n",
       "    </tr>\n",
       "    <tr>\n",
       "      <th>4</th>\n",
       "      <td>Image_020644.jpg</td>\n",
       "      <td>6</td>\n",
       "    </tr>\n",
       "    <tr>\n",
       "      <th>...</th>\n",
       "      <td>...</td>\n",
       "      <td>...</td>\n",
       "    </tr>\n",
       "    <tr>\n",
       "      <th>31744</th>\n",
       "      <td>Image_018153.jpg</td>\n",
       "      <td>4</td>\n",
       "    </tr>\n",
       "    <tr>\n",
       "      <th>31745</th>\n",
       "      <td>Image_014836.jpg</td>\n",
       "      <td>2</td>\n",
       "    </tr>\n",
       "    <tr>\n",
       "      <th>31746</th>\n",
       "      <td>Image_002795.jpg</td>\n",
       "      <td>9</td>\n",
       "    </tr>\n",
       "    <tr>\n",
       "      <th>31747</th>\n",
       "      <td>Image_002054.jpg</td>\n",
       "      <td>9</td>\n",
       "    </tr>\n",
       "    <tr>\n",
       "      <th>31748</th>\n",
       "      <td>Image_011764.jpg</td>\n",
       "      <td>0</td>\n",
       "    </tr>\n",
       "  </tbody>\n",
       "</table>\n",
       "<p>31749 rows × 2 columns</p>\n",
       "</div>"
      ],
      "text/plain": [
       "              file_name  label\n",
       "0      Image_028657.jpg      8\n",
       "1      Image_023142.jpg      6\n",
       "2      Image_009611.jpg      3\n",
       "3      Image_015397.jpg      2\n",
       "4      Image_020644.jpg      6\n",
       "...                 ...    ...\n",
       "31744  Image_018153.jpg      4\n",
       "31745  Image_014836.jpg      2\n",
       "31746  Image_002795.jpg      9\n",
       "31747  Image_002054.jpg      9\n",
       "31748  Image_011764.jpg      0\n",
       "\n",
       "[31749 rows x 2 columns]"
      ]
     },
     "execution_count": 8,
     "metadata": {},
     "output_type": "execute_result"
    }
   ],
   "source": [
    "train_file"
   ]
  },
  {
   "cell_type": "code",
   "execution_count": 9,
   "id": "8df2b520",
   "metadata": {
    "execution": {
     "iopub.execute_input": "2022-02-06T20:55:20.589177Z",
     "iopub.status.busy": "2022-02-06T20:55:20.588314Z",
     "iopub.status.idle": "2022-02-06T20:55:20.593681Z",
     "shell.execute_reply": "2022-02-06T20:55:20.593261Z",
     "shell.execute_reply.started": "2022-02-06T20:29:32.859495Z"
    },
    "papermill": {
     "duration": 0.082855,
     "end_time": "2022-02-06T20:55:20.593782",
     "exception": false,
     "start_time": "2022-02-06T20:55:20.510927",
     "status": "completed"
    },
    "tags": []
   },
   "outputs": [
    {
     "data": {
      "text/plain": [
       "8"
      ]
     },
     "execution_count": 9,
     "metadata": {},
     "output_type": "execute_result"
    }
   ],
   "source": [
    "train_file.loc[0,'label']"
   ]
  },
  {
   "cell_type": "code",
   "execution_count": null,
   "id": "66d71982",
   "metadata": {
    "papermill": {
     "duration": 0.078378,
     "end_time": "2022-02-06T20:55:20.745504",
     "exception": false,
     "start_time": "2022-02-06T20:55:20.667126",
     "status": "completed"
    },
    "tags": []
   },
   "outputs": [],
   "source": []
  },
  {
   "cell_type": "code",
   "execution_count": 10,
   "id": "e710dc6d",
   "metadata": {
    "execution": {
     "iopub.execute_input": "2022-02-06T20:55:20.908056Z",
     "iopub.status.busy": "2022-02-06T20:55:20.902988Z",
     "iopub.status.idle": "2022-02-06T20:55:20.911434Z",
     "shell.execute_reply": "2022-02-06T20:55:20.910976Z",
     "shell.execute_reply.started": "2022-02-06T20:29:35.930310Z"
    },
    "papermill": {
     "duration": 0.089559,
     "end_time": "2022-02-06T20:55:20.911552",
     "exception": false,
     "start_time": "2022-02-06T20:55:20.821993",
     "status": "completed"
    },
    "tags": []
   },
   "outputs": [
    {
     "data": {
      "text/html": [
       "<div>\n",
       "<style scoped>\n",
       "    .dataframe tbody tr th:only-of-type {\n",
       "        vertical-align: middle;\n",
       "    }\n",
       "\n",
       "    .dataframe tbody tr th {\n",
       "        vertical-align: top;\n",
       "    }\n",
       "\n",
       "    .dataframe thead th {\n",
       "        text-align: right;\n",
       "    }\n",
       "</style>\n",
       "<table border=\"1\" class=\"dataframe\">\n",
       "  <thead>\n",
       "    <tr style=\"text-align: right;\">\n",
       "      <th></th>\n",
       "      <th>file_name</th>\n",
       "      <th>label</th>\n",
       "    </tr>\n",
       "  </thead>\n",
       "  <tbody>\n",
       "    <tr>\n",
       "      <th>0</th>\n",
       "      <td>Image_028657.jpg</td>\n",
       "      <td>8</td>\n",
       "    </tr>\n",
       "    <tr>\n",
       "      <th>1</th>\n",
       "      <td>Image_023142.jpg</td>\n",
       "      <td>6</td>\n",
       "    </tr>\n",
       "    <tr>\n",
       "      <th>2</th>\n",
       "      <td>Image_009611.jpg</td>\n",
       "      <td>3</td>\n",
       "    </tr>\n",
       "    <tr>\n",
       "      <th>3</th>\n",
       "      <td>Image_015397.jpg</td>\n",
       "      <td>2</td>\n",
       "    </tr>\n",
       "    <tr>\n",
       "      <th>4</th>\n",
       "      <td>Image_020644.jpg</td>\n",
       "      <td>6</td>\n",
       "    </tr>\n",
       "    <tr>\n",
       "      <th>...</th>\n",
       "      <td>...</td>\n",
       "      <td>...</td>\n",
       "    </tr>\n",
       "    <tr>\n",
       "      <th>31744</th>\n",
       "      <td>Image_018153.jpg</td>\n",
       "      <td>4</td>\n",
       "    </tr>\n",
       "    <tr>\n",
       "      <th>31745</th>\n",
       "      <td>Image_014836.jpg</td>\n",
       "      <td>2</td>\n",
       "    </tr>\n",
       "    <tr>\n",
       "      <th>31746</th>\n",
       "      <td>Image_002795.jpg</td>\n",
       "      <td>9</td>\n",
       "    </tr>\n",
       "    <tr>\n",
       "      <th>31747</th>\n",
       "      <td>Image_002054.jpg</td>\n",
       "      <td>9</td>\n",
       "    </tr>\n",
       "    <tr>\n",
       "      <th>31748</th>\n",
       "      <td>Image_011764.jpg</td>\n",
       "      <td>0</td>\n",
       "    </tr>\n",
       "  </tbody>\n",
       "</table>\n",
       "<p>31749 rows × 2 columns</p>\n",
       "</div>"
      ],
      "text/plain": [
       "              file_name  label\n",
       "0      Image_028657.jpg      8\n",
       "1      Image_023142.jpg      6\n",
       "2      Image_009611.jpg      3\n",
       "3      Image_015397.jpg      2\n",
       "4      Image_020644.jpg      6\n",
       "...                 ...    ...\n",
       "31744  Image_018153.jpg      4\n",
       "31745  Image_014836.jpg      2\n",
       "31746  Image_002795.jpg      9\n",
       "31747  Image_002054.jpg      9\n",
       "31748  Image_011764.jpg      0\n",
       "\n",
       "[31749 rows x 2 columns]"
      ]
     },
     "execution_count": 10,
     "metadata": {},
     "output_type": "execute_result"
    }
   ],
   "source": [
    "train_file"
   ]
  },
  {
   "cell_type": "code",
   "execution_count": 11,
   "id": "8a5fbb9e",
   "metadata": {
    "execution": {
     "iopub.execute_input": "2022-02-06T20:55:21.066217Z",
     "iopub.status.busy": "2022-02-06T20:55:21.065612Z",
     "iopub.status.idle": "2022-02-06T20:55:21.068168Z",
     "shell.execute_reply": "2022-02-06T20:55:21.068569Z",
     "shell.execute_reply.started": "2022-02-06T20:29:36.227524Z"
    },
    "papermill": {
     "duration": 0.080919,
     "end_time": "2022-02-06T20:55:21.068692",
     "exception": false,
     "start_time": "2022-02-06T20:55:20.987773",
     "status": "completed"
    },
    "tags": []
   },
   "outputs": [
    {
     "data": {
      "text/plain": [
       "6     6285\n",
       "3     4139\n",
       "9     3933\n",
       "7     3664\n",
       "2     2778\n",
       "5     2433\n",
       "8     2338\n",
       "0     2166\n",
       "4     2052\n",
       "10    1039\n",
       "1      922\n",
       "Name: label, dtype: int64"
      ]
     },
     "execution_count": 11,
     "metadata": {},
     "output_type": "execute_result"
    }
   ],
   "source": [
    "train_file['label'].value_counts()"
   ]
  },
  {
   "cell_type": "code",
   "execution_count": 12,
   "id": "be85c551",
   "metadata": {
    "execution": {
     "iopub.execute_input": "2022-02-06T20:55:21.215892Z",
     "iopub.status.busy": "2022-02-06T20:55:21.215221Z",
     "iopub.status.idle": "2022-02-06T20:55:21.217650Z",
     "shell.execute_reply": "2022-02-06T20:55:21.217262Z",
     "shell.execute_reply.started": "2022-02-06T20:29:38.326876Z"
    },
    "papermill": {
     "duration": 0.077525,
     "end_time": "2022-02-06T20:55:21.217762",
     "exception": false,
     "start_time": "2022-02-06T20:55:21.140237",
     "status": "completed"
    },
    "tags": []
   },
   "outputs": [],
   "source": [
    "val_split_index = int(np.floor(0.2 * len(train_file)))"
   ]
  },
  {
   "cell_type": "code",
   "execution_count": 13,
   "id": "cbfce1cb",
   "metadata": {
    "execution": {
     "iopub.execute_input": "2022-02-06T20:55:21.363525Z",
     "iopub.status.busy": "2022-02-06T20:55:21.362914Z",
     "iopub.status.idle": "2022-02-06T20:55:21.365313Z",
     "shell.execute_reply": "2022-02-06T20:55:21.365798Z",
     "shell.execute_reply.started": "2022-02-06T20:29:38.689545Z"
    },
    "papermill": {
     "duration": 0.077373,
     "end_time": "2022-02-06T20:55:21.365940",
     "exception": false,
     "start_time": "2022-02-06T20:55:21.288567",
     "status": "completed"
    },
    "tags": []
   },
   "outputs": [
    {
     "data": {
      "text/plain": [
       "6349"
      ]
     },
     "execution_count": 13,
     "metadata": {},
     "output_type": "execute_result"
    }
   ],
   "source": [
    "val_split_index"
   ]
  },
  {
   "cell_type": "code",
   "execution_count": 14,
   "id": "d76b261f",
   "metadata": {
    "execution": {
     "iopub.execute_input": "2022-02-06T20:55:21.512887Z",
     "iopub.status.busy": "2022-02-06T20:55:21.512117Z",
     "iopub.status.idle": "2022-02-06T20:55:21.514062Z",
     "shell.execute_reply": "2022-02-06T20:55:21.514449Z",
     "shell.execute_reply.started": "2022-02-06T20:29:41.047850Z"
    },
    "papermill": {
     "duration": 0.07756,
     "end_time": "2022-02-06T20:55:21.514563",
     "exception": false,
     "start_time": "2022-02-06T20:55:21.437003",
     "status": "completed"
    },
    "tags": []
   },
   "outputs": [],
   "source": [
    "val_df=train_file.loc[:val_split_index]\n",
    "train_df=train_file.loc[val_split_index:]"
   ]
  },
  {
   "cell_type": "code",
   "execution_count": 15,
   "id": "cfa22001",
   "metadata": {
    "execution": {
     "iopub.execute_input": "2022-02-06T20:55:21.664504Z",
     "iopub.status.busy": "2022-02-06T20:55:21.663736Z",
     "iopub.status.idle": "2022-02-06T20:55:21.668971Z",
     "shell.execute_reply": "2022-02-06T20:55:21.669369Z",
     "shell.execute_reply.started": "2022-02-06T20:30:04.468244Z"
    },
    "papermill": {
     "duration": 0.084037,
     "end_time": "2022-02-06T20:55:21.669482",
     "exception": false,
     "start_time": "2022-02-06T20:55:21.585445",
     "status": "completed"
    },
    "tags": []
   },
   "outputs": [
    {
     "data": {
      "text/html": [
       "<div>\n",
       "<style scoped>\n",
       "    .dataframe tbody tr th:only-of-type {\n",
       "        vertical-align: middle;\n",
       "    }\n",
       "\n",
       "    .dataframe tbody tr th {\n",
       "        vertical-align: top;\n",
       "    }\n",
       "\n",
       "    .dataframe thead th {\n",
       "        text-align: right;\n",
       "    }\n",
       "</style>\n",
       "<table border=\"1\" class=\"dataframe\">\n",
       "  <thead>\n",
       "    <tr style=\"text-align: right;\">\n",
       "      <th></th>\n",
       "      <th>file_name</th>\n",
       "      <th>label</th>\n",
       "    </tr>\n",
       "  </thead>\n",
       "  <tbody>\n",
       "    <tr>\n",
       "      <th>0</th>\n",
       "      <td>Image_028657.jpg</td>\n",
       "      <td>8</td>\n",
       "    </tr>\n",
       "    <tr>\n",
       "      <th>1</th>\n",
       "      <td>Image_023142.jpg</td>\n",
       "      <td>6</td>\n",
       "    </tr>\n",
       "    <tr>\n",
       "      <th>2</th>\n",
       "      <td>Image_009611.jpg</td>\n",
       "      <td>3</td>\n",
       "    </tr>\n",
       "    <tr>\n",
       "      <th>3</th>\n",
       "      <td>Image_015397.jpg</td>\n",
       "      <td>2</td>\n",
       "    </tr>\n",
       "    <tr>\n",
       "      <th>4</th>\n",
       "      <td>Image_020644.jpg</td>\n",
       "      <td>6</td>\n",
       "    </tr>\n",
       "    <tr>\n",
       "      <th>...</th>\n",
       "      <td>...</td>\n",
       "      <td>...</td>\n",
       "    </tr>\n",
       "    <tr>\n",
       "      <th>6345</th>\n",
       "      <td>Image_031121.jpg</td>\n",
       "      <td>1</td>\n",
       "    </tr>\n",
       "    <tr>\n",
       "      <th>6346</th>\n",
       "      <td>Image_017173.jpg</td>\n",
       "      <td>4</td>\n",
       "    </tr>\n",
       "    <tr>\n",
       "      <th>6347</th>\n",
       "      <td>Image_004883.jpg</td>\n",
       "      <td>9</td>\n",
       "    </tr>\n",
       "    <tr>\n",
       "      <th>6348</th>\n",
       "      <td>Image_005530.jpg</td>\n",
       "      <td>9</td>\n",
       "    </tr>\n",
       "    <tr>\n",
       "      <th>6349</th>\n",
       "      <td>Image_000299.jpg</td>\n",
       "      <td>8</td>\n",
       "    </tr>\n",
       "  </tbody>\n",
       "</table>\n",
       "<p>6350 rows × 2 columns</p>\n",
       "</div>"
      ],
      "text/plain": [
       "             file_name  label\n",
       "0     Image_028657.jpg      8\n",
       "1     Image_023142.jpg      6\n",
       "2     Image_009611.jpg      3\n",
       "3     Image_015397.jpg      2\n",
       "4     Image_020644.jpg      6\n",
       "...                ...    ...\n",
       "6345  Image_031121.jpg      1\n",
       "6346  Image_017173.jpg      4\n",
       "6347  Image_004883.jpg      9\n",
       "6348  Image_005530.jpg      9\n",
       "6349  Image_000299.jpg      8\n",
       "\n",
       "[6350 rows x 2 columns]"
      ]
     },
     "execution_count": 15,
     "metadata": {},
     "output_type": "execute_result"
    }
   ],
   "source": [
    "val_df"
   ]
  },
  {
   "cell_type": "code",
   "execution_count": 16,
   "id": "1ac354ec",
   "metadata": {
    "execution": {
     "iopub.execute_input": "2022-02-06T20:55:21.817156Z",
     "iopub.status.busy": "2022-02-06T20:55:21.816447Z",
     "iopub.status.idle": "2022-02-06T20:55:21.821854Z",
     "shell.execute_reply": "2022-02-06T20:55:21.821420Z",
     "shell.execute_reply.started": "2022-02-06T20:30:05.240456Z"
    },
    "papermill": {
     "duration": 0.080952,
     "end_time": "2022-02-06T20:55:21.821958",
     "exception": false,
     "start_time": "2022-02-06T20:55:21.741006",
     "status": "completed"
    },
    "tags": []
   },
   "outputs": [],
   "source": [
    "train_df=train_df.sample(frac=1).reset_index(drop=True)"
   ]
  },
  {
   "cell_type": "code",
   "execution_count": 17,
   "id": "9e21de88",
   "metadata": {
    "execution": {
     "iopub.execute_input": "2022-02-06T20:55:21.969849Z",
     "iopub.status.busy": "2022-02-06T20:55:21.969068Z",
     "iopub.status.idle": "2022-02-06T20:55:21.977189Z",
     "shell.execute_reply": "2022-02-06T20:55:21.976641Z",
     "shell.execute_reply.started": "2022-02-06T20:30:09.138131Z"
    },
    "papermill": {
     "duration": 0.083352,
     "end_time": "2022-02-06T20:55:21.977294",
     "exception": false,
     "start_time": "2022-02-06T20:55:21.893942",
     "status": "completed"
    },
    "tags": []
   },
   "outputs": [
    {
     "data": {
      "text/html": [
       "<div>\n",
       "<style scoped>\n",
       "    .dataframe tbody tr th:only-of-type {\n",
       "        vertical-align: middle;\n",
       "    }\n",
       "\n",
       "    .dataframe tbody tr th {\n",
       "        vertical-align: top;\n",
       "    }\n",
       "\n",
       "    .dataframe thead th {\n",
       "        text-align: right;\n",
       "    }\n",
       "</style>\n",
       "<table border=\"1\" class=\"dataframe\">\n",
       "  <thead>\n",
       "    <tr style=\"text-align: right;\">\n",
       "      <th></th>\n",
       "      <th>file_name</th>\n",
       "      <th>label</th>\n",
       "    </tr>\n",
       "  </thead>\n",
       "  <tbody>\n",
       "    <tr>\n",
       "      <th>0</th>\n",
       "      <td>Image_007910.jpg</td>\n",
       "      <td>3</td>\n",
       "    </tr>\n",
       "    <tr>\n",
       "      <th>1</th>\n",
       "      <td>Image_006240.jpg</td>\n",
       "      <td>5</td>\n",
       "    </tr>\n",
       "    <tr>\n",
       "      <th>2</th>\n",
       "      <td>Image_017769.jpg</td>\n",
       "      <td>4</td>\n",
       "    </tr>\n",
       "    <tr>\n",
       "      <th>3</th>\n",
       "      <td>Image_023327.jpg</td>\n",
       "      <td>6</td>\n",
       "    </tr>\n",
       "    <tr>\n",
       "      <th>4</th>\n",
       "      <td>Image_030979.jpg</td>\n",
       "      <td>1</td>\n",
       "    </tr>\n",
       "    <tr>\n",
       "      <th>...</th>\n",
       "      <td>...</td>\n",
       "      <td>...</td>\n",
       "    </tr>\n",
       "    <tr>\n",
       "      <th>25395</th>\n",
       "      <td>Image_011862.jpg</td>\n",
       "      <td>0</td>\n",
       "    </tr>\n",
       "    <tr>\n",
       "      <th>25396</th>\n",
       "      <td>Image_010283.jpg</td>\n",
       "      <td>3</td>\n",
       "    </tr>\n",
       "    <tr>\n",
       "      <th>25397</th>\n",
       "      <td>Image_016288.jpg</td>\n",
       "      <td>2</td>\n",
       "    </tr>\n",
       "    <tr>\n",
       "      <th>25398</th>\n",
       "      <td>Image_019754.jpg</td>\n",
       "      <td>6</td>\n",
       "    </tr>\n",
       "    <tr>\n",
       "      <th>25399</th>\n",
       "      <td>Image_004930.jpg</td>\n",
       "      <td>9</td>\n",
       "    </tr>\n",
       "  </tbody>\n",
       "</table>\n",
       "<p>25400 rows × 2 columns</p>\n",
       "</div>"
      ],
      "text/plain": [
       "              file_name  label\n",
       "0      Image_007910.jpg      3\n",
       "1      Image_006240.jpg      5\n",
       "2      Image_017769.jpg      4\n",
       "3      Image_023327.jpg      6\n",
       "4      Image_030979.jpg      1\n",
       "...                 ...    ...\n",
       "25395  Image_011862.jpg      0\n",
       "25396  Image_010283.jpg      3\n",
       "25397  Image_016288.jpg      2\n",
       "25398  Image_019754.jpg      6\n",
       "25399  Image_004930.jpg      9\n",
       "\n",
       "[25400 rows x 2 columns]"
      ]
     },
     "execution_count": 17,
     "metadata": {},
     "output_type": "execute_result"
    }
   ],
   "source": [
    "train_df"
   ]
  },
  {
   "cell_type": "code",
   "execution_count": 18,
   "id": "e5aec81f",
   "metadata": {
    "execution": {
     "iopub.execute_input": "2022-02-06T20:55:22.130989Z",
     "iopub.status.busy": "2022-02-06T20:55:22.130212Z",
     "iopub.status.idle": "2022-02-06T20:55:22.132125Z",
     "shell.execute_reply": "2022-02-06T20:55:22.132512Z",
     "shell.execute_reply.started": "2022-02-06T20:30:40.579630Z"
    },
    "papermill": {
     "duration": 0.083017,
     "end_time": "2022-02-06T20:55:22.132624",
     "exception": false,
     "start_time": "2022-02-06T20:55:22.049607",
     "status": "completed"
    },
    "tags": []
   },
   "outputs": [],
   "source": [
    "class CustomDataset(torch.utils.data.Dataset):\n",
    "    def __init__(self, df, images_folder,mode,stats,transform = ToTensor()):\n",
    "        self.df = df\n",
    "        self.mode=mode\n",
    "        self.images_folder = os.path.join(images_folder+'/'+'train')\n",
    "       \n",
    "        self.transform1=Resize((260,260))\n",
    "        self.train_tfms=tt.Compose([tt.RandomCrop(224,padding=4,padding_mode='reflect'),\n",
    "                      tt.RandomHorizontalFlip(),\n",
    "                      tt.ToTensor(),\n",
    "                      tt.Normalize(*stats,inplace=True)])\n",
    "        self.valid_tfms=tt.Compose([tt.ToTensor(),tt.Normalize(*stats,inplace=True)])\n",
    "\n",
    "    def __len__(self):\n",
    "        return len(self.df)\n",
    "    def __getitem__(self, index):\n",
    "        filename = self.df.loc[index, \"file_name\"]\n",
    "        label = self.df.loc[index, \"label\"]\n",
    "        image = PIL.Image.open(os.path.join(self.images_folder,filename))\n",
    "        if self.mode=='train':\n",
    "            image=self.transform1(image)\n",
    "            image=self.train_tfms(image)\n",
    "        else:\n",
    "            image=self.transform1(image)\n",
    "            image=self.valid_tfms(image)\n",
    "        return image, label"
   ]
  },
  {
   "cell_type": "code",
   "execution_count": 19,
   "id": "011e6895",
   "metadata": {
    "execution": {
     "iopub.execute_input": "2022-02-06T20:55:22.280799Z",
     "iopub.status.busy": "2022-02-06T20:55:22.280090Z",
     "iopub.status.idle": "2022-02-06T20:55:22.281968Z",
     "shell.execute_reply": "2022-02-06T20:55:22.282366Z",
     "shell.execute_reply.started": "2022-02-06T20:30:42.384349Z"
    },
    "papermill": {
     "duration": 0.077383,
     "end_time": "2022-02-06T20:55:22.282479",
     "exception": false,
     "start_time": "2022-02-06T20:55:22.205096",
     "status": "completed"
    },
    "tags": []
   },
   "outputs": [],
   "source": [
    "img1=os.path.join(data_folder+'train/'+train_file.loc[12658,\"file_name\"])"
   ]
  },
  {
   "cell_type": "code",
   "execution_count": 20,
   "id": "790dd15a",
   "metadata": {
    "execution": {
     "iopub.execute_input": "2022-02-06T20:55:22.430214Z",
     "iopub.status.busy": "2022-02-06T20:55:22.429603Z",
     "iopub.status.idle": "2022-02-06T20:55:22.432121Z",
     "shell.execute_reply": "2022-02-06T20:55:22.432513Z",
     "shell.execute_reply.started": "2022-02-06T20:30:50.305238Z"
    },
    "papermill": {
     "duration": 0.078253,
     "end_time": "2022-02-06T20:55:22.432625",
     "exception": false,
     "start_time": "2022-02-06T20:55:22.354372",
     "status": "completed"
    },
    "tags": []
   },
   "outputs": [
    {
     "data": {
      "text/plain": [
       "'../input/stylumia-complete/train/Image_021581.jpg'"
      ]
     },
     "execution_count": 20,
     "metadata": {},
     "output_type": "execute_result"
    }
   ],
   "source": [
    "img1"
   ]
  },
  {
   "cell_type": "code",
   "execution_count": 21,
   "id": "595f4926",
   "metadata": {
    "execution": {
     "iopub.execute_input": "2022-02-06T20:55:22.580116Z",
     "iopub.status.busy": "2022-02-06T20:55:22.579355Z",
     "iopub.status.idle": "2022-02-06T20:55:22.584630Z",
     "shell.execute_reply": "2022-02-06T20:55:22.584149Z",
     "shell.execute_reply.started": "2022-02-06T20:30:50.532588Z"
    },
    "papermill": {
     "duration": 0.079607,
     "end_time": "2022-02-06T20:55:22.584750",
     "exception": false,
     "start_time": "2022-02-06T20:55:22.505143",
     "status": "completed"
    },
    "tags": []
   },
   "outputs": [
    {
     "data": {
      "text/plain": [
       "31749"
      ]
     },
     "execution_count": 21,
     "metadata": {},
     "output_type": "execute_result"
    }
   ],
   "source": [
    "len(train_file)"
   ]
  },
  {
   "cell_type": "code",
   "execution_count": 22,
   "id": "c426445c",
   "metadata": {
    "execution": {
     "iopub.execute_input": "2022-02-06T20:55:22.733715Z",
     "iopub.status.busy": "2022-02-06T20:55:22.733230Z",
     "iopub.status.idle": "2022-02-06T20:55:22.754046Z",
     "shell.execute_reply": "2022-02-06T20:55:22.753590Z",
     "shell.execute_reply.started": "2022-02-06T20:30:50.757446Z"
    },
    "papermill": {
     "duration": 0.096986,
     "end_time": "2022-02-06T20:55:22.754150",
     "exception": false,
     "start_time": "2022-02-06T20:55:22.657164",
     "status": "completed"
    },
    "tags": []
   },
   "outputs": [],
   "source": [
    "image = PIL.Image.open(img1)"
   ]
  },
  {
   "cell_type": "code",
   "execution_count": 23,
   "id": "e10ce4ce",
   "metadata": {
    "execution": {
     "iopub.execute_input": "2022-02-06T20:55:22.904771Z",
     "iopub.status.busy": "2022-02-06T20:55:22.904181Z",
     "iopub.status.idle": "2022-02-06T20:55:22.906690Z",
     "shell.execute_reply": "2022-02-06T20:55:22.907119Z",
     "shell.execute_reply.started": "2022-02-06T20:30:52.969270Z"
    },
    "papermill": {
     "duration": 0.079818,
     "end_time": "2022-02-06T20:55:22.907247",
     "exception": false,
     "start_time": "2022-02-06T20:55:22.827429",
     "status": "completed"
    },
    "tags": []
   },
   "outputs": [
    {
     "data": {
      "text/plain": [
       "0.6719160104986877"
      ]
     },
     "execution_count": 23,
     "metadata": {},
     "output_type": "execute_result"
    }
   ],
   "source": [
    "512/762"
   ]
  },
  {
   "cell_type": "code",
   "execution_count": 24,
   "id": "3edeccd2",
   "metadata": {
    "execution": {
     "iopub.execute_input": "2022-02-06T20:55:23.057457Z",
     "iopub.status.busy": "2022-02-06T20:55:23.056764Z",
     "iopub.status.idle": "2022-02-06T20:55:23.059752Z",
     "shell.execute_reply": "2022-02-06T20:55:23.059287Z",
     "shell.execute_reply.started": "2022-02-06T20:30:54.641800Z"
    },
    "papermill": {
     "duration": 0.079524,
     "end_time": "2022-02-06T20:55:23.059888",
     "exception": false,
     "start_time": "2022-02-06T20:55:22.980364",
     "status": "completed"
    },
    "tags": []
   },
   "outputs": [],
   "source": [
    "x=transforms.Resize((256,256))"
   ]
  },
  {
   "cell_type": "code",
   "execution_count": 25,
   "id": "b5ff2650",
   "metadata": {
    "execution": {
     "iopub.execute_input": "2022-02-06T20:55:23.209411Z",
     "iopub.status.busy": "2022-02-06T20:55:23.208683Z",
     "iopub.status.idle": "2022-02-06T20:55:23.218292Z",
     "shell.execute_reply": "2022-02-06T20:55:23.217897Z",
     "shell.execute_reply.started": "2022-02-06T20:30:54.879925Z"
    },
    "papermill": {
     "duration": 0.08553,
     "end_time": "2022-02-06T20:55:23.218393",
     "exception": false,
     "start_time": "2022-02-06T20:55:23.132863",
     "status": "completed"
    },
    "tags": []
   },
   "outputs": [],
   "source": [
    "img=x(image)"
   ]
  },
  {
   "cell_type": "code",
   "execution_count": 26,
   "id": "a86a8a9b",
   "metadata": {
    "execution": {
     "iopub.execute_input": "2022-02-06T20:55:23.370791Z",
     "iopub.status.busy": "2022-02-06T20:55:23.370130Z",
     "iopub.status.idle": "2022-02-06T20:55:23.372686Z",
     "shell.execute_reply": "2022-02-06T20:55:23.373105Z",
     "shell.execute_reply.started": "2022-02-06T20:30:55.065161Z"
    },
    "papermill": {
     "duration": 0.081929,
     "end_time": "2022-02-06T20:55:23.373236",
     "exception": false,
     "start_time": "2022-02-06T20:55:23.291307",
     "status": "completed"
    },
    "tags": []
   },
   "outputs": [
    {
     "data": {
      "text/plain": [
       "(256, 256)"
      ]
     },
     "execution_count": 26,
     "metadata": {},
     "output_type": "execute_result"
    }
   ],
   "source": [
    "img.size"
   ]
  },
  {
   "cell_type": "code",
   "execution_count": 27,
   "id": "5ef86215",
   "metadata": {
    "execution": {
     "iopub.execute_input": "2022-02-06T20:55:23.526020Z",
     "iopub.status.busy": "2022-02-06T20:55:23.525293Z",
     "iopub.status.idle": "2022-02-06T20:55:23.539361Z",
     "shell.execute_reply": "2022-02-06T20:55:23.539753Z",
     "shell.execute_reply.started": "2022-02-06T20:30:55.276014Z"
    },
    "papermill": {
     "duration": 0.093668,
     "end_time": "2022-02-06T20:55:23.539899",
     "exception": false,
     "start_time": "2022-02-06T20:55:23.446231",
     "status": "completed"
    },
    "tags": []
   },
   "outputs": [
    {
     "data": {
      "image/png": "[encoded data removed]",
      "text/plain": [
       "<PIL.Image.Image image mode=RGB size=256x256 at 0x7F22D1E04D90>"
      ]
     },
     "execution_count": 27,
     "metadata": {},
     "output_type": "execute_result"
    }
   ],
   "source": [
    "img"
   ]
  },
  {
   "cell_type": "code",
   "execution_count": 28,
   "id": "bdaae4b1",
   "metadata": {
    "execution": {
     "iopub.execute_input": "2022-02-06T20:55:23.695981Z",
     "iopub.status.busy": "2022-02-06T20:55:23.693532Z",
     "iopub.status.idle": "2022-02-06T20:55:23.699976Z",
     "shell.execute_reply": "2022-02-06T20:55:23.699343Z",
     "shell.execute_reply.started": "2022-02-06T20:30:55.433269Z"
    },
    "papermill": {
     "duration": 0.085608,
     "end_time": "2022-02-06T20:55:23.700091",
     "exception": false,
     "start_time": "2022-02-06T20:55:23.614483",
     "status": "completed"
    },
    "tags": []
   },
   "outputs": [
    {
     "data": {
      "text/plain": [
       "'/kaggle/working'"
      ]
     },
     "execution_count": 28,
     "metadata": {},
     "output_type": "execute_result"
    }
   ],
   "source": [
    "pwd"
   ]
  },
  {
   "cell_type": "code",
   "execution_count": 29,
   "id": "afff6819",
   "metadata": {
    "execution": {
     "iopub.execute_input": "2022-02-06T20:55:23.871439Z",
     "iopub.status.busy": "2022-02-06T20:55:23.870878Z",
     "iopub.status.idle": "2022-02-06T20:55:23.956324Z",
     "shell.execute_reply": "2022-02-06T20:55:23.955908Z",
     "shell.execute_reply.started": "2022-02-06T20:30:57.954082Z"
    },
    "papermill": {
     "duration": 0.173648,
     "end_time": "2022-02-06T20:55:23.956434",
     "exception": false,
     "start_time": "2022-02-06T20:55:23.782786",
     "status": "completed"
    },
    "tags": []
   },
   "outputs": [
    {
     "data": {
      "text/plain": [
       "tensor([[[0.9686, 0.9686, 0.9686,  ..., 0.9765, 0.9765, 0.9765],\n",
       "         [0.9686, 0.9686, 0.9686,  ..., 0.9765, 0.9765, 0.9765],\n",
       "         [0.9686, 0.9686, 0.9686,  ..., 0.9765, 0.9765, 0.9765],\n",
       "         ...,\n",
       "         [0.9333, 0.9333, 0.9333,  ..., 0.9373, 0.9373, 0.9373],\n",
       "         [0.9333, 0.9333, 0.9333,  ..., 0.9373, 0.9333, 0.9333],\n",
       "         [0.9333, 0.9333, 0.9333,  ..., 0.9373, 0.9333, 0.9333]],\n",
       "\n",
       "        [[0.9686, 0.9686, 0.9686,  ..., 0.9765, 0.9765, 0.9765],\n",
       "         [0.9686, 0.9686, 0.9686,  ..., 0.9765, 0.9765, 0.9765],\n",
       "         [0.9686, 0.9686, 0.9686,  ..., 0.9765, 0.9765, 0.9765],\n",
       "         ...,\n",
       "         [0.9333, 0.9333, 0.9333,  ..., 0.9373, 0.9373, 0.9373],\n",
       "         [0.9333, 0.9333, 0.9333,  ..., 0.9373, 0.9333, 0.9333],\n",
       "         [0.9333, 0.9333, 0.9333,  ..., 0.9373, 0.9333, 0.9333]],\n",
       "\n",
       "        [[0.9686, 0.9686, 0.9686,  ..., 0.9765, 0.9765, 0.9765],\n",
       "         [0.9686, 0.9686, 0.9686,  ..., 0.9765, 0.9765, 0.9765],\n",
       "         [0.9686, 0.9686, 0.9686,  ..., 0.9765, 0.9765, 0.9765],\n",
       "         ...,\n",
       "         [0.9333, 0.9333, 0.9333,  ..., 0.9373, 0.9373, 0.9373],\n",
       "         [0.9333, 0.9333, 0.9333,  ..., 0.9373, 0.9333, 0.9333],\n",
       "         [0.9333, 0.9333, 0.9333,  ..., 0.9373, 0.9333, 0.9333]]])"
      ]
     },
     "execution_count": 29,
     "metadata": {},
     "output_type": "execute_result"
    }
   ],
   "source": [
    "convert_tensor = torchvision.transforms.ToTensor()\n",
    "\n",
    "convert_tensor(image)"
   ]
  },
  {
   "cell_type": "code",
   "execution_count": 30,
   "id": "c7ffc091",
   "metadata": {
    "execution": {
     "iopub.execute_input": "2022-02-06T20:55:24.114292Z",
     "iopub.status.busy": "2022-02-06T20:55:24.113574Z",
     "iopub.status.idle": "2022-02-06T20:55:24.115466Z",
     "shell.execute_reply": "2022-02-06T20:55:24.115870Z",
     "shell.execute_reply.started": "2022-02-06T20:31:02.550075Z"
    },
    "papermill": {
     "duration": 0.080918,
     "end_time": "2022-02-06T20:55:24.115991",
     "exception": false,
     "start_time": "2022-02-06T20:55:24.035073",
     "status": "completed"
    },
    "tags": []
   },
   "outputs": [],
   "source": [
    "stats = ((0.7955, 0.7599, 0.7506), (0.2721, 0.2932, 0.2981))"
   ]
  },
  {
   "cell_type": "code",
   "execution_count": 31,
   "id": "b397503e",
   "metadata": {
    "execution": {
     "iopub.execute_input": "2022-02-06T20:55:24.276273Z",
     "iopub.status.busy": "2022-02-06T20:55:24.275498Z",
     "iopub.status.idle": "2022-02-06T20:55:24.278042Z",
     "shell.execute_reply": "2022-02-06T20:55:24.277569Z",
     "shell.execute_reply.started": "2022-02-06T20:31:02.821483Z"
    },
    "papermill": {
     "duration": 0.086188,
     "end_time": "2022-02-06T20:55:24.278153",
     "exception": false,
     "start_time": "2022-02-06T20:55:24.191965",
     "status": "completed"
    },
    "tags": []
   },
   "outputs": [],
   "source": [
    "train_dataset=CustomDataset(train_df,data_folder,'train',stats)"
   ]
  },
  {
   "cell_type": "code",
   "execution_count": 32,
   "id": "18bc94c9",
   "metadata": {
    "execution": {
     "iopub.execute_input": "2022-02-06T20:55:24.438795Z",
     "iopub.status.busy": "2022-02-06T20:55:24.437962Z",
     "iopub.status.idle": "2022-02-06T20:55:24.439857Z",
     "shell.execute_reply": "2022-02-06T20:55:24.440307Z",
     "shell.execute_reply.started": "2022-02-06T20:31:03.865810Z"
    },
    "papermill": {
     "duration": 0.083546,
     "end_time": "2022-02-06T20:55:24.440423",
     "exception": false,
     "start_time": "2022-02-06T20:55:24.356877",
     "status": "completed"
    },
    "tags": []
   },
   "outputs": [],
   "source": [
    "val_dataset=CustomDataset(val_df,data_folder,'val',stats)"
   ]
  },
  {
   "cell_type": "code",
   "execution_count": 33,
   "id": "6f281c82",
   "metadata": {
    "execution": {
     "iopub.execute_input": "2022-02-06T20:55:24.605917Z",
     "iopub.status.busy": "2022-02-06T20:55:24.605178Z",
     "iopub.status.idle": "2022-02-06T20:55:24.607805Z",
     "shell.execute_reply": "2022-02-06T20:55:24.607373Z",
     "shell.execute_reply.started": "2022-02-06T20:32:33.796264Z"
    },
    "papermill": {
     "duration": 0.087915,
     "end_time": "2022-02-06T20:55:24.607940",
     "exception": false,
     "start_time": "2022-02-06T20:55:24.520025",
     "status": "completed"
    },
    "tags": []
   },
   "outputs": [],
   "source": [
    "val_indices = list(range(len(val_dataset)-1))\n",
    "train_indices=list(range(len(train_dataset)))"
   ]
  },
  {
   "cell_type": "code",
   "execution_count": 34,
   "id": "6141e4ca",
   "metadata": {
    "execution": {
     "iopub.execute_input": "2022-02-06T20:55:24.778923Z",
     "iopub.status.busy": "2022-02-06T20:55:24.778022Z",
     "iopub.status.idle": "2022-02-06T20:55:24.780039Z",
     "shell.execute_reply": "2022-02-06T20:55:24.780501Z",
     "shell.execute_reply.started": "2022-02-06T20:32:35.543660Z"
    },
    "papermill": {
     "duration": 0.091305,
     "end_time": "2022-02-06T20:55:24.780630",
     "exception": false,
     "start_time": "2022-02-06T20:55:24.689325",
     "status": "completed"
    },
    "tags": []
   },
   "outputs": [],
   "source": [
    "#val_indices"
   ]
  },
  {
   "cell_type": "code",
   "execution_count": 35,
   "id": "a28db6af",
   "metadata": {
    "execution": {
     "iopub.execute_input": "2022-02-06T20:55:24.957995Z",
     "iopub.status.busy": "2022-02-06T20:55:24.957376Z",
     "iopub.status.idle": "2022-02-06T20:55:24.963197Z",
     "shell.execute_reply": "2022-02-06T20:55:24.962690Z",
     "shell.execute_reply.started": "2022-02-06T20:32:35.757321Z"
    },
    "papermill": {
     "duration": 0.094152,
     "end_time": "2022-02-06T20:55:24.963323",
     "exception": false,
     "start_time": "2022-02-06T20:55:24.869171",
     "status": "completed"
    },
    "tags": []
   },
   "outputs": [],
   "source": [
    "random_seed = 42\n",
    "torch.manual_seed(random_seed);"
   ]
  },
  {
   "cell_type": "code",
   "execution_count": 36,
   "id": "e80f37cf",
   "metadata": {
    "execution": {
     "iopub.execute_input": "2022-02-06T20:55:25.125913Z",
     "iopub.status.busy": "2022-02-06T20:55:25.125106Z",
     "iopub.status.idle": "2022-02-06T20:55:25.127065Z",
     "shell.execute_reply": "2022-02-06T20:55:25.127478Z",
     "shell.execute_reply.started": "2022-02-06T20:32:36.000404Z"
    },
    "papermill": {
     "duration": 0.081972,
     "end_time": "2022-02-06T20:55:25.127595",
     "exception": false,
     "start_time": "2022-02-06T20:55:25.045623",
     "status": "completed"
    },
    "tags": []
   },
   "outputs": [],
   "source": [
    "#train_idx"
   ]
  },
  {
   "cell_type": "code",
   "execution_count": 37,
   "id": "802cc2ce",
   "metadata": {
    "execution": {
     "iopub.execute_input": "2022-02-06T20:55:25.283453Z",
     "iopub.status.busy": "2022-02-06T20:55:25.282825Z",
     "iopub.status.idle": "2022-02-06T20:55:25.285268Z",
     "shell.execute_reply": "2022-02-06T20:55:25.285749Z",
     "shell.execute_reply.started": "2022-02-06T20:32:37.612387Z"
    },
    "papermill": {
     "duration": 0.082529,
     "end_time": "2022-02-06T20:55:25.285895",
     "exception": false,
     "start_time": "2022-02-06T20:55:25.203366",
     "status": "completed"
    },
    "tags": []
   },
   "outputs": [
    {
     "data": {
      "text/plain": [
       "(25400, 6349)"
      ]
     },
     "execution_count": 37,
     "metadata": {},
     "output_type": "execute_result"
    }
   ],
   "source": [
    "\n",
    "val_sampler = SubsetRandomSampler(val_indices)\n",
    "\n",
    "sampler = SubsetRandomSampler(train_indices)\n",
    "len(sampler), len(val_sampler)\n"
   ]
  },
  {
   "cell_type": "code",
   "execution_count": 38,
   "id": "59d75b53",
   "metadata": {
    "execution": {
     "iopub.execute_input": "2022-02-06T20:55:25.441192Z",
     "iopub.status.busy": "2022-02-06T20:55:25.440550Z",
     "iopub.status.idle": "2022-02-06T20:55:25.443175Z",
     "shell.execute_reply": "2022-02-06T20:55:25.442725Z",
     "shell.execute_reply.started": "2022-02-06T20:32:49.509262Z"
    },
    "papermill": {
     "duration": 0.082211,
     "end_time": "2022-02-06T20:55:25.443286",
     "exception": false,
     "start_time": "2022-02-06T20:55:25.361075",
     "status": "completed"
    },
    "tags": []
   },
   "outputs": [],
   "source": [
    "train_dl = DataLoader(dataset=train_dataset, shuffle=False, batch_size=64, sampler=sampler)\n",
    "val_dl = DataLoader(dataset=val_dataset, shuffle=False, batch_size=64, sampler=val_sampler)"
   ]
  },
  {
   "cell_type": "code",
   "execution_count": 39,
   "id": "dec8ab04",
   "metadata": {
    "execution": {
     "iopub.execute_input": "2022-02-06T20:55:25.599191Z",
     "iopub.status.busy": "2022-02-06T20:55:25.598565Z",
     "iopub.status.idle": "2022-02-06T20:55:25.601058Z",
     "shell.execute_reply": "2022-02-06T20:55:25.601503Z",
     "shell.execute_reply.started": "2022-02-06T20:32:49.763408Z"
    },
    "papermill": {
     "duration": 0.083265,
     "end_time": "2022-02-06T20:55:25.601622",
     "exception": false,
     "start_time": "2022-02-06T20:55:25.518357",
     "status": "completed"
    },
    "tags": []
   },
   "outputs": [
    {
     "data": {
      "text/plain": [
       "<torch.utils.data.dataloader.DataLoader at 0x7f22d1ca9dd0>"
      ]
     },
     "execution_count": 39,
     "metadata": {},
     "output_type": "execute_result"
    }
   ],
   "source": [
    "val_dl"
   ]
  },
  {
   "cell_type": "code",
   "execution_count": 40,
   "id": "b528164e",
   "metadata": {
    "execution": {
     "iopub.execute_input": "2022-02-06T20:55:25.766871Z",
     "iopub.status.busy": "2022-02-06T20:55:25.764607Z",
     "iopub.status.idle": "2022-02-06T20:55:28.389984Z",
     "shell.execute_reply": "2022-02-06T20:55:28.390704Z",
     "shell.execute_reply.started": "2022-02-06T20:32:49.993714Z"
    },
    "papermill": {
     "duration": 2.714,
     "end_time": "2022-02-06T20:55:28.390928",
     "exception": false,
     "start_time": "2022-02-06T20:55:25.676928",
     "status": "completed"
    },
    "tags": []
   },
   "outputs": [
    {
     "name": "stdout",
     "output_type": "stream",
     "text": [
      "tensor([ 5, 10,  8, 10,  9,  4,  2,  7,  5,  9,  7,  7,  9,  9,  3,  6,  2,  6,\n",
      "         6,  5,  8,  6,  7,  6,  3,  4,  3,  9,  7,  9,  5,  3,  2,  3,  3, 10,\n",
      "         3,  0,  9,  2,  9,  7,  2,  1,  4,  6,  9,  6,  7,  9,  9,  3,  8,  3,\n",
      "         9,  2,  9,  6,  6,  7,  9,  4,  7,  3])\n"
     ]
    }
   ],
   "source": [
    "train_features, train_labels = next(iter(train_dl))\n",
    "print(train_labels)\n"
   ]
  },
  {
   "cell_type": "code",
   "execution_count": 41,
   "id": "6e760a8c",
   "metadata": {
    "execution": {
     "iopub.execute_input": "2022-02-06T20:55:28.550355Z",
     "iopub.status.busy": "2022-02-06T20:55:28.549590Z",
     "iopub.status.idle": "2022-02-06T20:55:30.802012Z",
     "shell.execute_reply": "2022-02-06T20:55:30.802645Z",
     "shell.execute_reply.started": "2022-02-06T20:32:52.996754Z"
    },
    "papermill": {
     "duration": 2.334417,
     "end_time": "2022-02-06T20:55:30.802886",
     "exception": false,
     "start_time": "2022-02-06T20:55:28.468469",
     "status": "completed"
    },
    "tags": []
   },
   "outputs": [
    {
     "name": "stdout",
     "output_type": "stream",
     "text": [
      "tensor([[[[-0.2861, -0.5455, -0.7185,  ..., -1.8859, -1.8715, -1.8859],\n",
      "          [-0.1852, -0.3294, -0.4735,  ..., -1.9003, -1.8715, -1.8715],\n",
      "          [-0.2285, -0.2141, -0.1708,  ..., -1.9003, -1.8715, -1.8715],\n",
      "          ...,\n",
      "          [-1.8571, -1.8426, -1.8282,  ..., -2.2318, -2.2750, -2.2894],\n",
      "          [-1.9291, -1.9291, -1.9291,  ..., -2.2606, -2.3038, -2.3182],\n",
      "          [-2.1741, -2.1885, -2.1741,  ..., -2.2318, -2.2606, -2.2750]],\n",
      "\n",
      "         [[-1.4281, -1.4682, -1.5351,  ..., -2.3510, -2.3510, -2.3644],\n",
      "          [-1.3612, -1.3880, -1.4281,  ..., -2.3510, -2.3510, -2.3510],\n",
      "          [-1.3077, -1.2944, -1.2542,  ..., -2.3510, -2.3510, -2.3510],\n",
      "          ...,\n",
      "          [-2.2039, -2.1905, -2.1771,  ..., -2.1504, -2.1771, -2.2039],\n",
      "          [-2.2172, -2.2172, -2.2172,  ..., -2.1504, -2.1905, -2.2039],\n",
      "          [-2.2440, -2.2574, -2.2440,  ..., -2.1637, -2.1771, -2.2039]],\n",
      "\n",
      "         [[-2.1101, -2.1891, -2.2285,  ..., -2.3206, -2.3206, -2.3338],\n",
      "          [-2.1101, -2.1364, -2.1364,  ..., -2.3338, -2.3206, -2.3206],\n",
      "          [-2.0970, -2.0970, -2.0970,  ..., -2.3338, -2.3206, -2.3206],\n",
      "          ...,\n",
      "          [-2.1759, -2.1628, -2.1496,  ..., -2.3864, -2.3864, -2.4127],\n",
      "          [-2.1759, -2.1759, -2.1759,  ..., -2.3732, -2.3995, -2.4259],\n",
      "          [-2.2680, -2.2812, -2.2680,  ..., -2.3601, -2.3864, -2.3995]]],\n",
      "\n",
      "\n",
      "        [[[ 0.6074,  0.6074,  0.6074,  ...,  0.6074,  0.6074,  0.6074],\n",
      "          [ 0.6074,  0.6074,  0.6074,  ...,  0.6074,  0.6074,  0.6074],\n",
      "          [ 0.6074,  0.6074,  0.6074,  ...,  0.6074,  0.6074,  0.6074],\n",
      "          ...,\n",
      "          [ 0.6074,  0.6074,  0.6074,  ...,  0.6074,  0.6074,  0.6074],\n",
      "          [ 0.6074,  0.6074,  0.6074,  ...,  0.6074,  0.6074,  0.6074],\n",
      "          [ 0.6074,  0.6074,  0.6074,  ...,  0.6074,  0.6074,  0.6074]],\n",
      "\n",
      "         [[ 0.6584,  0.6584,  0.6584,  ...,  0.6584,  0.6584,  0.6584],\n",
      "          [ 0.6584,  0.6584,  0.6584,  ...,  0.6584,  0.6584,  0.6584],\n",
      "          [ 0.6584,  0.6584,  0.6584,  ...,  0.6584,  0.6584,  0.6584],\n",
      "          ...,\n",
      "          [ 0.6584,  0.6584,  0.6584,  ...,  0.6584,  0.6584,  0.6584],\n",
      "          [ 0.6584,  0.6584,  0.6584,  ...,  0.6584,  0.6584,  0.6584],\n",
      "          [ 0.6584,  0.6584,  0.6584,  ...,  0.6584,  0.6584,  0.6584]],\n",
      "\n",
      "         [[ 0.7182,  0.7182,  0.7182,  ...,  0.7182,  0.7182,  0.7182],\n",
      "          [ 0.7182,  0.7182,  0.7182,  ...,  0.7182,  0.7182,  0.7182],\n",
      "          [ 0.7182,  0.7182,  0.7182,  ...,  0.7182,  0.7182,  0.7182],\n",
      "          ...,\n",
      "          [ 0.7182,  0.7182,  0.7182,  ...,  0.7182,  0.7182,  0.7182],\n",
      "          [ 0.7182,  0.7182,  0.7182,  ...,  0.7182,  0.7182,  0.7182],\n",
      "          [ 0.7182,  0.7182,  0.7182,  ...,  0.7182,  0.7182,  0.7182]]],\n",
      "\n",
      "\n",
      "        [[[ 0.5066,  0.5066,  0.5066,  ...,  0.5066,  0.5066,  0.5066],\n",
      "          [ 0.5066,  0.5066,  0.5066,  ...,  0.5066,  0.5066,  0.5066],\n",
      "          [ 0.5066,  0.5066,  0.5066,  ...,  0.5066,  0.5066,  0.5066],\n",
      "          ...,\n",
      "          [ 0.5066,  0.5066,  0.5066,  ...,  0.5066,  0.5066,  0.5066],\n",
      "          [ 0.5066,  0.5066,  0.5066,  ...,  0.5066,  0.5066,  0.5066],\n",
      "          [ 0.5066,  0.5066,  0.5066,  ...,  0.5066,  0.5066,  0.4921]],\n",
      "\n",
      "         [[ 0.5915,  0.5915,  0.5915,  ...,  0.5915,  0.5915,  0.5915],\n",
      "          [ 0.5915,  0.5915,  0.5915,  ...,  0.5915,  0.5915,  0.5915],\n",
      "          [ 0.5915,  0.5915,  0.5915,  ...,  0.5915,  0.5915,  0.5915],\n",
      "          ...,\n",
      "          [ 0.5915,  0.5915,  0.5915,  ...,  0.5915,  0.5915,  0.5915],\n",
      "          [ 0.5915,  0.5915,  0.5915,  ...,  0.5915,  0.5915,  0.5915],\n",
      "          [ 0.5915,  0.5915,  0.5915,  ...,  0.5915,  0.5915,  0.5781]],\n",
      "\n",
      "         [[ 0.6130,  0.6130,  0.6130,  ...,  0.6130,  0.6130,  0.6130],\n",
      "          [ 0.6130,  0.6130,  0.6130,  ...,  0.6130,  0.6130,  0.6130],\n",
      "          [ 0.6130,  0.6130,  0.6130,  ...,  0.6130,  0.6130,  0.6130],\n",
      "          ...,\n",
      "          [ 0.6130,  0.6130,  0.6130,  ...,  0.6130,  0.6130,  0.6130],\n",
      "          [ 0.6130,  0.6130,  0.6130,  ...,  0.6130,  0.6130,  0.6130],\n",
      "          [ 0.6130,  0.6130,  0.6130,  ...,  0.6130,  0.6130,  0.5998]]],\n",
      "\n",
      "\n",
      "        ...,\n",
      "\n",
      "\n",
      "        [[[-0.4447, -0.4447, -0.4447,  ..., -0.3005, -0.3005, -0.3005],\n",
      "          [-0.4447, -0.4447, -0.4447,  ..., -0.2861, -0.2861, -0.2861],\n",
      "          [-0.4447, -0.4447, -0.4447,  ..., -0.2717, -0.2717, -0.2717],\n",
      "          ...,\n",
      "          [-0.7329, -0.7329, -0.7473,  ..., -0.1996, -0.1996, -0.1996],\n",
      "          [-0.7329, -0.7329, -0.7473,  ..., -0.1852, -0.1852, -0.1852],\n",
      "          [-0.7185, -0.7329, -0.7473,  ..., -0.1708, -0.1708, -0.1708]],\n",
      "\n",
      "         [[-0.0104, -0.0104, -0.0104,  ...,  0.0966,  0.0966,  0.0966],\n",
      "          [-0.0104, -0.0104, -0.0104,  ...,  0.1100,  0.1100,  0.1100],\n",
      "          [-0.0104, -0.0104, -0.0104,  ...,  0.1234,  0.1234,  0.1234],\n",
      "          ...,\n",
      "          [-0.1709, -0.1709, -0.1842,  ...,  0.1903,  0.1903,  0.1903],\n",
      "          [-0.1709, -0.1709, -0.1842,  ...,  0.2036,  0.2036,  0.2036],\n",
      "          [-0.1575, -0.1709, -0.1842,  ...,  0.2170,  0.2170,  0.2170]],\n",
      "\n",
      "         [[ 0.0868,  0.0868,  0.0868,  ...,  0.1789,  0.1789,  0.1789],\n",
      "          [ 0.0868,  0.0868,  0.0868,  ...,  0.1920,  0.1920,  0.1920],\n",
      "          [ 0.0868,  0.0868,  0.0868,  ...,  0.2052,  0.2052,  0.2052],\n",
      "          ...,\n",
      "          [-0.0579, -0.0579, -0.0711,  ...,  0.2710,  0.2710,  0.2710],\n",
      "          [-0.0579, -0.0579, -0.0711,  ...,  0.2841,  0.2841,  0.2841],\n",
      "          [-0.0448, -0.0579, -0.0711,  ...,  0.2973,  0.2973,  0.2973]]],\n",
      "\n",
      "\n",
      "        [[[-0.1420, -0.1420, -0.1564,  ..., -0.0699, -0.0699, -0.0699],\n",
      "          [-0.1708, -0.1852, -0.1852,  ..., -0.0555, -0.0699, -0.0699],\n",
      "          [-0.1708, -0.1852, -0.1852,  ..., -0.0555, -0.0699, -0.0843],\n",
      "          ...,\n",
      "          [-0.5311, -0.5311, -0.5311,  ..., -0.0555, -0.0555, -0.0555],\n",
      "          [-0.5311, -0.5311, -0.5311,  ..., -0.0555, -0.0555, -0.0555],\n",
      "          [-0.5311, -0.5311, -0.5311,  ..., -0.0555, -0.0555, -0.0555]],\n",
      "\n",
      "         [[ 0.0030,  0.0030,  0.0030,  ...,  0.0833,  0.0833,  0.0833],\n",
      "          [ 0.0030,  0.0030,  0.0030,  ...,  0.0833,  0.0833,  0.0699],\n",
      "          [-0.0104,  0.0030,  0.0030,  ...,  0.0699,  0.0699,  0.0699],\n",
      "          ...,\n",
      "          [-0.3581, -0.3581, -0.3581,  ...,  0.1234,  0.1234,  0.1234],\n",
      "          [-0.3581, -0.3581, -0.3581,  ...,  0.1234,  0.1234,  0.1234],\n",
      "          [-0.3581, -0.3581, -0.3581,  ...,  0.1234,  0.1234,  0.1234]],\n",
      "\n",
      "         [[ 0.0868,  0.0868,  0.0868,  ...,  0.1657,  0.1526,  0.1394],\n",
      "          [ 0.0736,  0.0736,  0.0736,  ...,  0.1526,  0.1526,  0.1394],\n",
      "          [ 0.0736,  0.0736,  0.0736,  ...,  0.1526,  0.1526,  0.1526],\n",
      "          ...,\n",
      "          [-0.2684, -0.2684, -0.2684,  ...,  0.1920,  0.1920,  0.1920],\n",
      "          [-0.2684, -0.2684, -0.2684,  ...,  0.1920,  0.1920,  0.1920],\n",
      "          [-0.2684, -0.2684, -0.2684,  ...,  0.1920,  0.1920,  0.1920]]],\n",
      "\n",
      "\n",
      "        [[[ 0.4489,  0.4489,  0.4345,  ...,  0.4201,  0.4201,  0.4201],\n",
      "          [ 0.4345,  0.4345,  0.4201,  ...,  0.4345,  0.4345,  0.4345],\n",
      "          [ 0.4345,  0.4345,  0.4345,  ...,  0.4345,  0.4345,  0.4345],\n",
      "          ...,\n",
      "          [ 0.3048,  0.3048,  0.3048,  ...,  0.4489,  0.4489,  0.4489],\n",
      "          [ 0.3048,  0.3048,  0.3048,  ...,  0.4489,  0.4489,  0.4489],\n",
      "          [ 0.3048,  0.3048,  0.3048,  ...,  0.4489,  0.4489,  0.4489]],\n",
      "\n",
      "         [[ 0.5113,  0.5113,  0.5113,  ...,  0.5113,  0.5113,  0.5113],\n",
      "          [ 0.4979,  0.4979,  0.5113,  ...,  0.5113,  0.5113,  0.5113],\n",
      "          [ 0.4979,  0.4979,  0.5113,  ...,  0.4979,  0.4979,  0.4979],\n",
      "          ...,\n",
      "          [ 0.3775,  0.3775,  0.3909,  ...,  0.5380,  0.5380,  0.5380],\n",
      "          [ 0.3775,  0.3775,  0.3909,  ...,  0.5380,  0.5380,  0.5380],\n",
      "          [ 0.3909,  0.3909,  0.3909,  ...,  0.5380,  0.5380,  0.5380]],\n",
      "\n",
      "         [[ 0.5472,  0.5472,  0.5472,  ...,  0.5341,  0.5341,  0.5341],\n",
      "          [ 0.5341,  0.5341,  0.5341,  ...,  0.5341,  0.5341,  0.5341],\n",
      "          [ 0.5341,  0.5341,  0.5341,  ...,  0.5341,  0.5341,  0.5341],\n",
      "          ...,\n",
      "          [ 0.4157,  0.4157,  0.3894,  ...,  0.5604,  0.5604,  0.5604],\n",
      "          [ 0.4025,  0.4025,  0.3894,  ...,  0.5604,  0.5604,  0.5604],\n",
      "          [ 0.3894,  0.3894,  0.3894,  ...,  0.5604,  0.5604,  0.5604]]]])\n"
     ]
    }
   ],
   "source": [
    "for i in val_dl:\n",
    "    images,labels=i\n",
    "    print(images)\n",
    "    break"
   ]
  },
  {
   "cell_type": "code",
   "execution_count": 42,
   "id": "e2298e11",
   "metadata": {
    "execution": {
     "iopub.execute_input": "2022-02-06T20:55:31.022332Z",
     "iopub.status.busy": "2022-02-06T20:55:31.021734Z",
     "iopub.status.idle": "2022-02-06T20:55:31.026983Z",
     "shell.execute_reply": "2022-02-06T20:55:31.026484Z",
     "shell.execute_reply.started": "2022-02-06T20:32:55.359482Z"
    },
    "papermill": {
     "duration": 0.138289,
     "end_time": "2022-02-06T20:55:31.027116",
     "exception": false,
     "start_time": "2022-02-06T20:55:30.888827",
     "status": "completed"
    },
    "tags": []
   },
   "outputs": [
    {
     "data": {
      "text/plain": [
       "True"
      ]
     },
     "execution_count": 42,
     "metadata": {},
     "output_type": "execute_result"
    }
   ],
   "source": [
    "torch.cuda.is_available()"
   ]
  },
  {
   "cell_type": "code",
   "execution_count": 43,
   "id": "a247b6fe",
   "metadata": {
    "execution": {
     "iopub.execute_input": "2022-02-06T20:55:31.189207Z",
     "iopub.status.busy": "2022-02-06T20:55:31.187681Z",
     "iopub.status.idle": "2022-02-06T20:55:31.189859Z",
     "shell.execute_reply": "2022-02-06T20:55:31.190269Z",
     "shell.execute_reply.started": "2022-02-06T20:32:55.411845Z"
    },
    "papermill": {
     "duration": 0.085219,
     "end_time": "2022-02-06T20:55:31.190393",
     "exception": false,
     "start_time": "2022-02-06T20:55:31.105174",
     "status": "completed"
    },
    "tags": []
   },
   "outputs": [],
   "source": [
    "from torchvision.utils import make_grid\n",
    "\n",
    "def show_batch(dl):\n",
    "    for images, labels in dl:\n",
    "        fig, ax = plt.subplots(figsize=(12, 6))\n",
    "        ax.set_xticks([]); ax.set_yticks([])\n",
    "        ax.imshow(make_grid(images, nrow=4).permute(1,2,0))\n",
    "        break"
   ]
  },
  {
   "cell_type": "code",
   "execution_count": 44,
   "id": "593a249e",
   "metadata": {
    "execution": {
     "iopub.execute_input": "2022-02-06T20:55:31.361248Z",
     "iopub.status.busy": "2022-02-06T20:55:31.360453Z",
     "iopub.status.idle": "2022-02-06T20:55:34.568287Z",
     "shell.execute_reply": "2022-02-06T20:55:34.568696Z",
     "shell.execute_reply.started": "2022-02-06T20:32:55.422494Z"
    },
    "papermill": {
     "duration": 3.296494,
     "end_time": "2022-02-06T20:55:34.568876",
     "exception": false,
     "start_time": "2022-02-06T20:55:31.272382",
     "status": "completed"
    },
    "tags": []
   },
   "outputs": [
    {
     "data": {
      "image/png": "[encoded data removed]",
      "text/plain": [
       "<Figure size 864x432 with 1 Axes>"
      ]
     },
     "metadata": {},
     "output_type": "display_data"
    }
   ],
   "source": [
    "show_batch(train_dl)"
   ]
  },
  {
   "cell_type": "code",
   "execution_count": 45,
   "id": "65a1ae87",
   "metadata": {
    "execution": {
     "iopub.execute_input": "2022-02-06T20:55:34.737426Z",
     "iopub.status.busy": "2022-02-06T20:55:34.733620Z",
     "iopub.status.idle": "2022-02-06T20:55:34.739782Z",
     "shell.execute_reply": "2022-02-06T20:55:34.739360Z",
     "shell.execute_reply.started": "2022-02-06T20:32:59.298957Z"
    },
    "papermill": {
     "duration": 0.092052,
     "end_time": "2022-02-06T20:55:34.739913",
     "exception": false,
     "start_time": "2022-02-06T20:55:34.647861",
     "status": "completed"
    },
    "tags": []
   },
   "outputs": [],
   "source": [
    "class ImageClassificationBase(nn.Module):\n",
    " \n",
    "    def training_step(self,batch):\n",
    "        model.train()\n",
    "        images,labels=batch\n",
    "        out=self(images)\n",
    "        loss=F.cross_entropy(out,labels)\n",
    "        acc,mic,mac,bal_acc=accuracy(labels,out)\n",
    "        return loss,acc,mic,mac,bal_acc\n",
    "    \n",
    "   \n",
    "    def validation_step(self,batch):\n",
    "        model.eval()\n",
    "        images,labels=batch\n",
    "        out=self(images)\n",
    "        loss=F.cross_entropy(out,labels)\n",
    "        acc,mic,mac,bal_acc=accuracy(labels,out)\n",
    "        return {'val_loss':loss.detach(),'val_acc':acc,'val_mic':mic,'val_mac':mac,'val_balacc':bal_acc}\n",
    "    \n",
    "    \n",
    "    def validation_epoch_end(self,result):\n",
    "        loss=[x['val_loss'] for x in result]\n",
    "        acc= [x['val_acc'] for x in result]\n",
    "        mic=[x['val_mic'] for x in result]\n",
    "        mac=[x['val_mac'] for x in result]\n",
    "        bal=[x['val_balacc'] for x in result]\n",
    "        l_b=torch.stack(loss).mean()\n",
    "        a_b=torch.stack(acc).mean()\n",
    "        mi_b=torch.stack(mic).mean()\n",
    "        ma_b=torch.stack(mac).mean()\n",
    "        ba_b=torch.stack(bal).mean()\n",
    "        return {'val_loss':l_b.item(), 'val_acc': a_b.item(),'micro_f1':mi_b.item(), 'macro_f1': ma_b.item(),'bal_acc':ba_b.item()}\n",
    "    \n",
    "    def epoch_end(self,epoch,result):\n",
    "        print(\"Epoch [{}], val_loss: {:.4f}, val_acc: {:.4f},val_mic: {:.4f}, val_mac: {:.4f}, bal_acc: {:.4f}\".format(\n",
    "            epoch,result['val_loss'], result['val_acc'],result['micro_f1'], result['macro_f1'],result['bal_acc']))\n",
    "        "
   ]
  },
  {
   "cell_type": "code",
   "execution_count": 46,
   "id": "d08fcca3",
   "metadata": {
    "execution": {
     "iopub.execute_input": "2022-02-06T20:55:34.911237Z",
     "iopub.status.busy": "2022-02-06T20:55:34.910542Z",
     "iopub.status.idle": "2022-02-06T20:55:34.913082Z",
     "shell.execute_reply": "2022-02-06T20:55:34.912653Z",
     "shell.execute_reply.started": "2022-02-06T20:32:59.502418Z"
    },
    "papermill": {
     "duration": 0.094522,
     "end_time": "2022-02-06T20:55:34.913196",
     "exception": false,
     "start_time": "2022-02-06T20:55:34.818674",
     "status": "completed"
    },
    "tags": []
   },
   "outputs": [],
   "source": [
    "class Classifier(ImageClassificationBase):\n",
    "    def __init__(self,model_transfer):\n",
    "        super(Classifier, self).__init__()\n",
    "        self.eff =  model_transfer\n",
    "\n",
    "    def forward(self, input):\n",
    "        x = self.eff(input)\n",
    "        return x\n"
   ]
  },
  {
   "cell_type": "code",
   "execution_count": 47,
   "id": "d14bcc6d",
   "metadata": {
    "execution": {
     "iopub.execute_input": "2022-02-06T20:55:35.073643Z",
     "iopub.status.busy": "2022-02-06T20:55:35.072879Z",
     "iopub.status.idle": "2022-02-06T20:55:37.619271Z",
     "shell.execute_reply": "2022-02-06T20:55:37.619875Z",
     "shell.execute_reply.started": "2022-02-06T20:32:59.698553Z"
    },
    "papermill": {
     "duration": 2.629049,
     "end_time": "2022-02-06T20:55:37.620070",
     "exception": false,
     "start_time": "2022-02-06T20:55:34.991021",
     "status": "completed"
    },
    "tags": []
   },
   "outputs": [
    {
     "name": "stderr",
     "output_type": "stream",
     "text": [
      "Downloading: \"https://github.com/lukemelas/EfficientNet-PyTorch/releases/download/1.0/efficientnet-b2-8bb594d6.pth\" to /root/.cache/torch/hub/checkpoints/efficientnet-b2-8bb594d6.pth\n"
     ]
    },
    {
     "data": {
      "application/vnd.jupyter.widget-view+json": {
       "model_id": "f9b92be8370e41e9bfed3f4faa3499a2",
       "version_major": 2,
       "version_minor": 0
      },
      "text/plain": [
       "  0%|          | 0.00/35.1M [00:00<?, ?B/s]"
      ]
     },
     "metadata": {},
     "output_type": "display_data"
    },
    {
     "name": "stdout",
     "output_type": "stream",
     "text": [
      "Loaded pretrained weights for efficientnet-b2\n"
     ]
    }
   ],
   "source": [
    "model_transfer= EfficientNet.from_pretrained('efficientnet-b2')"
   ]
  },
  {
   "cell_type": "code",
   "execution_count": 48,
   "id": "5aab0207",
   "metadata": {
    "execution": {
     "iopub.execute_input": "2022-02-06T20:55:37.784091Z",
     "iopub.status.busy": "2022-02-06T20:55:37.782557Z",
     "iopub.status.idle": "2022-02-06T20:55:37.786057Z",
     "shell.execute_reply": "2022-02-06T20:55:37.786423Z",
     "shell.execute_reply.started": "2022-02-06T20:33:04.331655Z"
    },
    "papermill": {
     "duration": 0.08569,
     "end_time": "2022-02-06T20:55:37.786552",
     "exception": false,
     "start_time": "2022-02-06T20:55:37.700862",
     "status": "completed"
    },
    "tags": []
   },
   "outputs": [],
   "source": [
    "#model_transfer"
   ]
  },
  {
   "cell_type": "code",
   "execution_count": 49,
   "id": "1f7594d3",
   "metadata": {
    "execution": {
     "iopub.execute_input": "2022-02-06T20:55:37.952841Z",
     "iopub.status.busy": "2022-02-06T20:55:37.952128Z",
     "iopub.status.idle": "2022-02-06T20:55:37.961547Z",
     "shell.execute_reply": "2022-02-06T20:55:37.961083Z",
     "shell.execute_reply.started": "2022-02-06T20:33:05.175403Z"
    },
    "papermill": {
     "duration": 0.095711,
     "end_time": "2022-02-06T20:55:37.961649",
     "exception": false,
     "start_time": "2022-02-06T20:55:37.865938",
     "status": "completed"
    },
    "tags": []
   },
   "outputs": [],
   "source": [
    "for param in model_transfer.parameters():\n",
    "    param.requires_grad = False\n",
    "in_features = model_transfer._fc.in_features\n",
    "model_transfer._fc = nn.Sequential(\n",
    "    nn.BatchNorm1d(num_features=in_features),    \n",
    "    nn.Linear(in_features, 512),\n",
    "    nn.ReLU(),\n",
    "    nn.BatchNorm1d(512),\n",
    "    nn.Linear(512, 128),\n",
    "    nn.ReLU(),\n",
    "    nn.BatchNorm1d(num_features=128),\n",
    "    nn.Dropout(0.4),\n",
    "    nn.Linear(128, 11),\n",
    "    )\n",
    "        \n",
    "for param in model_transfer._fc.parameters():\n",
    "    param.require_grad = True"
   ]
  },
  {
   "cell_type": "code",
   "execution_count": 50,
   "id": "6493f08f",
   "metadata": {
    "execution": {
     "iopub.execute_input": "2022-02-06T20:55:38.124494Z",
     "iopub.status.busy": "2022-02-06T20:55:38.123698Z",
     "iopub.status.idle": "2022-02-06T20:55:38.125999Z",
     "shell.execute_reply": "2022-02-06T20:55:38.125554Z",
     "shell.execute_reply.started": "2022-02-06T20:33:14.724201Z"
    },
    "papermill": {
     "duration": 0.084793,
     "end_time": "2022-02-06T20:55:38.126103",
     "exception": false,
     "start_time": "2022-02-06T20:55:38.041310",
     "status": "completed"
    },
    "tags": []
   },
   "outputs": [],
   "source": [
    "\n",
    "    #print(param)"
   ]
  },
  {
   "cell_type": "code",
   "execution_count": 51,
   "id": "b339a725",
   "metadata": {
    "execution": {
     "iopub.execute_input": "2022-02-06T20:55:38.287118Z",
     "iopub.status.busy": "2022-02-06T20:55:38.286376Z",
     "iopub.status.idle": "2022-02-06T20:55:38.288454Z",
     "shell.execute_reply": "2022-02-06T20:55:38.288885Z",
     "shell.execute_reply.started": "2022-02-06T20:33:14.999957Z"
    },
    "papermill": {
     "duration": 0.084154,
     "end_time": "2022-02-06T20:55:38.289014",
     "exception": false,
     "start_time": "2022-02-06T20:55:38.204860",
     "status": "completed"
    },
    "tags": []
   },
   "outputs": [],
   "source": [
    "model=Classifier(model_transfer)"
   ]
  },
  {
   "cell_type": "code",
   "execution_count": 52,
   "id": "082c0164",
   "metadata": {
    "execution": {
     "iopub.execute_input": "2022-02-06T20:55:38.455644Z",
     "iopub.status.busy": "2022-02-06T20:55:38.455167Z",
     "iopub.status.idle": "2022-02-06T20:55:38.460037Z",
     "shell.execute_reply": "2022-02-06T20:55:38.460424Z",
     "shell.execute_reply.started": "2022-02-06T20:33:15.482749Z"
    },
    "papermill": {
     "duration": 0.092387,
     "end_time": "2022-02-06T20:55:38.460538",
     "exception": false,
     "start_time": "2022-02-06T20:55:38.368151",
     "status": "completed"
    },
    "tags": []
   },
   "outputs": [
    {
     "data": {
      "text/plain": [
       "Classifier(\n",
       "  (eff): EfficientNet(\n",
       "    (_conv_stem): Conv2dStaticSamePadding(\n",
       "      3, 32, kernel_size=(3, 3), stride=(2, 2), bias=False\n",
       "      (static_padding): ZeroPad2d(padding=(0, 1, 0, 1), value=0.0)\n",
       "    )\n",
       "    (_bn0): BatchNorm2d(32, eps=0.001, momentum=0.010000000000000009, affine=True, track_running_stats=True)\n",
       "    (_blocks): ModuleList(\n",
       "      (0): MBConvBlock(\n",
       "        (_depthwise_conv): Conv2dStaticSamePadding(\n",
       "          32, 32, kernel_size=(3, 3), stride=[1, 1], groups=32, bias=False\n",
       "          (static_padding): ZeroPad2d(padding=(1, 1, 1, 1), value=0.0)\n",
       "        )\n",
       "        (_bn1): BatchNorm2d(32, eps=0.001, momentum=0.010000000000000009, affine=True, track_running_stats=True)\n",
       "        (_se_reduce): Conv2dStaticSamePadding(\n",
       "          32, 8, kernel_size=(1, 1), stride=(1, 1)\n",
       "          (static_padding): Identity()\n",
       "        )\n",
       "        (_se_expand): Conv2dStaticSamePadding(\n",
       "          8, 32, kernel_size=(1, 1), stride=(1, 1)\n",
       "          (static_padding): Identity()\n",
       "        )\n",
       "        (_project_conv): Conv2dStaticSamePadding(\n",
       "          32, 16, kernel_size=(1, 1), stride=(1, 1), bias=False\n",
       "          (static_padding): Identity()\n",
       "        )\n",
       "        (_bn2): BatchNorm2d(16, eps=0.001, momentum=0.010000000000000009, affine=True, track_running_stats=True)\n",
       "        (_swish): MemoryEfficientSwish()\n",
       "      )\n",
       "      (1): MBConvBlock(\n",
       "        (_depthwise_conv): Conv2dStaticSamePadding(\n",
       "          16, 16, kernel_size=(3, 3), stride=(1, 1), groups=16, bias=False\n",
       "          (static_padding): ZeroPad2d(padding=(1, 1, 1, 1), value=0.0)\n",
       "        )\n",
       "        (_bn1): BatchNorm2d(16, eps=0.001, momentum=0.010000000000000009, affine=True, track_running_stats=True)\n",
       "        (_se_reduce): Conv2dStaticSamePadding(\n",
       "          16, 4, kernel_size=(1, 1), stride=(1, 1)\n",
       "          (static_padding): Identity()\n",
       "        )\n",
       "        (_se_expand): Conv2dStaticSamePadding(\n",
       "          4, 16, kernel_size=(1, 1), stride=(1, 1)\n",
       "          (static_padding): Identity()\n",
       "        )\n",
       "        (_project_conv): Conv2dStaticSamePadding(\n",
       "          16, 16, kernel_size=(1, 1), stride=(1, 1), bias=False\n",
       "          (static_padding): Identity()\n",
       "        )\n",
       "        (_bn2): BatchNorm2d(16, eps=0.001, momentum=0.010000000000000009, affine=True, track_running_stats=True)\n",
       "        (_swish): MemoryEfficientSwish()\n",
       "      )\n",
       "      (2): MBConvBlock(\n",
       "        (_expand_conv): Conv2dStaticSamePadding(\n",
       "          16, 96, kernel_size=(1, 1), stride=(1, 1), bias=False\n",
       "          (static_padding): Identity()\n",
       "        )\n",
       "        (_bn0): BatchNorm2d(96, eps=0.001, momentum=0.010000000000000009, affine=True, track_running_stats=True)\n",
       "        (_depthwise_conv): Conv2dStaticSamePadding(\n",
       "          96, 96, kernel_size=(3, 3), stride=[2, 2], groups=96, bias=False\n",
       "          (static_padding): ZeroPad2d(padding=(0, 1, 0, 1), value=0.0)\n",
       "        )\n",
       "        (_bn1): BatchNorm2d(96, eps=0.001, momentum=0.010000000000000009, affine=True, track_running_stats=True)\n",
       "        (_se_reduce): Conv2dStaticSamePadding(\n",
       "          96, 4, kernel_size=(1, 1), stride=(1, 1)\n",
       "          (static_padding): Identity()\n",
       "        )\n",
       "        (_se_expand): Conv2dStaticSamePadding(\n",
       "          4, 96, kernel_size=(1, 1), stride=(1, 1)\n",
       "          (static_padding): Identity()\n",
       "        )\n",
       "        (_project_conv): Conv2dStaticSamePadding(\n",
       "          96, 24, kernel_size=(1, 1), stride=(1, 1), bias=False\n",
       "          (static_padding): Identity()\n",
       "        )\n",
       "        (_bn2): BatchNorm2d(24, eps=0.001, momentum=0.010000000000000009, affine=True, track_running_stats=True)\n",
       "        (_swish): MemoryEfficientSwish()\n",
       "      )\n",
       "      (3): MBConvBlock(\n",
       "        (_expand_conv): Conv2dStaticSamePadding(\n",
       "          24, 144, kernel_size=(1, 1), stride=(1, 1), bias=False\n",
       "          (static_padding): Identity()\n",
       "        )\n",
       "        (_bn0): BatchNorm2d(144, eps=0.001, momentum=0.010000000000000009, affine=True, track_running_stats=True)\n",
       "        (_depthwise_conv): Conv2dStaticSamePadding(\n",
       "          144, 144, kernel_size=(3, 3), stride=(1, 1), groups=144, bias=False\n",
       "          (static_padding): ZeroPad2d(padding=(1, 1, 1, 1), value=0.0)\n",
       "        )\n",
       "        (_bn1): BatchNorm2d(144, eps=0.001, momentum=0.010000000000000009, affine=True, track_running_stats=True)\n",
       "        (_se_reduce): Conv2dStaticSamePadding(\n",
       "          144, 6, kernel_size=(1, 1), stride=(1, 1)\n",
       "          (static_padding): Identity()\n",
       "        )\n",
       "        (_se_expand): Conv2dStaticSamePadding(\n",
       "          6, 144, kernel_size=(1, 1), stride=(1, 1)\n",
       "          (static_padding): Identity()\n",
       "        )\n",
       "        (_project_conv): Conv2dStaticSamePadding(\n",
       "          144, 24, kernel_size=(1, 1), stride=(1, 1), bias=False\n",
       "          (static_padding): Identity()\n",
       "        )\n",
       "        (_bn2): BatchNorm2d(24, eps=0.001, momentum=0.010000000000000009, affine=True, track_running_stats=True)\n",
       "        (_swish): MemoryEfficientSwish()\n",
       "      )\n",
       "      (4): MBConvBlock(\n",
       "        (_expand_conv): Conv2dStaticSamePadding(\n",
       "          24, 144, kernel_size=(1, 1), stride=(1, 1), bias=False\n",
       "          (static_padding): Identity()\n",
       "        )\n",
       "        (_bn0): BatchNorm2d(144, eps=0.001, momentum=0.010000000000000009, affine=True, track_running_stats=True)\n",
       "        (_depthwise_conv): Conv2dStaticSamePadding(\n",
       "          144, 144, kernel_size=(3, 3), stride=(1, 1), groups=144, bias=False\n",
       "          (static_padding): ZeroPad2d(padding=(1, 1, 1, 1), value=0.0)\n",
       "        )\n",
       "        (_bn1): BatchNorm2d(144, eps=0.001, momentum=0.010000000000000009, affine=True, track_running_stats=True)\n",
       "        (_se_reduce): Conv2dStaticSamePadding(\n",
       "          144, 6, kernel_size=(1, 1), stride=(1, 1)\n",
       "          (static_padding): Identity()\n",
       "        )\n",
       "        (_se_expand): Conv2dStaticSamePadding(\n",
       "          6, 144, kernel_size=(1, 1), stride=(1, 1)\n",
       "          (static_padding): Identity()\n",
       "        )\n",
       "        (_project_conv): Conv2dStaticSamePadding(\n",
       "          144, 24, kernel_size=(1, 1), stride=(1, 1), bias=False\n",
       "          (static_padding): Identity()\n",
       "        )\n",
       "        (_bn2): BatchNorm2d(24, eps=0.001, momentum=0.010000000000000009, affine=True, track_running_stats=True)\n",
       "        (_swish): MemoryEfficientSwish()\n",
       "      )\n",
       "      (5): MBConvBlock(\n",
       "        (_expand_conv): Conv2dStaticSamePadding(\n",
       "          24, 144, kernel_size=(1, 1), stride=(1, 1), bias=False\n",
       "          (static_padding): Identity()\n",
       "        )\n",
       "        (_bn0): BatchNorm2d(144, eps=0.001, momentum=0.010000000000000009, affine=True, track_running_stats=True)\n",
       "        (_depthwise_conv): Conv2dStaticSamePadding(\n",
       "          144, 144, kernel_size=(5, 5), stride=[2, 2], groups=144, bias=False\n",
       "          (static_padding): ZeroPad2d(padding=(2, 2, 2, 2), value=0.0)\n",
       "        )\n",
       "        (_bn1): BatchNorm2d(144, eps=0.001, momentum=0.010000000000000009, affine=True, track_running_stats=True)\n",
       "        (_se_reduce): Conv2dStaticSamePadding(\n",
       "          144, 6, kernel_size=(1, 1), stride=(1, 1)\n",
       "          (static_padding): Identity()\n",
       "        )\n",
       "        (_se_expand): Conv2dStaticSamePadding(\n",
       "          6, 144, kernel_size=(1, 1), stride=(1, 1)\n",
       "          (static_padding): Identity()\n",
       "        )\n",
       "        (_project_conv): Conv2dStaticSamePadding(\n",
       "          144, 48, kernel_size=(1, 1), stride=(1, 1), bias=False\n",
       "          (static_padding): Identity()\n",
       "        )\n",
       "        (_bn2): BatchNorm2d(48, eps=0.001, momentum=0.010000000000000009, affine=True, track_running_stats=True)\n",
       "        (_swish): MemoryEfficientSwish()\n",
       "      )\n",
       "      (6): MBConvBlock(\n",
       "        (_expand_conv): Conv2dStaticSamePadding(\n",
       "          48, 288, kernel_size=(1, 1), stride=(1, 1), bias=False\n",
       "          (static_padding): Identity()\n",
       "        )\n",
       "        (_bn0): BatchNorm2d(288, eps=0.001, momentum=0.010000000000000009, affine=True, track_running_stats=True)\n",
       "        (_depthwise_conv): Conv2dStaticSamePadding(\n",
       "          288, 288, kernel_size=(5, 5), stride=(1, 1), groups=288, bias=False\n",
       "          (static_padding): ZeroPad2d(padding=(2, 2, 2, 2), value=0.0)\n",
       "        )\n",
       "        (_bn1): BatchNorm2d(288, eps=0.001, momentum=0.010000000000000009, affine=True, track_running_stats=True)\n",
       "        (_se_reduce): Conv2dStaticSamePadding(\n",
       "          288, 12, kernel_size=(1, 1), stride=(1, 1)\n",
       "          (static_padding): Identity()\n",
       "        )\n",
       "        (_se_expand): Conv2dStaticSamePadding(\n",
       "          12, 288, kernel_size=(1, 1), stride=(1, 1)\n",
       "          (static_padding): Identity()\n",
       "        )\n",
       "        (_project_conv): Conv2dStaticSamePadding(\n",
       "          288, 48, kernel_size=(1, 1), stride=(1, 1), bias=False\n",
       "          (static_padding): Identity()\n",
       "        )\n",
       "        (_bn2): BatchNorm2d(48, eps=0.001, momentum=0.010000000000000009, affine=True, track_running_stats=True)\n",
       "        (_swish): MemoryEfficientSwish()\n",
       "      )\n",
       "      (7): MBConvBlock(\n",
       "        (_expand_conv): Conv2dStaticSamePadding(\n",
       "          48, 288, kernel_size=(1, 1), stride=(1, 1), bias=False\n",
       "          (static_padding): Identity()\n",
       "        )\n",
       "        (_bn0): BatchNorm2d(288, eps=0.001, momentum=0.010000000000000009, affine=True, track_running_stats=True)\n",
       "        (_depthwise_conv): Conv2dStaticSamePadding(\n",
       "          288, 288, kernel_size=(5, 5), stride=(1, 1), groups=288, bias=False\n",
       "          (static_padding): ZeroPad2d(padding=(2, 2, 2, 2), value=0.0)\n",
       "        )\n",
       "        (_bn1): BatchNorm2d(288, eps=0.001, momentum=0.010000000000000009, affine=True, track_running_stats=True)\n",
       "        (_se_reduce): Conv2dStaticSamePadding(\n",
       "          288, 12, kernel_size=(1, 1), stride=(1, 1)\n",
       "          (static_padding): Identity()\n",
       "        )\n",
       "        (_se_expand): Conv2dStaticSamePadding(\n",
       "          12, 288, kernel_size=(1, 1), stride=(1, 1)\n",
       "          (static_padding): Identity()\n",
       "        )\n",
       "        (_project_conv): Conv2dStaticSamePadding(\n",
       "          288, 48, kernel_size=(1, 1), stride=(1, 1), bias=False\n",
       "          (static_padding): Identity()\n",
       "        )\n",
       "        (_bn2): BatchNorm2d(48, eps=0.001, momentum=0.010000000000000009, affine=True, track_running_stats=True)\n",
       "        (_swish): MemoryEfficientSwish()\n",
       "      )\n",
       "      (8): MBConvBlock(\n",
       "        (_expand_conv): Conv2dStaticSamePadding(\n",
       "          48, 288, kernel_size=(1, 1), stride=(1, 1), bias=False\n",
       "          (static_padding): Identity()\n",
       "        )\n",
       "        (_bn0): BatchNorm2d(288, eps=0.001, momentum=0.010000000000000009, affine=True, track_running_stats=True)\n",
       "        (_depthwise_conv): Conv2dStaticSamePadding(\n",
       "          288, 288, kernel_size=(3, 3), stride=[2, 2], groups=288, bias=False\n",
       "          (static_padding): ZeroPad2d(padding=(1, 1, 1, 1), value=0.0)\n",
       "        )\n",
       "        (_bn1): BatchNorm2d(288, eps=0.001, momentum=0.010000000000000009, affine=True, track_running_stats=True)\n",
       "        (_se_reduce): Conv2dStaticSamePadding(\n",
       "          288, 12, kernel_size=(1, 1), stride=(1, 1)\n",
       "          (static_padding): Identity()\n",
       "        )\n",
       "        (_se_expand): Conv2dStaticSamePadding(\n",
       "          12, 288, kernel_size=(1, 1), stride=(1, 1)\n",
       "          (static_padding): Identity()\n",
       "        )\n",
       "        (_project_conv): Conv2dStaticSamePadding(\n",
       "          288, 88, kernel_size=(1, 1), stride=(1, 1), bias=False\n",
       "          (static_padding): Identity()\n",
       "        )\n",
       "        (_bn2): BatchNorm2d(88, eps=0.001, momentum=0.010000000000000009, affine=True, track_running_stats=True)\n",
       "        (_swish): MemoryEfficientSwish()\n",
       "      )\n",
       "      (9): MBConvBlock(\n",
       "        (_expand_conv): Conv2dStaticSamePadding(\n",
       "          88, 528, kernel_size=(1, 1), stride=(1, 1), bias=False\n",
       "          (static_padding): Identity()\n",
       "        )\n",
       "        (_bn0): BatchNorm2d(528, eps=0.001, momentum=0.010000000000000009, affine=True, track_running_stats=True)\n",
       "        (_depthwise_conv): Conv2dStaticSamePadding(\n",
       "          528, 528, kernel_size=(3, 3), stride=(1, 1), groups=528, bias=False\n",
       "          (static_padding): ZeroPad2d(padding=(1, 1, 1, 1), value=0.0)\n",
       "        )\n",
       "        (_bn1): BatchNorm2d(528, eps=0.001, momentum=0.010000000000000009, affine=True, track_running_stats=True)\n",
       "        (_se_reduce): Conv2dStaticSamePadding(\n",
       "          528, 22, kernel_size=(1, 1), stride=(1, 1)\n",
       "          (static_padding): Identity()\n",
       "        )\n",
       "        (_se_expand): Conv2dStaticSamePadding(\n",
       "          22, 528, kernel_size=(1, 1), stride=(1, 1)\n",
       "          (static_padding): Identity()\n",
       "        )\n",
       "        (_project_conv): Conv2dStaticSamePadding(\n",
       "          528, 88, kernel_size=(1, 1), stride=(1, 1), bias=False\n",
       "          (static_padding): Identity()\n",
       "        )\n",
       "        (_bn2): BatchNorm2d(88, eps=0.001, momentum=0.010000000000000009, affine=True, track_running_stats=True)\n",
       "        (_swish): MemoryEfficientSwish()\n",
       "      )\n",
       "      (10): MBConvBlock(\n",
       "        (_expand_conv): Conv2dStaticSamePadding(\n",
       "          88, 528, kernel_size=(1, 1), stride=(1, 1), bias=False\n",
       "          (static_padding): Identity()\n",
       "        )\n",
       "        (_bn0): BatchNorm2d(528, eps=0.001, momentum=0.010000000000000009, affine=True, track_running_stats=True)\n",
       "        (_depthwise_conv): Conv2dStaticSamePadding(\n",
       "          528, 528, kernel_size=(3, 3), stride=(1, 1), groups=528, bias=False\n",
       "          (static_padding): ZeroPad2d(padding=(1, 1, 1, 1), value=0.0)\n",
       "        )\n",
       "        (_bn1): BatchNorm2d(528, eps=0.001, momentum=0.010000000000000009, affine=True, track_running_stats=True)\n",
       "        (_se_reduce): Conv2dStaticSamePadding(\n",
       "          528, 22, kernel_size=(1, 1), stride=(1, 1)\n",
       "          (static_padding): Identity()\n",
       "        )\n",
       "        (_se_expand): Conv2dStaticSamePadding(\n",
       "          22, 528, kernel_size=(1, 1), stride=(1, 1)\n",
       "          (static_padding): Identity()\n",
       "        )\n",
       "        (_project_conv): Conv2dStaticSamePadding(\n",
       "          528, 88, kernel_size=(1, 1), stride=(1, 1), bias=False\n",
       "          (static_padding): Identity()\n",
       "        )\n",
       "        (_bn2): BatchNorm2d(88, eps=0.001, momentum=0.010000000000000009, affine=True, track_running_stats=True)\n",
       "        (_swish): MemoryEfficientSwish()\n",
       "      )\n",
       "      (11): MBConvBlock(\n",
       "        (_expand_conv): Conv2dStaticSamePadding(\n",
       "          88, 528, kernel_size=(1, 1), stride=(1, 1), bias=False\n",
       "          (static_padding): Identity()\n",
       "        )\n",
       "        (_bn0): BatchNorm2d(528, eps=0.001, momentum=0.010000000000000009, affine=True, track_running_stats=True)\n",
       "        (_depthwise_conv): Conv2dStaticSamePadding(\n",
       "          528, 528, kernel_size=(3, 3), stride=(1, 1), groups=528, bias=False\n",
       "          (static_padding): ZeroPad2d(padding=(1, 1, 1, 1), value=0.0)\n",
       "        )\n",
       "        (_bn1): BatchNorm2d(528, eps=0.001, momentum=0.010000000000000009, affine=True, track_running_stats=True)\n",
       "        (_se_reduce): Conv2dStaticSamePadding(\n",
       "          528, 22, kernel_size=(1, 1), stride=(1, 1)\n",
       "          (static_padding): Identity()\n",
       "        )\n",
       "        (_se_expand): Conv2dStaticSamePadding(\n",
       "          22, 528, kernel_size=(1, 1), stride=(1, 1)\n",
       "          (static_padding): Identity()\n",
       "        )\n",
       "        (_project_conv): Conv2dStaticSamePadding(\n",
       "          528, 88, kernel_size=(1, 1), stride=(1, 1), bias=False\n",
       "          (static_padding): Identity()\n",
       "        )\n",
       "        (_bn2): BatchNorm2d(88, eps=0.001, momentum=0.010000000000000009, affine=True, track_running_stats=True)\n",
       "        (_swish): MemoryEfficientSwish()\n",
       "      )\n",
       "      (12): MBConvBlock(\n",
       "        (_expand_conv): Conv2dStaticSamePadding(\n",
       "          88, 528, kernel_size=(1, 1), stride=(1, 1), bias=False\n",
       "          (static_padding): Identity()\n",
       "        )\n",
       "        (_bn0): BatchNorm2d(528, eps=0.001, momentum=0.010000000000000009, affine=True, track_running_stats=True)\n",
       "        (_depthwise_conv): Conv2dStaticSamePadding(\n",
       "          528, 528, kernel_size=(5, 5), stride=[1, 1], groups=528, bias=False\n",
       "          (static_padding): ZeroPad2d(padding=(2, 2, 2, 2), value=0.0)\n",
       "        )\n",
       "        (_bn1): BatchNorm2d(528, eps=0.001, momentum=0.010000000000000009, affine=True, track_running_stats=True)\n",
       "        (_se_reduce): Conv2dStaticSamePadding(\n",
       "          528, 22, kernel_size=(1, 1), stride=(1, 1)\n",
       "          (static_padding): Identity()\n",
       "        )\n",
       "        (_se_expand): Conv2dStaticSamePadding(\n",
       "          22, 528, kernel_size=(1, 1), stride=(1, 1)\n",
       "          (static_padding): Identity()\n",
       "        )\n",
       "        (_project_conv): Conv2dStaticSamePadding(\n",
       "          528, 120, kernel_size=(1, 1), stride=(1, 1), bias=False\n",
       "          (static_padding): Identity()\n",
       "        )\n",
       "        (_bn2): BatchNorm2d(120, eps=0.001, momentum=0.010000000000000009, affine=True, track_running_stats=True)\n",
       "        (_swish): MemoryEfficientSwish()\n",
       "      )\n",
       "      (13): MBConvBlock(\n",
       "        (_expand_conv): Conv2dStaticSamePadding(\n",
       "          120, 720, kernel_size=(1, 1), stride=(1, 1), bias=False\n",
       "          (static_padding): Identity()\n",
       "        )\n",
       "        (_bn0): BatchNorm2d(720, eps=0.001, momentum=0.010000000000000009, affine=True, track_running_stats=True)\n",
       "        (_depthwise_conv): Conv2dStaticSamePadding(\n",
       "          720, 720, kernel_size=(5, 5), stride=(1, 1), groups=720, bias=False\n",
       "          (static_padding): ZeroPad2d(padding=(2, 2, 2, 2), value=0.0)\n",
       "        )\n",
       "        (_bn1): BatchNorm2d(720, eps=0.001, momentum=0.010000000000000009, affine=True, track_running_stats=True)\n",
       "        (_se_reduce): Conv2dStaticSamePadding(\n",
       "          720, 30, kernel_size=(1, 1), stride=(1, 1)\n",
       "          (static_padding): Identity()\n",
       "        )\n",
       "        (_se_expand): Conv2dStaticSamePadding(\n",
       "          30, 720, kernel_size=(1, 1), stride=(1, 1)\n",
       "          (static_padding): Identity()\n",
       "        )\n",
       "        (_project_conv): Conv2dStaticSamePadding(\n",
       "          720, 120, kernel_size=(1, 1), stride=(1, 1), bias=False\n",
       "          (static_padding): Identity()\n",
       "        )\n",
       "        (_bn2): BatchNorm2d(120, eps=0.001, momentum=0.010000000000000009, affine=True, track_running_stats=True)\n",
       "        (_swish): MemoryEfficientSwish()\n",
       "      )\n",
       "      (14): MBConvBlock(\n",
       "        (_expand_conv): Conv2dStaticSamePadding(\n",
       "          120, 720, kernel_size=(1, 1), stride=(1, 1), bias=False\n",
       "          (static_padding): Identity()\n",
       "        )\n",
       "        (_bn0): BatchNorm2d(720, eps=0.001, momentum=0.010000000000000009, affine=True, track_running_stats=True)\n",
       "        (_depthwise_conv): Conv2dStaticSamePadding(\n",
       "          720, 720, kernel_size=(5, 5), stride=(1, 1), groups=720, bias=False\n",
       "          (static_padding): ZeroPad2d(padding=(2, 2, 2, 2), value=0.0)\n",
       "        )\n",
       "        (_bn1): BatchNorm2d(720, eps=0.001, momentum=0.010000000000000009, affine=True, track_running_stats=True)\n",
       "        (_se_reduce): Conv2dStaticSamePadding(\n",
       "          720, 30, kernel_size=(1, 1), stride=(1, 1)\n",
       "          (static_padding): Identity()\n",
       "        )\n",
       "        (_se_expand): Conv2dStaticSamePadding(\n",
       "          30, 720, kernel_size=(1, 1), stride=(1, 1)\n",
       "          (static_padding): Identity()\n",
       "        )\n",
       "        (_project_conv): Conv2dStaticSamePadding(\n",
       "          720, 120, kernel_size=(1, 1), stride=(1, 1), bias=False\n",
       "          (static_padding): Identity()\n",
       "        )\n",
       "        (_bn2): BatchNorm2d(120, eps=0.001, momentum=0.010000000000000009, affine=True, track_running_stats=True)\n",
       "        (_swish): MemoryEfficientSwish()\n",
       "      )\n",
       "      (15): MBConvBlock(\n",
       "        (_expand_conv): Conv2dStaticSamePadding(\n",
       "          120, 720, kernel_size=(1, 1), stride=(1, 1), bias=False\n",
       "          (static_padding): Identity()\n",
       "        )\n",
       "        (_bn0): BatchNorm2d(720, eps=0.001, momentum=0.010000000000000009, affine=True, track_running_stats=True)\n",
       "        (_depthwise_conv): Conv2dStaticSamePadding(\n",
       "          720, 720, kernel_size=(5, 5), stride=(1, 1), groups=720, bias=False\n",
       "          (static_padding): ZeroPad2d(padding=(2, 2, 2, 2), value=0.0)\n",
       "        )\n",
       "        (_bn1): BatchNorm2d(720, eps=0.001, momentum=0.010000000000000009, affine=True, track_running_stats=True)\n",
       "        (_se_reduce): Conv2dStaticSamePadding(\n",
       "          720, 30, kernel_size=(1, 1), stride=(1, 1)\n",
       "          (static_padding): Identity()\n",
       "        )\n",
       "        (_se_expand): Conv2dStaticSamePadding(\n",
       "          30, 720, kernel_size=(1, 1), stride=(1, 1)\n",
       "          (static_padding): Identity()\n",
       "        )\n",
       "        (_project_conv): Conv2dStaticSamePadding(\n",
       "          720, 120, kernel_size=(1, 1), stride=(1, 1), bias=False\n",
       "          (static_padding): Identity()\n",
       "        )\n",
       "        (_bn2): BatchNorm2d(120, eps=0.001, momentum=0.010000000000000009, affine=True, track_running_stats=True)\n",
       "        (_swish): MemoryEfficientSwish()\n",
       "      )\n",
       "      (16): MBConvBlock(\n",
       "        (_expand_conv): Conv2dStaticSamePadding(\n",
       "          120, 720, kernel_size=(1, 1), stride=(1, 1), bias=False\n",
       "          (static_padding): Identity()\n",
       "        )\n",
       "        (_bn0): BatchNorm2d(720, eps=0.001, momentum=0.010000000000000009, affine=True, track_running_stats=True)\n",
       "        (_depthwise_conv): Conv2dStaticSamePadding(\n",
       "          720, 720, kernel_size=(5, 5), stride=[2, 2], groups=720, bias=False\n",
       "          (static_padding): ZeroPad2d(padding=(2, 2, 2, 2), value=0.0)\n",
       "        )\n",
       "        (_bn1): BatchNorm2d(720, eps=0.001, momentum=0.010000000000000009, affine=True, track_running_stats=True)\n",
       "        (_se_reduce): Conv2dStaticSamePadding(\n",
       "          720, 30, kernel_size=(1, 1), stride=(1, 1)\n",
       "          (static_padding): Identity()\n",
       "        )\n",
       "        (_se_expand): Conv2dStaticSamePadding(\n",
       "          30, 720, kernel_size=(1, 1), stride=(1, 1)\n",
       "          (static_padding): Identity()\n",
       "        )\n",
       "        (_project_conv): Conv2dStaticSamePadding(\n",
       "          720, 208, kernel_size=(1, 1), stride=(1, 1), bias=False\n",
       "          (static_padding): Identity()\n",
       "        )\n",
       "        (_bn2): BatchNorm2d(208, eps=0.001, momentum=0.010000000000000009, affine=True, track_running_stats=True)\n",
       "        (_swish): MemoryEfficientSwish()\n",
       "      )\n",
       "      (17): MBConvBlock(\n",
       "        (_expand_conv): Conv2dStaticSamePadding(\n",
       "          208, 1248, kernel_size=(1, 1), stride=(1, 1), bias=False\n",
       "          (static_padding): Identity()\n",
       "        )\n",
       "        (_bn0): BatchNorm2d(1248, eps=0.001, momentum=0.010000000000000009, affine=True, track_running_stats=True)\n",
       "        (_depthwise_conv): Conv2dStaticSamePadding(\n",
       "          1248, 1248, kernel_size=(5, 5), stride=(1, 1), groups=1248, bias=False\n",
       "          (static_padding): ZeroPad2d(padding=(2, 2, 2, 2), value=0.0)\n",
       "        )\n",
       "        (_bn1): BatchNorm2d(1248, eps=0.001, momentum=0.010000000000000009, affine=True, track_running_stats=True)\n",
       "        (_se_reduce): Conv2dStaticSamePadding(\n",
       "          1248, 52, kernel_size=(1, 1), stride=(1, 1)\n",
       "          (static_padding): Identity()\n",
       "        )\n",
       "        (_se_expand): Conv2dStaticSamePadding(\n",
       "          52, 1248, kernel_size=(1, 1), stride=(1, 1)\n",
       "          (static_padding): Identity()\n",
       "        )\n",
       "        (_project_conv): Conv2dStaticSamePadding(\n",
       "          1248, 208, kernel_size=(1, 1), stride=(1, 1), bias=False\n",
       "          (static_padding): Identity()\n",
       "        )\n",
       "        (_bn2): BatchNorm2d(208, eps=0.001, momentum=0.010000000000000009, affine=True, track_running_stats=True)\n",
       "        (_swish): MemoryEfficientSwish()\n",
       "      )\n",
       "      (18): MBConvBlock(\n",
       "        (_expand_conv): Conv2dStaticSamePadding(\n",
       "          208, 1248, kernel_size=(1, 1), stride=(1, 1), bias=False\n",
       "          (static_padding): Identity()\n",
       "        )\n",
       "        (_bn0): BatchNorm2d(1248, eps=0.001, momentum=0.010000000000000009, affine=True, track_running_stats=True)\n",
       "        (_depthwise_conv): Conv2dStaticSamePadding(\n",
       "          1248, 1248, kernel_size=(5, 5), stride=(1, 1), groups=1248, bias=False\n",
       "          (static_padding): ZeroPad2d(padding=(2, 2, 2, 2), value=0.0)\n",
       "        )\n",
       "        (_bn1): BatchNorm2d(1248, eps=0.001, momentum=0.010000000000000009, affine=True, track_running_stats=True)\n",
       "        (_se_reduce): Conv2dStaticSamePadding(\n",
       "          1248, 52, kernel_size=(1, 1), stride=(1, 1)\n",
       "          (static_padding): Identity()\n",
       "        )\n",
       "        (_se_expand): Conv2dStaticSamePadding(\n",
       "          52, 1248, kernel_size=(1, 1), stride=(1, 1)\n",
       "          (static_padding): Identity()\n",
       "        )\n",
       "        (_project_conv): Conv2dStaticSamePadding(\n",
       "          1248, 208, kernel_size=(1, 1), stride=(1, 1), bias=False\n",
       "          (static_padding): Identity()\n",
       "        )\n",
       "        (_bn2): BatchNorm2d(208, eps=0.001, momentum=0.010000000000000009, affine=True, track_running_stats=True)\n",
       "        (_swish): MemoryEfficientSwish()\n",
       "      )\n",
       "      (19): MBConvBlock(\n",
       "        (_expand_conv): Conv2dStaticSamePadding(\n",
       "          208, 1248, kernel_size=(1, 1), stride=(1, 1), bias=False\n",
       "          (static_padding): Identity()\n",
       "        )\n",
       "        (_bn0): BatchNorm2d(1248, eps=0.001, momentum=0.010000000000000009, affine=True, track_running_stats=True)\n",
       "        (_depthwise_conv): Conv2dStaticSamePadding(\n",
       "          1248, 1248, kernel_size=(5, 5), stride=(1, 1), groups=1248, bias=False\n",
       "          (static_padding): ZeroPad2d(padding=(2, 2, 2, 2), value=0.0)\n",
       "        )\n",
       "        (_bn1): BatchNorm2d(1248, eps=0.001, momentum=0.010000000000000009, affine=True, track_running_stats=True)\n",
       "        (_se_reduce): Conv2dStaticSamePadding(\n",
       "          1248, 52, kernel_size=(1, 1), stride=(1, 1)\n",
       "          (static_padding): Identity()\n",
       "        )\n",
       "        (_se_expand): Conv2dStaticSamePadding(\n",
       "          52, 1248, kernel_size=(1, 1), stride=(1, 1)\n",
       "          (static_padding): Identity()\n",
       "        )\n",
       "        (_project_conv): Conv2dStaticSamePadding(\n",
       "          1248, 208, kernel_size=(1, 1), stride=(1, 1), bias=False\n",
       "          (static_padding): Identity()\n",
       "        )\n",
       "        (_bn2): BatchNorm2d(208, eps=0.001, momentum=0.010000000000000009, affine=True, track_running_stats=True)\n",
       "        (_swish): MemoryEfficientSwish()\n",
       "      )\n",
       "      (20): MBConvBlock(\n",
       "        (_expand_conv): Conv2dStaticSamePadding(\n",
       "          208, 1248, kernel_size=(1, 1), stride=(1, 1), bias=False\n",
       "          (static_padding): Identity()\n",
       "        )\n",
       "        (_bn0): BatchNorm2d(1248, eps=0.001, momentum=0.010000000000000009, affine=True, track_running_stats=True)\n",
       "        (_depthwise_conv): Conv2dStaticSamePadding(\n",
       "          1248, 1248, kernel_size=(5, 5), stride=(1, 1), groups=1248, bias=False\n",
       "          (static_padding): ZeroPad2d(padding=(2, 2, 2, 2), value=0.0)\n",
       "        )\n",
       "        (_bn1): BatchNorm2d(1248, eps=0.001, momentum=0.010000000000000009, affine=True, track_running_stats=True)\n",
       "        (_se_reduce): Conv2dStaticSamePadding(\n",
       "          1248, 52, kernel_size=(1, 1), stride=(1, 1)\n",
       "          (static_padding): Identity()\n",
       "        )\n",
       "        (_se_expand): Conv2dStaticSamePadding(\n",
       "          52, 1248, kernel_size=(1, 1), stride=(1, 1)\n",
       "          (static_padding): Identity()\n",
       "        )\n",
       "        (_project_conv): Conv2dStaticSamePadding(\n",
       "          1248, 208, kernel_size=(1, 1), stride=(1, 1), bias=False\n",
       "          (static_padding): Identity()\n",
       "        )\n",
       "        (_bn2): BatchNorm2d(208, eps=0.001, momentum=0.010000000000000009, affine=True, track_running_stats=True)\n",
       "        (_swish): MemoryEfficientSwish()\n",
       "      )\n",
       "      (21): MBConvBlock(\n",
       "        (_expand_conv): Conv2dStaticSamePadding(\n",
       "          208, 1248, kernel_size=(1, 1), stride=(1, 1), bias=False\n",
       "          (static_padding): Identity()\n",
       "        )\n",
       "        (_bn0): BatchNorm2d(1248, eps=0.001, momentum=0.010000000000000009, affine=True, track_running_stats=True)\n",
       "        (_depthwise_conv): Conv2dStaticSamePadding(\n",
       "          1248, 1248, kernel_size=(3, 3), stride=[1, 1], groups=1248, bias=False\n",
       "          (static_padding): ZeroPad2d(padding=(1, 1, 1, 1), value=0.0)\n",
       "        )\n",
       "        (_bn1): BatchNorm2d(1248, eps=0.001, momentum=0.010000000000000009, affine=True, track_running_stats=True)\n",
       "        (_se_reduce): Conv2dStaticSamePadding(\n",
       "          1248, 52, kernel_size=(1, 1), stride=(1, 1)\n",
       "          (static_padding): Identity()\n",
       "        )\n",
       "        (_se_expand): Conv2dStaticSamePadding(\n",
       "          52, 1248, kernel_size=(1, 1), stride=(1, 1)\n",
       "          (static_padding): Identity()\n",
       "        )\n",
       "        (_project_conv): Conv2dStaticSamePadding(\n",
       "          1248, 352, kernel_size=(1, 1), stride=(1, 1), bias=False\n",
       "          (static_padding): Identity()\n",
       "        )\n",
       "        (_bn2): BatchNorm2d(352, eps=0.001, momentum=0.010000000000000009, affine=True, track_running_stats=True)\n",
       "        (_swish): MemoryEfficientSwish()\n",
       "      )\n",
       "      (22): MBConvBlock(\n",
       "        (_expand_conv): Conv2dStaticSamePadding(\n",
       "          352, 2112, kernel_size=(1, 1), stride=(1, 1), bias=False\n",
       "          (static_padding): Identity()\n",
       "        )\n",
       "        (_bn0): BatchNorm2d(2112, eps=0.001, momentum=0.010000000000000009, affine=True, track_running_stats=True)\n",
       "        (_depthwise_conv): Conv2dStaticSamePadding(\n",
       "          2112, 2112, kernel_size=(3, 3), stride=(1, 1), groups=2112, bias=False\n",
       "          (static_padding): ZeroPad2d(padding=(1, 1, 1, 1), value=0.0)\n",
       "        )\n",
       "        (_bn1): BatchNorm2d(2112, eps=0.001, momentum=0.010000000000000009, affine=True, track_running_stats=True)\n",
       "        (_se_reduce): Conv2dStaticSamePadding(\n",
       "          2112, 88, kernel_size=(1, 1), stride=(1, 1)\n",
       "          (static_padding): Identity()\n",
       "        )\n",
       "        (_se_expand): Conv2dStaticSamePadding(\n",
       "          88, 2112, kernel_size=(1, 1), stride=(1, 1)\n",
       "          (static_padding): Identity()\n",
       "        )\n",
       "        (_project_conv): Conv2dStaticSamePadding(\n",
       "          2112, 352, kernel_size=(1, 1), stride=(1, 1), bias=False\n",
       "          (static_padding): Identity()\n",
       "        )\n",
       "        (_bn2): BatchNorm2d(352, eps=0.001, momentum=0.010000000000000009, affine=True, track_running_stats=True)\n",
       "        (_swish): MemoryEfficientSwish()\n",
       "      )\n",
       "    )\n",
       "    (_conv_head): Conv2dStaticSamePadding(\n",
       "      352, 1408, kernel_size=(1, 1), stride=(1, 1), bias=False\n",
       "      (static_padding): Identity()\n",
       "    )\n",
       "    (_bn1): BatchNorm2d(1408, eps=0.001, momentum=0.010000000000000009, affine=True, track_running_stats=True)\n",
       "    (_avg_pooling): AdaptiveAvgPool2d(output_size=1)\n",
       "    (_dropout): Dropout(p=0.3, inplace=False)\n",
       "    (_fc): Sequential(\n",
       "      (0): BatchNorm1d(1408, eps=1e-05, momentum=0.1, affine=True, track_running_stats=True)\n",
       "      (1): Linear(in_features=1408, out_features=512, bias=True)\n",
       "      (2): ReLU()\n",
       "      (3): BatchNorm1d(512, eps=1e-05, momentum=0.1, affine=True, track_running_stats=True)\n",
       "      (4): Linear(in_features=512, out_features=128, bias=True)\n",
       "      (5): ReLU()\n",
       "      (6): BatchNorm1d(128, eps=1e-05, momentum=0.1, affine=True, track_running_stats=True)\n",
       "      (7): Dropout(p=0.4, inplace=False)\n",
       "      (8): Linear(in_features=128, out_features=11, bias=True)\n",
       "    )\n",
       "    (_swish): MemoryEfficientSwish()\n",
       "  )\n",
       ")"
      ]
     },
     "execution_count": 52,
     "metadata": {},
     "output_type": "execute_result"
    }
   ],
   "source": [
    "model"
   ]
  },
  {
   "cell_type": "code",
   "execution_count": null,
   "id": "acd04db7",
   "metadata": {
    "papermill": {
     "duration": 0.080238,
     "end_time": "2022-02-06T20:55:38.620421",
     "exception": false,
     "start_time": "2022-02-06T20:55:38.540183",
     "status": "completed"
    },
    "tags": []
   },
   "outputs": [],
   "source": []
  },
  {
   "cell_type": "code",
   "execution_count": 53,
   "id": "25721d24",
   "metadata": {
    "execution": {
     "iopub.execute_input": "2022-02-06T20:55:38.787909Z",
     "iopub.status.busy": "2022-02-06T20:55:38.787248Z",
     "iopub.status.idle": "2022-02-06T20:55:38.789838Z",
     "shell.execute_reply": "2022-02-06T20:55:38.789398Z",
     "shell.execute_reply.started": "2022-02-06T20:33:23.225029Z"
    },
    "papermill": {
     "duration": 0.089634,
     "end_time": "2022-02-06T20:55:38.789947",
     "exception": false,
     "start_time": "2022-02-06T20:55:38.700313",
     "status": "completed"
    },
    "tags": []
   },
   "outputs": [],
   "source": [
    "def get_default_device():\n",
    "    \"\"\"Pick GPU if available, else CPU\"\"\"\n",
    "    if torch.cuda.is_available():\n",
    "        return torch.device('cuda')\n",
    "    else:\n",
    "        return torch.device('cpu')\n",
    "    \n",
    "def to_device(data, device):\n",
    "    \"\"\"Move tensor(s) to chosen device\"\"\"\n",
    "    if isinstance(data, (list,tuple)):\n",
    "        return [to_device(x, device) for x in data]\n",
    "    return data.to(device, non_blocking=True)\n",
    "\n",
    "class DeviceDataLoader():\n",
    "    \"\"\"Wrap a dataloader to move data to a device\"\"\"\n",
    "    def __init__(self, dl, device):\n",
    "        self.dl = dl\n",
    "        self.device = device\n",
    "        \n",
    "    def __iter__(self):\n",
    "        \"\"\"Yield a batch of data after moving it to device\"\"\"\n",
    "        for b in self.dl: \n",
    "            yield to_device(b, self.device)\n",
    "\n",
    "    def __len__(self):\n",
    "        \"\"\"Number of batches\"\"\"\n",
    "        return len(self.dl)"
   ]
  },
  {
   "cell_type": "code",
   "execution_count": 54,
   "id": "f9d59468",
   "metadata": {
    "execution": {
     "iopub.execute_input": "2022-02-06T20:55:38.979011Z",
     "iopub.status.busy": "2022-02-06T20:55:38.978310Z",
     "iopub.status.idle": "2022-02-06T20:55:38.981158Z",
     "shell.execute_reply": "2022-02-06T20:55:38.981611Z",
     "shell.execute_reply.started": "2022-02-06T20:33:23.429014Z"
    },
    "papermill": {
     "duration": 0.102347,
     "end_time": "2022-02-06T20:55:38.981742",
     "exception": false,
     "start_time": "2022-02-06T20:55:38.879395",
     "status": "completed"
    },
    "tags": []
   },
   "outputs": [
    {
     "data": {
      "text/plain": [
       "device(type='cuda')"
      ]
     },
     "execution_count": 54,
     "metadata": {},
     "output_type": "execute_result"
    }
   ],
   "source": [
    "device = get_default_device()\n",
    "device"
   ]
  },
  {
   "cell_type": "code",
   "execution_count": 55,
   "id": "433cbecc",
   "metadata": {
    "execution": {
     "iopub.execute_input": "2022-02-06T20:55:39.152393Z",
     "iopub.status.busy": "2022-02-06T20:55:39.151633Z",
     "iopub.status.idle": "2022-02-06T20:55:39.154085Z",
     "shell.execute_reply": "2022-02-06T20:55:39.153625Z",
     "shell.execute_reply.started": "2022-02-06T20:33:23.783860Z"
    },
    "papermill": {
     "duration": 0.085998,
     "end_time": "2022-02-06T20:55:39.154192",
     "exception": false,
     "start_time": "2022-02-06T20:55:39.068194",
     "status": "completed"
    },
    "tags": []
   },
   "outputs": [],
   "source": [
    "train_dl = DeviceDataLoader(train_dl, device)\n",
    "val_dl = DeviceDataLoader(val_dl, device)"
   ]
  },
  {
   "cell_type": "code",
   "execution_count": 56,
   "id": "3840cd01",
   "metadata": {
    "execution": {
     "iopub.execute_input": "2022-02-06T20:55:39.319856Z",
     "iopub.status.busy": "2022-02-06T20:55:39.319232Z",
     "iopub.status.idle": "2022-02-06T20:55:39.321798Z",
     "shell.execute_reply": "2022-02-06T20:55:39.322242Z",
     "shell.execute_reply.started": "2022-02-06T20:33:24.027467Z"
    },
    "papermill": {
     "duration": 0.088091,
     "end_time": "2022-02-06T20:55:39.322363",
     "exception": false,
     "start_time": "2022-02-06T20:55:39.234272",
     "status": "completed"
    },
    "tags": []
   },
   "outputs": [
    {
     "data": {
      "text/plain": [
       "<__main__.DeviceDataLoader at 0x7f22d1bbd790>"
      ]
     },
     "execution_count": 56,
     "metadata": {},
     "output_type": "execute_result"
    }
   ],
   "source": [
    "train_dl"
   ]
  },
  {
   "cell_type": "code",
   "execution_count": 57,
   "id": "8e8a55cc",
   "metadata": {
    "execution": {
     "iopub.execute_input": "2022-02-06T20:55:39.510914Z",
     "iopub.status.busy": "2022-02-06T20:55:39.510295Z",
     "iopub.status.idle": "2022-02-06T20:55:39.512860Z",
     "shell.execute_reply": "2022-02-06T20:55:39.513288Z",
     "shell.execute_reply.started": "2022-02-06T20:33:24.291264Z"
    },
    "papermill": {
     "duration": 0.103824,
     "end_time": "2022-02-06T20:55:39.513407",
     "exception": false,
     "start_time": "2022-02-06T20:55:39.409583",
     "status": "completed"
    },
    "tags": []
   },
   "outputs": [
    {
     "data": {
      "text/plain": [
       "<__main__.DeviceDataLoader at 0x7f22d1bbd6d0>"
      ]
     },
     "execution_count": 57,
     "metadata": {},
     "output_type": "execute_result"
    }
   ],
   "source": [
    "val_dl"
   ]
  },
  {
   "cell_type": "code",
   "execution_count": 58,
   "id": "72efc916",
   "metadata": {
    "execution": {
     "iopub.execute_input": "2022-02-06T20:55:39.686250Z",
     "iopub.status.busy": "2022-02-06T20:55:39.685432Z",
     "iopub.status.idle": "2022-02-06T20:55:39.689877Z",
     "shell.execute_reply": "2022-02-06T20:55:39.690522Z",
     "shell.execute_reply.started": "2022-02-06T20:33:24.642191Z"
    },
    "papermill": {
     "duration": 0.092761,
     "end_time": "2022-02-06T20:55:39.690721",
     "exception": false,
     "start_time": "2022-02-06T20:55:39.597960",
     "status": "completed"
    },
    "tags": []
   },
   "outputs": [
    {
     "data": {
      "text/plain": [
       "True"
      ]
     },
     "execution_count": 58,
     "metadata": {},
     "output_type": "execute_result"
    }
   ],
   "source": [
    "torch.cuda.is_available()"
   ]
  },
  {
   "cell_type": "code",
   "execution_count": 59,
   "id": "8a9df58a",
   "metadata": {
    "execution": {
     "iopub.execute_input": "2022-02-06T20:55:39.898624Z",
     "iopub.status.busy": "2022-02-06T20:55:39.898103Z",
     "iopub.status.idle": "2022-02-06T20:55:42.979136Z",
     "shell.execute_reply": "2022-02-06T20:55:42.978615Z",
     "shell.execute_reply.started": "2022-02-06T20:33:24.898876Z"
    },
    "papermill": {
     "duration": 3.178813,
     "end_time": "2022-02-06T20:55:42.979282",
     "exception": false,
     "start_time": "2022-02-06T20:55:39.800469",
     "status": "completed"
    },
    "tags": []
   },
   "outputs": [
    {
     "data": {
      "text/plain": [
       "Classifier(\n",
       "  (eff): EfficientNet(\n",
       "    (_conv_stem): Conv2dStaticSamePadding(\n",
       "      3, 32, kernel_size=(3, 3), stride=(2, 2), bias=False\n",
       "      (static_padding): ZeroPad2d(padding=(0, 1, 0, 1), value=0.0)\n",
       "    )\n",
       "    (_bn0): BatchNorm2d(32, eps=0.001, momentum=0.010000000000000009, affine=True, track_running_stats=True)\n",
       "    (_blocks): ModuleList(\n",
       "      (0): MBConvBlock(\n",
       "        (_depthwise_conv): Conv2dStaticSamePadding(\n",
       "          32, 32, kernel_size=(3, 3), stride=[1, 1], groups=32, bias=False\n",
       "          (static_padding): ZeroPad2d(padding=(1, 1, 1, 1), value=0.0)\n",
       "        )\n",
       "        (_bn1): BatchNorm2d(32, eps=0.001, momentum=0.010000000000000009, affine=True, track_running_stats=True)\n",
       "        (_se_reduce): Conv2dStaticSamePadding(\n",
       "          32, 8, kernel_size=(1, 1), stride=(1, 1)\n",
       "          (static_padding): Identity()\n",
       "        )\n",
       "        (_se_expand): Conv2dStaticSamePadding(\n",
       "          8, 32, kernel_size=(1, 1), stride=(1, 1)\n",
       "          (static_padding): Identity()\n",
       "        )\n",
       "        (_project_conv): Conv2dStaticSamePadding(\n",
       "          32, 16, kernel_size=(1, 1), stride=(1, 1), bias=False\n",
       "          (static_padding): Identity()\n",
       "        )\n",
       "        (_bn2): BatchNorm2d(16, eps=0.001, momentum=0.010000000000000009, affine=True, track_running_stats=True)\n",
       "        (_swish): MemoryEfficientSwish()\n",
       "      )\n",
       "      (1): MBConvBlock(\n",
       "        (_depthwise_conv): Conv2dStaticSamePadding(\n",
       "          16, 16, kernel_size=(3, 3), stride=(1, 1), groups=16, bias=False\n",
       "          (static_padding): ZeroPad2d(padding=(1, 1, 1, 1), value=0.0)\n",
       "        )\n",
       "        (_bn1): BatchNorm2d(16, eps=0.001, momentum=0.010000000000000009, affine=True, track_running_stats=True)\n",
       "        (_se_reduce): Conv2dStaticSamePadding(\n",
       "          16, 4, kernel_size=(1, 1), stride=(1, 1)\n",
       "          (static_padding): Identity()\n",
       "        )\n",
       "        (_se_expand): Conv2dStaticSamePadding(\n",
       "          4, 16, kernel_size=(1, 1), stride=(1, 1)\n",
       "          (static_padding): Identity()\n",
       "        )\n",
       "        (_project_conv): Conv2dStaticSamePadding(\n",
       "          16, 16, kernel_size=(1, 1), stride=(1, 1), bias=False\n",
       "          (static_padding): Identity()\n",
       "        )\n",
       "        (_bn2): BatchNorm2d(16, eps=0.001, momentum=0.010000000000000009, affine=True, track_running_stats=True)\n",
       "        (_swish): MemoryEfficientSwish()\n",
       "      )\n",
       "      (2): MBConvBlock(\n",
       "        (_expand_conv): Conv2dStaticSamePadding(\n",
       "          16, 96, kernel_size=(1, 1), stride=(1, 1), bias=False\n",
       "          (static_padding): Identity()\n",
       "        )\n",
       "        (_bn0): BatchNorm2d(96, eps=0.001, momentum=0.010000000000000009, affine=True, track_running_stats=True)\n",
       "        (_depthwise_conv): Conv2dStaticSamePadding(\n",
       "          96, 96, kernel_size=(3, 3), stride=[2, 2], groups=96, bias=False\n",
       "          (static_padding): ZeroPad2d(padding=(0, 1, 0, 1), value=0.0)\n",
       "        )\n",
       "        (_bn1): BatchNorm2d(96, eps=0.001, momentum=0.010000000000000009, affine=True, track_running_stats=True)\n",
       "        (_se_reduce): Conv2dStaticSamePadding(\n",
       "          96, 4, kernel_size=(1, 1), stride=(1, 1)\n",
       "          (static_padding): Identity()\n",
       "        )\n",
       "        (_se_expand): Conv2dStaticSamePadding(\n",
       "          4, 96, kernel_size=(1, 1), stride=(1, 1)\n",
       "          (static_padding): Identity()\n",
       "        )\n",
       "        (_project_conv): Conv2dStaticSamePadding(\n",
       "          96, 24, kernel_size=(1, 1), stride=(1, 1), bias=False\n",
       "          (static_padding): Identity()\n",
       "        )\n",
       "        (_bn2): BatchNorm2d(24, eps=0.001, momentum=0.010000000000000009, affine=True, track_running_stats=True)\n",
       "        (_swish): MemoryEfficientSwish()\n",
       "      )\n",
       "      (3): MBConvBlock(\n",
       "        (_expand_conv): Conv2dStaticSamePadding(\n",
       "          24, 144, kernel_size=(1, 1), stride=(1, 1), bias=False\n",
       "          (static_padding): Identity()\n",
       "        )\n",
       "        (_bn0): BatchNorm2d(144, eps=0.001, momentum=0.010000000000000009, affine=True, track_running_stats=True)\n",
       "        (_depthwise_conv): Conv2dStaticSamePadding(\n",
       "          144, 144, kernel_size=(3, 3), stride=(1, 1), groups=144, bias=False\n",
       "          (static_padding): ZeroPad2d(padding=(1, 1, 1, 1), value=0.0)\n",
       "        )\n",
       "        (_bn1): BatchNorm2d(144, eps=0.001, momentum=0.010000000000000009, affine=True, track_running_stats=True)\n",
       "        (_se_reduce): Conv2dStaticSamePadding(\n",
       "          144, 6, kernel_size=(1, 1), stride=(1, 1)\n",
       "          (static_padding): Identity()\n",
       "        )\n",
       "        (_se_expand): Conv2dStaticSamePadding(\n",
       "          6, 144, kernel_size=(1, 1), stride=(1, 1)\n",
       "          (static_padding): Identity()\n",
       "        )\n",
       "        (_project_conv): Conv2dStaticSamePadding(\n",
       "          144, 24, kernel_size=(1, 1), stride=(1, 1), bias=False\n",
       "          (static_padding): Identity()\n",
       "        )\n",
       "        (_bn2): BatchNorm2d(24, eps=0.001, momentum=0.010000000000000009, affine=True, track_running_stats=True)\n",
       "        (_swish): MemoryEfficientSwish()\n",
       "      )\n",
       "      (4): MBConvBlock(\n",
       "        (_expand_conv): Conv2dStaticSamePadding(\n",
       "          24, 144, kernel_size=(1, 1), stride=(1, 1), bias=False\n",
       "          (static_padding): Identity()\n",
       "        )\n",
       "        (_bn0): BatchNorm2d(144, eps=0.001, momentum=0.010000000000000009, affine=True, track_running_stats=True)\n",
       "        (_depthwise_conv): Conv2dStaticSamePadding(\n",
       "          144, 144, kernel_size=(3, 3), stride=(1, 1), groups=144, bias=False\n",
       "          (static_padding): ZeroPad2d(padding=(1, 1, 1, 1), value=0.0)\n",
       "        )\n",
       "        (_bn1): BatchNorm2d(144, eps=0.001, momentum=0.010000000000000009, affine=True, track_running_stats=True)\n",
       "        (_se_reduce): Conv2dStaticSamePadding(\n",
       "          144, 6, kernel_size=(1, 1), stride=(1, 1)\n",
       "          (static_padding): Identity()\n",
       "        )\n",
       "        (_se_expand): Conv2dStaticSamePadding(\n",
       "          6, 144, kernel_size=(1, 1), stride=(1, 1)\n",
       "          (static_padding): Identity()\n",
       "        )\n",
       "        (_project_conv): Conv2dStaticSamePadding(\n",
       "          144, 24, kernel_size=(1, 1), stride=(1, 1), bias=False\n",
       "          (static_padding): Identity()\n",
       "        )\n",
       "        (_bn2): BatchNorm2d(24, eps=0.001, momentum=0.010000000000000009, affine=True, track_running_stats=True)\n",
       "        (_swish): MemoryEfficientSwish()\n",
       "      )\n",
       "      (5): MBConvBlock(\n",
       "        (_expand_conv): Conv2dStaticSamePadding(\n",
       "          24, 144, kernel_size=(1, 1), stride=(1, 1), bias=False\n",
       "          (static_padding): Identity()\n",
       "        )\n",
       "        (_bn0): BatchNorm2d(144, eps=0.001, momentum=0.010000000000000009, affine=True, track_running_stats=True)\n",
       "        (_depthwise_conv): Conv2dStaticSamePadding(\n",
       "          144, 144, kernel_size=(5, 5), stride=[2, 2], groups=144, bias=False\n",
       "          (static_padding): ZeroPad2d(padding=(2, 2, 2, 2), value=0.0)\n",
       "        )\n",
       "        (_bn1): BatchNorm2d(144, eps=0.001, momentum=0.010000000000000009, affine=True, track_running_stats=True)\n",
       "        (_se_reduce): Conv2dStaticSamePadding(\n",
       "          144, 6, kernel_size=(1, 1), stride=(1, 1)\n",
       "          (static_padding): Identity()\n",
       "        )\n",
       "        (_se_expand): Conv2dStaticSamePadding(\n",
       "          6, 144, kernel_size=(1, 1), stride=(1, 1)\n",
       "          (static_padding): Identity()\n",
       "        )\n",
       "        (_project_conv): Conv2dStaticSamePadding(\n",
       "          144, 48, kernel_size=(1, 1), stride=(1, 1), bias=False\n",
       "          (static_padding): Identity()\n",
       "        )\n",
       "        (_bn2): BatchNorm2d(48, eps=0.001, momentum=0.010000000000000009, affine=True, track_running_stats=True)\n",
       "        (_swish): MemoryEfficientSwish()\n",
       "      )\n",
       "      (6): MBConvBlock(\n",
       "        (_expand_conv): Conv2dStaticSamePadding(\n",
       "          48, 288, kernel_size=(1, 1), stride=(1, 1), bias=False\n",
       "          (static_padding): Identity()\n",
       "        )\n",
       "        (_bn0): BatchNorm2d(288, eps=0.001, momentum=0.010000000000000009, affine=True, track_running_stats=True)\n",
       "        (_depthwise_conv): Conv2dStaticSamePadding(\n",
       "          288, 288, kernel_size=(5, 5), stride=(1, 1), groups=288, bias=False\n",
       "          (static_padding): ZeroPad2d(padding=(2, 2, 2, 2), value=0.0)\n",
       "        )\n",
       "        (_bn1): BatchNorm2d(288, eps=0.001, momentum=0.010000000000000009, affine=True, track_running_stats=True)\n",
       "        (_se_reduce): Conv2dStaticSamePadding(\n",
       "          288, 12, kernel_size=(1, 1), stride=(1, 1)\n",
       "          (static_padding): Identity()\n",
       "        )\n",
       "        (_se_expand): Conv2dStaticSamePadding(\n",
       "          12, 288, kernel_size=(1, 1), stride=(1, 1)\n",
       "          (static_padding): Identity()\n",
       "        )\n",
       "        (_project_conv): Conv2dStaticSamePadding(\n",
       "          288, 48, kernel_size=(1, 1), stride=(1, 1), bias=False\n",
       "          (static_padding): Identity()\n",
       "        )\n",
       "        (_bn2): BatchNorm2d(48, eps=0.001, momentum=0.010000000000000009, affine=True, track_running_stats=True)\n",
       "        (_swish): MemoryEfficientSwish()\n",
       "      )\n",
       "      (7): MBConvBlock(\n",
       "        (_expand_conv): Conv2dStaticSamePadding(\n",
       "          48, 288, kernel_size=(1, 1), stride=(1, 1), bias=False\n",
       "          (static_padding): Identity()\n",
       "        )\n",
       "        (_bn0): BatchNorm2d(288, eps=0.001, momentum=0.010000000000000009, affine=True, track_running_stats=True)\n",
       "        (_depthwise_conv): Conv2dStaticSamePadding(\n",
       "          288, 288, kernel_size=(5, 5), stride=(1, 1), groups=288, bias=False\n",
       "          (static_padding): ZeroPad2d(padding=(2, 2, 2, 2), value=0.0)\n",
       "        )\n",
       "        (_bn1): BatchNorm2d(288, eps=0.001, momentum=0.010000000000000009, affine=True, track_running_stats=True)\n",
       "        (_se_reduce): Conv2dStaticSamePadding(\n",
       "          288, 12, kernel_size=(1, 1), stride=(1, 1)\n",
       "          (static_padding): Identity()\n",
       "        )\n",
       "        (_se_expand): Conv2dStaticSamePadding(\n",
       "          12, 288, kernel_size=(1, 1), stride=(1, 1)\n",
       "          (static_padding): Identity()\n",
       "        )\n",
       "        (_project_conv): Conv2dStaticSamePadding(\n",
       "          288, 48, kernel_size=(1, 1), stride=(1, 1), bias=False\n",
       "          (static_padding): Identity()\n",
       "        )\n",
       "        (_bn2): BatchNorm2d(48, eps=0.001, momentum=0.010000000000000009, affine=True, track_running_stats=True)\n",
       "        (_swish): MemoryEfficientSwish()\n",
       "      )\n",
       "      (8): MBConvBlock(\n",
       "        (_expand_conv): Conv2dStaticSamePadding(\n",
       "          48, 288, kernel_size=(1, 1), stride=(1, 1), bias=False\n",
       "          (static_padding): Identity()\n",
       "        )\n",
       "        (_bn0): BatchNorm2d(288, eps=0.001, momentum=0.010000000000000009, affine=True, track_running_stats=True)\n",
       "        (_depthwise_conv): Conv2dStaticSamePadding(\n",
       "          288, 288, kernel_size=(3, 3), stride=[2, 2], groups=288, bias=False\n",
       "          (static_padding): ZeroPad2d(padding=(1, 1, 1, 1), value=0.0)\n",
       "        )\n",
       "        (_bn1): BatchNorm2d(288, eps=0.001, momentum=0.010000000000000009, affine=True, track_running_stats=True)\n",
       "        (_se_reduce): Conv2dStaticSamePadding(\n",
       "          288, 12, kernel_size=(1, 1), stride=(1, 1)\n",
       "          (static_padding): Identity()\n",
       "        )\n",
       "        (_se_expand): Conv2dStaticSamePadding(\n",
       "          12, 288, kernel_size=(1, 1), stride=(1, 1)\n",
       "          (static_padding): Identity()\n",
       "        )\n",
       "        (_project_conv): Conv2dStaticSamePadding(\n",
       "          288, 88, kernel_size=(1, 1), stride=(1, 1), bias=False\n",
       "          (static_padding): Identity()\n",
       "        )\n",
       "        (_bn2): BatchNorm2d(88, eps=0.001, momentum=0.010000000000000009, affine=True, track_running_stats=True)\n",
       "        (_swish): MemoryEfficientSwish()\n",
       "      )\n",
       "      (9): MBConvBlock(\n",
       "        (_expand_conv): Conv2dStaticSamePadding(\n",
       "          88, 528, kernel_size=(1, 1), stride=(1, 1), bias=False\n",
       "          (static_padding): Identity()\n",
       "        )\n",
       "        (_bn0): BatchNorm2d(528, eps=0.001, momentum=0.010000000000000009, affine=True, track_running_stats=True)\n",
       "        (_depthwise_conv): Conv2dStaticSamePadding(\n",
       "          528, 528, kernel_size=(3, 3), stride=(1, 1), groups=528, bias=False\n",
       "          (static_padding): ZeroPad2d(padding=(1, 1, 1, 1), value=0.0)\n",
       "        )\n",
       "        (_bn1): BatchNorm2d(528, eps=0.001, momentum=0.010000000000000009, affine=True, track_running_stats=True)\n",
       "        (_se_reduce): Conv2dStaticSamePadding(\n",
       "          528, 22, kernel_size=(1, 1), stride=(1, 1)\n",
       "          (static_padding): Identity()\n",
       "        )\n",
       "        (_se_expand): Conv2dStaticSamePadding(\n",
       "          22, 528, kernel_size=(1, 1), stride=(1, 1)\n",
       "          (static_padding): Identity()\n",
       "        )\n",
       "        (_project_conv): Conv2dStaticSamePadding(\n",
       "          528, 88, kernel_size=(1, 1), stride=(1, 1), bias=False\n",
       "          (static_padding): Identity()\n",
       "        )\n",
       "        (_bn2): BatchNorm2d(88, eps=0.001, momentum=0.010000000000000009, affine=True, track_running_stats=True)\n",
       "        (_swish): MemoryEfficientSwish()\n",
       "      )\n",
       "      (10): MBConvBlock(\n",
       "        (_expand_conv): Conv2dStaticSamePadding(\n",
       "          88, 528, kernel_size=(1, 1), stride=(1, 1), bias=False\n",
       "          (static_padding): Identity()\n",
       "        )\n",
       "        (_bn0): BatchNorm2d(528, eps=0.001, momentum=0.010000000000000009, affine=True, track_running_stats=True)\n",
       "        (_depthwise_conv): Conv2dStaticSamePadding(\n",
       "          528, 528, kernel_size=(3, 3), stride=(1, 1), groups=528, bias=False\n",
       "          (static_padding): ZeroPad2d(padding=(1, 1, 1, 1), value=0.0)\n",
       "        )\n",
       "        (_bn1): BatchNorm2d(528, eps=0.001, momentum=0.010000000000000009, affine=True, track_running_stats=True)\n",
       "        (_se_reduce): Conv2dStaticSamePadding(\n",
       "          528, 22, kernel_size=(1, 1), stride=(1, 1)\n",
       "          (static_padding): Identity()\n",
       "        )\n",
       "        (_se_expand): Conv2dStaticSamePadding(\n",
       "          22, 528, kernel_size=(1, 1), stride=(1, 1)\n",
       "          (static_padding): Identity()\n",
       "        )\n",
       "        (_project_conv): Conv2dStaticSamePadding(\n",
       "          528, 88, kernel_size=(1, 1), stride=(1, 1), bias=False\n",
       "          (static_padding): Identity()\n",
       "        )\n",
       "        (_bn2): BatchNorm2d(88, eps=0.001, momentum=0.010000000000000009, affine=True, track_running_stats=True)\n",
       "        (_swish): MemoryEfficientSwish()\n",
       "      )\n",
       "      (11): MBConvBlock(\n",
       "        (_expand_conv): Conv2dStaticSamePadding(\n",
       "          88, 528, kernel_size=(1, 1), stride=(1, 1), bias=False\n",
       "          (static_padding): Identity()\n",
       "        )\n",
       "        (_bn0): BatchNorm2d(528, eps=0.001, momentum=0.010000000000000009, affine=True, track_running_stats=True)\n",
       "        (_depthwise_conv): Conv2dStaticSamePadding(\n",
       "          528, 528, kernel_size=(3, 3), stride=(1, 1), groups=528, bias=False\n",
       "          (static_padding): ZeroPad2d(padding=(1, 1, 1, 1), value=0.0)\n",
       "        )\n",
       "        (_bn1): BatchNorm2d(528, eps=0.001, momentum=0.010000000000000009, affine=True, track_running_stats=True)\n",
       "        (_se_reduce): Conv2dStaticSamePadding(\n",
       "          528, 22, kernel_size=(1, 1), stride=(1, 1)\n",
       "          (static_padding): Identity()\n",
       "        )\n",
       "        (_se_expand): Conv2dStaticSamePadding(\n",
       "          22, 528, kernel_size=(1, 1), stride=(1, 1)\n",
       "          (static_padding): Identity()\n",
       "        )\n",
       "        (_project_conv): Conv2dStaticSamePadding(\n",
       "          528, 88, kernel_size=(1, 1), stride=(1, 1), bias=False\n",
       "          (static_padding): Identity()\n",
       "        )\n",
       "        (_bn2): BatchNorm2d(88, eps=0.001, momentum=0.010000000000000009, affine=True, track_running_stats=True)\n",
       "        (_swish): MemoryEfficientSwish()\n",
       "      )\n",
       "      (12): MBConvBlock(\n",
       "        (_expand_conv): Conv2dStaticSamePadding(\n",
       "          88, 528, kernel_size=(1, 1), stride=(1, 1), bias=False\n",
       "          (static_padding): Identity()\n",
       "        )\n",
       "        (_bn0): BatchNorm2d(528, eps=0.001, momentum=0.010000000000000009, affine=True, track_running_stats=True)\n",
       "        (_depthwise_conv): Conv2dStaticSamePadding(\n",
       "          528, 528, kernel_size=(5, 5), stride=[1, 1], groups=528, bias=False\n",
       "          (static_padding): ZeroPad2d(padding=(2, 2, 2, 2), value=0.0)\n",
       "        )\n",
       "        (_bn1): BatchNorm2d(528, eps=0.001, momentum=0.010000000000000009, affine=True, track_running_stats=True)\n",
       "        (_se_reduce): Conv2dStaticSamePadding(\n",
       "          528, 22, kernel_size=(1, 1), stride=(1, 1)\n",
       "          (static_padding): Identity()\n",
       "        )\n",
       "        (_se_expand): Conv2dStaticSamePadding(\n",
       "          22, 528, kernel_size=(1, 1), stride=(1, 1)\n",
       "          (static_padding): Identity()\n",
       "        )\n",
       "        (_project_conv): Conv2dStaticSamePadding(\n",
       "          528, 120, kernel_size=(1, 1), stride=(1, 1), bias=False\n",
       "          (static_padding): Identity()\n",
       "        )\n",
       "        (_bn2): BatchNorm2d(120, eps=0.001, momentum=0.010000000000000009, affine=True, track_running_stats=True)\n",
       "        (_swish): MemoryEfficientSwish()\n",
       "      )\n",
       "      (13): MBConvBlock(\n",
       "        (_expand_conv): Conv2dStaticSamePadding(\n",
       "          120, 720, kernel_size=(1, 1), stride=(1, 1), bias=False\n",
       "          (static_padding): Identity()\n",
       "        )\n",
       "        (_bn0): BatchNorm2d(720, eps=0.001, momentum=0.010000000000000009, affine=True, track_running_stats=True)\n",
       "        (_depthwise_conv): Conv2dStaticSamePadding(\n",
       "          720, 720, kernel_size=(5, 5), stride=(1, 1), groups=720, bias=False\n",
       "          (static_padding): ZeroPad2d(padding=(2, 2, 2, 2), value=0.0)\n",
       "        )\n",
       "        (_bn1): BatchNorm2d(720, eps=0.001, momentum=0.010000000000000009, affine=True, track_running_stats=True)\n",
       "        (_se_reduce): Conv2dStaticSamePadding(\n",
       "          720, 30, kernel_size=(1, 1), stride=(1, 1)\n",
       "          (static_padding): Identity()\n",
       "        )\n",
       "        (_se_expand): Conv2dStaticSamePadding(\n",
       "          30, 720, kernel_size=(1, 1), stride=(1, 1)\n",
       "          (static_padding): Identity()\n",
       "        )\n",
       "        (_project_conv): Conv2dStaticSamePadding(\n",
       "          720, 120, kernel_size=(1, 1), stride=(1, 1), bias=False\n",
       "          (static_padding): Identity()\n",
       "        )\n",
       "        (_bn2): BatchNorm2d(120, eps=0.001, momentum=0.010000000000000009, affine=True, track_running_stats=True)\n",
       "        (_swish): MemoryEfficientSwish()\n",
       "      )\n",
       "      (14): MBConvBlock(\n",
       "        (_expand_conv): Conv2dStaticSamePadding(\n",
       "          120, 720, kernel_size=(1, 1), stride=(1, 1), bias=False\n",
       "          (static_padding): Identity()\n",
       "        )\n",
       "        (_bn0): BatchNorm2d(720, eps=0.001, momentum=0.010000000000000009, affine=True, track_running_stats=True)\n",
       "        (_depthwise_conv): Conv2dStaticSamePadding(\n",
       "          720, 720, kernel_size=(5, 5), stride=(1, 1), groups=720, bias=False\n",
       "          (static_padding): ZeroPad2d(padding=(2, 2, 2, 2), value=0.0)\n",
       "        )\n",
       "        (_bn1): BatchNorm2d(720, eps=0.001, momentum=0.010000000000000009, affine=True, track_running_stats=True)\n",
       "        (_se_reduce): Conv2dStaticSamePadding(\n",
       "          720, 30, kernel_size=(1, 1), stride=(1, 1)\n",
       "          (static_padding): Identity()\n",
       "        )\n",
       "        (_se_expand): Conv2dStaticSamePadding(\n",
       "          30, 720, kernel_size=(1, 1), stride=(1, 1)\n",
       "          (static_padding): Identity()\n",
       "        )\n",
       "        (_project_conv): Conv2dStaticSamePadding(\n",
       "          720, 120, kernel_size=(1, 1), stride=(1, 1), bias=False\n",
       "          (static_padding): Identity()\n",
       "        )\n",
       "        (_bn2): BatchNorm2d(120, eps=0.001, momentum=0.010000000000000009, affine=True, track_running_stats=True)\n",
       "        (_swish): MemoryEfficientSwish()\n",
       "      )\n",
       "      (15): MBConvBlock(\n",
       "        (_expand_conv): Conv2dStaticSamePadding(\n",
       "          120, 720, kernel_size=(1, 1), stride=(1, 1), bias=False\n",
       "          (static_padding): Identity()\n",
       "        )\n",
       "        (_bn0): BatchNorm2d(720, eps=0.001, momentum=0.010000000000000009, affine=True, track_running_stats=True)\n",
       "        (_depthwise_conv): Conv2dStaticSamePadding(\n",
       "          720, 720, kernel_size=(5, 5), stride=(1, 1), groups=720, bias=False\n",
       "          (static_padding): ZeroPad2d(padding=(2, 2, 2, 2), value=0.0)\n",
       "        )\n",
       "        (_bn1): BatchNorm2d(720, eps=0.001, momentum=0.010000000000000009, affine=True, track_running_stats=True)\n",
       "        (_se_reduce): Conv2dStaticSamePadding(\n",
       "          720, 30, kernel_size=(1, 1), stride=(1, 1)\n",
       "          (static_padding): Identity()\n",
       "        )\n",
       "        (_se_expand): Conv2dStaticSamePadding(\n",
       "          30, 720, kernel_size=(1, 1), stride=(1, 1)\n",
       "          (static_padding): Identity()\n",
       "        )\n",
       "        (_project_conv): Conv2dStaticSamePadding(\n",
       "          720, 120, kernel_size=(1, 1), stride=(1, 1), bias=False\n",
       "          (static_padding): Identity()\n",
       "        )\n",
       "        (_bn2): BatchNorm2d(120, eps=0.001, momentum=0.010000000000000009, affine=True, track_running_stats=True)\n",
       "        (_swish): MemoryEfficientSwish()\n",
       "      )\n",
       "      (16): MBConvBlock(\n",
       "        (_expand_conv): Conv2dStaticSamePadding(\n",
       "          120, 720, kernel_size=(1, 1), stride=(1, 1), bias=False\n",
       "          (static_padding): Identity()\n",
       "        )\n",
       "        (_bn0): BatchNorm2d(720, eps=0.001, momentum=0.010000000000000009, affine=True, track_running_stats=True)\n",
       "        (_depthwise_conv): Conv2dStaticSamePadding(\n",
       "          720, 720, kernel_size=(5, 5), stride=[2, 2], groups=720, bias=False\n",
       "          (static_padding): ZeroPad2d(padding=(2, 2, 2, 2), value=0.0)\n",
       "        )\n",
       "        (_bn1): BatchNorm2d(720, eps=0.001, momentum=0.010000000000000009, affine=True, track_running_stats=True)\n",
       "        (_se_reduce): Conv2dStaticSamePadding(\n",
       "          720, 30, kernel_size=(1, 1), stride=(1, 1)\n",
       "          (static_padding): Identity()\n",
       "        )\n",
       "        (_se_expand): Conv2dStaticSamePadding(\n",
       "          30, 720, kernel_size=(1, 1), stride=(1, 1)\n",
       "          (static_padding): Identity()\n",
       "        )\n",
       "        (_project_conv): Conv2dStaticSamePadding(\n",
       "          720, 208, kernel_size=(1, 1), stride=(1, 1), bias=False\n",
       "          (static_padding): Identity()\n",
       "        )\n",
       "        (_bn2): BatchNorm2d(208, eps=0.001, momentum=0.010000000000000009, affine=True, track_running_stats=True)\n",
       "        (_swish): MemoryEfficientSwish()\n",
       "      )\n",
       "      (17): MBConvBlock(\n",
       "        (_expand_conv): Conv2dStaticSamePadding(\n",
       "          208, 1248, kernel_size=(1, 1), stride=(1, 1), bias=False\n",
       "          (static_padding): Identity()\n",
       "        )\n",
       "        (_bn0): BatchNorm2d(1248, eps=0.001, momentum=0.010000000000000009, affine=True, track_running_stats=True)\n",
       "        (_depthwise_conv): Conv2dStaticSamePadding(\n",
       "          1248, 1248, kernel_size=(5, 5), stride=(1, 1), groups=1248, bias=False\n",
       "          (static_padding): ZeroPad2d(padding=(2, 2, 2, 2), value=0.0)\n",
       "        )\n",
       "        (_bn1): BatchNorm2d(1248, eps=0.001, momentum=0.010000000000000009, affine=True, track_running_stats=True)\n",
       "        (_se_reduce): Conv2dStaticSamePadding(\n",
       "          1248, 52, kernel_size=(1, 1), stride=(1, 1)\n",
       "          (static_padding): Identity()\n",
       "        )\n",
       "        (_se_expand): Conv2dStaticSamePadding(\n",
       "          52, 1248, kernel_size=(1, 1), stride=(1, 1)\n",
       "          (static_padding): Identity()\n",
       "        )\n",
       "        (_project_conv): Conv2dStaticSamePadding(\n",
       "          1248, 208, kernel_size=(1, 1), stride=(1, 1), bias=False\n",
       "          (static_padding): Identity()\n",
       "        )\n",
       "        (_bn2): BatchNorm2d(208, eps=0.001, momentum=0.010000000000000009, affine=True, track_running_stats=True)\n",
       "        (_swish): MemoryEfficientSwish()\n",
       "      )\n",
       "      (18): MBConvBlock(\n",
       "        (_expand_conv): Conv2dStaticSamePadding(\n",
       "          208, 1248, kernel_size=(1, 1), stride=(1, 1), bias=False\n",
       "          (static_padding): Identity()\n",
       "        )\n",
       "        (_bn0): BatchNorm2d(1248, eps=0.001, momentum=0.010000000000000009, affine=True, track_running_stats=True)\n",
       "        (_depthwise_conv): Conv2dStaticSamePadding(\n",
       "          1248, 1248, kernel_size=(5, 5), stride=(1, 1), groups=1248, bias=False\n",
       "          (static_padding): ZeroPad2d(padding=(2, 2, 2, 2), value=0.0)\n",
       "        )\n",
       "        (_bn1): BatchNorm2d(1248, eps=0.001, momentum=0.010000000000000009, affine=True, track_running_stats=True)\n",
       "        (_se_reduce): Conv2dStaticSamePadding(\n",
       "          1248, 52, kernel_size=(1, 1), stride=(1, 1)\n",
       "          (static_padding): Identity()\n",
       "        )\n",
       "        (_se_expand): Conv2dStaticSamePadding(\n",
       "          52, 1248, kernel_size=(1, 1), stride=(1, 1)\n",
       "          (static_padding): Identity()\n",
       "        )\n",
       "        (_project_conv): Conv2dStaticSamePadding(\n",
       "          1248, 208, kernel_size=(1, 1), stride=(1, 1), bias=False\n",
       "          (static_padding): Identity()\n",
       "        )\n",
       "        (_bn2): BatchNorm2d(208, eps=0.001, momentum=0.010000000000000009, affine=True, track_running_stats=True)\n",
       "        (_swish): MemoryEfficientSwish()\n",
       "      )\n",
       "      (19): MBConvBlock(\n",
       "        (_expand_conv): Conv2dStaticSamePadding(\n",
       "          208, 1248, kernel_size=(1, 1), stride=(1, 1), bias=False\n",
       "          (static_padding): Identity()\n",
       "        )\n",
       "        (_bn0): BatchNorm2d(1248, eps=0.001, momentum=0.010000000000000009, affine=True, track_running_stats=True)\n",
       "        (_depthwise_conv): Conv2dStaticSamePadding(\n",
       "          1248, 1248, kernel_size=(5, 5), stride=(1, 1), groups=1248, bias=False\n",
       "          (static_padding): ZeroPad2d(padding=(2, 2, 2, 2), value=0.0)\n",
       "        )\n",
       "        (_bn1): BatchNorm2d(1248, eps=0.001, momentum=0.010000000000000009, affine=True, track_running_stats=True)\n",
       "        (_se_reduce): Conv2dStaticSamePadding(\n",
       "          1248, 52, kernel_size=(1, 1), stride=(1, 1)\n",
       "          (static_padding): Identity()\n",
       "        )\n",
       "        (_se_expand): Conv2dStaticSamePadding(\n",
       "          52, 1248, kernel_size=(1, 1), stride=(1, 1)\n",
       "          (static_padding): Identity()\n",
       "        )\n",
       "        (_project_conv): Conv2dStaticSamePadding(\n",
       "          1248, 208, kernel_size=(1, 1), stride=(1, 1), bias=False\n",
       "          (static_padding): Identity()\n",
       "        )\n",
       "        (_bn2): BatchNorm2d(208, eps=0.001, momentum=0.010000000000000009, affine=True, track_running_stats=True)\n",
       "        (_swish): MemoryEfficientSwish()\n",
       "      )\n",
       "      (20): MBConvBlock(\n",
       "        (_expand_conv): Conv2dStaticSamePadding(\n",
       "          208, 1248, kernel_size=(1, 1), stride=(1, 1), bias=False\n",
       "          (static_padding): Identity()\n",
       "        )\n",
       "        (_bn0): BatchNorm2d(1248, eps=0.001, momentum=0.010000000000000009, affine=True, track_running_stats=True)\n",
       "        (_depthwise_conv): Conv2dStaticSamePadding(\n",
       "          1248, 1248, kernel_size=(5, 5), stride=(1, 1), groups=1248, bias=False\n",
       "          (static_padding): ZeroPad2d(padding=(2, 2, 2, 2), value=0.0)\n",
       "        )\n",
       "        (_bn1): BatchNorm2d(1248, eps=0.001, momentum=0.010000000000000009, affine=True, track_running_stats=True)\n",
       "        (_se_reduce): Conv2dStaticSamePadding(\n",
       "          1248, 52, kernel_size=(1, 1), stride=(1, 1)\n",
       "          (static_padding): Identity()\n",
       "        )\n",
       "        (_se_expand): Conv2dStaticSamePadding(\n",
       "          52, 1248, kernel_size=(1, 1), stride=(1, 1)\n",
       "          (static_padding): Identity()\n",
       "        )\n",
       "        (_project_conv): Conv2dStaticSamePadding(\n",
       "          1248, 208, kernel_size=(1, 1), stride=(1, 1), bias=False\n",
       "          (static_padding): Identity()\n",
       "        )\n",
       "        (_bn2): BatchNorm2d(208, eps=0.001, momentum=0.010000000000000009, affine=True, track_running_stats=True)\n",
       "        (_swish): MemoryEfficientSwish()\n",
       "      )\n",
       "      (21): MBConvBlock(\n",
       "        (_expand_conv): Conv2dStaticSamePadding(\n",
       "          208, 1248, kernel_size=(1, 1), stride=(1, 1), bias=False\n",
       "          (static_padding): Identity()\n",
       "        )\n",
       "        (_bn0): BatchNorm2d(1248, eps=0.001, momentum=0.010000000000000009, affine=True, track_running_stats=True)\n",
       "        (_depthwise_conv): Conv2dStaticSamePadding(\n",
       "          1248, 1248, kernel_size=(3, 3), stride=[1, 1], groups=1248, bias=False\n",
       "          (static_padding): ZeroPad2d(padding=(1, 1, 1, 1), value=0.0)\n",
       "        )\n",
       "        (_bn1): BatchNorm2d(1248, eps=0.001, momentum=0.010000000000000009, affine=True, track_running_stats=True)\n",
       "        (_se_reduce): Conv2dStaticSamePadding(\n",
       "          1248, 52, kernel_size=(1, 1), stride=(1, 1)\n",
       "          (static_padding): Identity()\n",
       "        )\n",
       "        (_se_expand): Conv2dStaticSamePadding(\n",
       "          52, 1248, kernel_size=(1, 1), stride=(1, 1)\n",
       "          (static_padding): Identity()\n",
       "        )\n",
       "        (_project_conv): Conv2dStaticSamePadding(\n",
       "          1248, 352, kernel_size=(1, 1), stride=(1, 1), bias=False\n",
       "          (static_padding): Identity()\n",
       "        )\n",
       "        (_bn2): BatchNorm2d(352, eps=0.001, momentum=0.010000000000000009, affine=True, track_running_stats=True)\n",
       "        (_swish): MemoryEfficientSwish()\n",
       "      )\n",
       "      (22): MBConvBlock(\n",
       "        (_expand_conv): Conv2dStaticSamePadding(\n",
       "          352, 2112, kernel_size=(1, 1), stride=(1, 1), bias=False\n",
       "          (static_padding): Identity()\n",
       "        )\n",
       "        (_bn0): BatchNorm2d(2112, eps=0.001, momentum=0.010000000000000009, affine=True, track_running_stats=True)\n",
       "        (_depthwise_conv): Conv2dStaticSamePadding(\n",
       "          2112, 2112, kernel_size=(3, 3), stride=(1, 1), groups=2112, bias=False\n",
       "          (static_padding): ZeroPad2d(padding=(1, 1, 1, 1), value=0.0)\n",
       "        )\n",
       "        (_bn1): BatchNorm2d(2112, eps=0.001, momentum=0.010000000000000009, affine=True, track_running_stats=True)\n",
       "        (_se_reduce): Conv2dStaticSamePadding(\n",
       "          2112, 88, kernel_size=(1, 1), stride=(1, 1)\n",
       "          (static_padding): Identity()\n",
       "        )\n",
       "        (_se_expand): Conv2dStaticSamePadding(\n",
       "          88, 2112, kernel_size=(1, 1), stride=(1, 1)\n",
       "          (static_padding): Identity()\n",
       "        )\n",
       "        (_project_conv): Conv2dStaticSamePadding(\n",
       "          2112, 352, kernel_size=(1, 1), stride=(1, 1), bias=False\n",
       "          (static_padding): Identity()\n",
       "        )\n",
       "        (_bn2): BatchNorm2d(352, eps=0.001, momentum=0.010000000000000009, affine=True, track_running_stats=True)\n",
       "        (_swish): MemoryEfficientSwish()\n",
       "      )\n",
       "    )\n",
       "    (_conv_head): Conv2dStaticSamePadding(\n",
       "      352, 1408, kernel_size=(1, 1), stride=(1, 1), bias=False\n",
       "      (static_padding): Identity()\n",
       "    )\n",
       "    (_bn1): BatchNorm2d(1408, eps=0.001, momentum=0.010000000000000009, affine=True, track_running_stats=True)\n",
       "    (_avg_pooling): AdaptiveAvgPool2d(output_size=1)\n",
       "    (_dropout): Dropout(p=0.3, inplace=False)\n",
       "    (_fc): Sequential(\n",
       "      (0): BatchNorm1d(1408, eps=1e-05, momentum=0.1, affine=True, track_running_stats=True)\n",
       "      (1): Linear(in_features=1408, out_features=512, bias=True)\n",
       "      (2): ReLU()\n",
       "      (3): BatchNorm1d(512, eps=1e-05, momentum=0.1, affine=True, track_running_stats=True)\n",
       "      (4): Linear(in_features=512, out_features=128, bias=True)\n",
       "      (5): ReLU()\n",
       "      (6): BatchNorm1d(128, eps=1e-05, momentum=0.1, affine=True, track_running_stats=True)\n",
       "      (7): Dropout(p=0.4, inplace=False)\n",
       "      (8): Linear(in_features=128, out_features=11, bias=True)\n",
       "    )\n",
       "    (_swish): MemoryEfficientSwish()\n",
       "  )\n",
       ")"
      ]
     },
     "execution_count": 59,
     "metadata": {},
     "output_type": "execute_result"
    }
   ],
   "source": [
    "model = to_device(model, device)\n",
    "model"
   ]
  },
  {
   "cell_type": "code",
   "execution_count": 60,
   "id": "664b4bc4",
   "metadata": {
    "execution": {
     "iopub.execute_input": "2022-02-06T20:55:43.159799Z",
     "iopub.status.busy": "2022-02-06T20:55:43.159225Z",
     "iopub.status.idle": "2022-02-06T20:55:43.161938Z",
     "shell.execute_reply": "2022-02-06T20:55:43.161483Z",
     "shell.execute_reply.started": "2022-02-06T20:33:28.094257Z"
    },
    "papermill": {
     "duration": 0.094457,
     "end_time": "2022-02-06T20:55:43.162050",
     "exception": false,
     "start_time": "2022-02-06T20:55:43.067593",
     "status": "completed"
    },
    "tags": []
   },
   "outputs": [],
   "source": [
    "def accuracy(act,pred):\n",
    "    _, preds = torch.max(pred, dim=1)\n",
    "    #print(preds[0])\n",
    "    #print(\"a\")\n",
    "    #print(act[0])\n",
    "    act2=act.detach().cpu().numpy()\n",
    "    pred2=preds.detach().cpu().numpy()\n",
    "    acc=torch.tensor(torch.sum(preds==act).item() / len(preds))\n",
    "    mic=f1_score(act2, pred2, average='micro')\n",
    "    mac=f1_score(act2, pred2, average='macro')\n",
    "    bal_acc=balanced_accuracy_score(act2, pred2)\n",
    "    return acc,torch.tensor([mic]),torch.tensor([mac]),torch.tensor([bal_acc])"
   ]
  },
  {
   "cell_type": "code",
   "execution_count": 61,
   "id": "b33aa64c",
   "metadata": {
    "execution": {
     "iopub.execute_input": "2022-02-06T20:55:43.331532Z",
     "iopub.status.busy": "2022-02-06T20:55:43.330788Z",
     "iopub.status.idle": "2022-02-06T20:55:52.091129Z",
     "shell.execute_reply": "2022-02-06T20:55:52.090627Z",
     "shell.execute_reply.started": "2022-02-06T20:33:28.105221Z"
    },
    "papermill": {
     "duration": 8.847092,
     "end_time": "2022-02-06T20:55:52.091258",
     "exception": false,
     "start_time": "2022-02-06T20:55:43.244166",
     "status": "completed"
    },
    "tags": []
   },
   "outputs": [
    {
     "name": "stdout",
     "output_type": "stream",
     "text": [
      "tensor(0.1250) tensor([0.1250], dtype=torch.float64) tensor([0.0977], dtype=torch.float64) tensor([0.1123], dtype=torch.float64)\n"
     ]
    },
    {
     "name": "stderr",
     "output_type": "stream",
     "text": [
      "/opt/conda/lib/python3.7/site-packages/sklearn/metrics/_classification.py:1814: UserWarning: y_pred contains classes not in y_true\n",
      "  warnings.warn('y_pred contains classes not in y_true')\n"
     ]
    }
   ],
   "source": [
    "for batch in train_dl:\n",
    "    images,labels=batch\n",
    "    out=model(images)\n",
    "    a,b,c,d=accuracy(labels,out)\n",
    "    print(a,b,c,d)\n",
    "    #print(accuracy(labels,out))\n",
    "    #print(out)\n",
    "    #print(labels[0])\n",
    "    \n",
    "    break\n"
   ]
  },
  {
   "cell_type": "code",
   "execution_count": 62,
   "id": "8e19a464",
   "metadata": {
    "execution": {
     "iopub.execute_input": "2022-02-06T20:55:52.264268Z",
     "iopub.status.busy": "2022-02-06T20:55:52.263608Z",
     "iopub.status.idle": "2022-02-06T20:55:52.266387Z",
     "shell.execute_reply": "2022-02-06T20:55:52.265984Z",
     "shell.execute_reply.started": "2022-02-06T20:33:36.649131Z"
    },
    "papermill": {
     "duration": 0.090378,
     "end_time": "2022-02-06T20:55:52.266494",
     "exception": false,
     "start_time": "2022-02-06T20:55:52.176116",
     "status": "completed"
    },
    "tags": []
   },
   "outputs": [],
   "source": [
    "from torch.optim.lr_scheduler import ReduceLROnPlateau"
   ]
  },
  {
   "cell_type": "code",
   "execution_count": 63,
   "id": "cc1bc2c8",
   "metadata": {
    "execution": {
     "iopub.execute_input": "2022-02-06T20:55:52.445099Z",
     "iopub.status.busy": "2022-02-06T20:55:52.444534Z",
     "iopub.status.idle": "2022-02-06T20:55:52.447887Z",
     "shell.execute_reply": "2022-02-06T20:55:52.447387Z",
     "shell.execute_reply.started": "2022-02-06T20:33:41.631201Z"
    },
    "papermill": {
     "duration": 0.097339,
     "end_time": "2022-02-06T20:55:52.448009",
     "exception": false,
     "start_time": "2022-02-06T20:55:52.350670",
     "status": "completed"
    },
    "tags": []
   },
   "outputs": [],
   "source": [
    "def fit(model,train_dl,valid_dl,opt,lr,epochs):\n",
    "    history = []\n",
    "    optimizer = opt(model.parameters(), lr)\n",
    "    scheduler = ReduceLROnPlateau(optimizer, 'min',patience=0,verbose=True,factor=0.1)\n",
    "    for epoch in range(epochs):\n",
    "        epoch_acc=[]\n",
    "        epoch_bal_acc=[]\n",
    "        epoch_f1=[]\n",
    "        for batch in train_dl:\n",
    "            images,labels=batch\n",
    "            loss,acc,mic,mac,bal_acc=model.training_step(batch)\n",
    "            loss.backward()\n",
    "            optimizer.step()\n",
    "            optimizer.zero_grad()\n",
    "            epoch_acc.append(acc)\n",
    "            epoch_bal_acc.append(bal_acc)\n",
    "            epoch_f1.append(mac)\n",
    "        dic_train=torch.stack(epoch_acc).mean()\n",
    "        dic_bal=torch.stack(epoch_bal_acc).mean()\n",
    "        dic_f1=torch.stack(epoch_f1).mean()\n",
    "        \n",
    "        print(\"Epoch [{}], train_acc: {:.4f},train_bal_acc: {:.4f},train_f1: {:.4f}\".format(\n",
    "        epoch,dic_train,dic_bal,dic_f1))\n",
    "\n",
    "        res=[model.validation_step(batch) for batch in val_dl ]\n",
    "        dic=model.validation_epoch_end(res)\n",
    "        valid_loss=dic['val_loss']\n",
    "        scheduler.step(valid_loss)\n",
    "        history.append(dic)\n",
    "        model.epoch_end(epoch,dic)\n",
    "    return history"
   ]
  },
  {
   "cell_type": "code",
   "execution_count": 64,
   "id": "62d820e0",
   "metadata": {
    "execution": {
     "iopub.execute_input": "2022-02-06T20:55:52.622574Z",
     "iopub.status.busy": "2022-02-06T20:55:52.621071Z",
     "iopub.status.idle": "2022-02-06T20:55:52.623220Z",
     "shell.execute_reply": "2022-02-06T20:55:52.623610Z",
     "shell.execute_reply.started": "2022-02-06T20:33:51.089283Z"
    },
    "papermill": {
     "duration": 0.090551,
     "end_time": "2022-02-06T20:55:52.623745",
     "exception": false,
     "start_time": "2022-02-06T20:55:52.533194",
     "status": "completed"
    },
    "tags": []
   },
   "outputs": [],
   "source": [
    "opt=torch.optim.Adam"
   ]
  },
  {
   "cell_type": "code",
   "execution_count": 65,
   "id": "3c087f90",
   "metadata": {
    "execution": {
     "iopub.execute_input": "2022-02-06T20:55:52.796451Z",
     "iopub.status.busy": "2022-02-06T20:55:52.795900Z",
     "iopub.status.idle": "2022-02-06T20:55:52.798673Z",
     "shell.execute_reply": "2022-02-06T20:55:52.799269Z",
     "shell.execute_reply.started": "2022-02-06T20:33:51.327682Z"
    },
    "papermill": {
     "duration": 0.091643,
     "end_time": "2022-02-06T20:55:52.799431",
     "exception": false,
     "start_time": "2022-02-06T20:55:52.707788",
     "status": "completed"
    },
    "tags": []
   },
   "outputs": [
    {
     "name": "stdout",
     "output_type": "stream",
     "text": [
      "0.0001\n"
     ]
    }
   ],
   "source": [
    "a=10e-5\n",
    "print(a)"
   ]
  },
  {
   "cell_type": "code",
   "execution_count": 66,
   "id": "a5f8a8a0",
   "metadata": {
    "execution": {
     "iopub.execute_input": "2022-02-06T20:55:52.974019Z",
     "iopub.status.busy": "2022-02-06T20:55:52.973142Z",
     "iopub.status.idle": "2022-02-06T20:56:00.797456Z",
     "shell.execute_reply": "2022-02-06T20:56:00.798072Z",
     "shell.execute_reply.started": "2022-02-06T20:33:51.733016Z"
    },
    "papermill": {
     "duration": 7.912859,
     "end_time": "2022-02-06T20:56:00.798279",
     "exception": false,
     "start_time": "2022-02-06T20:55:52.885420",
     "status": "completed"
    },
    "tags": []
   },
   "outputs": [
    {
     "name": "stdout",
     "output_type": "stream",
     "text": [
      "Collecting torchsummary\r\n",
      "  Downloading torchsummary-1.5.1-py3-none-any.whl (2.8 kB)\r\n",
      "Installing collected packages: torchsummary\r\n",
      "Successfully installed torchsummary-1.5.1\r\n",
      "\u001b[33mWARNING: Running pip as the 'root' user can result in broken permissions and conflicting behaviour with the system package manager. It is recommended to use a virtual environment instead: https://pip.pypa.io/warnings/venv\u001b[0m\r\n",
      "Note: you may need to restart the kernel to use updated packages.\n"
     ]
    }
   ],
   "source": [
    "pip install torchsummary"
   ]
  },
  {
   "cell_type": "code",
   "execution_count": 67,
   "id": "0a256668",
   "metadata": {
    "execution": {
     "iopub.execute_input": "2022-02-06T20:56:00.976779Z",
     "iopub.status.busy": "2022-02-06T20:56:00.976034Z",
     "iopub.status.idle": "2022-02-06T20:56:00.982264Z",
     "shell.execute_reply": "2022-02-06T20:56:00.981846Z",
     "shell.execute_reply.started": "2022-02-06T20:34:01.253549Z"
    },
    "papermill": {
     "duration": 0.095003,
     "end_time": "2022-02-06T20:56:00.982373",
     "exception": false,
     "start_time": "2022-02-06T20:56:00.887370",
     "status": "completed"
    },
    "tags": []
   },
   "outputs": [],
   "source": [
    "from torchsummary import summary\n",
    "#summary(model,input_size=(3,260,260))"
   ]
  },
  {
   "cell_type": "code",
   "execution_count": 68,
   "id": "fc101512",
   "metadata": {
    "execution": {
     "iopub.execute_input": "2022-02-06T20:56:01.158803Z",
     "iopub.status.busy": "2022-02-06T20:56:01.158314Z",
     "iopub.status.idle": "2022-02-06T23:33:48.589801Z",
     "shell.execute_reply": "2022-02-06T23:33:48.589356Z",
     "shell.execute_reply.started": "2022-02-06T20:34:07.683569Z"
    },
    "papermill": {
     "duration": 9467.521397,
     "end_time": "2022-02-06T23:33:48.589941",
     "exception": false,
     "start_time": "2022-02-06T20:56:01.068544",
     "status": "completed"
    },
    "tags": []
   },
   "outputs": [
    {
     "name": "stdout",
     "output_type": "stream",
     "text": [
      "Epoch [0], train_acc: 0.3801,train_bal_acc: 0.3611,train_f1: 0.3274\n",
      "Epoch [0], val_loss: 1.5510, val_acc: 0.4729,val_mic: 0.4729, val_mac: 0.3955, bal_acc: 0.4222\n",
      "Epoch [1], train_acc: 0.4370,train_bal_acc: 0.4248,train_f1: 0.3915\n",
      "Epoch [1], val_loss: 1.5109, val_acc: 0.4840,val_mic: 0.4840, val_mac: 0.4164, bal_acc: 0.4385\n",
      "Epoch [2], train_acc: 0.4529,train_bal_acc: 0.4441,train_f1: 0.4120\n",
      "Epoch [2], val_loss: 1.4884, val_acc: 0.4954,val_mic: 0.4954, val_mac: 0.4418, bal_acc: 0.4584\n",
      "Epoch [3], train_acc: 0.4666,train_bal_acc: 0.4584,train_f1: 0.4280\n",
      "Epoch [3], val_loss: 1.4785, val_acc: 0.4874,val_mic: 0.4874, val_mac: 0.4190, bal_acc: 0.4482\n",
      "Epoch [4], train_acc: 0.4667,train_bal_acc: 0.4581,train_f1: 0.4267\n",
      "Epoch     5: reducing learning rate of group 0 to 1.0000e-03.\n",
      "Epoch [4], val_loss: 1.4929, val_acc: 0.4817,val_mic: 0.4817, val_mac: 0.4232, bal_acc: 0.4440\n",
      "Epoch [5], train_acc: 0.4857,train_bal_acc: 0.4823,train_f1: 0.4477\n",
      "Epoch [5], val_loss: 1.4430, val_acc: 0.4998,val_mic: 0.4998, val_mac: 0.4440, bal_acc: 0.4587\n",
      "Epoch [6], train_acc: 0.5003,train_bal_acc: 0.4995,train_f1: 0.4665\n",
      "Epoch [6], val_loss: 1.4167, val_acc: 0.5087,val_mic: 0.5087, val_mac: 0.4504, bal_acc: 0.4645\n",
      "Epoch [7], train_acc: 0.5052,train_bal_acc: 0.5057,train_f1: 0.4735\n",
      "Epoch [7], val_loss: 1.4150, val_acc: 0.5059,val_mic: 0.5059, val_mac: 0.4474, bal_acc: 0.4683\n",
      "Epoch [8], train_acc: 0.5117,train_bal_acc: 0.5092,train_f1: 0.4762\n",
      "Epoch [8], val_loss: 1.4124, val_acc: 0.5091,val_mic: 0.5091, val_mac: 0.4519, bal_acc: 0.4689\n",
      "Epoch [9], train_acc: 0.5189,train_bal_acc: 0.5199,train_f1: 0.4882\n",
      "Epoch [9], val_loss: 1.3968, val_acc: 0.5137,val_mic: 0.5137, val_mac: 0.4553, bal_acc: 0.4716\n"
     ]
    },
    {
     "data": {
      "text/plain": [
       "[{'val_loss': 1.5510109663009644,\n",
       "  'val_acc': 0.4728845953941345,\n",
       "  'micro_f1': 0.4728846153846154,\n",
       "  'macro_f1': 0.3955173305714715,\n",
       "  'bal_acc': 0.4222259697997724},\n",
       " {'val_loss': 1.5109347105026245,\n",
       "  'val_acc': 0.48400238156318665,\n",
       "  'micro_f1': 0.4840024038461539,\n",
       "  'macro_f1': 0.4163821216750199,\n",
       "  'bal_acc': 0.43853762279858066},\n",
       " {'val_loss': 1.4884130954742432,\n",
       "  'val_acc': 0.4953846037387848,\n",
       "  'micro_f1': 0.4953846153846154,\n",
       "  'macro_f1': 0.44179748551994924,\n",
       "  'bal_acc': 0.4583988200647978},\n",
       " {'val_loss': 1.478546380996704,\n",
       "  'val_acc': 0.48740386962890625,\n",
       "  'micro_f1': 0.48740384615384613,\n",
       "  'macro_f1': 0.4190288878568863,\n",
       "  'bal_acc': 0.44823366190682656},\n",
       " {'val_loss': 1.492917776107788,\n",
       "  'val_acc': 0.4816586375236511,\n",
       "  'micro_f1': 0.48165865384615386,\n",
       "  'macro_f1': 0.423227854300764,\n",
       "  'bal_acc': 0.4440207449118275},\n",
       " {'val_loss': 1.4429599046707153,\n",
       "  'val_acc': 0.49979567527770996,\n",
       "  'micro_f1': 0.4997956730769231,\n",
       "  'macro_f1': 0.4440491704728809,\n",
       "  'bal_acc': 0.4586720568829714},\n",
       " {'val_loss': 1.4167073965072632,\n",
       "  'val_acc': 0.5086538791656494,\n",
       "  'micro_f1': 0.5086538461538461,\n",
       "  'macro_f1': 0.4503623956774291,\n",
       "  'bal_acc': 0.4645046311466954},\n",
       " {'val_loss': 1.4150359630584717,\n",
       "  'val_acc': 0.5058773756027222,\n",
       "  'micro_f1': 0.5058774038461539,\n",
       "  'macro_f1': 0.44741417321526783,\n",
       "  'bal_acc': 0.46828474757366073},\n",
       " {'val_loss': 1.4123563766479492,\n",
       "  'val_acc': 0.5091345906257629,\n",
       "  'micro_f1': 0.5091346153846154,\n",
       "  'macro_f1': 0.45191428884804674,\n",
       "  'bal_acc': 0.46885994353079796},\n",
       " {'val_loss': 1.3968465328216553,\n",
       "  'val_acc': 0.5136778950691223,\n",
       "  'micro_f1': 0.5136778846153846,\n",
       "  'macro_f1': 0.4553420263526952,\n",
       "  'bal_acc': 0.47159712041341295}]"
      ]
     },
     "execution_count": 68,
     "metadata": {},
     "output_type": "execute_result"
    }
   ],
   "source": [
    "fit(model,train_dl,val_dl,opt,1*10e-3,10)"
   ]
  },
  {
   "cell_type": "code",
   "execution_count": 69,
   "id": "c3185427",
   "metadata": {
    "execution": {
     "iopub.execute_input": "2022-02-06T23:33:48.778999Z",
     "iopub.status.busy": "2022-02-06T23:33:48.778469Z",
     "iopub.status.idle": "2022-02-06T23:33:48.970528Z",
     "shell.execute_reply": "2022-02-06T23:33:48.970060Z"
    },
    "papermill": {
     "duration": 0.290293,
     "end_time": "2022-02-06T23:33:48.970657",
     "exception": false,
     "start_time": "2022-02-06T23:33:48.680364",
     "status": "completed"
    },
    "tags": []
   },
   "outputs": [],
   "source": [
    "torch.save(model.state_dict(), 'res_cust_0.pth')\n",
    "torch.save(model, 'res_cust_whole0.pkl')"
   ]
  },
  {
   "cell_type": "code",
   "execution_count": 70,
   "id": "51b2793e",
   "metadata": {
    "execution": {
     "iopub.execute_input": "2022-02-06T23:33:49.161780Z",
     "iopub.status.busy": "2022-02-06T23:33:49.161022Z",
     "iopub.status.idle": "2022-02-07T00:50:18.496442Z",
     "shell.execute_reply": "2022-02-07T00:50:18.495968Z",
     "shell.execute_reply.started": "2022-02-03T17:58:10.52731Z"
    },
    "papermill": {
     "duration": 4589.433105,
     "end_time": "2022-02-07T00:50:18.496589",
     "exception": false,
     "start_time": "2022-02-06T23:33:49.063484",
     "status": "completed"
    },
    "tags": []
   },
   "outputs": [
    {
     "name": "stdout",
     "output_type": "stream",
     "text": [
      "Epoch [0], train_acc: 0.5175,train_bal_acc: 0.5125,train_f1: 0.4820\n",
      "Epoch [0], val_loss: 1.4067, val_acc: 0.5075,val_mic: 0.5075, val_mac: 0.4487, bal_acc: 0.4667\n",
      "Epoch [1], train_acc: 0.5185,train_bal_acc: 0.5165,train_f1: 0.4860\n",
      "Epoch [1], val_loss: 1.3971, val_acc: 0.5120,val_mic: 0.5120, val_mac: 0.4546, bal_acc: 0.4712\n",
      "Epoch [2], train_acc: 0.5179,train_bal_acc: 0.5140,train_f1: 0.4838\n",
      "Epoch [2], val_loss: 1.3949, val_acc: 0.5127,val_mic: 0.5127, val_mac: 0.4556, bal_acc: 0.4713\n",
      "Epoch [3], train_acc: 0.5209,train_bal_acc: 0.5185,train_f1: 0.4863\n",
      "Epoch     4: reducing learning rate of group 0 to 5.0000e-06.\n",
      "Epoch [3], val_loss: 1.3996, val_acc: 0.5104,val_mic: 0.5104, val_mac: 0.4562, bal_acc: 0.4701\n",
      "Epoch [4], train_acc: 0.5259,train_bal_acc: 0.5254,train_f1: 0.4953\n",
      "Epoch     5: reducing learning rate of group 0 to 5.0000e-07.\n",
      "Epoch [4], val_loss: 1.3996, val_acc: 0.5118,val_mic: 0.5118, val_mac: 0.4548, bal_acc: 0.4678\n"
     ]
    },
    {
     "data": {
      "text/plain": [
       "[{'val_loss': 1.406713843345642,\n",
       "  'val_acc': 0.5074639320373535,\n",
       "  'micro_f1': 0.5074639423076923,\n",
       "  'macro_f1': 0.44865076780890945,\n",
       "  'bal_acc': 0.46673346244993325},\n",
       " {'val_loss': 1.39714777469635,\n",
       "  'val_acc': 0.511971116065979,\n",
       "  'micro_f1': 0.5119711538461539,\n",
       "  'macro_f1': 0.45464147081063666,\n",
       "  'bal_acc': 0.4711801582153726},\n",
       " {'val_loss': 1.3949476480484009,\n",
       "  'val_acc': 0.5127043128013611,\n",
       "  'micro_f1': 0.5127043269230769,\n",
       "  'macro_f1': 0.45562851187451914,\n",
       "  'bal_acc': 0.4712511721740331},\n",
       " {'val_loss': 1.3996423482894897,\n",
       "  'val_acc': 0.5103846192359924,\n",
       "  'micro_f1': 0.5103846153846154,\n",
       "  'macro_f1': 0.4561652719016647,\n",
       "  'bal_acc': 0.4701473172825774},\n",
       " {'val_loss': 1.3996392488479614,\n",
       "  'val_acc': 0.5117908716201782,\n",
       "  'micro_f1': 0.5117908653846154,\n",
       "  'macro_f1': 0.4548192523309902,\n",
       "  'bal_acc': 0.46783616665750777}]"
      ]
     },
     "execution_count": 70,
     "metadata": {},
     "output_type": "execute_result"
    }
   ],
   "source": [
    "fit(model,train_dl,val_dl,opt,5*10e-6,5)"
   ]
  },
  {
   "cell_type": "code",
   "execution_count": 71,
   "id": "7b66f053",
   "metadata": {
    "execution": {
     "iopub.execute_input": "2022-02-07T00:50:18.696485Z",
     "iopub.status.busy": "2022-02-07T00:50:18.695659Z",
     "iopub.status.idle": "2022-02-07T00:50:18.889458Z",
     "shell.execute_reply": "2022-02-07T00:50:18.890174Z"
    },
    "papermill": {
     "duration": 0.297642,
     "end_time": "2022-02-07T00:50:18.890374",
     "exception": false,
     "start_time": "2022-02-07T00:50:18.592732",
     "status": "completed"
    },
    "tags": []
   },
   "outputs": [],
   "source": [
    "torch.save(model.state_dict(), 'res_cust_1.pth')\n",
    "torch.save(model, 'res_cust_whole1.pkl')"
   ]
  },
  {
   "cell_type": "code",
   "execution_count": 72,
   "id": "89a6f55d",
   "metadata": {
    "execution": {
     "iopub.execute_input": "2022-02-07T00:50:19.106090Z",
     "iopub.status.busy": "2022-02-07T00:50:19.105107Z",
     "iopub.status.idle": "2022-02-07T00:50:19.107127Z",
     "shell.execute_reply": "2022-02-07T00:50:19.107609Z"
    },
    "papermill": {
     "duration": 0.108315,
     "end_time": "2022-02-07T00:50:19.107845",
     "exception": false,
     "start_time": "2022-02-07T00:50:18.999530",
     "status": "completed"
    },
    "tags": []
   },
   "outputs": [],
   "source": [
    "for param in model_transfer.parameters():\n",
    "    param.requires_grad=True"
   ]
  },
  {
   "cell_type": "code",
   "execution_count": 73,
   "id": "4b2bc3d5",
   "metadata": {
    "execution": {
     "iopub.execute_input": "2022-02-07T00:50:19.323603Z",
     "iopub.status.busy": "2022-02-07T00:50:19.322811Z",
     "iopub.status.idle": "2022-02-07T05:13:42.798383Z",
     "shell.execute_reply": "2022-02-07T05:13:42.797655Z",
     "shell.execute_reply.started": "2022-01-29T14:44:43.220226Z"
    },
    "papermill": {
     "duration": 15803.585622,
     "end_time": "2022-02-07T05:13:42.798549",
     "exception": false,
     "start_time": "2022-02-07T00:50:19.212927",
     "status": "completed"
    },
    "tags": []
   },
   "outputs": [
    {
     "name": "stdout",
     "output_type": "stream",
     "text": [
      "Epoch [0], train_acc: 0.5981,train_bal_acc: 0.6060,train_f1: 0.5709\n",
      "Epoch [0], val_loss: 1.0082, val_acc: 0.6675,val_mic: 0.6675, val_mac: 0.6303, bal_acc: 0.6495\n",
      "Epoch [1], train_acc: 0.6869,train_bal_acc: 0.7060,train_f1: 0.6751\n",
      "Epoch [1], val_loss: 0.9356, val_acc: 0.6846,val_mic: 0.6846, val_mac: 0.6613, bal_acc: 0.6819\n",
      "Epoch [2], train_acc: 0.7271,train_bal_acc: 0.7495,train_f1: 0.7183\n",
      "Epoch [2], val_loss: 0.8527, val_acc: 0.7025,val_mic: 0.7025, val_mac: 0.6788, bal_acc: 0.6934\n",
      "Epoch [3], train_acc: 0.7556,train_bal_acc: 0.7784,train_f1: 0.7488\n",
      "Epoch [3], val_loss: 0.8279, val_acc: 0.7174,val_mic: 0.7174, val_mac: 0.7024, bal_acc: 0.7162\n",
      "Epoch [4], train_acc: 0.7856,train_bal_acc: 0.8114,train_f1: 0.7836\n",
      "Epoch     5: reducing learning rate of group 0 to 2.0000e-05.\n",
      "Epoch [4], val_loss: 0.8868, val_acc: 0.6990,val_mic: 0.6990, val_mac: 0.6827, bal_acc: 0.6948\n",
      "Epoch [5], train_acc: 0.8048,train_bal_acc: 0.8278,train_f1: 0.8000\n",
      "Epoch [5], val_loss: 0.7916, val_acc: 0.7244,val_mic: 0.7244, val_mac: 0.7180, bal_acc: 0.7276\n",
      "Epoch [6], train_acc: 0.8201,train_bal_acc: 0.8437,train_f1: 0.8145\n",
      "Epoch [6], val_loss: 0.7833, val_acc: 0.7304,val_mic: 0.7304, val_mac: 0.7271, bal_acc: 0.7361\n",
      "Epoch [7], train_acc: 0.8307,train_bal_acc: 0.8568,train_f1: 0.8309\n",
      "Epoch     8: reducing learning rate of group 0 to 2.0000e-06.\n",
      "Epoch [7], val_loss: 0.7923, val_acc: 0.7296,val_mic: 0.7296, val_mac: 0.7146, bal_acc: 0.7306\n",
      "Epoch [8], train_acc: 0.8403,train_bal_acc: 0.8614,train_f1: 0.8369\n",
      "Epoch [8], val_loss: 0.7744, val_acc: 0.7335,val_mic: 0.7335, val_mac: 0.7230, bal_acc: 0.7389\n",
      "Epoch [9], train_acc: 0.8416,train_bal_acc: 0.8651,train_f1: 0.8410\n",
      "Epoch [9], val_loss: 0.7697, val_acc: 0.7329,val_mic: 0.7329, val_mac: 0.7273, bal_acc: 0.7428\n",
      "Epoch [10], train_acc: 0.8421,train_bal_acc: 0.8661,train_f1: 0.8421\n",
      "Epoch    11: reducing learning rate of group 0 to 2.0000e-07.\n",
      "Epoch [10], val_loss: 0.7747, val_acc: 0.7333,val_mic: 0.7333, val_mac: 0.7173, bal_acc: 0.7338\n",
      "Epoch [11], train_acc: 0.8439,train_bal_acc: 0.8668,train_f1: 0.8428\n",
      "Epoch    12: reducing learning rate of group 0 to 2.0000e-08.\n",
      "Epoch [11], val_loss: 0.7764, val_acc: 0.7343,val_mic: 0.7343, val_mac: 0.7277, bal_acc: 0.7399\n",
      "Epoch [12], train_acc: 0.8423,train_bal_acc: 0.8642,train_f1: 0.8395\n",
      "Epoch    13: reducing learning rate of group 0 to 2.0000e-09.\n",
      "Epoch [12], val_loss: 0.7702, val_acc: 0.7363,val_mic: 0.7363, val_mac: 0.7285, bal_acc: 0.7437\n",
      "Epoch [13], train_acc: 0.8428,train_bal_acc: 0.8635,train_f1: 0.8396\n",
      "Epoch [13], val_loss: 0.7691, val_acc: 0.7336,val_mic: 0.7336, val_mac: 0.7276, bal_acc: 0.7383\n",
      "Epoch [14], train_acc: 0.8424,train_bal_acc: 0.8669,train_f1: 0.8421\n",
      "Epoch [14], val_loss: 0.7700, val_acc: 0.7344,val_mic: 0.7344, val_mac: 0.7251, bal_acc: 0.7372\n"
     ]
    },
    {
     "data": {
      "text/plain": [
       "[{'val_loss': 1.0081653594970703,\n",
       "  'val_acc': 0.6675360202789307,\n",
       "  'micro_f1': 0.6675360576923077,\n",
       "  'macro_f1': 0.630269863217437,\n",
       "  'bal_acc': 0.6495438407346373},\n",
       " {'val_loss': 0.9356294870376587,\n",
       "  'val_acc': 0.6845552921295166,\n",
       "  'micro_f1': 0.6845552884615383,\n",
       "  'macro_f1': 0.6613274875341074,\n",
       "  'bal_acc': 0.6819143272952425},\n",
       " {'val_loss': 0.8526773452758789,\n",
       "  'val_acc': 0.702548086643219,\n",
       "  'micro_f1': 0.702548076923077,\n",
       "  'macro_f1': 0.6788360699312014,\n",
       "  'bal_acc': 0.6933941046995191},\n",
       " {'val_loss': 0.8278999328613281,\n",
       "  'val_acc': 0.7173797488212585,\n",
       "  'micro_f1': 0.7173798076923077,\n",
       "  'macro_f1': 0.7024228318795264,\n",
       "  'bal_acc': 0.716223008151571},\n",
       " {'val_loss': 0.8867886066436768,\n",
       "  'val_acc': 0.698966383934021,\n",
       "  'micro_f1': 0.6989663461538461,\n",
       "  'macro_f1': 0.6826546423482762,\n",
       "  'bal_acc': 0.6947599581379416},\n",
       " {'val_loss': 0.791593611240387,\n",
       "  'val_acc': 0.7244110107421875,\n",
       "  'micro_f1': 0.7244110576923077,\n",
       "  'macro_f1': 0.7179650222298565,\n",
       "  'bal_acc': 0.7275875205975637},\n",
       " {'val_loss': 0.7833020091056824,\n",
       "  'val_acc': 0.7303845882415771,\n",
       "  'micro_f1': 0.7303846153846155,\n",
       "  'macro_f1': 0.7271344703755821,\n",
       "  'bal_acc': 0.7360583207471072},\n",
       " {'val_loss': 0.7923008799552917,\n",
       "  'val_acc': 0.7296033501625061,\n",
       "  'micro_f1': 0.7296033653846155,\n",
       "  'macro_f1': 0.7146074130398351,\n",
       "  'bal_acc': 0.7305536225312929},\n",
       " {'val_loss': 0.7744317650794983,\n",
       "  'val_acc': 0.733473539352417,\n",
       "  'micro_f1': 0.7334735576923077,\n",
       "  'macro_f1': 0.7229728303397402,\n",
       "  'bal_acc': 0.7389490251866383},\n",
       " {'val_loss': 0.7697169184684753,\n",
       "  'val_acc': 0.7328605651855469,\n",
       "  'micro_f1': 0.7328605769230769,\n",
       "  'macro_f1': 0.7273073078831422,\n",
       "  'bal_acc': 0.7427728679791541},\n",
       " {'val_loss': 0.7747364640235901,\n",
       "  'val_acc': 0.7333052754402161,\n",
       "  'micro_f1': 0.7333052884615384,\n",
       "  'macro_f1': 0.7172917459799141,\n",
       "  'bal_acc': 0.7337731170950106},\n",
       " {'val_loss': 0.7763648629188538,\n",
       "  'val_acc': 0.734254777431488,\n",
       "  'micro_f1': 0.7342548076923078,\n",
       "  'macro_f1': 0.7277450490505012,\n",
       "  'bal_acc': 0.7398737665914524},\n",
       " {'val_loss': 0.7701922655105591,\n",
       "  'val_acc': 0.736274003982544,\n",
       "  'micro_f1': 0.7362740384615384,\n",
       "  'macro_f1': 0.7284936558475954,\n",
       "  'bal_acc': 0.7437496978118022},\n",
       " {'val_loss': 0.7690590023994446,\n",
       "  'val_acc': 0.7336177825927734,\n",
       "  'micro_f1': 0.7336177884615384,\n",
       "  'macro_f1': 0.7275720564976405,\n",
       "  'bal_acc': 0.7382994353288939},\n",
       " {'val_loss': 0.7699572443962097,\n",
       "  'val_acc': 0.734423041343689,\n",
       "  'micro_f1': 0.734423076923077,\n",
       "  'macro_f1': 0.7251209546907262,\n",
       "  'bal_acc': 0.737199884651109}]"
      ]
     },
     "execution_count": 73,
     "metadata": {},
     "output_type": "execute_result"
    }
   ],
   "source": [
    "fit(model,train_dl,val_dl,opt,2*10e-5,15)      "
   ]
  },
  {
   "cell_type": "code",
   "execution_count": 74,
   "id": "175eb813",
   "metadata": {
    "execution": {
     "iopub.execute_input": "2022-02-07T05:13:43.136796Z",
     "iopub.status.busy": "2022-02-07T05:13:43.136003Z",
     "iopub.status.idle": "2022-02-07T05:13:43.409019Z",
     "shell.execute_reply": "2022-02-07T05:13:43.410140Z"
    },
    "papermill": {
     "duration": 0.448092,
     "end_time": "2022-02-07T05:13:43.410362",
     "exception": false,
     "start_time": "2022-02-07T05:13:42.962270",
     "status": "completed"
    },
    "tags": []
   },
   "outputs": [],
   "source": [
    "torch.save(model.state_dict(), 'res_cust_2.pth')\n",
    "torch.save(model, 'res_cust_whole2.pkl')"
   ]
  },
  {
   "cell_type": "code",
   "execution_count": null,
   "id": "7277dfc6",
   "metadata": {
    "execution": {
     "iopub.execute_input": "2022-01-29T15:53:43.578405Z",
     "iopub.status.busy": "2022-01-29T15:53:43.577744Z"
    },
    "papermill": {
     "duration": 0.170486,
     "end_time": "2022-02-07T05:13:43.749504",
     "exception": false,
     "start_time": "2022-02-07T05:13:43.579018",
     "status": "completed"
    },
    "tags": []
   },
   "outputs": [],
   "source": []
  },
  {
   "cell_type": "code",
   "execution_count": null,
   "id": "e9af16bf",
   "metadata": {
    "papermill": {
     "duration": 0.100882,
     "end_time": "2022-02-07T05:13:43.980218",
     "exception": false,
     "start_time": "2022-02-07T05:13:43.879336",
     "status": "completed"
    },
    "tags": []
   },
   "outputs": [],
   "source": []
  },
  {
   "cell_type": "code",
   "execution_count": 75,
   "id": "ff70917d",
   "metadata": {
    "execution": {
     "iopub.execute_input": "2022-02-07T05:13:44.188107Z",
     "iopub.status.busy": "2022-02-07T05:13:44.187313Z",
     "iopub.status.idle": "2022-02-07T05:13:44.189748Z",
     "shell.execute_reply": "2022-02-07T05:13:44.189345Z",
     "shell.execute_reply.started": "2022-02-03T19:03:40.199049Z"
    },
    "papermill": {
     "duration": 0.107956,
     "end_time": "2022-02-07T05:13:44.189891",
     "exception": false,
     "start_time": "2022-02-07T05:13:44.081935",
     "status": "completed"
    },
    "tags": []
   },
   "outputs": [],
   "source": [
    "import glob"
   ]
  },
  {
   "cell_type": "code",
   "execution_count": 76,
   "id": "f64c4a47",
   "metadata": {
    "execution": {
     "iopub.execute_input": "2022-02-07T05:13:44.397864Z",
     "iopub.status.busy": "2022-02-07T05:13:44.397323Z",
     "iopub.status.idle": "2022-02-07T05:13:44.876765Z",
     "shell.execute_reply": "2022-02-07T05:13:44.876274Z",
     "shell.execute_reply.started": "2022-02-03T19:03:40.557338Z"
    },
    "papermill": {
     "duration": 0.584886,
     "end_time": "2022-02-07T05:13:44.876913",
     "exception": false,
     "start_time": "2022-02-07T05:13:44.292027",
     "status": "completed"
    },
    "tags": []
   },
   "outputs": [],
   "source": [
    "from os import listdir\n",
    "onlyfiles = [f for f in listdir('../input/stylumia-complete/test')]"
   ]
  },
  {
   "cell_type": "code",
   "execution_count": 77,
   "id": "26ee9695",
   "metadata": {
    "execution": {
     "iopub.execute_input": "2022-02-07T05:13:45.097085Z",
     "iopub.status.busy": "2022-02-07T05:13:45.096107Z",
     "iopub.status.idle": "2022-02-07T05:13:45.098644Z",
     "shell.execute_reply": "2022-02-07T05:13:45.098048Z",
     "shell.execute_reply.started": "2022-02-03T19:03:42.05182Z"
    },
    "papermill": {
     "duration": 0.109412,
     "end_time": "2022-02-07T05:13:45.098775",
     "exception": false,
     "start_time": "2022-02-07T05:13:44.989363",
     "status": "completed"
    },
    "tags": []
   },
   "outputs": [],
   "source": [
    "#onlyfiles"
   ]
  },
  {
   "cell_type": "code",
   "execution_count": 78,
   "id": "743013dc",
   "metadata": {
    "execution": {
     "iopub.execute_input": "2022-02-07T05:13:45.327110Z",
     "iopub.status.busy": "2022-02-07T05:13:45.326293Z",
     "iopub.status.idle": "2022-02-07T05:13:45.396775Z",
     "shell.execute_reply": "2022-02-07T05:13:45.396350Z",
     "shell.execute_reply.started": "2022-02-03T19:03:42.278324Z"
    },
    "papermill": {
     "duration": 0.183247,
     "end_time": "2022-02-07T05:13:45.396922",
     "exception": false,
     "start_time": "2022-02-07T05:13:45.213675",
     "status": "completed"
    },
    "tags": []
   },
   "outputs": [],
   "source": [
    "file_name=[]\n",
    "for name in glob.glob('../input/stylumia-complete/test/*'):\n",
    "    file_name1=name.split('/')\n",
    "    #print(file_name1[-1])\n",
    "    file_name.append(file_name1[-1])"
   ]
  },
  {
   "cell_type": "code",
   "execution_count": 79,
   "id": "687715a0",
   "metadata": {
    "execution": {
     "iopub.execute_input": "2022-02-07T05:13:45.605087Z",
     "iopub.status.busy": "2022-02-07T05:13:45.604541Z",
     "iopub.status.idle": "2022-02-07T05:13:45.608237Z",
     "shell.execute_reply": "2022-02-07T05:13:45.607797Z",
     "shell.execute_reply.started": "2022-02-03T19:03:42.516781Z"
    },
    "papermill": {
     "duration": 0.110064,
     "end_time": "2022-02-07T05:13:45.608353",
     "exception": false,
     "start_time": "2022-02-07T05:13:45.498289",
     "status": "completed"
    },
    "tags": []
   },
   "outputs": [],
   "source": [
    "test_df=pd.DataFrame()"
   ]
  },
  {
   "cell_type": "code",
   "execution_count": 80,
   "id": "ef336229",
   "metadata": {
    "execution": {
     "iopub.execute_input": "2022-02-07T05:13:45.823634Z",
     "iopub.status.busy": "2022-02-07T05:13:45.822108Z",
     "iopub.status.idle": "2022-02-07T05:13:45.824234Z",
     "shell.execute_reply": "2022-02-07T05:13:45.824623Z",
     "shell.execute_reply.started": "2022-02-03T19:03:44.278641Z"
    },
    "papermill": {
     "duration": 0.115627,
     "end_time": "2022-02-07T05:13:45.824764",
     "exception": false,
     "start_time": "2022-02-07T05:13:45.709137",
     "status": "completed"
    },
    "tags": []
   },
   "outputs": [],
   "source": [
    "test_df['file_name']=pd.Series(file_name)"
   ]
  },
  {
   "cell_type": "code",
   "execution_count": 81,
   "id": "fab2a4ad",
   "metadata": {
    "execution": {
     "iopub.execute_input": "2022-02-07T05:13:46.042420Z",
     "iopub.status.busy": "2022-02-07T05:13:46.041239Z",
     "iopub.status.idle": "2022-02-07T05:13:46.044444Z",
     "shell.execute_reply": "2022-02-07T05:13:46.044868Z",
     "shell.execute_reply.started": "2022-02-03T19:03:45.852902Z"
    },
    "papermill": {
     "duration": 0.115462,
     "end_time": "2022-02-07T05:13:46.045009",
     "exception": false,
     "start_time": "2022-02-07T05:13:45.929547",
     "status": "completed"
    },
    "tags": []
   },
   "outputs": [
    {
     "data": {
      "text/html": [
       "<div>\n",
       "<style scoped>\n",
       "    .dataframe tbody tr th:only-of-type {\n",
       "        vertical-align: middle;\n",
       "    }\n",
       "\n",
       "    .dataframe tbody tr th {\n",
       "        vertical-align: top;\n",
       "    }\n",
       "\n",
       "    .dataframe thead th {\n",
       "        text-align: right;\n",
       "    }\n",
       "</style>\n",
       "<table border=\"1\" class=\"dataframe\">\n",
       "  <thead>\n",
       "    <tr style=\"text-align: right;\">\n",
       "      <th></th>\n",
       "      <th>file_name</th>\n",
       "    </tr>\n",
       "  </thead>\n",
       "  <tbody>\n",
       "    <tr>\n",
       "      <th>0</th>\n",
       "      <td>Image_test_015339.jpg</td>\n",
       "    </tr>\n",
       "    <tr>\n",
       "      <th>1</th>\n",
       "      <td>Image_test_015427.jpg</td>\n",
       "    </tr>\n",
       "    <tr>\n",
       "      <th>2</th>\n",
       "      <td>Image_test_006765.jpg</td>\n",
       "    </tr>\n",
       "    <tr>\n",
       "      <th>3</th>\n",
       "      <td>Image_test_009681.jpg</td>\n",
       "    </tr>\n",
       "    <tr>\n",
       "      <th>4</th>\n",
       "      <td>Image_test_002734.jpg</td>\n",
       "    </tr>\n",
       "    <tr>\n",
       "      <th>...</th>\n",
       "      <td>...</td>\n",
       "    </tr>\n",
       "    <tr>\n",
       "      <th>18218</th>\n",
       "      <td>Image_test_017934.jpg</td>\n",
       "    </tr>\n",
       "    <tr>\n",
       "      <th>18219</th>\n",
       "      <td>Image_test_008324.jpg</td>\n",
       "    </tr>\n",
       "    <tr>\n",
       "      <th>18220</th>\n",
       "      <td>Image_test_010326.jpg</td>\n",
       "    </tr>\n",
       "    <tr>\n",
       "      <th>18221</th>\n",
       "      <td>Image_test_001255.jpg</td>\n",
       "    </tr>\n",
       "    <tr>\n",
       "      <th>18222</th>\n",
       "      <td>Image_test_006906.jpg</td>\n",
       "    </tr>\n",
       "  </tbody>\n",
       "</table>\n",
       "<p>18223 rows × 1 columns</p>\n",
       "</div>"
      ],
      "text/plain": [
       "                   file_name\n",
       "0      Image_test_015339.jpg\n",
       "1      Image_test_015427.jpg\n",
       "2      Image_test_006765.jpg\n",
       "3      Image_test_009681.jpg\n",
       "4      Image_test_002734.jpg\n",
       "...                      ...\n",
       "18218  Image_test_017934.jpg\n",
       "18219  Image_test_008324.jpg\n",
       "18220  Image_test_010326.jpg\n",
       "18221  Image_test_001255.jpg\n",
       "18222  Image_test_006906.jpg\n",
       "\n",
       "[18223 rows x 1 columns]"
      ]
     },
     "execution_count": 81,
     "metadata": {},
     "output_type": "execute_result"
    }
   ],
   "source": [
    "test_df"
   ]
  },
  {
   "cell_type": "code",
   "execution_count": 82,
   "id": "ac89ca5d",
   "metadata": {
    "execution": {
     "iopub.execute_input": "2022-02-07T05:13:46.252980Z",
     "iopub.status.busy": "2022-02-07T05:13:46.252074Z",
     "iopub.status.idle": "2022-02-07T05:13:46.254676Z",
     "shell.execute_reply": "2022-02-07T05:13:46.254279Z",
     "shell.execute_reply.started": "2022-02-03T19:03:47.29547Z"
    },
    "papermill": {
     "duration": 0.108165,
     "end_time": "2022-02-07T05:13:46.254785",
     "exception": false,
     "start_time": "2022-02-07T05:13:46.146620",
     "status": "completed"
    },
    "tags": []
   },
   "outputs": [],
   "source": [
    "data_folder=\"../input/stylumia-complete/\""
   ]
  },
  {
   "cell_type": "code",
   "execution_count": 83,
   "id": "ad28d989",
   "metadata": {
    "execution": {
     "iopub.execute_input": "2022-02-07T05:13:46.468791Z",
     "iopub.status.busy": "2022-02-07T05:13:46.467142Z",
     "iopub.status.idle": "2022-02-07T05:13:46.469389Z",
     "shell.execute_reply": "2022-02-07T05:13:46.469776Z",
     "shell.execute_reply.started": "2022-02-03T19:03:54.142939Z"
    },
    "papermill": {
     "duration": 0.113886,
     "end_time": "2022-02-07T05:13:46.469936",
     "exception": false,
     "start_time": "2022-02-07T05:13:46.356050",
     "status": "completed"
    },
    "tags": []
   },
   "outputs": [],
   "source": [
    "class CustomDataset_test(torch.utils.data.Dataset):\n",
    "    def __init__(self, df, images_folder,mode,stats,transform = ToTensor()):\n",
    "        self.df = df\n",
    "        self.mode=mode\n",
    "        self.images_folder = os.path.join(images_folder+'test')\n",
    "       \n",
    "        self.transform1=Resize((260,260))\n",
    "        self.train_tfms=tt.Compose([tt.RandomCrop(112,padding=4,padding_mode='reflect'),\n",
    "                      tt.RandomHorizontalFlip(),\n",
    "                      tt.ToTensor(),\n",
    "                      tt.Normalize(*stats,inplace=True)])\n",
    "        self.valid_tfms=tt.Compose([tt.ToTensor(),tt.Normalize(*stats,inplace=True)])\n",
    "\n",
    "    def __len__(self):\n",
    "        return len(self.df)\n",
    "    def __getitem__(self, index):\n",
    "        filename = self.df.loc[index, \"file_name\"]\n",
    "        #print(os.path.join(self.images_folder,filename))\n",
    "        image = PIL.Image.open(os.path.join(self.images_folder,filename))\n",
    "        if self.mode=='train':\n",
    "            image=self.transform1(image)\n",
    "            image=self.train_tfms(image)\n",
    "        else:\n",
    "            image=self.transform1(image)\n",
    "            image=self.valid_tfms(image)\n",
    "        return image,filename"
   ]
  },
  {
   "cell_type": "code",
   "execution_count": 84,
   "id": "8a66299f",
   "metadata": {
    "execution": {
     "iopub.execute_input": "2022-02-07T05:13:46.689359Z",
     "iopub.status.busy": "2022-02-07T05:13:46.687741Z",
     "iopub.status.idle": "2022-02-07T05:13:46.689947Z",
     "shell.execute_reply": "2022-02-07T05:13:46.690358Z",
     "shell.execute_reply.started": "2022-02-03T19:03:56.09311Z"
    },
    "papermill": {
     "duration": 0.119324,
     "end_time": "2022-02-07T05:13:46.690493",
     "exception": false,
     "start_time": "2022-02-07T05:13:46.571169",
     "status": "completed"
    },
    "tags": []
   },
   "outputs": [],
   "source": [
    "dataset_test=CustomDataset_test(test_df,data_folder,\"test\",stats)"
   ]
  },
  {
   "cell_type": "code",
   "execution_count": 85,
   "id": "d1be3a04",
   "metadata": {
    "execution": {
     "iopub.execute_input": "2022-02-07T05:13:46.902320Z",
     "iopub.status.busy": "2022-02-07T05:13:46.901450Z",
     "iopub.status.idle": "2022-02-07T05:13:46.905445Z",
     "shell.execute_reply": "2022-02-07T05:13:46.907664Z",
     "shell.execute_reply.started": "2022-02-03T19:03:56.648779Z"
    },
    "papermill": {
     "duration": 0.115136,
     "end_time": "2022-02-07T05:13:46.907886",
     "exception": false,
     "start_time": "2022-02-07T05:13:46.792750",
     "status": "completed"
    },
    "tags": []
   },
   "outputs": [],
   "source": [
    "test_dl = DataLoader(dataset=dataset_test, shuffle=True, batch_size=64)"
   ]
  },
  {
   "cell_type": "code",
   "execution_count": 86,
   "id": "61c3c6e8",
   "metadata": {
    "execution": {
     "iopub.execute_input": "2022-02-07T05:13:47.233037Z",
     "iopub.status.busy": "2022-02-07T05:13:47.232162Z",
     "iopub.status.idle": "2022-02-07T05:13:50.819052Z",
     "shell.execute_reply": "2022-02-07T05:13:50.818482Z",
     "shell.execute_reply.started": "2022-02-03T19:04:00.033898Z"
    },
    "papermill": {
     "duration": 3.75618,
     "end_time": "2022-02-07T05:13:50.819212",
     "exception": false,
     "start_time": "2022-02-07T05:13:47.063032",
     "status": "completed"
    },
    "tags": []
   },
   "outputs": [],
   "source": [
    "for i in test_dl:\n",
    "    #print(i)\n",
    "    break"
   ]
  },
  {
   "cell_type": "code",
   "execution_count": 87,
   "id": "677d090c",
   "metadata": {
    "execution": {
     "iopub.execute_input": "2022-02-07T05:13:51.049892Z",
     "iopub.status.busy": "2022-02-07T05:13:51.049088Z",
     "iopub.status.idle": "2022-02-07T05:13:51.051144Z",
     "shell.execute_reply": "2022-02-07T05:13:51.051568Z",
     "shell.execute_reply.started": "2022-02-03T19:04:04.232905Z"
    },
    "papermill": {
     "duration": 0.119194,
     "end_time": "2022-02-07T05:13:51.051705",
     "exception": false,
     "start_time": "2022-02-07T05:13:50.932511",
     "status": "completed"
    },
    "tags": []
   },
   "outputs": [],
   "source": [
    "def get_default_device():\n",
    "    \"\"\"Pick GPU if available, else CPU\"\"\"\n",
    "    if torch.cuda.is_available():\n",
    "        return torch.device('cuda')\n",
    "    else:\n",
    "        return torch.device('cpu')\n",
    "    \n",
    "def to_device(data, device):\n",
    "    \"\"\"Move tensor(s) to chosen device\"\"\"\n",
    "    if isinstance(data, (list,tuple)):\n",
    "        return [to_device(x, device) for x in data]\n",
    "    return data.to(device, non_blocking=True)\n",
    "\n",
    "class DeviceDataLoader():\n",
    "    \"\"\"Wrap a dataloader to move data to a device\"\"\"\n",
    "    def __init__(self, dl, device):\n",
    "        self.dl = dl\n",
    "        self.device = device\n",
    "        \n",
    "    def __iter__(self):\n",
    "        \"\"\"Yield a batch of data after moving it to device\"\"\"\n",
    "        for b in self.dl: \n",
    "            yield to_device(b, self.device)\n",
    "\n",
    "    def __len__(self):\n",
    "        \"\"\"Number of batches\"\"\"\n",
    "        return len(self.dl)"
   ]
  },
  {
   "cell_type": "code",
   "execution_count": 88,
   "id": "98c0daf1",
   "metadata": {
    "execution": {
     "iopub.execute_input": "2022-02-07T05:13:51.264547Z",
     "iopub.status.busy": "2022-02-07T05:13:51.263037Z",
     "iopub.status.idle": "2022-02-07T05:13:51.266585Z",
     "shell.execute_reply": "2022-02-07T05:13:51.266146Z",
     "shell.execute_reply.started": "2022-02-03T19:04:04.245404Z"
    },
    "papermill": {
     "duration": 0.112488,
     "end_time": "2022-02-07T05:13:51.266696",
     "exception": false,
     "start_time": "2022-02-07T05:13:51.154208",
     "status": "completed"
    },
    "tags": []
   },
   "outputs": [
    {
     "data": {
      "text/plain": [
       "device(type='cuda')"
      ]
     },
     "execution_count": 88,
     "metadata": {},
     "output_type": "execute_result"
    }
   ],
   "source": [
    "device = get_default_device()\n",
    "device"
   ]
  },
  {
   "cell_type": "code",
   "execution_count": 89,
   "id": "870d7307",
   "metadata": {
    "execution": {
     "iopub.execute_input": "2022-02-07T05:13:51.476919Z",
     "iopub.status.busy": "2022-02-07T05:13:51.476128Z",
     "iopub.status.idle": "2022-02-07T05:13:54.844119Z",
     "shell.execute_reply": "2022-02-07T05:13:54.844679Z",
     "shell.execute_reply.started": "2022-02-03T19:04:07.252975Z"
    },
    "papermill": {
     "duration": 3.474855,
     "end_time": "2022-02-07T05:13:54.844854",
     "exception": false,
     "start_time": "2022-02-07T05:13:51.369999",
     "status": "completed"
    },
    "tags": []
   },
   "outputs": [
    {
     "name": "stdout",
     "output_type": "stream",
     "text": [
      "[tensor([[[[-0.8482, -0.8482, -0.8482,  ..., -0.5888, -0.5888, -0.5888],\n",
      "          [-0.8482, -0.8338, -0.8338,  ..., -0.5888, -0.5888, -0.5888],\n",
      "          [-0.8338, -0.8194, -0.8194,  ..., -0.5744, -0.5744, -0.5744],\n",
      "          ...,\n",
      "          [-0.7905, -0.8050, -0.8050,  ..., -0.4447, -0.4447, -0.4447],\n",
      "          [-0.7905, -0.8050, -0.8050,  ..., -0.4591, -0.4591, -0.4591],\n",
      "          [-0.7905, -0.7905, -0.7905,  ..., -0.4735, -0.4735, -0.4879]],\n",
      "\n",
      "         [[-0.5052, -0.5052, -0.5052,  ..., -0.2511, -0.2511, -0.2511],\n",
      "          [-0.5052, -0.4919, -0.4919,  ..., -0.2511, -0.2511, -0.2511],\n",
      "          [-0.4919, -0.4785, -0.4785,  ..., -0.2377, -0.2377, -0.2377],\n",
      "          ...,\n",
      "          [-0.4384, -0.4517, -0.4517,  ..., -0.1307, -0.1307, -0.1307],\n",
      "          [-0.4517, -0.4517, -0.4517,  ..., -0.1441, -0.1441, -0.1441],\n",
      "          [-0.4651, -0.4651, -0.4651,  ..., -0.1575, -0.1575, -0.1709]],\n",
      "\n",
      "         [[-0.7551, -0.7551, -0.7551,  ..., -0.4394, -0.4394, -0.4394],\n",
      "          [-0.7551, -0.7420, -0.7420,  ..., -0.4394, -0.4394, -0.4394],\n",
      "          [-0.7420, -0.7288, -0.7288,  ..., -0.4263, -0.4263, -0.4263],\n",
      "          ...,\n",
      "          [-0.6368, -0.6499, -0.6499,  ..., -0.2816, -0.2816, -0.2816],\n",
      "          [-0.6368, -0.6499, -0.6499,  ..., -0.2816, -0.2816, -0.2816],\n",
      "          [-0.6368, -0.6368, -0.6368,  ..., -0.2816, -0.2816, -0.2947]]],\n",
      "\n",
      "\n",
      "        [[[ 0.4633,  0.4633,  0.4489,  ..., -0.2573, -0.2717, -0.2573],\n",
      "          [ 0.4633,  0.4633,  0.4633,  ..., -0.2573, -0.2573, -0.2717],\n",
      "          [ 0.4633,  0.4633,  0.4633,  ..., -0.2429, -0.2573, -0.2717],\n",
      "          ...,\n",
      "          [ 0.5930,  0.5930,  0.5786,  ...,  0.1751,  0.1751,  0.1751],\n",
      "          [ 0.5930,  0.5930,  0.5786,  ...,  0.1895,  0.1895,  0.1751],\n",
      "          [ 0.5930,  0.5786,  0.5642,  ...,  0.1751,  0.1751,  0.1607]],\n",
      "\n",
      "         [[ 0.4845,  0.4845,  0.4845,  ..., -0.1842, -0.1842, -0.1976],\n",
      "          [ 0.4845,  0.4845,  0.4845,  ..., -0.1842, -0.1976, -0.1976],\n",
      "          [ 0.4845,  0.4845,  0.4845,  ..., -0.1976, -0.1976, -0.1976],\n",
      "          ...,\n",
      "          [ 0.6584,  0.6584,  0.6450,  ...,  0.2304,  0.2304,  0.2304],\n",
      "          [ 0.6584,  0.6584,  0.6450,  ...,  0.2304,  0.2304,  0.2304],\n",
      "          [ 0.6584,  0.6450,  0.6316,  ...,  0.2170,  0.2170,  0.2170]],\n",
      "\n",
      "         [[ 0.4683,  0.4683,  0.4683,  ..., -0.2026, -0.2026, -0.2158],\n",
      "          [ 0.4683,  0.4683,  0.4683,  ..., -0.2026, -0.2158, -0.2158],\n",
      "          [ 0.4683,  0.4683,  0.4683,  ..., -0.2026, -0.2158, -0.2158],\n",
      "          ...,\n",
      "          [ 0.6656,  0.6525,  0.6393,  ...,  0.2052,  0.2183,  0.2183],\n",
      "          [ 0.6656,  0.6525,  0.6393,  ...,  0.2183,  0.2183,  0.2183],\n",
      "          [ 0.6525,  0.6393,  0.6393,  ...,  0.2052,  0.2052,  0.2052]]],\n",
      "\n",
      "\n",
      "        [[[ 0.7516,  0.7516,  0.7516,  ...,  0.7516,  0.7516,  0.7516],\n",
      "          [ 0.7516,  0.7516,  0.7516,  ...,  0.7516,  0.7516,  0.7516],\n",
      "          [ 0.7516,  0.7516,  0.7516,  ...,  0.7516,  0.7516,  0.7516],\n",
      "          ...,\n",
      "          [ 0.7516,  0.7516,  0.7516,  ...,  0.7516,  0.7516,  0.7516],\n",
      "          [ 0.7516,  0.7516,  0.7516,  ...,  0.7516,  0.7516,  0.7516],\n",
      "          [ 0.7516,  0.7516,  0.7516,  ...,  0.7516,  0.7516,  0.7516]],\n",
      "\n",
      "         [[ 0.8189,  0.8189,  0.8189,  ...,  0.8189,  0.8189,  0.8189],\n",
      "          [ 0.8189,  0.8189,  0.8189,  ...,  0.8189,  0.8189,  0.8189],\n",
      "          [ 0.8189,  0.8189,  0.8189,  ...,  0.8189,  0.8189,  0.8189],\n",
      "          ...,\n",
      "          [ 0.8189,  0.8189,  0.8189,  ...,  0.8189,  0.8189,  0.8189],\n",
      "          [ 0.8189,  0.8189,  0.8189,  ...,  0.8189,  0.8189,  0.8189],\n",
      "          [ 0.8189,  0.8189,  0.8189,  ...,  0.8189,  0.8189,  0.8189]],\n",
      "\n",
      "         [[ 0.8366,  0.8366,  0.8366,  ...,  0.8366,  0.8366,  0.8366],\n",
      "          [ 0.8366,  0.8366,  0.8366,  ...,  0.8366,  0.8366,  0.8366],\n",
      "          [ 0.8366,  0.8366,  0.8366,  ...,  0.8366,  0.8366,  0.8366],\n",
      "          ...,\n",
      "          [ 0.8366,  0.8366,  0.8366,  ...,  0.8366,  0.8366,  0.8366],\n",
      "          [ 0.8366,  0.8366,  0.8366,  ...,  0.8366,  0.8366,  0.8366],\n",
      "          [ 0.8366,  0.8366,  0.8366,  ...,  0.8366,  0.8366,  0.8366]]],\n",
      "\n",
      "\n",
      "        ...,\n",
      "\n",
      "\n",
      "        [[[ 0.7516,  0.7516,  0.7516,  ...,  0.7516,  0.7516,  0.7516],\n",
      "          [ 0.7516,  0.7516,  0.7516,  ...,  0.7516,  0.7516,  0.7516],\n",
      "          [ 0.7516,  0.7516,  0.7516,  ...,  0.7516,  0.7516,  0.7516],\n",
      "          ...,\n",
      "          [ 0.7516,  0.7516,  0.7516,  ...,  0.7516,  0.7516,  0.7516],\n",
      "          [ 0.7516,  0.7516,  0.7516,  ...,  0.7516,  0.7516,  0.7516],\n",
      "          [ 0.7516,  0.7516,  0.7516,  ...,  0.7516,  0.7516,  0.7516]],\n",
      "\n",
      "         [[ 0.8189,  0.8189,  0.8189,  ...,  0.8189,  0.8189,  0.8189],\n",
      "          [ 0.8189,  0.8189,  0.8189,  ...,  0.8189,  0.8189,  0.8189],\n",
      "          [ 0.8189,  0.8189,  0.8189,  ...,  0.8189,  0.8189,  0.8189],\n",
      "          ...,\n",
      "          [ 0.8189,  0.8189,  0.8189,  ...,  0.8189,  0.8189,  0.8189],\n",
      "          [ 0.8189,  0.8189,  0.8189,  ...,  0.8189,  0.8189,  0.8189],\n",
      "          [ 0.8189,  0.8189,  0.8189,  ...,  0.8189,  0.8189,  0.8189]],\n",
      "\n",
      "         [[ 0.8366,  0.8366,  0.8366,  ...,  0.8366,  0.8366,  0.8366],\n",
      "          [ 0.8366,  0.8366,  0.8366,  ...,  0.8366,  0.8366,  0.8366],\n",
      "          [ 0.8366,  0.8366,  0.8366,  ...,  0.8366,  0.8366,  0.8366],\n",
      "          ...,\n",
      "          [ 0.8366,  0.8366,  0.8366,  ...,  0.8366,  0.8366,  0.8366],\n",
      "          [ 0.8366,  0.8366,  0.8366,  ...,  0.8366,  0.8366,  0.8366],\n",
      "          [ 0.8366,  0.8366,  0.8366,  ...,  0.8366,  0.8366,  0.8366]]],\n",
      "\n",
      "\n",
      "        [[[ 0.7516,  0.7516,  0.7516,  ...,  0.7516,  0.7516,  0.7516],\n",
      "          [ 0.7516,  0.7516,  0.7516,  ...,  0.7516,  0.7516,  0.7516],\n",
      "          [ 0.7516,  0.7516,  0.7516,  ...,  0.7516,  0.7516,  0.7516],\n",
      "          ...,\n",
      "          [ 0.7516,  0.7516,  0.7516,  ...,  0.7516,  0.7516,  0.7516],\n",
      "          [ 0.7516,  0.7516,  0.7516,  ...,  0.7516,  0.7516,  0.7516],\n",
      "          [ 0.7516,  0.7516,  0.7516,  ...,  0.7516,  0.7516,  0.7516]],\n",
      "\n",
      "         [[ 0.8189,  0.8189,  0.8189,  ...,  0.8189,  0.8189,  0.8189],\n",
      "          [ 0.8189,  0.8189,  0.8189,  ...,  0.8189,  0.8189,  0.8189],\n",
      "          [ 0.8189,  0.8189,  0.8189,  ...,  0.8189,  0.8189,  0.8189],\n",
      "          ...,\n",
      "          [ 0.8189,  0.8189,  0.8189,  ...,  0.8189,  0.8189,  0.8189],\n",
      "          [ 0.8189,  0.8189,  0.8189,  ...,  0.8189,  0.8189,  0.8189],\n",
      "          [ 0.8189,  0.8189,  0.8189,  ...,  0.8189,  0.8189,  0.8189]],\n",
      "\n",
      "         [[ 0.8366,  0.8366,  0.8366,  ...,  0.8366,  0.8366,  0.8366],\n",
      "          [ 0.8366,  0.8366,  0.8366,  ...,  0.8366,  0.8366,  0.8366],\n",
      "          [ 0.8366,  0.8366,  0.8366,  ...,  0.8366,  0.8366,  0.8366],\n",
      "          ...,\n",
      "          [ 0.8366,  0.8366,  0.8366,  ...,  0.8366,  0.8366,  0.8366],\n",
      "          [ 0.8366,  0.8366,  0.8366,  ...,  0.8366,  0.8366,  0.8366],\n",
      "          [ 0.8366,  0.8366,  0.8366,  ...,  0.8366,  0.8366,  0.8366]]],\n",
      "\n",
      "\n",
      "        [[[ 0.5066,  0.5066,  0.5066,  ...,  0.5210,  0.5066,  0.5066],\n",
      "          [ 0.5066,  0.5066,  0.5066,  ...,  0.5210,  0.5066,  0.5066],\n",
      "          [ 0.5066,  0.5066,  0.5066,  ...,  0.5066,  0.5066,  0.5066],\n",
      "          ...,\n",
      "          [ 0.5210,  0.5066,  0.5066,  ...,  0.5066,  0.5066,  0.5066],\n",
      "          [ 0.5210,  0.5066,  0.5066,  ...,  0.5066,  0.5066,  0.5066],\n",
      "          [ 0.5210,  0.5210,  0.5066,  ...,  0.5066,  0.4921,  0.5066]],\n",
      "\n",
      "         [[ 0.5648,  0.5648,  0.5648,  ...,  0.5781,  0.5648,  0.5648],\n",
      "          [ 0.5648,  0.5648,  0.5648,  ...,  0.5781,  0.5648,  0.5648],\n",
      "          [ 0.5648,  0.5648,  0.5648,  ...,  0.5781,  0.5648,  0.5648],\n",
      "          ...,\n",
      "          [ 0.5781,  0.5648,  0.5648,  ...,  0.5781,  0.5781,  0.5648],\n",
      "          [ 0.5781,  0.5648,  0.5648,  ...,  0.5781,  0.5781,  0.5648],\n",
      "          [ 0.5781,  0.5781,  0.5648,  ...,  0.5781,  0.5648,  0.5648]],\n",
      "\n",
      "         [[ 0.5998,  0.5998,  0.5998,  ...,  0.6130,  0.5998,  0.5998],\n",
      "          [ 0.5998,  0.5998,  0.5998,  ...,  0.6130,  0.5998,  0.5998],\n",
      "          [ 0.5998,  0.5998,  0.5998,  ...,  0.6130,  0.5998,  0.5998],\n",
      "          ...,\n",
      "          [ 0.6130,  0.5998,  0.5998,  ...,  0.5735,  0.5735,  0.5867],\n",
      "          [ 0.6130,  0.5998,  0.5998,  ...,  0.5735,  0.5735,  0.5998],\n",
      "          [ 0.6130,  0.6130,  0.5998,  ...,  0.5735,  0.5735,  0.5867]]]]), ('Image_test_006251.jpg', 'Image_test_014216.jpg', 'Image_test_010026.jpg', 'Image_test_005892.jpg', 'Image_test_008561.jpg', 'Image_test_000122.jpg', 'Image_test_006274.jpg', 'Image_test_006237.jpg', 'Image_test_013823.jpg', 'Image_test_007875.jpg', 'Image_test_008015.jpg', 'Image_test_018208.jpg', 'Image_test_008556.jpg', 'Image_test_007793.jpg', 'Image_test_009389.jpg', 'Image_test_014656.jpg', 'Image_test_013475.jpg', 'Image_test_017029.jpg', 'Image_test_016358.jpg', 'Image_test_013508.jpg', 'Image_test_005586.jpg', 'Image_test_013520.jpg', 'Image_test_006974.jpg', 'Image_test_001933.jpg', 'Image_test_002924.jpg', 'Image_test_015247.jpg', 'Image_test_016509.jpg', 'Image_test_002805.jpg', 'Image_test_009156.jpg', 'Image_test_007328.jpg', 'Image_test_004763.jpg', 'Image_test_004828.jpg', 'Image_test_005067.jpg', 'Image_test_000044.jpg', 'Image_test_014655.jpg', 'Image_test_015901.jpg', 'Image_test_006761.jpg', 'Image_test_001431.jpg', 'Image_test_008683.jpg', 'Image_test_005833.jpg', 'Image_test_003037.jpg', 'Image_test_007555.jpg', 'Image_test_014861.jpg', 'Image_test_007905.jpg', 'Image_test_013215.jpg', 'Image_test_002436.jpg', 'Image_test_014674.jpg', 'Image_test_015097.jpg', 'Image_test_009599.jpg', 'Image_test_008108.jpg', 'Image_test_012614.jpg', 'Image_test_003955.jpg', 'Image_test_011167.jpg', 'Image_test_012469.jpg', 'Image_test_010023.jpg', 'Image_test_016337.jpg', 'Image_test_004499.jpg', 'Image_test_011851.jpg', 'Image_test_000013.jpg', 'Image_test_004091.jpg', 'Image_test_003669.jpg', 'Image_test_011580.jpg', 'Image_test_009503.jpg', 'Image_test_002683.jpg')]\n"
     ]
    }
   ],
   "source": [
    "for image in test_dl:\n",
    "    print(image)\n",
    "    break"
   ]
  },
  {
   "cell_type": "code",
   "execution_count": 90,
   "id": "f1b8ba32",
   "metadata": {
    "execution": {
     "iopub.execute_input": "2022-02-07T05:13:55.087414Z",
     "iopub.status.busy": "2022-02-07T05:13:55.086551Z",
     "iopub.status.idle": "2022-02-07T05:13:55.088398Z",
     "shell.execute_reply": "2022-02-07T05:13:55.088849Z",
     "shell.execute_reply.started": "2022-02-03T19:04:28.05983Z"
    },
    "papermill": {
     "duration": 0.112056,
     "end_time": "2022-02-07T05:13:55.088986",
     "exception": false,
     "start_time": "2022-02-07T05:13:54.976930",
     "status": "completed"
    },
    "tags": []
   },
   "outputs": [],
   "source": [
    "def predict(test_dl,model):\n",
    "    ans=[]\n",
    "    file_names=[]\n",
    "    model.eval()\n",
    "    for batch in test_dl:\n",
    "        with torch.no_grad():\n",
    "            images,names=batch\n",
    "            images=images.to(device=device)\n",
    "            out=model(images)\n",
    "        #print(out)\n",
    "        #print(type(out))\n",
    "            _, preds = torch.max(out, dim=1)\n",
    "            preds=preds.cpu().detach().numpy()\n",
    "            preds=preds.tolist()\n",
    "            #print(preds)\n",
    "            ans.extend(preds)\n",
    "            file_names.extend(names)\n",
    "            \n",
    "    label=pd.Series(ans)\n",
    "    file_name=pd.Series(file_names)\n",
    "    return label,file_name"
   ]
  },
  {
   "cell_type": "code",
   "execution_count": 91,
   "id": "d5953c4c",
   "metadata": {
    "execution": {
     "iopub.execute_input": "2022-02-07T05:13:55.299098Z",
     "iopub.status.busy": "2022-02-07T05:13:55.298525Z",
     "iopub.status.idle": "2022-02-07T05:13:55.301949Z",
     "shell.execute_reply": "2022-02-07T05:13:55.302338Z",
     "shell.execute_reply.started": "2022-02-03T19:04:42.583123Z"
    },
    "papermill": {
     "duration": 0.110871,
     "end_time": "2022-02-07T05:13:55.302481",
     "exception": false,
     "start_time": "2022-02-07T05:13:55.191610",
     "status": "completed"
    },
    "tags": []
   },
   "outputs": [],
   "source": [
    "#model=Classifier(model_transfer)\n",
    "#model.load_state_dict(torch.load('../input/effnet/res_cust_3.pth'))\n",
    "#model.eval()"
   ]
  },
  {
   "cell_type": "code",
   "execution_count": 92,
   "id": "ac8308bd",
   "metadata": {
    "execution": {
     "iopub.execute_input": "2022-02-07T05:13:55.515102Z",
     "iopub.status.busy": "2022-02-07T05:13:55.514334Z",
     "iopub.status.idle": "2022-02-07T05:30:12.730014Z",
     "shell.execute_reply": "2022-02-07T05:30:12.729499Z",
     "shell.execute_reply.started": "2022-02-03T19:04:54.269735Z"
    },
    "papermill": {
     "duration": 977.324735,
     "end_time": "2022-02-07T05:30:12.730162",
     "exception": false,
     "start_time": "2022-02-07T05:13:55.405427",
     "status": "completed"
    },
    "tags": []
   },
   "outputs": [],
   "source": [
    "a,b=predict(test_dl,model)"
   ]
  },
  {
   "cell_type": "code",
   "execution_count": 93,
   "id": "7429eea8",
   "metadata": {
    "execution": {
     "iopub.execute_input": "2022-02-07T05:30:12.946034Z",
     "iopub.status.busy": "2022-02-07T05:30:12.944402Z",
     "iopub.status.idle": "2022-02-07T05:30:12.946614Z",
     "shell.execute_reply": "2022-02-07T05:30:12.947044Z",
     "shell.execute_reply.started": "2022-02-03T13:09:35.286296Z"
    },
    "papermill": {
     "duration": 0.112447,
     "end_time": "2022-02-07T05:30:12.947188",
     "exception": false,
     "start_time": "2022-02-07T05:30:12.834741",
     "status": "completed"
    },
    "tags": []
   },
   "outputs": [],
   "source": [
    "test_df['file_name']=b"
   ]
  },
  {
   "cell_type": "code",
   "execution_count": 94,
   "id": "9c25a2d6",
   "metadata": {
    "execution": {
     "iopub.execute_input": "2022-02-07T05:30:13.159047Z",
     "iopub.status.busy": "2022-02-07T05:30:13.158419Z",
     "iopub.status.idle": "2022-02-07T05:30:13.162630Z",
     "shell.execute_reply": "2022-02-07T05:30:13.162214Z",
     "shell.execute_reply.started": "2022-02-03T13:09:15.417944Z"
    },
    "papermill": {
     "duration": 0.111776,
     "end_time": "2022-02-07T05:30:13.162744",
     "exception": false,
     "start_time": "2022-02-07T05:30:13.050968",
     "status": "completed"
    },
    "tags": []
   },
   "outputs": [
    {
     "data": {
      "text/plain": [
       "0        9\n",
       "1        2\n",
       "2        0\n",
       "3        9\n",
       "4        9\n",
       "        ..\n",
       "18218    3\n",
       "18219    6\n",
       "18220    3\n",
       "18221    6\n",
       "18222    6\n",
       "Length: 18223, dtype: int64"
      ]
     },
     "execution_count": 94,
     "metadata": {},
     "output_type": "execute_result"
    }
   ],
   "source": [
    "a"
   ]
  },
  {
   "cell_type": "code",
   "execution_count": 95,
   "id": "189c0cfd",
   "metadata": {
    "execution": {
     "iopub.execute_input": "2022-02-07T05:30:13.377703Z",
     "iopub.status.busy": "2022-02-07T05:30:13.377067Z",
     "iopub.status.idle": "2022-02-07T05:30:13.379750Z",
     "shell.execute_reply": "2022-02-07T05:30:13.380155Z",
     "shell.execute_reply.started": "2022-02-03T13:09:38.365794Z"
    },
    "papermill": {
     "duration": 0.115519,
     "end_time": "2022-02-07T05:30:13.380308",
     "exception": false,
     "start_time": "2022-02-07T05:30:13.264789",
     "status": "completed"
    },
    "tags": []
   },
   "outputs": [
    {
     "data": {
      "text/html": [
       "<div>\n",
       "<style scoped>\n",
       "    .dataframe tbody tr th:only-of-type {\n",
       "        vertical-align: middle;\n",
       "    }\n",
       "\n",
       "    .dataframe tbody tr th {\n",
       "        vertical-align: top;\n",
       "    }\n",
       "\n",
       "    .dataframe thead th {\n",
       "        text-align: right;\n",
       "    }\n",
       "</style>\n",
       "<table border=\"1\" class=\"dataframe\">\n",
       "  <thead>\n",
       "    <tr style=\"text-align: right;\">\n",
       "      <th></th>\n",
       "      <th>file_name</th>\n",
       "    </tr>\n",
       "  </thead>\n",
       "  <tbody>\n",
       "    <tr>\n",
       "      <th>0</th>\n",
       "      <td>Image_test_010501.jpg</td>\n",
       "    </tr>\n",
       "    <tr>\n",
       "      <th>1</th>\n",
       "      <td>Image_test_010621.jpg</td>\n",
       "    </tr>\n",
       "    <tr>\n",
       "      <th>2</th>\n",
       "      <td>Image_test_018195.jpg</td>\n",
       "    </tr>\n",
       "    <tr>\n",
       "      <th>3</th>\n",
       "      <td>Image_test_006575.jpg</td>\n",
       "    </tr>\n",
       "    <tr>\n",
       "      <th>4</th>\n",
       "      <td>Image_test_008359.jpg</td>\n",
       "    </tr>\n",
       "    <tr>\n",
       "      <th>...</th>\n",
       "      <td>...</td>\n",
       "    </tr>\n",
       "    <tr>\n",
       "      <th>18218</th>\n",
       "      <td>Image_test_002231.jpg</td>\n",
       "    </tr>\n",
       "    <tr>\n",
       "      <th>18219</th>\n",
       "      <td>Image_test_006280.jpg</td>\n",
       "    </tr>\n",
       "    <tr>\n",
       "      <th>18220</th>\n",
       "      <td>Image_test_002598.jpg</td>\n",
       "    </tr>\n",
       "    <tr>\n",
       "      <th>18221</th>\n",
       "      <td>Image_test_005551.jpg</td>\n",
       "    </tr>\n",
       "    <tr>\n",
       "      <th>18222</th>\n",
       "      <td>Image_test_017732.jpg</td>\n",
       "    </tr>\n",
       "  </tbody>\n",
       "</table>\n",
       "<p>18223 rows × 1 columns</p>\n",
       "</div>"
      ],
      "text/plain": [
       "                   file_name\n",
       "0      Image_test_010501.jpg\n",
       "1      Image_test_010621.jpg\n",
       "2      Image_test_018195.jpg\n",
       "3      Image_test_006575.jpg\n",
       "4      Image_test_008359.jpg\n",
       "...                      ...\n",
       "18218  Image_test_002231.jpg\n",
       "18219  Image_test_006280.jpg\n",
       "18220  Image_test_002598.jpg\n",
       "18221  Image_test_005551.jpg\n",
       "18222  Image_test_017732.jpg\n",
       "\n",
       "[18223 rows x 1 columns]"
      ]
     },
     "execution_count": 95,
     "metadata": {},
     "output_type": "execute_result"
    }
   ],
   "source": [
    "test_df"
   ]
  },
  {
   "cell_type": "code",
   "execution_count": 96,
   "id": "016b9803",
   "metadata": {
    "execution": {
     "iopub.execute_input": "2022-02-07T05:30:13.591402Z",
     "iopub.status.busy": "2022-02-07T05:30:13.589879Z",
     "iopub.status.idle": "2022-02-07T05:30:13.592020Z",
     "shell.execute_reply": "2022-02-07T05:30:13.592429Z",
     "shell.execute_reply.started": "2022-02-03T13:09:58.162558Z"
    },
    "papermill": {
     "duration": 0.109096,
     "end_time": "2022-02-07T05:30:13.592563",
     "exception": false,
     "start_time": "2022-02-07T05:30:13.483467",
     "status": "completed"
    },
    "tags": []
   },
   "outputs": [],
   "source": [
    "test_df['label']=a"
   ]
  },
  {
   "cell_type": "code",
   "execution_count": 97,
   "id": "d52fd85b",
   "metadata": {
    "execution": {
     "iopub.execute_input": "2022-02-07T05:30:13.807108Z",
     "iopub.status.busy": "2022-02-07T05:30:13.806431Z",
     "iopub.status.idle": "2022-02-07T05:30:13.809116Z",
     "shell.execute_reply": "2022-02-07T05:30:13.809525Z",
     "shell.execute_reply.started": "2022-02-03T13:10:07.710865Z"
    },
    "papermill": {
     "duration": 0.114653,
     "end_time": "2022-02-07T05:30:13.809644",
     "exception": false,
     "start_time": "2022-02-07T05:30:13.694991",
     "status": "completed"
    },
    "tags": []
   },
   "outputs": [
    {
     "data": {
      "text/html": [
       "<div>\n",
       "<style scoped>\n",
       "    .dataframe tbody tr th:only-of-type {\n",
       "        vertical-align: middle;\n",
       "    }\n",
       "\n",
       "    .dataframe tbody tr th {\n",
       "        vertical-align: top;\n",
       "    }\n",
       "\n",
       "    .dataframe thead th {\n",
       "        text-align: right;\n",
       "    }\n",
       "</style>\n",
       "<table border=\"1\" class=\"dataframe\">\n",
       "  <thead>\n",
       "    <tr style=\"text-align: right;\">\n",
       "      <th></th>\n",
       "      <th>file_name</th>\n",
       "      <th>label</th>\n",
       "    </tr>\n",
       "  </thead>\n",
       "  <tbody>\n",
       "    <tr>\n",
       "      <th>0</th>\n",
       "      <td>Image_test_010501.jpg</td>\n",
       "      <td>9</td>\n",
       "    </tr>\n",
       "    <tr>\n",
       "      <th>1</th>\n",
       "      <td>Image_test_010621.jpg</td>\n",
       "      <td>2</td>\n",
       "    </tr>\n",
       "    <tr>\n",
       "      <th>2</th>\n",
       "      <td>Image_test_018195.jpg</td>\n",
       "      <td>0</td>\n",
       "    </tr>\n",
       "    <tr>\n",
       "      <th>3</th>\n",
       "      <td>Image_test_006575.jpg</td>\n",
       "      <td>9</td>\n",
       "    </tr>\n",
       "    <tr>\n",
       "      <th>4</th>\n",
       "      <td>Image_test_008359.jpg</td>\n",
       "      <td>9</td>\n",
       "    </tr>\n",
       "    <tr>\n",
       "      <th>...</th>\n",
       "      <td>...</td>\n",
       "      <td>...</td>\n",
       "    </tr>\n",
       "    <tr>\n",
       "      <th>18218</th>\n",
       "      <td>Image_test_002231.jpg</td>\n",
       "      <td>3</td>\n",
       "    </tr>\n",
       "    <tr>\n",
       "      <th>18219</th>\n",
       "      <td>Image_test_006280.jpg</td>\n",
       "      <td>6</td>\n",
       "    </tr>\n",
       "    <tr>\n",
       "      <th>18220</th>\n",
       "      <td>Image_test_002598.jpg</td>\n",
       "      <td>3</td>\n",
       "    </tr>\n",
       "    <tr>\n",
       "      <th>18221</th>\n",
       "      <td>Image_test_005551.jpg</td>\n",
       "      <td>6</td>\n",
       "    </tr>\n",
       "    <tr>\n",
       "      <th>18222</th>\n",
       "      <td>Image_test_017732.jpg</td>\n",
       "      <td>6</td>\n",
       "    </tr>\n",
       "  </tbody>\n",
       "</table>\n",
       "<p>18223 rows × 2 columns</p>\n",
       "</div>"
      ],
      "text/plain": [
       "                   file_name  label\n",
       "0      Image_test_010501.jpg      9\n",
       "1      Image_test_010621.jpg      2\n",
       "2      Image_test_018195.jpg      0\n",
       "3      Image_test_006575.jpg      9\n",
       "4      Image_test_008359.jpg      9\n",
       "...                      ...    ...\n",
       "18218  Image_test_002231.jpg      3\n",
       "18219  Image_test_006280.jpg      6\n",
       "18220  Image_test_002598.jpg      3\n",
       "18221  Image_test_005551.jpg      6\n",
       "18222  Image_test_017732.jpg      6\n",
       "\n",
       "[18223 rows x 2 columns]"
      ]
     },
     "execution_count": 97,
     "metadata": {},
     "output_type": "execute_result"
    }
   ],
   "source": [
    "test_df"
   ]
  },
  {
   "cell_type": "code",
   "execution_count": 98,
   "id": "66f7ceeb",
   "metadata": {
    "execution": {
     "iopub.execute_input": "2022-02-07T05:30:14.024956Z",
     "iopub.status.busy": "2022-02-07T05:30:14.024200Z",
     "iopub.status.idle": "2022-02-07T05:30:14.026735Z",
     "shell.execute_reply": "2022-02-07T05:30:14.026309Z",
     "shell.execute_reply.started": "2022-02-03T13:10:14.241868Z"
    },
    "papermill": {
     "duration": 0.113372,
     "end_time": "2022-02-07T05:30:14.026866",
     "exception": false,
     "start_time": "2022-02-07T05:30:13.913494",
     "status": "completed"
    },
    "tags": []
   },
   "outputs": [],
   "source": [
    "test_df.set_index(['file_name'],inplace=True)"
   ]
  },
  {
   "cell_type": "code",
   "execution_count": 99,
   "id": "f606ca79",
   "metadata": {
    "execution": {
     "iopub.execute_input": "2022-02-07T05:30:14.242879Z",
     "iopub.status.busy": "2022-02-07T05:30:14.242259Z",
     "iopub.status.idle": "2022-02-07T05:30:14.244974Z",
     "shell.execute_reply": "2022-02-07T05:30:14.245387Z",
     "shell.execute_reply.started": "2022-02-03T10:19:16.733704Z"
    },
    "papermill": {
     "duration": 0.114323,
     "end_time": "2022-02-07T05:30:14.245514",
     "exception": false,
     "start_time": "2022-02-07T05:30:14.131191",
     "status": "completed"
    },
    "tags": []
   },
   "outputs": [
    {
     "data": {
      "text/html": [
       "<div>\n",
       "<style scoped>\n",
       "    .dataframe tbody tr th:only-of-type {\n",
       "        vertical-align: middle;\n",
       "    }\n",
       "\n",
       "    .dataframe tbody tr th {\n",
       "        vertical-align: top;\n",
       "    }\n",
       "\n",
       "    .dataframe thead th {\n",
       "        text-align: right;\n",
       "    }\n",
       "</style>\n",
       "<table border=\"1\" class=\"dataframe\">\n",
       "  <thead>\n",
       "    <tr style=\"text-align: right;\">\n",
       "      <th></th>\n",
       "      <th>label</th>\n",
       "    </tr>\n",
       "    <tr>\n",
       "      <th>file_name</th>\n",
       "      <th></th>\n",
       "    </tr>\n",
       "  </thead>\n",
       "  <tbody>\n",
       "    <tr>\n",
       "      <th>Image_test_010501.jpg</th>\n",
       "      <td>9</td>\n",
       "    </tr>\n",
       "    <tr>\n",
       "      <th>Image_test_010621.jpg</th>\n",
       "      <td>2</td>\n",
       "    </tr>\n",
       "    <tr>\n",
       "      <th>Image_test_018195.jpg</th>\n",
       "      <td>0</td>\n",
       "    </tr>\n",
       "    <tr>\n",
       "      <th>Image_test_006575.jpg</th>\n",
       "      <td>9</td>\n",
       "    </tr>\n",
       "    <tr>\n",
       "      <th>Image_test_008359.jpg</th>\n",
       "      <td>9</td>\n",
       "    </tr>\n",
       "    <tr>\n",
       "      <th>...</th>\n",
       "      <td>...</td>\n",
       "    </tr>\n",
       "    <tr>\n",
       "      <th>Image_test_002231.jpg</th>\n",
       "      <td>3</td>\n",
       "    </tr>\n",
       "    <tr>\n",
       "      <th>Image_test_006280.jpg</th>\n",
       "      <td>6</td>\n",
       "    </tr>\n",
       "    <tr>\n",
       "      <th>Image_test_002598.jpg</th>\n",
       "      <td>3</td>\n",
       "    </tr>\n",
       "    <tr>\n",
       "      <th>Image_test_005551.jpg</th>\n",
       "      <td>6</td>\n",
       "    </tr>\n",
       "    <tr>\n",
       "      <th>Image_test_017732.jpg</th>\n",
       "      <td>6</td>\n",
       "    </tr>\n",
       "  </tbody>\n",
       "</table>\n",
       "<p>18223 rows × 1 columns</p>\n",
       "</div>"
      ],
      "text/plain": [
       "                       label\n",
       "file_name                   \n",
       "Image_test_010501.jpg      9\n",
       "Image_test_010621.jpg      2\n",
       "Image_test_018195.jpg      0\n",
       "Image_test_006575.jpg      9\n",
       "Image_test_008359.jpg      9\n",
       "...                      ...\n",
       "Image_test_002231.jpg      3\n",
       "Image_test_006280.jpg      6\n",
       "Image_test_002598.jpg      3\n",
       "Image_test_005551.jpg      6\n",
       "Image_test_017732.jpg      6\n",
       "\n",
       "[18223 rows x 1 columns]"
      ]
     },
     "execution_count": 99,
     "metadata": {},
     "output_type": "execute_result"
    }
   ],
   "source": [
    "test_df"
   ]
  },
  {
   "cell_type": "code",
   "execution_count": 100,
   "id": "c8ad857b",
   "metadata": {
    "execution": {
     "iopub.execute_input": "2022-02-07T05:30:14.456024Z",
     "iopub.status.busy": "2022-02-07T05:30:14.455455Z",
     "iopub.status.idle": "2022-02-07T05:30:14.485570Z",
     "shell.execute_reply": "2022-02-07T05:30:14.484892Z"
    },
    "papermill": {
     "duration": 0.136782,
     "end_time": "2022-02-07T05:30:14.485680",
     "exception": false,
     "start_time": "2022-02-07T05:30:14.348898",
     "status": "completed"
    },
    "tags": []
   },
   "outputs": [],
   "source": [
    "test_df.to_csv('file_res_8.csv')"
   ]
  }
 ],
 "metadata": {
  "kernelspec": {
   "display_name": "Python 3",
   "language": "python",
   "name": "python3"
  },
  "language_info": {
   "codemirror_mode": {
    "name": "ipython",
    "version": 3
   },
   "file_extension": ".py",
   "mimetype": "text/x-python",
   "name": "python",
   "nbconvert_exporter": "python",
   "pygments_lexer": "ipython3",
   "version": "3.7.12"
  },
  "papermill": {
   "default_parameters": {},
   "duration": 30919.931538,
   "end_time": "2022-02-07T05:30:16.987406",
   "environment_variables": {},
   "exception": null,
   "input_path": "__notebook__.ipynb",
   "output_path": "__notebook__.ipynb",
   "parameters": {},
   "start_time": "2022-02-06T20:54:57.055868",
   "version": "2.3.3"
  },
  "widgets": {
   "application/vnd.jupyter.widget-state+json": {
    "state": {
     "0acfea4f571d46e593005df6c5103110": {
      "model_module": "@jupyter-widgets/base",
      "model_module_version": "1.2.0",
      "model_name": "LayoutModel",
      "state": {
       "_model_module": "@jupyter-widgets/base",
       "_model_module_version": "1.2.0",
       "_model_name": "LayoutModel",
       "_view_count": null,
       "_view_module": "@jupyter-widgets/base",
       "_view_module_version": "1.2.0",
       "_view_name": "LayoutView",
       "align_content": null,
       "align_items": null,
       "align_self": null,
       "border": null,
       "bottom": null,
       "display": null,
       "flex": null,
       "flex_flow": null,
       "grid_area": null,
       "grid_auto_columns": null,
       "grid_auto_flow": null,
       "grid_auto_rows": null,
       "grid_column": null,
       "grid_gap": null,
       "grid_row": null,
       "grid_template_areas": null,
       "grid_template_columns": null,
       "grid_template_rows": null,
       "height": null,
       "justify_content": null,
       "justify_items": null,
       "left": null,
       "margin": null,
       "max_height": null,
       "max_width": null,
       "min_height": null,
       "min_width": null,
       "object_fit": null,
       "object_position": null,
       "order": null,
       "overflow": null,
       "overflow_x": null,
       "overflow_y": null,
       "padding": null,
       "right": null,
       "top": null,
       "visibility": null,
       "width": null
      }
     },
     "0bc1d111455b447cb7e0cbc45fe1b0f2": {
      "model_module": "@jupyter-widgets/controls",
      "model_module_version": "1.5.0",
      "model_name": "FloatProgressModel",
      "state": {
       "_dom_classes": [],
       "_model_module": "@jupyter-widgets/controls",
       "_model_module_version": "1.5.0",
       "_model_name": "FloatProgressModel",
       "_view_count": null,
       "_view_module": "@jupyter-widgets/controls",
       "_view_module_version": "1.5.0",
       "_view_name": "ProgressView",
       "bar_style": "success",
       "description": "",
       "description_tooltip": null,
       "layout": "IPY_MODEL_0acfea4f571d46e593005df6c5103110",
       "max": 36804509.0,
       "min": 0.0,
       "orientation": "horizontal",
       "style": "IPY_MODEL_73134627101e4286961143312c96b5cf",
       "value": 36804509.0
      }
     },
     "10ba86b5d30c4f3090e36877c7928bdc": {
      "model_module": "@jupyter-widgets/base",
      "model_module_version": "1.2.0",
      "model_name": "LayoutModel",
      "state": {
       "_model_module": "@jupyter-widgets/base",
       "_model_module_version": "1.2.0",
       "_model_name": "LayoutModel",
       "_view_count": null,
       "_view_module": "@jupyter-widgets/base",
       "_view_module_version": "1.2.0",
       "_view_name": "LayoutView",
       "align_content": null,
       "align_items": null,
       "align_self": null,
       "border": null,
       "bottom": null,
       "display": null,
       "flex": null,
       "flex_flow": null,
       "grid_area": null,
       "grid_auto_columns": null,
       "grid_auto_flow": null,
       "grid_auto_rows": null,
       "grid_column": null,
       "grid_gap": null,
       "grid_row": null,
       "grid_template_areas": null,
       "grid_template_columns": null,
       "grid_template_rows": null,
       "height": null,
       "justify_content": null,
       "justify_items": null,
       "left": null,
       "margin": null,
       "max_height": null,
       "max_width": null,
       "min_height": null,
       "min_width": null,
       "object_fit": null,
       "object_position": null,
       "order": null,
       "overflow": null,
       "overflow_x": null,
       "overflow_y": null,
       "padding": null,
       "right": null,
       "top": null,
       "visibility": null,
       "width": null
      }
     },
     "24681f210e874110afe5fd1ad5208a11": {
      "model_module": "@jupyter-widgets/controls",
      "model_module_version": "1.5.0",
      "model_name": "DescriptionStyleModel",
      "state": {
       "_model_module": "@jupyter-widgets/controls",
       "_model_module_version": "1.5.0",
       "_model_name": "DescriptionStyleModel",
       "_view_count": null,
       "_view_module": "@jupyter-widgets/base",
       "_view_module_version": "1.2.0",
       "_view_name": "StyleView",
       "description_width": ""
      }
     },
     "59676cb8d691487b94626cbad4b9394c": {
      "model_module": "@jupyter-widgets/controls",
      "model_module_version": "1.5.0",
      "model_name": "DescriptionStyleModel",
      "state": {
       "_model_module": "@jupyter-widgets/controls",
       "_model_module_version": "1.5.0",
       "_model_name": "DescriptionStyleModel",
       "_view_count": null,
       "_view_module": "@jupyter-widgets/base",
       "_view_module_version": "1.2.0",
       "_view_name": "StyleView",
       "description_width": ""
      }
     },
     "73134627101e4286961143312c96b5cf": {
      "model_module": "@jupyter-widgets/controls",
      "model_module_version": "1.5.0",
      "model_name": "ProgressStyleModel",
      "state": {
       "_model_module": "@jupyter-widgets/controls",
       "_model_module_version": "1.5.0",
       "_model_name": "ProgressStyleModel",
       "_view_count": null,
       "_view_module": "@jupyter-widgets/base",
       "_view_module_version": "1.2.0",
       "_view_name": "StyleView",
       "bar_color": null,
       "description_width": ""
      }
     },
     "8bb9740703ea4953b56c8170622d7302": {
      "model_module": "@jupyter-widgets/controls",
      "model_module_version": "1.5.0",
      "model_name": "HTMLModel",
      "state": {
       "_dom_classes": [],
       "_model_module": "@jupyter-widgets/controls",
       "_model_module_version": "1.5.0",
       "_model_name": "HTMLModel",
       "_view_count": null,
       "_view_module": "@jupyter-widgets/controls",
       "_view_module_version": "1.5.0",
       "_view_name": "HTMLView",
       "description": "",
       "description_tooltip": null,
       "layout": "IPY_MODEL_e6cddc50e85948a495c58909580ff94b",
       "placeholder": "​",
       "style": "IPY_MODEL_59676cb8d691487b94626cbad4b9394c",
       "value": "100%"
      }
     },
     "8cd8fafb1d02455bb607cc3531935115": {
      "model_module": "@jupyter-widgets/controls",
      "model_module_version": "1.5.0",
      "model_name": "HTMLModel",
      "state": {
       "_dom_classes": [],
       "_model_module": "@jupyter-widgets/controls",
       "_model_module_version": "1.5.0",
       "_model_name": "HTMLModel",
       "_view_count": null,
       "_view_module": "@jupyter-widgets/controls",
       "_view_module_version": "1.5.0",
       "_view_name": "HTMLView",
       "description": "",
       "description_tooltip": null,
       "layout": "IPY_MODEL_10ba86b5d30c4f3090e36877c7928bdc",
       "placeholder": "​",
       "style": "IPY_MODEL_24681f210e874110afe5fd1ad5208a11",
       "value": " 35.1M/35.1M [00:01&lt;00:00, 25.2MB/s]"
      }
     },
     "91a87adf56854104a700bed414264d8f": {
      "model_module": "@jupyter-widgets/base",
      "model_module_version": "1.2.0",
      "model_name": "LayoutModel",
      "state": {
       "_model_module": "@jupyter-widgets/base",
       "_model_module_version": "1.2.0",
       "_model_name": "LayoutModel",
       "_view_count": null,
       "_view_module": "@jupyter-widgets/base",
       "_view_module_version": "1.2.0",
       "_view_name": "LayoutView",
       "align_content": null,
       "align_items": null,
       "align_self": null,
       "border": null,
       "bottom": null,
       "display": null,
       "flex": null,
       "flex_flow": null,
       "grid_area": null,
       "grid_auto_columns": null,
       "grid_auto_flow": null,
       "grid_auto_rows": null,
       "grid_column": null,
       "grid_gap": null,
       "grid_row": null,
       "grid_template_areas": null,
       "grid_template_columns": null,
       "grid_template_rows": null,
       "height": null,
       "justify_content": null,
       "justify_items": null,
       "left": null,
       "margin": null,
       "max_height": null,
       "max_width": null,
       "min_height": null,
       "min_width": null,
       "object_fit": null,
       "object_position": null,
       "order": null,
       "overflow": null,
       "overflow_x": null,
       "overflow_y": null,
       "padding": null,
       "right": null,
       "top": null,
       "visibility": null,
       "width": null
      }
     },
     "e6cddc50e85948a495c58909580ff94b": {
      "model_module": "@jupyter-widgets/base",
      "model_module_version": "1.2.0",
      "model_name": "LayoutModel",
      "state": {
       "_model_module": "@jupyter-widgets/base",
       "_model_module_version": "1.2.0",
       "_model_name": "LayoutModel",
       "_view_count": null,
       "_view_module": "@jupyter-widgets/base",
       "_view_module_version": "1.2.0",
       "_view_name": "LayoutView",
       "align_content": null,
       "align_items": null,
       "align_self": null,
       "border": null,
       "bottom": null,
       "display": null,
       "flex": null,
       "flex_flow": null,
       "grid_area": null,
       "grid_auto_columns": null,
       "grid_auto_flow": null,
       "grid_auto_rows": null,
       "grid_column": null,
       "grid_gap": null,
       "grid_row": null,
       "grid_template_areas": null,
       "grid_template_columns": null,
       "grid_template_rows": null,
       "height": null,
       "justify_content": null,
       "justify_items": null,
       "left": null,
       "margin": null,
       "max_height": null,
       "max_width": null,
       "min_height": null,
       "min_width": null,
       "object_fit": null,
       "object_position": null,
       "order": null,
       "overflow": null,
       "overflow_x": null,
       "overflow_y": null,
       "padding": null,
       "right": null,
       "top": null,
       "visibility": null,
       "width": null
      }
     },
     "f9b92be8370e41e9bfed3f4faa3499a2": {
      "model_module": "@jupyter-widgets/controls",
      "model_module_version": "1.5.0",
      "model_name": "HBoxModel",
      "state": {
       "_dom_classes": [],
       "_model_module": "@jupyter-widgets/controls",
       "_model_module_version": "1.5.0",
       "_model_name": "HBoxModel",
       "_view_count": null,
       "_view_module": "@jupyter-widgets/controls",
       "_view_module_version": "1.5.0",
       "_view_name": "HBoxView",
       "box_style": "",
       "children": [
        "IPY_MODEL_8bb9740703ea4953b56c8170622d7302",
        "IPY_MODEL_0bc1d111455b447cb7e0cbc45fe1b0f2",
        "IPY_MODEL_8cd8fafb1d02455bb607cc3531935115"
       ],
       "layout": "IPY_MODEL_91a87adf56854104a700bed414264d8f"
      }
     }
    },
    "version_major": 2,
    "version_minor": 0
   }
  }
 },
 "nbformat": 4,
 "nbformat_minor": 5
}
