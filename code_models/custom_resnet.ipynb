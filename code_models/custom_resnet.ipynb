{
 "cells": [
  {
   "cell_type": "code",
   "execution_count": 1,
   "id": "19f92c7d",
   "metadata": {
    "execution": {
     "iopub.execute_input": "2022-01-30T07:04:20.932630Z",
     "iopub.status.busy": "2022-01-30T07:04:20.931865Z",
     "iopub.status.idle": "2022-01-30T07:04:22.463783Z",
     "shell.execute_reply": "2022-01-30T07:04:22.463203Z",
     "shell.execute_reply.started": "2022-01-29T19:37:39.511683Z"
    },
    "papermill": {
     "duration": 1.604503,
     "end_time": "2022-01-30T07:04:22.463938",
     "exception": false,
     "start_time": "2022-01-30T07:04:20.859435",
     "status": "completed"
    },
    "tags": []
   },
   "outputs": [],
   "source": [
    "import pandas as pd\n",
    "import numpy as np\n",
    "import torch\n",
    "import os\n",
    "import torchvision\n",
    "from torchvision.transforms import ToTensor, ToPILImage, Normalize, Compose,Resize\n",
    "from torch.utils.data import DataLoader\n",
    "from torch.utils.data import Dataset\n",
    "from torchvision import transforms \n",
    "\n",
    "from torch.utils.data.sampler import SubsetRandomSampler\n",
    "import torch.nn as nn\n",
    "import torch.nn.functional as F\n",
    "\n",
    "from torch.utils.data import random_split\n",
    "from torchvision.datasets.utils import download_url\n",
    "import matplotlib.pyplot as plt"
   ]
  },
  {
   "cell_type": "code",
   "execution_count": 2,
   "id": "5c8a2068",
   "metadata": {
    "execution": {
     "iopub.execute_input": "2022-01-30T07:04:22.573436Z",
     "iopub.status.busy": "2022-01-30T07:04:22.572659Z",
     "iopub.status.idle": "2022-01-30T07:04:22.578065Z",
     "shell.execute_reply": "2022-01-30T07:04:22.576940Z",
     "shell.execute_reply.started": "2022-01-29T19:37:41.246125Z"
    },
    "papermill": {
     "duration": 0.061495,
     "end_time": "2022-01-30T07:04:22.578242",
     "exception": false,
     "start_time": "2022-01-30T07:04:22.516747",
     "status": "completed"
    },
    "tags": []
   },
   "outputs": [],
   "source": [
    "from PIL import Image\n",
    "import PIL"
   ]
  },
  {
   "cell_type": "code",
   "execution_count": 3,
   "id": "572f1fa8",
   "metadata": {
    "execution": {
     "iopub.execute_input": "2022-01-30T07:04:22.775331Z",
     "iopub.status.busy": "2022-01-30T07:04:22.774428Z",
     "iopub.status.idle": "2022-01-30T07:04:22.776705Z",
     "shell.execute_reply": "2022-01-30T07:04:22.777435Z",
     "shell.execute_reply.started": "2022-01-29T19:37:41.252154Z"
    },
    "papermill": {
     "duration": 0.102616,
     "end_time": "2022-01-30T07:04:22.777632",
     "exception": false,
     "start_time": "2022-01-30T07:04:22.675016",
     "status": "completed"
    },
    "tags": []
   },
   "outputs": [],
   "source": [
    "data_folder=\"../input/stylumia-complete/\""
   ]
  },
  {
   "cell_type": "code",
   "execution_count": 4,
   "id": "4adda741",
   "metadata": {
    "execution": {
     "iopub.execute_input": "2022-01-30T07:04:22.974079Z",
     "iopub.status.busy": "2022-01-30T07:04:22.973287Z",
     "iopub.status.idle": "2022-01-30T07:04:23.021811Z",
     "shell.execute_reply": "2022-01-30T07:04:23.022786Z",
     "shell.execute_reply.started": "2022-01-29T19:37:41.261856Z"
    },
    "papermill": {
     "duration": 0.148523,
     "end_time": "2022-01-30T07:04:23.023013",
     "exception": false,
     "start_time": "2022-01-30T07:04:22.874490",
     "status": "completed"
    },
    "tags": []
   },
   "outputs": [],
   "source": [
    "train_file=pd.read_csv(os.path.join(data_folder+'train_label.csv'))"
   ]
  },
  {
   "cell_type": "code",
   "execution_count": 5,
   "id": "243a5c49",
   "metadata": {
    "execution": {
     "iopub.execute_input": "2022-01-30T07:04:23.208247Z",
     "iopub.status.busy": "2022-01-30T07:04:23.207649Z",
     "iopub.status.idle": "2022-01-30T07:04:23.219953Z",
     "shell.execute_reply": "2022-01-30T07:04:23.220377Z",
     "shell.execute_reply.started": "2022-01-29T19:37:41.315338Z"
    },
    "papermill": {
     "duration": 0.109143,
     "end_time": "2022-01-30T07:04:23.220521",
     "exception": false,
     "start_time": "2022-01-30T07:04:23.111378",
     "status": "completed"
    },
    "tags": []
   },
   "outputs": [
    {
     "data": {
      "text/html": [
       "<div>\n",
       "<style scoped>\n",
       "    .dataframe tbody tr th:only-of-type {\n",
       "        vertical-align: middle;\n",
       "    }\n",
       "\n",
       "    .dataframe tbody tr th {\n",
       "        vertical-align: top;\n",
       "    }\n",
       "\n",
       "    .dataframe thead th {\n",
       "        text-align: right;\n",
       "    }\n",
       "</style>\n",
       "<table border=\"1\" class=\"dataframe\">\n",
       "  <thead>\n",
       "    <tr style=\"text-align: right;\">\n",
       "      <th></th>\n",
       "      <th>file_name</th>\n",
       "      <th>label</th>\n",
       "    </tr>\n",
       "  </thead>\n",
       "  <tbody>\n",
       "    <tr>\n",
       "      <th>0</th>\n",
       "      <td>Image_000000.jpg</td>\n",
       "      <td>8</td>\n",
       "    </tr>\n",
       "    <tr>\n",
       "      <th>1</th>\n",
       "      <td>Image_000001.jpg</td>\n",
       "      <td>8</td>\n",
       "    </tr>\n",
       "    <tr>\n",
       "      <th>2</th>\n",
       "      <td>Image_000002.jpg</td>\n",
       "      <td>8</td>\n",
       "    </tr>\n",
       "    <tr>\n",
       "      <th>3</th>\n",
       "      <td>Image_000003.jpg</td>\n",
       "      <td>8</td>\n",
       "    </tr>\n",
       "    <tr>\n",
       "      <th>4</th>\n",
       "      <td>Image_000004.jpg</td>\n",
       "      <td>8</td>\n",
       "    </tr>\n",
       "    <tr>\n",
       "      <th>...</th>\n",
       "      <td>...</td>\n",
       "      <td>...</td>\n",
       "    </tr>\n",
       "    <tr>\n",
       "      <th>31744</th>\n",
       "      <td>Image_031833.jpg</td>\n",
       "      <td>7</td>\n",
       "    </tr>\n",
       "    <tr>\n",
       "      <th>31745</th>\n",
       "      <td>Image_031834.jpg</td>\n",
       "      <td>7</td>\n",
       "    </tr>\n",
       "    <tr>\n",
       "      <th>31746</th>\n",
       "      <td>Image_031835.jpg</td>\n",
       "      <td>7</td>\n",
       "    </tr>\n",
       "    <tr>\n",
       "      <th>31747</th>\n",
       "      <td>Image_031836.jpg</td>\n",
       "      <td>7</td>\n",
       "    </tr>\n",
       "    <tr>\n",
       "      <th>31748</th>\n",
       "      <td>Image_031837.jpg</td>\n",
       "      <td>7</td>\n",
       "    </tr>\n",
       "  </tbody>\n",
       "</table>\n",
       "<p>31749 rows × 2 columns</p>\n",
       "</div>"
      ],
      "text/plain": [
       "              file_name  label\n",
       "0      Image_000000.jpg      8\n",
       "1      Image_000001.jpg      8\n",
       "2      Image_000002.jpg      8\n",
       "3      Image_000003.jpg      8\n",
       "4      Image_000004.jpg      8\n",
       "...                 ...    ...\n",
       "31744  Image_031833.jpg      7\n",
       "31745  Image_031834.jpg      7\n",
       "31746  Image_031835.jpg      7\n",
       "31747  Image_031836.jpg      7\n",
       "31748  Image_031837.jpg      7\n",
       "\n",
       "[31749 rows x 2 columns]"
      ]
     },
     "execution_count": 5,
     "metadata": {},
     "output_type": "execute_result"
    }
   ],
   "source": [
    "train_file"
   ]
  },
  {
   "cell_type": "code",
   "execution_count": 6,
   "id": "6c666c71",
   "metadata": {
    "execution": {
     "iopub.execute_input": "2022-01-30T07:04:23.335372Z",
     "iopub.status.busy": "2022-01-30T07:04:23.334586Z",
     "iopub.status.idle": "2022-01-30T07:04:23.336808Z",
     "shell.execute_reply": "2022-01-30T07:04:23.337280Z"
    },
    "papermill": {
     "duration": 0.063522,
     "end_time": "2022-01-30T07:04:23.337436",
     "exception": false,
     "start_time": "2022-01-30T07:04:23.273914",
     "status": "completed"
    },
    "tags": []
   },
   "outputs": [],
   "source": [
    "class CustomDataset(torch.utils.data.Dataset):\n",
    "    def __init__(self, df, images_folder, mode,transform = ToTensor()):\n",
    "        self.df = df\n",
    "        self.mode=mode\n",
    "        self.images_folder = os.path.join(images_folder+'/'+mode)\n",
    "        self.transform = transform\n",
    "        self.transform2=Resize((256,256))\n",
    "\n",
    "    def __len__(self):\n",
    "        return len(self.df)\n",
    "    def __getitem__(self, index):\n",
    "        filename = self.df.loc[index, \"file_name\"]\n",
    "        label = self.df.loc[index, \"label\"]\n",
    "        image = PIL.Image.open(os.path.join(self.images_folder,filename))\n",
    "        if self.transform is not None:\n",
    "            image=self.transform2(image)\n",
    "            image = self.transform(image)\n",
    "        return image, label"
   ]
  },
  {
   "cell_type": "code",
   "execution_count": 7,
   "id": "788c28e2",
   "metadata": {
    "execution": {
     "iopub.execute_input": "2022-01-30T07:04:23.453891Z",
     "iopub.status.busy": "2022-01-30T07:04:23.453203Z",
     "iopub.status.idle": "2022-01-30T07:04:23.456578Z",
     "shell.execute_reply": "2022-01-30T07:04:23.456031Z"
    },
    "papermill": {
     "duration": 0.065684,
     "end_time": "2022-01-30T07:04:23.456716",
     "exception": false,
     "start_time": "2022-01-30T07:04:23.391032",
     "status": "completed"
    },
    "tags": []
   },
   "outputs": [],
   "source": [
    "img1=os.path.join(data_folder+'train/'+train_file.loc[12658,\"file_name\"])"
   ]
  },
  {
   "cell_type": "code",
   "execution_count": 8,
   "id": "ddddcee2",
   "metadata": {
    "execution": {
     "iopub.execute_input": "2022-01-30T07:04:23.568313Z",
     "iopub.status.busy": "2022-01-30T07:04:23.567649Z",
     "iopub.status.idle": "2022-01-30T07:04:23.570372Z",
     "shell.execute_reply": "2022-01-30T07:04:23.570795Z",
     "shell.execute_reply.started": "2022-01-29T19:37:41.362353Z"
    },
    "papermill": {
     "duration": 0.061113,
     "end_time": "2022-01-30T07:04:23.570937",
     "exception": false,
     "start_time": "2022-01-30T07:04:23.509824",
     "status": "completed"
    },
    "tags": []
   },
   "outputs": [
    {
     "data": {
      "text/plain": [
       "'../input/stylumia-complete/train/Image_012672.jpg'"
      ]
     },
     "execution_count": 8,
     "metadata": {},
     "output_type": "execute_result"
    }
   ],
   "source": [
    "img1"
   ]
  },
  {
   "cell_type": "code",
   "execution_count": 9,
   "id": "39a3c774",
   "metadata": {
    "execution": {
     "iopub.execute_input": "2022-01-30T07:04:23.682926Z",
     "iopub.status.busy": "2022-01-30T07:04:23.682372Z",
     "iopub.status.idle": "2022-01-30T07:04:23.698572Z",
     "shell.execute_reply": "2022-01-30T07:04:23.698015Z",
     "shell.execute_reply.started": "2022-01-29T19:37:41.374316Z"
    },
    "papermill": {
     "duration": 0.07372,
     "end_time": "2022-01-30T07:04:23.698696",
     "exception": false,
     "start_time": "2022-01-30T07:04:23.624976",
     "status": "completed"
    },
    "tags": []
   },
   "outputs": [],
   "source": [
    "image = PIL.Image.open(img1)"
   ]
  },
  {
   "cell_type": "code",
   "execution_count": 10,
   "id": "5ffbd5e8",
   "metadata": {
    "execution": {
     "iopub.execute_input": "2022-01-30T07:04:23.812380Z",
     "iopub.status.busy": "2022-01-30T07:04:23.809368Z",
     "iopub.status.idle": "2022-01-30T07:04:23.815967Z",
     "shell.execute_reply": "2022-01-30T07:04:23.815432Z",
     "shell.execute_reply.started": "2022-01-29T19:37:41.489652Z"
    },
    "papermill": {
     "duration": 0.063512,
     "end_time": "2022-01-30T07:04:23.816100",
     "exception": false,
     "start_time": "2022-01-30T07:04:23.752588",
     "status": "completed"
    },
    "tags": []
   },
   "outputs": [
    {
     "data": {
      "text/plain": [
       "0.6719160104986877"
      ]
     },
     "execution_count": 10,
     "metadata": {},
     "output_type": "execute_result"
    }
   ],
   "source": [
    "512/762"
   ]
  },
  {
   "cell_type": "code",
   "execution_count": 11,
   "id": "54b30002",
   "metadata": {
    "execution": {
     "iopub.execute_input": "2022-01-30T07:04:23.934254Z",
     "iopub.status.busy": "2022-01-30T07:04:23.933471Z",
     "iopub.status.idle": "2022-01-30T07:04:23.935483Z",
     "shell.execute_reply": "2022-01-30T07:04:23.935905Z",
     "shell.execute_reply.started": "2022-01-29T19:37:42.006405Z"
    },
    "papermill": {
     "duration": 0.065147,
     "end_time": "2022-01-30T07:04:23.936057",
     "exception": false,
     "start_time": "2022-01-30T07:04:23.870910",
     "status": "completed"
    },
    "tags": []
   },
   "outputs": [],
   "source": [
    "x=transforms.Resize((256,256))"
   ]
  },
  {
   "cell_type": "code",
   "execution_count": 12,
   "id": "63faf3ec",
   "metadata": {
    "execution": {
     "iopub.execute_input": "2022-01-30T07:04:24.053690Z",
     "iopub.status.busy": "2022-01-30T07:04:24.052846Z",
     "iopub.status.idle": "2022-01-30T07:04:24.063147Z",
     "shell.execute_reply": "2022-01-30T07:04:24.062643Z",
     "shell.execute_reply.started": "2022-01-29T19:37:42.288314Z"
    },
    "papermill": {
     "duration": 0.074093,
     "end_time": "2022-01-30T07:04:24.063288",
     "exception": false,
     "start_time": "2022-01-30T07:04:23.989195",
     "status": "completed"
    },
    "tags": []
   },
   "outputs": [],
   "source": [
    "img=x(image)"
   ]
  },
  {
   "cell_type": "code",
   "execution_count": 13,
   "id": "8a5f07ba",
   "metadata": {
    "execution": {
     "iopub.execute_input": "2022-01-30T07:04:24.177481Z",
     "iopub.status.busy": "2022-01-30T07:04:24.176802Z",
     "iopub.status.idle": "2022-01-30T07:04:24.179513Z",
     "shell.execute_reply": "2022-01-30T07:04:24.179907Z",
     "shell.execute_reply.started": "2022-01-29T19:37:42.469645Z"
    },
    "papermill": {
     "duration": 0.061823,
     "end_time": "2022-01-30T07:04:24.180041",
     "exception": false,
     "start_time": "2022-01-30T07:04:24.118218",
     "status": "completed"
    },
    "tags": []
   },
   "outputs": [
    {
     "data": {
      "text/plain": [
       "(256, 256)"
      ]
     },
     "execution_count": 13,
     "metadata": {},
     "output_type": "execute_result"
    }
   ],
   "source": [
    "img.size"
   ]
  },
  {
   "cell_type": "code",
   "execution_count": 14,
   "id": "b3083bec",
   "metadata": {
    "execution": {
     "iopub.execute_input": "2022-01-30T07:04:24.293429Z",
     "iopub.status.busy": "2022-01-30T07:04:24.292670Z",
     "iopub.status.idle": "2022-01-30T07:04:24.302800Z",
     "shell.execute_reply": "2022-01-30T07:04:24.303295Z",
     "shell.execute_reply.started": "2022-01-29T19:37:42.671245Z"
    },
    "papermill": {
     "duration": 0.06945,
     "end_time": "2022-01-30T07:04:24.303457",
     "exception": false,
     "start_time": "2022-01-30T07:04:24.234007",
     "status": "completed"
    },
    "tags": []
   },
   "outputs": [
    {
     "data": {
      "image/png": "[encoded data removed]",
      "text/plain": [
       "<PIL.Image.Image image mode=RGB size=256x256 at 0x7FD99C01B150>"
      ]
     },
     "execution_count": 14,
     "metadata": {},
     "output_type": "execute_result"
    }
   ],
   "source": [
    "img"
   ]
  },
  {
   "cell_type": "code",
   "execution_count": 15,
   "id": "2b121c83",
   "metadata": {
    "execution": {
     "iopub.execute_input": "2022-01-30T07:04:24.418898Z",
     "iopub.status.busy": "2022-01-30T07:04:24.418267Z",
     "iopub.status.idle": "2022-01-30T07:04:24.420823Z",
     "shell.execute_reply": "2022-01-30T07:04:24.421210Z",
     "shell.execute_reply.started": "2022-01-29T19:37:42.877777Z"
    },
    "papermill": {
     "duration": 0.062946,
     "end_time": "2022-01-30T07:04:24.421373",
     "exception": false,
     "start_time": "2022-01-30T07:04:24.358427",
     "status": "completed"
    },
    "tags": []
   },
   "outputs": [
    {
     "data": {
      "text/plain": [
       "'/kaggle/working'"
      ]
     },
     "execution_count": 15,
     "metadata": {},
     "output_type": "execute_result"
    }
   ],
   "source": [
    "pwd"
   ]
  },
  {
   "cell_type": "code",
   "execution_count": 16,
   "id": "51dc5d0b",
   "metadata": {
    "execution": {
     "iopub.execute_input": "2022-01-30T07:04:24.537097Z",
     "iopub.status.busy": "2022-01-30T07:04:24.535095Z",
     "iopub.status.idle": "2022-01-30T07:04:24.604155Z",
     "shell.execute_reply": "2022-01-30T07:04:24.604720Z",
     "shell.execute_reply.started": "2022-01-29T19:37:43.099656Z"
    },
    "papermill": {
     "duration": 0.12873,
     "end_time": "2022-01-30T07:04:24.604875",
     "exception": false,
     "start_time": "2022-01-30T07:04:24.476145",
     "status": "completed"
    },
    "tags": []
   },
   "outputs": [
    {
     "data": {
      "text/plain": [
       "tensor([[[1., 1., 1.,  ..., 1., 1., 1.],\n",
       "         [1., 1., 1.,  ..., 1., 1., 1.],\n",
       "         [1., 1., 1.,  ..., 1., 1., 1.],\n",
       "         ...,\n",
       "         [1., 1., 1.,  ..., 1., 1., 1.],\n",
       "         [1., 1., 1.,  ..., 1., 1., 1.],\n",
       "         [1., 1., 1.,  ..., 1., 1., 1.]],\n",
       "\n",
       "        [[1., 1., 1.,  ..., 1., 1., 1.],\n",
       "         [1., 1., 1.,  ..., 1., 1., 1.],\n",
       "         [1., 1., 1.,  ..., 1., 1., 1.],\n",
       "         ...,\n",
       "         [1., 1., 1.,  ..., 1., 1., 1.],\n",
       "         [1., 1., 1.,  ..., 1., 1., 1.],\n",
       "         [1., 1., 1.,  ..., 1., 1., 1.]],\n",
       "\n",
       "        [[1., 1., 1.,  ..., 1., 1., 1.],\n",
       "         [1., 1., 1.,  ..., 1., 1., 1.],\n",
       "         [1., 1., 1.,  ..., 1., 1., 1.],\n",
       "         ...,\n",
       "         [1., 1., 1.,  ..., 1., 1., 1.],\n",
       "         [1., 1., 1.,  ..., 1., 1., 1.],\n",
       "         [1., 1., 1.,  ..., 1., 1., 1.]]])"
      ]
     },
     "execution_count": 16,
     "metadata": {},
     "output_type": "execute_result"
    }
   ],
   "source": [
    "convert_tensor = torchvision.transforms.ToTensor()\n",
    "\n",
    "convert_tensor(image)"
   ]
  },
  {
   "cell_type": "code",
   "execution_count": null,
   "id": "da2df231",
   "metadata": {
    "papermill": {
     "duration": 0.055483,
     "end_time": "2022-01-30T07:04:24.715931",
     "exception": false,
     "start_time": "2022-01-30T07:04:24.660448",
     "status": "completed"
    },
    "tags": []
   },
   "outputs": [],
   "source": []
  },
  {
   "cell_type": "code",
   "execution_count": 17,
   "id": "99a04678",
   "metadata": {
    "execution": {
     "iopub.execute_input": "2022-01-30T07:04:24.841477Z",
     "iopub.status.busy": "2022-01-30T07:04:24.840570Z",
     "iopub.status.idle": "2022-01-30T07:04:24.842464Z",
     "shell.execute_reply": "2022-01-30T07:04:24.842871Z",
     "shell.execute_reply.started": "2022-01-29T19:37:43.462603Z"
    },
    "papermill": {
     "duration": 0.06525,
     "end_time": "2022-01-30T07:04:24.843006",
     "exception": false,
     "start_time": "2022-01-30T07:04:24.777756",
     "status": "completed"
    },
    "tags": []
   },
   "outputs": [],
   "source": [
    "dataset=CustomDataset(train_file,data_folder,\"train\")"
   ]
  },
  {
   "cell_type": "code",
   "execution_count": 18,
   "id": "fe71e21a",
   "metadata": {
    "execution": {
     "iopub.execute_input": "2022-01-30T07:04:24.957675Z",
     "iopub.status.busy": "2022-01-30T07:04:24.957061Z",
     "iopub.status.idle": "2022-01-30T07:04:24.959736Z",
     "shell.execute_reply": "2022-01-30T07:04:24.960386Z",
     "shell.execute_reply.started": "2022-01-29T19:37:43.617191Z"
    },
    "papermill": {
     "duration": 0.06231,
     "end_time": "2022-01-30T07:04:24.960530",
     "exception": false,
     "start_time": "2022-01-30T07:04:24.898220",
     "status": "completed"
    },
    "tags": []
   },
   "outputs": [
    {
     "data": {
      "text/plain": [
       "<__main__.CustomDataset at 0x7fd8ecf87750>"
      ]
     },
     "execution_count": 18,
     "metadata": {},
     "output_type": "execute_result"
    }
   ],
   "source": [
    "dataset"
   ]
  },
  {
   "cell_type": "code",
   "execution_count": 19,
   "id": "81576d49",
   "metadata": {
    "execution": {
     "iopub.execute_input": "2022-01-30T07:04:25.074612Z",
     "iopub.status.busy": "2022-01-30T07:04:25.073970Z",
     "iopub.status.idle": "2022-01-30T07:04:25.098680Z",
     "shell.execute_reply": "2022-01-30T07:04:25.098197Z",
     "shell.execute_reply.started": "2022-01-29T19:37:43.799822Z"
    },
    "papermill": {
     "duration": 0.083452,
     "end_time": "2022-01-30T07:04:25.098803",
     "exception": false,
     "start_time": "2022-01-30T07:04:25.015351",
     "status": "completed"
    },
    "tags": []
   },
   "outputs": [],
   "source": [
    "train_features, train_labels = next(iter(dataset))\n"
   ]
  },
  {
   "cell_type": "code",
   "execution_count": 20,
   "id": "773e7702",
   "metadata": {
    "execution": {
     "iopub.execute_input": "2022-01-30T07:04:25.213894Z",
     "iopub.status.busy": "2022-01-30T07:04:25.213258Z",
     "iopub.status.idle": "2022-01-30T07:04:25.215839Z",
     "shell.execute_reply": "2022-01-30T07:04:25.216237Z",
     "shell.execute_reply.started": "2022-01-29T19:37:44.018313Z"
    },
    "papermill": {
     "duration": 0.062095,
     "end_time": "2022-01-30T07:04:25.216404",
     "exception": false,
     "start_time": "2022-01-30T07:04:25.154309",
     "status": "completed"
    },
    "tags": []
   },
   "outputs": [
    {
     "data": {
      "text/plain": [
       "8"
      ]
     },
     "execution_count": 20,
     "metadata": {},
     "output_type": "execute_result"
    }
   ],
   "source": [
    "train_labels"
   ]
  },
  {
   "cell_type": "code",
   "execution_count": 21,
   "id": "6ab33b9d",
   "metadata": {
    "execution": {
     "iopub.execute_input": "2022-01-30T07:04:25.331435Z",
     "iopub.status.busy": "2022-01-30T07:04:25.330623Z",
     "iopub.status.idle": "2022-01-30T07:04:25.336169Z",
     "shell.execute_reply": "2022-01-30T07:04:25.336621Z",
     "shell.execute_reply.started": "2022-01-29T19:37:44.213991Z"
    },
    "papermill": {
     "duration": 0.065734,
     "end_time": "2022-01-30T07:04:25.336759",
     "exception": false,
     "start_time": "2022-01-30T07:04:25.271025",
     "status": "completed"
    },
    "tags": []
   },
   "outputs": [
    {
     "data": {
      "text/plain": [
       "tensor([[[0.8275, 0.8275, 0.8353,  ..., 0.6902, 0.6902, 0.6941],\n",
       "         [0.8275, 0.8353, 0.8314,  ..., 0.6902, 0.6941, 0.6941],\n",
       "         [0.8275, 0.8314, 0.8314,  ..., 0.6863, 0.6941, 0.6902],\n",
       "         ...,\n",
       "         [0.6353, 0.6353, 0.6353,  ..., 0.7373, 0.7333, 0.7333],\n",
       "         [0.6392, 0.6392, 0.6392,  ..., 0.7373, 0.7333, 0.7294],\n",
       "         [0.6471, 0.6431, 0.6431,  ..., 0.7294, 0.7333, 0.7294]],\n",
       "\n",
       "        [[0.7765, 0.7765, 0.7843,  ..., 0.6353, 0.6353, 0.6392],\n",
       "         [0.7765, 0.7843, 0.7804,  ..., 0.6353, 0.6431, 0.6392],\n",
       "         [0.7765, 0.7804, 0.7804,  ..., 0.6353, 0.6431, 0.6392],\n",
       "         ...,\n",
       "         [0.5804, 0.5804, 0.5804,  ..., 0.6824, 0.6784, 0.6784],\n",
       "         [0.5843, 0.5843, 0.5843,  ..., 0.6824, 0.6784, 0.6745],\n",
       "         [0.5922, 0.5882, 0.5882,  ..., 0.6745, 0.6784, 0.6745]],\n",
       "\n",
       "        [[0.7137, 0.7137, 0.7216,  ..., 0.5843, 0.5882, 0.5882],\n",
       "         [0.7137, 0.7216, 0.7176,  ..., 0.5843, 0.5882, 0.5882],\n",
       "         [0.7137, 0.7176, 0.7176,  ..., 0.5725, 0.5804, 0.5765],\n",
       "         ...,\n",
       "         [0.5294, 0.5294, 0.5294,  ..., 0.6275, 0.6235, 0.6275],\n",
       "         [0.5333, 0.5333, 0.5333,  ..., 0.6314, 0.6275, 0.6235],\n",
       "         [0.5412, 0.5373, 0.5373,  ..., 0.6235, 0.6275, 0.6235]]])"
      ]
     },
     "execution_count": 21,
     "metadata": {},
     "output_type": "execute_result"
    }
   ],
   "source": [
    "train_features"
   ]
  },
  {
   "cell_type": "code",
   "execution_count": 22,
   "id": "219201ef",
   "metadata": {
    "execution": {
     "iopub.execute_input": "2022-01-30T07:04:25.458377Z",
     "iopub.status.busy": "2022-01-30T07:04:25.457713Z",
     "iopub.status.idle": "2022-01-30T07:04:25.460472Z",
     "shell.execute_reply": "2022-01-30T07:04:25.460880Z",
     "shell.execute_reply.started": "2022-01-29T19:37:44.411944Z"
    },
    "papermill": {
     "duration": 0.068622,
     "end_time": "2022-01-30T07:04:25.461018",
     "exception": false,
     "start_time": "2022-01-30T07:04:25.392396",
     "status": "completed"
    },
    "tags": []
   },
   "outputs": [
    {
     "data": {
      "text/html": [
       "<div>\n",
       "<style scoped>\n",
       "    .dataframe tbody tr th:only-of-type {\n",
       "        vertical-align: middle;\n",
       "    }\n",
       "\n",
       "    .dataframe tbody tr th {\n",
       "        vertical-align: top;\n",
       "    }\n",
       "\n",
       "    .dataframe thead th {\n",
       "        text-align: right;\n",
       "    }\n",
       "</style>\n",
       "<table border=\"1\" class=\"dataframe\">\n",
       "  <thead>\n",
       "    <tr style=\"text-align: right;\">\n",
       "      <th></th>\n",
       "      <th>file_name</th>\n",
       "      <th>label</th>\n",
       "    </tr>\n",
       "  </thead>\n",
       "  <tbody>\n",
       "    <tr>\n",
       "      <th>0</th>\n",
       "      <td>Image_000000.jpg</td>\n",
       "      <td>8</td>\n",
       "    </tr>\n",
       "    <tr>\n",
       "      <th>1</th>\n",
       "      <td>Image_000001.jpg</td>\n",
       "      <td>8</td>\n",
       "    </tr>\n",
       "    <tr>\n",
       "      <th>2</th>\n",
       "      <td>Image_000002.jpg</td>\n",
       "      <td>8</td>\n",
       "    </tr>\n",
       "    <tr>\n",
       "      <th>3</th>\n",
       "      <td>Image_000003.jpg</td>\n",
       "      <td>8</td>\n",
       "    </tr>\n",
       "    <tr>\n",
       "      <th>4</th>\n",
       "      <td>Image_000004.jpg</td>\n",
       "      <td>8</td>\n",
       "    </tr>\n",
       "    <tr>\n",
       "      <th>...</th>\n",
       "      <td>...</td>\n",
       "      <td>...</td>\n",
       "    </tr>\n",
       "    <tr>\n",
       "      <th>31744</th>\n",
       "      <td>Image_031833.jpg</td>\n",
       "      <td>7</td>\n",
       "    </tr>\n",
       "    <tr>\n",
       "      <th>31745</th>\n",
       "      <td>Image_031834.jpg</td>\n",
       "      <td>7</td>\n",
       "    </tr>\n",
       "    <tr>\n",
       "      <th>31746</th>\n",
       "      <td>Image_031835.jpg</td>\n",
       "      <td>7</td>\n",
       "    </tr>\n",
       "    <tr>\n",
       "      <th>31747</th>\n",
       "      <td>Image_031836.jpg</td>\n",
       "      <td>7</td>\n",
       "    </tr>\n",
       "    <tr>\n",
       "      <th>31748</th>\n",
       "      <td>Image_031837.jpg</td>\n",
       "      <td>7</td>\n",
       "    </tr>\n",
       "  </tbody>\n",
       "</table>\n",
       "<p>31749 rows × 2 columns</p>\n",
       "</div>"
      ],
      "text/plain": [
       "              file_name  label\n",
       "0      Image_000000.jpg      8\n",
       "1      Image_000001.jpg      8\n",
       "2      Image_000002.jpg      8\n",
       "3      Image_000003.jpg      8\n",
       "4      Image_000004.jpg      8\n",
       "...                 ...    ...\n",
       "31744  Image_031833.jpg      7\n",
       "31745  Image_031834.jpg      7\n",
       "31746  Image_031835.jpg      7\n",
       "31747  Image_031836.jpg      7\n",
       "31748  Image_031837.jpg      7\n",
       "\n",
       "[31749 rows x 2 columns]"
      ]
     },
     "execution_count": 22,
     "metadata": {},
     "output_type": "execute_result"
    }
   ],
   "source": [
    "train_file"
   ]
  },
  {
   "cell_type": "code",
   "execution_count": 23,
   "id": "f5a41bd7",
   "metadata": {
    "execution": {
     "iopub.execute_input": "2022-01-30T07:04:25.580029Z",
     "iopub.status.busy": "2022-01-30T07:04:25.579424Z",
     "iopub.status.idle": "2022-01-30T07:04:25.582101Z",
     "shell.execute_reply": "2022-01-30T07:04:25.582513Z",
     "shell.execute_reply.started": "2022-01-29T19:37:44.614131Z"
    },
    "papermill": {
     "duration": 0.065957,
     "end_time": "2022-01-30T07:04:25.582653",
     "exception": false,
     "start_time": "2022-01-30T07:04:25.516696",
     "status": "completed"
    },
    "tags": []
   },
   "outputs": [
    {
     "data": {
      "text/plain": [
       "6     6285\n",
       "3     4139\n",
       "9     3933\n",
       "7     3664\n",
       "2     2778\n",
       "5     2433\n",
       "8     2338\n",
       "0     2166\n",
       "4     2052\n",
       "10    1039\n",
       "1      922\n",
       "Name: label, dtype: int64"
      ]
     },
     "execution_count": 23,
     "metadata": {},
     "output_type": "execute_result"
    }
   ],
   "source": [
    "train_file['label'].value_counts()"
   ]
  },
  {
   "cell_type": "code",
   "execution_count": 24,
   "id": "37362d47",
   "metadata": {
    "execution": {
     "iopub.execute_input": "2022-01-30T07:04:25.700051Z",
     "iopub.status.busy": "2022-01-30T07:04:25.699350Z",
     "iopub.status.idle": "2022-01-30T07:04:25.704198Z",
     "shell.execute_reply": "2022-01-30T07:04:25.703761Z",
     "shell.execute_reply.started": "2022-01-29T19:37:44.79453Z"
    },
    "papermill": {
     "duration": 0.065077,
     "end_time": "2022-01-30T07:04:25.704320",
     "exception": false,
     "start_time": "2022-01-30T07:04:25.639243",
     "status": "completed"
    },
    "tags": []
   },
   "outputs": [],
   "source": [
    "random_seed = 42\n",
    "torch.manual_seed(random_seed);"
   ]
  },
  {
   "cell_type": "code",
   "execution_count": 25,
   "id": "ba0a1e91",
   "metadata": {
    "execution": {
     "iopub.execute_input": "2022-01-30T07:04:25.833287Z",
     "iopub.status.busy": "2022-01-30T07:04:25.832381Z",
     "iopub.status.idle": "2022-01-30T07:04:25.836269Z",
     "shell.execute_reply": "2022-01-30T07:04:25.835563Z",
     "shell.execute_reply.started": "2022-01-29T19:37:45.013088Z"
    },
    "papermill": {
     "duration": 0.075504,
     "end_time": "2022-01-30T07:04:25.836473",
     "exception": false,
     "start_time": "2022-01-30T07:04:25.760969",
     "status": "completed"
    },
    "tags": []
   },
   "outputs": [
    {
     "data": {
      "text/plain": [
       "31749"
      ]
     },
     "execution_count": 25,
     "metadata": {},
     "output_type": "execute_result"
    }
   ],
   "source": [
    "len(train_file)"
   ]
  },
  {
   "cell_type": "code",
   "execution_count": 26,
   "id": "99b0e586",
   "metadata": {
    "execution": {
     "iopub.execute_input": "2022-01-30T07:04:26.047213Z",
     "iopub.status.busy": "2022-01-30T07:04:26.046352Z",
     "iopub.status.idle": "2022-01-30T07:04:26.049851Z",
     "shell.execute_reply": "2022-01-30T07:04:26.047969Z",
     "shell.execute_reply.started": "2022-01-29T19:37:45.217775Z"
    },
    "papermill": {
     "duration": 0.112067,
     "end_time": "2022-01-30T07:04:26.050004",
     "exception": false,
     "start_time": "2022-01-30T07:04:25.937937",
     "status": "completed"
    },
    "tags": []
   },
   "outputs": [
    {
     "data": {
      "text/plain": [
       "31749"
      ]
     },
     "execution_count": 26,
     "metadata": {},
     "output_type": "execute_result"
    }
   ],
   "source": [
    "dataset.__len__()"
   ]
  },
  {
   "cell_type": "code",
   "execution_count": 27,
   "id": "f6ecdb4a",
   "metadata": {
    "execution": {
     "iopub.execute_input": "2022-01-30T07:04:26.242306Z",
     "iopub.status.busy": "2022-01-30T07:04:26.241464Z",
     "iopub.status.idle": "2022-01-30T07:04:26.243646Z",
     "shell.execute_reply": "2022-01-30T07:04:26.243019Z",
     "shell.execute_reply.started": "2022-01-29T19:37:45.438255Z"
    },
    "papermill": {
     "duration": 0.099317,
     "end_time": "2022-01-30T07:04:26.243807",
     "exception": false,
     "start_time": "2022-01-30T07:04:26.144490",
     "status": "completed"
    },
    "tags": []
   },
   "outputs": [],
   "source": [
    "dataset_size = len(dataset)\n",
    "dataset_indices = list(range(dataset_size))"
   ]
  },
  {
   "cell_type": "code",
   "execution_count": 28,
   "id": "5e2032c3",
   "metadata": {
    "execution": {
     "iopub.execute_input": "2022-01-30T07:04:26.444003Z",
     "iopub.status.busy": "2022-01-30T07:04:26.443187Z",
     "iopub.status.idle": "2022-01-30T07:04:26.446478Z",
     "shell.execute_reply": "2022-01-30T07:04:26.447077Z",
     "shell.execute_reply.started": "2022-01-29T19:37:45.662993Z"
    },
    "papermill": {
     "duration": 0.116773,
     "end_time": "2022-01-30T07:04:26.447266",
     "exception": false,
     "start_time": "2022-01-30T07:04:26.330493",
     "status": "completed"
    },
    "tags": []
   },
   "outputs": [],
   "source": [
    "np.random.shuffle(dataset_indices)"
   ]
  },
  {
   "cell_type": "code",
   "execution_count": 29,
   "id": "2c9cbeda",
   "metadata": {
    "execution": {
     "iopub.execute_input": "2022-01-30T07:04:26.656272Z",
     "iopub.status.busy": "2022-01-30T07:04:26.655364Z",
     "iopub.status.idle": "2022-01-30T07:04:26.657689Z",
     "shell.execute_reply": "2022-01-30T07:04:26.657024Z",
     "shell.execute_reply.started": "2022-01-29T19:37:45.885756Z"
    },
    "papermill": {
     "duration": 0.109573,
     "end_time": "2022-01-30T07:04:26.657859",
     "exception": false,
     "start_time": "2022-01-30T07:04:26.548286",
     "status": "completed"
    },
    "tags": []
   },
   "outputs": [],
   "source": [
    "#dataset_indices"
   ]
  },
  {
   "cell_type": "code",
   "execution_count": 30,
   "id": "9b15b523",
   "metadata": {
    "execution": {
     "iopub.execute_input": "2022-01-30T07:04:26.859920Z",
     "iopub.status.busy": "2022-01-30T07:04:26.859045Z",
     "iopub.status.idle": "2022-01-30T07:04:26.861246Z",
     "shell.execute_reply": "2022-01-30T07:04:26.860626Z",
     "shell.execute_reply.started": "2022-01-29T19:37:46.111902Z"
    },
    "papermill": {
     "duration": 0.10445,
     "end_time": "2022-01-30T07:04:26.861420",
     "exception": false,
     "start_time": "2022-01-30T07:04:26.756970",
     "status": "completed"
    },
    "tags": []
   },
   "outputs": [],
   "source": [
    "val_split_index = int(np.floor(0.2 * dataset_size))"
   ]
  },
  {
   "cell_type": "code",
   "execution_count": 31,
   "id": "f20054c9",
   "metadata": {
    "execution": {
     "iopub.execute_input": "2022-01-30T07:04:27.035954Z",
     "iopub.status.busy": "2022-01-30T07:04:27.035204Z",
     "iopub.status.idle": "2022-01-30T07:04:27.037810Z",
     "shell.execute_reply": "2022-01-30T07:04:27.038193Z",
     "shell.execute_reply.started": "2022-01-29T19:37:46.314385Z"
    },
    "papermill": {
     "duration": 0.082847,
     "end_time": "2022-01-30T07:04:27.038329",
     "exception": false,
     "start_time": "2022-01-30T07:04:26.955482",
     "status": "completed"
    },
    "tags": []
   },
   "outputs": [
    {
     "data": {
      "text/plain": [
       "6349"
      ]
     },
     "execution_count": 31,
     "metadata": {},
     "output_type": "execute_result"
    }
   ],
   "source": [
    "val_split_index"
   ]
  },
  {
   "cell_type": "code",
   "execution_count": 32,
   "id": "09cb28da",
   "metadata": {
    "execution": {
     "iopub.execute_input": "2022-01-30T07:04:27.157358Z",
     "iopub.status.busy": "2022-01-30T07:04:27.156595Z",
     "iopub.status.idle": "2022-01-30T07:04:27.159112Z",
     "shell.execute_reply": "2022-01-30T07:04:27.158695Z",
     "shell.execute_reply.started": "2022-01-29T19:37:46.815644Z"
    },
    "papermill": {
     "duration": 0.064129,
     "end_time": "2022-01-30T07:04:27.159216",
     "exception": false,
     "start_time": "2022-01-30T07:04:27.095087",
     "status": "completed"
    },
    "tags": []
   },
   "outputs": [],
   "source": [
    "train_idx, val_idx = dataset_indices[val_split_index:], dataset_indices[:val_split_index]"
   ]
  },
  {
   "cell_type": "code",
   "execution_count": 33,
   "id": "a0a8cbc5",
   "metadata": {
    "execution": {
     "iopub.execute_input": "2022-01-30T07:04:27.276680Z",
     "iopub.status.busy": "2022-01-30T07:04:27.275838Z",
     "iopub.status.idle": "2022-01-30T07:04:27.277640Z",
     "shell.execute_reply": "2022-01-30T07:04:27.278068Z",
     "shell.execute_reply.started": "2022-01-29T19:37:46.846614Z"
    },
    "papermill": {
     "duration": 0.062296,
     "end_time": "2022-01-30T07:04:27.278197",
     "exception": false,
     "start_time": "2022-01-30T07:04:27.215901",
     "status": "completed"
    },
    "tags": []
   },
   "outputs": [],
   "source": [
    "#train_idx"
   ]
  },
  {
   "cell_type": "code",
   "execution_count": 34,
   "id": "cd5c478e",
   "metadata": {
    "execution": {
     "iopub.execute_input": "2022-01-30T07:04:27.398875Z",
     "iopub.status.busy": "2022-01-30T07:04:27.398210Z",
     "iopub.status.idle": "2022-01-30T07:04:27.400702Z",
     "shell.execute_reply": "2022-01-30T07:04:27.401187Z",
     "shell.execute_reply.started": "2022-01-29T19:37:46.885133Z"
    },
    "papermill": {
     "duration": 0.066102,
     "end_time": "2022-01-30T07:04:27.401323",
     "exception": false,
     "start_time": "2022-01-30T07:04:27.335221",
     "status": "completed"
    },
    "tags": []
   },
   "outputs": [
    {
     "data": {
      "text/plain": [
       "(25400, 6349)"
      ]
     },
     "execution_count": 34,
     "metadata": {},
     "output_type": "execute_result"
    }
   ],
   "source": [
    "train_sampler = SubsetRandomSampler(train_idx)\n",
    "val_sampler = SubsetRandomSampler(val_idx)\n",
    "len(train_sampler), len(val_sampler)\n"
   ]
  },
  {
   "cell_type": "code",
   "execution_count": 35,
   "id": "8998bdb0",
   "metadata": {
    "execution": {
     "iopub.execute_input": "2022-01-30T07:04:27.520534Z",
     "iopub.status.busy": "2022-01-30T07:04:27.519922Z",
     "iopub.status.idle": "2022-01-30T07:04:27.522576Z",
     "shell.execute_reply": "2022-01-30T07:04:27.522974Z",
     "shell.execute_reply.started": "2022-01-29T19:37:46.93962Z"
    },
    "papermill": {
     "duration": 0.064883,
     "end_time": "2022-01-30T07:04:27.523107",
     "exception": false,
     "start_time": "2022-01-30T07:04:27.458224",
     "status": "completed"
    },
    "tags": []
   },
   "outputs": [
    {
     "data": {
      "text/plain": [
       "<torch.utils.data.sampler.SubsetRandomSampler at 0x7fd8eceb67d0>"
      ]
     },
     "execution_count": 35,
     "metadata": {},
     "output_type": "execute_result"
    }
   ],
   "source": [
    "train_sampler"
   ]
  },
  {
   "cell_type": "code",
   "execution_count": 36,
   "id": "54b0b3c5",
   "metadata": {
    "execution": {
     "iopub.execute_input": "2022-01-30T07:04:27.645262Z",
     "iopub.status.busy": "2022-01-30T07:04:27.644446Z",
     "iopub.status.idle": "2022-01-30T07:04:27.646954Z",
     "shell.execute_reply": "2022-01-30T07:04:27.646532Z",
     "shell.execute_reply.started": "2022-01-29T19:37:46.947376Z"
    },
    "papermill": {
     "duration": 0.066303,
     "end_time": "2022-01-30T07:04:27.647073",
     "exception": false,
     "start_time": "2022-01-30T07:04:27.580770",
     "status": "completed"
    },
    "tags": []
   },
   "outputs": [],
   "source": [
    "train_dl = DataLoader(dataset=dataset, shuffle=False, batch_size=32, sampler=train_sampler)\n",
    "val_dl = DataLoader(dataset=dataset, shuffle=False, batch_size=32, sampler=val_sampler)"
   ]
  },
  {
   "cell_type": "code",
   "execution_count": 37,
   "id": "b516f4d7",
   "metadata": {
    "execution": {
     "iopub.execute_input": "2022-01-30T07:04:27.767630Z",
     "iopub.status.busy": "2022-01-30T07:04:27.767000Z",
     "iopub.status.idle": "2022-01-30T07:04:27.769572Z",
     "shell.execute_reply": "2022-01-30T07:04:27.769978Z",
     "shell.execute_reply.started": "2022-01-29T19:37:46.966659Z"
    },
    "papermill": {
     "duration": 0.065252,
     "end_time": "2022-01-30T07:04:27.770110",
     "exception": false,
     "start_time": "2022-01-30T07:04:27.704858",
     "status": "completed"
    },
    "tags": []
   },
   "outputs": [
    {
     "data": {
      "text/plain": [
       "<torch.utils.data.dataloader.DataLoader at 0x7fd8eceb0c90>"
      ]
     },
     "execution_count": 37,
     "metadata": {},
     "output_type": "execute_result"
    }
   ],
   "source": [
    "val_dl"
   ]
  },
  {
   "cell_type": "code",
   "execution_count": 38,
   "id": "c0e9ae74",
   "metadata": {
    "execution": {
     "iopub.execute_input": "2022-01-30T07:04:27.891870Z",
     "iopub.status.busy": "2022-01-30T07:04:27.891248Z",
     "iopub.status.idle": "2022-01-30T07:04:29.364959Z",
     "shell.execute_reply": "2022-01-30T07:04:29.365405Z",
     "shell.execute_reply.started": "2022-01-29T19:37:47.025303Z"
    },
    "papermill": {
     "duration": 1.538071,
     "end_time": "2022-01-30T07:04:29.365556",
     "exception": false,
     "start_time": "2022-01-30T07:04:27.827485",
     "status": "completed"
    },
    "tags": []
   },
   "outputs": [
    {
     "name": "stdout",
     "output_type": "stream",
     "text": [
      "tensor([ 4,  9,  0,  2,  4,  4,  6,  6,  6,  6,  3,  2,  9,  9,  0,  7,  6, 10,\n",
      "         4,  6,  2,  6,  4,  5,  6,  9,  3,  7,  8,  3,  4,  6])\n"
     ]
    }
   ],
   "source": [
    "train_features, train_labels = next(iter(train_dl))\n",
    "print(train_labels)\n"
   ]
  },
  {
   "cell_type": "code",
   "execution_count": 39,
   "id": "90947d12",
   "metadata": {
    "execution": {
     "iopub.execute_input": "2022-01-30T07:04:29.487439Z",
     "iopub.status.busy": "2022-01-30T07:04:29.486658Z",
     "iopub.status.idle": "2022-01-30T07:04:30.776046Z",
     "shell.execute_reply": "2022-01-30T07:04:30.775563Z",
     "shell.execute_reply.started": "2022-01-29T19:37:48.198484Z"
    },
    "papermill": {
     "duration": 1.351765,
     "end_time": "2022-01-30T07:04:30.776169",
     "exception": false,
     "start_time": "2022-01-30T07:04:29.424404",
     "status": "completed"
    },
    "tags": []
   },
   "outputs": [
    {
     "name": "stdout",
     "output_type": "stream",
     "text": [
      "tensor([3, 4, 7, 6, 2, 5, 4, 4, 4, 6, 7, 5, 4, 9, 2, 3, 8, 8, 4, 6, 3, 6, 3, 6,\n",
      "        5, 0, 8, 8, 6, 2, 3, 4])\n"
     ]
    }
   ],
   "source": [
    "for i in val_dl:\n",
    "    images,labels=i\n",
    "    print(labels)\n",
    "    break"
   ]
  },
  {
   "cell_type": "code",
   "execution_count": 40,
   "id": "88024b9d",
   "metadata": {
    "execution": {
     "iopub.execute_input": "2022-01-30T07:04:30.944959Z",
     "iopub.status.busy": "2022-01-30T07:04:30.944179Z",
     "iopub.status.idle": "2022-01-30T07:04:30.946998Z",
     "shell.execute_reply": "2022-01-30T07:04:30.947466Z",
     "shell.execute_reply.started": "2022-01-29T19:37:49.49838Z"
    },
    "papermill": {
     "duration": 0.112848,
     "end_time": "2022-01-30T07:04:30.947619",
     "exception": false,
     "start_time": "2022-01-30T07:04:30.834771",
     "status": "completed"
    },
    "tags": []
   },
   "outputs": [
    {
     "data": {
      "text/plain": [
       "True"
      ]
     },
     "execution_count": 40,
     "metadata": {},
     "output_type": "execute_result"
    }
   ],
   "source": [
    "torch.cuda.is_available()"
   ]
  },
  {
   "cell_type": "code",
   "execution_count": 41,
   "id": "1ad8b4c2",
   "metadata": {
    "execution": {
     "iopub.execute_input": "2022-01-30T07:04:31.072949Z",
     "iopub.status.busy": "2022-01-30T07:04:31.072064Z",
     "iopub.status.idle": "2022-01-30T07:04:31.073862Z",
     "shell.execute_reply": "2022-01-30T07:04:31.074256Z",
     "shell.execute_reply.started": "2022-01-29T19:37:49.558618Z"
    },
    "papermill": {
     "duration": 0.067919,
     "end_time": "2022-01-30T07:04:31.074411",
     "exception": false,
     "start_time": "2022-01-30T07:04:31.006492",
     "status": "completed"
    },
    "tags": []
   },
   "outputs": [],
   "source": [
    "from torchvision.utils import make_grid\n",
    "\n",
    "def show_batch(dl):\n",
    "    for images, labels in dl:\n",
    "        fig, ax = plt.subplots(figsize=(12, 6))\n",
    "        ax.set_xticks([]); ax.set_yticks([])\n",
    "        ax.imshow(make_grid(images, nrow=4).permute(1,2,0))\n",
    "        break"
   ]
  },
  {
   "cell_type": "code",
   "execution_count": 42,
   "id": "615ecc19",
   "metadata": {
    "execution": {
     "iopub.execute_input": "2022-01-30T07:04:31.197817Z",
     "iopub.status.busy": "2022-01-30T07:04:31.196999Z",
     "iopub.status.idle": "2022-01-30T07:04:33.379087Z",
     "shell.execute_reply": "2022-01-30T07:04:33.379518Z",
     "shell.execute_reply.started": "2022-01-29T19:37:49.569007Z"
    },
    "papermill": {
     "duration": 2.246166,
     "end_time": "2022-01-30T07:04:33.379670",
     "exception": false,
     "start_time": "2022-01-30T07:04:31.133504",
     "status": "completed"
    },
    "tags": []
   },
   "outputs": [
    {
     "data": {
      "image/png": "[encoded data removed]",
      "text/plain": [
       "<Figure size 864x432 with 1 Axes>"
      ]
     },
     "metadata": {},
     "output_type": "display_data"
    }
   ],
   "source": [
    "show_batch(train_dl)"
   ]
  },
  {
   "cell_type": "code",
   "execution_count": 43,
   "id": "5631534f",
   "metadata": {
    "execution": {
     "iopub.execute_input": "2022-01-30T07:04:33.512094Z",
     "iopub.status.busy": "2022-01-30T07:04:33.511394Z",
     "iopub.status.idle": "2022-01-30T07:04:33.514534Z",
     "shell.execute_reply": "2022-01-30T07:04:33.514072Z",
     "shell.execute_reply.started": "2022-01-29T19:37:51.240079Z"
    },
    "papermill": {
     "duration": 0.073055,
     "end_time": "2022-01-30T07:04:33.514654",
     "exception": false,
     "start_time": "2022-01-30T07:04:33.441599",
     "status": "completed"
    },
    "tags": []
   },
   "outputs": [],
   "source": [
    "class ImageClassificationBase(nn.Module):\n",
    " \n",
    "    def training_step(self,batch):\n",
    "        model.train()\n",
    "        images,labels=batch\n",
    "        out=self(images)\n",
    "        loss=F.cross_entropy(out,labels)\n",
    "        acc=accuracy(labels,out)\n",
    "        return loss,acc\n",
    "    \n",
    "   \n",
    "    def validation_step(self,batch):\n",
    "        model.eval()\n",
    "        images,labels=batch\n",
    "        out=self(images)\n",
    "        loss=F.cross_entropy(out,labels)\n",
    "        acc=accuracy(labels,out)\n",
    "        return {'val_loss':loss.detach(),'val_acc':acc}\n",
    "    \n",
    "    \n",
    "    def validation_epoch_end(self,result):\n",
    "        loss=[x['val_loss'] for x in result]\n",
    "        acc= [x['val_acc'] for x in result]\n",
    "        l_b=torch.stack(loss).mean()\n",
    "        a_b=torch.stack(acc).mean()\n",
    "        return {'val_loss':l_b.item(), 'val_acc': a_b.item()}\n",
    "    \n",
    "    def epoch_end(self,epoch,result):\n",
    "        print(\"Epoch [{}], val_loss: {:.4f}, val_acc: {:.4f}\".format(\n",
    "            epoch,result['val_loss'], result['val_acc']))\n",
    "        "
   ]
  },
  {
   "cell_type": "code",
   "execution_count": 44,
   "id": "49b816ba",
   "metadata": {
    "execution": {
     "iopub.execute_input": "2022-01-30T07:04:33.700556Z",
     "iopub.status.busy": "2022-01-30T07:04:33.699656Z",
     "iopub.status.idle": "2022-01-30T07:04:33.705321Z",
     "shell.execute_reply": "2022-01-30T07:04:33.706490Z",
     "shell.execute_reply.started": "2022-01-29T19:37:51.251887Z"
    },
    "papermill": {
     "duration": 0.131021,
     "end_time": "2022-01-30T07:04:33.707145",
     "exception": false,
     "start_time": "2022-01-30T07:04:33.576124",
     "status": "completed"
    },
    "tags": []
   },
   "outputs": [],
   "source": [
    "def conv_block(in_channels, out_channels, pool=False):\n",
    "    layers = [nn.Conv2d(in_channels, out_channels, kernel_size=3, padding=1), \n",
    "              nn.BatchNorm2d(out_channels), \n",
    "              nn.ReLU(inplace=True)]\n",
    "    if pool: layers.append(nn.MaxPool2d(2))\n",
    "    return nn.Sequential(*layers)\n",
    "\n",
    "class CNNR(ImageClassificationBase):\n",
    "    def __init__(self):\n",
    "        super().__init__()\n",
    "        \n",
    "        self.conv1 = conv_block(3, 64)\n",
    "        self.conv2 = conv_block(64, 128, pool=True)\n",
    "        self.res1 = nn.Sequential(conv_block(128, 128), conv_block(128, 128))\n",
    "        \n",
    "        self.conv3 = conv_block(128, 256, pool=True)\n",
    "        self.conv4 = conv_block(256, 512, pool=True)\n",
    "        self.res2 = nn.Sequential(conv_block(512, 512), conv_block(512, 512))\n",
    "        self.mp=nn.MaxPool2d(4)\n",
    "        self.flat=nn.Flatten()\n",
    "        self.dropout=nn.Dropout(0.2)\n",
    "        self.linear1=nn.Linear(32768,512)\n",
    "        self.linear2=nn.Linear(512, 11)\n",
    "\n",
    "        \n",
    "    def forward(self, xb):\n",
    "        out = self.conv1(xb)\n",
    "        out = self.conv2(out)\n",
    "        out = self.res1(out) + out\n",
    "        out = self.conv3(out)\n",
    "        out = self.conv4(out)\n",
    "        out = self.res2(out) + out\n",
    "        out = self.mp(out)\n",
    "        out = self.flat(out)\n",
    "        #print(out.shape)\n",
    "        #print(\"1\")\n",
    "        out = self.dropout(out)\n",
    "        out = self.linear1(out)\n",
    "        #print(out.shape)\n",
    "        #print(\"2\")\n",
    "        out = self.linear2(out)\n",
    "        #print(\"3\")\n",
    "        return out"
   ]
  },
  {
   "cell_type": "code",
   "execution_count": 45,
   "id": "305094b0",
   "metadata": {
    "execution": {
     "iopub.execute_input": "2022-01-30T07:04:33.929399Z",
     "iopub.status.busy": "2022-01-30T07:04:33.928613Z",
     "iopub.status.idle": "2022-01-30T07:04:34.230875Z",
     "shell.execute_reply": "2022-01-30T07:04:34.231433Z",
     "shell.execute_reply.started": "2022-01-29T19:37:51.267208Z"
    },
    "papermill": {
     "duration": 0.412327,
     "end_time": "2022-01-30T07:04:34.231589",
     "exception": false,
     "start_time": "2022-01-30T07:04:33.819262",
     "status": "completed"
    },
    "tags": []
   },
   "outputs": [
    {
     "data": {
      "text/plain": [
       "CNNR(\n",
       "  (conv1): Sequential(\n",
       "    (0): Conv2d(3, 64, kernel_size=(3, 3), stride=(1, 1), padding=(1, 1))\n",
       "    (1): BatchNorm2d(64, eps=1e-05, momentum=0.1, affine=True, track_running_stats=True)\n",
       "    (2): ReLU(inplace=True)\n",
       "  )\n",
       "  (conv2): Sequential(\n",
       "    (0): Conv2d(64, 128, kernel_size=(3, 3), stride=(1, 1), padding=(1, 1))\n",
       "    (1): BatchNorm2d(128, eps=1e-05, momentum=0.1, affine=True, track_running_stats=True)\n",
       "    (2): ReLU(inplace=True)\n",
       "    (3): MaxPool2d(kernel_size=2, stride=2, padding=0, dilation=1, ceil_mode=False)\n",
       "  )\n",
       "  (res1): Sequential(\n",
       "    (0): Sequential(\n",
       "      (0): Conv2d(128, 128, kernel_size=(3, 3), stride=(1, 1), padding=(1, 1))\n",
       "      (1): BatchNorm2d(128, eps=1e-05, momentum=0.1, affine=True, track_running_stats=True)\n",
       "      (2): ReLU(inplace=True)\n",
       "    )\n",
       "    (1): Sequential(\n",
       "      (0): Conv2d(128, 128, kernel_size=(3, 3), stride=(1, 1), padding=(1, 1))\n",
       "      (1): BatchNorm2d(128, eps=1e-05, momentum=0.1, affine=True, track_running_stats=True)\n",
       "      (2): ReLU(inplace=True)\n",
       "    )\n",
       "  )\n",
       "  (conv3): Sequential(\n",
       "    (0): Conv2d(128, 256, kernel_size=(3, 3), stride=(1, 1), padding=(1, 1))\n",
       "    (1): BatchNorm2d(256, eps=1e-05, momentum=0.1, affine=True, track_running_stats=True)\n",
       "    (2): ReLU(inplace=True)\n",
       "    (3): MaxPool2d(kernel_size=2, stride=2, padding=0, dilation=1, ceil_mode=False)\n",
       "  )\n",
       "  (conv4): Sequential(\n",
       "    (0): Conv2d(256, 512, kernel_size=(3, 3), stride=(1, 1), padding=(1, 1))\n",
       "    (1): BatchNorm2d(512, eps=1e-05, momentum=0.1, affine=True, track_running_stats=True)\n",
       "    (2): ReLU(inplace=True)\n",
       "    (3): MaxPool2d(kernel_size=2, stride=2, padding=0, dilation=1, ceil_mode=False)\n",
       "  )\n",
       "  (res2): Sequential(\n",
       "    (0): Sequential(\n",
       "      (0): Conv2d(512, 512, kernel_size=(3, 3), stride=(1, 1), padding=(1, 1))\n",
       "      (1): BatchNorm2d(512, eps=1e-05, momentum=0.1, affine=True, track_running_stats=True)\n",
       "      (2): ReLU(inplace=True)\n",
       "    )\n",
       "    (1): Sequential(\n",
       "      (0): Conv2d(512, 512, kernel_size=(3, 3), stride=(1, 1), padding=(1, 1))\n",
       "      (1): BatchNorm2d(512, eps=1e-05, momentum=0.1, affine=True, track_running_stats=True)\n",
       "      (2): ReLU(inplace=True)\n",
       "    )\n",
       "  )\n",
       "  (mp): MaxPool2d(kernel_size=4, stride=4, padding=0, dilation=1, ceil_mode=False)\n",
       "  (flat): Flatten(start_dim=1, end_dim=-1)\n",
       "  (dropout): Dropout(p=0.2, inplace=False)\n",
       "  (linear1): Linear(in_features=32768, out_features=512, bias=True)\n",
       "  (linear2): Linear(in_features=512, out_features=11, bias=True)\n",
       ")"
      ]
     },
     "execution_count": 45,
     "metadata": {},
     "output_type": "execute_result"
    }
   ],
   "source": [
    "model =CNNR()\n",
    "model"
   ]
  },
  {
   "cell_type": "code",
   "execution_count": 46,
   "id": "0a0ec508",
   "metadata": {
    "execution": {
     "iopub.execute_input": "2022-01-30T07:04:34.363886Z",
     "iopub.status.busy": "2022-01-30T07:04:34.363070Z",
     "iopub.status.idle": "2022-01-30T07:04:34.365125Z",
     "shell.execute_reply": "2022-01-30T07:04:34.365581Z",
     "shell.execute_reply.started": "2022-01-29T19:37:51.477993Z"
    },
    "papermill": {
     "duration": 0.07241,
     "end_time": "2022-01-30T07:04:34.365718",
     "exception": false,
     "start_time": "2022-01-30T07:04:34.293308",
     "status": "completed"
    },
    "tags": []
   },
   "outputs": [],
   "source": [
    "def get_default_device():\n",
    "    \"\"\"Pick GPU if available, else CPU\"\"\"\n",
    "    if torch.cuda.is_available():\n",
    "        return torch.device('cuda')\n",
    "    else:\n",
    "        return torch.device('cpu')\n",
    "    \n",
    "def to_device(data, device):\n",
    "    \"\"\"Move tensor(s) to chosen device\"\"\"\n",
    "    if isinstance(data, (list,tuple)):\n",
    "        return [to_device(x, device) for x in data]\n",
    "    return data.to(device, non_blocking=True)\n",
    "\n",
    "class DeviceDataLoader():\n",
    "    \"\"\"Wrap a dataloader to move data to a device\"\"\"\n",
    "    def __init__(self, dl, device):\n",
    "        self.dl = dl\n",
    "        self.device = device\n",
    "        \n",
    "    def __iter__(self):\n",
    "        \"\"\"Yield a batch of data after moving it to device\"\"\"\n",
    "        for b in self.dl: \n",
    "            yield to_device(b, self.device)\n",
    "\n",
    "    def __len__(self):\n",
    "        \"\"\"Number of batches\"\"\"\n",
    "        return len(self.dl)"
   ]
  },
  {
   "cell_type": "code",
   "execution_count": 47,
   "id": "b5c57712",
   "metadata": {
    "execution": {
     "iopub.execute_input": "2022-01-30T07:04:34.495608Z",
     "iopub.status.busy": "2022-01-30T07:04:34.494270Z",
     "iopub.status.idle": "2022-01-30T07:04:34.497831Z",
     "shell.execute_reply": "2022-01-30T07:04:34.497388Z",
     "shell.execute_reply.started": "2022-01-29T19:37:51.489756Z"
    },
    "papermill": {
     "duration": 0.070288,
     "end_time": "2022-01-30T07:04:34.497943",
     "exception": false,
     "start_time": "2022-01-30T07:04:34.427655",
     "status": "completed"
    },
    "tags": []
   },
   "outputs": [
    {
     "data": {
      "text/plain": [
       "device(type='cuda')"
      ]
     },
     "execution_count": 47,
     "metadata": {},
     "output_type": "execute_result"
    }
   ],
   "source": [
    "device = get_default_device()\n",
    "device"
   ]
  },
  {
   "cell_type": "code",
   "execution_count": 48,
   "id": "6e9a7783",
   "metadata": {
    "execution": {
     "iopub.execute_input": "2022-01-30T07:04:34.625772Z",
     "iopub.status.busy": "2022-01-30T07:04:34.624927Z",
     "iopub.status.idle": "2022-01-30T07:04:34.627379Z",
     "shell.execute_reply": "2022-01-30T07:04:34.626797Z",
     "shell.execute_reply.started": "2022-01-29T19:37:51.504667Z"
    },
    "papermill": {
     "duration": 0.068375,
     "end_time": "2022-01-30T07:04:34.627494",
     "exception": false,
     "start_time": "2022-01-30T07:04:34.559119",
     "status": "completed"
    },
    "tags": []
   },
   "outputs": [],
   "source": [
    "train_dl = DeviceDataLoader(train_dl, device)\n",
    "val_dl = DeviceDataLoader(val_dl, device)"
   ]
  },
  {
   "cell_type": "code",
   "execution_count": 49,
   "id": "7a879d6c",
   "metadata": {
    "execution": {
     "iopub.execute_input": "2022-01-30T07:04:34.756281Z",
     "iopub.status.busy": "2022-01-30T07:04:34.755635Z",
     "iopub.status.idle": "2022-01-30T07:04:34.758293Z",
     "shell.execute_reply": "2022-01-30T07:04:34.758725Z",
     "shell.execute_reply.started": "2022-01-29T19:37:51.510364Z"
    },
    "papermill": {
     "duration": 0.069674,
     "end_time": "2022-01-30T07:04:34.758884",
     "exception": false,
     "start_time": "2022-01-30T07:04:34.689210",
     "status": "completed"
    },
    "tags": []
   },
   "outputs": [
    {
     "data": {
      "text/plain": [
       "<__main__.DeviceDataLoader at 0x7fd8eccd8710>"
      ]
     },
     "execution_count": 49,
     "metadata": {},
     "output_type": "execute_result"
    }
   ],
   "source": [
    "train_dl"
   ]
  },
  {
   "cell_type": "code",
   "execution_count": 50,
   "id": "af4690cc",
   "metadata": {
    "execution": {
     "iopub.execute_input": "2022-01-30T07:04:34.888058Z",
     "iopub.status.busy": "2022-01-30T07:04:34.887439Z",
     "iopub.status.idle": "2022-01-30T07:04:34.890044Z",
     "shell.execute_reply": "2022-01-30T07:04:34.890482Z",
     "shell.execute_reply.started": "2022-01-29T19:37:51.520523Z"
    },
    "papermill": {
     "duration": 0.069162,
     "end_time": "2022-01-30T07:04:34.890620",
     "exception": false,
     "start_time": "2022-01-30T07:04:34.821458",
     "status": "completed"
    },
    "tags": []
   },
   "outputs": [
    {
     "data": {
      "text/plain": [
       "<__main__.DeviceDataLoader at 0x7fd8eccd8610>"
      ]
     },
     "execution_count": 50,
     "metadata": {},
     "output_type": "execute_result"
    }
   ],
   "source": [
    "val_dl"
   ]
  },
  {
   "cell_type": "code",
   "execution_count": 51,
   "id": "4179f34a",
   "metadata": {
    "execution": {
     "iopub.execute_input": "2022-01-30T07:04:35.026725Z",
     "iopub.status.busy": "2022-01-30T07:04:35.026088Z",
     "iopub.status.idle": "2022-01-30T07:04:35.028748Z",
     "shell.execute_reply": "2022-01-30T07:04:35.029134Z",
     "shell.execute_reply.started": "2022-01-29T19:37:55.685244Z"
    },
    "papermill": {
     "duration": 0.074655,
     "end_time": "2022-01-30T07:04:35.029267",
     "exception": false,
     "start_time": "2022-01-30T07:04:34.954612",
     "status": "completed"
    },
    "tags": []
   },
   "outputs": [
    {
     "data": {
      "text/plain": [
       "True"
      ]
     },
     "execution_count": 51,
     "metadata": {},
     "output_type": "execute_result"
    }
   ],
   "source": [
    "torch.cuda.is_available()"
   ]
  },
  {
   "cell_type": "code",
   "execution_count": 52,
   "id": "f33aa45d",
   "metadata": {
    "execution": {
     "iopub.execute_input": "2022-01-30T07:04:35.159295Z",
     "iopub.status.busy": "2022-01-30T07:04:35.158711Z",
     "iopub.status.idle": "2022-01-30T07:04:37.873055Z",
     "shell.execute_reply": "2022-01-30T07:04:37.873460Z",
     "shell.execute_reply.started": "2022-01-29T19:37:56.21788Z"
    },
    "papermill": {
     "duration": 2.782223,
     "end_time": "2022-01-30T07:04:37.873617",
     "exception": false,
     "start_time": "2022-01-30T07:04:35.091394",
     "status": "completed"
    },
    "tags": []
   },
   "outputs": [
    {
     "data": {
      "text/plain": [
       "CNNR(\n",
       "  (conv1): Sequential(\n",
       "    (0): Conv2d(3, 64, kernel_size=(3, 3), stride=(1, 1), padding=(1, 1))\n",
       "    (1): BatchNorm2d(64, eps=1e-05, momentum=0.1, affine=True, track_running_stats=True)\n",
       "    (2): ReLU(inplace=True)\n",
       "  )\n",
       "  (conv2): Sequential(\n",
       "    (0): Conv2d(64, 128, kernel_size=(3, 3), stride=(1, 1), padding=(1, 1))\n",
       "    (1): BatchNorm2d(128, eps=1e-05, momentum=0.1, affine=True, track_running_stats=True)\n",
       "    (2): ReLU(inplace=True)\n",
       "    (3): MaxPool2d(kernel_size=2, stride=2, padding=0, dilation=1, ceil_mode=False)\n",
       "  )\n",
       "  (res1): Sequential(\n",
       "    (0): Sequential(\n",
       "      (0): Conv2d(128, 128, kernel_size=(3, 3), stride=(1, 1), padding=(1, 1))\n",
       "      (1): BatchNorm2d(128, eps=1e-05, momentum=0.1, affine=True, track_running_stats=True)\n",
       "      (2): ReLU(inplace=True)\n",
       "    )\n",
       "    (1): Sequential(\n",
       "      (0): Conv2d(128, 128, kernel_size=(3, 3), stride=(1, 1), padding=(1, 1))\n",
       "      (1): BatchNorm2d(128, eps=1e-05, momentum=0.1, affine=True, track_running_stats=True)\n",
       "      (2): ReLU(inplace=True)\n",
       "    )\n",
       "  )\n",
       "  (conv3): Sequential(\n",
       "    (0): Conv2d(128, 256, kernel_size=(3, 3), stride=(1, 1), padding=(1, 1))\n",
       "    (1): BatchNorm2d(256, eps=1e-05, momentum=0.1, affine=True, track_running_stats=True)\n",
       "    (2): ReLU(inplace=True)\n",
       "    (3): MaxPool2d(kernel_size=2, stride=2, padding=0, dilation=1, ceil_mode=False)\n",
       "  )\n",
       "  (conv4): Sequential(\n",
       "    (0): Conv2d(256, 512, kernel_size=(3, 3), stride=(1, 1), padding=(1, 1))\n",
       "    (1): BatchNorm2d(512, eps=1e-05, momentum=0.1, affine=True, track_running_stats=True)\n",
       "    (2): ReLU(inplace=True)\n",
       "    (3): MaxPool2d(kernel_size=2, stride=2, padding=0, dilation=1, ceil_mode=False)\n",
       "  )\n",
       "  (res2): Sequential(\n",
       "    (0): Sequential(\n",
       "      (0): Conv2d(512, 512, kernel_size=(3, 3), stride=(1, 1), padding=(1, 1))\n",
       "      (1): BatchNorm2d(512, eps=1e-05, momentum=0.1, affine=True, track_running_stats=True)\n",
       "      (2): ReLU(inplace=True)\n",
       "    )\n",
       "    (1): Sequential(\n",
       "      (0): Conv2d(512, 512, kernel_size=(3, 3), stride=(1, 1), padding=(1, 1))\n",
       "      (1): BatchNorm2d(512, eps=1e-05, momentum=0.1, affine=True, track_running_stats=True)\n",
       "      (2): ReLU(inplace=True)\n",
       "    )\n",
       "  )\n",
       "  (mp): MaxPool2d(kernel_size=4, stride=4, padding=0, dilation=1, ceil_mode=False)\n",
       "  (flat): Flatten(start_dim=1, end_dim=-1)\n",
       "  (dropout): Dropout(p=0.2, inplace=False)\n",
       "  (linear1): Linear(in_features=32768, out_features=512, bias=True)\n",
       "  (linear2): Linear(in_features=512, out_features=11, bias=True)\n",
       ")"
      ]
     },
     "execution_count": 52,
     "metadata": {},
     "output_type": "execute_result"
    }
   ],
   "source": [
    "model = to_device(model, device)\n",
    "model"
   ]
  },
  {
   "cell_type": "code",
   "execution_count": 53,
   "id": "5e0a24da",
   "metadata": {
    "execution": {
     "iopub.execute_input": "2022-01-30T07:04:38.004569Z",
     "iopub.status.busy": "2022-01-30T07:04:38.003681Z",
     "iopub.status.idle": "2022-01-30T07:04:38.005456Z",
     "shell.execute_reply": "2022-01-30T07:04:38.005863Z",
     "shell.execute_reply.started": "2022-01-29T19:37:58.905966Z"
    },
    "papermill": {
     "duration": 0.06985,
     "end_time": "2022-01-30T07:04:38.005997",
     "exception": false,
     "start_time": "2022-01-30T07:04:37.936147",
     "status": "completed"
    },
    "tags": []
   },
   "outputs": [],
   "source": [
    "def accuracy(act,pred):\n",
    "    _, preds = torch.max(pred, dim=1)\n",
    "    #print(preds[0])\n",
    "    #print(act[0])\n",
    "    return torch.tensor(torch.sum(preds==act).item() / len(preds))"
   ]
  },
  {
   "cell_type": "code",
   "execution_count": 54,
   "id": "6ee981c7",
   "metadata": {
    "execution": {
     "iopub.execute_input": "2022-01-30T07:04:38.137769Z",
     "iopub.status.busy": "2022-01-30T07:04:38.136869Z",
     "iopub.status.idle": "2022-01-30T07:04:38.139271Z",
     "shell.execute_reply": "2022-01-30T07:04:38.138755Z",
     "shell.execute_reply.started": "2022-01-29T19:37:58.912511Z"
    },
    "papermill": {
     "duration": 0.069525,
     "end_time": "2022-01-30T07:04:38.139411",
     "exception": false,
     "start_time": "2022-01-30T07:04:38.069886",
     "status": "completed"
    },
    "tags": []
   },
   "outputs": [],
   "source": [
    "#for batch in train_dl:\n",
    " #   images,labels=batch\n",
    "  #  out=model(images)\n",
    "   # print(accuracy(labels,out))\n",
    "    #print(out[:2])\n",
    "    #print(labels[0])\n",
    "    \n",
    "    #break\n"
   ]
  },
  {
   "cell_type": "code",
   "execution_count": 55,
   "id": "e95c48e5",
   "metadata": {
    "execution": {
     "iopub.execute_input": "2022-01-30T07:04:38.273123Z",
     "iopub.status.busy": "2022-01-30T07:04:38.267952Z",
     "iopub.status.idle": "2022-01-30T07:04:38.275467Z",
     "shell.execute_reply": "2022-01-30T07:04:38.275018Z",
     "shell.execute_reply.started": "2022-01-29T19:37:58.922997Z"
    },
    "papermill": {
     "duration": 0.072676,
     "end_time": "2022-01-30T07:04:38.275580",
     "exception": false,
     "start_time": "2022-01-30T07:04:38.202904",
     "status": "completed"
    },
    "tags": []
   },
   "outputs": [],
   "source": [
    "def fit(model,train_dl,valid_dl,opt,lr,epochs):\n",
    "    history = []\n",
    "    optimizer = opt(model.parameters(), lr)\n",
    "    for epoch in range(epochs):\n",
    "        epoch_acc=[]\n",
    "        for batch in train_dl:\n",
    "            images,labels=batch\n",
    "            loss,acc=model.training_step(batch)\n",
    "            loss.backward()\n",
    "            optimizer.step()\n",
    "            optimizer.zero_grad()\n",
    "            epoch_acc.append(acc)\n",
    "        dic_train=torch.stack(epoch_acc).mean()\n",
    "        print(\"Epoch [{}], train_acc: {:.4f}\".format(\n",
    "        epoch,dic_train))\n",
    "        with torch.no_grad():\n",
    "            res=[model.validation_step(batch) for batch in val_dl ]\n",
    "        dic=model.validation_epoch_end(res)\n",
    "        history.append(dic)\n",
    "        model.epoch_end(epoch,dic)\n",
    "    return history"
   ]
  },
  {
   "cell_type": "code",
   "execution_count": 56,
   "id": "0076dd79",
   "metadata": {
    "execution": {
     "iopub.execute_input": "2022-01-30T07:04:38.404982Z",
     "iopub.status.busy": "2022-01-30T07:04:38.404192Z",
     "iopub.status.idle": "2022-01-30T07:04:38.406561Z",
     "shell.execute_reply": "2022-01-30T07:04:38.406108Z",
     "shell.execute_reply.started": "2022-01-29T19:38:02.250927Z"
    },
    "papermill": {
     "duration": 0.068681,
     "end_time": "2022-01-30T07:04:38.406675",
     "exception": false,
     "start_time": "2022-01-30T07:04:38.337994",
     "status": "completed"
    },
    "tags": []
   },
   "outputs": [],
   "source": [
    "opt=torch.optim.Adam"
   ]
  },
  {
   "cell_type": "code",
   "execution_count": null,
   "id": "c5649c44",
   "metadata": {
    "papermill": {
     "duration": 0.062195,
     "end_time": "2022-01-30T07:04:38.532021",
     "exception": false,
     "start_time": "2022-01-30T07:04:38.469826",
     "status": "completed"
    },
    "tags": []
   },
   "outputs": [],
   "source": []
  },
  {
   "cell_type": "code",
   "execution_count": null,
   "id": "4841e278",
   "metadata": {
    "papermill": {
     "duration": 0.062078,
     "end_time": "2022-01-30T07:04:38.656260",
     "exception": false,
     "start_time": "2022-01-30T07:04:38.594182",
     "status": "completed"
    },
    "tags": []
   },
   "outputs": [],
   "source": []
  },
  {
   "cell_type": "code",
   "execution_count": 57,
   "id": "e3499a95",
   "metadata": {
    "execution": {
     "iopub.execute_input": "2022-01-30T07:04:38.787000Z",
     "iopub.status.busy": "2022-01-30T07:04:38.786157Z",
     "iopub.status.idle": "2022-01-30T07:04:38.787892Z",
     "shell.execute_reply": "2022-01-30T07:04:38.788395Z",
     "shell.execute_reply.started": "2022-01-29T19:38:04.082607Z"
    },
    "papermill": {
     "duration": 0.069779,
     "end_time": "2022-01-30T07:04:38.788533",
     "exception": false,
     "start_time": "2022-01-30T07:04:38.718754",
     "status": "completed"
    },
    "tags": []
   },
   "outputs": [],
   "source": [
    "pytorch_total_params = sum(p.numel() for p in model.parameters())"
   ]
  },
  {
   "cell_type": "code",
   "execution_count": 58,
   "id": "6303ea8c",
   "metadata": {
    "execution": {
     "iopub.execute_input": "2022-01-30T07:04:38.918723Z",
     "iopub.status.busy": "2022-01-30T07:04:38.918116Z",
     "iopub.status.idle": "2022-01-30T07:04:38.920763Z",
     "shell.execute_reply": "2022-01-30T07:04:38.921164Z",
     "shell.execute_reply.started": "2022-01-29T19:38:05.353381Z"
    },
    "papermill": {
     "duration": 0.070235,
     "end_time": "2022-01-30T07:04:38.921301",
     "exception": false,
     "start_time": "2022-01-30T07:04:38.851066",
     "status": "completed"
    },
    "tags": []
   },
   "outputs": [
    {
     "data": {
      "text/plain": [
       "23353611"
      ]
     },
     "execution_count": 58,
     "metadata": {},
     "output_type": "execute_result"
    }
   ],
   "source": [
    "pytorch_total_params"
   ]
  },
  {
   "cell_type": "code",
   "execution_count": 59,
   "id": "200e5ed8",
   "metadata": {
    "execution": {
     "iopub.execute_input": "2022-01-30T07:04:39.053168Z",
     "iopub.status.busy": "2022-01-30T07:04:39.052329Z",
     "iopub.status.idle": "2022-01-30T07:04:39.102878Z",
     "shell.execute_reply": "2022-01-30T07:04:39.103283Z",
     "shell.execute_reply.started": "2022-01-29T19:38:06.420047Z"
    },
    "papermill": {
     "duration": 0.118469,
     "end_time": "2022-01-30T07:04:39.103467",
     "exception": false,
     "start_time": "2022-01-30T07:04:38.984998",
     "status": "completed"
    },
    "tags": []
   },
   "outputs": [
    {
     "name": "stdout",
     "output_type": "stream",
     "text": [
      "Model's state_dict:\n",
      "conv1.0.weight \t torch.Size([64, 3, 3, 3])\n",
      "conv1.0.bias \t torch.Size([64])\n",
      "conv1.1.weight \t torch.Size([64])\n",
      "conv1.1.bias \t torch.Size([64])\n",
      "conv1.1.running_mean \t torch.Size([64])\n",
      "conv1.1.running_var \t torch.Size([64])\n",
      "conv1.1.num_batches_tracked \t torch.Size([])\n",
      "conv2.0.weight \t torch.Size([128, 64, 3, 3])\n",
      "conv2.0.bias \t torch.Size([128])\n",
      "conv2.1.weight \t torch.Size([128])\n",
      "conv2.1.bias \t torch.Size([128])\n",
      "conv2.1.running_mean \t torch.Size([128])\n",
      "conv2.1.running_var \t torch.Size([128])\n",
      "conv2.1.num_batches_tracked \t torch.Size([])\n",
      "res1.0.0.weight \t torch.Size([128, 128, 3, 3])\n",
      "res1.0.0.bias \t torch.Size([128])\n",
      "res1.0.1.weight \t torch.Size([128])\n",
      "res1.0.1.bias \t torch.Size([128])\n",
      "res1.0.1.running_mean \t torch.Size([128])\n",
      "res1.0.1.running_var \t torch.Size([128])\n",
      "res1.0.1.num_batches_tracked \t torch.Size([])\n",
      "res1.1.0.weight \t torch.Size([128, 128, 3, 3])\n",
      "res1.1.0.bias \t torch.Size([128])\n",
      "res1.1.1.weight \t torch.Size([128])\n",
      "res1.1.1.bias \t torch.Size([128])\n",
      "res1.1.1.running_mean \t torch.Size([128])\n",
      "res1.1.1.running_var \t torch.Size([128])\n",
      "res1.1.1.num_batches_tracked \t torch.Size([])\n",
      "conv3.0.weight \t torch.Size([256, 128, 3, 3])\n",
      "conv3.0.bias \t torch.Size([256])\n",
      "conv3.1.weight \t torch.Size([256])\n",
      "conv3.1.bias \t torch.Size([256])\n",
      "conv3.1.running_mean \t torch.Size([256])\n",
      "conv3.1.running_var \t torch.Size([256])\n",
      "conv3.1.num_batches_tracked \t torch.Size([])\n",
      "conv4.0.weight \t torch.Size([512, 256, 3, 3])\n",
      "conv4.0.bias \t torch.Size([512])\n",
      "conv4.1.weight \t torch.Size([512])\n",
      "conv4.1.bias \t torch.Size([512])\n",
      "conv4.1.running_mean \t torch.Size([512])\n",
      "conv4.1.running_var \t torch.Size([512])\n",
      "conv4.1.num_batches_tracked \t torch.Size([])\n",
      "res2.0.0.weight \t torch.Size([512, 512, 3, 3])\n",
      "res2.0.0.bias \t torch.Size([512])\n",
      "res2.0.1.weight \t torch.Size([512])\n",
      "res2.0.1.bias \t torch.Size([512])\n",
      "res2.0.1.running_mean \t torch.Size([512])\n",
      "res2.0.1.running_var \t torch.Size([512])\n",
      "res2.0.1.num_batches_tracked \t torch.Size([])\n",
      "res2.1.0.weight \t torch.Size([512, 512, 3, 3])\n",
      "res2.1.0.bias \t torch.Size([512])\n",
      "res2.1.1.weight \t torch.Size([512])\n",
      "res2.1.1.bias \t torch.Size([512])\n",
      "res2.1.1.running_mean \t torch.Size([512])\n",
      "res2.1.1.running_var \t torch.Size([512])\n",
      "res2.1.1.num_batches_tracked \t torch.Size([])\n",
      "linear1.weight \t torch.Size([512, 32768])\n",
      "linear1.bias \t torch.Size([512])\n",
      "linear2.weight \t torch.Size([11, 512])\n",
      "linear2.bias \t torch.Size([11])\n"
     ]
    }
   ],
   "source": [
    "print(\"Model's state_dict:\")\n",
    "for param_tensor in model.state_dict():\n",
    "    print(param_tensor, \"\\t\", model.state_dict()[param_tensor].size())\n",
    "\n"
   ]
  },
  {
   "cell_type": "code",
   "execution_count": null,
   "id": "452db706",
   "metadata": {
    "papermill": {
     "duration": 0.063973,
     "end_time": "2022-01-30T07:04:39.230599",
     "exception": false,
     "start_time": "2022-01-30T07:04:39.166626",
     "status": "completed"
    },
    "tags": []
   },
   "outputs": [],
   "source": []
  },
  {
   "cell_type": "code",
   "execution_count": null,
   "id": "954a5945",
   "metadata": {
    "papermill": {
     "duration": 0.06375,
     "end_time": "2022-01-30T07:04:39.357317",
     "exception": false,
     "start_time": "2022-01-30T07:04:39.293567",
     "status": "completed"
    },
    "tags": []
   },
   "outputs": [],
   "source": []
  },
  {
   "cell_type": "code",
   "execution_count": 60,
   "id": "2d4e498c",
   "metadata": {
    "execution": {
     "iopub.execute_input": "2022-01-30T07:04:39.489967Z",
     "iopub.status.busy": "2022-01-30T07:04:39.489174Z",
     "iopub.status.idle": "2022-01-30T07:04:39.493307Z",
     "shell.execute_reply": "2022-01-30T07:04:39.493787Z",
     "shell.execute_reply.started": "2022-01-29T19:39:07.282998Z"
    },
    "papermill": {
     "duration": 0.072658,
     "end_time": "2022-01-30T07:04:39.493924",
     "exception": false,
     "start_time": "2022-01-30T07:04:39.421266",
     "status": "completed"
    },
    "tags": []
   },
   "outputs": [],
   "source": [
    "test_df=pd.DataFrame()\n",
    "test_df.to_csv('file_res1.csv')"
   ]
  },
  {
   "cell_type": "code",
   "execution_count": 61,
   "id": "9a524eb7",
   "metadata": {
    "execution": {
     "iopub.execute_input": "2022-01-30T07:04:39.625239Z",
     "iopub.status.busy": "2022-01-30T07:04:39.624400Z",
     "iopub.status.idle": "2022-01-30T07:04:39.626119Z",
     "shell.execute_reply": "2022-01-30T07:04:39.626640Z",
     "shell.execute_reply.started": "2022-01-29T19:39:11.173655Z"
    },
    "papermill": {
     "duration": 0.069771,
     "end_time": "2022-01-30T07:04:39.626779",
     "exception": false,
     "start_time": "2022-01-30T07:04:39.557008",
     "status": "completed"
    },
    "tags": []
   },
   "outputs": [],
   "source": [
    "import glob"
   ]
  },
  {
   "cell_type": "code",
   "execution_count": 62,
   "id": "62d3a1bf",
   "metadata": {
    "execution": {
     "iopub.execute_input": "2022-01-30T07:04:39.758727Z",
     "iopub.status.busy": "2022-01-30T07:04:39.758152Z",
     "iopub.status.idle": "2022-01-30T07:04:40.950710Z",
     "shell.execute_reply": "2022-01-30T07:04:40.950180Z",
     "shell.execute_reply.started": "2022-01-29T19:39:17.232845Z"
    },
    "papermill": {
     "duration": 1.260663,
     "end_time": "2022-01-30T07:04:40.950840",
     "exception": false,
     "start_time": "2022-01-30T07:04:39.690177",
     "status": "completed"
    },
    "tags": []
   },
   "outputs": [],
   "source": [
    "file_path=[]\n",
    "for name in glob.glob('../input/stylumia-complete/test/*'):\n",
    "    file_name=name.split('/')\n",
    "    file_path.append(file_name[-1])"
   ]
  },
  {
   "cell_type": "code",
   "execution_count": 63,
   "id": "223a90da",
   "metadata": {
    "execution": {
     "iopub.execute_input": "2022-01-30T07:04:41.091143Z",
     "iopub.status.busy": "2022-01-30T07:04:41.090383Z",
     "iopub.status.idle": "2022-01-30T07:04:41.097664Z",
     "shell.execute_reply": "2022-01-30T07:04:41.098064Z",
     "shell.execute_reply.started": "2022-01-29T19:39:18.312337Z"
    },
    "papermill": {
     "duration": 0.081047,
     "end_time": "2022-01-30T07:04:41.098211",
     "exception": false,
     "start_time": "2022-01-30T07:04:41.017164",
     "status": "completed"
    },
    "tags": []
   },
   "outputs": [],
   "source": [
    "test_df['file_path']=pd.Series(file_path)"
   ]
  },
  {
   "cell_type": "code",
   "execution_count": 64,
   "id": "d89241e5",
   "metadata": {
    "execution": {
     "iopub.execute_input": "2022-01-30T07:04:41.233867Z",
     "iopub.status.busy": "2022-01-30T07:04:41.232972Z",
     "iopub.status.idle": "2022-01-30T07:04:41.240665Z",
     "shell.execute_reply": "2022-01-30T07:04:41.241117Z",
     "shell.execute_reply.started": "2022-01-29T19:39:18.90875Z"
    },
    "papermill": {
     "duration": 0.077289,
     "end_time": "2022-01-30T07:04:41.241253",
     "exception": false,
     "start_time": "2022-01-30T07:04:41.163964",
     "status": "completed"
    },
    "tags": []
   },
   "outputs": [
    {
     "data": {
      "text/html": [
       "<div>\n",
       "<style scoped>\n",
       "    .dataframe tbody tr th:only-of-type {\n",
       "        vertical-align: middle;\n",
       "    }\n",
       "\n",
       "    .dataframe tbody tr th {\n",
       "        vertical-align: top;\n",
       "    }\n",
       "\n",
       "    .dataframe thead th {\n",
       "        text-align: right;\n",
       "    }\n",
       "</style>\n",
       "<table border=\"1\" class=\"dataframe\">\n",
       "  <thead>\n",
       "    <tr style=\"text-align: right;\">\n",
       "      <th></th>\n",
       "      <th>file_path</th>\n",
       "    </tr>\n",
       "  </thead>\n",
       "  <tbody>\n",
       "    <tr>\n",
       "      <th>0</th>\n",
       "      <td>Image_test_015339.jpg</td>\n",
       "    </tr>\n",
       "    <tr>\n",
       "      <th>1</th>\n",
       "      <td>Image_test_015427.jpg</td>\n",
       "    </tr>\n",
       "    <tr>\n",
       "      <th>2</th>\n",
       "      <td>Image_test_006765.jpg</td>\n",
       "    </tr>\n",
       "    <tr>\n",
       "      <th>3</th>\n",
       "      <td>Image_test_009681.jpg</td>\n",
       "    </tr>\n",
       "    <tr>\n",
       "      <th>4</th>\n",
       "      <td>Image_test_002734.jpg</td>\n",
       "    </tr>\n",
       "    <tr>\n",
       "      <th>...</th>\n",
       "      <td>...</td>\n",
       "    </tr>\n",
       "    <tr>\n",
       "      <th>18218</th>\n",
       "      <td>Image_test_017934.jpg</td>\n",
       "    </tr>\n",
       "    <tr>\n",
       "      <th>18219</th>\n",
       "      <td>Image_test_008324.jpg</td>\n",
       "    </tr>\n",
       "    <tr>\n",
       "      <th>18220</th>\n",
       "      <td>Image_test_010326.jpg</td>\n",
       "    </tr>\n",
       "    <tr>\n",
       "      <th>18221</th>\n",
       "      <td>Image_test_001255.jpg</td>\n",
       "    </tr>\n",
       "    <tr>\n",
       "      <th>18222</th>\n",
       "      <td>Image_test_006906.jpg</td>\n",
       "    </tr>\n",
       "  </tbody>\n",
       "</table>\n",
       "<p>18223 rows × 1 columns</p>\n",
       "</div>"
      ],
      "text/plain": [
       "                   file_path\n",
       "0      Image_test_015339.jpg\n",
       "1      Image_test_015427.jpg\n",
       "2      Image_test_006765.jpg\n",
       "3      Image_test_009681.jpg\n",
       "4      Image_test_002734.jpg\n",
       "...                      ...\n",
       "18218  Image_test_017934.jpg\n",
       "18219  Image_test_008324.jpg\n",
       "18220  Image_test_010326.jpg\n",
       "18221  Image_test_001255.jpg\n",
       "18222  Image_test_006906.jpg\n",
       "\n",
       "[18223 rows x 1 columns]"
      ]
     },
     "execution_count": 64,
     "metadata": {},
     "output_type": "execute_result"
    }
   ],
   "source": [
    "test_df"
   ]
  },
  {
   "cell_type": "code",
   "execution_count": 65,
   "id": "c6c4214d",
   "metadata": {
    "execution": {
     "iopub.execute_input": "2022-01-30T07:04:41.382235Z",
     "iopub.status.busy": "2022-01-30T07:04:41.381428Z",
     "iopub.status.idle": "2022-01-30T07:04:41.383966Z",
     "shell.execute_reply": "2022-01-30T07:04:41.383536Z",
     "shell.execute_reply.started": "2022-01-29T19:39:21.730013Z"
    },
    "papermill": {
     "duration": 0.075923,
     "end_time": "2022-01-30T07:04:41.384094",
     "exception": false,
     "start_time": "2022-01-30T07:04:41.308171",
     "status": "completed"
    },
    "tags": []
   },
   "outputs": [],
   "source": [
    "class CustomDataset_test(torch.utils.data.Dataset):\n",
    "    def __init__(self, df, images_folder, mode,transform = ToTensor()):\n",
    "        self.df = df\n",
    "        self.mode=mode\n",
    "        self.images_folder = os.path.join(images_folder+'/'+mode)\n",
    "        self.transform = transform\n",
    "        self.transform2=Resize((256,256))\n",
    "\n",
    "    def __len__(self):\n",
    "        return len(self.df)\n",
    "    def __getitem__(self, index):\n",
    "        filename = self.df.loc[index, \"file_path\"]\n",
    "        image = PIL.Image.open(os.path.join(self.images_folder,filename))\n",
    "        if self.transform is not None:\n",
    "            image=self.transform2(image)\n",
    "            image = self.transform(image)\n",
    "        return image"
   ]
  },
  {
   "cell_type": "code",
   "execution_count": 66,
   "id": "3f460401",
   "metadata": {
    "execution": {
     "iopub.execute_input": "2022-01-30T07:04:41.518128Z",
     "iopub.status.busy": "2022-01-30T07:04:41.517232Z",
     "iopub.status.idle": "2022-01-30T07:04:41.519110Z",
     "shell.execute_reply": "2022-01-30T07:04:41.519609Z",
     "shell.execute_reply.started": "2022-01-29T19:39:25.060095Z"
    },
    "papermill": {
     "duration": 0.071985,
     "end_time": "2022-01-30T07:04:41.519760",
     "exception": false,
     "start_time": "2022-01-30T07:04:41.447775",
     "status": "completed"
    },
    "tags": []
   },
   "outputs": [],
   "source": [
    "dataset_test=CustomDataset_test(test_df,data_folder,\"test\")"
   ]
  },
  {
   "cell_type": "code",
   "execution_count": 67,
   "id": "f84c1fe4",
   "metadata": {
    "execution": {
     "iopub.execute_input": "2022-01-30T07:04:41.655957Z",
     "iopub.status.busy": "2022-01-30T07:04:41.655361Z",
     "iopub.status.idle": "2022-01-30T07:04:41.658021Z",
     "shell.execute_reply": "2022-01-30T07:04:41.658432Z",
     "shell.execute_reply.started": "2022-01-29T19:39:27.344069Z"
    },
    "papermill": {
     "duration": 0.072563,
     "end_time": "2022-01-30T07:04:41.658572",
     "exception": false,
     "start_time": "2022-01-30T07:04:41.586009",
     "status": "completed"
    },
    "tags": []
   },
   "outputs": [
    {
     "data": {
      "text/plain": [
       "18223"
      ]
     },
     "execution_count": 67,
     "metadata": {},
     "output_type": "execute_result"
    }
   ],
   "source": [
    "len(dataset_test)"
   ]
  },
  {
   "cell_type": "code",
   "execution_count": 68,
   "id": "75db4cb3",
   "metadata": {
    "execution": {
     "iopub.execute_input": "2022-01-30T07:04:41.793609Z",
     "iopub.status.busy": "2022-01-30T07:04:41.792828Z",
     "iopub.status.idle": "2022-01-30T07:04:41.795285Z",
     "shell.execute_reply": "2022-01-30T07:04:41.794890Z",
     "shell.execute_reply.started": "2022-01-29T19:39:28.159097Z"
    },
    "papermill": {
     "duration": 0.071477,
     "end_time": "2022-01-30T07:04:41.795419",
     "exception": false,
     "start_time": "2022-01-30T07:04:41.723942",
     "status": "completed"
    },
    "tags": []
   },
   "outputs": [],
   "source": [
    "test_dl = DataLoader(dataset=dataset_test, shuffle=True, batch_size=32)\n"
   ]
  },
  {
   "cell_type": "code",
   "execution_count": 69,
   "id": "510f1880",
   "metadata": {
    "execution": {
     "iopub.execute_input": "2022-01-30T07:04:41.929310Z",
     "iopub.status.busy": "2022-01-30T07:04:41.928508Z",
     "iopub.status.idle": "2022-01-30T07:04:43.812876Z",
     "shell.execute_reply": "2022-01-30T07:04:43.814139Z",
     "shell.execute_reply.started": "2022-01-29T19:39:30.307826Z"
    },
    "papermill": {
     "duration": 1.95452,
     "end_time": "2022-01-30T07:04:43.814330",
     "exception": false,
     "start_time": "2022-01-30T07:04:41.859810",
     "status": "completed"
    },
    "tags": []
   },
   "outputs": [
    {
     "name": "stdout",
     "output_type": "stream",
     "text": [
      "tensor([[[[0.9451, 0.9451, 0.9451,  ..., 0.9451, 0.9451, 0.9451],\n",
      "          [0.9451, 0.9451, 0.9451,  ..., 0.9451, 0.9451, 0.9451],\n",
      "          [0.9451, 0.9451, 0.9451,  ..., 0.9451, 0.9451, 0.9451],\n",
      "          ...,\n",
      "          [0.9451, 0.9451, 0.9451,  ..., 0.9451, 0.9451, 0.9451],\n",
      "          [0.9451, 0.9451, 0.9451,  ..., 0.9451, 0.9451, 0.9451],\n",
      "          [0.9451, 0.9451, 0.9451,  ..., 0.9451, 0.9451, 0.9451]],\n",
      "\n",
      "         [[0.9451, 0.9451, 0.9451,  ..., 0.9451, 0.9451, 0.9451],\n",
      "          [0.9451, 0.9451, 0.9451,  ..., 0.9451, 0.9451, 0.9451],\n",
      "          [0.9451, 0.9451, 0.9451,  ..., 0.9451, 0.9451, 0.9451],\n",
      "          ...,\n",
      "          [0.9451, 0.9451, 0.9451,  ..., 0.9451, 0.9451, 0.9451],\n",
      "          [0.9451, 0.9451, 0.9451,  ..., 0.9451, 0.9451, 0.9451],\n",
      "          [0.9451, 0.9451, 0.9451,  ..., 0.9451, 0.9451, 0.9451]],\n",
      "\n",
      "         [[0.9451, 0.9451, 0.9451,  ..., 0.9451, 0.9451, 0.9451],\n",
      "          [0.9451, 0.9451, 0.9451,  ..., 0.9451, 0.9451, 0.9451],\n",
      "          [0.9451, 0.9451, 0.9451,  ..., 0.9451, 0.9451, 0.9451],\n",
      "          ...,\n",
      "          [0.9451, 0.9451, 0.9451,  ..., 0.9451, 0.9451, 0.9451],\n",
      "          [0.9451, 0.9451, 0.9451,  ..., 0.9451, 0.9451, 0.9451],\n",
      "          [0.9451, 0.9451, 0.9451,  ..., 0.9451, 0.9451, 0.9451]]],\n",
      "\n",
      "\n",
      "        [[[0.7686, 0.7686, 0.7686,  ..., 0.7647, 0.7647, 0.7608],\n",
      "          [0.7725, 0.7725, 0.7686,  ..., 0.7647, 0.7608, 0.7569],\n",
      "          [0.7725, 0.7725, 0.7725,  ..., 0.7647, 0.7569, 0.7569],\n",
      "          ...,\n",
      "          [0.7176, 0.7176, 0.7216,  ..., 0.6980, 0.6980, 0.6980],\n",
      "          [0.7176, 0.7176, 0.7176,  ..., 0.7020, 0.7020, 0.6980],\n",
      "          [0.7176, 0.7176, 0.7176,  ..., 0.7020, 0.6980, 0.7020]],\n",
      "\n",
      "         [[0.7529, 0.7529, 0.7529,  ..., 0.7490, 0.7490, 0.7451],\n",
      "          [0.7569, 0.7569, 0.7529,  ..., 0.7490, 0.7451, 0.7412],\n",
      "          [0.7569, 0.7569, 0.7569,  ..., 0.7490, 0.7412, 0.7412],\n",
      "          ...,\n",
      "          [0.6863, 0.6863, 0.6902,  ..., 0.6745, 0.6745, 0.6706],\n",
      "          [0.6902, 0.6902, 0.6902,  ..., 0.6745, 0.6745, 0.6706],\n",
      "          [0.6941, 0.6941, 0.6941,  ..., 0.6745, 0.6706, 0.6745]],\n",
      "\n",
      "         [[0.7098, 0.7098, 0.7098,  ..., 0.7137, 0.7137, 0.7098],\n",
      "          [0.7137, 0.7137, 0.7098,  ..., 0.7137, 0.7098, 0.7059],\n",
      "          [0.7137, 0.7137, 0.7137,  ..., 0.7137, 0.7059, 0.7059],\n",
      "          ...,\n",
      "          [0.6431, 0.6431, 0.6471,  ..., 0.6314, 0.6353, 0.6314],\n",
      "          [0.6431, 0.6471, 0.6471,  ..., 0.6353, 0.6353, 0.6314],\n",
      "          [0.6471, 0.6471, 0.6471,  ..., 0.6353, 0.6314, 0.6353]]],\n",
      "\n",
      "\n",
      "        [[[0.9059, 0.9059, 0.9059,  ..., 0.8745, 0.8745, 0.8745],\n",
      "          [0.9059, 0.9059, 0.9059,  ..., 0.8745, 0.8745, 0.8745],\n",
      "          [0.9059, 0.9059, 0.9059,  ..., 0.8745, 0.8745, 0.8745],\n",
      "          ...,\n",
      "          [0.8745, 0.8745, 0.8745,  ..., 0.8588, 0.8588, 0.8588],\n",
      "          [0.8745, 0.8706, 0.8706,  ..., 0.8588, 0.8588, 0.8588],\n",
      "          [0.8745, 0.8706, 0.8706,  ..., 0.8588, 0.8588, 0.8588]],\n",
      "\n",
      "         [[0.9059, 0.9059, 0.9059,  ..., 0.8745, 0.8745, 0.8745],\n",
      "          [0.9059, 0.9059, 0.9059,  ..., 0.8745, 0.8745, 0.8745],\n",
      "          [0.9059, 0.9059, 0.9059,  ..., 0.8745, 0.8745, 0.8745],\n",
      "          ...,\n",
      "          [0.8745, 0.8745, 0.8745,  ..., 0.8588, 0.8588, 0.8588],\n",
      "          [0.8745, 0.8706, 0.8706,  ..., 0.8588, 0.8588, 0.8588],\n",
      "          [0.8745, 0.8706, 0.8706,  ..., 0.8588, 0.8588, 0.8588]],\n",
      "\n",
      "         [[0.9137, 0.9137, 0.9137,  ..., 0.8745, 0.8745, 0.8745],\n",
      "          [0.9137, 0.9137, 0.9137,  ..., 0.8745, 0.8745, 0.8745],\n",
      "          [0.9137, 0.9137, 0.9137,  ..., 0.8745, 0.8745, 0.8745],\n",
      "          ...,\n",
      "          [0.8824, 0.8824, 0.8824,  ..., 0.8588, 0.8588, 0.8588],\n",
      "          [0.8824, 0.8784, 0.8784,  ..., 0.8588, 0.8588, 0.8588],\n",
      "          [0.8824, 0.8784, 0.8784,  ..., 0.8588, 0.8588, 0.8588]]],\n",
      "\n",
      "\n",
      "        ...,\n",
      "\n",
      "\n",
      "        [[[0.9333, 0.9333, 0.9333,  ..., 0.9333, 0.9333, 0.9333],\n",
      "          [0.9333, 0.9333, 0.9333,  ..., 0.9333, 0.9333, 0.9333],\n",
      "          [0.9333, 0.9333, 0.9333,  ..., 0.9333, 0.9333, 0.9333],\n",
      "          ...,\n",
      "          [0.8863, 0.8863, 0.8863,  ..., 0.8863, 0.8863, 0.8863],\n",
      "          [0.8863, 0.8863, 0.8863,  ..., 0.8784, 0.8784, 0.8784],\n",
      "          [0.8863, 0.8863, 0.8863,  ..., 0.8784, 0.8784, 0.8784]],\n",
      "\n",
      "         [[0.9333, 0.9333, 0.9333,  ..., 0.9333, 0.9333, 0.9333],\n",
      "          [0.9333, 0.9333, 0.9333,  ..., 0.9333, 0.9333, 0.9333],\n",
      "          [0.9333, 0.9333, 0.9333,  ..., 0.9333, 0.9333, 0.9333],\n",
      "          ...,\n",
      "          [0.8863, 0.8863, 0.8863,  ..., 0.8863, 0.8863, 0.8863],\n",
      "          [0.8863, 0.8863, 0.8863,  ..., 0.8784, 0.8784, 0.8784],\n",
      "          [0.8863, 0.8863, 0.8863,  ..., 0.8784, 0.8784, 0.8784]],\n",
      "\n",
      "         [[0.9333, 0.9333, 0.9333,  ..., 0.9333, 0.9333, 0.9333],\n",
      "          [0.9333, 0.9333, 0.9333,  ..., 0.9333, 0.9333, 0.9333],\n",
      "          [0.9333, 0.9333, 0.9333,  ..., 0.9333, 0.9333, 0.9333],\n",
      "          ...,\n",
      "          [0.8863, 0.8863, 0.8863,  ..., 0.8863, 0.8863, 0.8863],\n",
      "          [0.8863, 0.8863, 0.8863,  ..., 0.8784, 0.8784, 0.8784],\n",
      "          [0.8863, 0.8863, 0.8863,  ..., 0.8784, 0.8784, 0.8784]]],\n",
      "\n",
      "\n",
      "        [[[0.9451, 0.9451, 0.9490,  ..., 0.9490, 0.9490, 0.9490],\n",
      "          [0.9451, 0.9490, 0.9490,  ..., 0.9490, 0.9490, 0.9451],\n",
      "          [0.9490, 0.9490, 0.9490,  ..., 0.9490, 0.9490, 0.9490],\n",
      "          ...,\n",
      "          [0.8863, 0.8863, 0.8863,  ..., 0.9098, 0.9098, 0.9098],\n",
      "          [0.8863, 0.8863, 0.8824,  ..., 0.9059, 0.9059, 0.9059],\n",
      "          [0.8824, 0.8824, 0.8784,  ..., 0.9059, 0.9020, 0.9020]],\n",
      "\n",
      "         [[0.8784, 0.8784, 0.8824,  ..., 0.8784, 0.8784, 0.8784],\n",
      "          [0.8784, 0.8824, 0.8824,  ..., 0.8784, 0.8784, 0.8745],\n",
      "          [0.8824, 0.8824, 0.8824,  ..., 0.8784, 0.8784, 0.8784],\n",
      "          ...,\n",
      "          [0.7569, 0.7569, 0.7569,  ..., 0.8078, 0.8078, 0.8078],\n",
      "          [0.7569, 0.7569, 0.7569,  ..., 0.8039, 0.8039, 0.8039],\n",
      "          [0.7529, 0.7529, 0.7529,  ..., 0.8039, 0.8000, 0.8000]],\n",
      "\n",
      "         [[0.8000, 0.8000, 0.8039,  ..., 0.7922, 0.7922, 0.7922],\n",
      "          [0.8000, 0.8039, 0.8039,  ..., 0.7922, 0.7922, 0.7882],\n",
      "          [0.8039, 0.8039, 0.8039,  ..., 0.7922, 0.7922, 0.7922],\n",
      "          ...,\n",
      "          [0.6353, 0.6353, 0.6353,  ..., 0.7098, 0.7098, 0.7098],\n",
      "          [0.6353, 0.6353, 0.6353,  ..., 0.7059, 0.7059, 0.7059],\n",
      "          [0.6314, 0.6314, 0.6314,  ..., 0.7059, 0.7020, 0.7020]]],\n",
      "\n",
      "\n",
      "        [[[0.9412, 0.9412, 0.9412,  ..., 0.8980, 0.8980, 0.8980],\n",
      "          [0.9373, 0.9373, 0.9373,  ..., 0.8980, 0.8980, 0.8980],\n",
      "          [0.9373, 0.9373, 0.9373,  ..., 0.8980, 0.8980, 0.8980],\n",
      "          ...,\n",
      "          [0.8039, 0.8039, 0.8078,  ..., 0.8824, 0.8863, 0.8863],\n",
      "          [0.8078, 0.8078, 0.8078,  ..., 0.8824, 0.8824, 0.8863],\n",
      "          [0.8078, 0.8078, 0.8078,  ..., 0.8824, 0.8824, 0.8824]],\n",
      "\n",
      "         [[0.9412, 0.9412, 0.9412,  ..., 0.8980, 0.8980, 0.8980],\n",
      "          [0.9373, 0.9373, 0.9333,  ..., 0.8980, 0.8980, 0.8980],\n",
      "          [0.9333, 0.9373, 0.9333,  ..., 0.8980, 0.8980, 0.8980],\n",
      "          ...,\n",
      "          [0.8039, 0.8039, 0.8000,  ..., 0.8824, 0.8863, 0.8863],\n",
      "          [0.8000, 0.8000, 0.8000,  ..., 0.8824, 0.8824, 0.8863],\n",
      "          [0.8000, 0.8000, 0.8000,  ..., 0.8824, 0.8824, 0.8824]],\n",
      "\n",
      "         [[0.9490, 0.9490, 0.9490,  ..., 0.8980, 0.8980, 0.8980],\n",
      "          [0.9451, 0.9490, 0.9490,  ..., 0.8980, 0.8980, 0.8980],\n",
      "          [0.9451, 0.9490, 0.9529,  ..., 0.8980, 0.8980, 0.8980],\n",
      "          ...,\n",
      "          [0.8039, 0.8039, 0.8039,  ..., 0.8824, 0.8863, 0.8863],\n",
      "          [0.8039, 0.8039, 0.8039,  ..., 0.8824, 0.8824, 0.8863],\n",
      "          [0.8039, 0.8039, 0.8039,  ..., 0.8824, 0.8824, 0.8824]]]])\n"
     ]
    }
   ],
   "source": [
    "for image in test_dl:\n",
    "    print(image)\n",
    "    break"
   ]
  },
  {
   "cell_type": "code",
   "execution_count": 70,
   "id": "d13f5759",
   "metadata": {
    "execution": {
     "iopub.execute_input": "2022-01-30T07:04:43.950147Z",
     "iopub.status.busy": "2022-01-30T07:04:43.949383Z",
     "iopub.status.idle": "2022-01-30T07:04:43.951925Z",
     "shell.execute_reply": "2022-01-30T07:04:43.951497Z",
     "shell.execute_reply.started": "2022-01-29T19:39:41.625556Z"
    },
    "papermill": {
     "duration": 0.071435,
     "end_time": "2022-01-30T07:04:43.952035",
     "exception": false,
     "start_time": "2022-01-30T07:04:43.880600",
     "status": "completed"
    },
    "tags": []
   },
   "outputs": [],
   "source": [
    "test_dl = DeviceDataLoader(test_dl, device)"
   ]
  },
  {
   "cell_type": "code",
   "execution_count": 71,
   "id": "6edf16c7",
   "metadata": {
    "execution": {
     "iopub.execute_input": "2022-01-30T07:04:44.088018Z",
     "iopub.status.busy": "2022-01-30T07:04:44.087219Z",
     "iopub.status.idle": "2022-01-30T11:47:55.483785Z",
     "shell.execute_reply": "2022-01-30T11:47:55.483113Z"
    },
    "papermill": {
     "duration": 16991.467271,
     "end_time": "2022-01-30T11:47:55.483954",
     "exception": false,
     "start_time": "2022-01-30T07:04:44.016683",
     "status": "completed"
    },
    "tags": []
   },
   "outputs": [
    {
     "name": "stdout",
     "output_type": "stream",
     "text": [
      "Epoch [0], train_acc: 0.1889\n",
      "Epoch [0], val_loss: 3.1069, val_acc: 0.2658\n",
      "Epoch [1], train_acc: 0.3002\n",
      "Epoch [1], val_loss: 1.9719, val_acc: 0.3244\n",
      "Epoch [2], train_acc: 0.3482\n",
      "Epoch [2], val_loss: 1.9704, val_acc: 0.3255\n",
      "Epoch [3], train_acc: 0.3939\n",
      "Epoch [3], val_loss: 1.7938, val_acc: 0.3924\n",
      "Epoch [4], train_acc: 0.4324\n",
      "Epoch [4], val_loss: 1.6632, val_acc: 0.4281\n",
      "Epoch [5], train_acc: 0.4645\n",
      "Epoch [5], val_loss: 2.0187, val_acc: 0.3000\n",
      "Epoch [6], train_acc: 0.4946\n",
      "Epoch [6], val_loss: 1.4888, val_acc: 0.4928\n",
      "Epoch [7], train_acc: 0.5321\n",
      "Epoch [7], val_loss: 1.4391, val_acc: 0.5125\n",
      "Epoch [8], train_acc: 0.5612\n",
      "Epoch [8], val_loss: 1.4303, val_acc: 0.5128\n",
      "Epoch [9], train_acc: 0.6010\n",
      "Epoch [9], val_loss: 1.3512, val_acc: 0.5346\n",
      "Epoch [0], train_acc: 0.6822\n",
      "Epoch [0], val_loss: 1.2837, val_acc: 0.5752\n",
      "Epoch [1], train_acc: 0.7175\n",
      "Epoch [1], val_loss: 1.3451, val_acc: 0.5621\n",
      "Epoch [2], train_acc: 0.7529\n",
      "Epoch [2], val_loss: 1.3908, val_acc: 0.5573\n",
      "Epoch [0], train_acc: 0.8173\n",
      "Epoch [0], val_loss: 1.4295, val_acc: 0.5840\n",
      "Epoch [1], train_acc: 0.8458\n",
      "Epoch [1], val_loss: 1.4756, val_acc: 0.5861\n",
      "Epoch [2], train_acc: 0.8629\n",
      "Epoch [2], val_loss: 1.5092, val_acc: 0.5882\n"
     ]
    },
    {
     "data": {
      "text/plain": [
       "[{'val_loss': 1.4294716119766235, 'val_acc': 0.583965539932251},\n",
       " {'val_loss': 1.4755653142929077, 'val_acc': 0.5860673785209656},\n",
       " {'val_loss': 1.509245753288269, 'val_acc': 0.588217556476593}]"
      ]
     },
     "execution_count": 71,
     "metadata": {},
     "output_type": "execute_result"
    }
   ],
   "source": [
    "fit(model,train_dl,val_dl,opt,0.0005,10)\n",
    "fit(model,train_dl,val_dl,opt,0.0002,3)\n",
    "fit(model,train_dl,val_dl,opt,0.0001,3)\n"
   ]
  },
  {
   "cell_type": "code",
   "execution_count": 72,
   "id": "0e54a80a",
   "metadata": {
    "execution": {
     "iopub.execute_input": "2022-01-30T11:47:55.637380Z",
     "iopub.status.busy": "2022-01-30T11:47:55.636805Z",
     "iopub.status.idle": "2022-01-30T11:47:56.097681Z",
     "shell.execute_reply": "2022-01-30T11:47:56.097130Z"
    },
    "papermill": {
     "duration": 0.538628,
     "end_time": "2022-01-30T11:47:56.097814",
     "exception": false,
     "start_time": "2022-01-30T11:47:55.559186",
     "status": "completed"
    },
    "tags": []
   },
   "outputs": [],
   "source": [
    "torch.save(model.state_dict(), 'res_cust1.pth')\n",
    "torch.save(model, 'res_cust_whole.pkl')"
   ]
  },
  {
   "cell_type": "code",
   "execution_count": 73,
   "id": "78855b8b",
   "metadata": {
    "execution": {
     "iopub.execute_input": "2022-01-30T11:47:56.253167Z",
     "iopub.status.busy": "2022-01-30T11:47:56.252284Z",
     "iopub.status.idle": "2022-01-30T11:47:56.254314Z",
     "shell.execute_reply": "2022-01-30T11:47:56.254829Z",
     "shell.execute_reply.started": "2022-01-29T19:12:24.488289Z"
    },
    "papermill": {
     "duration": 0.081324,
     "end_time": "2022-01-30T11:47:56.254965",
     "exception": false,
     "start_time": "2022-01-30T11:47:56.173641",
     "status": "completed"
    },
    "tags": []
   },
   "outputs": [],
   "source": [
    "def predict(test_dl,model):\n",
    "    ans=[]\n",
    "    with torch.no_grad():\n",
    "        for batch in test_dl:\n",
    "            images=batch\n",
    "            out=model(images)\n",
    "        #print(out)\n",
    "        #print(type(out))\n",
    "            _, preds = torch.max(out, dim=1)\n",
    "            preds=preds.cpu().detach().numpy()\n",
    "            preds=preds.tolist()\n",
    "            ans.extend(preds)\n",
    "            \n",
    "    label=pd.Series(ans)\n",
    "    return ans  "
   ]
  },
  {
   "cell_type": "code",
   "execution_count": 74,
   "id": "b7c42dab",
   "metadata": {
    "execution": {
     "iopub.execute_input": "2022-01-30T11:47:56.406293Z",
     "iopub.status.busy": "2022-01-30T11:47:56.405754Z",
     "iopub.status.idle": "2022-01-30T12:06:19.169634Z",
     "shell.execute_reply": "2022-01-30T12:06:19.168774Z",
     "shell.execute_reply.started": "2022-01-29T19:13:23.448855Z"
    },
    "papermill": {
     "duration": 1102.841312,
     "end_time": "2022-01-30T12:06:19.169803",
     "exception": false,
     "start_time": "2022-01-30T11:47:56.328491",
     "status": "completed"
    },
    "tags": []
   },
   "outputs": [],
   "source": [
    "test_df['label']=predict(test_dl,model)"
   ]
  },
  {
   "cell_type": "code",
   "execution_count": 75,
   "id": "443bf142",
   "metadata": {
    "execution": {
     "iopub.execute_input": "2022-01-30T12:06:19.329293Z",
     "iopub.status.busy": "2022-01-30T12:06:19.328739Z",
     "iopub.status.idle": "2022-01-30T12:06:19.332058Z",
     "shell.execute_reply": "2022-01-30T12:06:19.332506Z",
     "shell.execute_reply.started": "2022-01-29T19:35:02.281209Z"
    },
    "papermill": {
     "duration": 0.088226,
     "end_time": "2022-01-30T12:06:19.332654",
     "exception": false,
     "start_time": "2022-01-30T12:06:19.244428",
     "status": "completed"
    },
    "tags": []
   },
   "outputs": [
    {
     "data": {
      "text/html": [
       "<div>\n",
       "<style scoped>\n",
       "    .dataframe tbody tr th:only-of-type {\n",
       "        vertical-align: middle;\n",
       "    }\n",
       "\n",
       "    .dataframe tbody tr th {\n",
       "        vertical-align: top;\n",
       "    }\n",
       "\n",
       "    .dataframe thead th {\n",
       "        text-align: right;\n",
       "    }\n",
       "</style>\n",
       "<table border=\"1\" class=\"dataframe\">\n",
       "  <thead>\n",
       "    <tr style=\"text-align: right;\">\n",
       "      <th></th>\n",
       "      <th>file_path</th>\n",
       "      <th>label</th>\n",
       "    </tr>\n",
       "  </thead>\n",
       "  <tbody>\n",
       "    <tr>\n",
       "      <th>0</th>\n",
       "      <td>Image_test_015339.jpg</td>\n",
       "      <td>8</td>\n",
       "    </tr>\n",
       "    <tr>\n",
       "      <th>1</th>\n",
       "      <td>Image_test_015427.jpg</td>\n",
       "      <td>3</td>\n",
       "    </tr>\n",
       "    <tr>\n",
       "      <th>2</th>\n",
       "      <td>Image_test_006765.jpg</td>\n",
       "      <td>6</td>\n",
       "    </tr>\n",
       "    <tr>\n",
       "      <th>3</th>\n",
       "      <td>Image_test_009681.jpg</td>\n",
       "      <td>6</td>\n",
       "    </tr>\n",
       "    <tr>\n",
       "      <th>4</th>\n",
       "      <td>Image_test_002734.jpg</td>\n",
       "      <td>1</td>\n",
       "    </tr>\n",
       "    <tr>\n",
       "      <th>...</th>\n",
       "      <td>...</td>\n",
       "      <td>...</td>\n",
       "    </tr>\n",
       "    <tr>\n",
       "      <th>18218</th>\n",
       "      <td>Image_test_017934.jpg</td>\n",
       "      <td>8</td>\n",
       "    </tr>\n",
       "    <tr>\n",
       "      <th>18219</th>\n",
       "      <td>Image_test_008324.jpg</td>\n",
       "      <td>6</td>\n",
       "    </tr>\n",
       "    <tr>\n",
       "      <th>18220</th>\n",
       "      <td>Image_test_010326.jpg</td>\n",
       "      <td>6</td>\n",
       "    </tr>\n",
       "    <tr>\n",
       "      <th>18221</th>\n",
       "      <td>Image_test_001255.jpg</td>\n",
       "      <td>4</td>\n",
       "    </tr>\n",
       "    <tr>\n",
       "      <th>18222</th>\n",
       "      <td>Image_test_006906.jpg</td>\n",
       "      <td>9</td>\n",
       "    </tr>\n",
       "  </tbody>\n",
       "</table>\n",
       "<p>18223 rows × 2 columns</p>\n",
       "</div>"
      ],
      "text/plain": [
       "                   file_path  label\n",
       "0      Image_test_015339.jpg      8\n",
       "1      Image_test_015427.jpg      3\n",
       "2      Image_test_006765.jpg      6\n",
       "3      Image_test_009681.jpg      6\n",
       "4      Image_test_002734.jpg      1\n",
       "...                      ...    ...\n",
       "18218  Image_test_017934.jpg      8\n",
       "18219  Image_test_008324.jpg      6\n",
       "18220  Image_test_010326.jpg      6\n",
       "18221  Image_test_001255.jpg      4\n",
       "18222  Image_test_006906.jpg      9\n",
       "\n",
       "[18223 rows x 2 columns]"
      ]
     },
     "execution_count": 75,
     "metadata": {},
     "output_type": "execute_result"
    }
   ],
   "source": [
    "test_df"
   ]
  },
  {
   "cell_type": "code",
   "execution_count": 76,
   "id": "d57ec735",
   "metadata": {
    "execution": {
     "iopub.execute_input": "2022-01-30T12:06:19.488227Z",
     "iopub.status.busy": "2022-01-30T12:06:19.487320Z",
     "iopub.status.idle": "2022-01-30T12:06:19.536982Z",
     "shell.execute_reply": "2022-01-30T12:06:19.536501Z",
     "shell.execute_reply.started": "2022-01-29T19:35:03.452018Z"
    },
    "papermill": {
     "duration": 0.130526,
     "end_time": "2022-01-30T12:06:19.537113",
     "exception": false,
     "start_time": "2022-01-30T12:06:19.406587",
     "status": "completed"
    },
    "tags": []
   },
   "outputs": [],
   "source": [
    "test_df.to_csv('file_res_2.csv')"
   ]
  },
  {
   "cell_type": "code",
   "execution_count": null,
   "id": "912b53a4",
   "metadata": {
    "papermill": {
     "duration": 0.127249,
     "end_time": "2022-01-30T12:06:19.774563",
     "exception": false,
     "start_time": "2022-01-30T12:06:19.647314",
     "status": "completed"
    },
    "tags": []
   },
   "outputs": [],
   "source": []
  }
 ],
 "metadata": {
  "kernelspec": {
   "display_name": "Python 3",
   "language": "python",
   "name": "python3"
  },
  "language_info": {
   "codemirror_mode": {
    "name": "ipython",
    "version": 3
   },
   "file_extension": ".py",
   "mimetype": "text/x-python",
   "name": "python",
   "nbconvert_exporter": "python",
   "pygments_lexer": "ipython3",
   "version": "3.7.12"
  },
  "papermill": {
   "default_parameters": {},
   "duration": 18128.822645,
   "end_time": "2022-01-30T12:06:21.540728",
   "environment_variables": {},
   "exception": null,
   "input_path": "__notebook__.ipynb",
   "output_path": "__notebook__.ipynb",
   "parameters": {},
   "start_time": "2022-01-30T07:04:12.718083",
   "version": "2.3.3"
  }
 },
 "nbformat": 4,
 "nbformat_minor": 5
}
