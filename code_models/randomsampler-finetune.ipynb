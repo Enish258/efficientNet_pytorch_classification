{
 "cells": [
  {
   "cell_type": "code",
   "execution_count": 1,
   "id": "8a41ad19",
   "metadata": {
    "execution": {
     "iopub.execute_input": "2022-02-07T16:10:39.385831Z",
     "iopub.status.busy": "2022-02-07T16:10:39.384350Z",
     "iopub.status.idle": "2022-02-07T16:10:41.004715Z",
     "shell.execute_reply": "2022-02-07T16:10:41.004116Z",
     "shell.execute_reply.started": "2022-02-07T12:45:58.758540Z"
    },
    "papermill": {
     "duration": 1.690045,
     "end_time": "2022-02-07T16:10:41.004877",
     "exception": false,
     "start_time": "2022-02-07T16:10:39.314832",
     "status": "completed"
    },
    "tags": []
   },
   "outputs": [],
   "source": [
    "import pandas as pd\n",
    "import numpy as np\n",
    "import torch\n",
    "import os\n",
    "import torchvision\n",
    "from torchvision.transforms import ToTensor, ToPILImage, Normalize, Compose,Resize\n",
    "import torchvision.transforms as tt\n",
    "from torch.utils.data import DataLoader\n",
    "from torch.utils.data import Dataset\n",
    "from torchvision import transforms \n",
    "\n",
    "from torch.utils.data.sampler import SubsetRandomSampler,WeightedRandomSampler\n",
    "import torch.nn as nn\n",
    "import torch.nn.functional as F\n",
    "\n",
    "from torch.utils.data import random_split\n",
    "from torchvision.datasets.utils import download_url\n",
    "import matplotlib.pyplot as plt\n",
    "import glob"
   ]
  },
  {
   "cell_type": "code",
   "execution_count": 2,
   "id": "3818ece8",
   "metadata": {
    "execution": {
     "iopub.execute_input": "2022-02-07T16:10:41.141994Z",
     "iopub.status.busy": "2022-02-07T16:10:41.141249Z",
     "iopub.status.idle": "2022-02-07T16:10:52.147598Z",
     "shell.execute_reply": "2022-02-07T16:10:52.148038Z",
     "shell.execute_reply.started": "2022-02-07T12:45:26.975502Z"
    },
    "papermill": {
     "duration": 11.078733,
     "end_time": "2022-02-07T16:10:52.148231",
     "exception": false,
     "start_time": "2022-02-07T16:10:41.069498",
     "status": "completed"
    },
    "tags": []
   },
   "outputs": [
    {
     "name": "stdout",
     "output_type": "stream",
     "text": [
      "Collecting efficientnet-pytorch\r\n",
      "  Downloading efficientnet_pytorch-0.7.1.tar.gz (21 kB)\r\n",
      "  Preparing metadata (setup.py) ... \u001b[?25l-\b \bdone\r\n",
      "\u001b[?25hRequirement already satisfied: torch in /opt/conda/lib/python3.7/site-packages (from efficientnet-pytorch) (1.9.1)\r\n",
      "Requirement already satisfied: typing-extensions in /opt/conda/lib/python3.7/site-packages (from torch->efficientnet-pytorch) (3.10.0.2)\r\n",
      "Building wheels for collected packages: efficientnet-pytorch\r\n",
      "  Building wheel for efficientnet-pytorch (setup.py) ... \u001b[?25l-\b \b\\\b \bdone\r\n",
      "\u001b[?25h  Created wheel for efficientnet-pytorch: filename=efficientnet_pytorch-0.7.1-py3-none-any.whl size=16446 sha256=4d39503b476e155c38efdaae16d9de45a5068ca2a3b6372e20a3284933a8b547\r\n",
      "  Stored in directory: /root/.cache/pip/wheels/0e/cc/b2/49e74588263573ff778da58cc99b9c6349b496636a7e165be6\r\n",
      "Successfully built efficientnet-pytorch\r\n",
      "Installing collected packages: efficientnet-pytorch\r\n",
      "Successfully installed efficientnet-pytorch-0.7.1\r\n",
      "\u001b[33mWARNING: Running pip as the 'root' user can result in broken permissions and conflicting behaviour with the system package manager. It is recommended to use a virtual environment instead: https://pip.pypa.io/warnings/venv\u001b[0m\r\n",
      "Note: you may need to restart the kernel to use updated packages.\n"
     ]
    }
   ],
   "source": [
    "pip install --upgrade efficientnet-pytorch"
   ]
  },
  {
   "cell_type": "code",
   "execution_count": 3,
   "id": "52f7c866",
   "metadata": {
    "execution": {
     "iopub.execute_input": "2022-02-07T16:10:52.317769Z",
     "iopub.status.busy": "2022-02-07T16:10:52.314778Z",
     "iopub.status.idle": "2022-02-07T16:10:53.129995Z",
     "shell.execute_reply": "2022-02-07T16:10:53.132105Z",
     "shell.execute_reply.started": "2022-02-07T12:45:37.944617Z"
    },
    "papermill": {
     "duration": 0.901597,
     "end_time": "2022-02-07T16:10:53.132476",
     "exception": false,
     "start_time": "2022-02-07T16:10:52.230879",
     "status": "completed"
    },
    "tags": []
   },
   "outputs": [],
   "source": [
    "from sklearn.metrics import balanced_accuracy_score,f1_score\n",
    "import zipfile\n",
    "import numpy as np\n",
    "from glob import glob\n",
    "import matplotlib.pyplot as plt\n",
    "import torch\n",
    "import torch.nn as nn\n",
    "\n",
    "from torchvision import datasets, transforms as T\n",
    "from efficientnet_pytorch import EfficientNet\n",
    "import os\n",
    "import torch.optim as optim\n",
    "from PIL import ImageFile\n",
    "from sklearn.metrics import accuracy_score\n",
    "from PIL import Image\n",
    "import PIL"
   ]
  },
  {
   "cell_type": "code",
   "execution_count": null,
   "id": "750bf5f3",
   "metadata": {
    "papermill": {
     "duration": 0.116111,
     "end_time": "2022-02-07T16:10:53.364480",
     "exception": false,
     "start_time": "2022-02-07T16:10:53.248369",
     "status": "completed"
    },
    "tags": []
   },
   "outputs": [],
   "source": []
  },
  {
   "cell_type": "code",
   "execution_count": 4,
   "id": "b7e2acdc",
   "metadata": {
    "execution": {
     "iopub.execute_input": "2022-02-07T16:10:53.591556Z",
     "iopub.status.busy": "2022-02-07T16:10:53.590702Z",
     "iopub.status.idle": "2022-02-07T16:10:53.592941Z",
     "shell.execute_reply": "2022-02-07T16:10:53.592290Z",
     "shell.execute_reply.started": "2022-02-07T12:45:40.287423Z"
    },
    "papermill": {
     "duration": 0.118195,
     "end_time": "2022-02-07T16:10:53.593090",
     "exception": false,
     "start_time": "2022-02-07T16:10:53.474895",
     "status": "completed"
    },
    "tags": []
   },
   "outputs": [],
   "source": [
    "from PIL import Image\n",
    "import PIL"
   ]
  },
  {
   "cell_type": "code",
   "execution_count": 5,
   "id": "355da01b",
   "metadata": {
    "execution": {
     "iopub.execute_input": "2022-02-07T16:10:53.763913Z",
     "iopub.status.busy": "2022-02-07T16:10:53.763291Z",
     "iopub.status.idle": "2022-02-07T16:10:53.766030Z",
     "shell.execute_reply": "2022-02-07T16:10:53.765592Z",
     "shell.execute_reply.started": "2022-02-07T12:45:40.293164Z"
    },
    "papermill": {
     "duration": 0.073592,
     "end_time": "2022-02-07T16:10:53.766143",
     "exception": false,
     "start_time": "2022-02-07T16:10:53.692551",
     "status": "completed"
    },
    "tags": []
   },
   "outputs": [],
   "source": [
    "data_folder=\"../input/stylumia-complete/\""
   ]
  },
  {
   "cell_type": "code",
   "execution_count": 6,
   "id": "4ae38193",
   "metadata": {
    "execution": {
     "iopub.execute_input": "2022-02-07T16:10:53.905236Z",
     "iopub.status.busy": "2022-02-07T16:10:53.904716Z",
     "iopub.status.idle": "2022-02-07T16:10:53.952321Z",
     "shell.execute_reply": "2022-02-07T16:10:53.952721Z",
     "shell.execute_reply.started": "2022-02-07T12:46:02.084477Z"
    },
    "papermill": {
     "duration": 0.119927,
     "end_time": "2022-02-07T16:10:53.952863",
     "exception": false,
     "start_time": "2022-02-07T16:10:53.832936",
     "status": "completed"
    },
    "tags": []
   },
   "outputs": [],
   "source": [
    "train_file=pd.read_csv(os.path.join(data_folder+'train_label.csv'))"
   ]
  },
  {
   "cell_type": "code",
   "execution_count": 7,
   "id": "0f2b4b9e",
   "metadata": {
    "execution": {
     "iopub.execute_input": "2022-02-07T16:10:54.094237Z",
     "iopub.status.busy": "2022-02-07T16:10:54.093618Z",
     "iopub.status.idle": "2022-02-07T16:10:54.102149Z",
     "shell.execute_reply": "2022-02-07T16:10:54.101682Z",
     "shell.execute_reply.started": "2022-02-07T12:46:02.300043Z"
    },
    "papermill": {
     "duration": 0.082221,
     "end_time": "2022-02-07T16:10:54.102259",
     "exception": false,
     "start_time": "2022-02-07T16:10:54.020038",
     "status": "completed"
    },
    "tags": []
   },
   "outputs": [],
   "source": [
    "train_file = train_file.sample(frac=1).reset_index(drop=True)"
   ]
  },
  {
   "cell_type": "code",
   "execution_count": 8,
   "id": "26c7e175",
   "metadata": {
    "execution": {
     "iopub.execute_input": "2022-02-07T16:10:54.246481Z",
     "iopub.status.busy": "2022-02-07T16:10:54.245709Z",
     "iopub.status.idle": "2022-02-07T16:10:54.256386Z",
     "shell.execute_reply": "2022-02-07T16:10:54.256855Z",
     "shell.execute_reply.started": "2022-02-07T12:46:02.495648Z"
    },
    "papermill": {
     "duration": 0.08694,
     "end_time": "2022-02-07T16:10:54.256991",
     "exception": false,
     "start_time": "2022-02-07T16:10:54.170051",
     "status": "completed"
    },
    "tags": []
   },
   "outputs": [
    {
     "data": {
      "text/html": [
       "<div>\n",
       "<style scoped>\n",
       "    .dataframe tbody tr th:only-of-type {\n",
       "        vertical-align: middle;\n",
       "    }\n",
       "\n",
       "    .dataframe tbody tr th {\n",
       "        vertical-align: top;\n",
       "    }\n",
       "\n",
       "    .dataframe thead th {\n",
       "        text-align: right;\n",
       "    }\n",
       "</style>\n",
       "<table border=\"1\" class=\"dataframe\">\n",
       "  <thead>\n",
       "    <tr style=\"text-align: right;\">\n",
       "      <th></th>\n",
       "      <th>file_name</th>\n",
       "      <th>label</th>\n",
       "    </tr>\n",
       "  </thead>\n",
       "  <tbody>\n",
       "    <tr>\n",
       "      <th>0</th>\n",
       "      <td>Image_020571.jpg</td>\n",
       "      <td>6</td>\n",
       "    </tr>\n",
       "    <tr>\n",
       "      <th>1</th>\n",
       "      <td>Image_014289.jpg</td>\n",
       "      <td>10</td>\n",
       "    </tr>\n",
       "    <tr>\n",
       "      <th>2</th>\n",
       "      <td>Image_029038.jpg</td>\n",
       "      <td>9</td>\n",
       "    </tr>\n",
       "    <tr>\n",
       "      <th>3</th>\n",
       "      <td>Image_028528.jpg</td>\n",
       "      <td>7</td>\n",
       "    </tr>\n",
       "    <tr>\n",
       "      <th>4</th>\n",
       "      <td>Image_030492.jpg</td>\n",
       "      <td>2</td>\n",
       "    </tr>\n",
       "    <tr>\n",
       "      <th>...</th>\n",
       "      <td>...</td>\n",
       "      <td>...</td>\n",
       "    </tr>\n",
       "    <tr>\n",
       "      <th>31744</th>\n",
       "      <td>Image_006097.jpg</td>\n",
       "      <td>5</td>\n",
       "    </tr>\n",
       "    <tr>\n",
       "      <th>31745</th>\n",
       "      <td>Image_028441.jpg</td>\n",
       "      <td>7</td>\n",
       "    </tr>\n",
       "    <tr>\n",
       "      <th>31746</th>\n",
       "      <td>Image_022225.jpg</td>\n",
       "      <td>6</td>\n",
       "    </tr>\n",
       "    <tr>\n",
       "      <th>31747</th>\n",
       "      <td>Image_000952.jpg</td>\n",
       "      <td>8</td>\n",
       "    </tr>\n",
       "    <tr>\n",
       "      <th>31748</th>\n",
       "      <td>Image_030882.jpg</td>\n",
       "      <td>4</td>\n",
       "    </tr>\n",
       "  </tbody>\n",
       "</table>\n",
       "<p>31749 rows × 2 columns</p>\n",
       "</div>"
      ],
      "text/plain": [
       "              file_name  label\n",
       "0      Image_020571.jpg      6\n",
       "1      Image_014289.jpg     10\n",
       "2      Image_029038.jpg      9\n",
       "3      Image_028528.jpg      7\n",
       "4      Image_030492.jpg      2\n",
       "...                 ...    ...\n",
       "31744  Image_006097.jpg      5\n",
       "31745  Image_028441.jpg      7\n",
       "31746  Image_022225.jpg      6\n",
       "31747  Image_000952.jpg      8\n",
       "31748  Image_030882.jpg      4\n",
       "\n",
       "[31749 rows x 2 columns]"
      ]
     },
     "execution_count": 8,
     "metadata": {},
     "output_type": "execute_result"
    }
   ],
   "source": [
    "train_file"
   ]
  },
  {
   "cell_type": "code",
   "execution_count": 9,
   "id": "d83fc933",
   "metadata": {
    "execution": {
     "iopub.execute_input": "2022-02-07T16:10:54.400794Z",
     "iopub.status.busy": "2022-02-07T16:10:54.400021Z",
     "iopub.status.idle": "2022-02-07T16:10:54.404859Z",
     "shell.execute_reply": "2022-02-07T16:10:54.404433Z",
     "shell.execute_reply.started": "2022-02-07T12:46:02.657491Z"
    },
    "papermill": {
     "duration": 0.080537,
     "end_time": "2022-02-07T16:10:54.404975",
     "exception": false,
     "start_time": "2022-02-07T16:10:54.324438",
     "status": "completed"
    },
    "tags": []
   },
   "outputs": [
    {
     "data": {
      "text/plain": [
       "6"
      ]
     },
     "execution_count": 9,
     "metadata": {},
     "output_type": "execute_result"
    }
   ],
   "source": [
    "train_file.loc[0,'label']"
   ]
  },
  {
   "cell_type": "code",
   "execution_count": null,
   "id": "b1079d43",
   "metadata": {
    "papermill": {
     "duration": 0.067414,
     "end_time": "2022-02-07T16:10:54.540703",
     "exception": false,
     "start_time": "2022-02-07T16:10:54.473289",
     "status": "completed"
    },
    "tags": []
   },
   "outputs": [],
   "source": []
  },
  {
   "cell_type": "code",
   "execution_count": 10,
   "id": "be4f412c",
   "metadata": {
    "execution": {
     "iopub.execute_input": "2022-02-07T16:10:54.703391Z",
     "iopub.status.busy": "2022-02-07T16:10:54.702110Z",
     "iopub.status.idle": "2022-02-07T16:10:54.705969Z",
     "shell.execute_reply": "2022-02-07T16:10:54.705492Z",
     "shell.execute_reply.started": "2022-02-07T12:46:02.998971Z"
    },
    "papermill": {
     "duration": 0.089703,
     "end_time": "2022-02-07T16:10:54.706091",
     "exception": false,
     "start_time": "2022-02-07T16:10:54.616388",
     "status": "completed"
    },
    "tags": []
   },
   "outputs": [
    {
     "data": {
      "text/html": [
       "<div>\n",
       "<style scoped>\n",
       "    .dataframe tbody tr th:only-of-type {\n",
       "        vertical-align: middle;\n",
       "    }\n",
       "\n",
       "    .dataframe tbody tr th {\n",
       "        vertical-align: top;\n",
       "    }\n",
       "\n",
       "    .dataframe thead th {\n",
       "        text-align: right;\n",
       "    }\n",
       "</style>\n",
       "<table border=\"1\" class=\"dataframe\">\n",
       "  <thead>\n",
       "    <tr style=\"text-align: right;\">\n",
       "      <th></th>\n",
       "      <th>file_name</th>\n",
       "      <th>label</th>\n",
       "    </tr>\n",
       "  </thead>\n",
       "  <tbody>\n",
       "    <tr>\n",
       "      <th>0</th>\n",
       "      <td>Image_020571.jpg</td>\n",
       "      <td>6</td>\n",
       "    </tr>\n",
       "    <tr>\n",
       "      <th>1</th>\n",
       "      <td>Image_014289.jpg</td>\n",
       "      <td>10</td>\n",
       "    </tr>\n",
       "    <tr>\n",
       "      <th>2</th>\n",
       "      <td>Image_029038.jpg</td>\n",
       "      <td>9</td>\n",
       "    </tr>\n",
       "    <tr>\n",
       "      <th>3</th>\n",
       "      <td>Image_028528.jpg</td>\n",
       "      <td>7</td>\n",
       "    </tr>\n",
       "    <tr>\n",
       "      <th>4</th>\n",
       "      <td>Image_030492.jpg</td>\n",
       "      <td>2</td>\n",
       "    </tr>\n",
       "    <tr>\n",
       "      <th>...</th>\n",
       "      <td>...</td>\n",
       "      <td>...</td>\n",
       "    </tr>\n",
       "    <tr>\n",
       "      <th>31744</th>\n",
       "      <td>Image_006097.jpg</td>\n",
       "      <td>5</td>\n",
       "    </tr>\n",
       "    <tr>\n",
       "      <th>31745</th>\n",
       "      <td>Image_028441.jpg</td>\n",
       "      <td>7</td>\n",
       "    </tr>\n",
       "    <tr>\n",
       "      <th>31746</th>\n",
       "      <td>Image_022225.jpg</td>\n",
       "      <td>6</td>\n",
       "    </tr>\n",
       "    <tr>\n",
       "      <th>31747</th>\n",
       "      <td>Image_000952.jpg</td>\n",
       "      <td>8</td>\n",
       "    </tr>\n",
       "    <tr>\n",
       "      <th>31748</th>\n",
       "      <td>Image_030882.jpg</td>\n",
       "      <td>4</td>\n",
       "    </tr>\n",
       "  </tbody>\n",
       "</table>\n",
       "<p>31749 rows × 2 columns</p>\n",
       "</div>"
      ],
      "text/plain": [
       "              file_name  label\n",
       "0      Image_020571.jpg      6\n",
       "1      Image_014289.jpg     10\n",
       "2      Image_029038.jpg      9\n",
       "3      Image_028528.jpg      7\n",
       "4      Image_030492.jpg      2\n",
       "...                 ...    ...\n",
       "31744  Image_006097.jpg      5\n",
       "31745  Image_028441.jpg      7\n",
       "31746  Image_022225.jpg      6\n",
       "31747  Image_000952.jpg      8\n",
       "31748  Image_030882.jpg      4\n",
       "\n",
       "[31749 rows x 2 columns]"
      ]
     },
     "execution_count": 10,
     "metadata": {},
     "output_type": "execute_result"
    }
   ],
   "source": [
    "train_file"
   ]
  },
  {
   "cell_type": "code",
   "execution_count": 11,
   "id": "c2cb9cab",
   "metadata": {
    "execution": {
     "iopub.execute_input": "2022-02-07T16:10:54.863237Z",
     "iopub.status.busy": "2022-02-07T16:10:54.862405Z",
     "iopub.status.idle": "2022-02-07T16:10:54.866527Z",
     "shell.execute_reply": "2022-02-07T16:10:54.866956Z",
     "shell.execute_reply.started": "2022-02-07T12:46:03.168237Z"
    },
    "papermill": {
     "duration": 0.086286,
     "end_time": "2022-02-07T16:10:54.867116",
     "exception": false,
     "start_time": "2022-02-07T16:10:54.780830",
     "status": "completed"
    },
    "tags": []
   },
   "outputs": [
    {
     "data": {
      "text/plain": [
       "6     6285\n",
       "3     4139\n",
       "9     3933\n",
       "7     3664\n",
       "2     2778\n",
       "5     2433\n",
       "8     2338\n",
       "0     2166\n",
       "4     2052\n",
       "10    1039\n",
       "1      922\n",
       "Name: label, dtype: int64"
      ]
     },
     "execution_count": 11,
     "metadata": {},
     "output_type": "execute_result"
    }
   ],
   "source": [
    "train_file['label'].value_counts()"
   ]
  },
  {
   "cell_type": "code",
   "execution_count": 12,
   "id": "7f0d8b44",
   "metadata": {
    "execution": {
     "iopub.execute_input": "2022-02-07T16:10:55.023971Z",
     "iopub.status.busy": "2022-02-07T16:10:55.023156Z",
     "iopub.status.idle": "2022-02-07T16:10:55.025988Z",
     "shell.execute_reply": "2022-02-07T16:10:55.026426Z",
     "shell.execute_reply.started": "2022-02-07T12:46:03.341508Z"
    },
    "papermill": {
     "duration": 0.083655,
     "end_time": "2022-02-07T16:10:55.026573",
     "exception": false,
     "start_time": "2022-02-07T16:10:54.942918",
     "status": "completed"
    },
    "tags": []
   },
   "outputs": [
    {
     "data": {
      "text/plain": [
       "6349"
      ]
     },
     "execution_count": 12,
     "metadata": {},
     "output_type": "execute_result"
    }
   ],
   "source": [
    "int(np.floor(0.2 * len(train_file)))"
   ]
  },
  {
   "cell_type": "code",
   "execution_count": 13,
   "id": "bf2798e1",
   "metadata": {
    "execution": {
     "iopub.execute_input": "2022-02-07T16:10:55.170750Z",
     "iopub.status.busy": "2022-02-07T16:10:55.170088Z",
     "iopub.status.idle": "2022-02-07T16:10:55.172381Z",
     "shell.execute_reply": "2022-02-07T16:10:55.172785Z",
     "shell.execute_reply.started": "2022-02-07T12:46:03.499240Z"
    },
    "papermill": {
     "duration": 0.07456,
     "end_time": "2022-02-07T16:10:55.172912",
     "exception": false,
     "start_time": "2022-02-07T16:10:55.098352",
     "status": "completed"
    },
    "tags": []
   },
   "outputs": [],
   "source": [
    "val_split_index=0"
   ]
  },
  {
   "cell_type": "code",
   "execution_count": 14,
   "id": "4e3b0171",
   "metadata": {
    "execution": {
     "iopub.execute_input": "2022-02-07T16:10:55.316193Z",
     "iopub.status.busy": "2022-02-07T16:10:55.315461Z",
     "iopub.status.idle": "2022-02-07T16:10:55.318007Z",
     "shell.execute_reply": "2022-02-07T16:10:55.317569Z",
     "shell.execute_reply.started": "2022-02-07T12:46:03.674054Z"
    },
    "papermill": {
     "duration": 0.076446,
     "end_time": "2022-02-07T16:10:55.318112",
     "exception": false,
     "start_time": "2022-02-07T16:10:55.241666",
     "status": "completed"
    },
    "tags": []
   },
   "outputs": [],
   "source": [
    "val_df=train_file.loc[:val_split_index-1]\n",
    "train_df=train_file.loc[val_split_index:]"
   ]
  },
  {
   "cell_type": "code",
   "execution_count": 15,
   "id": "c8a9895c",
   "metadata": {
    "execution": {
     "iopub.execute_input": "2022-02-07T16:10:55.461964Z",
     "iopub.status.busy": "2022-02-07T16:10:55.461258Z",
     "iopub.status.idle": "2022-02-07T16:10:55.464335Z",
     "shell.execute_reply": "2022-02-07T16:10:55.464774Z",
     "shell.execute_reply.started": "2022-02-07T12:46:03.859289Z"
    },
    "papermill": {
     "duration": 0.078435,
     "end_time": "2022-02-07T16:10:55.464900",
     "exception": false,
     "start_time": "2022-02-07T16:10:55.386465",
     "status": "completed"
    },
    "tags": []
   },
   "outputs": [
    {
     "data": {
      "text/html": [
       "<div>\n",
       "<style scoped>\n",
       "    .dataframe tbody tr th:only-of-type {\n",
       "        vertical-align: middle;\n",
       "    }\n",
       "\n",
       "    .dataframe tbody tr th {\n",
       "        vertical-align: top;\n",
       "    }\n",
       "\n",
       "    .dataframe thead th {\n",
       "        text-align: right;\n",
       "    }\n",
       "</style>\n",
       "<table border=\"1\" class=\"dataframe\">\n",
       "  <thead>\n",
       "    <tr style=\"text-align: right;\">\n",
       "      <th></th>\n",
       "      <th>file_name</th>\n",
       "      <th>label</th>\n",
       "    </tr>\n",
       "  </thead>\n",
       "  <tbody>\n",
       "  </tbody>\n",
       "</table>\n",
       "</div>"
      ],
      "text/plain": [
       "Empty DataFrame\n",
       "Columns: [file_name, label]\n",
       "Index: []"
      ]
     },
     "execution_count": 15,
     "metadata": {},
     "output_type": "execute_result"
    }
   ],
   "source": [
    "val_df"
   ]
  },
  {
   "cell_type": "code",
   "execution_count": 16,
   "id": "80319a2d",
   "metadata": {
    "execution": {
     "iopub.execute_input": "2022-02-07T16:10:55.607289Z",
     "iopub.status.busy": "2022-02-07T16:10:55.606552Z",
     "iopub.status.idle": "2022-02-07T16:10:55.612269Z",
     "shell.execute_reply": "2022-02-07T16:10:55.612674Z",
     "shell.execute_reply.started": "2022-02-07T12:46:04.014208Z"
    },
    "papermill": {
     "duration": 0.079346,
     "end_time": "2022-02-07T16:10:55.612822",
     "exception": false,
     "start_time": "2022-02-07T16:10:55.533476",
     "status": "completed"
    },
    "tags": []
   },
   "outputs": [],
   "source": [
    "train_df=train_df.sample(frac=1).reset_index(drop=True)"
   ]
  },
  {
   "cell_type": "code",
   "execution_count": 17,
   "id": "2f115f46",
   "metadata": {
    "execution": {
     "iopub.execute_input": "2022-02-07T16:10:55.759672Z",
     "iopub.status.busy": "2022-02-07T16:10:55.759023Z",
     "iopub.status.idle": "2022-02-07T16:10:55.761655Z",
     "shell.execute_reply": "2022-02-07T16:10:55.762086Z",
     "shell.execute_reply.started": "2022-02-07T12:46:04.189639Z"
    },
    "papermill": {
     "duration": 0.080614,
     "end_time": "2022-02-07T16:10:55.762207",
     "exception": false,
     "start_time": "2022-02-07T16:10:55.681593",
     "status": "completed"
    },
    "tags": []
   },
   "outputs": [
    {
     "data": {
      "text/html": [
       "<div>\n",
       "<style scoped>\n",
       "    .dataframe tbody tr th:only-of-type {\n",
       "        vertical-align: middle;\n",
       "    }\n",
       "\n",
       "    .dataframe tbody tr th {\n",
       "        vertical-align: top;\n",
       "    }\n",
       "\n",
       "    .dataframe thead th {\n",
       "        text-align: right;\n",
       "    }\n",
       "</style>\n",
       "<table border=\"1\" class=\"dataframe\">\n",
       "  <thead>\n",
       "    <tr style=\"text-align: right;\">\n",
       "      <th></th>\n",
       "      <th>file_name</th>\n",
       "      <th>label</th>\n",
       "    </tr>\n",
       "  </thead>\n",
       "  <tbody>\n",
       "    <tr>\n",
       "      <th>0</th>\n",
       "      <td>Image_027557.jpg</td>\n",
       "      <td>7</td>\n",
       "    </tr>\n",
       "    <tr>\n",
       "      <th>1</th>\n",
       "      <td>Image_017833.jpg</td>\n",
       "      <td>4</td>\n",
       "    </tr>\n",
       "    <tr>\n",
       "      <th>2</th>\n",
       "      <td>Image_005186.jpg</td>\n",
       "      <td>9</td>\n",
       "    </tr>\n",
       "    <tr>\n",
       "      <th>3</th>\n",
       "      <td>Image_017247.jpg</td>\n",
       "      <td>4</td>\n",
       "    </tr>\n",
       "    <tr>\n",
       "      <th>4</th>\n",
       "      <td>Image_004788.jpg</td>\n",
       "      <td>9</td>\n",
       "    </tr>\n",
       "    <tr>\n",
       "      <th>...</th>\n",
       "      <td>...</td>\n",
       "      <td>...</td>\n",
       "    </tr>\n",
       "    <tr>\n",
       "      <th>31744</th>\n",
       "      <td>Image_016974.jpg</td>\n",
       "      <td>4</td>\n",
       "    </tr>\n",
       "    <tr>\n",
       "      <th>31745</th>\n",
       "      <td>Image_025891.jpg</td>\n",
       "      <td>7</td>\n",
       "    </tr>\n",
       "    <tr>\n",
       "      <th>31746</th>\n",
       "      <td>Image_022658.jpg</td>\n",
       "      <td>6</td>\n",
       "    </tr>\n",
       "    <tr>\n",
       "      <th>31747</th>\n",
       "      <td>Image_020178.jpg</td>\n",
       "      <td>6</td>\n",
       "    </tr>\n",
       "    <tr>\n",
       "      <th>31748</th>\n",
       "      <td>Image_015575.jpg</td>\n",
       "      <td>2</td>\n",
       "    </tr>\n",
       "  </tbody>\n",
       "</table>\n",
       "<p>31749 rows × 2 columns</p>\n",
       "</div>"
      ],
      "text/plain": [
       "              file_name  label\n",
       "0      Image_027557.jpg      7\n",
       "1      Image_017833.jpg      4\n",
       "2      Image_005186.jpg      9\n",
       "3      Image_017247.jpg      4\n",
       "4      Image_004788.jpg      9\n",
       "...                 ...    ...\n",
       "31744  Image_016974.jpg      4\n",
       "31745  Image_025891.jpg      7\n",
       "31746  Image_022658.jpg      6\n",
       "31747  Image_020178.jpg      6\n",
       "31748  Image_015575.jpg      2\n",
       "\n",
       "[31749 rows x 2 columns]"
      ]
     },
     "execution_count": 17,
     "metadata": {},
     "output_type": "execute_result"
    }
   ],
   "source": [
    "train_df"
   ]
  },
  {
   "cell_type": "code",
   "execution_count": 18,
   "id": "40beb652",
   "metadata": {
    "execution": {
     "iopub.execute_input": "2022-02-07T16:10:55.910309Z",
     "iopub.status.busy": "2022-02-07T16:10:55.909546Z",
     "iopub.status.idle": "2022-02-07T16:10:55.912031Z",
     "shell.execute_reply": "2022-02-07T16:10:55.911593Z",
     "shell.execute_reply.started": "2022-02-07T12:46:04.358002Z"
    },
    "papermill": {
     "duration": 0.080874,
     "end_time": "2022-02-07T16:10:55.912137",
     "exception": false,
     "start_time": "2022-02-07T16:10:55.831263",
     "status": "completed"
    },
    "tags": []
   },
   "outputs": [],
   "source": [
    "class CustomDataset(torch.utils.data.Dataset):\n",
    "    def __init__(self, df, images_folder,mode,stats,transform = ToTensor()):\n",
    "        self.df = df\n",
    "        self.mode=mode\n",
    "        self.images_folder = os.path.join(images_folder+'/'+'train')\n",
    "       \n",
    "        self.transform1=Resize((260,260))\n",
    "        self.train_tfms=tt.Compose([tt.RandomCrop(224,padding=4,padding_mode='reflect'),\n",
    "                      tt.RandomHorizontalFlip(),\n",
    "                      tt.ToTensor(),\n",
    "                      tt.Normalize(*stats,inplace=True)])\n",
    "        self.valid_tfms=tt.Compose([tt.ToTensor(),tt.Normalize(*stats,inplace=True)])\n",
    "\n",
    "    def __len__(self):\n",
    "        return len(self.df)\n",
    "    def __getitem__(self, index):\n",
    "        filename = self.df.loc[index, \"file_name\"]\n",
    "        label = self.df.loc[index, \"label\"]\n",
    "        image = PIL.Image.open(os.path.join(self.images_folder,filename))\n",
    "        if self.mode=='train':\n",
    "            image=self.transform1(image)\n",
    "            image=self.train_tfms(image)\n",
    "        else:\n",
    "            image=self.transform1(image)\n",
    "            image=self.valid_tfms(image)\n",
    "        return image, label"
   ]
  },
  {
   "cell_type": "code",
   "execution_count": 19,
   "id": "a85bc92b",
   "metadata": {
    "execution": {
     "iopub.execute_input": "2022-02-07T16:10:56.055955Z",
     "iopub.status.busy": "2022-02-07T16:10:56.055238Z",
     "iopub.status.idle": "2022-02-07T16:10:56.057289Z",
     "shell.execute_reply": "2022-02-07T16:10:56.057645Z",
     "shell.execute_reply.started": "2022-02-07T12:46:04.535542Z"
    },
    "papermill": {
     "duration": 0.075832,
     "end_time": "2022-02-07T16:10:56.057802",
     "exception": false,
     "start_time": "2022-02-07T16:10:55.981970",
     "status": "completed"
    },
    "tags": []
   },
   "outputs": [],
   "source": [
    "img1=os.path.join(data_folder+'train/'+train_file.loc[12658,\"file_name\"])"
   ]
  },
  {
   "cell_type": "code",
   "execution_count": 20,
   "id": "385efbbb",
   "metadata": {
    "execution": {
     "iopub.execute_input": "2022-02-07T16:10:56.201318Z",
     "iopub.status.busy": "2022-02-07T16:10:56.200717Z",
     "iopub.status.idle": "2022-02-07T16:10:56.203227Z",
     "shell.execute_reply": "2022-02-07T16:10:56.203612Z",
     "shell.execute_reply.started": "2022-02-07T12:46:04.719187Z"
    },
    "papermill": {
     "duration": 0.076294,
     "end_time": "2022-02-07T16:10:56.203748",
     "exception": false,
     "start_time": "2022-02-07T16:10:56.127454",
     "status": "completed"
    },
    "tags": []
   },
   "outputs": [
    {
     "data": {
      "text/plain": [
       "'../input/stylumia-complete/train/Image_017919.jpg'"
      ]
     },
     "execution_count": 20,
     "metadata": {},
     "output_type": "execute_result"
    }
   ],
   "source": [
    "img1"
   ]
  },
  {
   "cell_type": "code",
   "execution_count": 21,
   "id": "729d97f6",
   "metadata": {
    "execution": {
     "iopub.execute_input": "2022-02-07T16:10:56.347463Z",
     "iopub.status.busy": "2022-02-07T16:10:56.346796Z",
     "iopub.status.idle": "2022-02-07T16:10:56.349374Z",
     "shell.execute_reply": "2022-02-07T16:10:56.349878Z",
     "shell.execute_reply.started": "2022-02-07T12:46:04.912645Z"
    },
    "papermill": {
     "duration": 0.076602,
     "end_time": "2022-02-07T16:10:56.350000",
     "exception": false,
     "start_time": "2022-02-07T16:10:56.273398",
     "status": "completed"
    },
    "tags": []
   },
   "outputs": [
    {
     "data": {
      "text/plain": [
       "31749"
      ]
     },
     "execution_count": 21,
     "metadata": {},
     "output_type": "execute_result"
    }
   ],
   "source": [
    "len(train_file)"
   ]
  },
  {
   "cell_type": "code",
   "execution_count": 22,
   "id": "68cb5632",
   "metadata": {
    "execution": {
     "iopub.execute_input": "2022-02-07T16:10:56.493599Z",
     "iopub.status.busy": "2022-02-07T16:10:56.493124Z",
     "iopub.status.idle": "2022-02-07T16:10:56.541354Z",
     "shell.execute_reply": "2022-02-07T16:10:56.540927Z",
     "shell.execute_reply.started": "2022-02-07T12:46:05.079003Z"
    },
    "papermill": {
     "duration": 0.121454,
     "end_time": "2022-02-07T16:10:56.541454",
     "exception": false,
     "start_time": "2022-02-07T16:10:56.420000",
     "status": "completed"
    },
    "tags": []
   },
   "outputs": [],
   "source": [
    "image = PIL.Image.open(img1)"
   ]
  },
  {
   "cell_type": "code",
   "execution_count": 23,
   "id": "d5244d65",
   "metadata": {
    "execution": {
     "iopub.execute_input": "2022-02-07T16:10:56.685827Z",
     "iopub.status.busy": "2022-02-07T16:10:56.685072Z",
     "iopub.status.idle": "2022-02-07T16:10:56.687904Z",
     "shell.execute_reply": "2022-02-07T16:10:56.688373Z",
     "shell.execute_reply.started": "2022-02-07T12:46:05.265396Z"
    },
    "papermill": {
     "duration": 0.076729,
     "end_time": "2022-02-07T16:10:56.688489",
     "exception": false,
     "start_time": "2022-02-07T16:10:56.611760",
     "status": "completed"
    },
    "tags": []
   },
   "outputs": [
    {
     "data": {
      "text/plain": [
       "0.6719160104986877"
      ]
     },
     "execution_count": 23,
     "metadata": {},
     "output_type": "execute_result"
    }
   ],
   "source": [
    "512/762"
   ]
  },
  {
   "cell_type": "code",
   "execution_count": 24,
   "id": "835f21f8",
   "metadata": {
    "execution": {
     "iopub.execute_input": "2022-02-07T16:10:56.833459Z",
     "iopub.status.busy": "2022-02-07T16:10:56.831547Z",
     "iopub.status.idle": "2022-02-07T16:10:56.835785Z",
     "shell.execute_reply": "2022-02-07T16:10:56.835336Z",
     "shell.execute_reply.started": "2022-02-07T12:46:05.431096Z"
    },
    "papermill": {
     "duration": 0.077522,
     "end_time": "2022-02-07T16:10:56.835903",
     "exception": false,
     "start_time": "2022-02-07T16:10:56.758381",
     "status": "completed"
    },
    "tags": []
   },
   "outputs": [],
   "source": [
    "x=transforms.Resize((256,256))"
   ]
  },
  {
   "cell_type": "code",
   "execution_count": 25,
   "id": "cbaf79e1",
   "metadata": {
    "execution": {
     "iopub.execute_input": "2022-02-07T16:10:56.983292Z",
     "iopub.status.busy": "2022-02-07T16:10:56.981523Z",
     "iopub.status.idle": "2022-02-07T16:10:57.026886Z",
     "shell.execute_reply": "2022-02-07T16:10:57.026400Z",
     "shell.execute_reply.started": "2022-02-07T12:46:05.613519Z"
    },
    "papermill": {
     "duration": 0.121107,
     "end_time": "2022-02-07T16:10:57.027030",
     "exception": false,
     "start_time": "2022-02-07T16:10:56.905923",
     "status": "completed"
    },
    "tags": []
   },
   "outputs": [],
   "source": [
    "img=x(image)"
   ]
  },
  {
   "cell_type": "code",
   "execution_count": 26,
   "id": "622ff188",
   "metadata": {
    "execution": {
     "iopub.execute_input": "2022-02-07T16:10:57.179758Z",
     "iopub.status.busy": "2022-02-07T16:10:57.178837Z",
     "iopub.status.idle": "2022-02-07T16:10:57.182303Z",
     "shell.execute_reply": "2022-02-07T16:10:57.181843Z",
     "shell.execute_reply.started": "2022-02-07T12:46:05.767573Z"
    },
    "papermill": {
     "duration": 0.082357,
     "end_time": "2022-02-07T16:10:57.182421",
     "exception": false,
     "start_time": "2022-02-07T16:10:57.100064",
     "status": "completed"
    },
    "tags": []
   },
   "outputs": [
    {
     "data": {
      "text/plain": [
       "(256, 256)"
      ]
     },
     "execution_count": 26,
     "metadata": {},
     "output_type": "execute_result"
    }
   ],
   "source": [
    "img.size"
   ]
  },
  {
   "cell_type": "code",
   "execution_count": 27,
   "id": "6b21e790",
   "metadata": {
    "execution": {
     "iopub.execute_input": "2022-02-07T16:10:57.329208Z",
     "iopub.status.busy": "2022-02-07T16:10:57.328499Z",
     "iopub.status.idle": "2022-02-07T16:10:57.358930Z",
     "shell.execute_reply": "2022-02-07T16:10:57.359323Z",
     "shell.execute_reply.started": "2022-02-07T12:46:05.966943Z"
    },
    "papermill": {
     "duration": 0.105839,
     "end_time": "2022-02-07T16:10:57.359440",
     "exception": false,
     "start_time": "2022-02-07T16:10:57.253601",
     "status": "completed"
    },
    "tags": []
   },
   "outputs": [
    {
     "data": {
      "image/png": "[encoded data removed]",
      "text/plain": [
       "<PIL.Image.Image image mode=RGB size=256x256 at 0x7FAF5BCB2E50>"
      ]
     },
     "execution_count": 27,
     "metadata": {},
     "output_type": "execute_result"
    }
   ],
   "source": [
    "img"
   ]
  },
  {
   "cell_type": "code",
   "execution_count": 28,
   "id": "9e1b54fc",
   "metadata": {
    "execution": {
     "iopub.execute_input": "2022-02-07T16:10:57.508056Z",
     "iopub.status.busy": "2022-02-07T16:10:57.507425Z",
     "iopub.status.idle": "2022-02-07T16:10:57.509883Z",
     "shell.execute_reply": "2022-02-07T16:10:57.510363Z",
     "shell.execute_reply.started": "2022-02-07T12:46:06.225409Z"
    },
    "papermill": {
     "duration": 0.079556,
     "end_time": "2022-02-07T16:10:57.510479",
     "exception": false,
     "start_time": "2022-02-07T16:10:57.430923",
     "status": "completed"
    },
    "tags": []
   },
   "outputs": [
    {
     "data": {
      "text/plain": [
       "'/kaggle/working'"
      ]
     },
     "execution_count": 28,
     "metadata": {},
     "output_type": "execute_result"
    }
   ],
   "source": [
    "pwd"
   ]
  },
  {
   "cell_type": "code",
   "execution_count": 29,
   "id": "75e8b446",
   "metadata": {
    "execution": {
     "iopub.execute_input": "2022-02-07T16:10:57.664999Z",
     "iopub.status.busy": "2022-02-07T16:10:57.664044Z",
     "iopub.status.idle": "2022-02-07T16:10:57.762581Z",
     "shell.execute_reply": "2022-02-07T16:10:57.763017Z",
     "shell.execute_reply.started": "2022-02-07T12:46:06.487532Z"
    },
    "papermill": {
     "duration": 0.180856,
     "end_time": "2022-02-07T16:10:57.763167",
     "exception": false,
     "start_time": "2022-02-07T16:10:57.582311",
     "status": "completed"
    },
    "tags": []
   },
   "outputs": [
    {
     "data": {
      "text/plain": [
       "tensor([[[0.9412, 0.9412, 0.9412,  ..., 0.9255, 0.9255, 0.9255],\n",
       "         [0.9412, 0.9412, 0.9412,  ..., 0.9255, 0.9255, 0.9255],\n",
       "         [0.9412, 0.9412, 0.9412,  ..., 0.9255, 0.9255, 0.9255],\n",
       "         ...,\n",
       "         [0.9255, 0.9255, 0.9255,  ..., 0.9137, 0.9137, 0.9137],\n",
       "         [0.9255, 0.9255, 0.9255,  ..., 0.9137, 0.9137, 0.9137],\n",
       "         [0.9255, 0.9255, 0.9255,  ..., 0.9137, 0.9137, 0.9137]],\n",
       "\n",
       "        [[0.9373, 0.9373, 0.9373,  ..., 0.9216, 0.9216, 0.9216],\n",
       "         [0.9373, 0.9373, 0.9373,  ..., 0.9216, 0.9216, 0.9216],\n",
       "         [0.9373, 0.9373, 0.9373,  ..., 0.9216, 0.9216, 0.9216],\n",
       "         ...,\n",
       "         [0.9216, 0.9216, 0.9216,  ..., 0.9098, 0.9098, 0.9098],\n",
       "         [0.9216, 0.9216, 0.9216,  ..., 0.9098, 0.9098, 0.9098],\n",
       "         [0.9216, 0.9216, 0.9216,  ..., 0.9098, 0.9098, 0.9098]],\n",
       "\n",
       "        [[0.9294, 0.9294, 0.9294,  ..., 0.9137, 0.9137, 0.9137],\n",
       "         [0.9294, 0.9294, 0.9294,  ..., 0.9137, 0.9137, 0.9137],\n",
       "         [0.9294, 0.9294, 0.9294,  ..., 0.9137, 0.9137, 0.9137],\n",
       "         ...,\n",
       "         [0.9137, 0.9137, 0.9137,  ..., 0.9020, 0.9020, 0.9020],\n",
       "         [0.9137, 0.9137, 0.9137,  ..., 0.9020, 0.9020, 0.9020],\n",
       "         [0.9137, 0.9137, 0.9137,  ..., 0.9020, 0.9020, 0.9020]]])"
      ]
     },
     "execution_count": 29,
     "metadata": {},
     "output_type": "execute_result"
    }
   ],
   "source": [
    "convert_tensor = torchvision.transforms.ToTensor()\n",
    "\n",
    "convert_tensor(image)"
   ]
  },
  {
   "cell_type": "code",
   "execution_count": 30,
   "id": "203f0576",
   "metadata": {
    "execution": {
     "iopub.execute_input": "2022-02-07T16:10:57.913161Z",
     "iopub.status.busy": "2022-02-07T16:10:57.912599Z",
     "iopub.status.idle": "2022-02-07T16:10:57.915366Z",
     "shell.execute_reply": "2022-02-07T16:10:57.914947Z",
     "shell.execute_reply.started": "2022-02-07T12:46:06.687569Z"
    },
    "papermill": {
     "duration": 0.079477,
     "end_time": "2022-02-07T16:10:57.915469",
     "exception": false,
     "start_time": "2022-02-07T16:10:57.835992",
     "status": "completed"
    },
    "tags": []
   },
   "outputs": [],
   "source": [
    "stats = ((0.7955, 0.7599, 0.7506), (0.2721, 0.2932, 0.2981))"
   ]
  },
  {
   "cell_type": "code",
   "execution_count": 31,
   "id": "595415dd",
   "metadata": {
    "execution": {
     "iopub.execute_input": "2022-02-07T16:10:58.064128Z",
     "iopub.status.busy": "2022-02-07T16:10:58.063436Z",
     "iopub.status.idle": "2022-02-07T16:10:58.065945Z",
     "shell.execute_reply": "2022-02-07T16:10:58.065501Z",
     "shell.execute_reply.started": "2022-02-07T12:46:06.892628Z"
    },
    "papermill": {
     "duration": 0.078413,
     "end_time": "2022-02-07T16:10:58.066051",
     "exception": false,
     "start_time": "2022-02-07T16:10:57.987638",
     "status": "completed"
    },
    "tags": []
   },
   "outputs": [],
   "source": [
    "train_dataset=CustomDataset(train_df,data_folder,'train',stats)"
   ]
  },
  {
   "cell_type": "code",
   "execution_count": 32,
   "id": "3b77383d",
   "metadata": {
    "execution": {
     "iopub.execute_input": "2022-02-07T16:10:58.228621Z",
     "iopub.status.busy": "2022-02-07T16:10:58.227813Z",
     "iopub.status.idle": "2022-02-07T16:10:58.230308Z",
     "shell.execute_reply": "2022-02-07T16:10:58.229868Z",
     "shell.execute_reply.started": "2022-02-07T12:46:07.507585Z"
    },
    "papermill": {
     "duration": 0.084161,
     "end_time": "2022-02-07T16:10:58.230422",
     "exception": false,
     "start_time": "2022-02-07T16:10:58.146261",
     "status": "completed"
    },
    "tags": []
   },
   "outputs": [],
   "source": [
    "#val_dataset=CustomDataset(val_df,data_folder,'val',stats)"
   ]
  },
  {
   "cell_type": "code",
   "execution_count": 33,
   "id": "8bf45bcc",
   "metadata": {
    "execution": {
     "iopub.execute_input": "2022-02-07T16:10:58.390226Z",
     "iopub.status.busy": "2022-02-07T16:10:58.389484Z",
     "iopub.status.idle": "2022-02-07T16:10:58.391545Z",
     "shell.execute_reply": "2022-02-07T16:10:58.391945Z",
     "shell.execute_reply.started": "2022-02-07T12:46:07.747718Z"
    },
    "papermill": {
     "duration": 0.08378,
     "end_time": "2022-02-07T16:10:58.392069",
     "exception": false,
     "start_time": "2022-02-07T16:10:58.308289",
     "status": "completed"
    },
    "tags": []
   },
   "outputs": [],
   "source": [
    "#val_indices = list(range(len(val_dataset)-1))\n",
    "train_indices=list(range(len(train_dataset)))"
   ]
  },
  {
   "cell_type": "code",
   "execution_count": 34,
   "id": "11fdbd4a",
   "metadata": {
    "execution": {
     "iopub.execute_input": "2022-02-07T16:10:58.552340Z",
     "iopub.status.busy": "2022-02-07T16:10:58.551556Z",
     "iopub.status.idle": "2022-02-07T16:10:58.553599Z",
     "shell.execute_reply": "2022-02-07T16:10:58.554052Z",
     "shell.execute_reply.started": "2022-02-07T12:46:08.040870Z"
    },
    "papermill": {
     "duration": 0.083674,
     "end_time": "2022-02-07T16:10:58.554175",
     "exception": false,
     "start_time": "2022-02-07T16:10:58.470501",
     "status": "completed"
    },
    "tags": []
   },
   "outputs": [],
   "source": [
    "#val_indices"
   ]
  },
  {
   "cell_type": "code",
   "execution_count": 35,
   "id": "1b682c07",
   "metadata": {
    "execution": {
     "iopub.execute_input": "2022-02-07T16:10:58.718883Z",
     "iopub.status.busy": "2022-02-07T16:10:58.718232Z",
     "iopub.status.idle": "2022-02-07T16:10:58.723537Z",
     "shell.execute_reply": "2022-02-07T16:10:58.723046Z",
     "shell.execute_reply.started": "2022-02-07T12:46:08.222919Z"
    },
    "papermill": {
     "duration": 0.089869,
     "end_time": "2022-02-07T16:10:58.723642",
     "exception": false,
     "start_time": "2022-02-07T16:10:58.633773",
     "status": "completed"
    },
    "tags": []
   },
   "outputs": [],
   "source": [
    "random_seed = 42\n",
    "torch.manual_seed(random_seed);"
   ]
  },
  {
   "cell_type": "code",
   "execution_count": 36,
   "id": "59fc047d",
   "metadata": {
    "execution": {
     "iopub.execute_input": "2022-02-07T16:10:58.885505Z",
     "iopub.status.busy": "2022-02-07T16:10:58.884802Z",
     "iopub.status.idle": "2022-02-07T16:10:58.887441Z",
     "shell.execute_reply": "2022-02-07T16:10:58.886999Z",
     "shell.execute_reply.started": "2022-02-07T12:46:08.421250Z"
    },
    "papermill": {
     "duration": 0.084818,
     "end_time": "2022-02-07T16:10:58.887547",
     "exception": false,
     "start_time": "2022-02-07T16:10:58.802729",
     "status": "completed"
    },
    "tags": []
   },
   "outputs": [],
   "source": [
    "#train_idx"
   ]
  },
  {
   "cell_type": "code",
   "execution_count": 37,
   "id": "a2b01743",
   "metadata": {
    "execution": {
     "iopub.execute_input": "2022-02-07T16:10:59.056215Z",
     "iopub.status.busy": "2022-02-07T16:10:59.055538Z",
     "iopub.status.idle": "2022-02-07T16:10:59.058344Z",
     "shell.execute_reply": "2022-02-07T16:10:59.058847Z",
     "shell.execute_reply.started": "2022-02-07T12:46:08.622305Z"
    },
    "papermill": {
     "duration": 0.089919,
     "end_time": "2022-02-07T16:10:59.058997",
     "exception": false,
     "start_time": "2022-02-07T16:10:58.969078",
     "status": "completed"
    },
    "tags": []
   },
   "outputs": [
    {
     "data": {
      "text/plain": [
       "31749"
      ]
     },
     "execution_count": 37,
     "metadata": {},
     "output_type": "execute_result"
    }
   ],
   "source": [
    "\n",
    "#val_sampler = SubsetRandomSampler(val_indices)\n",
    "\n",
    "sampler = SubsetRandomSampler(train_indices)\n",
    "len(sampler)\n"
   ]
  },
  {
   "cell_type": "code",
   "execution_count": 38,
   "id": "7bcf1eff",
   "metadata": {
    "execution": {
     "iopub.execute_input": "2022-02-07T16:10:59.234766Z",
     "iopub.status.busy": "2022-02-07T16:10:59.233790Z",
     "iopub.status.idle": "2022-02-07T16:10:59.235599Z",
     "shell.execute_reply": "2022-02-07T16:10:59.236196Z",
     "shell.execute_reply.started": "2022-02-07T12:46:08.829702Z"
    },
    "papermill": {
     "duration": 0.0941,
     "end_time": "2022-02-07T16:10:59.236344",
     "exception": false,
     "start_time": "2022-02-07T16:10:59.142244",
     "status": "completed"
    },
    "tags": []
   },
   "outputs": [],
   "source": [
    "train_dl = DataLoader(dataset=train_dataset, shuffle=False, batch_size=64, sampler=sampler)\n",
    "#val_dl = DataLoader(dataset=val_dataset, shuffle=False, batch_size=64, sampler=val_sampler)"
   ]
  },
  {
   "cell_type": "code",
   "execution_count": 39,
   "id": "1b6cfc67",
   "metadata": {
    "execution": {
     "iopub.execute_input": "2022-02-07T16:10:59.408047Z",
     "iopub.status.busy": "2022-02-07T16:10:59.407420Z",
     "iopub.status.idle": "2022-02-07T16:11:01.846254Z",
     "shell.execute_reply": "2022-02-07T16:11:01.846909Z",
     "shell.execute_reply.started": "2022-02-07T12:46:09.069252Z"
    },
    "papermill": {
     "duration": 2.525798,
     "end_time": "2022-02-07T16:11:01.847109",
     "exception": false,
     "start_time": "2022-02-07T16:10:59.321311",
     "status": "completed"
    },
    "tags": []
   },
   "outputs": [
    {
     "name": "stdout",
     "output_type": "stream",
     "text": [
      "tensor([ 6,  6,  9,  2,  9,  3,  3,  8,  3,  7,  7,  5,  6,  9,  7,  0,  0,  3,\n",
      "         5,  9,  6,  9, 10,  3,  0,  6,  9,  0,  4,  9,  9,  7, 10,  6,  3,  6,\n",
      "         2,  3,  2,  6,  6,  5,  6,  5,  3,  8,  8,  6,  3,  3,  5,  2,  3,  3,\n",
      "         8,  3,  4,  6,  2,  6,  3,  7,  6,  8])\n"
     ]
    }
   ],
   "source": [
    "train_features, train_labels = next(iter(train_dl))\n",
    "print(train_labels)\n"
   ]
  },
  {
   "cell_type": "code",
   "execution_count": 40,
   "id": "f82438c5",
   "metadata": {
    "execution": {
     "iopub.execute_input": "2022-02-07T16:11:01.997465Z",
     "iopub.status.busy": "2022-02-07T16:11:01.996655Z",
     "iopub.status.idle": "2022-02-07T16:11:02.042506Z",
     "shell.execute_reply": "2022-02-07T16:11:02.041963Z",
     "shell.execute_reply.started": "2022-02-07T12:46:11.101238Z"
    },
    "papermill": {
     "duration": 0.121234,
     "end_time": "2022-02-07T16:11:02.042699",
     "exception": false,
     "start_time": "2022-02-07T16:11:01.921465",
     "status": "completed"
    },
    "tags": []
   },
   "outputs": [
    {
     "data": {
      "text/plain": [
       "True"
      ]
     },
     "execution_count": 40,
     "metadata": {},
     "output_type": "execute_result"
    }
   ],
   "source": [
    "torch.cuda.is_available()"
   ]
  },
  {
   "cell_type": "code",
   "execution_count": 41,
   "id": "9a0b850d",
   "metadata": {
    "execution": {
     "iopub.execute_input": "2022-02-07T16:11:02.196351Z",
     "iopub.status.busy": "2022-02-07T16:11:02.195600Z",
     "iopub.status.idle": "2022-02-07T16:11:02.197997Z",
     "shell.execute_reply": "2022-02-07T16:11:02.197568Z",
     "shell.execute_reply.started": "2022-02-07T12:46:11.154308Z"
    },
    "papermill": {
     "duration": 0.081286,
     "end_time": "2022-02-07T16:11:02.198110",
     "exception": false,
     "start_time": "2022-02-07T16:11:02.116824",
     "status": "completed"
    },
    "tags": []
   },
   "outputs": [],
   "source": [
    "from torchvision.utils import make_grid\n",
    "\n",
    "def show_batch(dl):\n",
    "    for images, labels in dl:\n",
    "        fig, ax = plt.subplots(figsize=(12, 6))\n",
    "        ax.set_xticks([]); ax.set_yticks([])\n",
    "        ax.imshow(make_grid(images, nrow=4).permute(1,2,0))\n",
    "        break"
   ]
  },
  {
   "cell_type": "code",
   "execution_count": 42,
   "id": "5fcbdc61",
   "metadata": {
    "execution": {
     "iopub.execute_input": "2022-02-07T16:11:02.350002Z",
     "iopub.status.busy": "2022-02-07T16:11:02.349267Z",
     "iopub.status.idle": "2022-02-07T16:11:06.190959Z",
     "shell.execute_reply": "2022-02-07T16:11:06.191366Z",
     "shell.execute_reply.started": "2022-02-07T12:46:11.164640Z"
    },
    "papermill": {
     "duration": 3.920138,
     "end_time": "2022-02-07T16:11:06.191536",
     "exception": false,
     "start_time": "2022-02-07T16:11:02.271398",
     "status": "completed"
    },
    "tags": []
   },
   "outputs": [
    {
     "data": {
      "image/png": "[encoded data removed]",
      "text/plain": [
       "<Figure size 864x432 with 1 Axes>"
      ]
     },
     "metadata": {},
     "output_type": "display_data"
    }
   ],
   "source": [
    "show_batch(train_dl)"
   ]
  },
  {
   "cell_type": "code",
   "execution_count": 43,
   "id": "84268fc0",
   "metadata": {
    "execution": {
     "iopub.execute_input": "2022-02-07T16:11:06.354104Z",
     "iopub.status.busy": "2022-02-07T16:11:06.353320Z",
     "iopub.status.idle": "2022-02-07T16:11:06.355813Z",
     "shell.execute_reply": "2022-02-07T16:11:06.355363Z",
     "shell.execute_reply.started": "2022-02-07T12:46:15.662992Z"
    },
    "papermill": {
     "duration": 0.088859,
     "end_time": "2022-02-07T16:11:06.355936",
     "exception": false,
     "start_time": "2022-02-07T16:11:06.267077",
     "status": "completed"
    },
    "tags": []
   },
   "outputs": [],
   "source": [
    "class ImageClassificationBase(nn.Module):\n",
    " \n",
    "    def training_step(self,batch):\n",
    "        model.train()\n",
    "        images,labels=batch\n",
    "        out=self(images)\n",
    "        loss=F.cross_entropy(out,labels)\n",
    "        acc,mic,mac,bal_acc=accuracy(labels,out)\n",
    "        return loss,acc,mic,mac,bal_acc\n",
    "    \n",
    "   \n",
    "    def validation_step(self,batch):\n",
    "        model.eval()\n",
    "        images,labels=batch\n",
    "        out=self(images)\n",
    "        loss=F.cross_entropy(out,labels)\n",
    "        acc,mic,mac,bal_acc=accuracy(labels,out)\n",
    "        return {'val_loss':loss.detach(),'val_acc':acc,'val_mic':mic,'val_mac':mac,'val_balacc':bal_acc}\n",
    "    \n",
    "    \n",
    "    def validation_epoch_end(self,result):\n",
    "        loss=[x['val_loss'] for x in result]\n",
    "        acc= [x['val_acc'] for x in result]\n",
    "        mic=[x['val_mic'] for x in result]\n",
    "        mac=[x['val_mac'] for x in result]\n",
    "        bal=[x['val_balacc'] for x in result]\n",
    "        l_b=torch.stack(loss).mean()\n",
    "        a_b=torch.stack(acc).mean()\n",
    "        mi_b=torch.stack(mic).mean()\n",
    "        ma_b=torch.stack(mac).mean()\n",
    "        ba_b=torch.stack(bal).mean()\n",
    "        return {'val_loss':l_b.item(), 'val_acc': a_b.item(),'micro_f1':mi_b.item(), 'macro_f1': ma_b.item(),'bal_acc':ba_b.item()}\n",
    "    \n",
    "    def epoch_end(self,epoch,result):\n",
    "        print(\"Epoch [{}], val_loss: {:.4f}, val_acc: {:.4f},val_mic: {:.4f}, val_mac: {:.4f}, bal_acc: {:.4f}\".format(\n",
    "            epoch,result['val_loss'], result['val_acc'],result['micro_f1'], result['macro_f1'],result['bal_acc']))\n",
    "        "
   ]
  },
  {
   "cell_type": "code",
   "execution_count": 44,
   "id": "8eb135a0",
   "metadata": {
    "execution": {
     "iopub.execute_input": "2022-02-07T16:11:06.511578Z",
     "iopub.status.busy": "2022-02-07T16:11:06.510777Z",
     "iopub.status.idle": "2022-02-07T16:11:06.512652Z",
     "shell.execute_reply": "2022-02-07T16:11:06.513077Z",
     "shell.execute_reply.started": "2022-02-07T12:46:15.679598Z"
    },
    "papermill": {
     "duration": 0.082052,
     "end_time": "2022-02-07T16:11:06.513198",
     "exception": false,
     "start_time": "2022-02-07T16:11:06.431146",
     "status": "completed"
    },
    "tags": []
   },
   "outputs": [],
   "source": [
    "class Classifier(ImageClassificationBase):\n",
    "    def __init__(self,model_transfer):\n",
    "        super(Classifier, self).__init__()\n",
    "        self.eff =  model_transfer\n",
    "\n",
    "    def forward(self, input):\n",
    "        x = self.eff(input)\n",
    "        return x\n"
   ]
  },
  {
   "cell_type": "code",
   "execution_count": 45,
   "id": "06757fe1",
   "metadata": {
    "execution": {
     "iopub.execute_input": "2022-02-07T16:11:06.668045Z",
     "iopub.status.busy": "2022-02-07T16:11:06.667205Z",
     "iopub.status.idle": "2022-02-07T16:11:08.439993Z",
     "shell.execute_reply": "2022-02-07T16:11:08.440400Z",
     "shell.execute_reply.started": "2022-02-07T12:46:15.694080Z"
    },
    "papermill": {
     "duration": 1.85221,
     "end_time": "2022-02-07T16:11:08.440558",
     "exception": false,
     "start_time": "2022-02-07T16:11:06.588348",
     "status": "completed"
    },
    "tags": []
   },
   "outputs": [
    {
     "name": "stderr",
     "output_type": "stream",
     "text": [
      "Downloading: \"https://github.com/lukemelas/EfficientNet-PyTorch/releases/download/1.0/efficientnet-b2-8bb594d6.pth\" to /root/.cache/torch/hub/checkpoints/efficientnet-b2-8bb594d6.pth\n"
     ]
    },
    {
     "data": {
      "application/vnd.jupyter.widget-view+json": {
       "model_id": "f774a96f8ad74389962636b482349098",
       "version_major": 2,
       "version_minor": 0
      },
      "text/plain": [
       "  0%|          | 0.00/35.1M [00:00<?, ?B/s]"
      ]
     },
     "metadata": {},
     "output_type": "display_data"
    },
    {
     "name": "stdout",
     "output_type": "stream",
     "text": [
      "Loaded pretrained weights for efficientnet-b2\n"
     ]
    }
   ],
   "source": [
    "model_transfer= EfficientNet.from_pretrained('efficientnet-b2')"
   ]
  },
  {
   "cell_type": "code",
   "execution_count": 46,
   "id": "df916ad1",
   "metadata": {
    "execution": {
     "iopub.execute_input": "2022-02-07T16:11:08.609500Z",
     "iopub.status.busy": "2022-02-07T16:11:08.608761Z",
     "iopub.status.idle": "2022-02-07T16:11:08.611373Z",
     "shell.execute_reply": "2022-02-07T16:11:08.610932Z",
     "shell.execute_reply.started": "2022-02-07T12:46:18.703399Z"
    },
    "papermill": {
     "duration": 0.087787,
     "end_time": "2022-02-07T16:11:08.611517",
     "exception": false,
     "start_time": "2022-02-07T16:11:08.523730",
     "status": "completed"
    },
    "tags": []
   },
   "outputs": [],
   "source": [
    "#model_transfer"
   ]
  },
  {
   "cell_type": "code",
   "execution_count": 47,
   "id": "c1a3f4c5",
   "metadata": {
    "execution": {
     "iopub.execute_input": "2022-02-07T16:11:08.775012Z",
     "iopub.status.busy": "2022-02-07T16:11:08.774298Z",
     "iopub.status.idle": "2022-02-07T16:11:08.784880Z",
     "shell.execute_reply": "2022-02-07T16:11:08.784456Z",
     "shell.execute_reply.started": "2022-02-07T12:46:18.709045Z"
    },
    "papermill": {
     "duration": 0.091397,
     "end_time": "2022-02-07T16:11:08.784991",
     "exception": false,
     "start_time": "2022-02-07T16:11:08.693594",
     "status": "completed"
    },
    "tags": []
   },
   "outputs": [],
   "source": [
    "\n",
    "in_features = model_transfer._fc.in_features\n",
    "model_transfer._fc = nn.Sequential(\n",
    "    nn.BatchNorm1d(num_features=in_features),    \n",
    "    nn.Linear(in_features, 512),\n",
    "    nn.ReLU(),\n",
    "    nn.BatchNorm1d(512),\n",
    "    nn.Linear(512, 128),\n",
    "    nn.ReLU(),\n",
    "    nn.BatchNorm1d(num_features=128),\n",
    "    nn.Dropout(0.4),\n",
    "    nn.Linear(128, 11),\n",
    "    )\n",
    "        \n",
    "for param in model_transfer.parameters():\n",
    "    param.require_grad = True"
   ]
  },
  {
   "cell_type": "code",
   "execution_count": 48,
   "id": "7f90bafb",
   "metadata": {
    "execution": {
     "iopub.execute_input": "2022-02-07T16:11:08.939184Z",
     "iopub.status.busy": "2022-02-07T16:11:08.937417Z",
     "iopub.status.idle": "2022-02-07T16:11:08.941191Z",
     "shell.execute_reply": "2022-02-07T16:11:08.941548Z",
     "shell.execute_reply.started": "2022-02-07T12:46:19.274227Z"
    },
    "papermill": {
     "duration": 0.08146,
     "end_time": "2022-02-07T16:11:08.941666",
     "exception": false,
     "start_time": "2022-02-07T16:11:08.860206",
     "status": "completed"
    },
    "tags": []
   },
   "outputs": [],
   "source": [
    "\n",
    "    #print(param)"
   ]
  },
  {
   "cell_type": "code",
   "execution_count": 49,
   "id": "f49c80f0",
   "metadata": {
    "execution": {
     "iopub.execute_input": "2022-02-07T16:11:09.096790Z",
     "iopub.status.busy": "2022-02-07T16:11:09.095988Z",
     "iopub.status.idle": "2022-02-07T16:11:09.098026Z",
     "shell.execute_reply": "2022-02-07T16:11:09.098439Z",
     "shell.execute_reply.started": "2022-02-07T12:46:23.427498Z"
    },
    "papermill": {
     "duration": 0.081384,
     "end_time": "2022-02-07T16:11:09.098557",
     "exception": false,
     "start_time": "2022-02-07T16:11:09.017173",
     "status": "completed"
    },
    "tags": []
   },
   "outputs": [],
   "source": [
    "model=Classifier(model_transfer)"
   ]
  },
  {
   "cell_type": "code",
   "execution_count": 50,
   "id": "408d3fff",
   "metadata": {
    "execution": {
     "iopub.execute_input": "2022-02-07T16:11:09.259961Z",
     "iopub.status.busy": "2022-02-07T16:11:09.259432Z",
     "iopub.status.idle": "2022-02-07T16:11:13.162587Z",
     "shell.execute_reply": "2022-02-07T16:11:13.163059Z",
     "shell.execute_reply.started": "2022-02-07T12:47:02.288824Z"
    },
    "papermill": {
     "duration": 3.988407,
     "end_time": "2022-02-07T16:11:13.163240",
     "exception": false,
     "start_time": "2022-02-07T16:11:09.174833",
     "status": "completed"
    },
    "tags": []
   },
   "outputs": [
    {
     "name": "stdout",
     "output_type": "stream",
     "text": [
      "india\n"
     ]
    }
   ],
   "source": [
    "model.load_state_dict(torch.load('../input/eff-non-weight-models/res_cust_2.pth'))\n",
    "print(\"india\")"
   ]
  },
  {
   "cell_type": "code",
   "execution_count": null,
   "id": "684226a2",
   "metadata": {
    "papermill": {
     "duration": 0.082626,
     "end_time": "2022-02-07T16:11:13.331185",
     "exception": false,
     "start_time": "2022-02-07T16:11:13.248559",
     "status": "completed"
    },
    "tags": []
   },
   "outputs": [],
   "source": []
  },
  {
   "cell_type": "code",
   "execution_count": 51,
   "id": "8c274d60",
   "metadata": {
    "execution": {
     "iopub.execute_input": "2022-02-07T16:11:13.496242Z",
     "iopub.status.busy": "2022-02-07T16:11:13.495487Z",
     "iopub.status.idle": "2022-02-07T16:11:13.497896Z",
     "shell.execute_reply": "2022-02-07T16:11:13.497471Z",
     "shell.execute_reply.started": "2022-02-07T12:47:06.777742Z"
    },
    "papermill": {
     "duration": 0.086305,
     "end_time": "2022-02-07T16:11:13.498009",
     "exception": false,
     "start_time": "2022-02-07T16:11:13.411704",
     "status": "completed"
    },
    "tags": []
   },
   "outputs": [],
   "source": [
    "def get_default_device():\n",
    "    \"\"\"Pick GPU if available, else CPU\"\"\"\n",
    "    if torch.cuda.is_available():\n",
    "        return torch.device('cuda')\n",
    "    else:\n",
    "        return torch.device('cpu')\n",
    "    \n",
    "def to_device(data, device):\n",
    "    \"\"\"Move tensor(s) to chosen device\"\"\"\n",
    "    if isinstance(data, (list,tuple)):\n",
    "        return [to_device(x, device) for x in data]\n",
    "    return data.to(device, non_blocking=True)\n",
    "\n",
    "class DeviceDataLoader():\n",
    "    \"\"\"Wrap a dataloader to move data to a device\"\"\"\n",
    "    def __init__(self, dl, device):\n",
    "        self.dl = dl\n",
    "        self.device = device\n",
    "        \n",
    "    def __iter__(self):\n",
    "        \"\"\"Yield a batch of data after moving it to device\"\"\"\n",
    "        for b in self.dl: \n",
    "            yield to_device(b, self.device)\n",
    "\n",
    "    def __len__(self):\n",
    "        \"\"\"Number of batches\"\"\"\n",
    "        return len(self.dl)"
   ]
  },
  {
   "cell_type": "code",
   "execution_count": 52,
   "id": "1944a8d5",
   "metadata": {
    "execution": {
     "iopub.execute_input": "2022-02-07T16:11:13.656077Z",
     "iopub.status.busy": "2022-02-07T16:11:13.655437Z",
     "iopub.status.idle": "2022-02-07T16:11:13.657949Z",
     "shell.execute_reply": "2022-02-07T16:11:13.658432Z",
     "shell.execute_reply.started": "2022-02-07T12:47:07.662655Z"
    },
    "papermill": {
     "duration": 0.083889,
     "end_time": "2022-02-07T16:11:13.658555",
     "exception": false,
     "start_time": "2022-02-07T16:11:13.574666",
     "status": "completed"
    },
    "tags": []
   },
   "outputs": [
    {
     "data": {
      "text/plain": [
       "device(type='cuda')"
      ]
     },
     "execution_count": 52,
     "metadata": {},
     "output_type": "execute_result"
    }
   ],
   "source": [
    "device = get_default_device()\n",
    "device"
   ]
  },
  {
   "cell_type": "code",
   "execution_count": 53,
   "id": "2edae368",
   "metadata": {
    "execution": {
     "iopub.execute_input": "2022-02-07T16:11:13.814521Z",
     "iopub.status.busy": "2022-02-07T16:11:13.813765Z",
     "iopub.status.idle": "2022-02-07T16:11:13.816138Z",
     "shell.execute_reply": "2022-02-07T16:11:13.815709Z",
     "shell.execute_reply.started": "2022-02-07T12:47:09.727540Z"
    },
    "papermill": {
     "duration": 0.081667,
     "end_time": "2022-02-07T16:11:13.816239",
     "exception": false,
     "start_time": "2022-02-07T16:11:13.734572",
     "status": "completed"
    },
    "tags": []
   },
   "outputs": [],
   "source": [
    "train_dl = DeviceDataLoader(train_dl, device)\n",
    "#val_dl = DeviceDataLoader(val_dl, device)"
   ]
  },
  {
   "cell_type": "code",
   "execution_count": 54,
   "id": "301280cd",
   "metadata": {
    "execution": {
     "iopub.execute_input": "2022-02-07T16:11:13.973267Z",
     "iopub.status.busy": "2022-02-07T16:11:13.972700Z",
     "iopub.status.idle": "2022-02-07T16:11:13.975189Z",
     "shell.execute_reply": "2022-02-07T16:11:13.975598Z",
     "shell.execute_reply.started": "2022-02-07T12:47:10.020905Z"
    },
    "papermill": {
     "duration": 0.083382,
     "end_time": "2022-02-07T16:11:13.975747",
     "exception": false,
     "start_time": "2022-02-07T16:11:13.892365",
     "status": "completed"
    },
    "tags": []
   },
   "outputs": [
    {
     "data": {
      "text/plain": [
       "<__main__.DeviceDataLoader at 0x7faf5b325050>"
      ]
     },
     "execution_count": 54,
     "metadata": {},
     "output_type": "execute_result"
    }
   ],
   "source": [
    "train_dl"
   ]
  },
  {
   "cell_type": "code",
   "execution_count": 55,
   "id": "6ae35bf5",
   "metadata": {
    "execution": {
     "iopub.execute_input": "2022-02-07T16:11:14.136377Z",
     "iopub.status.busy": "2022-02-07T16:11:14.135648Z",
     "iopub.status.idle": "2022-02-07T16:11:14.138163Z",
     "shell.execute_reply": "2022-02-07T16:11:14.137643Z",
     "shell.execute_reply.started": "2022-02-07T12:47:13.050779Z"
    },
    "papermill": {
     "duration": 0.085696,
     "end_time": "2022-02-07T16:11:14.138267",
     "exception": false,
     "start_time": "2022-02-07T16:11:14.052571",
     "status": "completed"
    },
    "tags": []
   },
   "outputs": [],
   "source": [
    "#val_dl"
   ]
  },
  {
   "cell_type": "code",
   "execution_count": 56,
   "id": "832850c7",
   "metadata": {
    "execution": {
     "iopub.execute_input": "2022-02-07T16:11:14.406276Z",
     "iopub.status.busy": "2022-02-07T16:11:14.405416Z",
     "iopub.status.idle": "2022-02-07T16:11:14.408824Z",
     "shell.execute_reply": "2022-02-07T16:11:14.407018Z",
     "shell.execute_reply.started": "2022-02-07T12:47:14.063230Z"
    },
    "papermill": {
     "duration": 0.134378,
     "end_time": "2022-02-07T16:11:14.408989",
     "exception": false,
     "start_time": "2022-02-07T16:11:14.274611",
     "status": "completed"
    },
    "tags": []
   },
   "outputs": [
    {
     "data": {
      "text/plain": [
       "True"
      ]
     },
     "execution_count": 56,
     "metadata": {},
     "output_type": "execute_result"
    }
   ],
   "source": [
    "torch.cuda.is_available()"
   ]
  },
  {
   "cell_type": "code",
   "execution_count": 57,
   "id": "fcb95349",
   "metadata": {
    "execution": {
     "iopub.execute_input": "2022-02-07T16:11:14.669779Z",
     "iopub.status.busy": "2022-02-07T16:11:14.662180Z",
     "iopub.status.idle": "2022-02-07T16:11:14.710357Z",
     "shell.execute_reply": "2022-02-07T16:11:14.711374Z",
     "shell.execute_reply.started": "2022-02-07T12:47:16.481286Z"
    },
    "papermill": {
     "duration": 0.179808,
     "end_time": "2022-02-07T16:11:14.711622",
     "exception": false,
     "start_time": "2022-02-07T16:11:14.531814",
     "status": "completed"
    },
    "tags": []
   },
   "outputs": [
    {
     "data": {
      "text/plain": [
       "Classifier(\n",
       "  (eff): EfficientNet(\n",
       "    (_conv_stem): Conv2dStaticSamePadding(\n",
       "      3, 32, kernel_size=(3, 3), stride=(2, 2), bias=False\n",
       "      (static_padding): ZeroPad2d(padding=(0, 1, 0, 1), value=0.0)\n",
       "    )\n",
       "    (_bn0): BatchNorm2d(32, eps=0.001, momentum=0.010000000000000009, affine=True, track_running_stats=True)\n",
       "    (_blocks): ModuleList(\n",
       "      (0): MBConvBlock(\n",
       "        (_depthwise_conv): Conv2dStaticSamePadding(\n",
       "          32, 32, kernel_size=(3, 3), stride=[1, 1], groups=32, bias=False\n",
       "          (static_padding): ZeroPad2d(padding=(1, 1, 1, 1), value=0.0)\n",
       "        )\n",
       "        (_bn1): BatchNorm2d(32, eps=0.001, momentum=0.010000000000000009, affine=True, track_running_stats=True)\n",
       "        (_se_reduce): Conv2dStaticSamePadding(\n",
       "          32, 8, kernel_size=(1, 1), stride=(1, 1)\n",
       "          (static_padding): Identity()\n",
       "        )\n",
       "        (_se_expand): Conv2dStaticSamePadding(\n",
       "          8, 32, kernel_size=(1, 1), stride=(1, 1)\n",
       "          (static_padding): Identity()\n",
       "        )\n",
       "        (_project_conv): Conv2dStaticSamePadding(\n",
       "          32, 16, kernel_size=(1, 1), stride=(1, 1), bias=False\n",
       "          (static_padding): Identity()\n",
       "        )\n",
       "        (_bn2): BatchNorm2d(16, eps=0.001, momentum=0.010000000000000009, affine=True, track_running_stats=True)\n",
       "        (_swish): MemoryEfficientSwish()\n",
       "      )\n",
       "      (1): MBConvBlock(\n",
       "        (_depthwise_conv): Conv2dStaticSamePadding(\n",
       "          16, 16, kernel_size=(3, 3), stride=(1, 1), groups=16, bias=False\n",
       "          (static_padding): ZeroPad2d(padding=(1, 1, 1, 1), value=0.0)\n",
       "        )\n",
       "        (_bn1): BatchNorm2d(16, eps=0.001, momentum=0.010000000000000009, affine=True, track_running_stats=True)\n",
       "        (_se_reduce): Conv2dStaticSamePadding(\n",
       "          16, 4, kernel_size=(1, 1), stride=(1, 1)\n",
       "          (static_padding): Identity()\n",
       "        )\n",
       "        (_se_expand): Conv2dStaticSamePadding(\n",
       "          4, 16, kernel_size=(1, 1), stride=(1, 1)\n",
       "          (static_padding): Identity()\n",
       "        )\n",
       "        (_project_conv): Conv2dStaticSamePadding(\n",
       "          16, 16, kernel_size=(1, 1), stride=(1, 1), bias=False\n",
       "          (static_padding): Identity()\n",
       "        )\n",
       "        (_bn2): BatchNorm2d(16, eps=0.001, momentum=0.010000000000000009, affine=True, track_running_stats=True)\n",
       "        (_swish): MemoryEfficientSwish()\n",
       "      )\n",
       "      (2): MBConvBlock(\n",
       "        (_expand_conv): Conv2dStaticSamePadding(\n",
       "          16, 96, kernel_size=(1, 1), stride=(1, 1), bias=False\n",
       "          (static_padding): Identity()\n",
       "        )\n",
       "        (_bn0): BatchNorm2d(96, eps=0.001, momentum=0.010000000000000009, affine=True, track_running_stats=True)\n",
       "        (_depthwise_conv): Conv2dStaticSamePadding(\n",
       "          96, 96, kernel_size=(3, 3), stride=[2, 2], groups=96, bias=False\n",
       "          (static_padding): ZeroPad2d(padding=(0, 1, 0, 1), value=0.0)\n",
       "        )\n",
       "        (_bn1): BatchNorm2d(96, eps=0.001, momentum=0.010000000000000009, affine=True, track_running_stats=True)\n",
       "        (_se_reduce): Conv2dStaticSamePadding(\n",
       "          96, 4, kernel_size=(1, 1), stride=(1, 1)\n",
       "          (static_padding): Identity()\n",
       "        )\n",
       "        (_se_expand): Conv2dStaticSamePadding(\n",
       "          4, 96, kernel_size=(1, 1), stride=(1, 1)\n",
       "          (static_padding): Identity()\n",
       "        )\n",
       "        (_project_conv): Conv2dStaticSamePadding(\n",
       "          96, 24, kernel_size=(1, 1), stride=(1, 1), bias=False\n",
       "          (static_padding): Identity()\n",
       "        )\n",
       "        (_bn2): BatchNorm2d(24, eps=0.001, momentum=0.010000000000000009, affine=True, track_running_stats=True)\n",
       "        (_swish): MemoryEfficientSwish()\n",
       "      )\n",
       "      (3): MBConvBlock(\n",
       "        (_expand_conv): Conv2dStaticSamePadding(\n",
       "          24, 144, kernel_size=(1, 1), stride=(1, 1), bias=False\n",
       "          (static_padding): Identity()\n",
       "        )\n",
       "        (_bn0): BatchNorm2d(144, eps=0.001, momentum=0.010000000000000009, affine=True, track_running_stats=True)\n",
       "        (_depthwise_conv): Conv2dStaticSamePadding(\n",
       "          144, 144, kernel_size=(3, 3), stride=(1, 1), groups=144, bias=False\n",
       "          (static_padding): ZeroPad2d(padding=(1, 1, 1, 1), value=0.0)\n",
       "        )\n",
       "        (_bn1): BatchNorm2d(144, eps=0.001, momentum=0.010000000000000009, affine=True, track_running_stats=True)\n",
       "        (_se_reduce): Conv2dStaticSamePadding(\n",
       "          144, 6, kernel_size=(1, 1), stride=(1, 1)\n",
       "          (static_padding): Identity()\n",
       "        )\n",
       "        (_se_expand): Conv2dStaticSamePadding(\n",
       "          6, 144, kernel_size=(1, 1), stride=(1, 1)\n",
       "          (static_padding): Identity()\n",
       "        )\n",
       "        (_project_conv): Conv2dStaticSamePadding(\n",
       "          144, 24, kernel_size=(1, 1), stride=(1, 1), bias=False\n",
       "          (static_padding): Identity()\n",
       "        )\n",
       "        (_bn2): BatchNorm2d(24, eps=0.001, momentum=0.010000000000000009, affine=True, track_running_stats=True)\n",
       "        (_swish): MemoryEfficientSwish()\n",
       "      )\n",
       "      (4): MBConvBlock(\n",
       "        (_expand_conv): Conv2dStaticSamePadding(\n",
       "          24, 144, kernel_size=(1, 1), stride=(1, 1), bias=False\n",
       "          (static_padding): Identity()\n",
       "        )\n",
       "        (_bn0): BatchNorm2d(144, eps=0.001, momentum=0.010000000000000009, affine=True, track_running_stats=True)\n",
       "        (_depthwise_conv): Conv2dStaticSamePadding(\n",
       "          144, 144, kernel_size=(3, 3), stride=(1, 1), groups=144, bias=False\n",
       "          (static_padding): ZeroPad2d(padding=(1, 1, 1, 1), value=0.0)\n",
       "        )\n",
       "        (_bn1): BatchNorm2d(144, eps=0.001, momentum=0.010000000000000009, affine=True, track_running_stats=True)\n",
       "        (_se_reduce): Conv2dStaticSamePadding(\n",
       "          144, 6, kernel_size=(1, 1), stride=(1, 1)\n",
       "          (static_padding): Identity()\n",
       "        )\n",
       "        (_se_expand): Conv2dStaticSamePadding(\n",
       "          6, 144, kernel_size=(1, 1), stride=(1, 1)\n",
       "          (static_padding): Identity()\n",
       "        )\n",
       "        (_project_conv): Conv2dStaticSamePadding(\n",
       "          144, 24, kernel_size=(1, 1), stride=(1, 1), bias=False\n",
       "          (static_padding): Identity()\n",
       "        )\n",
       "        (_bn2): BatchNorm2d(24, eps=0.001, momentum=0.010000000000000009, affine=True, track_running_stats=True)\n",
       "        (_swish): MemoryEfficientSwish()\n",
       "      )\n",
       "      (5): MBConvBlock(\n",
       "        (_expand_conv): Conv2dStaticSamePadding(\n",
       "          24, 144, kernel_size=(1, 1), stride=(1, 1), bias=False\n",
       "          (static_padding): Identity()\n",
       "        )\n",
       "        (_bn0): BatchNorm2d(144, eps=0.001, momentum=0.010000000000000009, affine=True, track_running_stats=True)\n",
       "        (_depthwise_conv): Conv2dStaticSamePadding(\n",
       "          144, 144, kernel_size=(5, 5), stride=[2, 2], groups=144, bias=False\n",
       "          (static_padding): ZeroPad2d(padding=(2, 2, 2, 2), value=0.0)\n",
       "        )\n",
       "        (_bn1): BatchNorm2d(144, eps=0.001, momentum=0.010000000000000009, affine=True, track_running_stats=True)\n",
       "        (_se_reduce): Conv2dStaticSamePadding(\n",
       "          144, 6, kernel_size=(1, 1), stride=(1, 1)\n",
       "          (static_padding): Identity()\n",
       "        )\n",
       "        (_se_expand): Conv2dStaticSamePadding(\n",
       "          6, 144, kernel_size=(1, 1), stride=(1, 1)\n",
       "          (static_padding): Identity()\n",
       "        )\n",
       "        (_project_conv): Conv2dStaticSamePadding(\n",
       "          144, 48, kernel_size=(1, 1), stride=(1, 1), bias=False\n",
       "          (static_padding): Identity()\n",
       "        )\n",
       "        (_bn2): BatchNorm2d(48, eps=0.001, momentum=0.010000000000000009, affine=True, track_running_stats=True)\n",
       "        (_swish): MemoryEfficientSwish()\n",
       "      )\n",
       "      (6): MBConvBlock(\n",
       "        (_expand_conv): Conv2dStaticSamePadding(\n",
       "          48, 288, kernel_size=(1, 1), stride=(1, 1), bias=False\n",
       "          (static_padding): Identity()\n",
       "        )\n",
       "        (_bn0): BatchNorm2d(288, eps=0.001, momentum=0.010000000000000009, affine=True, track_running_stats=True)\n",
       "        (_depthwise_conv): Conv2dStaticSamePadding(\n",
       "          288, 288, kernel_size=(5, 5), stride=(1, 1), groups=288, bias=False\n",
       "          (static_padding): ZeroPad2d(padding=(2, 2, 2, 2), value=0.0)\n",
       "        )\n",
       "        (_bn1): BatchNorm2d(288, eps=0.001, momentum=0.010000000000000009, affine=True, track_running_stats=True)\n",
       "        (_se_reduce): Conv2dStaticSamePadding(\n",
       "          288, 12, kernel_size=(1, 1), stride=(1, 1)\n",
       "          (static_padding): Identity()\n",
       "        )\n",
       "        (_se_expand): Conv2dStaticSamePadding(\n",
       "          12, 288, kernel_size=(1, 1), stride=(1, 1)\n",
       "          (static_padding): Identity()\n",
       "        )\n",
       "        (_project_conv): Conv2dStaticSamePadding(\n",
       "          288, 48, kernel_size=(1, 1), stride=(1, 1), bias=False\n",
       "          (static_padding): Identity()\n",
       "        )\n",
       "        (_bn2): BatchNorm2d(48, eps=0.001, momentum=0.010000000000000009, affine=True, track_running_stats=True)\n",
       "        (_swish): MemoryEfficientSwish()\n",
       "      )\n",
       "      (7): MBConvBlock(\n",
       "        (_expand_conv): Conv2dStaticSamePadding(\n",
       "          48, 288, kernel_size=(1, 1), stride=(1, 1), bias=False\n",
       "          (static_padding): Identity()\n",
       "        )\n",
       "        (_bn0): BatchNorm2d(288, eps=0.001, momentum=0.010000000000000009, affine=True, track_running_stats=True)\n",
       "        (_depthwise_conv): Conv2dStaticSamePadding(\n",
       "          288, 288, kernel_size=(5, 5), stride=(1, 1), groups=288, bias=False\n",
       "          (static_padding): ZeroPad2d(padding=(2, 2, 2, 2), value=0.0)\n",
       "        )\n",
       "        (_bn1): BatchNorm2d(288, eps=0.001, momentum=0.010000000000000009, affine=True, track_running_stats=True)\n",
       "        (_se_reduce): Conv2dStaticSamePadding(\n",
       "          288, 12, kernel_size=(1, 1), stride=(1, 1)\n",
       "          (static_padding): Identity()\n",
       "        )\n",
       "        (_se_expand): Conv2dStaticSamePadding(\n",
       "          12, 288, kernel_size=(1, 1), stride=(1, 1)\n",
       "          (static_padding): Identity()\n",
       "        )\n",
       "        (_project_conv): Conv2dStaticSamePadding(\n",
       "          288, 48, kernel_size=(1, 1), stride=(1, 1), bias=False\n",
       "          (static_padding): Identity()\n",
       "        )\n",
       "        (_bn2): BatchNorm2d(48, eps=0.001, momentum=0.010000000000000009, affine=True, track_running_stats=True)\n",
       "        (_swish): MemoryEfficientSwish()\n",
       "      )\n",
       "      (8): MBConvBlock(\n",
       "        (_expand_conv): Conv2dStaticSamePadding(\n",
       "          48, 288, kernel_size=(1, 1), stride=(1, 1), bias=False\n",
       "          (static_padding): Identity()\n",
       "        )\n",
       "        (_bn0): BatchNorm2d(288, eps=0.001, momentum=0.010000000000000009, affine=True, track_running_stats=True)\n",
       "        (_depthwise_conv): Conv2dStaticSamePadding(\n",
       "          288, 288, kernel_size=(3, 3), stride=[2, 2], groups=288, bias=False\n",
       "          (static_padding): ZeroPad2d(padding=(1, 1, 1, 1), value=0.0)\n",
       "        )\n",
       "        (_bn1): BatchNorm2d(288, eps=0.001, momentum=0.010000000000000009, affine=True, track_running_stats=True)\n",
       "        (_se_reduce): Conv2dStaticSamePadding(\n",
       "          288, 12, kernel_size=(1, 1), stride=(1, 1)\n",
       "          (static_padding): Identity()\n",
       "        )\n",
       "        (_se_expand): Conv2dStaticSamePadding(\n",
       "          12, 288, kernel_size=(1, 1), stride=(1, 1)\n",
       "          (static_padding): Identity()\n",
       "        )\n",
       "        (_project_conv): Conv2dStaticSamePadding(\n",
       "          288, 88, kernel_size=(1, 1), stride=(1, 1), bias=False\n",
       "          (static_padding): Identity()\n",
       "        )\n",
       "        (_bn2): BatchNorm2d(88, eps=0.001, momentum=0.010000000000000009, affine=True, track_running_stats=True)\n",
       "        (_swish): MemoryEfficientSwish()\n",
       "      )\n",
       "      (9): MBConvBlock(\n",
       "        (_expand_conv): Conv2dStaticSamePadding(\n",
       "          88, 528, kernel_size=(1, 1), stride=(1, 1), bias=False\n",
       "          (static_padding): Identity()\n",
       "        )\n",
       "        (_bn0): BatchNorm2d(528, eps=0.001, momentum=0.010000000000000009, affine=True, track_running_stats=True)\n",
       "        (_depthwise_conv): Conv2dStaticSamePadding(\n",
       "          528, 528, kernel_size=(3, 3), stride=(1, 1), groups=528, bias=False\n",
       "          (static_padding): ZeroPad2d(padding=(1, 1, 1, 1), value=0.0)\n",
       "        )\n",
       "        (_bn1): BatchNorm2d(528, eps=0.001, momentum=0.010000000000000009, affine=True, track_running_stats=True)\n",
       "        (_se_reduce): Conv2dStaticSamePadding(\n",
       "          528, 22, kernel_size=(1, 1), stride=(1, 1)\n",
       "          (static_padding): Identity()\n",
       "        )\n",
       "        (_se_expand): Conv2dStaticSamePadding(\n",
       "          22, 528, kernel_size=(1, 1), stride=(1, 1)\n",
       "          (static_padding): Identity()\n",
       "        )\n",
       "        (_project_conv): Conv2dStaticSamePadding(\n",
       "          528, 88, kernel_size=(1, 1), stride=(1, 1), bias=False\n",
       "          (static_padding): Identity()\n",
       "        )\n",
       "        (_bn2): BatchNorm2d(88, eps=0.001, momentum=0.010000000000000009, affine=True, track_running_stats=True)\n",
       "        (_swish): MemoryEfficientSwish()\n",
       "      )\n",
       "      (10): MBConvBlock(\n",
       "        (_expand_conv): Conv2dStaticSamePadding(\n",
       "          88, 528, kernel_size=(1, 1), stride=(1, 1), bias=False\n",
       "          (static_padding): Identity()\n",
       "        )\n",
       "        (_bn0): BatchNorm2d(528, eps=0.001, momentum=0.010000000000000009, affine=True, track_running_stats=True)\n",
       "        (_depthwise_conv): Conv2dStaticSamePadding(\n",
       "          528, 528, kernel_size=(3, 3), stride=(1, 1), groups=528, bias=False\n",
       "          (static_padding): ZeroPad2d(padding=(1, 1, 1, 1), value=0.0)\n",
       "        )\n",
       "        (_bn1): BatchNorm2d(528, eps=0.001, momentum=0.010000000000000009, affine=True, track_running_stats=True)\n",
       "        (_se_reduce): Conv2dStaticSamePadding(\n",
       "          528, 22, kernel_size=(1, 1), stride=(1, 1)\n",
       "          (static_padding): Identity()\n",
       "        )\n",
       "        (_se_expand): Conv2dStaticSamePadding(\n",
       "          22, 528, kernel_size=(1, 1), stride=(1, 1)\n",
       "          (static_padding): Identity()\n",
       "        )\n",
       "        (_project_conv): Conv2dStaticSamePadding(\n",
       "          528, 88, kernel_size=(1, 1), stride=(1, 1), bias=False\n",
       "          (static_padding): Identity()\n",
       "        )\n",
       "        (_bn2): BatchNorm2d(88, eps=0.001, momentum=0.010000000000000009, affine=True, track_running_stats=True)\n",
       "        (_swish): MemoryEfficientSwish()\n",
       "      )\n",
       "      (11): MBConvBlock(\n",
       "        (_expand_conv): Conv2dStaticSamePadding(\n",
       "          88, 528, kernel_size=(1, 1), stride=(1, 1), bias=False\n",
       "          (static_padding): Identity()\n",
       "        )\n",
       "        (_bn0): BatchNorm2d(528, eps=0.001, momentum=0.010000000000000009, affine=True, track_running_stats=True)\n",
       "        (_depthwise_conv): Conv2dStaticSamePadding(\n",
       "          528, 528, kernel_size=(3, 3), stride=(1, 1), groups=528, bias=False\n",
       "          (static_padding): ZeroPad2d(padding=(1, 1, 1, 1), value=0.0)\n",
       "        )\n",
       "        (_bn1): BatchNorm2d(528, eps=0.001, momentum=0.010000000000000009, affine=True, track_running_stats=True)\n",
       "        (_se_reduce): Conv2dStaticSamePadding(\n",
       "          528, 22, kernel_size=(1, 1), stride=(1, 1)\n",
       "          (static_padding): Identity()\n",
       "        )\n",
       "        (_se_expand): Conv2dStaticSamePadding(\n",
       "          22, 528, kernel_size=(1, 1), stride=(1, 1)\n",
       "          (static_padding): Identity()\n",
       "        )\n",
       "        (_project_conv): Conv2dStaticSamePadding(\n",
       "          528, 88, kernel_size=(1, 1), stride=(1, 1), bias=False\n",
       "          (static_padding): Identity()\n",
       "        )\n",
       "        (_bn2): BatchNorm2d(88, eps=0.001, momentum=0.010000000000000009, affine=True, track_running_stats=True)\n",
       "        (_swish): MemoryEfficientSwish()\n",
       "      )\n",
       "      (12): MBConvBlock(\n",
       "        (_expand_conv): Conv2dStaticSamePadding(\n",
       "          88, 528, kernel_size=(1, 1), stride=(1, 1), bias=False\n",
       "          (static_padding): Identity()\n",
       "        )\n",
       "        (_bn0): BatchNorm2d(528, eps=0.001, momentum=0.010000000000000009, affine=True, track_running_stats=True)\n",
       "        (_depthwise_conv): Conv2dStaticSamePadding(\n",
       "          528, 528, kernel_size=(5, 5), stride=[1, 1], groups=528, bias=False\n",
       "          (static_padding): ZeroPad2d(padding=(2, 2, 2, 2), value=0.0)\n",
       "        )\n",
       "        (_bn1): BatchNorm2d(528, eps=0.001, momentum=0.010000000000000009, affine=True, track_running_stats=True)\n",
       "        (_se_reduce): Conv2dStaticSamePadding(\n",
       "          528, 22, kernel_size=(1, 1), stride=(1, 1)\n",
       "          (static_padding): Identity()\n",
       "        )\n",
       "        (_se_expand): Conv2dStaticSamePadding(\n",
       "          22, 528, kernel_size=(1, 1), stride=(1, 1)\n",
       "          (static_padding): Identity()\n",
       "        )\n",
       "        (_project_conv): Conv2dStaticSamePadding(\n",
       "          528, 120, kernel_size=(1, 1), stride=(1, 1), bias=False\n",
       "          (static_padding): Identity()\n",
       "        )\n",
       "        (_bn2): BatchNorm2d(120, eps=0.001, momentum=0.010000000000000009, affine=True, track_running_stats=True)\n",
       "        (_swish): MemoryEfficientSwish()\n",
       "      )\n",
       "      (13): MBConvBlock(\n",
       "        (_expand_conv): Conv2dStaticSamePadding(\n",
       "          120, 720, kernel_size=(1, 1), stride=(1, 1), bias=False\n",
       "          (static_padding): Identity()\n",
       "        )\n",
       "        (_bn0): BatchNorm2d(720, eps=0.001, momentum=0.010000000000000009, affine=True, track_running_stats=True)\n",
       "        (_depthwise_conv): Conv2dStaticSamePadding(\n",
       "          720, 720, kernel_size=(5, 5), stride=(1, 1), groups=720, bias=False\n",
       "          (static_padding): ZeroPad2d(padding=(2, 2, 2, 2), value=0.0)\n",
       "        )\n",
       "        (_bn1): BatchNorm2d(720, eps=0.001, momentum=0.010000000000000009, affine=True, track_running_stats=True)\n",
       "        (_se_reduce): Conv2dStaticSamePadding(\n",
       "          720, 30, kernel_size=(1, 1), stride=(1, 1)\n",
       "          (static_padding): Identity()\n",
       "        )\n",
       "        (_se_expand): Conv2dStaticSamePadding(\n",
       "          30, 720, kernel_size=(1, 1), stride=(1, 1)\n",
       "          (static_padding): Identity()\n",
       "        )\n",
       "        (_project_conv): Conv2dStaticSamePadding(\n",
       "          720, 120, kernel_size=(1, 1), stride=(1, 1), bias=False\n",
       "          (static_padding): Identity()\n",
       "        )\n",
       "        (_bn2): BatchNorm2d(120, eps=0.001, momentum=0.010000000000000009, affine=True, track_running_stats=True)\n",
       "        (_swish): MemoryEfficientSwish()\n",
       "      )\n",
       "      (14): MBConvBlock(\n",
       "        (_expand_conv): Conv2dStaticSamePadding(\n",
       "          120, 720, kernel_size=(1, 1), stride=(1, 1), bias=False\n",
       "          (static_padding): Identity()\n",
       "        )\n",
       "        (_bn0): BatchNorm2d(720, eps=0.001, momentum=0.010000000000000009, affine=True, track_running_stats=True)\n",
       "        (_depthwise_conv): Conv2dStaticSamePadding(\n",
       "          720, 720, kernel_size=(5, 5), stride=(1, 1), groups=720, bias=False\n",
       "          (static_padding): ZeroPad2d(padding=(2, 2, 2, 2), value=0.0)\n",
       "        )\n",
       "        (_bn1): BatchNorm2d(720, eps=0.001, momentum=0.010000000000000009, affine=True, track_running_stats=True)\n",
       "        (_se_reduce): Conv2dStaticSamePadding(\n",
       "          720, 30, kernel_size=(1, 1), stride=(1, 1)\n",
       "          (static_padding): Identity()\n",
       "        )\n",
       "        (_se_expand): Conv2dStaticSamePadding(\n",
       "          30, 720, kernel_size=(1, 1), stride=(1, 1)\n",
       "          (static_padding): Identity()\n",
       "        )\n",
       "        (_project_conv): Conv2dStaticSamePadding(\n",
       "          720, 120, kernel_size=(1, 1), stride=(1, 1), bias=False\n",
       "          (static_padding): Identity()\n",
       "        )\n",
       "        (_bn2): BatchNorm2d(120, eps=0.001, momentum=0.010000000000000009, affine=True, track_running_stats=True)\n",
       "        (_swish): MemoryEfficientSwish()\n",
       "      )\n",
       "      (15): MBConvBlock(\n",
       "        (_expand_conv): Conv2dStaticSamePadding(\n",
       "          120, 720, kernel_size=(1, 1), stride=(1, 1), bias=False\n",
       "          (static_padding): Identity()\n",
       "        )\n",
       "        (_bn0): BatchNorm2d(720, eps=0.001, momentum=0.010000000000000009, affine=True, track_running_stats=True)\n",
       "        (_depthwise_conv): Conv2dStaticSamePadding(\n",
       "          720, 720, kernel_size=(5, 5), stride=(1, 1), groups=720, bias=False\n",
       "          (static_padding): ZeroPad2d(padding=(2, 2, 2, 2), value=0.0)\n",
       "        )\n",
       "        (_bn1): BatchNorm2d(720, eps=0.001, momentum=0.010000000000000009, affine=True, track_running_stats=True)\n",
       "        (_se_reduce): Conv2dStaticSamePadding(\n",
       "          720, 30, kernel_size=(1, 1), stride=(1, 1)\n",
       "          (static_padding): Identity()\n",
       "        )\n",
       "        (_se_expand): Conv2dStaticSamePadding(\n",
       "          30, 720, kernel_size=(1, 1), stride=(1, 1)\n",
       "          (static_padding): Identity()\n",
       "        )\n",
       "        (_project_conv): Conv2dStaticSamePadding(\n",
       "          720, 120, kernel_size=(1, 1), stride=(1, 1), bias=False\n",
       "          (static_padding): Identity()\n",
       "        )\n",
       "        (_bn2): BatchNorm2d(120, eps=0.001, momentum=0.010000000000000009, affine=True, track_running_stats=True)\n",
       "        (_swish): MemoryEfficientSwish()\n",
       "      )\n",
       "      (16): MBConvBlock(\n",
       "        (_expand_conv): Conv2dStaticSamePadding(\n",
       "          120, 720, kernel_size=(1, 1), stride=(1, 1), bias=False\n",
       "          (static_padding): Identity()\n",
       "        )\n",
       "        (_bn0): BatchNorm2d(720, eps=0.001, momentum=0.010000000000000009, affine=True, track_running_stats=True)\n",
       "        (_depthwise_conv): Conv2dStaticSamePadding(\n",
       "          720, 720, kernel_size=(5, 5), stride=[2, 2], groups=720, bias=False\n",
       "          (static_padding): ZeroPad2d(padding=(2, 2, 2, 2), value=0.0)\n",
       "        )\n",
       "        (_bn1): BatchNorm2d(720, eps=0.001, momentum=0.010000000000000009, affine=True, track_running_stats=True)\n",
       "        (_se_reduce): Conv2dStaticSamePadding(\n",
       "          720, 30, kernel_size=(1, 1), stride=(1, 1)\n",
       "          (static_padding): Identity()\n",
       "        )\n",
       "        (_se_expand): Conv2dStaticSamePadding(\n",
       "          30, 720, kernel_size=(1, 1), stride=(1, 1)\n",
       "          (static_padding): Identity()\n",
       "        )\n",
       "        (_project_conv): Conv2dStaticSamePadding(\n",
       "          720, 208, kernel_size=(1, 1), stride=(1, 1), bias=False\n",
       "          (static_padding): Identity()\n",
       "        )\n",
       "        (_bn2): BatchNorm2d(208, eps=0.001, momentum=0.010000000000000009, affine=True, track_running_stats=True)\n",
       "        (_swish): MemoryEfficientSwish()\n",
       "      )\n",
       "      (17): MBConvBlock(\n",
       "        (_expand_conv): Conv2dStaticSamePadding(\n",
       "          208, 1248, kernel_size=(1, 1), stride=(1, 1), bias=False\n",
       "          (static_padding): Identity()\n",
       "        )\n",
       "        (_bn0): BatchNorm2d(1248, eps=0.001, momentum=0.010000000000000009, affine=True, track_running_stats=True)\n",
       "        (_depthwise_conv): Conv2dStaticSamePadding(\n",
       "          1248, 1248, kernel_size=(5, 5), stride=(1, 1), groups=1248, bias=False\n",
       "          (static_padding): ZeroPad2d(padding=(2, 2, 2, 2), value=0.0)\n",
       "        )\n",
       "        (_bn1): BatchNorm2d(1248, eps=0.001, momentum=0.010000000000000009, affine=True, track_running_stats=True)\n",
       "        (_se_reduce): Conv2dStaticSamePadding(\n",
       "          1248, 52, kernel_size=(1, 1), stride=(1, 1)\n",
       "          (static_padding): Identity()\n",
       "        )\n",
       "        (_se_expand): Conv2dStaticSamePadding(\n",
       "          52, 1248, kernel_size=(1, 1), stride=(1, 1)\n",
       "          (static_padding): Identity()\n",
       "        )\n",
       "        (_project_conv): Conv2dStaticSamePadding(\n",
       "          1248, 208, kernel_size=(1, 1), stride=(1, 1), bias=False\n",
       "          (static_padding): Identity()\n",
       "        )\n",
       "        (_bn2): BatchNorm2d(208, eps=0.001, momentum=0.010000000000000009, affine=True, track_running_stats=True)\n",
       "        (_swish): MemoryEfficientSwish()\n",
       "      )\n",
       "      (18): MBConvBlock(\n",
       "        (_expand_conv): Conv2dStaticSamePadding(\n",
       "          208, 1248, kernel_size=(1, 1), stride=(1, 1), bias=False\n",
       "          (static_padding): Identity()\n",
       "        )\n",
       "        (_bn0): BatchNorm2d(1248, eps=0.001, momentum=0.010000000000000009, affine=True, track_running_stats=True)\n",
       "        (_depthwise_conv): Conv2dStaticSamePadding(\n",
       "          1248, 1248, kernel_size=(5, 5), stride=(1, 1), groups=1248, bias=False\n",
       "          (static_padding): ZeroPad2d(padding=(2, 2, 2, 2), value=0.0)\n",
       "        )\n",
       "        (_bn1): BatchNorm2d(1248, eps=0.001, momentum=0.010000000000000009, affine=True, track_running_stats=True)\n",
       "        (_se_reduce): Conv2dStaticSamePadding(\n",
       "          1248, 52, kernel_size=(1, 1), stride=(1, 1)\n",
       "          (static_padding): Identity()\n",
       "        )\n",
       "        (_se_expand): Conv2dStaticSamePadding(\n",
       "          52, 1248, kernel_size=(1, 1), stride=(1, 1)\n",
       "          (static_padding): Identity()\n",
       "        )\n",
       "        (_project_conv): Conv2dStaticSamePadding(\n",
       "          1248, 208, kernel_size=(1, 1), stride=(1, 1), bias=False\n",
       "          (static_padding): Identity()\n",
       "        )\n",
       "        (_bn2): BatchNorm2d(208, eps=0.001, momentum=0.010000000000000009, affine=True, track_running_stats=True)\n",
       "        (_swish): MemoryEfficientSwish()\n",
       "      )\n",
       "      (19): MBConvBlock(\n",
       "        (_expand_conv): Conv2dStaticSamePadding(\n",
       "          208, 1248, kernel_size=(1, 1), stride=(1, 1), bias=False\n",
       "          (static_padding): Identity()\n",
       "        )\n",
       "        (_bn0): BatchNorm2d(1248, eps=0.001, momentum=0.010000000000000009, affine=True, track_running_stats=True)\n",
       "        (_depthwise_conv): Conv2dStaticSamePadding(\n",
       "          1248, 1248, kernel_size=(5, 5), stride=(1, 1), groups=1248, bias=False\n",
       "          (static_padding): ZeroPad2d(padding=(2, 2, 2, 2), value=0.0)\n",
       "        )\n",
       "        (_bn1): BatchNorm2d(1248, eps=0.001, momentum=0.010000000000000009, affine=True, track_running_stats=True)\n",
       "        (_se_reduce): Conv2dStaticSamePadding(\n",
       "          1248, 52, kernel_size=(1, 1), stride=(1, 1)\n",
       "          (static_padding): Identity()\n",
       "        )\n",
       "        (_se_expand): Conv2dStaticSamePadding(\n",
       "          52, 1248, kernel_size=(1, 1), stride=(1, 1)\n",
       "          (static_padding): Identity()\n",
       "        )\n",
       "        (_project_conv): Conv2dStaticSamePadding(\n",
       "          1248, 208, kernel_size=(1, 1), stride=(1, 1), bias=False\n",
       "          (static_padding): Identity()\n",
       "        )\n",
       "        (_bn2): BatchNorm2d(208, eps=0.001, momentum=0.010000000000000009, affine=True, track_running_stats=True)\n",
       "        (_swish): MemoryEfficientSwish()\n",
       "      )\n",
       "      (20): MBConvBlock(\n",
       "        (_expand_conv): Conv2dStaticSamePadding(\n",
       "          208, 1248, kernel_size=(1, 1), stride=(1, 1), bias=False\n",
       "          (static_padding): Identity()\n",
       "        )\n",
       "        (_bn0): BatchNorm2d(1248, eps=0.001, momentum=0.010000000000000009, affine=True, track_running_stats=True)\n",
       "        (_depthwise_conv): Conv2dStaticSamePadding(\n",
       "          1248, 1248, kernel_size=(5, 5), stride=(1, 1), groups=1248, bias=False\n",
       "          (static_padding): ZeroPad2d(padding=(2, 2, 2, 2), value=0.0)\n",
       "        )\n",
       "        (_bn1): BatchNorm2d(1248, eps=0.001, momentum=0.010000000000000009, affine=True, track_running_stats=True)\n",
       "        (_se_reduce): Conv2dStaticSamePadding(\n",
       "          1248, 52, kernel_size=(1, 1), stride=(1, 1)\n",
       "          (static_padding): Identity()\n",
       "        )\n",
       "        (_se_expand): Conv2dStaticSamePadding(\n",
       "          52, 1248, kernel_size=(1, 1), stride=(1, 1)\n",
       "          (static_padding): Identity()\n",
       "        )\n",
       "        (_project_conv): Conv2dStaticSamePadding(\n",
       "          1248, 208, kernel_size=(1, 1), stride=(1, 1), bias=False\n",
       "          (static_padding): Identity()\n",
       "        )\n",
       "        (_bn2): BatchNorm2d(208, eps=0.001, momentum=0.010000000000000009, affine=True, track_running_stats=True)\n",
       "        (_swish): MemoryEfficientSwish()\n",
       "      )\n",
       "      (21): MBConvBlock(\n",
       "        (_expand_conv): Conv2dStaticSamePadding(\n",
       "          208, 1248, kernel_size=(1, 1), stride=(1, 1), bias=False\n",
       "          (static_padding): Identity()\n",
       "        )\n",
       "        (_bn0): BatchNorm2d(1248, eps=0.001, momentum=0.010000000000000009, affine=True, track_running_stats=True)\n",
       "        (_depthwise_conv): Conv2dStaticSamePadding(\n",
       "          1248, 1248, kernel_size=(3, 3), stride=[1, 1], groups=1248, bias=False\n",
       "          (static_padding): ZeroPad2d(padding=(1, 1, 1, 1), value=0.0)\n",
       "        )\n",
       "        (_bn1): BatchNorm2d(1248, eps=0.001, momentum=0.010000000000000009, affine=True, track_running_stats=True)\n",
       "        (_se_reduce): Conv2dStaticSamePadding(\n",
       "          1248, 52, kernel_size=(1, 1), stride=(1, 1)\n",
       "          (static_padding): Identity()\n",
       "        )\n",
       "        (_se_expand): Conv2dStaticSamePadding(\n",
       "          52, 1248, kernel_size=(1, 1), stride=(1, 1)\n",
       "          (static_padding): Identity()\n",
       "        )\n",
       "        (_project_conv): Conv2dStaticSamePadding(\n",
       "          1248, 352, kernel_size=(1, 1), stride=(1, 1), bias=False\n",
       "          (static_padding): Identity()\n",
       "        )\n",
       "        (_bn2): BatchNorm2d(352, eps=0.001, momentum=0.010000000000000009, affine=True, track_running_stats=True)\n",
       "        (_swish): MemoryEfficientSwish()\n",
       "      )\n",
       "      (22): MBConvBlock(\n",
       "        (_expand_conv): Conv2dStaticSamePadding(\n",
       "          352, 2112, kernel_size=(1, 1), stride=(1, 1), bias=False\n",
       "          (static_padding): Identity()\n",
       "        )\n",
       "        (_bn0): BatchNorm2d(2112, eps=0.001, momentum=0.010000000000000009, affine=True, track_running_stats=True)\n",
       "        (_depthwise_conv): Conv2dStaticSamePadding(\n",
       "          2112, 2112, kernel_size=(3, 3), stride=(1, 1), groups=2112, bias=False\n",
       "          (static_padding): ZeroPad2d(padding=(1, 1, 1, 1), value=0.0)\n",
       "        )\n",
       "        (_bn1): BatchNorm2d(2112, eps=0.001, momentum=0.010000000000000009, affine=True, track_running_stats=True)\n",
       "        (_se_reduce): Conv2dStaticSamePadding(\n",
       "          2112, 88, kernel_size=(1, 1), stride=(1, 1)\n",
       "          (static_padding): Identity()\n",
       "        )\n",
       "        (_se_expand): Conv2dStaticSamePadding(\n",
       "          88, 2112, kernel_size=(1, 1), stride=(1, 1)\n",
       "          (static_padding): Identity()\n",
       "        )\n",
       "        (_project_conv): Conv2dStaticSamePadding(\n",
       "          2112, 352, kernel_size=(1, 1), stride=(1, 1), bias=False\n",
       "          (static_padding): Identity()\n",
       "        )\n",
       "        (_bn2): BatchNorm2d(352, eps=0.001, momentum=0.010000000000000009, affine=True, track_running_stats=True)\n",
       "        (_swish): MemoryEfficientSwish()\n",
       "      )\n",
       "    )\n",
       "    (_conv_head): Conv2dStaticSamePadding(\n",
       "      352, 1408, kernel_size=(1, 1), stride=(1, 1), bias=False\n",
       "      (static_padding): Identity()\n",
       "    )\n",
       "    (_bn1): BatchNorm2d(1408, eps=0.001, momentum=0.010000000000000009, affine=True, track_running_stats=True)\n",
       "    (_avg_pooling): AdaptiveAvgPool2d(output_size=1)\n",
       "    (_dropout): Dropout(p=0.3, inplace=False)\n",
       "    (_fc): Sequential(\n",
       "      (0): BatchNorm1d(1408, eps=1e-05, momentum=0.1, affine=True, track_running_stats=True)\n",
       "      (1): Linear(in_features=1408, out_features=512, bias=True)\n",
       "      (2): ReLU()\n",
       "      (3): BatchNorm1d(512, eps=1e-05, momentum=0.1, affine=True, track_running_stats=True)\n",
       "      (4): Linear(in_features=512, out_features=128, bias=True)\n",
       "      (5): ReLU()\n",
       "      (6): BatchNorm1d(128, eps=1e-05, momentum=0.1, affine=True, track_running_stats=True)\n",
       "      (7): Dropout(p=0.4, inplace=False)\n",
       "      (8): Linear(in_features=128, out_features=11, bias=True)\n",
       "    )\n",
       "    (_swish): MemoryEfficientSwish()\n",
       "  )\n",
       ")"
      ]
     },
     "execution_count": 57,
     "metadata": {},
     "output_type": "execute_result"
    }
   ],
   "source": [
    "model = to_device(model, device)\n",
    "model"
   ]
  },
  {
   "cell_type": "code",
   "execution_count": 58,
   "id": "a9918da7",
   "metadata": {
    "execution": {
     "iopub.execute_input": "2022-02-07T16:11:14.982549Z",
     "iopub.status.busy": "2022-02-07T16:11:14.981734Z",
     "iopub.status.idle": "2022-02-07T16:11:14.984918Z",
     "shell.execute_reply": "2022-02-07T16:11:14.985484Z",
     "shell.execute_reply.started": "2022-02-07T10:53:27.437953Z"
    },
    "papermill": {
     "duration": 0.14322,
     "end_time": "2022-02-07T16:11:14.985670",
     "exception": false,
     "start_time": "2022-02-07T16:11:14.842450",
     "status": "completed"
    },
    "tags": []
   },
   "outputs": [],
   "source": [
    "def accuracy(act,pred):\n",
    "    _, preds = torch.max(pred, dim=1)\n",
    "    #print(preds[0])\n",
    "    #print(\"a\")\n",
    "    #print(act[0])\n",
    "    act2=act.detach().cpu().numpy()\n",
    "    pred2=preds.detach().cpu().numpy()\n",
    "    acc=torch.tensor(torch.sum(preds==act).item() / len(preds))\n",
    "    mic=f1_score(act2, pred2, average='micro')\n",
    "    mac=f1_score(act2, pred2, average='macro')\n",
    "    bal_acc=balanced_accuracy_score(act2, pred2)\n",
    "    return acc,torch.tensor([mic]),torch.tensor([mac]),torch.tensor([bal_acc])"
   ]
  },
  {
   "cell_type": "code",
   "execution_count": 59,
   "id": "f9d72860",
   "metadata": {
    "execution": {
     "iopub.execute_input": "2022-02-07T16:11:15.355531Z",
     "iopub.status.busy": "2022-02-07T16:11:15.354153Z",
     "iopub.status.idle": "2022-02-07T16:11:15.356245Z",
     "shell.execute_reply": "2022-02-07T16:11:15.354834Z",
     "shell.execute_reply.started": "2022-02-07T10:53:28.125981Z"
    },
    "papermill": {
     "duration": 0.213881,
     "end_time": "2022-02-07T16:11:15.356403",
     "exception": false,
     "start_time": "2022-02-07T16:11:15.142522",
     "status": "completed"
    },
    "tags": []
   },
   "outputs": [],
   "source": [
    "#for batch in train_dl:\n",
    " #   images,labels=batch\n",
    "  #  out=model(images)\n",
    "   # a,b,c,d=accuracy(labels,out)\n",
    "    #print(a,b,c,d)\n",
    "    #print(accuracy(labels,out))\n",
    "    #print(out)\n",
    "    #print(labels[0])\n",
    "    \n",
    "    #break\n"
   ]
  },
  {
   "cell_type": "code",
   "execution_count": 60,
   "id": "2f0f5665",
   "metadata": {
    "execution": {
     "iopub.execute_input": "2022-02-07T16:11:15.646016Z",
     "iopub.status.busy": "2022-02-07T16:11:15.645177Z",
     "iopub.status.idle": "2022-02-07T16:11:15.647393Z",
     "shell.execute_reply": "2022-02-07T16:11:15.646721Z",
     "shell.execute_reply.started": "2022-02-07T12:47:24.710118Z"
    },
    "papermill": {
     "duration": 0.138587,
     "end_time": "2022-02-07T16:11:15.647545",
     "exception": false,
     "start_time": "2022-02-07T16:11:15.508958",
     "status": "completed"
    },
    "tags": []
   },
   "outputs": [],
   "source": [
    "from torch.optim.lr_scheduler import ReduceLROnPlateau"
   ]
  },
  {
   "cell_type": "code",
   "execution_count": 61,
   "id": "9fb1a6ce",
   "metadata": {
    "execution": {
     "iopub.execute_input": "2022-02-07T16:11:15.873391Z",
     "iopub.status.busy": "2022-02-07T16:11:15.872486Z",
     "iopub.status.idle": "2022-02-07T16:11:15.874197Z",
     "shell.execute_reply": "2022-02-07T16:11:15.874681Z",
     "shell.execute_reply.started": "2022-02-07T10:53:36.059442Z"
    },
    "papermill": {
     "duration": 0.095332,
     "end_time": "2022-02-07T16:11:15.874842",
     "exception": false,
     "start_time": "2022-02-07T16:11:15.779510",
     "status": "completed"
    },
    "tags": []
   },
   "outputs": [],
   "source": [
    "def fit(model,train_dl,opt,lr,epochs):\n",
    "    history = []\n",
    "    optimizer = opt(model.parameters(), lr)\n",
    "    scheduler = ReduceLROnPlateau(optimizer, 'min',patience=0,verbose=True,factor=0.1)\n",
    "    for epoch in range(epochs):\n",
    "        epoch_acc=[]\n",
    "        epoch_bal_acc=[]\n",
    "        epoch_f1=[]\n",
    "        loss_epo=[]\n",
    "        for batch in train_dl:\n",
    "            images,labels=batch\n",
    "            loss,acc,mic,mac,bal_acc=model.training_step(batch)\n",
    "            loss.backward()\n",
    "            optimizer.step()\n",
    "            optimizer.zero_grad()\n",
    "            epoch_acc.append(acc)\n",
    "            epoch_bal_acc.append(bal_acc)\n",
    "            epoch_f1.append(mac)\n",
    "            loss2=loss.clone().detach()\n",
    "            loss_epo.append(loss2)\n",
    "        dic_train=torch.stack(epoch_acc).mean()\n",
    "        dic_bal=torch.stack(epoch_bal_acc).mean()\n",
    "        dic_f1=torch.stack(epoch_f1).mean()\n",
    "        loss_val=torch.stack(loss_epo).mean()\n",
    "        print(\"Epoch [{}], train_loss: {:.4f},train_acc: {:.4f},train_bal_acc: {:.4f},train_f1: {:.4f}\".format(\n",
    "        epoch,loss_val,dic_train,dic_bal,dic_f1))\n",
    "\n",
    "        #res=[model.validation_step(batch) for batch in val_dl ]\n",
    "        #dic=model.validation_epoch_end(res)\n",
    "        #valid_loss=dic['val_loss']\n",
    "        scheduler.step(loss_val)\n",
    "        #history.append(dic)\n",
    "        #model.epoch_end(epoch,dic)\n",
    "    return \"india\""
   ]
  },
  {
   "cell_type": "code",
   "execution_count": 62,
   "id": "48263923",
   "metadata": {
    "execution": {
     "iopub.execute_input": "2022-02-07T16:11:16.036897Z",
     "iopub.status.busy": "2022-02-07T16:11:16.036058Z",
     "iopub.status.idle": "2022-02-07T16:11:16.037915Z",
     "shell.execute_reply": "2022-02-07T16:11:16.038315Z",
     "shell.execute_reply.started": "2022-02-07T10:53:36.072538Z"
    },
    "papermill": {
     "duration": 0.085034,
     "end_time": "2022-02-07T16:11:16.038445",
     "exception": false,
     "start_time": "2022-02-07T16:11:15.953411",
     "status": "completed"
    },
    "tags": []
   },
   "outputs": [],
   "source": [
    "opt=torch.optim.Adam"
   ]
  },
  {
   "cell_type": "code",
   "execution_count": 63,
   "id": "f1558c7e",
   "metadata": {
    "execution": {
     "iopub.execute_input": "2022-02-07T16:11:16.200867Z",
     "iopub.status.busy": "2022-02-07T16:11:16.200204Z",
     "iopub.status.idle": "2022-02-07T16:11:16.202933Z",
     "shell.execute_reply": "2022-02-07T16:11:16.203332Z",
     "shell.execute_reply.started": "2022-02-07T10:53:36.083367Z"
    },
    "papermill": {
     "duration": 0.086452,
     "end_time": "2022-02-07T16:11:16.203461",
     "exception": false,
     "start_time": "2022-02-07T16:11:16.117009",
     "status": "completed"
    },
    "tags": []
   },
   "outputs": [
    {
     "name": "stdout",
     "output_type": "stream",
     "text": [
      "0.0001\n"
     ]
    }
   ],
   "source": [
    "a=10e-5\n",
    "print(a)"
   ]
  },
  {
   "cell_type": "code",
   "execution_count": 64,
   "id": "35a25464",
   "metadata": {
    "execution": {
     "iopub.execute_input": "2022-02-07T16:11:16.383589Z",
     "iopub.status.busy": "2022-02-07T16:11:16.365533Z",
     "iopub.status.idle": "2022-02-07T16:11:24.369779Z",
     "shell.execute_reply": "2022-02-07T16:11:24.370366Z",
     "shell.execute_reply.started": "2022-02-07T10:53:36.091596Z"
    },
    "papermill": {
     "duration": 8.086853,
     "end_time": "2022-02-07T16:11:24.370562",
     "exception": false,
     "start_time": "2022-02-07T16:11:16.283709",
     "status": "completed"
    },
    "tags": []
   },
   "outputs": [
    {
     "name": "stdout",
     "output_type": "stream",
     "text": [
      "Collecting torchsummary\r\n",
      "  Downloading torchsummary-1.5.1-py3-none-any.whl (2.8 kB)\r\n",
      "Installing collected packages: torchsummary\r\n",
      "Successfully installed torchsummary-1.5.1\r\n",
      "\u001b[33mWARNING: Running pip as the 'root' user can result in broken permissions and conflicting behaviour with the system package manager. It is recommended to use a virtual environment instead: https://pip.pypa.io/warnings/venv\u001b[0m\r\n",
      "Note: you may need to restart the kernel to use updated packages.\n"
     ]
    }
   ],
   "source": [
    "pip install torchsummary"
   ]
  },
  {
   "cell_type": "code",
   "execution_count": 65,
   "id": "77f0187f",
   "metadata": {
    "execution": {
     "iopub.execute_input": "2022-02-07T16:11:24.535339Z",
     "iopub.status.busy": "2022-02-07T16:11:24.534555Z",
     "iopub.status.idle": "2022-02-07T16:11:24.540747Z",
     "shell.execute_reply": "2022-02-07T16:11:24.540329Z",
     "shell.execute_reply.started": "2022-02-07T10:53:44.571715Z"
    },
    "papermill": {
     "duration": 0.08942,
     "end_time": "2022-02-07T16:11:24.540859",
     "exception": false,
     "start_time": "2022-02-07T16:11:24.451439",
     "status": "completed"
    },
    "tags": []
   },
   "outputs": [],
   "source": [
    "from torchsummary import summary\n",
    "#summary(model,input_size=(3,260,260))"
   ]
  },
  {
   "cell_type": "code",
   "execution_count": 66,
   "id": "339b7fbc",
   "metadata": {
    "execution": {
     "iopub.execute_input": "2022-02-07T16:11:24.707959Z",
     "iopub.status.busy": "2022-02-07T16:11:24.707177Z",
     "iopub.status.idle": "2022-02-07T17:47:16.614717Z",
     "shell.execute_reply": "2022-02-07T17:47:16.614049Z"
    },
    "papermill": {
     "duration": 5751.993626,
     "end_time": "2022-02-07T17:47:16.614898",
     "exception": false,
     "start_time": "2022-02-07T16:11:24.621272",
     "status": "completed"
    },
    "tags": []
   },
   "outputs": [
    {
     "name": "stderr",
     "output_type": "stream",
     "text": [
      "/opt/conda/lib/python3.7/site-packages/sklearn/metrics/_classification.py:1814: UserWarning: y_pred contains classes not in y_true\n",
      "  warnings.warn('y_pred contains classes not in y_true')\n"
     ]
    },
    {
     "name": "stdout",
     "output_type": "stream",
     "text": [
      "Epoch [0], train_loss: 0.7085,train_acc: 0.7587,train_bal_acc: 0.7856,train_f1: 0.7570\n",
      "Epoch [1], train_loss: 0.6209,train_acc: 0.7886,train_bal_acc: 0.8149,train_f1: 0.7864\n",
      "Epoch [2], train_loss: 0.5886,train_acc: 0.8010,train_bal_acc: 0.8290,train_f1: 0.8008\n",
      "Epoch [3], train_loss: 0.4957,train_acc: 0.8314,train_bal_acc: 0.8566,train_f1: 0.8295\n",
      "Epoch [4], train_loss: 0.4542,train_acc: 0.8467,train_bal_acc: 0.8713,train_f1: 0.8450\n"
     ]
    },
    {
     "data": {
      "text/plain": [
       "'india'"
      ]
     },
     "execution_count": 66,
     "metadata": {},
     "output_type": "execute_result"
    }
   ],
   "source": [
    "fit(model,train_dl,opt,3*10e-5,5)"
   ]
  },
  {
   "cell_type": "code",
   "execution_count": 67,
   "id": "c3823819",
   "metadata": {
    "execution": {
     "iopub.execute_input": "2022-02-07T17:47:16.792962Z",
     "iopub.status.busy": "2022-02-07T17:47:16.792163Z",
     "iopub.status.idle": "2022-02-07T17:47:16.993959Z",
     "shell.execute_reply": "2022-02-07T17:47:16.993450Z",
     "shell.execute_reply.started": "2022-02-07T10:50:53.374696Z"
    },
    "papermill": {
     "duration": 0.293089,
     "end_time": "2022-02-07T17:47:16.994102",
     "exception": false,
     "start_time": "2022-02-07T17:47:16.701013",
     "status": "completed"
    },
    "tags": []
   },
   "outputs": [],
   "source": [
    "torch.save(model.state_dict(), 'res_cust_3.pth')\n",
    "torch.save(model, 'res_cust_whole3.pkl')"
   ]
  },
  {
   "cell_type": "code",
   "execution_count": 68,
   "id": "3dfecf66",
   "metadata": {
    "execution": {
     "iopub.execute_input": "2022-02-07T17:47:17.180352Z",
     "iopub.status.busy": "2022-02-07T17:47:17.179581Z",
     "iopub.status.idle": "2022-02-07T19:16:54.609509Z",
     "shell.execute_reply": "2022-02-07T19:16:54.609054Z",
     "shell.execute_reply.started": "2022-02-03T17:58:10.52731Z"
    },
    "papermill": {
     "duration": 5377.525469,
     "end_time": "2022-02-07T19:16:54.609635",
     "exception": false,
     "start_time": "2022-02-07T17:47:17.084166",
     "status": "completed"
    },
    "tags": []
   },
   "outputs": [
    {
     "name": "stdout",
     "output_type": "stream",
     "text": [
      "Epoch [0], train_loss: 0.3428,train_acc: 0.8851,train_bal_acc: 0.9067,train_f1: 0.8845\n",
      "Epoch [1], train_loss: 0.2859,train_acc: 0.9046,train_bal_acc: 0.9223,train_f1: 0.9028\n",
      "Epoch [2], train_loss: 0.2591,train_acc: 0.9142,train_bal_acc: 0.9320,train_f1: 0.9114\n",
      "Epoch [3], train_loss: 0.2358,train_acc: 0.9236,train_bal_acc: 0.9392,train_f1: 0.9203\n",
      "Epoch [4], train_loss: 0.2132,train_acc: 0.9298,train_bal_acc: 0.9445,train_f1: 0.9276\n"
     ]
    },
    {
     "data": {
      "text/plain": [
       "'india'"
      ]
     },
     "execution_count": 68,
     "metadata": {},
     "output_type": "execute_result"
    }
   ],
   "source": [
    "fit(model,train_dl,opt,5*10e-6,5)"
   ]
  },
  {
   "cell_type": "code",
   "execution_count": 69,
   "id": "182ac37c",
   "metadata": {
    "execution": {
     "iopub.execute_input": "2022-02-07T19:16:54.791972Z",
     "iopub.status.busy": "2022-02-07T19:16:54.791164Z",
     "iopub.status.idle": "2022-02-07T19:16:54.986909Z",
     "shell.execute_reply": "2022-02-07T19:16:54.985628Z"
    },
    "papermill": {
     "duration": 0.289798,
     "end_time": "2022-02-07T19:16:54.987071",
     "exception": false,
     "start_time": "2022-02-07T19:16:54.697273",
     "status": "completed"
    },
    "tags": []
   },
   "outputs": [],
   "source": [
    "torch.save(model.state_dict(), 'res_cust_4.pth')\n",
    "torch.save(model, 'res_cust_whole4.pkl')"
   ]
  },
  {
   "cell_type": "code",
   "execution_count": null,
   "id": "3545c5a2",
   "metadata": {
    "execution": {
     "iopub.execute_input": "2022-01-29T15:53:43.578405Z",
     "iopub.status.busy": "2022-01-29T15:53:43.577744Z"
    },
    "papermill": {
     "duration": 0.082988,
     "end_time": "2022-02-07T19:16:55.156784",
     "exception": false,
     "start_time": "2022-02-07T19:16:55.073796",
     "status": "completed"
    },
    "tags": []
   },
   "outputs": [],
   "source": []
  },
  {
   "cell_type": "code",
   "execution_count": null,
   "id": "9d295ff1",
   "metadata": {
    "papermill": {
     "duration": 0.135021,
     "end_time": "2022-02-07T19:16:55.375258",
     "exception": false,
     "start_time": "2022-02-07T19:16:55.240237",
     "status": "completed"
    },
    "tags": []
   },
   "outputs": [],
   "source": []
  },
  {
   "cell_type": "code",
   "execution_count": 70,
   "id": "28958618",
   "metadata": {
    "execution": {
     "iopub.execute_input": "2022-02-07T19:16:55.545703Z",
     "iopub.status.busy": "2022-02-07T19:16:55.544827Z",
     "iopub.status.idle": "2022-02-07T19:16:55.547426Z",
     "shell.execute_reply": "2022-02-07T19:16:55.547012Z",
     "shell.execute_reply.started": "2022-02-07T12:47:30.720197Z"
    },
    "papermill": {
     "duration": 0.089391,
     "end_time": "2022-02-07T19:16:55.547538",
     "exception": false,
     "start_time": "2022-02-07T19:16:55.458147",
     "status": "completed"
    },
    "tags": []
   },
   "outputs": [],
   "source": [
    "import glob"
   ]
  },
  {
   "cell_type": "code",
   "execution_count": 71,
   "id": "397916f3",
   "metadata": {
    "execution": {
     "iopub.execute_input": "2022-02-07T19:16:55.717809Z",
     "iopub.status.busy": "2022-02-07T19:16:55.717292Z",
     "iopub.status.idle": "2022-02-07T19:16:56.233008Z",
     "shell.execute_reply": "2022-02-07T19:16:56.232527Z",
     "shell.execute_reply.started": "2022-02-07T12:47:30.947299Z"
    },
    "papermill": {
     "duration": 0.603157,
     "end_time": "2022-02-07T19:16:56.233134",
     "exception": false,
     "start_time": "2022-02-07T19:16:55.629977",
     "status": "completed"
    },
    "tags": []
   },
   "outputs": [],
   "source": [
    "from os import listdir\n",
    "onlyfiles = [f for f in listdir('../input/stylumia-complete/test')]"
   ]
  },
  {
   "cell_type": "code",
   "execution_count": 72,
   "id": "b83ca075",
   "metadata": {
    "execution": {
     "iopub.execute_input": "2022-02-07T19:16:56.404434Z",
     "iopub.status.busy": "2022-02-07T19:16:56.402935Z",
     "iopub.status.idle": "2022-02-07T19:16:56.405079Z",
     "shell.execute_reply": "2022-02-07T19:16:56.405490Z",
     "shell.execute_reply.started": "2022-02-07T12:47:31.328510Z"
    },
    "papermill": {
     "duration": 0.08905,
     "end_time": "2022-02-07T19:16:56.405612",
     "exception": false,
     "start_time": "2022-02-07T19:16:56.316562",
     "status": "completed"
    },
    "tags": []
   },
   "outputs": [],
   "source": [
    "#onlyfiles"
   ]
  },
  {
   "cell_type": "code",
   "execution_count": 73,
   "id": "9cf64565",
   "metadata": {
    "execution": {
     "iopub.execute_input": "2022-02-07T19:16:56.576358Z",
     "iopub.status.busy": "2022-02-07T19:16:56.575581Z",
     "iopub.status.idle": "2022-02-07T19:16:56.643135Z",
     "shell.execute_reply": "2022-02-07T19:16:56.642657Z",
     "shell.execute_reply.started": "2022-02-07T12:47:31.345214Z"
    },
    "papermill": {
     "duration": 0.15482,
     "end_time": "2022-02-07T19:16:56.643245",
     "exception": false,
     "start_time": "2022-02-07T19:16:56.488425",
     "status": "completed"
    },
    "tags": []
   },
   "outputs": [],
   "source": [
    "file_name=[]\n",
    "for name in glob.glob('../input/stylumia-complete/test/*'):\n",
    "    file_name1=name.split('/')\n",
    "    #print(file_name1[-1])\n",
    "    file_name.append(file_name1[-1])"
   ]
  },
  {
   "cell_type": "code",
   "execution_count": 74,
   "id": "5a2b4b5f",
   "metadata": {
    "execution": {
     "iopub.execute_input": "2022-02-07T19:16:56.819381Z",
     "iopub.status.busy": "2022-02-07T19:16:56.818572Z",
     "iopub.status.idle": "2022-02-07T19:16:56.820639Z",
     "shell.execute_reply": "2022-02-07T19:16:56.821037Z",
     "shell.execute_reply.started": "2022-02-07T12:47:31.660607Z"
    },
    "papermill": {
     "duration": 0.091171,
     "end_time": "2022-02-07T19:16:56.821164",
     "exception": false,
     "start_time": "2022-02-07T19:16:56.729993",
     "status": "completed"
    },
    "tags": []
   },
   "outputs": [],
   "source": [
    "test_df=pd.DataFrame()"
   ]
  },
  {
   "cell_type": "code",
   "execution_count": 75,
   "id": "1168a0b2",
   "metadata": {
    "execution": {
     "iopub.execute_input": "2022-02-07T19:16:56.999314Z",
     "iopub.status.busy": "2022-02-07T19:16:56.998512Z",
     "iopub.status.idle": "2022-02-07T19:16:57.002153Z",
     "shell.execute_reply": "2022-02-07T19:16:57.002521Z",
     "shell.execute_reply.started": "2022-02-07T12:47:31.919307Z"
    },
    "papermill": {
     "duration": 0.096708,
     "end_time": "2022-02-07T19:16:57.002643",
     "exception": false,
     "start_time": "2022-02-07T19:16:56.905935",
     "status": "completed"
    },
    "tags": []
   },
   "outputs": [],
   "source": [
    "test_df['file_name']=pd.Series(file_name)"
   ]
  },
  {
   "cell_type": "code",
   "execution_count": 76,
   "id": "dfbf13d6",
   "metadata": {
    "execution": {
     "iopub.execute_input": "2022-02-07T19:16:57.183819Z",
     "iopub.status.busy": "2022-02-07T19:16:57.183237Z",
     "iopub.status.idle": "2022-02-07T19:16:57.188759Z",
     "shell.execute_reply": "2022-02-07T19:16:57.188261Z",
     "shell.execute_reply.started": "2022-02-07T12:47:32.148270Z"
    },
    "papermill": {
     "duration": 0.097283,
     "end_time": "2022-02-07T19:16:57.188885",
     "exception": false,
     "start_time": "2022-02-07T19:16:57.091602",
     "status": "completed"
    },
    "tags": []
   },
   "outputs": [
    {
     "data": {
      "text/html": [
       "<div>\n",
       "<style scoped>\n",
       "    .dataframe tbody tr th:only-of-type {\n",
       "        vertical-align: middle;\n",
       "    }\n",
       "\n",
       "    .dataframe tbody tr th {\n",
       "        vertical-align: top;\n",
       "    }\n",
       "\n",
       "    .dataframe thead th {\n",
       "        text-align: right;\n",
       "    }\n",
       "</style>\n",
       "<table border=\"1\" class=\"dataframe\">\n",
       "  <thead>\n",
       "    <tr style=\"text-align: right;\">\n",
       "      <th></th>\n",
       "      <th>file_name</th>\n",
       "    </tr>\n",
       "  </thead>\n",
       "  <tbody>\n",
       "    <tr>\n",
       "      <th>0</th>\n",
       "      <td>Image_test_015339.jpg</td>\n",
       "    </tr>\n",
       "    <tr>\n",
       "      <th>1</th>\n",
       "      <td>Image_test_015427.jpg</td>\n",
       "    </tr>\n",
       "    <tr>\n",
       "      <th>2</th>\n",
       "      <td>Image_test_006765.jpg</td>\n",
       "    </tr>\n",
       "    <tr>\n",
       "      <th>3</th>\n",
       "      <td>Image_test_009681.jpg</td>\n",
       "    </tr>\n",
       "    <tr>\n",
       "      <th>4</th>\n",
       "      <td>Image_test_002734.jpg</td>\n",
       "    </tr>\n",
       "    <tr>\n",
       "      <th>...</th>\n",
       "      <td>...</td>\n",
       "    </tr>\n",
       "    <tr>\n",
       "      <th>18218</th>\n",
       "      <td>Image_test_017934.jpg</td>\n",
       "    </tr>\n",
       "    <tr>\n",
       "      <th>18219</th>\n",
       "      <td>Image_test_008324.jpg</td>\n",
       "    </tr>\n",
       "    <tr>\n",
       "      <th>18220</th>\n",
       "      <td>Image_test_010326.jpg</td>\n",
       "    </tr>\n",
       "    <tr>\n",
       "      <th>18221</th>\n",
       "      <td>Image_test_001255.jpg</td>\n",
       "    </tr>\n",
       "    <tr>\n",
       "      <th>18222</th>\n",
       "      <td>Image_test_006906.jpg</td>\n",
       "    </tr>\n",
       "  </tbody>\n",
       "</table>\n",
       "<p>18223 rows × 1 columns</p>\n",
       "</div>"
      ],
      "text/plain": [
       "                   file_name\n",
       "0      Image_test_015339.jpg\n",
       "1      Image_test_015427.jpg\n",
       "2      Image_test_006765.jpg\n",
       "3      Image_test_009681.jpg\n",
       "4      Image_test_002734.jpg\n",
       "...                      ...\n",
       "18218  Image_test_017934.jpg\n",
       "18219  Image_test_008324.jpg\n",
       "18220  Image_test_010326.jpg\n",
       "18221  Image_test_001255.jpg\n",
       "18222  Image_test_006906.jpg\n",
       "\n",
       "[18223 rows x 1 columns]"
      ]
     },
     "execution_count": 76,
     "metadata": {},
     "output_type": "execute_result"
    }
   ],
   "source": [
    "test_df"
   ]
  },
  {
   "cell_type": "code",
   "execution_count": 77,
   "id": "828a731b",
   "metadata": {
    "execution": {
     "iopub.execute_input": "2022-02-07T19:16:57.369607Z",
     "iopub.status.busy": "2022-02-07T19:16:57.369058Z",
     "iopub.status.idle": "2022-02-07T19:16:57.372697Z",
     "shell.execute_reply": "2022-02-07T19:16:57.372252Z",
     "shell.execute_reply.started": "2022-02-07T12:47:32.386378Z"
    },
    "papermill": {
     "duration": 0.09467,
     "end_time": "2022-02-07T19:16:57.372823",
     "exception": false,
     "start_time": "2022-02-07T19:16:57.278153",
     "status": "completed"
    },
    "tags": []
   },
   "outputs": [],
   "source": [
    "data_folder=\"../input/stylumia-complete/\""
   ]
  },
  {
   "cell_type": "code",
   "execution_count": 78,
   "id": "ad2d3aa5",
   "metadata": {
    "execution": {
     "iopub.execute_input": "2022-02-07T19:16:57.551657Z",
     "iopub.status.busy": "2022-02-07T19:16:57.550079Z",
     "iopub.status.idle": "2022-02-07T19:16:57.552239Z",
     "shell.execute_reply": "2022-02-07T19:16:57.552641Z",
     "shell.execute_reply.started": "2022-02-07T12:47:32.572350Z"
    },
    "papermill": {
     "duration": 0.095194,
     "end_time": "2022-02-07T19:16:57.552783",
     "exception": false,
     "start_time": "2022-02-07T19:16:57.457589",
     "status": "completed"
    },
    "tags": []
   },
   "outputs": [],
   "source": [
    "class CustomDataset_test(torch.utils.data.Dataset):\n",
    "    def __init__(self, df, images_folder,mode,stats,transform = ToTensor()):\n",
    "        self.df = df\n",
    "        self.mode=mode\n",
    "        self.images_folder = os.path.join(images_folder+'test')\n",
    "       \n",
    "        self.transform1=Resize((260,260))\n",
    "        self.train_tfms=tt.Compose([tt.RandomCrop(112,padding=4,padding_mode='reflect'),\n",
    "                      tt.RandomHorizontalFlip(),\n",
    "                      tt.ToTensor(),\n",
    "                      tt.Normalize(*stats,inplace=True)])\n",
    "        self.valid_tfms=tt.Compose([tt.ToTensor(),tt.Normalize(*stats,inplace=True)])\n",
    "\n",
    "    def __len__(self):\n",
    "        return len(self.df)\n",
    "    def __getitem__(self, index):\n",
    "        filename = self.df.loc[index, \"file_name\"]\n",
    "        #print(os.path.join(self.images_folder,filename))\n",
    "        image = PIL.Image.open(os.path.join(self.images_folder,filename))\n",
    "        if self.mode=='train':\n",
    "            image=self.transform1(image)\n",
    "            image=self.train_tfms(image)\n",
    "        else:\n",
    "            image=self.transform1(image)\n",
    "            image=self.valid_tfms(image)\n",
    "        return image,filename"
   ]
  },
  {
   "cell_type": "code",
   "execution_count": 79,
   "id": "664a7696",
   "metadata": {
    "execution": {
     "iopub.execute_input": "2022-02-07T19:16:57.724649Z",
     "iopub.status.busy": "2022-02-07T19:16:57.723973Z",
     "iopub.status.idle": "2022-02-07T19:16:57.726616Z",
     "shell.execute_reply": "2022-02-07T19:16:57.726202Z",
     "shell.execute_reply.started": "2022-02-07T12:47:35.937039Z"
    },
    "papermill": {
     "duration": 0.090502,
     "end_time": "2022-02-07T19:16:57.726741",
     "exception": false,
     "start_time": "2022-02-07T19:16:57.636239",
     "status": "completed"
    },
    "tags": []
   },
   "outputs": [],
   "source": [
    "dataset_test=CustomDataset_test(test_df,data_folder,\"test\",stats)"
   ]
  },
  {
   "cell_type": "code",
   "execution_count": 80,
   "id": "7dd8f011",
   "metadata": {
    "execution": {
     "iopub.execute_input": "2022-02-07T19:16:57.899974Z",
     "iopub.status.busy": "2022-02-07T19:16:57.899251Z",
     "iopub.status.idle": "2022-02-07T19:16:57.901648Z",
     "shell.execute_reply": "2022-02-07T19:16:57.901232Z",
     "shell.execute_reply.started": "2022-02-07T12:47:37.742768Z"
    },
    "papermill": {
     "duration": 0.089375,
     "end_time": "2022-02-07T19:16:57.901775",
     "exception": false,
     "start_time": "2022-02-07T19:16:57.812400",
     "status": "completed"
    },
    "tags": []
   },
   "outputs": [],
   "source": [
    "test_dl = DataLoader(dataset=dataset_test, shuffle=True, batch_size=64)"
   ]
  },
  {
   "cell_type": "code",
   "execution_count": 81,
   "id": "22bf35d6",
   "metadata": {
    "execution": {
     "iopub.execute_input": "2022-02-07T19:16:58.073111Z",
     "iopub.status.busy": "2022-02-07T19:16:58.072414Z",
     "iopub.status.idle": "2022-02-07T19:17:01.673983Z",
     "shell.execute_reply": "2022-02-07T19:17:01.673446Z",
     "shell.execute_reply.started": "2022-02-07T12:47:40.421934Z"
    },
    "papermill": {
     "duration": 3.689039,
     "end_time": "2022-02-07T19:17:01.674117",
     "exception": false,
     "start_time": "2022-02-07T19:16:57.985078",
     "status": "completed"
    },
    "tags": []
   },
   "outputs": [],
   "source": [
    "for i in test_dl:\n",
    "    #print(i)\n",
    "    break"
   ]
  },
  {
   "cell_type": "code",
   "execution_count": 82,
   "id": "36771257",
   "metadata": {
    "execution": {
     "iopub.execute_input": "2022-02-07T19:17:01.853716Z",
     "iopub.status.busy": "2022-02-07T19:17:01.852072Z",
     "iopub.status.idle": "2022-02-07T19:17:01.854273Z",
     "shell.execute_reply": "2022-02-07T19:17:01.854696Z",
     "shell.execute_reply.started": "2022-02-07T12:47:47.439248Z"
    },
    "papermill": {
     "duration": 0.094478,
     "end_time": "2022-02-07T19:17:01.854838",
     "exception": false,
     "start_time": "2022-02-07T19:17:01.760360",
     "status": "completed"
    },
    "tags": []
   },
   "outputs": [],
   "source": [
    "def get_default_device():\n",
    "    \"\"\"Pick GPU if available, else CPU\"\"\"\n",
    "    if torch.cuda.is_available():\n",
    "        return torch.device('cuda')\n",
    "    else:\n",
    "        return torch.device('cpu')\n",
    "    \n",
    "def to_device(data, device):\n",
    "    \"\"\"Move tensor(s) to chosen device\"\"\"\n",
    "    if isinstance(data, (list,tuple)):\n",
    "        return [to_device(x, device) for x in data]\n",
    "    return data.to(device, non_blocking=True)\n",
    "\n",
    "class DeviceDataLoader():\n",
    "    \"\"\"Wrap a dataloader to move data to a device\"\"\"\n",
    "    def __init__(self, dl, device):\n",
    "        self.dl = dl\n",
    "        self.device = device\n",
    "        \n",
    "    def __iter__(self):\n",
    "        \"\"\"Yield a batch of data after moving it to device\"\"\"\n",
    "        for b in self.dl: \n",
    "            yield to_device(b, self.device)\n",
    "\n",
    "    def __len__(self):\n",
    "        \"\"\"Number of batches\"\"\"\n",
    "        return len(self.dl)"
   ]
  },
  {
   "cell_type": "code",
   "execution_count": 83,
   "id": "1596ce15",
   "metadata": {
    "execution": {
     "iopub.execute_input": "2022-02-07T19:17:02.028234Z",
     "iopub.status.busy": "2022-02-07T19:17:02.027597Z",
     "iopub.status.idle": "2022-02-07T19:17:02.030135Z",
     "shell.execute_reply": "2022-02-07T19:17:02.030569Z",
     "shell.execute_reply.started": "2022-02-07T12:47:49.059799Z"
    },
    "papermill": {
     "duration": 0.091586,
     "end_time": "2022-02-07T19:17:02.030717",
     "exception": false,
     "start_time": "2022-02-07T19:17:01.939131",
     "status": "completed"
    },
    "tags": []
   },
   "outputs": [
    {
     "data": {
      "text/plain": [
       "device(type='cuda')"
      ]
     },
     "execution_count": 83,
     "metadata": {},
     "output_type": "execute_result"
    }
   ],
   "source": [
    "device = get_default_device()\n",
    "device"
   ]
  },
  {
   "cell_type": "code",
   "execution_count": 84,
   "id": "6f4ab538",
   "metadata": {
    "execution": {
     "iopub.execute_input": "2022-02-07T19:17:02.207132Z",
     "iopub.status.busy": "2022-02-07T19:17:02.206407Z",
     "iopub.status.idle": "2022-02-07T19:17:06.078496Z",
     "shell.execute_reply": "2022-02-07T19:17:06.079184Z",
     "shell.execute_reply.started": "2022-02-07T12:47:49.720324Z"
    },
    "papermill": {
     "duration": 3.964303,
     "end_time": "2022-02-07T19:17:06.079349",
     "exception": false,
     "start_time": "2022-02-07T19:17:02.115046",
     "status": "completed"
    },
    "tags": []
   },
   "outputs": [
    {
     "name": "stdout",
     "output_type": "stream",
     "text": [
      "[tensor([[[[0.7516, 0.7516, 0.7516,  ..., 0.7516, 0.7516, 0.7516],\n",
      "          [0.7516, 0.7516, 0.7516,  ..., 0.7516, 0.7516, 0.7516],\n",
      "          [0.7516, 0.7516, 0.7516,  ..., 0.7516, 0.7516, 0.7516],\n",
      "          ...,\n",
      "          [0.7516, 0.7516, 0.7516,  ..., 0.7516, 0.7516, 0.7516],\n",
      "          [0.7516, 0.7516, 0.7516,  ..., 0.7516, 0.7516, 0.7516],\n",
      "          [0.7516, 0.7516, 0.7516,  ..., 0.7516, 0.7516, 0.7516]],\n",
      "\n",
      "         [[0.8189, 0.8189, 0.8189,  ..., 0.8189, 0.8189, 0.8189],\n",
      "          [0.8189, 0.8189, 0.8189,  ..., 0.8189, 0.8189, 0.8189],\n",
      "          [0.8189, 0.8189, 0.8189,  ..., 0.8189, 0.8189, 0.8189],\n",
      "          ...,\n",
      "          [0.8189, 0.8189, 0.8189,  ..., 0.8189, 0.8189, 0.8189],\n",
      "          [0.8189, 0.8189, 0.8189,  ..., 0.8189, 0.8189, 0.8189],\n",
      "          [0.8189, 0.8189, 0.8189,  ..., 0.8189, 0.8189, 0.8189]],\n",
      "\n",
      "         [[0.8366, 0.8366, 0.8366,  ..., 0.8366, 0.8366, 0.8366],\n",
      "          [0.8366, 0.8366, 0.8366,  ..., 0.8366, 0.8366, 0.8366],\n",
      "          [0.8366, 0.8366, 0.8366,  ..., 0.8366, 0.8366, 0.8366],\n",
      "          ...,\n",
      "          [0.8366, 0.8366, 0.8366,  ..., 0.8366, 0.8366, 0.8366],\n",
      "          [0.8366, 0.8366, 0.8366,  ..., 0.8366, 0.8366, 0.8366],\n",
      "          [0.8366, 0.8366, 0.8366,  ..., 0.8366, 0.8366, 0.8366]]],\n",
      "\n",
      "\n",
      "        [[[0.7516, 0.7516, 0.7516,  ..., 0.7516, 0.7516, 0.7516],\n",
      "          [0.7516, 0.7516, 0.7516,  ..., 0.7516, 0.7516, 0.7516],\n",
      "          [0.7516, 0.7516, 0.7516,  ..., 0.7516, 0.7516, 0.7516],\n",
      "          ...,\n",
      "          [0.7516, 0.7516, 0.7516,  ..., 0.7516, 0.7516, 0.7516],\n",
      "          [0.7516, 0.7516, 0.7516,  ..., 0.7516, 0.7516, 0.7516],\n",
      "          [0.7516, 0.7516, 0.7516,  ..., 0.7516, 0.7516, 0.7516]],\n",
      "\n",
      "         [[0.8189, 0.8189, 0.8189,  ..., 0.8189, 0.8189, 0.8189],\n",
      "          [0.8189, 0.8189, 0.8189,  ..., 0.8189, 0.8189, 0.8189],\n",
      "          [0.8189, 0.8189, 0.8189,  ..., 0.8189, 0.8189, 0.8189],\n",
      "          ...,\n",
      "          [0.8189, 0.8189, 0.8189,  ..., 0.8189, 0.8189, 0.8189],\n",
      "          [0.8189, 0.8189, 0.8189,  ..., 0.8189, 0.8189, 0.8189],\n",
      "          [0.8189, 0.8189, 0.8189,  ..., 0.8189, 0.8189, 0.8189]],\n",
      "\n",
      "         [[0.8366, 0.8366, 0.8366,  ..., 0.8366, 0.8366, 0.8366],\n",
      "          [0.8366, 0.8366, 0.8366,  ..., 0.8366, 0.8366, 0.8366],\n",
      "          [0.8366, 0.8366, 0.8366,  ..., 0.8366, 0.8366, 0.8366],\n",
      "          ...,\n",
      "          [0.8366, 0.8366, 0.8366,  ..., 0.8366, 0.8366, 0.8366],\n",
      "          [0.8366, 0.8366, 0.8366,  ..., 0.8366, 0.8366, 0.8366],\n",
      "          [0.8366, 0.8366, 0.8366,  ..., 0.8366, 0.8366, 0.8366]]],\n",
      "\n",
      "\n",
      "        [[[0.7516, 0.7516, 0.7516,  ..., 0.7516, 0.7516, 0.7516],\n",
      "          [0.7516, 0.7516, 0.7516,  ..., 0.7516, 0.7516, 0.7516],\n",
      "          [0.7516, 0.7516, 0.7516,  ..., 0.7516, 0.7516, 0.7516],\n",
      "          ...,\n",
      "          [0.7516, 0.7516, 0.7516,  ..., 0.7516, 0.7516, 0.7516],\n",
      "          [0.7516, 0.7516, 0.7516,  ..., 0.7516, 0.7516, 0.7516],\n",
      "          [0.7516, 0.7516, 0.7516,  ..., 0.7516, 0.7516, 0.7516]],\n",
      "\n",
      "         [[0.8189, 0.8189, 0.8189,  ..., 0.8189, 0.8189, 0.8189],\n",
      "          [0.8189, 0.8189, 0.8189,  ..., 0.8189, 0.8189, 0.8189],\n",
      "          [0.8189, 0.8189, 0.8189,  ..., 0.8189, 0.8189, 0.8189],\n",
      "          ...,\n",
      "          [0.8189, 0.8189, 0.8189,  ..., 0.8189, 0.8189, 0.8189],\n",
      "          [0.8189, 0.8189, 0.8189,  ..., 0.8189, 0.8189, 0.8189],\n",
      "          [0.8189, 0.8189, 0.8189,  ..., 0.8189, 0.8189, 0.8189]],\n",
      "\n",
      "         [[0.8366, 0.8366, 0.8366,  ..., 0.8366, 0.8366, 0.8366],\n",
      "          [0.8366, 0.8366, 0.8366,  ..., 0.8366, 0.8366, 0.8366],\n",
      "          [0.8366, 0.8366, 0.8366,  ..., 0.8366, 0.8366, 0.8366],\n",
      "          ...,\n",
      "          [0.8366, 0.8366, 0.8366,  ..., 0.8366, 0.8366, 0.8366],\n",
      "          [0.8366, 0.8366, 0.8366,  ..., 0.8366, 0.8366, 0.8366],\n",
      "          [0.8366, 0.8366, 0.8366,  ..., 0.8366, 0.8366, 0.8366]]],\n",
      "\n",
      "\n",
      "        ...,\n",
      "\n",
      "\n",
      "        [[[0.7516, 0.7516, 0.7516,  ..., 0.7516, 0.7516, 0.7516],\n",
      "          [0.7516, 0.7516, 0.7516,  ..., 0.7516, 0.7516, 0.7516],\n",
      "          [0.7516, 0.7516, 0.7516,  ..., 0.7516, 0.7516, 0.7516],\n",
      "          ...,\n",
      "          [0.7516, 0.7516, 0.7516,  ..., 0.7516, 0.7516, 0.7516],\n",
      "          [0.7516, 0.7516, 0.7516,  ..., 0.7516, 0.7516, 0.7516],\n",
      "          [0.7516, 0.7516, 0.7516,  ..., 0.7516, 0.7516, 0.7516]],\n",
      "\n",
      "         [[0.8189, 0.8189, 0.8189,  ..., 0.8189, 0.8189, 0.8189],\n",
      "          [0.8189, 0.8189, 0.8189,  ..., 0.8189, 0.8189, 0.8189],\n",
      "          [0.8189, 0.8189, 0.8189,  ..., 0.8189, 0.8189, 0.8189],\n",
      "          ...,\n",
      "          [0.8189, 0.8189, 0.8189,  ..., 0.8189, 0.8189, 0.8189],\n",
      "          [0.8189, 0.8189, 0.8189,  ..., 0.8189, 0.8189, 0.8189],\n",
      "          [0.8189, 0.8189, 0.8189,  ..., 0.8189, 0.8189, 0.8189]],\n",
      "\n",
      "         [[0.8366, 0.8366, 0.8366,  ..., 0.8366, 0.8366, 0.8366],\n",
      "          [0.8366, 0.8366, 0.8366,  ..., 0.8366, 0.8366, 0.8366],\n",
      "          [0.8366, 0.8366, 0.8366,  ..., 0.8366, 0.8366, 0.8366],\n",
      "          ...,\n",
      "          [0.8366, 0.8366, 0.8366,  ..., 0.8366, 0.8366, 0.8366],\n",
      "          [0.8366, 0.8366, 0.8366,  ..., 0.8366, 0.8366, 0.8366],\n",
      "          [0.8366, 0.8366, 0.8366,  ..., 0.8366, 0.8366, 0.8366]]],\n",
      "\n",
      "\n",
      "        [[[0.7516, 0.7516, 0.7516,  ..., 0.7516, 0.7516, 0.7516],\n",
      "          [0.7516, 0.7516, 0.7516,  ..., 0.7516, 0.7516, 0.7516],\n",
      "          [0.7516, 0.7516, 0.7516,  ..., 0.7516, 0.7516, 0.7516],\n",
      "          ...,\n",
      "          [0.7516, 0.7516, 0.7516,  ..., 0.7516, 0.7516, 0.7516],\n",
      "          [0.7516, 0.7516, 0.7516,  ..., 0.7516, 0.7516, 0.7516],\n",
      "          [0.7516, 0.7516, 0.7516,  ..., 0.7516, 0.7516, 0.7516]],\n",
      "\n",
      "         [[0.8189, 0.8189, 0.8189,  ..., 0.8189, 0.8189, 0.8189],\n",
      "          [0.8189, 0.8189, 0.8189,  ..., 0.8189, 0.8189, 0.8189],\n",
      "          [0.8189, 0.8189, 0.8189,  ..., 0.8189, 0.8189, 0.8189],\n",
      "          ...,\n",
      "          [0.8189, 0.8189, 0.8189,  ..., 0.8189, 0.8189, 0.8189],\n",
      "          [0.8189, 0.8189, 0.8189,  ..., 0.8189, 0.8189, 0.8189],\n",
      "          [0.8189, 0.8189, 0.8189,  ..., 0.8189, 0.8189, 0.8189]],\n",
      "\n",
      "         [[0.8366, 0.8366, 0.8366,  ..., 0.8366, 0.8366, 0.8366],\n",
      "          [0.8366, 0.8366, 0.8366,  ..., 0.8366, 0.8366, 0.8366],\n",
      "          [0.8366, 0.8366, 0.8366,  ..., 0.8366, 0.8366, 0.8366],\n",
      "          ...,\n",
      "          [0.8366, 0.8366, 0.8366,  ..., 0.8366, 0.8366, 0.8366],\n",
      "          [0.8366, 0.8366, 0.8366,  ..., 0.8366, 0.8366, 0.8366],\n",
      "          [0.8366, 0.8366, 0.8366,  ..., 0.8366, 0.8366, 0.8366]]],\n",
      "\n",
      "\n",
      "        [[[0.7516, 0.7516, 0.7516,  ..., 0.7516, 0.7516, 0.7516],\n",
      "          [0.7516, 0.7516, 0.7516,  ..., 0.7516, 0.7516, 0.7516],\n",
      "          [0.7516, 0.7516, 0.7516,  ..., 0.7516, 0.7516, 0.7516],\n",
      "          ...,\n",
      "          [0.7516, 0.7516, 0.7516,  ..., 0.7516, 0.7516, 0.7516],\n",
      "          [0.7516, 0.7516, 0.7516,  ..., 0.7516, 0.7516, 0.7516],\n",
      "          [0.7516, 0.7516, 0.7516,  ..., 0.7516, 0.7516, 0.7516]],\n",
      "\n",
      "         [[0.8189, 0.8189, 0.8189,  ..., 0.8189, 0.8189, 0.8189],\n",
      "          [0.8189, 0.8189, 0.8189,  ..., 0.8189, 0.8189, 0.8189],\n",
      "          [0.8189, 0.8189, 0.8189,  ..., 0.8189, 0.8189, 0.8189],\n",
      "          ...,\n",
      "          [0.8189, 0.8189, 0.8189,  ..., 0.8189, 0.8189, 0.8189],\n",
      "          [0.8189, 0.8189, 0.8189,  ..., 0.8189, 0.8189, 0.8189],\n",
      "          [0.8189, 0.8189, 0.8189,  ..., 0.8189, 0.8189, 0.8189]],\n",
      "\n",
      "         [[0.8366, 0.8366, 0.8366,  ..., 0.8366, 0.8366, 0.8366],\n",
      "          [0.8366, 0.8366, 0.8366,  ..., 0.8366, 0.8366, 0.8366],\n",
      "          [0.8366, 0.8366, 0.8366,  ..., 0.8366, 0.8366, 0.8366],\n",
      "          ...,\n",
      "          [0.8366, 0.8366, 0.8366,  ..., 0.8366, 0.8366, 0.8366],\n",
      "          [0.8366, 0.8366, 0.8366,  ..., 0.8366, 0.8366, 0.8366],\n",
      "          [0.8366, 0.8366, 0.8366,  ..., 0.8366, 0.8366, 0.8366]]]]), ('Image_test_016195.jpg', 'Image_test_013359.jpg', 'Image_test_010668.jpg', 'Image_test_014492.jpg', 'Image_test_003821.jpg', 'Image_test_005846.jpg', 'Image_test_010508.jpg', 'Image_test_000978.jpg', 'Image_test_003597.jpg', 'Image_test_007119.jpg', 'Image_test_009594.jpg', 'Image_test_016594.jpg', 'Image_test_006909.jpg', 'Image_test_006026.jpg', 'Image_test_015658.jpg', 'Image_test_011884.jpg', 'Image_test_002138.jpg', 'Image_test_003693.jpg', 'Image_test_011340.jpg', 'Image_test_012948.jpg', 'Image_test_015991.jpg', 'Image_test_004173.jpg', 'Image_test_015062.jpg', 'Image_test_001152.jpg', 'Image_test_012101.jpg', 'Image_test_017568.jpg', 'Image_test_004617.jpg', 'Image_test_010397.jpg', 'Image_test_008942.jpg', 'Image_test_014302.jpg', 'Image_test_008244.jpg', 'Image_test_006003.jpg', 'Image_test_011780.jpg', 'Image_test_016881.jpg', 'Image_test_007996.jpg', 'Image_test_008946.jpg', 'Image_test_016241.jpg', 'Image_test_004414.jpg', 'Image_test_012628.jpg', 'Image_test_017008.jpg', 'Image_test_005095.jpg', 'Image_test_007465.jpg', 'Image_test_012666.jpg', 'Image_test_004676.jpg', 'Image_test_002992.jpg', 'Image_test_013557.jpg', 'Image_test_015758.jpg', 'Image_test_013492.jpg', 'Image_test_014912.jpg', 'Image_test_005219.jpg', 'Image_test_010570.jpg', 'Image_test_010451.jpg', 'Image_test_005922.jpg', 'Image_test_000536.jpg', 'Image_test_010134.jpg', 'Image_test_013369.jpg', 'Image_test_013826.jpg', 'Image_test_000820.jpg', 'Image_test_001909.jpg', 'Image_test_004114.jpg', 'Image_test_000944.jpg', 'Image_test_013101.jpg', 'Image_test_008606.jpg', 'Image_test_008683.jpg')]\n"
     ]
    }
   ],
   "source": [
    "for image in test_dl:\n",
    "    print(image)\n",
    "    break"
   ]
  },
  {
   "cell_type": "code",
   "execution_count": 85,
   "id": "717471c0",
   "metadata": {
    "execution": {
     "iopub.execute_input": "2022-02-07T19:17:06.257224Z",
     "iopub.status.busy": "2022-02-07T19:17:06.256342Z",
     "iopub.status.idle": "2022-02-07T19:17:06.258406Z",
     "shell.execute_reply": "2022-02-07T19:17:06.258786Z",
     "shell.execute_reply.started": "2022-02-07T12:48:00.346397Z"
    },
    "papermill": {
     "duration": 0.094109,
     "end_time": "2022-02-07T19:17:06.258927",
     "exception": false,
     "start_time": "2022-02-07T19:17:06.164818",
     "status": "completed"
    },
    "tags": []
   },
   "outputs": [],
   "source": [
    "def predict(test_dl,model):\n",
    "    ans=[]\n",
    "    file_names=[]\n",
    "    model.eval()\n",
    "    for batch in test_dl:\n",
    "        with torch.no_grad():\n",
    "            images,names=batch\n",
    "            images=images.to(device=device)\n",
    "            out=model(images)\n",
    "        #print(out)\n",
    "        #print(type(out))\n",
    "            _, preds = torch.max(out, dim=1)\n",
    "            preds=preds.cpu().detach().numpy()\n",
    "            preds=preds.tolist()\n",
    "            #print(preds)\n",
    "            ans.extend(preds)\n",
    "            file_names.extend(names)\n",
    "            \n",
    "    label=pd.Series(ans)\n",
    "    file_name=pd.Series(file_names)\n",
    "    return label,file_name"
   ]
  },
  {
   "cell_type": "code",
   "execution_count": 86,
   "id": "acc9657e",
   "metadata": {
    "execution": {
     "iopub.execute_input": "2022-02-07T19:17:06.433577Z",
     "iopub.status.busy": "2022-02-07T19:17:06.431954Z",
     "iopub.status.idle": "2022-02-07T19:17:06.434191Z",
     "shell.execute_reply": "2022-02-07T19:17:06.434574Z",
     "shell.execute_reply.started": "2022-02-07T12:48:03.188523Z"
    },
    "papermill": {
     "duration": 0.091043,
     "end_time": "2022-02-07T19:17:06.434714",
     "exception": false,
     "start_time": "2022-02-07T19:17:06.343671",
     "status": "completed"
    },
    "tags": []
   },
   "outputs": [],
   "source": [
    "#model=Classifier(model_transfer)\n",
    "#model.load_state_dict(torch.load('../input/effnet/res_cust_3.pth'))\n",
    "#model.eval()"
   ]
  },
  {
   "cell_type": "code",
   "execution_count": 87,
   "id": "74d0855d",
   "metadata": {
    "execution": {
     "iopub.execute_input": "2022-02-07T19:17:06.611173Z",
     "iopub.status.busy": "2022-02-07T19:17:06.610420Z",
     "iopub.status.idle": "2022-02-07T19:33:58.694591Z",
     "shell.execute_reply": "2022-02-07T19:33:58.694055Z",
     "shell.execute_reply.started": "2022-02-07T12:48:06.564513Z"
    },
    "papermill": {
     "duration": 1012.175383,
     "end_time": "2022-02-07T19:33:58.694758",
     "exception": false,
     "start_time": "2022-02-07T19:17:06.519375",
     "status": "completed"
    },
    "tags": []
   },
   "outputs": [],
   "source": [
    "a,b=predict(test_dl,model)"
   ]
  },
  {
   "cell_type": "code",
   "execution_count": 88,
   "id": "3c5189ed",
   "metadata": {
    "execution": {
     "iopub.execute_input": "2022-02-07T19:33:58.884305Z",
     "iopub.status.busy": "2022-02-07T19:33:58.882618Z",
     "iopub.status.idle": "2022-02-07T19:33:58.884942Z",
     "shell.execute_reply": "2022-02-07T19:33:58.885345Z",
     "shell.execute_reply.started": "2022-02-07T13:05:12.046442Z"
    },
    "papermill": {
     "duration": 0.097415,
     "end_time": "2022-02-07T19:33:58.885498",
     "exception": false,
     "start_time": "2022-02-07T19:33:58.788083",
     "status": "completed"
    },
    "tags": []
   },
   "outputs": [],
   "source": [
    "test_df['file_name']=b"
   ]
  },
  {
   "cell_type": "code",
   "execution_count": 89,
   "id": "a54ae632",
   "metadata": {
    "execution": {
     "iopub.execute_input": "2022-02-07T19:33:59.075333Z",
     "iopub.status.busy": "2022-02-07T19:33:59.074155Z",
     "iopub.status.idle": "2022-02-07T19:33:59.077364Z",
     "shell.execute_reply": "2022-02-07T19:33:59.077822Z",
     "shell.execute_reply.started": "2022-02-07T13:05:13.984982Z"
    },
    "papermill": {
     "duration": 0.102351,
     "end_time": "2022-02-07T19:33:59.077963",
     "exception": false,
     "start_time": "2022-02-07T19:33:58.975612",
     "status": "completed"
    },
    "tags": []
   },
   "outputs": [
    {
     "data": {
      "text/plain": [
       "0        6\n",
       "1        9\n",
       "2        9\n",
       "3        6\n",
       "4        2\n",
       "        ..\n",
       "18218    9\n",
       "18219    9\n",
       "18220    0\n",
       "18221    6\n",
       "18222    9\n",
       "Length: 18223, dtype: int64"
      ]
     },
     "execution_count": 89,
     "metadata": {},
     "output_type": "execute_result"
    }
   ],
   "source": [
    "a"
   ]
  },
  {
   "cell_type": "code",
   "execution_count": 90,
   "id": "e2d51535",
   "metadata": {
    "execution": {
     "iopub.execute_input": "2022-02-07T19:33:59.261495Z",
     "iopub.status.busy": "2022-02-07T19:33:59.256111Z",
     "iopub.status.idle": "2022-02-07T19:33:59.264006Z",
     "shell.execute_reply": "2022-02-07T19:33:59.264413Z",
     "shell.execute_reply.started": "2022-02-07T13:05:17.740317Z"
    },
    "papermill": {
     "duration": 0.096759,
     "end_time": "2022-02-07T19:33:59.264541",
     "exception": false,
     "start_time": "2022-02-07T19:33:59.167782",
     "status": "completed"
    },
    "tags": []
   },
   "outputs": [
    {
     "data": {
      "text/html": [
       "<div>\n",
       "<style scoped>\n",
       "    .dataframe tbody tr th:only-of-type {\n",
       "        vertical-align: middle;\n",
       "    }\n",
       "\n",
       "    .dataframe tbody tr th {\n",
       "        vertical-align: top;\n",
       "    }\n",
       "\n",
       "    .dataframe thead th {\n",
       "        text-align: right;\n",
       "    }\n",
       "</style>\n",
       "<table border=\"1\" class=\"dataframe\">\n",
       "  <thead>\n",
       "    <tr style=\"text-align: right;\">\n",
       "      <th></th>\n",
       "      <th>file_name</th>\n",
       "    </tr>\n",
       "  </thead>\n",
       "  <tbody>\n",
       "    <tr>\n",
       "      <th>0</th>\n",
       "      <td>Image_test_014180.jpg</td>\n",
       "    </tr>\n",
       "    <tr>\n",
       "      <th>1</th>\n",
       "      <td>Image_test_010009.jpg</td>\n",
       "    </tr>\n",
       "    <tr>\n",
       "      <th>2</th>\n",
       "      <td>Image_test_000314.jpg</td>\n",
       "    </tr>\n",
       "    <tr>\n",
       "      <th>3</th>\n",
       "      <td>Image_test_007960.jpg</td>\n",
       "    </tr>\n",
       "    <tr>\n",
       "      <th>4</th>\n",
       "      <td>Image_test_014595.jpg</td>\n",
       "    </tr>\n",
       "    <tr>\n",
       "      <th>...</th>\n",
       "      <td>...</td>\n",
       "    </tr>\n",
       "    <tr>\n",
       "      <th>18218</th>\n",
       "      <td>Image_test_012265.jpg</td>\n",
       "    </tr>\n",
       "    <tr>\n",
       "      <th>18219</th>\n",
       "      <td>Image_test_008325.jpg</td>\n",
       "    </tr>\n",
       "    <tr>\n",
       "      <th>18220</th>\n",
       "      <td>Image_test_005780.jpg</td>\n",
       "    </tr>\n",
       "    <tr>\n",
       "      <th>18221</th>\n",
       "      <td>Image_test_008848.jpg</td>\n",
       "    </tr>\n",
       "    <tr>\n",
       "      <th>18222</th>\n",
       "      <td>Image_test_005711.jpg</td>\n",
       "    </tr>\n",
       "  </tbody>\n",
       "</table>\n",
       "<p>18223 rows × 1 columns</p>\n",
       "</div>"
      ],
      "text/plain": [
       "                   file_name\n",
       "0      Image_test_014180.jpg\n",
       "1      Image_test_010009.jpg\n",
       "2      Image_test_000314.jpg\n",
       "3      Image_test_007960.jpg\n",
       "4      Image_test_014595.jpg\n",
       "...                      ...\n",
       "18218  Image_test_012265.jpg\n",
       "18219  Image_test_008325.jpg\n",
       "18220  Image_test_005780.jpg\n",
       "18221  Image_test_008848.jpg\n",
       "18222  Image_test_005711.jpg\n",
       "\n",
       "[18223 rows x 1 columns]"
      ]
     },
     "execution_count": 90,
     "metadata": {},
     "output_type": "execute_result"
    }
   ],
   "source": [
    "test_df"
   ]
  },
  {
   "cell_type": "code",
   "execution_count": 91,
   "id": "af48ed42",
   "metadata": {
    "execution": {
     "iopub.execute_input": "2022-02-07T19:33:59.441314Z",
     "iopub.status.busy": "2022-02-07T19:33:59.440795Z",
     "iopub.status.idle": "2022-02-07T19:33:59.443740Z",
     "shell.execute_reply": "2022-02-07T19:33:59.443286Z",
     "shell.execute_reply.started": "2022-02-07T13:05:21.993147Z"
    },
    "papermill": {
     "duration": 0.09487,
     "end_time": "2022-02-07T19:33:59.443856",
     "exception": false,
     "start_time": "2022-02-07T19:33:59.348986",
     "status": "completed"
    },
    "tags": []
   },
   "outputs": [],
   "source": [
    "test_df['label']=a"
   ]
  },
  {
   "cell_type": "code",
   "execution_count": 92,
   "id": "59e1bb70",
   "metadata": {
    "execution": {
     "iopub.execute_input": "2022-02-07T19:33:59.622594Z",
     "iopub.status.busy": "2022-02-07T19:33:59.622088Z",
     "iopub.status.idle": "2022-02-07T19:33:59.632278Z",
     "shell.execute_reply": "2022-02-07T19:33:59.631857Z",
     "shell.execute_reply.started": "2022-02-07T13:05:22.286009Z"
    },
    "papermill": {
     "duration": 0.097168,
     "end_time": "2022-02-07T19:33:59.632383",
     "exception": false,
     "start_time": "2022-02-07T19:33:59.535215",
     "status": "completed"
    },
    "tags": []
   },
   "outputs": [
    {
     "data": {
      "text/html": [
       "<div>\n",
       "<style scoped>\n",
       "    .dataframe tbody tr th:only-of-type {\n",
       "        vertical-align: middle;\n",
       "    }\n",
       "\n",
       "    .dataframe tbody tr th {\n",
       "        vertical-align: top;\n",
       "    }\n",
       "\n",
       "    .dataframe thead th {\n",
       "        text-align: right;\n",
       "    }\n",
       "</style>\n",
       "<table border=\"1\" class=\"dataframe\">\n",
       "  <thead>\n",
       "    <tr style=\"text-align: right;\">\n",
       "      <th></th>\n",
       "      <th>file_name</th>\n",
       "      <th>label</th>\n",
       "    </tr>\n",
       "  </thead>\n",
       "  <tbody>\n",
       "    <tr>\n",
       "      <th>0</th>\n",
       "      <td>Image_test_014180.jpg</td>\n",
       "      <td>6</td>\n",
       "    </tr>\n",
       "    <tr>\n",
       "      <th>1</th>\n",
       "      <td>Image_test_010009.jpg</td>\n",
       "      <td>9</td>\n",
       "    </tr>\n",
       "    <tr>\n",
       "      <th>2</th>\n",
       "      <td>Image_test_000314.jpg</td>\n",
       "      <td>9</td>\n",
       "    </tr>\n",
       "    <tr>\n",
       "      <th>3</th>\n",
       "      <td>Image_test_007960.jpg</td>\n",
       "      <td>6</td>\n",
       "    </tr>\n",
       "    <tr>\n",
       "      <th>4</th>\n",
       "      <td>Image_test_014595.jpg</td>\n",
       "      <td>2</td>\n",
       "    </tr>\n",
       "    <tr>\n",
       "      <th>...</th>\n",
       "      <td>...</td>\n",
       "      <td>...</td>\n",
       "    </tr>\n",
       "    <tr>\n",
       "      <th>18218</th>\n",
       "      <td>Image_test_012265.jpg</td>\n",
       "      <td>9</td>\n",
       "    </tr>\n",
       "    <tr>\n",
       "      <th>18219</th>\n",
       "      <td>Image_test_008325.jpg</td>\n",
       "      <td>9</td>\n",
       "    </tr>\n",
       "    <tr>\n",
       "      <th>18220</th>\n",
       "      <td>Image_test_005780.jpg</td>\n",
       "      <td>0</td>\n",
       "    </tr>\n",
       "    <tr>\n",
       "      <th>18221</th>\n",
       "      <td>Image_test_008848.jpg</td>\n",
       "      <td>6</td>\n",
       "    </tr>\n",
       "    <tr>\n",
       "      <th>18222</th>\n",
       "      <td>Image_test_005711.jpg</td>\n",
       "      <td>9</td>\n",
       "    </tr>\n",
       "  </tbody>\n",
       "</table>\n",
       "<p>18223 rows × 2 columns</p>\n",
       "</div>"
      ],
      "text/plain": [
       "                   file_name  label\n",
       "0      Image_test_014180.jpg      6\n",
       "1      Image_test_010009.jpg      9\n",
       "2      Image_test_000314.jpg      9\n",
       "3      Image_test_007960.jpg      6\n",
       "4      Image_test_014595.jpg      2\n",
       "...                      ...    ...\n",
       "18218  Image_test_012265.jpg      9\n",
       "18219  Image_test_008325.jpg      9\n",
       "18220  Image_test_005780.jpg      0\n",
       "18221  Image_test_008848.jpg      6\n",
       "18222  Image_test_005711.jpg      9\n",
       "\n",
       "[18223 rows x 2 columns]"
      ]
     },
     "execution_count": 92,
     "metadata": {},
     "output_type": "execute_result"
    }
   ],
   "source": [
    "test_df"
   ]
  },
  {
   "cell_type": "code",
   "execution_count": 93,
   "id": "791b727f",
   "metadata": {
    "execution": {
     "iopub.execute_input": "2022-02-07T19:33:59.808065Z",
     "iopub.status.busy": "2022-02-07T19:33:59.805525Z",
     "iopub.status.idle": "2022-02-07T19:33:59.811148Z",
     "shell.execute_reply": "2022-02-07T19:33:59.810581Z",
     "shell.execute_reply.started": "2022-02-07T13:05:22.494875Z"
    },
    "papermill": {
     "duration": 0.093847,
     "end_time": "2022-02-07T19:33:59.811261",
     "exception": false,
     "start_time": "2022-02-07T19:33:59.717414",
     "status": "completed"
    },
    "tags": []
   },
   "outputs": [],
   "source": [
    "test_df.set_index(['file_name'],inplace=True)"
   ]
  },
  {
   "cell_type": "code",
   "execution_count": 94,
   "id": "76bc8686",
   "metadata": {
    "execution": {
     "iopub.execute_input": "2022-02-07T19:33:59.990012Z",
     "iopub.status.busy": "2022-02-07T19:33:59.989326Z",
     "iopub.status.idle": "2022-02-07T19:33:59.992051Z",
     "shell.execute_reply": "2022-02-07T19:33:59.992454Z",
     "shell.execute_reply.started": "2022-02-07T13:05:25.945439Z"
    },
    "papermill": {
     "duration": 0.09607,
     "end_time": "2022-02-07T19:33:59.992584",
     "exception": false,
     "start_time": "2022-02-07T19:33:59.896514",
     "status": "completed"
    },
    "tags": []
   },
   "outputs": [
    {
     "data": {
      "text/html": [
       "<div>\n",
       "<style scoped>\n",
       "    .dataframe tbody tr th:only-of-type {\n",
       "        vertical-align: middle;\n",
       "    }\n",
       "\n",
       "    .dataframe tbody tr th {\n",
       "        vertical-align: top;\n",
       "    }\n",
       "\n",
       "    .dataframe thead th {\n",
       "        text-align: right;\n",
       "    }\n",
       "</style>\n",
       "<table border=\"1\" class=\"dataframe\">\n",
       "  <thead>\n",
       "    <tr style=\"text-align: right;\">\n",
       "      <th></th>\n",
       "      <th>label</th>\n",
       "    </tr>\n",
       "    <tr>\n",
       "      <th>file_name</th>\n",
       "      <th></th>\n",
       "    </tr>\n",
       "  </thead>\n",
       "  <tbody>\n",
       "    <tr>\n",
       "      <th>Image_test_014180.jpg</th>\n",
       "      <td>6</td>\n",
       "    </tr>\n",
       "    <tr>\n",
       "      <th>Image_test_010009.jpg</th>\n",
       "      <td>9</td>\n",
       "    </tr>\n",
       "    <tr>\n",
       "      <th>Image_test_000314.jpg</th>\n",
       "      <td>9</td>\n",
       "    </tr>\n",
       "    <tr>\n",
       "      <th>Image_test_007960.jpg</th>\n",
       "      <td>6</td>\n",
       "    </tr>\n",
       "    <tr>\n",
       "      <th>Image_test_014595.jpg</th>\n",
       "      <td>2</td>\n",
       "    </tr>\n",
       "    <tr>\n",
       "      <th>...</th>\n",
       "      <td>...</td>\n",
       "    </tr>\n",
       "    <tr>\n",
       "      <th>Image_test_012265.jpg</th>\n",
       "      <td>9</td>\n",
       "    </tr>\n",
       "    <tr>\n",
       "      <th>Image_test_008325.jpg</th>\n",
       "      <td>9</td>\n",
       "    </tr>\n",
       "    <tr>\n",
       "      <th>Image_test_005780.jpg</th>\n",
       "      <td>0</td>\n",
       "    </tr>\n",
       "    <tr>\n",
       "      <th>Image_test_008848.jpg</th>\n",
       "      <td>6</td>\n",
       "    </tr>\n",
       "    <tr>\n",
       "      <th>Image_test_005711.jpg</th>\n",
       "      <td>9</td>\n",
       "    </tr>\n",
       "  </tbody>\n",
       "</table>\n",
       "<p>18223 rows × 1 columns</p>\n",
       "</div>"
      ],
      "text/plain": [
       "                       label\n",
       "file_name                   \n",
       "Image_test_014180.jpg      6\n",
       "Image_test_010009.jpg      9\n",
       "Image_test_000314.jpg      9\n",
       "Image_test_007960.jpg      6\n",
       "Image_test_014595.jpg      2\n",
       "...                      ...\n",
       "Image_test_012265.jpg      9\n",
       "Image_test_008325.jpg      9\n",
       "Image_test_005780.jpg      0\n",
       "Image_test_008848.jpg      6\n",
       "Image_test_005711.jpg      9\n",
       "\n",
       "[18223 rows x 1 columns]"
      ]
     },
     "execution_count": 94,
     "metadata": {},
     "output_type": "execute_result"
    }
   ],
   "source": [
    "test_df"
   ]
  },
  {
   "cell_type": "code",
   "execution_count": 95,
   "id": "57a92243",
   "metadata": {
    "execution": {
     "iopub.execute_input": "2022-02-07T19:34:00.185360Z",
     "iopub.status.busy": "2022-02-07T19:34:00.184842Z",
     "iopub.status.idle": "2022-02-07T19:34:00.216961Z",
     "shell.execute_reply": "2022-02-07T19:34:00.216523Z",
     "shell.execute_reply.started": "2022-02-07T13:05:34.939325Z"
    },
    "papermill": {
     "duration": 0.130015,
     "end_time": "2022-02-07T19:34:00.217077",
     "exception": false,
     "start_time": "2022-02-07T19:34:00.087062",
     "status": "completed"
    },
    "tags": []
   },
   "outputs": [],
   "source": [
    "test_df.to_csv('file_res_16.csv')"
   ]
  },
  {
   "cell_type": "code",
   "execution_count": null,
   "id": "015f3dea",
   "metadata": {
    "papermill": {
     "duration": 0.086381,
     "end_time": "2022-02-07T19:34:00.389372",
     "exception": false,
     "start_time": "2022-02-07T19:34:00.302991",
     "status": "completed"
    },
    "tags": []
   },
   "outputs": [],
   "source": []
  }
 ],
 "metadata": {
  "kernelspec": {
   "display_name": "Python 3",
   "language": "python",
   "name": "python3"
  },
  "language_info": {
   "codemirror_mode": {
    "name": "ipython",
    "version": 3
   },
   "file_extension": ".py",
   "mimetype": "text/x-python",
   "name": "python",
   "nbconvert_exporter": "python",
   "pygments_lexer": "ipython3",
   "version": "3.7.12"
  },
  "papermill": {
   "default_parameters": {},
   "duration": 12212.11388,
   "end_time": "2022-02-07T19:34:03.063555",
   "environment_variables": {},
   "exception": null,
   "input_path": "__notebook__.ipynb",
   "output_path": "__notebook__.ipynb",
   "parameters": {},
   "start_time": "2022-02-07T16:10:30.949675",
   "version": "2.3.3"
  },
  "widgets": {
   "application/vnd.jupyter.widget-state+json": {
    "state": {
     "072c687120644627bf77b9f75832f318": {
      "model_module": "@jupyter-widgets/controls",
      "model_module_version": "1.5.0",
      "model_name": "HTMLModel",
      "state": {
       "_dom_classes": [],
       "_model_module": "@jupyter-widgets/controls",
       "_model_module_version": "1.5.0",
       "_model_name": "HTMLModel",
       "_view_count": null,
       "_view_module": "@jupyter-widgets/controls",
       "_view_module_version": "1.5.0",
       "_view_name": "HTMLView",
       "description": "",
       "description_tooltip": null,
       "layout": "IPY_MODEL_8df106e09c9b4b71a8bbef1709754609",
       "placeholder": "​",
       "style": "IPY_MODEL_9c9f39f69cdb4f80aa04941175061d50",
       "value": "100%"
      }
     },
     "0e4d121419334fa7a9d096c4d2517689": {
      "model_module": "@jupyter-widgets/controls",
      "model_module_version": "1.5.0",
      "model_name": "FloatProgressModel",
      "state": {
       "_dom_classes": [],
       "_model_module": "@jupyter-widgets/controls",
       "_model_module_version": "1.5.0",
       "_model_name": "FloatProgressModel",
       "_view_count": null,
       "_view_module": "@jupyter-widgets/controls",
       "_view_module_version": "1.5.0",
       "_view_name": "ProgressView",
       "bar_style": "success",
       "description": "",
       "description_tooltip": null,
       "layout": "IPY_MODEL_0f745adb162143209b1cfe3b0291d810",
       "max": 36804509.0,
       "min": 0.0,
       "orientation": "horizontal",
       "style": "IPY_MODEL_fcb3749aa7814ca3921cdd5846ed97e0",
       "value": 36804509.0
      }
     },
     "0f745adb162143209b1cfe3b0291d810": {
      "model_module": "@jupyter-widgets/base",
      "model_module_version": "1.2.0",
      "model_name": "LayoutModel",
      "state": {
       "_model_module": "@jupyter-widgets/base",
       "_model_module_version": "1.2.0",
       "_model_name": "LayoutModel",
       "_view_count": null,
       "_view_module": "@jupyter-widgets/base",
       "_view_module_version": "1.2.0",
       "_view_name": "LayoutView",
       "align_content": null,
       "align_items": null,
       "align_self": null,
       "border": null,
       "bottom": null,
       "display": null,
       "flex": null,
       "flex_flow": null,
       "grid_area": null,
       "grid_auto_columns": null,
       "grid_auto_flow": null,
       "grid_auto_rows": null,
       "grid_column": null,
       "grid_gap": null,
       "grid_row": null,
       "grid_template_areas": null,
       "grid_template_columns": null,
       "grid_template_rows": null,
       "height": null,
       "justify_content": null,
       "justify_items": null,
       "left": null,
       "margin": null,
       "max_height": null,
       "max_width": null,
       "min_height": null,
       "min_width": null,
       "object_fit": null,
       "object_position": null,
       "order": null,
       "overflow": null,
       "overflow_x": null,
       "overflow_y": null,
       "padding": null,
       "right": null,
       "top": null,
       "visibility": null,
       "width": null
      }
     },
     "4d834656db0d4d80a2665c3dd0d7808b": {
      "model_module": "@jupyter-widgets/base",
      "model_module_version": "1.2.0",
      "model_name": "LayoutModel",
      "state": {
       "_model_module": "@jupyter-widgets/base",
       "_model_module_version": "1.2.0",
       "_model_name": "LayoutModel",
       "_view_count": null,
       "_view_module": "@jupyter-widgets/base",
       "_view_module_version": "1.2.0",
       "_view_name": "LayoutView",
       "align_content": null,
       "align_items": null,
       "align_self": null,
       "border": null,
       "bottom": null,
       "display": null,
       "flex": null,
       "flex_flow": null,
       "grid_area": null,
       "grid_auto_columns": null,
       "grid_auto_flow": null,
       "grid_auto_rows": null,
       "grid_column": null,
       "grid_gap": null,
       "grid_row": null,
       "grid_template_areas": null,
       "grid_template_columns": null,
       "grid_template_rows": null,
       "height": null,
       "justify_content": null,
       "justify_items": null,
       "left": null,
       "margin": null,
       "max_height": null,
       "max_width": null,
       "min_height": null,
       "min_width": null,
       "object_fit": null,
       "object_position": null,
       "order": null,
       "overflow": null,
       "overflow_x": null,
       "overflow_y": null,
       "padding": null,
       "right": null,
       "top": null,
       "visibility": null,
       "width": null
      }
     },
     "582095657a0742e7bde745ba7ad7e3ab": {
      "model_module": "@jupyter-widgets/controls",
      "model_module_version": "1.5.0",
      "model_name": "HTMLModel",
      "state": {
       "_dom_classes": [],
       "_model_module": "@jupyter-widgets/controls",
       "_model_module_version": "1.5.0",
       "_model_name": "HTMLModel",
       "_view_count": null,
       "_view_module": "@jupyter-widgets/controls",
       "_view_module_version": "1.5.0",
       "_view_name": "HTMLView",
       "description": "",
       "description_tooltip": null,
       "layout": "IPY_MODEL_989fad4e9bc14ba19e3e3625c3a8c1ce",
       "placeholder": "​",
       "style": "IPY_MODEL_678d98b7bc404a05915a6bb70b548a7a",
       "value": " 35.1M/35.1M [00:00&lt;00:00, 46.7MB/s]"
      }
     },
     "678d98b7bc404a05915a6bb70b548a7a": {
      "model_module": "@jupyter-widgets/controls",
      "model_module_version": "1.5.0",
      "model_name": "DescriptionStyleModel",
      "state": {
       "_model_module": "@jupyter-widgets/controls",
       "_model_module_version": "1.5.0",
       "_model_name": "DescriptionStyleModel",
       "_view_count": null,
       "_view_module": "@jupyter-widgets/base",
       "_view_module_version": "1.2.0",
       "_view_name": "StyleView",
       "description_width": ""
      }
     },
     "8df106e09c9b4b71a8bbef1709754609": {
      "model_module": "@jupyter-widgets/base",
      "model_module_version": "1.2.0",
      "model_name": "LayoutModel",
      "state": {
       "_model_module": "@jupyter-widgets/base",
       "_model_module_version": "1.2.0",
       "_model_name": "LayoutModel",
       "_view_count": null,
       "_view_module": "@jupyter-widgets/base",
       "_view_module_version": "1.2.0",
       "_view_name": "LayoutView",
       "align_content": null,
       "align_items": null,
       "align_self": null,
       "border": null,
       "bottom": null,
       "display": null,
       "flex": null,
       "flex_flow": null,
       "grid_area": null,
       "grid_auto_columns": null,
       "grid_auto_flow": null,
       "grid_auto_rows": null,
       "grid_column": null,
       "grid_gap": null,
       "grid_row": null,
       "grid_template_areas": null,
       "grid_template_columns": null,
       "grid_template_rows": null,
       "height": null,
       "justify_content": null,
       "justify_items": null,
       "left": null,
       "margin": null,
       "max_height": null,
       "max_width": null,
       "min_height": null,
       "min_width": null,
       "object_fit": null,
       "object_position": null,
       "order": null,
       "overflow": null,
       "overflow_x": null,
       "overflow_y": null,
       "padding": null,
       "right": null,
       "top": null,
       "visibility": null,
       "width": null
      }
     },
     "989fad4e9bc14ba19e3e3625c3a8c1ce": {
      "model_module": "@jupyter-widgets/base",
      "model_module_version": "1.2.0",
      "model_name": "LayoutModel",
      "state": {
       "_model_module": "@jupyter-widgets/base",
       "_model_module_version": "1.2.0",
       "_model_name": "LayoutModel",
       "_view_count": null,
       "_view_module": "@jupyter-widgets/base",
       "_view_module_version": "1.2.0",
       "_view_name": "LayoutView",
       "align_content": null,
       "align_items": null,
       "align_self": null,
       "border": null,
       "bottom": null,
       "display": null,
       "flex": null,
       "flex_flow": null,
       "grid_area": null,
       "grid_auto_columns": null,
       "grid_auto_flow": null,
       "grid_auto_rows": null,
       "grid_column": null,
       "grid_gap": null,
       "grid_row": null,
       "grid_template_areas": null,
       "grid_template_columns": null,
       "grid_template_rows": null,
       "height": null,
       "justify_content": null,
       "justify_items": null,
       "left": null,
       "margin": null,
       "max_height": null,
       "max_width": null,
       "min_height": null,
       "min_width": null,
       "object_fit": null,
       "object_position": null,
       "order": null,
       "overflow": null,
       "overflow_x": null,
       "overflow_y": null,
       "padding": null,
       "right": null,
       "top": null,
       "visibility": null,
       "width": null
      }
     },
     "9c9f39f69cdb4f80aa04941175061d50": {
      "model_module": "@jupyter-widgets/controls",
      "model_module_version": "1.5.0",
      "model_name": "DescriptionStyleModel",
      "state": {
       "_model_module": "@jupyter-widgets/controls",
       "_model_module_version": "1.5.0",
       "_model_name": "DescriptionStyleModel",
       "_view_count": null,
       "_view_module": "@jupyter-widgets/base",
       "_view_module_version": "1.2.0",
       "_view_name": "StyleView",
       "description_width": ""
      }
     },
     "f774a96f8ad74389962636b482349098": {
      "model_module": "@jupyter-widgets/controls",
      "model_module_version": "1.5.0",
      "model_name": "HBoxModel",
      "state": {
       "_dom_classes": [],
       "_model_module": "@jupyter-widgets/controls",
       "_model_module_version": "1.5.0",
       "_model_name": "HBoxModel",
       "_view_count": null,
       "_view_module": "@jupyter-widgets/controls",
       "_view_module_version": "1.5.0",
       "_view_name": "HBoxView",
       "box_style": "",
       "children": [
        "IPY_MODEL_072c687120644627bf77b9f75832f318",
        "IPY_MODEL_0e4d121419334fa7a9d096c4d2517689",
        "IPY_MODEL_582095657a0742e7bde745ba7ad7e3ab"
       ],
       "layout": "IPY_MODEL_4d834656db0d4d80a2665c3dd0d7808b"
      }
     },
     "fcb3749aa7814ca3921cdd5846ed97e0": {
      "model_module": "@jupyter-widgets/controls",
      "model_module_version": "1.5.0",
      "model_name": "ProgressStyleModel",
      "state": {
       "_model_module": "@jupyter-widgets/controls",
       "_model_module_version": "1.5.0",
       "_model_name": "ProgressStyleModel",
       "_view_count": null,
       "_view_module": "@jupyter-widgets/base",
       "_view_module_version": "1.2.0",
       "_view_name": "StyleView",
       "bar_color": null,
       "description_width": ""
      }
     }
    },
    "version_major": 2,
    "version_minor": 0
   }
  }
 },
 "nbformat": 4,
 "nbformat_minor": 5
}
