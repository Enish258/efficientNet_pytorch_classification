{
 "cells": [
  {
   "cell_type": "code",
   "execution_count": 1,
   "id": "acd2e2ca",
   "metadata": {
    "execution": {
     "iopub.execute_input": "2022-02-05T21:56:30.589166Z",
     "iopub.status.busy": "2022-02-05T21:56:30.587211Z",
     "iopub.status.idle": "2022-02-05T21:56:32.471217Z",
     "shell.execute_reply": "2022-02-05T21:56:32.470466Z",
     "shell.execute_reply.started": "2022-02-05T21:13:12.971520Z"
    },
    "papermill": {
     "duration": 2.073105,
     "end_time": "2022-02-05T21:56:32.471402",
     "exception": false,
     "start_time": "2022-02-05T21:56:30.398297",
     "status": "completed"
    },
    "tags": []
   },
   "outputs": [],
   "source": [
    "import pandas as pd\n",
    "import numpy as np\n",
    "import torch\n",
    "import os\n",
    "import torchvision\n",
    "from torchvision.transforms import ToTensor, ToPILImage, Normalize, Compose,Resize\n",
    "import torchvision.transforms as tt\n",
    "from torch.utils.data import DataLoader\n",
    "from torch.utils.data import Dataset\n",
    "from torchvision import transforms \n",
    "\n",
    "from torch.utils.data.sampler import SubsetRandomSampler,WeightedRandomSampler\n",
    "import torch.nn as nn\n",
    "import torch.nn.functional as F\n",
    "\n",
    "from torch.utils.data import random_split\n",
    "from torchvision.datasets.utils import download_url\n",
    "import matplotlib.pyplot as plt\n",
    "import glob"
   ]
  },
  {
   "cell_type": "code",
   "execution_count": 2,
   "id": "e99df410",
   "metadata": {
    "execution": {
     "iopub.execute_input": "2022-02-05T21:56:32.652360Z",
     "iopub.status.busy": "2022-02-05T21:56:32.651344Z",
     "iopub.status.idle": "2022-02-05T21:56:46.659100Z",
     "shell.execute_reply": "2022-02-05T21:56:46.658250Z",
     "shell.execute_reply.started": "2022-02-05T21:13:14.434991Z"
    },
    "papermill": {
     "duration": 14.098734,
     "end_time": "2022-02-05T21:56:46.659255",
     "exception": false,
     "start_time": "2022-02-05T21:56:32.560521",
     "status": "completed"
    },
    "tags": []
   },
   "outputs": [
    {
     "name": "stdout",
     "output_type": "stream",
     "text": [
      "Collecting efficientnet-pytorch\r\n",
      "  Downloading efficientnet_pytorch-0.7.1.tar.gz (21 kB)\r\n",
      "  Preparing metadata (setup.py) ... \u001b[?25l-\b \bdone\r\n",
      "\u001b[?25hRequirement already satisfied: torch in /opt/conda/lib/python3.7/site-packages (from efficientnet-pytorch) (1.9.1)\r\n",
      "Requirement already satisfied: typing-extensions in /opt/conda/lib/python3.7/site-packages (from torch->efficientnet-pytorch) (3.10.0.2)\r\n",
      "Building wheels for collected packages: efficientnet-pytorch\r\n",
      "  Building wheel for efficientnet-pytorch (setup.py) ... \u001b[?25l-\b \b\\\b \bdone\r\n",
      "\u001b[?25h  Created wheel for efficientnet-pytorch: filename=efficientnet_pytorch-0.7.1-py3-none-any.whl size=16446 sha256=d3124f642c95f431d8e81d2e846ee9c30237e9fbb2a6c091197bbaaa99bcb639\r\n",
      "  Stored in directory: /root/.cache/pip/wheels/0e/cc/b2/49e74588263573ff778da58cc99b9c6349b496636a7e165be6\r\n",
      "Successfully built efficientnet-pytorch\r\n",
      "Installing collected packages: efficientnet-pytorch\r\n",
      "Successfully installed efficientnet-pytorch-0.7.1\r\n",
      "\u001b[33mWARNING: Running pip as the 'root' user can result in broken permissions and conflicting behaviour with the system package manager. It is recommended to use a virtual environment instead: https://pip.pypa.io/warnings/venv\u001b[0m\r\n",
      "Note: you may need to restart the kernel to use updated packages.\n"
     ]
    }
   ],
   "source": [
    "pip install --upgrade efficientnet-pytorch"
   ]
  },
  {
   "cell_type": "code",
   "execution_count": 3,
   "id": "0b9c8edd",
   "metadata": {
    "execution": {
     "iopub.execute_input": "2022-02-05T21:56:46.848366Z",
     "iopub.status.busy": "2022-02-05T21:56:46.847329Z",
     "iopub.status.idle": "2022-02-05T21:56:47.784649Z",
     "shell.execute_reply": "2022-02-05T21:56:47.783756Z",
     "shell.execute_reply.started": "2022-02-05T21:13:25.693363Z"
    },
    "papermill": {
     "duration": 1.034209,
     "end_time": "2022-02-05T21:56:47.784798",
     "exception": false,
     "start_time": "2022-02-05T21:56:46.750589",
     "status": "completed"
    },
    "tags": []
   },
   "outputs": [],
   "source": [
    "from sklearn.metrics import balanced_accuracy_score,f1_score\n",
    "import zipfile\n",
    "import numpy as np\n",
    "from glob import glob\n",
    "import matplotlib.pyplot as plt\n",
    "import torch\n",
    "import torch.nn as nn\n",
    "\n",
    "from torchvision import datasets, transforms as T\n",
    "from efficientnet_pytorch import EfficientNet\n",
    "import os\n",
    "import torch.optim as optim\n",
    "from PIL import ImageFile\n",
    "from sklearn.metrics import accuracy_score\n",
    "from PIL import Image\n",
    "import PIL"
   ]
  },
  {
   "cell_type": "code",
   "execution_count": null,
   "id": "09ac0791",
   "metadata": {
    "papermill": {
     "duration": 0.089564,
     "end_time": "2022-02-05T21:56:47.964358",
     "exception": false,
     "start_time": "2022-02-05T21:56:47.874794",
     "status": "completed"
    },
    "tags": []
   },
   "outputs": [],
   "source": []
  },
  {
   "cell_type": "code",
   "execution_count": 4,
   "id": "fe5d95b4",
   "metadata": {
    "execution": {
     "iopub.execute_input": "2022-02-05T21:56:48.162415Z",
     "iopub.status.busy": "2022-02-05T21:56:48.161285Z",
     "iopub.status.idle": "2022-02-05T21:56:48.164349Z",
     "shell.execute_reply": "2022-02-05T21:56:48.163599Z",
     "shell.execute_reply.started": "2022-02-05T21:13:26.474336Z"
    },
    "papermill": {
     "duration": 0.110763,
     "end_time": "2022-02-05T21:56:48.164478",
     "exception": false,
     "start_time": "2022-02-05T21:56:48.053715",
     "status": "completed"
    },
    "tags": []
   },
   "outputs": [],
   "source": [
    "from PIL import Image\n",
    "import PIL"
   ]
  },
  {
   "cell_type": "code",
   "execution_count": 5,
   "id": "d59da0ed",
   "metadata": {
    "execution": {
     "iopub.execute_input": "2022-02-05T21:56:48.348952Z",
     "iopub.status.busy": "2022-02-05T21:56:48.347725Z",
     "iopub.status.idle": "2022-02-05T21:56:48.350064Z",
     "shell.execute_reply": "2022-02-05T21:56:48.350762Z",
     "shell.execute_reply.started": "2022-02-05T21:13:26.481670Z"
    },
    "papermill": {
     "duration": 0.096899,
     "end_time": "2022-02-05T21:56:48.350933",
     "exception": false,
     "start_time": "2022-02-05T21:56:48.254034",
     "status": "completed"
    },
    "tags": []
   },
   "outputs": [],
   "source": [
    "data_folder=\"../input/stylumia-complete/\""
   ]
  },
  {
   "cell_type": "code",
   "execution_count": 6,
   "id": "eac47109",
   "metadata": {
    "execution": {
     "iopub.execute_input": "2022-02-05T21:56:48.534841Z",
     "iopub.status.busy": "2022-02-05T21:56:48.534147Z",
     "iopub.status.idle": "2022-02-05T21:56:48.597133Z",
     "shell.execute_reply": "2022-02-05T21:56:48.596598Z",
     "shell.execute_reply.started": "2022-02-05T21:13:26.490573Z"
    },
    "papermill": {
     "duration": 0.15676,
     "end_time": "2022-02-05T21:56:48.597269",
     "exception": false,
     "start_time": "2022-02-05T21:56:48.440509",
     "status": "completed"
    },
    "tags": []
   },
   "outputs": [],
   "source": [
    "train_file=pd.read_csv(os.path.join(data_folder+'train_label.csv'))"
   ]
  },
  {
   "cell_type": "code",
   "execution_count": 7,
   "id": "e4504b5e",
   "metadata": {
    "execution": {
     "iopub.execute_input": "2022-02-05T21:56:48.784244Z",
     "iopub.status.busy": "2022-02-05T21:56:48.783512Z",
     "iopub.status.idle": "2022-02-05T21:56:48.792705Z",
     "shell.execute_reply": "2022-02-05T21:56:48.792129Z",
     "shell.execute_reply.started": "2022-02-05T21:13:26.541183Z"
    },
    "papermill": {
     "duration": 0.104347,
     "end_time": "2022-02-05T21:56:48.792845",
     "exception": false,
     "start_time": "2022-02-05T21:56:48.688498",
     "status": "completed"
    },
    "tags": []
   },
   "outputs": [],
   "source": [
    "train_file = train_file.sample(frac=1).reset_index(drop=True)"
   ]
  },
  {
   "cell_type": "code",
   "execution_count": 8,
   "id": "633ab73f",
   "metadata": {
    "execution": {
     "iopub.execute_input": "2022-02-05T21:56:48.974670Z",
     "iopub.status.busy": "2022-02-05T21:56:48.973515Z",
     "iopub.status.idle": "2022-02-05T21:56:48.993804Z",
     "shell.execute_reply": "2022-02-05T21:56:48.994460Z",
     "shell.execute_reply.started": "2022-02-05T21:13:26.554312Z"
    },
    "papermill": {
     "duration": 0.112419,
     "end_time": "2022-02-05T21:56:48.994652",
     "exception": false,
     "start_time": "2022-02-05T21:56:48.882233",
     "status": "completed"
    },
    "tags": []
   },
   "outputs": [
    {
     "data": {
      "text/html": [
       "<div>\n",
       "<style scoped>\n",
       "    .dataframe tbody tr th:only-of-type {\n",
       "        vertical-align: middle;\n",
       "    }\n",
       "\n",
       "    .dataframe tbody tr th {\n",
       "        vertical-align: top;\n",
       "    }\n",
       "\n",
       "    .dataframe thead th {\n",
       "        text-align: right;\n",
       "    }\n",
       "</style>\n",
       "<table border=\"1\" class=\"dataframe\">\n",
       "  <thead>\n",
       "    <tr style=\"text-align: right;\">\n",
       "      <th></th>\n",
       "      <th>file_name</th>\n",
       "      <th>label</th>\n",
       "    </tr>\n",
       "  </thead>\n",
       "  <tbody>\n",
       "    <tr>\n",
       "      <th>0</th>\n",
       "      <td>Image_025438.jpg</td>\n",
       "      <td>7</td>\n",
       "    </tr>\n",
       "    <tr>\n",
       "      <th>1</th>\n",
       "      <td>Image_025019.jpg</td>\n",
       "      <td>6</td>\n",
       "    </tr>\n",
       "    <tr>\n",
       "      <th>2</th>\n",
       "      <td>Image_014310.jpg</td>\n",
       "      <td>2</td>\n",
       "    </tr>\n",
       "    <tr>\n",
       "      <th>3</th>\n",
       "      <td>Image_017924.jpg</td>\n",
       "      <td>4</td>\n",
       "    </tr>\n",
       "    <tr>\n",
       "      <th>4</th>\n",
       "      <td>Image_012618.jpg</td>\n",
       "      <td>0</td>\n",
       "    </tr>\n",
       "    <tr>\n",
       "      <th>...</th>\n",
       "      <td>...</td>\n",
       "      <td>...</td>\n",
       "    </tr>\n",
       "    <tr>\n",
       "      <th>31744</th>\n",
       "      <td>Image_009961.jpg</td>\n",
       "      <td>3</td>\n",
       "    </tr>\n",
       "    <tr>\n",
       "      <th>31745</th>\n",
       "      <td>Image_009375.jpg</td>\n",
       "      <td>3</td>\n",
       "    </tr>\n",
       "    <tr>\n",
       "      <th>31746</th>\n",
       "      <td>Image_007757.jpg</td>\n",
       "      <td>5</td>\n",
       "    </tr>\n",
       "    <tr>\n",
       "      <th>31747</th>\n",
       "      <td>Image_020485.jpg</td>\n",
       "      <td>6</td>\n",
       "    </tr>\n",
       "    <tr>\n",
       "      <th>31748</th>\n",
       "      <td>Image_016930.jpg</td>\n",
       "      <td>4</td>\n",
       "    </tr>\n",
       "  </tbody>\n",
       "</table>\n",
       "<p>31749 rows × 2 columns</p>\n",
       "</div>"
      ],
      "text/plain": [
       "              file_name  label\n",
       "0      Image_025438.jpg      7\n",
       "1      Image_025019.jpg      6\n",
       "2      Image_014310.jpg      2\n",
       "3      Image_017924.jpg      4\n",
       "4      Image_012618.jpg      0\n",
       "...                 ...    ...\n",
       "31744  Image_009961.jpg      3\n",
       "31745  Image_009375.jpg      3\n",
       "31746  Image_007757.jpg      5\n",
       "31747  Image_020485.jpg      6\n",
       "31748  Image_016930.jpg      4\n",
       "\n",
       "[31749 rows x 2 columns]"
      ]
     },
     "execution_count": 8,
     "metadata": {},
     "output_type": "execute_result"
    }
   ],
   "source": [
    "train_file"
   ]
  },
  {
   "cell_type": "code",
   "execution_count": 9,
   "id": "09934e0d",
   "metadata": {
    "execution": {
     "iopub.execute_input": "2022-02-05T21:56:49.188218Z",
     "iopub.status.busy": "2022-02-05T21:56:49.187261Z",
     "iopub.status.idle": "2022-02-05T21:56:49.194949Z",
     "shell.execute_reply": "2022-02-05T21:56:49.194306Z",
     "shell.execute_reply.started": "2022-02-05T21:13:26.576027Z"
    },
    "papermill": {
     "duration": 0.109206,
     "end_time": "2022-02-05T21:56:49.195083",
     "exception": false,
     "start_time": "2022-02-05T21:56:49.085877",
     "status": "completed"
    },
    "tags": []
   },
   "outputs": [
    {
     "data": {
      "text/plain": [
       "7"
      ]
     },
     "execution_count": 9,
     "metadata": {},
     "output_type": "execute_result"
    }
   ],
   "source": [
    "train_file.loc[0,'label']"
   ]
  },
  {
   "cell_type": "code",
   "execution_count": null,
   "id": "96a8842f",
   "metadata": {
    "papermill": {
     "duration": 0.090827,
     "end_time": "2022-02-05T21:56:49.376213",
     "exception": false,
     "start_time": "2022-02-05T21:56:49.285386",
     "status": "completed"
    },
    "tags": []
   },
   "outputs": [],
   "source": []
  },
  {
   "cell_type": "code",
   "execution_count": 10,
   "id": "4c98af73",
   "metadata": {
    "execution": {
     "iopub.execute_input": "2022-02-05T21:56:49.560865Z",
     "iopub.status.busy": "2022-02-05T21:56:49.559777Z",
     "iopub.status.idle": "2022-02-05T21:56:49.573024Z",
     "shell.execute_reply": "2022-02-05T21:56:49.572461Z",
     "shell.execute_reply.started": "2022-02-05T21:13:26.594416Z"
    },
    "papermill": {
     "duration": 0.106603,
     "end_time": "2022-02-05T21:56:49.573166",
     "exception": false,
     "start_time": "2022-02-05T21:56:49.466563",
     "status": "completed"
    },
    "tags": []
   },
   "outputs": [
    {
     "data": {
      "text/html": [
       "<div>\n",
       "<style scoped>\n",
       "    .dataframe tbody tr th:only-of-type {\n",
       "        vertical-align: middle;\n",
       "    }\n",
       "\n",
       "    .dataframe tbody tr th {\n",
       "        vertical-align: top;\n",
       "    }\n",
       "\n",
       "    .dataframe thead th {\n",
       "        text-align: right;\n",
       "    }\n",
       "</style>\n",
       "<table border=\"1\" class=\"dataframe\">\n",
       "  <thead>\n",
       "    <tr style=\"text-align: right;\">\n",
       "      <th></th>\n",
       "      <th>file_name</th>\n",
       "      <th>label</th>\n",
       "    </tr>\n",
       "  </thead>\n",
       "  <tbody>\n",
       "    <tr>\n",
       "      <th>0</th>\n",
       "      <td>Image_025438.jpg</td>\n",
       "      <td>7</td>\n",
       "    </tr>\n",
       "    <tr>\n",
       "      <th>1</th>\n",
       "      <td>Image_025019.jpg</td>\n",
       "      <td>6</td>\n",
       "    </tr>\n",
       "    <tr>\n",
       "      <th>2</th>\n",
       "      <td>Image_014310.jpg</td>\n",
       "      <td>2</td>\n",
       "    </tr>\n",
       "    <tr>\n",
       "      <th>3</th>\n",
       "      <td>Image_017924.jpg</td>\n",
       "      <td>4</td>\n",
       "    </tr>\n",
       "    <tr>\n",
       "      <th>4</th>\n",
       "      <td>Image_012618.jpg</td>\n",
       "      <td>0</td>\n",
       "    </tr>\n",
       "    <tr>\n",
       "      <th>...</th>\n",
       "      <td>...</td>\n",
       "      <td>...</td>\n",
       "    </tr>\n",
       "    <tr>\n",
       "      <th>31744</th>\n",
       "      <td>Image_009961.jpg</td>\n",
       "      <td>3</td>\n",
       "    </tr>\n",
       "    <tr>\n",
       "      <th>31745</th>\n",
       "      <td>Image_009375.jpg</td>\n",
       "      <td>3</td>\n",
       "    </tr>\n",
       "    <tr>\n",
       "      <th>31746</th>\n",
       "      <td>Image_007757.jpg</td>\n",
       "      <td>5</td>\n",
       "    </tr>\n",
       "    <tr>\n",
       "      <th>31747</th>\n",
       "      <td>Image_020485.jpg</td>\n",
       "      <td>6</td>\n",
       "    </tr>\n",
       "    <tr>\n",
       "      <th>31748</th>\n",
       "      <td>Image_016930.jpg</td>\n",
       "      <td>4</td>\n",
       "    </tr>\n",
       "  </tbody>\n",
       "</table>\n",
       "<p>31749 rows × 2 columns</p>\n",
       "</div>"
      ],
      "text/plain": [
       "              file_name  label\n",
       "0      Image_025438.jpg      7\n",
       "1      Image_025019.jpg      6\n",
       "2      Image_014310.jpg      2\n",
       "3      Image_017924.jpg      4\n",
       "4      Image_012618.jpg      0\n",
       "...                 ...    ...\n",
       "31744  Image_009961.jpg      3\n",
       "31745  Image_009375.jpg      3\n",
       "31746  Image_007757.jpg      5\n",
       "31747  Image_020485.jpg      6\n",
       "31748  Image_016930.jpg      4\n",
       "\n",
       "[31749 rows x 2 columns]"
      ]
     },
     "execution_count": 10,
     "metadata": {},
     "output_type": "execute_result"
    }
   ],
   "source": [
    "train_file"
   ]
  },
  {
   "cell_type": "code",
   "execution_count": 11,
   "id": "976caeac",
   "metadata": {
    "execution": {
     "iopub.execute_input": "2022-02-05T21:56:49.760633Z",
     "iopub.status.busy": "2022-02-05T21:56:49.759487Z",
     "iopub.status.idle": "2022-02-05T21:56:49.768140Z",
     "shell.execute_reply": "2022-02-05T21:56:49.768775Z",
     "shell.execute_reply.started": "2022-02-05T21:13:26.607831Z"
    },
    "papermill": {
     "duration": 0.104951,
     "end_time": "2022-02-05T21:56:49.768941",
     "exception": false,
     "start_time": "2022-02-05T21:56:49.663990",
     "status": "completed"
    },
    "tags": []
   },
   "outputs": [
    {
     "data": {
      "text/plain": [
       "6     6285\n",
       "3     4139\n",
       "9     3933\n",
       "7     3664\n",
       "2     2778\n",
       "5     2433\n",
       "8     2338\n",
       "0     2166\n",
       "4     2052\n",
       "10    1039\n",
       "1      922\n",
       "Name: label, dtype: int64"
      ]
     },
     "execution_count": 11,
     "metadata": {},
     "output_type": "execute_result"
    }
   ],
   "source": [
    "train_file['label'].value_counts()"
   ]
  },
  {
   "cell_type": "code",
   "execution_count": 12,
   "id": "b6a7fae5",
   "metadata": {
    "execution": {
     "iopub.execute_input": "2022-02-05T21:56:49.958274Z",
     "iopub.status.busy": "2022-02-05T21:56:49.957191Z",
     "iopub.status.idle": "2022-02-05T21:56:49.964341Z",
     "shell.execute_reply": "2022-02-05T21:56:49.964914Z",
     "shell.execute_reply.started": "2022-02-05T21:13:26.618812Z"
    },
    "papermill": {
     "duration": 0.104503,
     "end_time": "2022-02-05T21:56:49.965112",
     "exception": false,
     "start_time": "2022-02-05T21:56:49.860609",
     "status": "completed"
    },
    "tags": []
   },
   "outputs": [],
   "source": [
    "train_df=train_file.sample(frac=1).reset_index(drop=True)"
   ]
  },
  {
   "cell_type": "code",
   "execution_count": 13,
   "id": "bf9f48b6",
   "metadata": {
    "execution": {
     "iopub.execute_input": "2022-02-05T21:56:50.156866Z",
     "iopub.status.busy": "2022-02-05T21:56:50.155776Z",
     "iopub.status.idle": "2022-02-05T21:56:50.166822Z",
     "shell.execute_reply": "2022-02-05T21:56:50.166239Z",
     "shell.execute_reply.started": "2022-02-05T21:13:26.632636Z"
    },
    "papermill": {
     "duration": 0.109658,
     "end_time": "2022-02-05T21:56:50.166960",
     "exception": false,
     "start_time": "2022-02-05T21:56:50.057302",
     "status": "completed"
    },
    "tags": []
   },
   "outputs": [
    {
     "data": {
      "text/html": [
       "<div>\n",
       "<style scoped>\n",
       "    .dataframe tbody tr th:only-of-type {\n",
       "        vertical-align: middle;\n",
       "    }\n",
       "\n",
       "    .dataframe tbody tr th {\n",
       "        vertical-align: top;\n",
       "    }\n",
       "\n",
       "    .dataframe thead th {\n",
       "        text-align: right;\n",
       "    }\n",
       "</style>\n",
       "<table border=\"1\" class=\"dataframe\">\n",
       "  <thead>\n",
       "    <tr style=\"text-align: right;\">\n",
       "      <th></th>\n",
       "      <th>file_name</th>\n",
       "      <th>label</th>\n",
       "    </tr>\n",
       "  </thead>\n",
       "  <tbody>\n",
       "    <tr>\n",
       "      <th>0</th>\n",
       "      <td>Image_029210.jpg</td>\n",
       "      <td>5</td>\n",
       "    </tr>\n",
       "    <tr>\n",
       "      <th>1</th>\n",
       "      <td>Image_023190.jpg</td>\n",
       "      <td>6</td>\n",
       "    </tr>\n",
       "    <tr>\n",
       "      <th>2</th>\n",
       "      <td>Image_014101.jpg</td>\n",
       "      <td>10</td>\n",
       "    </tr>\n",
       "    <tr>\n",
       "      <th>3</th>\n",
       "      <td>Image_019624.jpg</td>\n",
       "      <td>6</td>\n",
       "    </tr>\n",
       "    <tr>\n",
       "      <th>4</th>\n",
       "      <td>Image_014261.jpg</td>\n",
       "      <td>10</td>\n",
       "    </tr>\n",
       "    <tr>\n",
       "      <th>...</th>\n",
       "      <td>...</td>\n",
       "      <td>...</td>\n",
       "    </tr>\n",
       "    <tr>\n",
       "      <th>31744</th>\n",
       "      <td>Image_011338.jpg</td>\n",
       "      <td>3</td>\n",
       "    </tr>\n",
       "    <tr>\n",
       "      <th>31745</th>\n",
       "      <td>Image_010593.jpg</td>\n",
       "      <td>3</td>\n",
       "    </tr>\n",
       "    <tr>\n",
       "      <th>31746</th>\n",
       "      <td>Image_027944.jpg</td>\n",
       "      <td>7</td>\n",
       "    </tr>\n",
       "    <tr>\n",
       "      <th>31747</th>\n",
       "      <td>Image_027973.jpg</td>\n",
       "      <td>7</td>\n",
       "    </tr>\n",
       "    <tr>\n",
       "      <th>31748</th>\n",
       "      <td>Image_014640.jpg</td>\n",
       "      <td>2</td>\n",
       "    </tr>\n",
       "  </tbody>\n",
       "</table>\n",
       "<p>31749 rows × 2 columns</p>\n",
       "</div>"
      ],
      "text/plain": [
       "              file_name  label\n",
       "0      Image_029210.jpg      5\n",
       "1      Image_023190.jpg      6\n",
       "2      Image_014101.jpg     10\n",
       "3      Image_019624.jpg      6\n",
       "4      Image_014261.jpg     10\n",
       "...                 ...    ...\n",
       "31744  Image_011338.jpg      3\n",
       "31745  Image_010593.jpg      3\n",
       "31746  Image_027944.jpg      7\n",
       "31747  Image_027973.jpg      7\n",
       "31748  Image_014640.jpg      2\n",
       "\n",
       "[31749 rows x 2 columns]"
      ]
     },
     "execution_count": 13,
     "metadata": {},
     "output_type": "execute_result"
    }
   ],
   "source": [
    "train_df"
   ]
  },
  {
   "cell_type": "code",
   "execution_count": 14,
   "id": "fb366692",
   "metadata": {
    "execution": {
     "iopub.execute_input": "2022-02-05T21:56:50.357383Z",
     "iopub.status.busy": "2022-02-05T21:56:50.356344Z",
     "iopub.status.idle": "2022-02-05T21:56:50.360064Z",
     "shell.execute_reply": "2022-02-05T21:56:50.360630Z",
     "shell.execute_reply.started": "2022-02-05T21:13:26.646610Z"
    },
    "papermill": {
     "duration": 0.101877,
     "end_time": "2022-02-05T21:56:50.360793",
     "exception": false,
     "start_time": "2022-02-05T21:56:50.258916",
     "status": "completed"
    },
    "tags": []
   },
   "outputs": [],
   "source": [
    "targets,count=np.unique(train_df['label'],return_counts=True)"
   ]
  },
  {
   "cell_type": "code",
   "execution_count": null,
   "id": "728541b6",
   "metadata": {
    "papermill": {
     "duration": 0.091112,
     "end_time": "2022-02-05T21:56:50.543663",
     "exception": false,
     "start_time": "2022-02-05T21:56:50.452551",
     "status": "completed"
    },
    "tags": []
   },
   "outputs": [],
   "source": []
  },
  {
   "cell_type": "code",
   "execution_count": 15,
   "id": "0ce7320f",
   "metadata": {
    "execution": {
     "iopub.execute_input": "2022-02-05T21:56:50.734828Z",
     "iopub.status.busy": "2022-02-05T21:56:50.733860Z",
     "iopub.status.idle": "2022-02-05T21:56:50.737617Z",
     "shell.execute_reply": "2022-02-05T21:56:50.738150Z",
     "shell.execute_reply.started": "2022-02-05T21:13:26.656060Z"
    },
    "papermill": {
     "duration": 0.102326,
     "end_time": "2022-02-05T21:56:50.738303",
     "exception": false,
     "start_time": "2022-02-05T21:56:50.635977",
     "status": "completed"
    },
    "tags": []
   },
   "outputs": [
    {
     "data": {
      "text/plain": [
       "array([ 0,  1,  2,  3,  4,  5,  6,  7,  8,  9, 10])"
      ]
     },
     "execution_count": 15,
     "metadata": {},
     "output_type": "execute_result"
    }
   ],
   "source": [
    "targets"
   ]
  },
  {
   "cell_type": "code",
   "execution_count": 16,
   "id": "2ee7b976",
   "metadata": {
    "execution": {
     "iopub.execute_input": "2022-02-05T21:56:50.934120Z",
     "iopub.status.busy": "2022-02-05T21:56:50.933173Z",
     "iopub.status.idle": "2022-02-05T21:56:50.936827Z",
     "shell.execute_reply": "2022-02-05T21:56:50.937435Z",
     "shell.execute_reply.started": "2022-02-05T21:13:26.664258Z"
    },
    "papermill": {
     "duration": 0.107197,
     "end_time": "2022-02-05T21:56:50.937642",
     "exception": false,
     "start_time": "2022-02-05T21:56:50.830445",
     "status": "completed"
    },
    "tags": []
   },
   "outputs": [
    {
     "data": {
      "text/plain": [
       "array([2166,  922, 2778, 4139, 2052, 2433, 6285, 3664, 2338, 3933, 1039])"
      ]
     },
     "execution_count": 16,
     "metadata": {},
     "output_type": "execute_result"
    }
   ],
   "source": [
    "count"
   ]
  },
  {
   "cell_type": "code",
   "execution_count": 17,
   "id": "6e5c08c4",
   "metadata": {
    "execution": {
     "iopub.execute_input": "2022-02-05T21:56:51.135744Z",
     "iopub.status.busy": "2022-02-05T21:56:51.134823Z",
     "iopub.status.idle": "2022-02-05T21:56:51.137848Z",
     "shell.execute_reply": "2022-02-05T21:56:51.138311Z",
     "shell.execute_reply.started": "2022-02-05T21:13:26.674083Z"
    },
    "papermill": {
     "duration": 0.107578,
     "end_time": "2022-02-05T21:56:51.138480",
     "exception": false,
     "start_time": "2022-02-05T21:56:51.030902",
     "status": "completed"
    },
    "tags": []
   },
   "outputs": [],
   "source": [
    "weights=[sum(count)/c for c in count]"
   ]
  },
  {
   "cell_type": "code",
   "execution_count": 18,
   "id": "059756a8",
   "metadata": {
    "execution": {
     "iopub.execute_input": "2022-02-05T21:56:51.331780Z",
     "iopub.status.busy": "2022-02-05T21:56:51.330798Z",
     "iopub.status.idle": "2022-02-05T21:56:51.334458Z",
     "shell.execute_reply": "2022-02-05T21:56:51.335061Z",
     "shell.execute_reply.started": "2022-02-05T21:13:26.681645Z"
    },
    "papermill": {
     "duration": 0.103574,
     "end_time": "2022-02-05T21:56:51.335233",
     "exception": false,
     "start_time": "2022-02-05T21:56:51.231659",
     "status": "completed"
    },
    "tags": []
   },
   "outputs": [
    {
     "data": {
      "text/plain": [
       "[14.657894736842104,\n",
       " 34.43492407809111,\n",
       " 11.428725701943845,\n",
       " 7.670693404203914,\n",
       " 15.472222222222221,\n",
       " 13.049321824907521,\n",
       " 5.051551312649164,\n",
       " 8.665120087336245,\n",
       " 13.57955517536356,\n",
       " 8.072463768115941,\n",
       " 30.557266602502406]"
      ]
     },
     "execution_count": 18,
     "metadata": {},
     "output_type": "execute_result"
    }
   ],
   "source": [
    "weights"
   ]
  },
  {
   "cell_type": "code",
   "execution_count": 19,
   "id": "f0b603c0",
   "metadata": {
    "execution": {
     "iopub.execute_input": "2022-02-05T21:56:51.532547Z",
     "iopub.status.busy": "2022-02-05T21:56:51.530471Z",
     "iopub.status.idle": "2022-02-05T21:56:51.536858Z",
     "shell.execute_reply": "2022-02-05T21:56:51.536206Z",
     "shell.execute_reply.started": "2022-02-05T21:13:26.692494Z"
    },
    "papermill": {
     "duration": 0.109447,
     "end_time": "2022-02-05T21:56:51.537039",
     "exception": false,
     "start_time": "2022-02-05T21:56:51.427592",
     "status": "completed"
    },
    "tags": []
   },
   "outputs": [],
   "source": [
    "example_weights=[weights[e] for e in train_df['label']]"
   ]
  },
  {
   "cell_type": "code",
   "execution_count": 20,
   "id": "9caaa106",
   "metadata": {
    "execution": {
     "iopub.execute_input": "2022-02-05T21:56:51.727124Z",
     "iopub.status.busy": "2022-02-05T21:56:51.724307Z",
     "iopub.status.idle": "2022-02-05T21:56:51.730949Z",
     "shell.execute_reply": "2022-02-05T21:56:51.731594Z",
     "shell.execute_reply.started": "2022-02-05T21:13:26.703880Z"
    },
    "papermill": {
     "duration": 0.102493,
     "end_time": "2022-02-05T21:56:51.731744",
     "exception": false,
     "start_time": "2022-02-05T21:56:51.629251",
     "status": "completed"
    },
    "tags": []
   },
   "outputs": [
    {
     "data": {
      "text/plain": [
       "31749"
      ]
     },
     "execution_count": 20,
     "metadata": {},
     "output_type": "execute_result"
    }
   ],
   "source": [
    "len(example_weights)"
   ]
  },
  {
   "cell_type": "code",
   "execution_count": null,
   "id": "85072d6a",
   "metadata": {
    "papermill": {
     "duration": 0.095284,
     "end_time": "2022-02-05T21:56:51.920323",
     "exception": false,
     "start_time": "2022-02-05T21:56:51.825039",
     "status": "completed"
    },
    "tags": []
   },
   "outputs": [],
   "source": []
  },
  {
   "cell_type": "code",
   "execution_count": 21,
   "id": "5dfbb55c",
   "metadata": {
    "execution": {
     "iopub.execute_input": "2022-02-05T21:56:52.122734Z",
     "iopub.status.busy": "2022-02-05T21:56:52.121528Z",
     "iopub.status.idle": "2022-02-05T21:56:52.127011Z",
     "shell.execute_reply": "2022-02-05T21:56:52.127701Z",
     "shell.execute_reply.started": "2022-02-05T21:13:26.714627Z"
    },
    "papermill": {
     "duration": 0.114558,
     "end_time": "2022-02-05T21:56:52.127911",
     "exception": false,
     "start_time": "2022-02-05T21:56:52.013353",
     "status": "completed"
    },
    "tags": []
   },
   "outputs": [],
   "source": [
    "sampler=WeightedRandomSampler(example_weights,len(train_df['label']),replacement=True)"
   ]
  },
  {
   "cell_type": "code",
   "execution_count": 22,
   "id": "afb1dfc1",
   "metadata": {
    "execution": {
     "iopub.execute_input": "2022-02-05T21:56:52.497244Z",
     "iopub.status.busy": "2022-02-05T21:56:52.496172Z",
     "iopub.status.idle": "2022-02-05T21:56:52.502063Z",
     "shell.execute_reply": "2022-02-05T21:56:52.502911Z",
     "shell.execute_reply.started": "2022-02-05T21:13:26.727743Z"
    },
    "papermill": {
     "duration": 0.178739,
     "end_time": "2022-02-05T21:56:52.503197",
     "exception": false,
     "start_time": "2022-02-05T21:56:52.324458",
     "status": "completed"
    },
    "tags": []
   },
   "outputs": [
    {
     "data": {
      "text/plain": [
       "<torch.utils.data.sampler.WeightedRandomSampler at 0x7fe047897890>"
      ]
     },
     "execution_count": 22,
     "metadata": {},
     "output_type": "execute_result"
    }
   ],
   "source": [
    "sampler"
   ]
  },
  {
   "cell_type": "code",
   "execution_count": 23,
   "id": "3519c261",
   "metadata": {
    "execution": {
     "iopub.execute_input": "2022-02-05T21:56:52.841292Z",
     "iopub.status.busy": "2022-02-05T21:56:52.840147Z",
     "iopub.status.idle": "2022-02-05T21:56:52.844161Z",
     "shell.execute_reply": "2022-02-05T21:56:52.844850Z",
     "shell.execute_reply.started": "2022-02-05T21:13:26.738709Z"
    },
    "papermill": {
     "duration": 0.181103,
     "end_time": "2022-02-05T21:56:52.845015",
     "exception": false,
     "start_time": "2022-02-05T21:56:52.663912",
     "status": "completed"
    },
    "tags": []
   },
   "outputs": [
    {
     "data": {
      "text/html": [
       "<div>\n",
       "<style scoped>\n",
       "    .dataframe tbody tr th:only-of-type {\n",
       "        vertical-align: middle;\n",
       "    }\n",
       "\n",
       "    .dataframe tbody tr th {\n",
       "        vertical-align: top;\n",
       "    }\n",
       "\n",
       "    .dataframe thead th {\n",
       "        text-align: right;\n",
       "    }\n",
       "</style>\n",
       "<table border=\"1\" class=\"dataframe\">\n",
       "  <thead>\n",
       "    <tr style=\"text-align: right;\">\n",
       "      <th></th>\n",
       "      <th>file_name</th>\n",
       "      <th>label</th>\n",
       "    </tr>\n",
       "  </thead>\n",
       "  <tbody>\n",
       "    <tr>\n",
       "      <th>0</th>\n",
       "      <td>Image_029210.jpg</td>\n",
       "      <td>5</td>\n",
       "    </tr>\n",
       "    <tr>\n",
       "      <th>1</th>\n",
       "      <td>Image_023190.jpg</td>\n",
       "      <td>6</td>\n",
       "    </tr>\n",
       "    <tr>\n",
       "      <th>2</th>\n",
       "      <td>Image_014101.jpg</td>\n",
       "      <td>10</td>\n",
       "    </tr>\n",
       "    <tr>\n",
       "      <th>3</th>\n",
       "      <td>Image_019624.jpg</td>\n",
       "      <td>6</td>\n",
       "    </tr>\n",
       "    <tr>\n",
       "      <th>4</th>\n",
       "      <td>Image_014261.jpg</td>\n",
       "      <td>10</td>\n",
       "    </tr>\n",
       "    <tr>\n",
       "      <th>...</th>\n",
       "      <td>...</td>\n",
       "      <td>...</td>\n",
       "    </tr>\n",
       "    <tr>\n",
       "      <th>31744</th>\n",
       "      <td>Image_011338.jpg</td>\n",
       "      <td>3</td>\n",
       "    </tr>\n",
       "    <tr>\n",
       "      <th>31745</th>\n",
       "      <td>Image_010593.jpg</td>\n",
       "      <td>3</td>\n",
       "    </tr>\n",
       "    <tr>\n",
       "      <th>31746</th>\n",
       "      <td>Image_027944.jpg</td>\n",
       "      <td>7</td>\n",
       "    </tr>\n",
       "    <tr>\n",
       "      <th>31747</th>\n",
       "      <td>Image_027973.jpg</td>\n",
       "      <td>7</td>\n",
       "    </tr>\n",
       "    <tr>\n",
       "      <th>31748</th>\n",
       "      <td>Image_014640.jpg</td>\n",
       "      <td>2</td>\n",
       "    </tr>\n",
       "  </tbody>\n",
       "</table>\n",
       "<p>31749 rows × 2 columns</p>\n",
       "</div>"
      ],
      "text/plain": [
       "              file_name  label\n",
       "0      Image_029210.jpg      5\n",
       "1      Image_023190.jpg      6\n",
       "2      Image_014101.jpg     10\n",
       "3      Image_019624.jpg      6\n",
       "4      Image_014261.jpg     10\n",
       "...                 ...    ...\n",
       "31744  Image_011338.jpg      3\n",
       "31745  Image_010593.jpg      3\n",
       "31746  Image_027944.jpg      7\n",
       "31747  Image_027973.jpg      7\n",
       "31748  Image_014640.jpg      2\n",
       "\n",
       "[31749 rows x 2 columns]"
      ]
     },
     "execution_count": 23,
     "metadata": {},
     "output_type": "execute_result"
    }
   ],
   "source": [
    "train_df"
   ]
  },
  {
   "cell_type": "code",
   "execution_count": 24,
   "id": "94f621ff",
   "metadata": {
    "execution": {
     "iopub.execute_input": "2022-02-05T21:56:53.048467Z",
     "iopub.status.busy": "2022-02-05T21:56:53.047280Z",
     "iopub.status.idle": "2022-02-05T21:56:53.049890Z",
     "shell.execute_reply": "2022-02-05T21:56:53.050539Z",
     "shell.execute_reply.started": "2022-02-05T21:13:26.752481Z"
    },
    "papermill": {
     "duration": 0.111313,
     "end_time": "2022-02-05T21:56:53.050697",
     "exception": false,
     "start_time": "2022-02-05T21:56:52.939384",
     "status": "completed"
    },
    "tags": []
   },
   "outputs": [],
   "source": [
    "class CustomDataset(torch.utils.data.Dataset):\n",
    "    def __init__(self, df, images_folder,mode,stats,transform = ToTensor()):\n",
    "        self.df = df\n",
    "        self.mode=mode\n",
    "        self.images_folder = os.path.join(images_folder+'/'+'train')\n",
    "       \n",
    "        self.transform1=Resize((260,260))\n",
    "        self.train_tfms=tt.Compose([tt.RandomCrop(224,padding=4,padding_mode='reflect'),\n",
    "                      tt.RandomHorizontalFlip(),\n",
    "                      tt.ToTensor(),\n",
    "                      tt.Normalize(*stats,inplace=True)])\n",
    "        self.valid_tfms=tt.Compose([tt.ToTensor(),tt.Normalize(*stats,inplace=True)])\n",
    "\n",
    "    def __len__(self):\n",
    "        return len(self.df)\n",
    "    def __getitem__(self, index):\n",
    "        filename = self.df.loc[index, \"file_name\"]\n",
    "        label = self.df.loc[index, \"label\"]\n",
    "        image = PIL.Image.open(os.path.join(self.images_folder,filename))\n",
    "        if self.mode=='train':\n",
    "            image=self.transform1(image)\n",
    "            image=self.train_tfms(image)\n",
    "        else:\n",
    "            image=self.transform1(image)\n",
    "            image=self.valid_tfms(image)\n",
    "        return image, label"
   ]
  },
  {
   "cell_type": "code",
   "execution_count": 25,
   "id": "dce37e96",
   "metadata": {
    "execution": {
     "iopub.execute_input": "2022-02-05T21:56:53.264965Z",
     "iopub.status.busy": "2022-02-05T21:56:53.263853Z",
     "iopub.status.idle": "2022-02-05T21:56:53.269195Z",
     "shell.execute_reply": "2022-02-05T21:56:53.269773Z",
     "shell.execute_reply.started": "2022-02-05T21:13:26.766435Z"
    },
    "papermill": {
     "duration": 0.12105,
     "end_time": "2022-02-05T21:56:53.269960",
     "exception": false,
     "start_time": "2022-02-05T21:56:53.148910",
     "status": "completed"
    },
    "tags": []
   },
   "outputs": [],
   "source": [
    "img1=os.path.join(data_folder+'train/'+train_file.loc[12658,\"file_name\"])"
   ]
  },
  {
   "cell_type": "code",
   "execution_count": 26,
   "id": "66ed759f",
   "metadata": {
    "execution": {
     "iopub.execute_input": "2022-02-05T21:56:53.489736Z",
     "iopub.status.busy": "2022-02-05T21:56:53.488716Z",
     "iopub.status.idle": "2022-02-05T21:56:53.493225Z",
     "shell.execute_reply": "2022-02-05T21:56:53.492475Z",
     "shell.execute_reply.started": "2022-02-05T21:13:26.778810Z"
    },
    "papermill": {
     "duration": 0.116076,
     "end_time": "2022-02-05T21:56:53.493375",
     "exception": false,
     "start_time": "2022-02-05T21:56:53.377299",
     "status": "completed"
    },
    "tags": []
   },
   "outputs": [
    {
     "data": {
      "text/plain": [
       "'../input/stylumia-complete/train/Image_012190.jpg'"
      ]
     },
     "execution_count": 26,
     "metadata": {},
     "output_type": "execute_result"
    }
   ],
   "source": [
    "img1"
   ]
  },
  {
   "cell_type": "code",
   "execution_count": 27,
   "id": "83235f62",
   "metadata": {
    "execution": {
     "iopub.execute_input": "2022-02-05T21:56:53.717208Z",
     "iopub.status.busy": "2022-02-05T21:56:53.715836Z",
     "iopub.status.idle": "2022-02-05T21:56:53.720904Z",
     "shell.execute_reply": "2022-02-05T21:56:53.720086Z",
     "shell.execute_reply.started": "2022-02-05T21:13:26.787202Z"
    },
    "papermill": {
     "duration": 0.118911,
     "end_time": "2022-02-05T21:56:53.721049",
     "exception": false,
     "start_time": "2022-02-05T21:56:53.602138",
     "status": "completed"
    },
    "tags": []
   },
   "outputs": [
    {
     "data": {
      "text/plain": [
       "31749"
      ]
     },
     "execution_count": 27,
     "metadata": {},
     "output_type": "execute_result"
    }
   ],
   "source": [
    "len(train_file)"
   ]
  },
  {
   "cell_type": "code",
   "execution_count": 28,
   "id": "719bea1a",
   "metadata": {
    "execution": {
     "iopub.execute_input": "2022-02-05T21:56:53.988308Z",
     "iopub.status.busy": "2022-02-05T21:56:53.986364Z",
     "iopub.status.idle": "2022-02-05T21:56:54.018005Z",
     "shell.execute_reply": "2022-02-05T21:56:54.019571Z",
     "shell.execute_reply.started": "2022-02-05T21:13:26.800234Z"
    },
    "papermill": {
     "duration": 0.189535,
     "end_time": "2022-02-05T21:56:54.020399",
     "exception": false,
     "start_time": "2022-02-05T21:56:53.830864",
     "status": "completed"
    },
    "tags": []
   },
   "outputs": [],
   "source": [
    "image = PIL.Image.open(img1)"
   ]
  },
  {
   "cell_type": "code",
   "execution_count": 29,
   "id": "3af3c134",
   "metadata": {
    "execution": {
     "iopub.execute_input": "2022-02-05T21:56:54.407867Z",
     "iopub.status.busy": "2022-02-05T21:56:54.406823Z",
     "iopub.status.idle": "2022-02-05T21:56:54.414738Z",
     "shell.execute_reply": "2022-02-05T21:56:54.415554Z",
     "shell.execute_reply.started": "2022-02-05T21:13:26.824024Z"
    },
    "papermill": {
     "duration": 0.18793,
     "end_time": "2022-02-05T21:56:54.415758",
     "exception": false,
     "start_time": "2022-02-05T21:56:54.227828",
     "status": "completed"
    },
    "tags": []
   },
   "outputs": [
    {
     "data": {
      "text/plain": [
       "0.6719160104986877"
      ]
     },
     "execution_count": 29,
     "metadata": {},
     "output_type": "execute_result"
    }
   ],
   "source": [
    "512/762"
   ]
  },
  {
   "cell_type": "code",
   "execution_count": 30,
   "id": "49e37cc6",
   "metadata": {
    "execution": {
     "iopub.execute_input": "2022-02-05T21:56:54.754478Z",
     "iopub.status.busy": "2022-02-05T21:56:54.753338Z",
     "iopub.status.idle": "2022-02-05T21:56:54.756482Z",
     "shell.execute_reply": "2022-02-05T21:56:54.755550Z",
     "shell.execute_reply.started": "2022-02-05T21:13:26.831806Z"
    },
    "papermill": {
     "duration": 0.172432,
     "end_time": "2022-02-05T21:56:54.756714",
     "exception": false,
     "start_time": "2022-02-05T21:56:54.584282",
     "status": "completed"
    },
    "tags": []
   },
   "outputs": [],
   "source": [
    "x=transforms.Resize((256,256))"
   ]
  },
  {
   "cell_type": "code",
   "execution_count": 31,
   "id": "052614ca",
   "metadata": {
    "execution": {
     "iopub.execute_input": "2022-02-05T21:56:55.086601Z",
     "iopub.status.busy": "2022-02-05T21:56:55.085585Z",
     "iopub.status.idle": "2022-02-05T21:56:55.115309Z",
     "shell.execute_reply": "2022-02-05T21:56:55.116722Z",
     "shell.execute_reply.started": "2022-02-05T21:13:26.840632Z"
    },
    "papermill": {
     "duration": 0.20254,
     "end_time": "2022-02-05T21:56:55.116954",
     "exception": false,
     "start_time": "2022-02-05T21:56:54.914414",
     "status": "completed"
    },
    "tags": []
   },
   "outputs": [],
   "source": [
    "img=x(image)"
   ]
  },
  {
   "cell_type": "code",
   "execution_count": 32,
   "id": "3756a347",
   "metadata": {
    "execution": {
     "iopub.execute_input": "2022-02-05T21:56:55.403905Z",
     "iopub.status.busy": "2022-02-05T21:56:55.402788Z",
     "iopub.status.idle": "2022-02-05T21:56:55.407641Z",
     "shell.execute_reply": "2022-02-05T21:56:55.407051Z",
     "shell.execute_reply.started": "2022-02-05T21:13:26.888868Z"
    },
    "papermill": {
     "duration": 0.133757,
     "end_time": "2022-02-05T21:56:55.407776",
     "exception": false,
     "start_time": "2022-02-05T21:56:55.274019",
     "status": "completed"
    },
    "tags": []
   },
   "outputs": [
    {
     "data": {
      "text/plain": [
       "(256, 256)"
      ]
     },
     "execution_count": 32,
     "metadata": {},
     "output_type": "execute_result"
    }
   ],
   "source": [
    "img.size"
   ]
  },
  {
   "cell_type": "code",
   "execution_count": 33,
   "id": "c3493a8a",
   "metadata": {
    "execution": {
     "iopub.execute_input": "2022-02-05T21:56:55.604147Z",
     "iopub.status.busy": "2022-02-05T21:56:55.603159Z",
     "iopub.status.idle": "2022-02-05T21:56:55.617166Z",
     "shell.execute_reply": "2022-02-05T21:56:55.617773Z",
     "shell.execute_reply.started": "2022-02-05T21:13:26.897109Z"
    },
    "papermill": {
     "duration": 0.1151,
     "end_time": "2022-02-05T21:56:55.617918",
     "exception": false,
     "start_time": "2022-02-05T21:56:55.502818",
     "status": "completed"
    },
    "tags": []
   },
   "outputs": [
    {
     "data": {
      "image/png": "[encoded data removed]",
      "text/plain": [
       "<PIL.Image.Image image mode=RGB size=256x256 at 0x7FE0478974D0>"
      ]
     },
     "execution_count": 33,
     "metadata": {},
     "output_type": "execute_result"
    }
   ],
   "source": [
    "img"
   ]
  },
  {
   "cell_type": "code",
   "execution_count": 34,
   "id": "c1e69c97",
   "metadata": {
    "execution": {
     "iopub.execute_input": "2022-02-05T21:56:55.817344Z",
     "iopub.status.busy": "2022-02-05T21:56:55.816404Z",
     "iopub.status.idle": "2022-02-05T21:56:55.819970Z",
     "shell.execute_reply": "2022-02-05T21:56:55.820619Z",
     "shell.execute_reply.started": "2022-02-05T21:13:26.922376Z"
    },
    "papermill": {
     "duration": 0.10645,
     "end_time": "2022-02-05T21:56:55.820779",
     "exception": false,
     "start_time": "2022-02-05T21:56:55.714329",
     "status": "completed"
    },
    "tags": []
   },
   "outputs": [
    {
     "data": {
      "text/plain": [
       "'/kaggle/working'"
      ]
     },
     "execution_count": 34,
     "metadata": {},
     "output_type": "execute_result"
    }
   ],
   "source": [
    "pwd"
   ]
  },
  {
   "cell_type": "code",
   "execution_count": 35,
   "id": "68f1e82e",
   "metadata": {
    "execution": {
     "iopub.execute_input": "2022-02-05T21:56:56.025532Z",
     "iopub.status.busy": "2022-02-05T21:56:56.024639Z",
     "iopub.status.idle": "2022-02-05T21:56:56.122480Z",
     "shell.execute_reply": "2022-02-05T21:56:56.121912Z",
     "shell.execute_reply.started": "2022-02-05T21:13:26.931316Z"
    },
    "papermill": {
     "duration": 0.204072,
     "end_time": "2022-02-05T21:56:56.122641",
     "exception": false,
     "start_time": "2022-02-05T21:56:55.918569",
     "status": "completed"
    },
    "tags": []
   },
   "outputs": [
    {
     "data": {
      "text/plain": [
       "tensor([[[0.9647, 0.9647, 0.9647,  ..., 0.9647, 0.9647, 0.9647],\n",
       "         [0.9647, 0.9647, 0.9647,  ..., 0.9647, 0.9647, 0.9647],\n",
       "         [0.9647, 0.9647, 0.9647,  ..., 0.9647, 0.9647, 0.9647],\n",
       "         ...,\n",
       "         [0.9647, 0.9647, 0.9647,  ..., 0.9647, 0.9647, 0.9647],\n",
       "         [0.9647, 0.9647, 0.9647,  ..., 0.9647, 0.9647, 0.9647],\n",
       "         [0.9647, 0.9647, 0.9647,  ..., 0.9647, 0.9647, 0.9647]],\n",
       "\n",
       "        [[0.9647, 0.9647, 0.9647,  ..., 0.9647, 0.9647, 0.9647],\n",
       "         [0.9647, 0.9647, 0.9647,  ..., 0.9647, 0.9647, 0.9647],\n",
       "         [0.9647, 0.9647, 0.9647,  ..., 0.9647, 0.9647, 0.9647],\n",
       "         ...,\n",
       "         [0.9647, 0.9647, 0.9647,  ..., 0.9647, 0.9647, 0.9647],\n",
       "         [0.9647, 0.9647, 0.9647,  ..., 0.9647, 0.9647, 0.9647],\n",
       "         [0.9647, 0.9647, 0.9647,  ..., 0.9647, 0.9647, 0.9647]],\n",
       "\n",
       "        [[0.9647, 0.9647, 0.9647,  ..., 0.9647, 0.9647, 0.9647],\n",
       "         [0.9647, 0.9647, 0.9647,  ..., 0.9647, 0.9647, 0.9647],\n",
       "         [0.9647, 0.9647, 0.9647,  ..., 0.9647, 0.9647, 0.9647],\n",
       "         ...,\n",
       "         [0.9647, 0.9647, 0.9647,  ..., 0.9647, 0.9647, 0.9647],\n",
       "         [0.9647, 0.9647, 0.9647,  ..., 0.9647, 0.9647, 0.9647],\n",
       "         [0.9647, 0.9647, 0.9647,  ..., 0.9647, 0.9647, 0.9647]]])"
      ]
     },
     "execution_count": 35,
     "metadata": {},
     "output_type": "execute_result"
    }
   ],
   "source": [
    "convert_tensor = torchvision.transforms.ToTensor()\n",
    "\n",
    "convert_tensor(image)"
   ]
  },
  {
   "cell_type": "code",
   "execution_count": 36,
   "id": "2d9cd720",
   "metadata": {
    "execution": {
     "iopub.execute_input": "2022-02-05T21:56:56.324924Z",
     "iopub.status.busy": "2022-02-05T21:56:56.323779Z",
     "iopub.status.idle": "2022-02-05T21:56:56.326261Z",
     "shell.execute_reply": "2022-02-05T21:56:56.326912Z",
     "shell.execute_reply.started": "2022-02-05T21:13:27.033403Z"
    },
    "papermill": {
     "duration": 0.105516,
     "end_time": "2022-02-05T21:56:56.327092",
     "exception": false,
     "start_time": "2022-02-05T21:56:56.221576",
     "status": "completed"
    },
    "tags": []
   },
   "outputs": [],
   "source": [
    "stats = ((0.7955, 0.7599, 0.7506), (0.2721, 0.2932, 0.2981))"
   ]
  },
  {
   "cell_type": "code",
   "execution_count": 37,
   "id": "10a2999d",
   "metadata": {
    "execution": {
     "iopub.execute_input": "2022-02-05T21:56:56.528001Z",
     "iopub.status.busy": "2022-02-05T21:56:56.526878Z",
     "iopub.status.idle": "2022-02-05T21:56:56.529614Z",
     "shell.execute_reply": "2022-02-05T21:56:56.530152Z",
     "shell.execute_reply.started": "2022-02-05T21:13:27.040776Z"
    },
    "papermill": {
     "duration": 0.105537,
     "end_time": "2022-02-05T21:56:56.530305",
     "exception": false,
     "start_time": "2022-02-05T21:56:56.424768",
     "status": "completed"
    },
    "tags": []
   },
   "outputs": [],
   "source": [
    "train_dataset=CustomDataset(train_df,data_folder,'train',stats)"
   ]
  },
  {
   "cell_type": "code",
   "execution_count": 38,
   "id": "42df554d",
   "metadata": {
    "execution": {
     "iopub.execute_input": "2022-02-05T21:56:56.730779Z",
     "iopub.status.busy": "2022-02-05T21:56:56.729662Z",
     "iopub.status.idle": "2022-02-05T21:56:56.733172Z",
     "shell.execute_reply": "2022-02-05T21:56:56.732626Z",
     "shell.execute_reply.started": "2022-02-05T21:13:27.048804Z"
    },
    "papermill": {
     "duration": 0.106367,
     "end_time": "2022-02-05T21:56:56.733309",
     "exception": false,
     "start_time": "2022-02-05T21:56:56.626942",
     "status": "completed"
    },
    "tags": []
   },
   "outputs": [],
   "source": [
    "#val_indices"
   ]
  },
  {
   "cell_type": "code",
   "execution_count": 39,
   "id": "60df7d0c",
   "metadata": {
    "execution": {
     "iopub.execute_input": "2022-02-05T21:56:56.936410Z",
     "iopub.status.busy": "2022-02-05T21:56:56.935566Z",
     "iopub.status.idle": "2022-02-05T21:56:56.941028Z",
     "shell.execute_reply": "2022-02-05T21:56:56.941613Z",
     "shell.execute_reply.started": "2022-02-05T21:13:27.057771Z"
    },
    "papermill": {
     "duration": 0.111396,
     "end_time": "2022-02-05T21:56:56.941875",
     "exception": false,
     "start_time": "2022-02-05T21:56:56.830479",
     "status": "completed"
    },
    "tags": []
   },
   "outputs": [],
   "source": [
    "random_seed = 42\n",
    "torch.manual_seed(random_seed);"
   ]
  },
  {
   "cell_type": "code",
   "execution_count": 40,
   "id": "3206a96e",
   "metadata": {
    "execution": {
     "iopub.execute_input": "2022-02-05T21:56:57.143157Z",
     "iopub.status.busy": "2022-02-05T21:56:57.142152Z",
     "iopub.status.idle": "2022-02-05T21:56:57.145712Z",
     "shell.execute_reply": "2022-02-05T21:56:57.145098Z",
     "shell.execute_reply.started": "2022-02-05T21:13:27.068645Z"
    },
    "papermill": {
     "duration": 0.105881,
     "end_time": "2022-02-05T21:56:57.145859",
     "exception": false,
     "start_time": "2022-02-05T21:56:57.039978",
     "status": "completed"
    },
    "tags": []
   },
   "outputs": [],
   "source": [
    "train_dl = DataLoader(dataset=train_dataset, shuffle=False, batch_size=64, sampler=sampler)\n",
    "#val_dl = DataLoader(dataset=val_dataset, shuffle=False, batch_size=64, sampler=val_sampler)"
   ]
  },
  {
   "cell_type": "code",
   "execution_count": 41,
   "id": "f5965728",
   "metadata": {
    "execution": {
     "iopub.execute_input": "2022-02-05T21:56:57.348213Z",
     "iopub.status.busy": "2022-02-05T21:56:57.345626Z",
     "iopub.status.idle": "2022-02-05T21:57:00.333712Z",
     "shell.execute_reply": "2022-02-05T21:57:00.334289Z",
     "shell.execute_reply.started": "2022-02-05T21:13:27.075530Z"
    },
    "papermill": {
     "duration": 3.09042,
     "end_time": "2022-02-05T21:57:00.334519",
     "exception": false,
     "start_time": "2022-02-05T21:56:57.244099",
     "status": "completed"
    },
    "tags": []
   },
   "outputs": [
    {
     "name": "stdout",
     "output_type": "stream",
     "text": [
      "tensor([ 7,  8,  6,  2,  1,  9,  9,  6,  5,  5,  8,  9,  0,  2,  1,  6,  6,  5,\n",
      "         1,  7,  8,  0,  2,  1,  6,  6,  3, 10, 10,  3,  0, 10, 10,  7,  3,  6,\n",
      "         1,  0,  3,  6, 10,  1,  6,  3,  3, 10,  9,  6,  3,  6,  3, 10,  8, 10,\n",
      "         4, 10,  8,  7,  6,  6,  3,  7,  2,  3])\n"
     ]
    }
   ],
   "source": [
    "train_features, train_labels = next(iter(train_dl))\n",
    "print(train_labels)\n"
   ]
  },
  {
   "cell_type": "code",
   "execution_count": 42,
   "id": "16c9b43a",
   "metadata": {
    "execution": {
     "iopub.execute_input": "2022-02-05T21:57:00.594079Z",
     "iopub.status.busy": "2022-02-05T21:57:00.538068Z",
     "iopub.status.idle": "2022-02-05T21:57:00.598432Z",
     "shell.execute_reply": "2022-02-05T21:57:00.599115Z",
     "shell.execute_reply.started": "2022-02-05T21:13:29.759187Z"
    },
    "papermill": {
     "duration": 0.164756,
     "end_time": "2022-02-05T21:57:00.599336",
     "exception": false,
     "start_time": "2022-02-05T21:57:00.434580",
     "status": "completed"
    },
    "tags": []
   },
   "outputs": [
    {
     "data": {
      "text/plain": [
       "True"
      ]
     },
     "execution_count": 42,
     "metadata": {},
     "output_type": "execute_result"
    }
   ],
   "source": [
    "torch.cuda.is_available()"
   ]
  },
  {
   "cell_type": "code",
   "execution_count": 43,
   "id": "58ace9dc",
   "metadata": {
    "execution": {
     "iopub.execute_input": "2022-02-05T21:57:00.807217Z",
     "iopub.status.busy": "2022-02-05T21:57:00.806232Z",
     "iopub.status.idle": "2022-02-05T21:57:00.809080Z",
     "shell.execute_reply": "2022-02-05T21:57:00.809646Z",
     "shell.execute_reply.started": "2022-02-05T21:13:29.810425Z"
    },
    "papermill": {
     "duration": 0.109601,
     "end_time": "2022-02-05T21:57:00.809807",
     "exception": false,
     "start_time": "2022-02-05T21:57:00.700206",
     "status": "completed"
    },
    "tags": []
   },
   "outputs": [],
   "source": [
    "from torchvision.utils import make_grid\n",
    "\n",
    "def show_batch(dl):\n",
    "    for images, labels in dl:\n",
    "        fig, ax = plt.subplots(figsize=(12, 6))\n",
    "        ax.set_xticks([]); ax.set_yticks([])\n",
    "        ax.imshow(make_grid(images, nrow=4).permute(1,2,0))\n",
    "        break"
   ]
  },
  {
   "cell_type": "code",
   "execution_count": 44,
   "id": "55e5d70b",
   "metadata": {
    "execution": {
     "iopub.execute_input": "2022-02-05T21:57:01.012690Z",
     "iopub.status.busy": "2022-02-05T21:57:01.011670Z",
     "iopub.status.idle": "2022-02-05T21:57:04.748455Z",
     "shell.execute_reply": "2022-02-05T21:57:04.749344Z",
     "shell.execute_reply.started": "2022-02-05T21:13:29.820647Z"
    },
    "papermill": {
     "duration": 3.84139,
     "end_time": "2022-02-05T21:57:04.749644",
     "exception": false,
     "start_time": "2022-02-05T21:57:00.908254",
     "status": "completed"
    },
    "tags": []
   },
   "outputs": [
    {
     "data": {
      "image/png": "[encoded data removed]",
      "text/plain": [
       "<Figure size 864x432 with 1 Axes>"
      ]
     },
     "metadata": {},
     "output_type": "display_data"
    }
   ],
   "source": [
    "show_batch(train_dl)"
   ]
  },
  {
   "cell_type": "code",
   "execution_count": 45,
   "id": "87a979c7",
   "metadata": {
    "execution": {
     "iopub.execute_input": "2022-02-05T21:57:05.089783Z",
     "iopub.status.busy": "2022-02-05T21:57:05.088369Z",
     "iopub.status.idle": "2022-02-05T21:57:05.093287Z",
     "shell.execute_reply": "2022-02-05T21:57:05.092310Z",
     "shell.execute_reply.started": "2022-02-05T21:13:33.264405Z"
    },
    "papermill": {
     "duration": 0.240905,
     "end_time": "2022-02-05T21:57:05.093450",
     "exception": false,
     "start_time": "2022-02-05T21:57:04.852545",
     "status": "completed"
    },
    "tags": []
   },
   "outputs": [],
   "source": [
    "class ImageClassificationBase(nn.Module):\n",
    " \n",
    "    def training_step(self,batch):\n",
    "        model.train()\n",
    "        images,labels=batch\n",
    "        out=self(images)\n",
    "        loss=F.cross_entropy(out,labels)\n",
    "        acc,mic,mac,bal_acc=accuracy(labels,out)\n",
    "        return loss,acc,mic,mac,bal_acc\n",
    "    \n",
    "   \n",
    "    def validation_step(self,batch):\n",
    "        model.eval()\n",
    "        images,labels=batch\n",
    "        out=self(images)\n",
    "        loss=F.cross_entropy(out,labels)\n",
    "        acc,mic,mac,bal_acc=accuracy(labels,out)\n",
    "        return {'val_loss':loss.detach(),'val_acc':acc,'val_mic':mic,'val_mac':mac,'val_balacc':bal_acc}\n",
    "    \n",
    "    \n",
    "    def validation_epoch_end(self,result):\n",
    "        loss=[x['val_loss'] for x in result]\n",
    "        acc= [x['val_acc'] for x in result]\n",
    "        mic=[x['val_mic'] for x in result]\n",
    "        mac=[x['val_mac'] for x in result]\n",
    "        bal=[x['val_balacc'] for x in result]\n",
    "        l_b=torch.stack(loss).mean()\n",
    "        a_b=torch.stack(acc).mean()\n",
    "        mi_b=torch.stack(mic).mean()\n",
    "        ma_b=torch.stack(mac).mean()\n",
    "        ba_b=torch.stack(bal).mean()\n",
    "        return {'val_loss':l_b.item(), 'val_acc': a_b.item(),'micro_f1':mi_b.item(), 'macro_f1': ma_b.item(),'bal_acc':ba_b.item()}\n",
    "    \n",
    "    def epoch_end(self,epoch,result):\n",
    "        print(\"Epoch [{}], val_loss: {:.4f}, val_acc: {:.4f},val_mic: {:.4f}, val_mac: {:.4f}, bal_acc: {:.4f}\".format(\n",
    "            epoch,result['val_loss'], result['val_acc'],result['micro_f1'], result['macro_f1'],result['bal_acc']))\n",
    "        "
   ]
  },
  {
   "cell_type": "code",
   "execution_count": 46,
   "id": "dd7b29b3",
   "metadata": {
    "execution": {
     "iopub.execute_input": "2022-02-05T21:57:05.311039Z",
     "iopub.status.busy": "2022-02-05T21:57:05.309830Z",
     "iopub.status.idle": "2022-02-05T21:57:05.312611Z",
     "shell.execute_reply": "2022-02-05T21:57:05.313145Z",
     "shell.execute_reply.started": "2022-02-05T21:13:33.405118Z"
    },
    "papermill": {
     "duration": 0.120042,
     "end_time": "2022-02-05T21:57:05.313307",
     "exception": false,
     "start_time": "2022-02-05T21:57:05.193265",
     "status": "completed"
    },
    "tags": []
   },
   "outputs": [],
   "source": [
    "class Classifier(ImageClassificationBase):\n",
    "    def __init__(self,model_transfer):\n",
    "        super(Classifier, self).__init__()\n",
    "        self.eff =  model_transfer\n",
    "\n",
    "    def forward(self, input):\n",
    "        x = self.eff(input)\n",
    "        return x\n"
   ]
  },
  {
   "cell_type": "code",
   "execution_count": 47,
   "id": "d9685818",
   "metadata": {
    "execution": {
     "iopub.execute_input": "2022-02-05T21:57:05.520013Z",
     "iopub.status.busy": "2022-02-05T21:57:05.519047Z",
     "iopub.status.idle": "2022-02-05T21:57:07.862956Z",
     "shell.execute_reply": "2022-02-05T21:57:07.863601Z",
     "shell.execute_reply.started": "2022-02-05T21:13:33.414545Z"
    },
    "papermill": {
     "duration": 2.450712,
     "end_time": "2022-02-05T21:57:07.863780",
     "exception": false,
     "start_time": "2022-02-05T21:57:05.413068",
     "status": "completed"
    },
    "tags": []
   },
   "outputs": [
    {
     "name": "stderr",
     "output_type": "stream",
     "text": [
      "Downloading: \"https://github.com/lukemelas/EfficientNet-PyTorch/releases/download/1.0/efficientnet-b2-8bb594d6.pth\" to /root/.cache/torch/hub/checkpoints/efficientnet-b2-8bb594d6.pth\n"
     ]
    },
    {
     "data": {
      "application/vnd.jupyter.widget-view+json": {
       "model_id": "871b14423c3e48fb8a2b0319b72e5422",
       "version_major": 2,
       "version_minor": 0
      },
      "text/plain": [
       "  0%|          | 0.00/35.1M [00:00<?, ?B/s]"
      ]
     },
     "metadata": {},
     "output_type": "display_data"
    },
    {
     "name": "stdout",
     "output_type": "stream",
     "text": [
      "Loaded pretrained weights for efficientnet-b2\n"
     ]
    }
   ],
   "source": [
    "model_transfer= EfficientNet.from_pretrained('efficientnet-b2')"
   ]
  },
  {
   "cell_type": "code",
   "execution_count": 48,
   "id": "3c879132",
   "metadata": {
    "execution": {
     "iopub.execute_input": "2022-02-05T21:57:08.074773Z",
     "iopub.status.busy": "2022-02-05T21:57:08.073637Z",
     "iopub.status.idle": "2022-02-05T21:57:08.076294Z",
     "shell.execute_reply": "2022-02-05T21:57:08.076828Z",
     "shell.execute_reply.started": "2022-02-05T21:13:35.377983Z"
    },
    "papermill": {
     "duration": 0.109423,
     "end_time": "2022-02-05T21:57:08.076999",
     "exception": false,
     "start_time": "2022-02-05T21:57:07.967576",
     "status": "completed"
    },
    "tags": []
   },
   "outputs": [],
   "source": [
    "#model_transfer"
   ]
  },
  {
   "cell_type": "code",
   "execution_count": 49,
   "id": "5eaef47f",
   "metadata": {
    "execution": {
     "iopub.execute_input": "2022-02-05T21:57:08.302037Z",
     "iopub.status.busy": "2022-02-05T21:57:08.300866Z",
     "iopub.status.idle": "2022-02-05T21:57:08.303974Z",
     "shell.execute_reply": "2022-02-05T21:57:08.303267Z",
     "shell.execute_reply.started": "2022-02-05T21:13:35.383935Z"
    },
    "papermill": {
     "duration": 0.110637,
     "end_time": "2022-02-05T21:57:08.304108",
     "exception": false,
     "start_time": "2022-02-05T21:57:08.193471",
     "status": "completed"
    },
    "tags": []
   },
   "outputs": [],
   "source": [
    "\n",
    "    #print(param)"
   ]
  },
  {
   "cell_type": "code",
   "execution_count": 50,
   "id": "0e5d87c6",
   "metadata": {
    "execution": {
     "iopub.execute_input": "2022-02-05T21:57:08.511430Z",
     "iopub.status.busy": "2022-02-05T21:57:08.510486Z",
     "iopub.status.idle": "2022-02-05T21:57:08.522132Z",
     "shell.execute_reply": "2022-02-05T21:57:08.521642Z",
     "shell.execute_reply.started": "2022-02-05T21:13:35.394547Z"
    },
    "papermill": {
     "duration": 0.11887,
     "end_time": "2022-02-05T21:57:08.522295",
     "exception": false,
     "start_time": "2022-02-05T21:57:08.403425",
     "status": "completed"
    },
    "tags": []
   },
   "outputs": [],
   "source": [
    "in_features = model_transfer._fc.in_features\n",
    "model_transfer._fc = nn.Sequential(\n",
    "    nn.BatchNorm1d(num_features=in_features),    \n",
    "    nn.Linear(in_features, 512),\n",
    "    nn.ReLU(),\n",
    "    nn.BatchNorm1d(512),\n",
    "    nn.Linear(512, 128),\n",
    "    nn.ReLU(),\n",
    "    nn.BatchNorm1d(num_features=128),\n",
    "    nn.Dropout(0.4),\n",
    "    nn.Linear(128, 11),\n",
    "    )"
   ]
  },
  {
   "cell_type": "code",
   "execution_count": 51,
   "id": "44102c87",
   "metadata": {
    "execution": {
     "iopub.execute_input": "2022-02-05T21:57:08.735017Z",
     "iopub.status.busy": "2022-02-05T21:57:08.734087Z",
     "iopub.status.idle": "2022-02-05T21:57:08.737601Z",
     "shell.execute_reply": "2022-02-05T21:57:08.737029Z",
     "shell.execute_reply.started": "2022-02-05T21:13:35.411550Z"
    },
    "papermill": {
     "duration": 0.111221,
     "end_time": "2022-02-05T21:57:08.737749",
     "exception": false,
     "start_time": "2022-02-05T21:57:08.626528",
     "status": "completed"
    },
    "tags": []
   },
   "outputs": [],
   "source": [
    "model=Classifier(model_transfer)"
   ]
  },
  {
   "cell_type": "code",
   "execution_count": 52,
   "id": "bc5343ee",
   "metadata": {
    "execution": {
     "iopub.execute_input": "2022-02-05T21:57:08.946876Z",
     "iopub.status.busy": "2022-02-05T21:57:08.945876Z",
     "iopub.status.idle": "2022-02-05T21:57:08.954378Z",
     "shell.execute_reply": "2022-02-05T21:57:08.954917Z",
     "shell.execute_reply.started": "2022-02-05T21:13:35.417743Z"
    },
    "papermill": {
     "duration": 0.117333,
     "end_time": "2022-02-05T21:57:08.955080",
     "exception": false,
     "start_time": "2022-02-05T21:57:08.837747",
     "status": "completed"
    },
    "tags": []
   },
   "outputs": [
    {
     "data": {
      "text/plain": [
       "Classifier(\n",
       "  (eff): EfficientNet(\n",
       "    (_conv_stem): Conv2dStaticSamePadding(\n",
       "      3, 32, kernel_size=(3, 3), stride=(2, 2), bias=False\n",
       "      (static_padding): ZeroPad2d(padding=(0, 1, 0, 1), value=0.0)\n",
       "    )\n",
       "    (_bn0): BatchNorm2d(32, eps=0.001, momentum=0.010000000000000009, affine=True, track_running_stats=True)\n",
       "    (_blocks): ModuleList(\n",
       "      (0): MBConvBlock(\n",
       "        (_depthwise_conv): Conv2dStaticSamePadding(\n",
       "          32, 32, kernel_size=(3, 3), stride=[1, 1], groups=32, bias=False\n",
       "          (static_padding): ZeroPad2d(padding=(1, 1, 1, 1), value=0.0)\n",
       "        )\n",
       "        (_bn1): BatchNorm2d(32, eps=0.001, momentum=0.010000000000000009, affine=True, track_running_stats=True)\n",
       "        (_se_reduce): Conv2dStaticSamePadding(\n",
       "          32, 8, kernel_size=(1, 1), stride=(1, 1)\n",
       "          (static_padding): Identity()\n",
       "        )\n",
       "        (_se_expand): Conv2dStaticSamePadding(\n",
       "          8, 32, kernel_size=(1, 1), stride=(1, 1)\n",
       "          (static_padding): Identity()\n",
       "        )\n",
       "        (_project_conv): Conv2dStaticSamePadding(\n",
       "          32, 16, kernel_size=(1, 1), stride=(1, 1), bias=False\n",
       "          (static_padding): Identity()\n",
       "        )\n",
       "        (_bn2): BatchNorm2d(16, eps=0.001, momentum=0.010000000000000009, affine=True, track_running_stats=True)\n",
       "        (_swish): MemoryEfficientSwish()\n",
       "      )\n",
       "      (1): MBConvBlock(\n",
       "        (_depthwise_conv): Conv2dStaticSamePadding(\n",
       "          16, 16, kernel_size=(3, 3), stride=(1, 1), groups=16, bias=False\n",
       "          (static_padding): ZeroPad2d(padding=(1, 1, 1, 1), value=0.0)\n",
       "        )\n",
       "        (_bn1): BatchNorm2d(16, eps=0.001, momentum=0.010000000000000009, affine=True, track_running_stats=True)\n",
       "        (_se_reduce): Conv2dStaticSamePadding(\n",
       "          16, 4, kernel_size=(1, 1), stride=(1, 1)\n",
       "          (static_padding): Identity()\n",
       "        )\n",
       "        (_se_expand): Conv2dStaticSamePadding(\n",
       "          4, 16, kernel_size=(1, 1), stride=(1, 1)\n",
       "          (static_padding): Identity()\n",
       "        )\n",
       "        (_project_conv): Conv2dStaticSamePadding(\n",
       "          16, 16, kernel_size=(1, 1), stride=(1, 1), bias=False\n",
       "          (static_padding): Identity()\n",
       "        )\n",
       "        (_bn2): BatchNorm2d(16, eps=0.001, momentum=0.010000000000000009, affine=True, track_running_stats=True)\n",
       "        (_swish): MemoryEfficientSwish()\n",
       "      )\n",
       "      (2): MBConvBlock(\n",
       "        (_expand_conv): Conv2dStaticSamePadding(\n",
       "          16, 96, kernel_size=(1, 1), stride=(1, 1), bias=False\n",
       "          (static_padding): Identity()\n",
       "        )\n",
       "        (_bn0): BatchNorm2d(96, eps=0.001, momentum=0.010000000000000009, affine=True, track_running_stats=True)\n",
       "        (_depthwise_conv): Conv2dStaticSamePadding(\n",
       "          96, 96, kernel_size=(3, 3), stride=[2, 2], groups=96, bias=False\n",
       "          (static_padding): ZeroPad2d(padding=(0, 1, 0, 1), value=0.0)\n",
       "        )\n",
       "        (_bn1): BatchNorm2d(96, eps=0.001, momentum=0.010000000000000009, affine=True, track_running_stats=True)\n",
       "        (_se_reduce): Conv2dStaticSamePadding(\n",
       "          96, 4, kernel_size=(1, 1), stride=(1, 1)\n",
       "          (static_padding): Identity()\n",
       "        )\n",
       "        (_se_expand): Conv2dStaticSamePadding(\n",
       "          4, 96, kernel_size=(1, 1), stride=(1, 1)\n",
       "          (static_padding): Identity()\n",
       "        )\n",
       "        (_project_conv): Conv2dStaticSamePadding(\n",
       "          96, 24, kernel_size=(1, 1), stride=(1, 1), bias=False\n",
       "          (static_padding): Identity()\n",
       "        )\n",
       "        (_bn2): BatchNorm2d(24, eps=0.001, momentum=0.010000000000000009, affine=True, track_running_stats=True)\n",
       "        (_swish): MemoryEfficientSwish()\n",
       "      )\n",
       "      (3): MBConvBlock(\n",
       "        (_expand_conv): Conv2dStaticSamePadding(\n",
       "          24, 144, kernel_size=(1, 1), stride=(1, 1), bias=False\n",
       "          (static_padding): Identity()\n",
       "        )\n",
       "        (_bn0): BatchNorm2d(144, eps=0.001, momentum=0.010000000000000009, affine=True, track_running_stats=True)\n",
       "        (_depthwise_conv): Conv2dStaticSamePadding(\n",
       "          144, 144, kernel_size=(3, 3), stride=(1, 1), groups=144, bias=False\n",
       "          (static_padding): ZeroPad2d(padding=(1, 1, 1, 1), value=0.0)\n",
       "        )\n",
       "        (_bn1): BatchNorm2d(144, eps=0.001, momentum=0.010000000000000009, affine=True, track_running_stats=True)\n",
       "        (_se_reduce): Conv2dStaticSamePadding(\n",
       "          144, 6, kernel_size=(1, 1), stride=(1, 1)\n",
       "          (static_padding): Identity()\n",
       "        )\n",
       "        (_se_expand): Conv2dStaticSamePadding(\n",
       "          6, 144, kernel_size=(1, 1), stride=(1, 1)\n",
       "          (static_padding): Identity()\n",
       "        )\n",
       "        (_project_conv): Conv2dStaticSamePadding(\n",
       "          144, 24, kernel_size=(1, 1), stride=(1, 1), bias=False\n",
       "          (static_padding): Identity()\n",
       "        )\n",
       "        (_bn2): BatchNorm2d(24, eps=0.001, momentum=0.010000000000000009, affine=True, track_running_stats=True)\n",
       "        (_swish): MemoryEfficientSwish()\n",
       "      )\n",
       "      (4): MBConvBlock(\n",
       "        (_expand_conv): Conv2dStaticSamePadding(\n",
       "          24, 144, kernel_size=(1, 1), stride=(1, 1), bias=False\n",
       "          (static_padding): Identity()\n",
       "        )\n",
       "        (_bn0): BatchNorm2d(144, eps=0.001, momentum=0.010000000000000009, affine=True, track_running_stats=True)\n",
       "        (_depthwise_conv): Conv2dStaticSamePadding(\n",
       "          144, 144, kernel_size=(3, 3), stride=(1, 1), groups=144, bias=False\n",
       "          (static_padding): ZeroPad2d(padding=(1, 1, 1, 1), value=0.0)\n",
       "        )\n",
       "        (_bn1): BatchNorm2d(144, eps=0.001, momentum=0.010000000000000009, affine=True, track_running_stats=True)\n",
       "        (_se_reduce): Conv2dStaticSamePadding(\n",
       "          144, 6, kernel_size=(1, 1), stride=(1, 1)\n",
       "          (static_padding): Identity()\n",
       "        )\n",
       "        (_se_expand): Conv2dStaticSamePadding(\n",
       "          6, 144, kernel_size=(1, 1), stride=(1, 1)\n",
       "          (static_padding): Identity()\n",
       "        )\n",
       "        (_project_conv): Conv2dStaticSamePadding(\n",
       "          144, 24, kernel_size=(1, 1), stride=(1, 1), bias=False\n",
       "          (static_padding): Identity()\n",
       "        )\n",
       "        (_bn2): BatchNorm2d(24, eps=0.001, momentum=0.010000000000000009, affine=True, track_running_stats=True)\n",
       "        (_swish): MemoryEfficientSwish()\n",
       "      )\n",
       "      (5): MBConvBlock(\n",
       "        (_expand_conv): Conv2dStaticSamePadding(\n",
       "          24, 144, kernel_size=(1, 1), stride=(1, 1), bias=False\n",
       "          (static_padding): Identity()\n",
       "        )\n",
       "        (_bn0): BatchNorm2d(144, eps=0.001, momentum=0.010000000000000009, affine=True, track_running_stats=True)\n",
       "        (_depthwise_conv): Conv2dStaticSamePadding(\n",
       "          144, 144, kernel_size=(5, 5), stride=[2, 2], groups=144, bias=False\n",
       "          (static_padding): ZeroPad2d(padding=(2, 2, 2, 2), value=0.0)\n",
       "        )\n",
       "        (_bn1): BatchNorm2d(144, eps=0.001, momentum=0.010000000000000009, affine=True, track_running_stats=True)\n",
       "        (_se_reduce): Conv2dStaticSamePadding(\n",
       "          144, 6, kernel_size=(1, 1), stride=(1, 1)\n",
       "          (static_padding): Identity()\n",
       "        )\n",
       "        (_se_expand): Conv2dStaticSamePadding(\n",
       "          6, 144, kernel_size=(1, 1), stride=(1, 1)\n",
       "          (static_padding): Identity()\n",
       "        )\n",
       "        (_project_conv): Conv2dStaticSamePadding(\n",
       "          144, 48, kernel_size=(1, 1), stride=(1, 1), bias=False\n",
       "          (static_padding): Identity()\n",
       "        )\n",
       "        (_bn2): BatchNorm2d(48, eps=0.001, momentum=0.010000000000000009, affine=True, track_running_stats=True)\n",
       "        (_swish): MemoryEfficientSwish()\n",
       "      )\n",
       "      (6): MBConvBlock(\n",
       "        (_expand_conv): Conv2dStaticSamePadding(\n",
       "          48, 288, kernel_size=(1, 1), stride=(1, 1), bias=False\n",
       "          (static_padding): Identity()\n",
       "        )\n",
       "        (_bn0): BatchNorm2d(288, eps=0.001, momentum=0.010000000000000009, affine=True, track_running_stats=True)\n",
       "        (_depthwise_conv): Conv2dStaticSamePadding(\n",
       "          288, 288, kernel_size=(5, 5), stride=(1, 1), groups=288, bias=False\n",
       "          (static_padding): ZeroPad2d(padding=(2, 2, 2, 2), value=0.0)\n",
       "        )\n",
       "        (_bn1): BatchNorm2d(288, eps=0.001, momentum=0.010000000000000009, affine=True, track_running_stats=True)\n",
       "        (_se_reduce): Conv2dStaticSamePadding(\n",
       "          288, 12, kernel_size=(1, 1), stride=(1, 1)\n",
       "          (static_padding): Identity()\n",
       "        )\n",
       "        (_se_expand): Conv2dStaticSamePadding(\n",
       "          12, 288, kernel_size=(1, 1), stride=(1, 1)\n",
       "          (static_padding): Identity()\n",
       "        )\n",
       "        (_project_conv): Conv2dStaticSamePadding(\n",
       "          288, 48, kernel_size=(1, 1), stride=(1, 1), bias=False\n",
       "          (static_padding): Identity()\n",
       "        )\n",
       "        (_bn2): BatchNorm2d(48, eps=0.001, momentum=0.010000000000000009, affine=True, track_running_stats=True)\n",
       "        (_swish): MemoryEfficientSwish()\n",
       "      )\n",
       "      (7): MBConvBlock(\n",
       "        (_expand_conv): Conv2dStaticSamePadding(\n",
       "          48, 288, kernel_size=(1, 1), stride=(1, 1), bias=False\n",
       "          (static_padding): Identity()\n",
       "        )\n",
       "        (_bn0): BatchNorm2d(288, eps=0.001, momentum=0.010000000000000009, affine=True, track_running_stats=True)\n",
       "        (_depthwise_conv): Conv2dStaticSamePadding(\n",
       "          288, 288, kernel_size=(5, 5), stride=(1, 1), groups=288, bias=False\n",
       "          (static_padding): ZeroPad2d(padding=(2, 2, 2, 2), value=0.0)\n",
       "        )\n",
       "        (_bn1): BatchNorm2d(288, eps=0.001, momentum=0.010000000000000009, affine=True, track_running_stats=True)\n",
       "        (_se_reduce): Conv2dStaticSamePadding(\n",
       "          288, 12, kernel_size=(1, 1), stride=(1, 1)\n",
       "          (static_padding): Identity()\n",
       "        )\n",
       "        (_se_expand): Conv2dStaticSamePadding(\n",
       "          12, 288, kernel_size=(1, 1), stride=(1, 1)\n",
       "          (static_padding): Identity()\n",
       "        )\n",
       "        (_project_conv): Conv2dStaticSamePadding(\n",
       "          288, 48, kernel_size=(1, 1), stride=(1, 1), bias=False\n",
       "          (static_padding): Identity()\n",
       "        )\n",
       "        (_bn2): BatchNorm2d(48, eps=0.001, momentum=0.010000000000000009, affine=True, track_running_stats=True)\n",
       "        (_swish): MemoryEfficientSwish()\n",
       "      )\n",
       "      (8): MBConvBlock(\n",
       "        (_expand_conv): Conv2dStaticSamePadding(\n",
       "          48, 288, kernel_size=(1, 1), stride=(1, 1), bias=False\n",
       "          (static_padding): Identity()\n",
       "        )\n",
       "        (_bn0): BatchNorm2d(288, eps=0.001, momentum=0.010000000000000009, affine=True, track_running_stats=True)\n",
       "        (_depthwise_conv): Conv2dStaticSamePadding(\n",
       "          288, 288, kernel_size=(3, 3), stride=[2, 2], groups=288, bias=False\n",
       "          (static_padding): ZeroPad2d(padding=(1, 1, 1, 1), value=0.0)\n",
       "        )\n",
       "        (_bn1): BatchNorm2d(288, eps=0.001, momentum=0.010000000000000009, affine=True, track_running_stats=True)\n",
       "        (_se_reduce): Conv2dStaticSamePadding(\n",
       "          288, 12, kernel_size=(1, 1), stride=(1, 1)\n",
       "          (static_padding): Identity()\n",
       "        )\n",
       "        (_se_expand): Conv2dStaticSamePadding(\n",
       "          12, 288, kernel_size=(1, 1), stride=(1, 1)\n",
       "          (static_padding): Identity()\n",
       "        )\n",
       "        (_project_conv): Conv2dStaticSamePadding(\n",
       "          288, 88, kernel_size=(1, 1), stride=(1, 1), bias=False\n",
       "          (static_padding): Identity()\n",
       "        )\n",
       "        (_bn2): BatchNorm2d(88, eps=0.001, momentum=0.010000000000000009, affine=True, track_running_stats=True)\n",
       "        (_swish): MemoryEfficientSwish()\n",
       "      )\n",
       "      (9): MBConvBlock(\n",
       "        (_expand_conv): Conv2dStaticSamePadding(\n",
       "          88, 528, kernel_size=(1, 1), stride=(1, 1), bias=False\n",
       "          (static_padding): Identity()\n",
       "        )\n",
       "        (_bn0): BatchNorm2d(528, eps=0.001, momentum=0.010000000000000009, affine=True, track_running_stats=True)\n",
       "        (_depthwise_conv): Conv2dStaticSamePadding(\n",
       "          528, 528, kernel_size=(3, 3), stride=(1, 1), groups=528, bias=False\n",
       "          (static_padding): ZeroPad2d(padding=(1, 1, 1, 1), value=0.0)\n",
       "        )\n",
       "        (_bn1): BatchNorm2d(528, eps=0.001, momentum=0.010000000000000009, affine=True, track_running_stats=True)\n",
       "        (_se_reduce): Conv2dStaticSamePadding(\n",
       "          528, 22, kernel_size=(1, 1), stride=(1, 1)\n",
       "          (static_padding): Identity()\n",
       "        )\n",
       "        (_se_expand): Conv2dStaticSamePadding(\n",
       "          22, 528, kernel_size=(1, 1), stride=(1, 1)\n",
       "          (static_padding): Identity()\n",
       "        )\n",
       "        (_project_conv): Conv2dStaticSamePadding(\n",
       "          528, 88, kernel_size=(1, 1), stride=(1, 1), bias=False\n",
       "          (static_padding): Identity()\n",
       "        )\n",
       "        (_bn2): BatchNorm2d(88, eps=0.001, momentum=0.010000000000000009, affine=True, track_running_stats=True)\n",
       "        (_swish): MemoryEfficientSwish()\n",
       "      )\n",
       "      (10): MBConvBlock(\n",
       "        (_expand_conv): Conv2dStaticSamePadding(\n",
       "          88, 528, kernel_size=(1, 1), stride=(1, 1), bias=False\n",
       "          (static_padding): Identity()\n",
       "        )\n",
       "        (_bn0): BatchNorm2d(528, eps=0.001, momentum=0.010000000000000009, affine=True, track_running_stats=True)\n",
       "        (_depthwise_conv): Conv2dStaticSamePadding(\n",
       "          528, 528, kernel_size=(3, 3), stride=(1, 1), groups=528, bias=False\n",
       "          (static_padding): ZeroPad2d(padding=(1, 1, 1, 1), value=0.0)\n",
       "        )\n",
       "        (_bn1): BatchNorm2d(528, eps=0.001, momentum=0.010000000000000009, affine=True, track_running_stats=True)\n",
       "        (_se_reduce): Conv2dStaticSamePadding(\n",
       "          528, 22, kernel_size=(1, 1), stride=(1, 1)\n",
       "          (static_padding): Identity()\n",
       "        )\n",
       "        (_se_expand): Conv2dStaticSamePadding(\n",
       "          22, 528, kernel_size=(1, 1), stride=(1, 1)\n",
       "          (static_padding): Identity()\n",
       "        )\n",
       "        (_project_conv): Conv2dStaticSamePadding(\n",
       "          528, 88, kernel_size=(1, 1), stride=(1, 1), bias=False\n",
       "          (static_padding): Identity()\n",
       "        )\n",
       "        (_bn2): BatchNorm2d(88, eps=0.001, momentum=0.010000000000000009, affine=True, track_running_stats=True)\n",
       "        (_swish): MemoryEfficientSwish()\n",
       "      )\n",
       "      (11): MBConvBlock(\n",
       "        (_expand_conv): Conv2dStaticSamePadding(\n",
       "          88, 528, kernel_size=(1, 1), stride=(1, 1), bias=False\n",
       "          (static_padding): Identity()\n",
       "        )\n",
       "        (_bn0): BatchNorm2d(528, eps=0.001, momentum=0.010000000000000009, affine=True, track_running_stats=True)\n",
       "        (_depthwise_conv): Conv2dStaticSamePadding(\n",
       "          528, 528, kernel_size=(3, 3), stride=(1, 1), groups=528, bias=False\n",
       "          (static_padding): ZeroPad2d(padding=(1, 1, 1, 1), value=0.0)\n",
       "        )\n",
       "        (_bn1): BatchNorm2d(528, eps=0.001, momentum=0.010000000000000009, affine=True, track_running_stats=True)\n",
       "        (_se_reduce): Conv2dStaticSamePadding(\n",
       "          528, 22, kernel_size=(1, 1), stride=(1, 1)\n",
       "          (static_padding): Identity()\n",
       "        )\n",
       "        (_se_expand): Conv2dStaticSamePadding(\n",
       "          22, 528, kernel_size=(1, 1), stride=(1, 1)\n",
       "          (static_padding): Identity()\n",
       "        )\n",
       "        (_project_conv): Conv2dStaticSamePadding(\n",
       "          528, 88, kernel_size=(1, 1), stride=(1, 1), bias=False\n",
       "          (static_padding): Identity()\n",
       "        )\n",
       "        (_bn2): BatchNorm2d(88, eps=0.001, momentum=0.010000000000000009, affine=True, track_running_stats=True)\n",
       "        (_swish): MemoryEfficientSwish()\n",
       "      )\n",
       "      (12): MBConvBlock(\n",
       "        (_expand_conv): Conv2dStaticSamePadding(\n",
       "          88, 528, kernel_size=(1, 1), stride=(1, 1), bias=False\n",
       "          (static_padding): Identity()\n",
       "        )\n",
       "        (_bn0): BatchNorm2d(528, eps=0.001, momentum=0.010000000000000009, affine=True, track_running_stats=True)\n",
       "        (_depthwise_conv): Conv2dStaticSamePadding(\n",
       "          528, 528, kernel_size=(5, 5), stride=[1, 1], groups=528, bias=False\n",
       "          (static_padding): ZeroPad2d(padding=(2, 2, 2, 2), value=0.0)\n",
       "        )\n",
       "        (_bn1): BatchNorm2d(528, eps=0.001, momentum=0.010000000000000009, affine=True, track_running_stats=True)\n",
       "        (_se_reduce): Conv2dStaticSamePadding(\n",
       "          528, 22, kernel_size=(1, 1), stride=(1, 1)\n",
       "          (static_padding): Identity()\n",
       "        )\n",
       "        (_se_expand): Conv2dStaticSamePadding(\n",
       "          22, 528, kernel_size=(1, 1), stride=(1, 1)\n",
       "          (static_padding): Identity()\n",
       "        )\n",
       "        (_project_conv): Conv2dStaticSamePadding(\n",
       "          528, 120, kernel_size=(1, 1), stride=(1, 1), bias=False\n",
       "          (static_padding): Identity()\n",
       "        )\n",
       "        (_bn2): BatchNorm2d(120, eps=0.001, momentum=0.010000000000000009, affine=True, track_running_stats=True)\n",
       "        (_swish): MemoryEfficientSwish()\n",
       "      )\n",
       "      (13): MBConvBlock(\n",
       "        (_expand_conv): Conv2dStaticSamePadding(\n",
       "          120, 720, kernel_size=(1, 1), stride=(1, 1), bias=False\n",
       "          (static_padding): Identity()\n",
       "        )\n",
       "        (_bn0): BatchNorm2d(720, eps=0.001, momentum=0.010000000000000009, affine=True, track_running_stats=True)\n",
       "        (_depthwise_conv): Conv2dStaticSamePadding(\n",
       "          720, 720, kernel_size=(5, 5), stride=(1, 1), groups=720, bias=False\n",
       "          (static_padding): ZeroPad2d(padding=(2, 2, 2, 2), value=0.0)\n",
       "        )\n",
       "        (_bn1): BatchNorm2d(720, eps=0.001, momentum=0.010000000000000009, affine=True, track_running_stats=True)\n",
       "        (_se_reduce): Conv2dStaticSamePadding(\n",
       "          720, 30, kernel_size=(1, 1), stride=(1, 1)\n",
       "          (static_padding): Identity()\n",
       "        )\n",
       "        (_se_expand): Conv2dStaticSamePadding(\n",
       "          30, 720, kernel_size=(1, 1), stride=(1, 1)\n",
       "          (static_padding): Identity()\n",
       "        )\n",
       "        (_project_conv): Conv2dStaticSamePadding(\n",
       "          720, 120, kernel_size=(1, 1), stride=(1, 1), bias=False\n",
       "          (static_padding): Identity()\n",
       "        )\n",
       "        (_bn2): BatchNorm2d(120, eps=0.001, momentum=0.010000000000000009, affine=True, track_running_stats=True)\n",
       "        (_swish): MemoryEfficientSwish()\n",
       "      )\n",
       "      (14): MBConvBlock(\n",
       "        (_expand_conv): Conv2dStaticSamePadding(\n",
       "          120, 720, kernel_size=(1, 1), stride=(1, 1), bias=False\n",
       "          (static_padding): Identity()\n",
       "        )\n",
       "        (_bn0): BatchNorm2d(720, eps=0.001, momentum=0.010000000000000009, affine=True, track_running_stats=True)\n",
       "        (_depthwise_conv): Conv2dStaticSamePadding(\n",
       "          720, 720, kernel_size=(5, 5), stride=(1, 1), groups=720, bias=False\n",
       "          (static_padding): ZeroPad2d(padding=(2, 2, 2, 2), value=0.0)\n",
       "        )\n",
       "        (_bn1): BatchNorm2d(720, eps=0.001, momentum=0.010000000000000009, affine=True, track_running_stats=True)\n",
       "        (_se_reduce): Conv2dStaticSamePadding(\n",
       "          720, 30, kernel_size=(1, 1), stride=(1, 1)\n",
       "          (static_padding): Identity()\n",
       "        )\n",
       "        (_se_expand): Conv2dStaticSamePadding(\n",
       "          30, 720, kernel_size=(1, 1), stride=(1, 1)\n",
       "          (static_padding): Identity()\n",
       "        )\n",
       "        (_project_conv): Conv2dStaticSamePadding(\n",
       "          720, 120, kernel_size=(1, 1), stride=(1, 1), bias=False\n",
       "          (static_padding): Identity()\n",
       "        )\n",
       "        (_bn2): BatchNorm2d(120, eps=0.001, momentum=0.010000000000000009, affine=True, track_running_stats=True)\n",
       "        (_swish): MemoryEfficientSwish()\n",
       "      )\n",
       "      (15): MBConvBlock(\n",
       "        (_expand_conv): Conv2dStaticSamePadding(\n",
       "          120, 720, kernel_size=(1, 1), stride=(1, 1), bias=False\n",
       "          (static_padding): Identity()\n",
       "        )\n",
       "        (_bn0): BatchNorm2d(720, eps=0.001, momentum=0.010000000000000009, affine=True, track_running_stats=True)\n",
       "        (_depthwise_conv): Conv2dStaticSamePadding(\n",
       "          720, 720, kernel_size=(5, 5), stride=(1, 1), groups=720, bias=False\n",
       "          (static_padding): ZeroPad2d(padding=(2, 2, 2, 2), value=0.0)\n",
       "        )\n",
       "        (_bn1): BatchNorm2d(720, eps=0.001, momentum=0.010000000000000009, affine=True, track_running_stats=True)\n",
       "        (_se_reduce): Conv2dStaticSamePadding(\n",
       "          720, 30, kernel_size=(1, 1), stride=(1, 1)\n",
       "          (static_padding): Identity()\n",
       "        )\n",
       "        (_se_expand): Conv2dStaticSamePadding(\n",
       "          30, 720, kernel_size=(1, 1), stride=(1, 1)\n",
       "          (static_padding): Identity()\n",
       "        )\n",
       "        (_project_conv): Conv2dStaticSamePadding(\n",
       "          720, 120, kernel_size=(1, 1), stride=(1, 1), bias=False\n",
       "          (static_padding): Identity()\n",
       "        )\n",
       "        (_bn2): BatchNorm2d(120, eps=0.001, momentum=0.010000000000000009, affine=True, track_running_stats=True)\n",
       "        (_swish): MemoryEfficientSwish()\n",
       "      )\n",
       "      (16): MBConvBlock(\n",
       "        (_expand_conv): Conv2dStaticSamePadding(\n",
       "          120, 720, kernel_size=(1, 1), stride=(1, 1), bias=False\n",
       "          (static_padding): Identity()\n",
       "        )\n",
       "        (_bn0): BatchNorm2d(720, eps=0.001, momentum=0.010000000000000009, affine=True, track_running_stats=True)\n",
       "        (_depthwise_conv): Conv2dStaticSamePadding(\n",
       "          720, 720, kernel_size=(5, 5), stride=[2, 2], groups=720, bias=False\n",
       "          (static_padding): ZeroPad2d(padding=(2, 2, 2, 2), value=0.0)\n",
       "        )\n",
       "        (_bn1): BatchNorm2d(720, eps=0.001, momentum=0.010000000000000009, affine=True, track_running_stats=True)\n",
       "        (_se_reduce): Conv2dStaticSamePadding(\n",
       "          720, 30, kernel_size=(1, 1), stride=(1, 1)\n",
       "          (static_padding): Identity()\n",
       "        )\n",
       "        (_se_expand): Conv2dStaticSamePadding(\n",
       "          30, 720, kernel_size=(1, 1), stride=(1, 1)\n",
       "          (static_padding): Identity()\n",
       "        )\n",
       "        (_project_conv): Conv2dStaticSamePadding(\n",
       "          720, 208, kernel_size=(1, 1), stride=(1, 1), bias=False\n",
       "          (static_padding): Identity()\n",
       "        )\n",
       "        (_bn2): BatchNorm2d(208, eps=0.001, momentum=0.010000000000000009, affine=True, track_running_stats=True)\n",
       "        (_swish): MemoryEfficientSwish()\n",
       "      )\n",
       "      (17): MBConvBlock(\n",
       "        (_expand_conv): Conv2dStaticSamePadding(\n",
       "          208, 1248, kernel_size=(1, 1), stride=(1, 1), bias=False\n",
       "          (static_padding): Identity()\n",
       "        )\n",
       "        (_bn0): BatchNorm2d(1248, eps=0.001, momentum=0.010000000000000009, affine=True, track_running_stats=True)\n",
       "        (_depthwise_conv): Conv2dStaticSamePadding(\n",
       "          1248, 1248, kernel_size=(5, 5), stride=(1, 1), groups=1248, bias=False\n",
       "          (static_padding): ZeroPad2d(padding=(2, 2, 2, 2), value=0.0)\n",
       "        )\n",
       "        (_bn1): BatchNorm2d(1248, eps=0.001, momentum=0.010000000000000009, affine=True, track_running_stats=True)\n",
       "        (_se_reduce): Conv2dStaticSamePadding(\n",
       "          1248, 52, kernel_size=(1, 1), stride=(1, 1)\n",
       "          (static_padding): Identity()\n",
       "        )\n",
       "        (_se_expand): Conv2dStaticSamePadding(\n",
       "          52, 1248, kernel_size=(1, 1), stride=(1, 1)\n",
       "          (static_padding): Identity()\n",
       "        )\n",
       "        (_project_conv): Conv2dStaticSamePadding(\n",
       "          1248, 208, kernel_size=(1, 1), stride=(1, 1), bias=False\n",
       "          (static_padding): Identity()\n",
       "        )\n",
       "        (_bn2): BatchNorm2d(208, eps=0.001, momentum=0.010000000000000009, affine=True, track_running_stats=True)\n",
       "        (_swish): MemoryEfficientSwish()\n",
       "      )\n",
       "      (18): MBConvBlock(\n",
       "        (_expand_conv): Conv2dStaticSamePadding(\n",
       "          208, 1248, kernel_size=(1, 1), stride=(1, 1), bias=False\n",
       "          (static_padding): Identity()\n",
       "        )\n",
       "        (_bn0): BatchNorm2d(1248, eps=0.001, momentum=0.010000000000000009, affine=True, track_running_stats=True)\n",
       "        (_depthwise_conv): Conv2dStaticSamePadding(\n",
       "          1248, 1248, kernel_size=(5, 5), stride=(1, 1), groups=1248, bias=False\n",
       "          (static_padding): ZeroPad2d(padding=(2, 2, 2, 2), value=0.0)\n",
       "        )\n",
       "        (_bn1): BatchNorm2d(1248, eps=0.001, momentum=0.010000000000000009, affine=True, track_running_stats=True)\n",
       "        (_se_reduce): Conv2dStaticSamePadding(\n",
       "          1248, 52, kernel_size=(1, 1), stride=(1, 1)\n",
       "          (static_padding): Identity()\n",
       "        )\n",
       "        (_se_expand): Conv2dStaticSamePadding(\n",
       "          52, 1248, kernel_size=(1, 1), stride=(1, 1)\n",
       "          (static_padding): Identity()\n",
       "        )\n",
       "        (_project_conv): Conv2dStaticSamePadding(\n",
       "          1248, 208, kernel_size=(1, 1), stride=(1, 1), bias=False\n",
       "          (static_padding): Identity()\n",
       "        )\n",
       "        (_bn2): BatchNorm2d(208, eps=0.001, momentum=0.010000000000000009, affine=True, track_running_stats=True)\n",
       "        (_swish): MemoryEfficientSwish()\n",
       "      )\n",
       "      (19): MBConvBlock(\n",
       "        (_expand_conv): Conv2dStaticSamePadding(\n",
       "          208, 1248, kernel_size=(1, 1), stride=(1, 1), bias=False\n",
       "          (static_padding): Identity()\n",
       "        )\n",
       "        (_bn0): BatchNorm2d(1248, eps=0.001, momentum=0.010000000000000009, affine=True, track_running_stats=True)\n",
       "        (_depthwise_conv): Conv2dStaticSamePadding(\n",
       "          1248, 1248, kernel_size=(5, 5), stride=(1, 1), groups=1248, bias=False\n",
       "          (static_padding): ZeroPad2d(padding=(2, 2, 2, 2), value=0.0)\n",
       "        )\n",
       "        (_bn1): BatchNorm2d(1248, eps=0.001, momentum=0.010000000000000009, affine=True, track_running_stats=True)\n",
       "        (_se_reduce): Conv2dStaticSamePadding(\n",
       "          1248, 52, kernel_size=(1, 1), stride=(1, 1)\n",
       "          (static_padding): Identity()\n",
       "        )\n",
       "        (_se_expand): Conv2dStaticSamePadding(\n",
       "          52, 1248, kernel_size=(1, 1), stride=(1, 1)\n",
       "          (static_padding): Identity()\n",
       "        )\n",
       "        (_project_conv): Conv2dStaticSamePadding(\n",
       "          1248, 208, kernel_size=(1, 1), stride=(1, 1), bias=False\n",
       "          (static_padding): Identity()\n",
       "        )\n",
       "        (_bn2): BatchNorm2d(208, eps=0.001, momentum=0.010000000000000009, affine=True, track_running_stats=True)\n",
       "        (_swish): MemoryEfficientSwish()\n",
       "      )\n",
       "      (20): MBConvBlock(\n",
       "        (_expand_conv): Conv2dStaticSamePadding(\n",
       "          208, 1248, kernel_size=(1, 1), stride=(1, 1), bias=False\n",
       "          (static_padding): Identity()\n",
       "        )\n",
       "        (_bn0): BatchNorm2d(1248, eps=0.001, momentum=0.010000000000000009, affine=True, track_running_stats=True)\n",
       "        (_depthwise_conv): Conv2dStaticSamePadding(\n",
       "          1248, 1248, kernel_size=(5, 5), stride=(1, 1), groups=1248, bias=False\n",
       "          (static_padding): ZeroPad2d(padding=(2, 2, 2, 2), value=0.0)\n",
       "        )\n",
       "        (_bn1): BatchNorm2d(1248, eps=0.001, momentum=0.010000000000000009, affine=True, track_running_stats=True)\n",
       "        (_se_reduce): Conv2dStaticSamePadding(\n",
       "          1248, 52, kernel_size=(1, 1), stride=(1, 1)\n",
       "          (static_padding): Identity()\n",
       "        )\n",
       "        (_se_expand): Conv2dStaticSamePadding(\n",
       "          52, 1248, kernel_size=(1, 1), stride=(1, 1)\n",
       "          (static_padding): Identity()\n",
       "        )\n",
       "        (_project_conv): Conv2dStaticSamePadding(\n",
       "          1248, 208, kernel_size=(1, 1), stride=(1, 1), bias=False\n",
       "          (static_padding): Identity()\n",
       "        )\n",
       "        (_bn2): BatchNorm2d(208, eps=0.001, momentum=0.010000000000000009, affine=True, track_running_stats=True)\n",
       "        (_swish): MemoryEfficientSwish()\n",
       "      )\n",
       "      (21): MBConvBlock(\n",
       "        (_expand_conv): Conv2dStaticSamePadding(\n",
       "          208, 1248, kernel_size=(1, 1), stride=(1, 1), bias=False\n",
       "          (static_padding): Identity()\n",
       "        )\n",
       "        (_bn0): BatchNorm2d(1248, eps=0.001, momentum=0.010000000000000009, affine=True, track_running_stats=True)\n",
       "        (_depthwise_conv): Conv2dStaticSamePadding(\n",
       "          1248, 1248, kernel_size=(3, 3), stride=[1, 1], groups=1248, bias=False\n",
       "          (static_padding): ZeroPad2d(padding=(1, 1, 1, 1), value=0.0)\n",
       "        )\n",
       "        (_bn1): BatchNorm2d(1248, eps=0.001, momentum=0.010000000000000009, affine=True, track_running_stats=True)\n",
       "        (_se_reduce): Conv2dStaticSamePadding(\n",
       "          1248, 52, kernel_size=(1, 1), stride=(1, 1)\n",
       "          (static_padding): Identity()\n",
       "        )\n",
       "        (_se_expand): Conv2dStaticSamePadding(\n",
       "          52, 1248, kernel_size=(1, 1), stride=(1, 1)\n",
       "          (static_padding): Identity()\n",
       "        )\n",
       "        (_project_conv): Conv2dStaticSamePadding(\n",
       "          1248, 352, kernel_size=(1, 1), stride=(1, 1), bias=False\n",
       "          (static_padding): Identity()\n",
       "        )\n",
       "        (_bn2): BatchNorm2d(352, eps=0.001, momentum=0.010000000000000009, affine=True, track_running_stats=True)\n",
       "        (_swish): MemoryEfficientSwish()\n",
       "      )\n",
       "      (22): MBConvBlock(\n",
       "        (_expand_conv): Conv2dStaticSamePadding(\n",
       "          352, 2112, kernel_size=(1, 1), stride=(1, 1), bias=False\n",
       "          (static_padding): Identity()\n",
       "        )\n",
       "        (_bn0): BatchNorm2d(2112, eps=0.001, momentum=0.010000000000000009, affine=True, track_running_stats=True)\n",
       "        (_depthwise_conv): Conv2dStaticSamePadding(\n",
       "          2112, 2112, kernel_size=(3, 3), stride=(1, 1), groups=2112, bias=False\n",
       "          (static_padding): ZeroPad2d(padding=(1, 1, 1, 1), value=0.0)\n",
       "        )\n",
       "        (_bn1): BatchNorm2d(2112, eps=0.001, momentum=0.010000000000000009, affine=True, track_running_stats=True)\n",
       "        (_se_reduce): Conv2dStaticSamePadding(\n",
       "          2112, 88, kernel_size=(1, 1), stride=(1, 1)\n",
       "          (static_padding): Identity()\n",
       "        )\n",
       "        (_se_expand): Conv2dStaticSamePadding(\n",
       "          88, 2112, kernel_size=(1, 1), stride=(1, 1)\n",
       "          (static_padding): Identity()\n",
       "        )\n",
       "        (_project_conv): Conv2dStaticSamePadding(\n",
       "          2112, 352, kernel_size=(1, 1), stride=(1, 1), bias=False\n",
       "          (static_padding): Identity()\n",
       "        )\n",
       "        (_bn2): BatchNorm2d(352, eps=0.001, momentum=0.010000000000000009, affine=True, track_running_stats=True)\n",
       "        (_swish): MemoryEfficientSwish()\n",
       "      )\n",
       "    )\n",
       "    (_conv_head): Conv2dStaticSamePadding(\n",
       "      352, 1408, kernel_size=(1, 1), stride=(1, 1), bias=False\n",
       "      (static_padding): Identity()\n",
       "    )\n",
       "    (_bn1): BatchNorm2d(1408, eps=0.001, momentum=0.010000000000000009, affine=True, track_running_stats=True)\n",
       "    (_avg_pooling): AdaptiveAvgPool2d(output_size=1)\n",
       "    (_dropout): Dropout(p=0.3, inplace=False)\n",
       "    (_fc): Sequential(\n",
       "      (0): BatchNorm1d(1408, eps=1e-05, momentum=0.1, affine=True, track_running_stats=True)\n",
       "      (1): Linear(in_features=1408, out_features=512, bias=True)\n",
       "      (2): ReLU()\n",
       "      (3): BatchNorm1d(512, eps=1e-05, momentum=0.1, affine=True, track_running_stats=True)\n",
       "      (4): Linear(in_features=512, out_features=128, bias=True)\n",
       "      (5): ReLU()\n",
       "      (6): BatchNorm1d(128, eps=1e-05, momentum=0.1, affine=True, track_running_stats=True)\n",
       "      (7): Dropout(p=0.4, inplace=False)\n",
       "      (8): Linear(in_features=128, out_features=11, bias=True)\n",
       "    )\n",
       "    (_swish): MemoryEfficientSwish()\n",
       "  )\n",
       ")"
      ]
     },
     "execution_count": 52,
     "metadata": {},
     "output_type": "execute_result"
    }
   ],
   "source": [
    "model"
   ]
  },
  {
   "cell_type": "code",
   "execution_count": 53,
   "id": "5c69080d",
   "metadata": {
    "execution": {
     "iopub.execute_input": "2022-02-05T21:57:09.163185Z",
     "iopub.status.busy": "2022-02-05T21:57:09.162407Z",
     "iopub.status.idle": "2022-02-05T21:57:13.677904Z",
     "shell.execute_reply": "2022-02-05T21:57:13.677303Z",
     "shell.execute_reply.started": "2022-02-05T21:13:35.437067Z"
    },
    "papermill": {
     "duration": 4.621219,
     "end_time": "2022-02-05T21:57:13.678169",
     "exception": false,
     "start_time": "2022-02-05T21:57:09.056950",
     "status": "completed"
    },
    "tags": []
   },
   "outputs": [
    {
     "data": {
      "text/plain": [
       "<All keys matched successfully>"
      ]
     },
     "execution_count": 53,
     "metadata": {},
     "output_type": "execute_result"
    }
   ],
   "source": [
    "model.load_state_dict(torch.load('../input/eff-net-b2/res_cust_2.pth'))\n"
   ]
  },
  {
   "cell_type": "code",
   "execution_count": 54,
   "id": "f0c74984",
   "metadata": {
    "execution": {
     "iopub.execute_input": "2022-02-05T21:57:13.900029Z",
     "iopub.status.busy": "2022-02-05T21:57:13.898812Z",
     "iopub.status.idle": "2022-02-05T21:57:13.902498Z",
     "shell.execute_reply": "2022-02-05T21:57:13.901884Z",
     "shell.execute_reply.started": "2022-02-05T21:13:38.876182Z"
    },
    "papermill": {
     "duration": 0.119166,
     "end_time": "2022-02-05T21:57:13.902635",
     "exception": false,
     "start_time": "2022-02-05T21:57:13.783469",
     "status": "completed"
    },
    "tags": []
   },
   "outputs": [],
   "source": [
    "def get_default_device():\n",
    "    \"\"\"Pick GPU if available, else CPU\"\"\"\n",
    "    if torch.cuda.is_available():\n",
    "        return torch.device('cuda')\n",
    "    else:\n",
    "        return torch.device('cpu')\n",
    "    \n",
    "def to_device(data, device):\n",
    "    \"\"\"Move tensor(s) to chosen device\"\"\"\n",
    "    if isinstance(data, (list,tuple)):\n",
    "        return [to_device(x, device) for x in data]\n",
    "    return data.to(device, non_blocking=True)\n",
    "\n",
    "class DeviceDataLoader():\n",
    "    \"\"\"Wrap a dataloader to move data to a device\"\"\"\n",
    "    def __init__(self, dl, device):\n",
    "        self.dl = dl\n",
    "        self.device = device\n",
    "        \n",
    "    def __iter__(self):\n",
    "        \"\"\"Yield a batch of data after moving it to device\"\"\"\n",
    "        for b in self.dl: \n",
    "            yield to_device(b, self.device)\n",
    "\n",
    "    def __len__(self):\n",
    "        \"\"\"Number of batches\"\"\"\n",
    "        return len(self.dl)"
   ]
  },
  {
   "cell_type": "code",
   "execution_count": 55,
   "id": "5debe57d",
   "metadata": {
    "execution": {
     "iopub.execute_input": "2022-02-05T21:57:14.123417Z",
     "iopub.status.busy": "2022-02-05T21:57:14.121690Z",
     "iopub.status.idle": "2022-02-05T21:57:14.131572Z",
     "shell.execute_reply": "2022-02-05T21:57:14.125947Z",
     "shell.execute_reply.started": "2022-02-05T21:13:38.886326Z"
    },
    "papermill": {
     "duration": 0.124961,
     "end_time": "2022-02-05T21:57:14.132412",
     "exception": false,
     "start_time": "2022-02-05T21:57:14.007451",
     "status": "completed"
    },
    "tags": []
   },
   "outputs": [
    {
     "data": {
      "text/plain": [
       "device(type='cuda')"
      ]
     },
     "execution_count": 55,
     "metadata": {},
     "output_type": "execute_result"
    }
   ],
   "source": [
    "device = get_default_device()\n",
    "device"
   ]
  },
  {
   "cell_type": "code",
   "execution_count": 56,
   "id": "14d32f20",
   "metadata": {
    "execution": {
     "iopub.execute_input": "2022-02-05T21:57:14.543814Z",
     "iopub.status.busy": "2022-02-05T21:57:14.542673Z",
     "iopub.status.idle": "2022-02-05T21:57:14.545776Z",
     "shell.execute_reply": "2022-02-05T21:57:14.544798Z",
     "shell.execute_reply.started": "2022-02-05T21:13:38.901633Z"
    },
    "papermill": {
     "duration": 0.190236,
     "end_time": "2022-02-05T21:57:14.546014",
     "exception": false,
     "start_time": "2022-02-05T21:57:14.355778",
     "status": "completed"
    },
    "tags": []
   },
   "outputs": [],
   "source": [
    "train_dl = DeviceDataLoader(train_dl, device)\n",
    "#val_dl = DeviceDataLoader(val_dl, device)"
   ]
  },
  {
   "cell_type": "code",
   "execution_count": 57,
   "id": "fb03eb19",
   "metadata": {
    "execution": {
     "iopub.execute_input": "2022-02-05T21:57:14.867795Z",
     "iopub.status.busy": "2022-02-05T21:57:14.866787Z",
     "iopub.status.idle": "2022-02-05T21:57:14.870302Z",
     "shell.execute_reply": "2022-02-05T21:57:14.870863Z",
     "shell.execute_reply.started": "2022-02-05T21:13:38.908314Z"
    },
    "papermill": {
     "duration": 0.148018,
     "end_time": "2022-02-05T21:57:14.871045",
     "exception": false,
     "start_time": "2022-02-05T21:57:14.723027",
     "status": "completed"
    },
    "tags": []
   },
   "outputs": [
    {
     "data": {
      "text/plain": [
       "<__main__.DeviceDataLoader at 0x7fe04725d190>"
      ]
     },
     "execution_count": 57,
     "metadata": {},
     "output_type": "execute_result"
    }
   ],
   "source": [
    "train_dl"
   ]
  },
  {
   "cell_type": "code",
   "execution_count": 58,
   "id": "d13a55fb",
   "metadata": {
    "execution": {
     "iopub.execute_input": "2022-02-05T21:57:15.085463Z",
     "iopub.status.busy": "2022-02-05T21:57:15.083707Z",
     "iopub.status.idle": "2022-02-05T21:57:15.121947Z",
     "shell.execute_reply": "2022-02-05T21:57:15.122513Z",
     "shell.execute_reply.started": "2022-02-05T21:13:38.920372Z"
    },
    "papermill": {
     "duration": 0.14678,
     "end_time": "2022-02-05T21:57:15.122683",
     "exception": false,
     "start_time": "2022-02-05T21:57:14.975903",
     "status": "completed"
    },
    "tags": []
   },
   "outputs": [
    {
     "data": {
      "text/plain": [
       "Classifier(\n",
       "  (eff): EfficientNet(\n",
       "    (_conv_stem): Conv2dStaticSamePadding(\n",
       "      3, 32, kernel_size=(3, 3), stride=(2, 2), bias=False\n",
       "      (static_padding): ZeroPad2d(padding=(0, 1, 0, 1), value=0.0)\n",
       "    )\n",
       "    (_bn0): BatchNorm2d(32, eps=0.001, momentum=0.010000000000000009, affine=True, track_running_stats=True)\n",
       "    (_blocks): ModuleList(\n",
       "      (0): MBConvBlock(\n",
       "        (_depthwise_conv): Conv2dStaticSamePadding(\n",
       "          32, 32, kernel_size=(3, 3), stride=[1, 1], groups=32, bias=False\n",
       "          (static_padding): ZeroPad2d(padding=(1, 1, 1, 1), value=0.0)\n",
       "        )\n",
       "        (_bn1): BatchNorm2d(32, eps=0.001, momentum=0.010000000000000009, affine=True, track_running_stats=True)\n",
       "        (_se_reduce): Conv2dStaticSamePadding(\n",
       "          32, 8, kernel_size=(1, 1), stride=(1, 1)\n",
       "          (static_padding): Identity()\n",
       "        )\n",
       "        (_se_expand): Conv2dStaticSamePadding(\n",
       "          8, 32, kernel_size=(1, 1), stride=(1, 1)\n",
       "          (static_padding): Identity()\n",
       "        )\n",
       "        (_project_conv): Conv2dStaticSamePadding(\n",
       "          32, 16, kernel_size=(1, 1), stride=(1, 1), bias=False\n",
       "          (static_padding): Identity()\n",
       "        )\n",
       "        (_bn2): BatchNorm2d(16, eps=0.001, momentum=0.010000000000000009, affine=True, track_running_stats=True)\n",
       "        (_swish): MemoryEfficientSwish()\n",
       "      )\n",
       "      (1): MBConvBlock(\n",
       "        (_depthwise_conv): Conv2dStaticSamePadding(\n",
       "          16, 16, kernel_size=(3, 3), stride=(1, 1), groups=16, bias=False\n",
       "          (static_padding): ZeroPad2d(padding=(1, 1, 1, 1), value=0.0)\n",
       "        )\n",
       "        (_bn1): BatchNorm2d(16, eps=0.001, momentum=0.010000000000000009, affine=True, track_running_stats=True)\n",
       "        (_se_reduce): Conv2dStaticSamePadding(\n",
       "          16, 4, kernel_size=(1, 1), stride=(1, 1)\n",
       "          (static_padding): Identity()\n",
       "        )\n",
       "        (_se_expand): Conv2dStaticSamePadding(\n",
       "          4, 16, kernel_size=(1, 1), stride=(1, 1)\n",
       "          (static_padding): Identity()\n",
       "        )\n",
       "        (_project_conv): Conv2dStaticSamePadding(\n",
       "          16, 16, kernel_size=(1, 1), stride=(1, 1), bias=False\n",
       "          (static_padding): Identity()\n",
       "        )\n",
       "        (_bn2): BatchNorm2d(16, eps=0.001, momentum=0.010000000000000009, affine=True, track_running_stats=True)\n",
       "        (_swish): MemoryEfficientSwish()\n",
       "      )\n",
       "      (2): MBConvBlock(\n",
       "        (_expand_conv): Conv2dStaticSamePadding(\n",
       "          16, 96, kernel_size=(1, 1), stride=(1, 1), bias=False\n",
       "          (static_padding): Identity()\n",
       "        )\n",
       "        (_bn0): BatchNorm2d(96, eps=0.001, momentum=0.010000000000000009, affine=True, track_running_stats=True)\n",
       "        (_depthwise_conv): Conv2dStaticSamePadding(\n",
       "          96, 96, kernel_size=(3, 3), stride=[2, 2], groups=96, bias=False\n",
       "          (static_padding): ZeroPad2d(padding=(0, 1, 0, 1), value=0.0)\n",
       "        )\n",
       "        (_bn1): BatchNorm2d(96, eps=0.001, momentum=0.010000000000000009, affine=True, track_running_stats=True)\n",
       "        (_se_reduce): Conv2dStaticSamePadding(\n",
       "          96, 4, kernel_size=(1, 1), stride=(1, 1)\n",
       "          (static_padding): Identity()\n",
       "        )\n",
       "        (_se_expand): Conv2dStaticSamePadding(\n",
       "          4, 96, kernel_size=(1, 1), stride=(1, 1)\n",
       "          (static_padding): Identity()\n",
       "        )\n",
       "        (_project_conv): Conv2dStaticSamePadding(\n",
       "          96, 24, kernel_size=(1, 1), stride=(1, 1), bias=False\n",
       "          (static_padding): Identity()\n",
       "        )\n",
       "        (_bn2): BatchNorm2d(24, eps=0.001, momentum=0.010000000000000009, affine=True, track_running_stats=True)\n",
       "        (_swish): MemoryEfficientSwish()\n",
       "      )\n",
       "      (3): MBConvBlock(\n",
       "        (_expand_conv): Conv2dStaticSamePadding(\n",
       "          24, 144, kernel_size=(1, 1), stride=(1, 1), bias=False\n",
       "          (static_padding): Identity()\n",
       "        )\n",
       "        (_bn0): BatchNorm2d(144, eps=0.001, momentum=0.010000000000000009, affine=True, track_running_stats=True)\n",
       "        (_depthwise_conv): Conv2dStaticSamePadding(\n",
       "          144, 144, kernel_size=(3, 3), stride=(1, 1), groups=144, bias=False\n",
       "          (static_padding): ZeroPad2d(padding=(1, 1, 1, 1), value=0.0)\n",
       "        )\n",
       "        (_bn1): BatchNorm2d(144, eps=0.001, momentum=0.010000000000000009, affine=True, track_running_stats=True)\n",
       "        (_se_reduce): Conv2dStaticSamePadding(\n",
       "          144, 6, kernel_size=(1, 1), stride=(1, 1)\n",
       "          (static_padding): Identity()\n",
       "        )\n",
       "        (_se_expand): Conv2dStaticSamePadding(\n",
       "          6, 144, kernel_size=(1, 1), stride=(1, 1)\n",
       "          (static_padding): Identity()\n",
       "        )\n",
       "        (_project_conv): Conv2dStaticSamePadding(\n",
       "          144, 24, kernel_size=(1, 1), stride=(1, 1), bias=False\n",
       "          (static_padding): Identity()\n",
       "        )\n",
       "        (_bn2): BatchNorm2d(24, eps=0.001, momentum=0.010000000000000009, affine=True, track_running_stats=True)\n",
       "        (_swish): MemoryEfficientSwish()\n",
       "      )\n",
       "      (4): MBConvBlock(\n",
       "        (_expand_conv): Conv2dStaticSamePadding(\n",
       "          24, 144, kernel_size=(1, 1), stride=(1, 1), bias=False\n",
       "          (static_padding): Identity()\n",
       "        )\n",
       "        (_bn0): BatchNorm2d(144, eps=0.001, momentum=0.010000000000000009, affine=True, track_running_stats=True)\n",
       "        (_depthwise_conv): Conv2dStaticSamePadding(\n",
       "          144, 144, kernel_size=(3, 3), stride=(1, 1), groups=144, bias=False\n",
       "          (static_padding): ZeroPad2d(padding=(1, 1, 1, 1), value=0.0)\n",
       "        )\n",
       "        (_bn1): BatchNorm2d(144, eps=0.001, momentum=0.010000000000000009, affine=True, track_running_stats=True)\n",
       "        (_se_reduce): Conv2dStaticSamePadding(\n",
       "          144, 6, kernel_size=(1, 1), stride=(1, 1)\n",
       "          (static_padding): Identity()\n",
       "        )\n",
       "        (_se_expand): Conv2dStaticSamePadding(\n",
       "          6, 144, kernel_size=(1, 1), stride=(1, 1)\n",
       "          (static_padding): Identity()\n",
       "        )\n",
       "        (_project_conv): Conv2dStaticSamePadding(\n",
       "          144, 24, kernel_size=(1, 1), stride=(1, 1), bias=False\n",
       "          (static_padding): Identity()\n",
       "        )\n",
       "        (_bn2): BatchNorm2d(24, eps=0.001, momentum=0.010000000000000009, affine=True, track_running_stats=True)\n",
       "        (_swish): MemoryEfficientSwish()\n",
       "      )\n",
       "      (5): MBConvBlock(\n",
       "        (_expand_conv): Conv2dStaticSamePadding(\n",
       "          24, 144, kernel_size=(1, 1), stride=(1, 1), bias=False\n",
       "          (static_padding): Identity()\n",
       "        )\n",
       "        (_bn0): BatchNorm2d(144, eps=0.001, momentum=0.010000000000000009, affine=True, track_running_stats=True)\n",
       "        (_depthwise_conv): Conv2dStaticSamePadding(\n",
       "          144, 144, kernel_size=(5, 5), stride=[2, 2], groups=144, bias=False\n",
       "          (static_padding): ZeroPad2d(padding=(2, 2, 2, 2), value=0.0)\n",
       "        )\n",
       "        (_bn1): BatchNorm2d(144, eps=0.001, momentum=0.010000000000000009, affine=True, track_running_stats=True)\n",
       "        (_se_reduce): Conv2dStaticSamePadding(\n",
       "          144, 6, kernel_size=(1, 1), stride=(1, 1)\n",
       "          (static_padding): Identity()\n",
       "        )\n",
       "        (_se_expand): Conv2dStaticSamePadding(\n",
       "          6, 144, kernel_size=(1, 1), stride=(1, 1)\n",
       "          (static_padding): Identity()\n",
       "        )\n",
       "        (_project_conv): Conv2dStaticSamePadding(\n",
       "          144, 48, kernel_size=(1, 1), stride=(1, 1), bias=False\n",
       "          (static_padding): Identity()\n",
       "        )\n",
       "        (_bn2): BatchNorm2d(48, eps=0.001, momentum=0.010000000000000009, affine=True, track_running_stats=True)\n",
       "        (_swish): MemoryEfficientSwish()\n",
       "      )\n",
       "      (6): MBConvBlock(\n",
       "        (_expand_conv): Conv2dStaticSamePadding(\n",
       "          48, 288, kernel_size=(1, 1), stride=(1, 1), bias=False\n",
       "          (static_padding): Identity()\n",
       "        )\n",
       "        (_bn0): BatchNorm2d(288, eps=0.001, momentum=0.010000000000000009, affine=True, track_running_stats=True)\n",
       "        (_depthwise_conv): Conv2dStaticSamePadding(\n",
       "          288, 288, kernel_size=(5, 5), stride=(1, 1), groups=288, bias=False\n",
       "          (static_padding): ZeroPad2d(padding=(2, 2, 2, 2), value=0.0)\n",
       "        )\n",
       "        (_bn1): BatchNorm2d(288, eps=0.001, momentum=0.010000000000000009, affine=True, track_running_stats=True)\n",
       "        (_se_reduce): Conv2dStaticSamePadding(\n",
       "          288, 12, kernel_size=(1, 1), stride=(1, 1)\n",
       "          (static_padding): Identity()\n",
       "        )\n",
       "        (_se_expand): Conv2dStaticSamePadding(\n",
       "          12, 288, kernel_size=(1, 1), stride=(1, 1)\n",
       "          (static_padding): Identity()\n",
       "        )\n",
       "        (_project_conv): Conv2dStaticSamePadding(\n",
       "          288, 48, kernel_size=(1, 1), stride=(1, 1), bias=False\n",
       "          (static_padding): Identity()\n",
       "        )\n",
       "        (_bn2): BatchNorm2d(48, eps=0.001, momentum=0.010000000000000009, affine=True, track_running_stats=True)\n",
       "        (_swish): MemoryEfficientSwish()\n",
       "      )\n",
       "      (7): MBConvBlock(\n",
       "        (_expand_conv): Conv2dStaticSamePadding(\n",
       "          48, 288, kernel_size=(1, 1), stride=(1, 1), bias=False\n",
       "          (static_padding): Identity()\n",
       "        )\n",
       "        (_bn0): BatchNorm2d(288, eps=0.001, momentum=0.010000000000000009, affine=True, track_running_stats=True)\n",
       "        (_depthwise_conv): Conv2dStaticSamePadding(\n",
       "          288, 288, kernel_size=(5, 5), stride=(1, 1), groups=288, bias=False\n",
       "          (static_padding): ZeroPad2d(padding=(2, 2, 2, 2), value=0.0)\n",
       "        )\n",
       "        (_bn1): BatchNorm2d(288, eps=0.001, momentum=0.010000000000000009, affine=True, track_running_stats=True)\n",
       "        (_se_reduce): Conv2dStaticSamePadding(\n",
       "          288, 12, kernel_size=(1, 1), stride=(1, 1)\n",
       "          (static_padding): Identity()\n",
       "        )\n",
       "        (_se_expand): Conv2dStaticSamePadding(\n",
       "          12, 288, kernel_size=(1, 1), stride=(1, 1)\n",
       "          (static_padding): Identity()\n",
       "        )\n",
       "        (_project_conv): Conv2dStaticSamePadding(\n",
       "          288, 48, kernel_size=(1, 1), stride=(1, 1), bias=False\n",
       "          (static_padding): Identity()\n",
       "        )\n",
       "        (_bn2): BatchNorm2d(48, eps=0.001, momentum=0.010000000000000009, affine=True, track_running_stats=True)\n",
       "        (_swish): MemoryEfficientSwish()\n",
       "      )\n",
       "      (8): MBConvBlock(\n",
       "        (_expand_conv): Conv2dStaticSamePadding(\n",
       "          48, 288, kernel_size=(1, 1), stride=(1, 1), bias=False\n",
       "          (static_padding): Identity()\n",
       "        )\n",
       "        (_bn0): BatchNorm2d(288, eps=0.001, momentum=0.010000000000000009, affine=True, track_running_stats=True)\n",
       "        (_depthwise_conv): Conv2dStaticSamePadding(\n",
       "          288, 288, kernel_size=(3, 3), stride=[2, 2], groups=288, bias=False\n",
       "          (static_padding): ZeroPad2d(padding=(1, 1, 1, 1), value=0.0)\n",
       "        )\n",
       "        (_bn1): BatchNorm2d(288, eps=0.001, momentum=0.010000000000000009, affine=True, track_running_stats=True)\n",
       "        (_se_reduce): Conv2dStaticSamePadding(\n",
       "          288, 12, kernel_size=(1, 1), stride=(1, 1)\n",
       "          (static_padding): Identity()\n",
       "        )\n",
       "        (_se_expand): Conv2dStaticSamePadding(\n",
       "          12, 288, kernel_size=(1, 1), stride=(1, 1)\n",
       "          (static_padding): Identity()\n",
       "        )\n",
       "        (_project_conv): Conv2dStaticSamePadding(\n",
       "          288, 88, kernel_size=(1, 1), stride=(1, 1), bias=False\n",
       "          (static_padding): Identity()\n",
       "        )\n",
       "        (_bn2): BatchNorm2d(88, eps=0.001, momentum=0.010000000000000009, affine=True, track_running_stats=True)\n",
       "        (_swish): MemoryEfficientSwish()\n",
       "      )\n",
       "      (9): MBConvBlock(\n",
       "        (_expand_conv): Conv2dStaticSamePadding(\n",
       "          88, 528, kernel_size=(1, 1), stride=(1, 1), bias=False\n",
       "          (static_padding): Identity()\n",
       "        )\n",
       "        (_bn0): BatchNorm2d(528, eps=0.001, momentum=0.010000000000000009, affine=True, track_running_stats=True)\n",
       "        (_depthwise_conv): Conv2dStaticSamePadding(\n",
       "          528, 528, kernel_size=(3, 3), stride=(1, 1), groups=528, bias=False\n",
       "          (static_padding): ZeroPad2d(padding=(1, 1, 1, 1), value=0.0)\n",
       "        )\n",
       "        (_bn1): BatchNorm2d(528, eps=0.001, momentum=0.010000000000000009, affine=True, track_running_stats=True)\n",
       "        (_se_reduce): Conv2dStaticSamePadding(\n",
       "          528, 22, kernel_size=(1, 1), stride=(1, 1)\n",
       "          (static_padding): Identity()\n",
       "        )\n",
       "        (_se_expand): Conv2dStaticSamePadding(\n",
       "          22, 528, kernel_size=(1, 1), stride=(1, 1)\n",
       "          (static_padding): Identity()\n",
       "        )\n",
       "        (_project_conv): Conv2dStaticSamePadding(\n",
       "          528, 88, kernel_size=(1, 1), stride=(1, 1), bias=False\n",
       "          (static_padding): Identity()\n",
       "        )\n",
       "        (_bn2): BatchNorm2d(88, eps=0.001, momentum=0.010000000000000009, affine=True, track_running_stats=True)\n",
       "        (_swish): MemoryEfficientSwish()\n",
       "      )\n",
       "      (10): MBConvBlock(\n",
       "        (_expand_conv): Conv2dStaticSamePadding(\n",
       "          88, 528, kernel_size=(1, 1), stride=(1, 1), bias=False\n",
       "          (static_padding): Identity()\n",
       "        )\n",
       "        (_bn0): BatchNorm2d(528, eps=0.001, momentum=0.010000000000000009, affine=True, track_running_stats=True)\n",
       "        (_depthwise_conv): Conv2dStaticSamePadding(\n",
       "          528, 528, kernel_size=(3, 3), stride=(1, 1), groups=528, bias=False\n",
       "          (static_padding): ZeroPad2d(padding=(1, 1, 1, 1), value=0.0)\n",
       "        )\n",
       "        (_bn1): BatchNorm2d(528, eps=0.001, momentum=0.010000000000000009, affine=True, track_running_stats=True)\n",
       "        (_se_reduce): Conv2dStaticSamePadding(\n",
       "          528, 22, kernel_size=(1, 1), stride=(1, 1)\n",
       "          (static_padding): Identity()\n",
       "        )\n",
       "        (_se_expand): Conv2dStaticSamePadding(\n",
       "          22, 528, kernel_size=(1, 1), stride=(1, 1)\n",
       "          (static_padding): Identity()\n",
       "        )\n",
       "        (_project_conv): Conv2dStaticSamePadding(\n",
       "          528, 88, kernel_size=(1, 1), stride=(1, 1), bias=False\n",
       "          (static_padding): Identity()\n",
       "        )\n",
       "        (_bn2): BatchNorm2d(88, eps=0.001, momentum=0.010000000000000009, affine=True, track_running_stats=True)\n",
       "        (_swish): MemoryEfficientSwish()\n",
       "      )\n",
       "      (11): MBConvBlock(\n",
       "        (_expand_conv): Conv2dStaticSamePadding(\n",
       "          88, 528, kernel_size=(1, 1), stride=(1, 1), bias=False\n",
       "          (static_padding): Identity()\n",
       "        )\n",
       "        (_bn0): BatchNorm2d(528, eps=0.001, momentum=0.010000000000000009, affine=True, track_running_stats=True)\n",
       "        (_depthwise_conv): Conv2dStaticSamePadding(\n",
       "          528, 528, kernel_size=(3, 3), stride=(1, 1), groups=528, bias=False\n",
       "          (static_padding): ZeroPad2d(padding=(1, 1, 1, 1), value=0.0)\n",
       "        )\n",
       "        (_bn1): BatchNorm2d(528, eps=0.001, momentum=0.010000000000000009, affine=True, track_running_stats=True)\n",
       "        (_se_reduce): Conv2dStaticSamePadding(\n",
       "          528, 22, kernel_size=(1, 1), stride=(1, 1)\n",
       "          (static_padding): Identity()\n",
       "        )\n",
       "        (_se_expand): Conv2dStaticSamePadding(\n",
       "          22, 528, kernel_size=(1, 1), stride=(1, 1)\n",
       "          (static_padding): Identity()\n",
       "        )\n",
       "        (_project_conv): Conv2dStaticSamePadding(\n",
       "          528, 88, kernel_size=(1, 1), stride=(1, 1), bias=False\n",
       "          (static_padding): Identity()\n",
       "        )\n",
       "        (_bn2): BatchNorm2d(88, eps=0.001, momentum=0.010000000000000009, affine=True, track_running_stats=True)\n",
       "        (_swish): MemoryEfficientSwish()\n",
       "      )\n",
       "      (12): MBConvBlock(\n",
       "        (_expand_conv): Conv2dStaticSamePadding(\n",
       "          88, 528, kernel_size=(1, 1), stride=(1, 1), bias=False\n",
       "          (static_padding): Identity()\n",
       "        )\n",
       "        (_bn0): BatchNorm2d(528, eps=0.001, momentum=0.010000000000000009, affine=True, track_running_stats=True)\n",
       "        (_depthwise_conv): Conv2dStaticSamePadding(\n",
       "          528, 528, kernel_size=(5, 5), stride=[1, 1], groups=528, bias=False\n",
       "          (static_padding): ZeroPad2d(padding=(2, 2, 2, 2), value=0.0)\n",
       "        )\n",
       "        (_bn1): BatchNorm2d(528, eps=0.001, momentum=0.010000000000000009, affine=True, track_running_stats=True)\n",
       "        (_se_reduce): Conv2dStaticSamePadding(\n",
       "          528, 22, kernel_size=(1, 1), stride=(1, 1)\n",
       "          (static_padding): Identity()\n",
       "        )\n",
       "        (_se_expand): Conv2dStaticSamePadding(\n",
       "          22, 528, kernel_size=(1, 1), stride=(1, 1)\n",
       "          (static_padding): Identity()\n",
       "        )\n",
       "        (_project_conv): Conv2dStaticSamePadding(\n",
       "          528, 120, kernel_size=(1, 1), stride=(1, 1), bias=False\n",
       "          (static_padding): Identity()\n",
       "        )\n",
       "        (_bn2): BatchNorm2d(120, eps=0.001, momentum=0.010000000000000009, affine=True, track_running_stats=True)\n",
       "        (_swish): MemoryEfficientSwish()\n",
       "      )\n",
       "      (13): MBConvBlock(\n",
       "        (_expand_conv): Conv2dStaticSamePadding(\n",
       "          120, 720, kernel_size=(1, 1), stride=(1, 1), bias=False\n",
       "          (static_padding): Identity()\n",
       "        )\n",
       "        (_bn0): BatchNorm2d(720, eps=0.001, momentum=0.010000000000000009, affine=True, track_running_stats=True)\n",
       "        (_depthwise_conv): Conv2dStaticSamePadding(\n",
       "          720, 720, kernel_size=(5, 5), stride=(1, 1), groups=720, bias=False\n",
       "          (static_padding): ZeroPad2d(padding=(2, 2, 2, 2), value=0.0)\n",
       "        )\n",
       "        (_bn1): BatchNorm2d(720, eps=0.001, momentum=0.010000000000000009, affine=True, track_running_stats=True)\n",
       "        (_se_reduce): Conv2dStaticSamePadding(\n",
       "          720, 30, kernel_size=(1, 1), stride=(1, 1)\n",
       "          (static_padding): Identity()\n",
       "        )\n",
       "        (_se_expand): Conv2dStaticSamePadding(\n",
       "          30, 720, kernel_size=(1, 1), stride=(1, 1)\n",
       "          (static_padding): Identity()\n",
       "        )\n",
       "        (_project_conv): Conv2dStaticSamePadding(\n",
       "          720, 120, kernel_size=(1, 1), stride=(1, 1), bias=False\n",
       "          (static_padding): Identity()\n",
       "        )\n",
       "        (_bn2): BatchNorm2d(120, eps=0.001, momentum=0.010000000000000009, affine=True, track_running_stats=True)\n",
       "        (_swish): MemoryEfficientSwish()\n",
       "      )\n",
       "      (14): MBConvBlock(\n",
       "        (_expand_conv): Conv2dStaticSamePadding(\n",
       "          120, 720, kernel_size=(1, 1), stride=(1, 1), bias=False\n",
       "          (static_padding): Identity()\n",
       "        )\n",
       "        (_bn0): BatchNorm2d(720, eps=0.001, momentum=0.010000000000000009, affine=True, track_running_stats=True)\n",
       "        (_depthwise_conv): Conv2dStaticSamePadding(\n",
       "          720, 720, kernel_size=(5, 5), stride=(1, 1), groups=720, bias=False\n",
       "          (static_padding): ZeroPad2d(padding=(2, 2, 2, 2), value=0.0)\n",
       "        )\n",
       "        (_bn1): BatchNorm2d(720, eps=0.001, momentum=0.010000000000000009, affine=True, track_running_stats=True)\n",
       "        (_se_reduce): Conv2dStaticSamePadding(\n",
       "          720, 30, kernel_size=(1, 1), stride=(1, 1)\n",
       "          (static_padding): Identity()\n",
       "        )\n",
       "        (_se_expand): Conv2dStaticSamePadding(\n",
       "          30, 720, kernel_size=(1, 1), stride=(1, 1)\n",
       "          (static_padding): Identity()\n",
       "        )\n",
       "        (_project_conv): Conv2dStaticSamePadding(\n",
       "          720, 120, kernel_size=(1, 1), stride=(1, 1), bias=False\n",
       "          (static_padding): Identity()\n",
       "        )\n",
       "        (_bn2): BatchNorm2d(120, eps=0.001, momentum=0.010000000000000009, affine=True, track_running_stats=True)\n",
       "        (_swish): MemoryEfficientSwish()\n",
       "      )\n",
       "      (15): MBConvBlock(\n",
       "        (_expand_conv): Conv2dStaticSamePadding(\n",
       "          120, 720, kernel_size=(1, 1), stride=(1, 1), bias=False\n",
       "          (static_padding): Identity()\n",
       "        )\n",
       "        (_bn0): BatchNorm2d(720, eps=0.001, momentum=0.010000000000000009, affine=True, track_running_stats=True)\n",
       "        (_depthwise_conv): Conv2dStaticSamePadding(\n",
       "          720, 720, kernel_size=(5, 5), stride=(1, 1), groups=720, bias=False\n",
       "          (static_padding): ZeroPad2d(padding=(2, 2, 2, 2), value=0.0)\n",
       "        )\n",
       "        (_bn1): BatchNorm2d(720, eps=0.001, momentum=0.010000000000000009, affine=True, track_running_stats=True)\n",
       "        (_se_reduce): Conv2dStaticSamePadding(\n",
       "          720, 30, kernel_size=(1, 1), stride=(1, 1)\n",
       "          (static_padding): Identity()\n",
       "        )\n",
       "        (_se_expand): Conv2dStaticSamePadding(\n",
       "          30, 720, kernel_size=(1, 1), stride=(1, 1)\n",
       "          (static_padding): Identity()\n",
       "        )\n",
       "        (_project_conv): Conv2dStaticSamePadding(\n",
       "          720, 120, kernel_size=(1, 1), stride=(1, 1), bias=False\n",
       "          (static_padding): Identity()\n",
       "        )\n",
       "        (_bn2): BatchNorm2d(120, eps=0.001, momentum=0.010000000000000009, affine=True, track_running_stats=True)\n",
       "        (_swish): MemoryEfficientSwish()\n",
       "      )\n",
       "      (16): MBConvBlock(\n",
       "        (_expand_conv): Conv2dStaticSamePadding(\n",
       "          120, 720, kernel_size=(1, 1), stride=(1, 1), bias=False\n",
       "          (static_padding): Identity()\n",
       "        )\n",
       "        (_bn0): BatchNorm2d(720, eps=0.001, momentum=0.010000000000000009, affine=True, track_running_stats=True)\n",
       "        (_depthwise_conv): Conv2dStaticSamePadding(\n",
       "          720, 720, kernel_size=(5, 5), stride=[2, 2], groups=720, bias=False\n",
       "          (static_padding): ZeroPad2d(padding=(2, 2, 2, 2), value=0.0)\n",
       "        )\n",
       "        (_bn1): BatchNorm2d(720, eps=0.001, momentum=0.010000000000000009, affine=True, track_running_stats=True)\n",
       "        (_se_reduce): Conv2dStaticSamePadding(\n",
       "          720, 30, kernel_size=(1, 1), stride=(1, 1)\n",
       "          (static_padding): Identity()\n",
       "        )\n",
       "        (_se_expand): Conv2dStaticSamePadding(\n",
       "          30, 720, kernel_size=(1, 1), stride=(1, 1)\n",
       "          (static_padding): Identity()\n",
       "        )\n",
       "        (_project_conv): Conv2dStaticSamePadding(\n",
       "          720, 208, kernel_size=(1, 1), stride=(1, 1), bias=False\n",
       "          (static_padding): Identity()\n",
       "        )\n",
       "        (_bn2): BatchNorm2d(208, eps=0.001, momentum=0.010000000000000009, affine=True, track_running_stats=True)\n",
       "        (_swish): MemoryEfficientSwish()\n",
       "      )\n",
       "      (17): MBConvBlock(\n",
       "        (_expand_conv): Conv2dStaticSamePadding(\n",
       "          208, 1248, kernel_size=(1, 1), stride=(1, 1), bias=False\n",
       "          (static_padding): Identity()\n",
       "        )\n",
       "        (_bn0): BatchNorm2d(1248, eps=0.001, momentum=0.010000000000000009, affine=True, track_running_stats=True)\n",
       "        (_depthwise_conv): Conv2dStaticSamePadding(\n",
       "          1248, 1248, kernel_size=(5, 5), stride=(1, 1), groups=1248, bias=False\n",
       "          (static_padding): ZeroPad2d(padding=(2, 2, 2, 2), value=0.0)\n",
       "        )\n",
       "        (_bn1): BatchNorm2d(1248, eps=0.001, momentum=0.010000000000000009, affine=True, track_running_stats=True)\n",
       "        (_se_reduce): Conv2dStaticSamePadding(\n",
       "          1248, 52, kernel_size=(1, 1), stride=(1, 1)\n",
       "          (static_padding): Identity()\n",
       "        )\n",
       "        (_se_expand): Conv2dStaticSamePadding(\n",
       "          52, 1248, kernel_size=(1, 1), stride=(1, 1)\n",
       "          (static_padding): Identity()\n",
       "        )\n",
       "        (_project_conv): Conv2dStaticSamePadding(\n",
       "          1248, 208, kernel_size=(1, 1), stride=(1, 1), bias=False\n",
       "          (static_padding): Identity()\n",
       "        )\n",
       "        (_bn2): BatchNorm2d(208, eps=0.001, momentum=0.010000000000000009, affine=True, track_running_stats=True)\n",
       "        (_swish): MemoryEfficientSwish()\n",
       "      )\n",
       "      (18): MBConvBlock(\n",
       "        (_expand_conv): Conv2dStaticSamePadding(\n",
       "          208, 1248, kernel_size=(1, 1), stride=(1, 1), bias=False\n",
       "          (static_padding): Identity()\n",
       "        )\n",
       "        (_bn0): BatchNorm2d(1248, eps=0.001, momentum=0.010000000000000009, affine=True, track_running_stats=True)\n",
       "        (_depthwise_conv): Conv2dStaticSamePadding(\n",
       "          1248, 1248, kernel_size=(5, 5), stride=(1, 1), groups=1248, bias=False\n",
       "          (static_padding): ZeroPad2d(padding=(2, 2, 2, 2), value=0.0)\n",
       "        )\n",
       "        (_bn1): BatchNorm2d(1248, eps=0.001, momentum=0.010000000000000009, affine=True, track_running_stats=True)\n",
       "        (_se_reduce): Conv2dStaticSamePadding(\n",
       "          1248, 52, kernel_size=(1, 1), stride=(1, 1)\n",
       "          (static_padding): Identity()\n",
       "        )\n",
       "        (_se_expand): Conv2dStaticSamePadding(\n",
       "          52, 1248, kernel_size=(1, 1), stride=(1, 1)\n",
       "          (static_padding): Identity()\n",
       "        )\n",
       "        (_project_conv): Conv2dStaticSamePadding(\n",
       "          1248, 208, kernel_size=(1, 1), stride=(1, 1), bias=False\n",
       "          (static_padding): Identity()\n",
       "        )\n",
       "        (_bn2): BatchNorm2d(208, eps=0.001, momentum=0.010000000000000009, affine=True, track_running_stats=True)\n",
       "        (_swish): MemoryEfficientSwish()\n",
       "      )\n",
       "      (19): MBConvBlock(\n",
       "        (_expand_conv): Conv2dStaticSamePadding(\n",
       "          208, 1248, kernel_size=(1, 1), stride=(1, 1), bias=False\n",
       "          (static_padding): Identity()\n",
       "        )\n",
       "        (_bn0): BatchNorm2d(1248, eps=0.001, momentum=0.010000000000000009, affine=True, track_running_stats=True)\n",
       "        (_depthwise_conv): Conv2dStaticSamePadding(\n",
       "          1248, 1248, kernel_size=(5, 5), stride=(1, 1), groups=1248, bias=False\n",
       "          (static_padding): ZeroPad2d(padding=(2, 2, 2, 2), value=0.0)\n",
       "        )\n",
       "        (_bn1): BatchNorm2d(1248, eps=0.001, momentum=0.010000000000000009, affine=True, track_running_stats=True)\n",
       "        (_se_reduce): Conv2dStaticSamePadding(\n",
       "          1248, 52, kernel_size=(1, 1), stride=(1, 1)\n",
       "          (static_padding): Identity()\n",
       "        )\n",
       "        (_se_expand): Conv2dStaticSamePadding(\n",
       "          52, 1248, kernel_size=(1, 1), stride=(1, 1)\n",
       "          (static_padding): Identity()\n",
       "        )\n",
       "        (_project_conv): Conv2dStaticSamePadding(\n",
       "          1248, 208, kernel_size=(1, 1), stride=(1, 1), bias=False\n",
       "          (static_padding): Identity()\n",
       "        )\n",
       "        (_bn2): BatchNorm2d(208, eps=0.001, momentum=0.010000000000000009, affine=True, track_running_stats=True)\n",
       "        (_swish): MemoryEfficientSwish()\n",
       "      )\n",
       "      (20): MBConvBlock(\n",
       "        (_expand_conv): Conv2dStaticSamePadding(\n",
       "          208, 1248, kernel_size=(1, 1), stride=(1, 1), bias=False\n",
       "          (static_padding): Identity()\n",
       "        )\n",
       "        (_bn0): BatchNorm2d(1248, eps=0.001, momentum=0.010000000000000009, affine=True, track_running_stats=True)\n",
       "        (_depthwise_conv): Conv2dStaticSamePadding(\n",
       "          1248, 1248, kernel_size=(5, 5), stride=(1, 1), groups=1248, bias=False\n",
       "          (static_padding): ZeroPad2d(padding=(2, 2, 2, 2), value=0.0)\n",
       "        )\n",
       "        (_bn1): BatchNorm2d(1248, eps=0.001, momentum=0.010000000000000009, affine=True, track_running_stats=True)\n",
       "        (_se_reduce): Conv2dStaticSamePadding(\n",
       "          1248, 52, kernel_size=(1, 1), stride=(1, 1)\n",
       "          (static_padding): Identity()\n",
       "        )\n",
       "        (_se_expand): Conv2dStaticSamePadding(\n",
       "          52, 1248, kernel_size=(1, 1), stride=(1, 1)\n",
       "          (static_padding): Identity()\n",
       "        )\n",
       "        (_project_conv): Conv2dStaticSamePadding(\n",
       "          1248, 208, kernel_size=(1, 1), stride=(1, 1), bias=False\n",
       "          (static_padding): Identity()\n",
       "        )\n",
       "        (_bn2): BatchNorm2d(208, eps=0.001, momentum=0.010000000000000009, affine=True, track_running_stats=True)\n",
       "        (_swish): MemoryEfficientSwish()\n",
       "      )\n",
       "      (21): MBConvBlock(\n",
       "        (_expand_conv): Conv2dStaticSamePadding(\n",
       "          208, 1248, kernel_size=(1, 1), stride=(1, 1), bias=False\n",
       "          (static_padding): Identity()\n",
       "        )\n",
       "        (_bn0): BatchNorm2d(1248, eps=0.001, momentum=0.010000000000000009, affine=True, track_running_stats=True)\n",
       "        (_depthwise_conv): Conv2dStaticSamePadding(\n",
       "          1248, 1248, kernel_size=(3, 3), stride=[1, 1], groups=1248, bias=False\n",
       "          (static_padding): ZeroPad2d(padding=(1, 1, 1, 1), value=0.0)\n",
       "        )\n",
       "        (_bn1): BatchNorm2d(1248, eps=0.001, momentum=0.010000000000000009, affine=True, track_running_stats=True)\n",
       "        (_se_reduce): Conv2dStaticSamePadding(\n",
       "          1248, 52, kernel_size=(1, 1), stride=(1, 1)\n",
       "          (static_padding): Identity()\n",
       "        )\n",
       "        (_se_expand): Conv2dStaticSamePadding(\n",
       "          52, 1248, kernel_size=(1, 1), stride=(1, 1)\n",
       "          (static_padding): Identity()\n",
       "        )\n",
       "        (_project_conv): Conv2dStaticSamePadding(\n",
       "          1248, 352, kernel_size=(1, 1), stride=(1, 1), bias=False\n",
       "          (static_padding): Identity()\n",
       "        )\n",
       "        (_bn2): BatchNorm2d(352, eps=0.001, momentum=0.010000000000000009, affine=True, track_running_stats=True)\n",
       "        (_swish): MemoryEfficientSwish()\n",
       "      )\n",
       "      (22): MBConvBlock(\n",
       "        (_expand_conv): Conv2dStaticSamePadding(\n",
       "          352, 2112, kernel_size=(1, 1), stride=(1, 1), bias=False\n",
       "          (static_padding): Identity()\n",
       "        )\n",
       "        (_bn0): BatchNorm2d(2112, eps=0.001, momentum=0.010000000000000009, affine=True, track_running_stats=True)\n",
       "        (_depthwise_conv): Conv2dStaticSamePadding(\n",
       "          2112, 2112, kernel_size=(3, 3), stride=(1, 1), groups=2112, bias=False\n",
       "          (static_padding): ZeroPad2d(padding=(1, 1, 1, 1), value=0.0)\n",
       "        )\n",
       "        (_bn1): BatchNorm2d(2112, eps=0.001, momentum=0.010000000000000009, affine=True, track_running_stats=True)\n",
       "        (_se_reduce): Conv2dStaticSamePadding(\n",
       "          2112, 88, kernel_size=(1, 1), stride=(1, 1)\n",
       "          (static_padding): Identity()\n",
       "        )\n",
       "        (_se_expand): Conv2dStaticSamePadding(\n",
       "          88, 2112, kernel_size=(1, 1), stride=(1, 1)\n",
       "          (static_padding): Identity()\n",
       "        )\n",
       "        (_project_conv): Conv2dStaticSamePadding(\n",
       "          2112, 352, kernel_size=(1, 1), stride=(1, 1), bias=False\n",
       "          (static_padding): Identity()\n",
       "        )\n",
       "        (_bn2): BatchNorm2d(352, eps=0.001, momentum=0.010000000000000009, affine=True, track_running_stats=True)\n",
       "        (_swish): MemoryEfficientSwish()\n",
       "      )\n",
       "    )\n",
       "    (_conv_head): Conv2dStaticSamePadding(\n",
       "      352, 1408, kernel_size=(1, 1), stride=(1, 1), bias=False\n",
       "      (static_padding): Identity()\n",
       "    )\n",
       "    (_bn1): BatchNorm2d(1408, eps=0.001, momentum=0.010000000000000009, affine=True, track_running_stats=True)\n",
       "    (_avg_pooling): AdaptiveAvgPool2d(output_size=1)\n",
       "    (_dropout): Dropout(p=0.3, inplace=False)\n",
       "    (_fc): Sequential(\n",
       "      (0): BatchNorm1d(1408, eps=1e-05, momentum=0.1, affine=True, track_running_stats=True)\n",
       "      (1): Linear(in_features=1408, out_features=512, bias=True)\n",
       "      (2): ReLU()\n",
       "      (3): BatchNorm1d(512, eps=1e-05, momentum=0.1, affine=True, track_running_stats=True)\n",
       "      (4): Linear(in_features=512, out_features=128, bias=True)\n",
       "      (5): ReLU()\n",
       "      (6): BatchNorm1d(128, eps=1e-05, momentum=0.1, affine=True, track_running_stats=True)\n",
       "      (7): Dropout(p=0.4, inplace=False)\n",
       "      (8): Linear(in_features=128, out_features=11, bias=True)\n",
       "    )\n",
       "    (_swish): MemoryEfficientSwish()\n",
       "  )\n",
       ")"
      ]
     },
     "execution_count": 58,
     "metadata": {},
     "output_type": "execute_result"
    }
   ],
   "source": [
    "model = to_device(model, device)\n",
    "model"
   ]
  },
  {
   "cell_type": "code",
   "execution_count": 59,
   "id": "6b98631c",
   "metadata": {
    "execution": {
     "iopub.execute_input": "2022-02-05T21:57:15.344265Z",
     "iopub.status.busy": "2022-02-05T21:57:15.343162Z",
     "iopub.status.idle": "2022-02-05T21:57:15.345925Z",
     "shell.execute_reply": "2022-02-05T21:57:15.346554Z",
     "shell.execute_reply.started": "2022-02-05T21:13:38.957813Z"
    },
    "papermill": {
     "duration": 0.117537,
     "end_time": "2022-02-05T21:57:15.346711",
     "exception": false,
     "start_time": "2022-02-05T21:57:15.229174",
     "status": "completed"
    },
    "tags": []
   },
   "outputs": [],
   "source": [
    "def accuracy(act,pred):\n",
    "    _, preds = torch.max(pred, dim=1)\n",
    "    #print(preds[0])\n",
    "    #print(\"a\")\n",
    "    #print(act[0])\n",
    "    act2=act.detach().cpu().numpy()\n",
    "    pred2=preds.detach().cpu().numpy()\n",
    "    acc=torch.tensor(torch.sum(preds==act).item() / len(preds))\n",
    "    mic=f1_score(act2, pred2, average='micro')\n",
    "    mac=f1_score(act2, pred2, average='macro')\n",
    "    bal_acc=balanced_accuracy_score(act2, pred2)\n",
    "    return acc,torch.tensor([mic]),torch.tensor([mac]),torch.tensor([bal_acc])"
   ]
  },
  {
   "cell_type": "code",
   "execution_count": 60,
   "id": "e91515cf",
   "metadata": {
    "execution": {
     "iopub.execute_input": "2022-02-05T21:57:15.563033Z",
     "iopub.status.busy": "2022-02-05T21:57:15.561952Z",
     "iopub.status.idle": "2022-02-05T21:57:15.564619Z",
     "shell.execute_reply": "2022-02-05T21:57:15.565101Z",
     "shell.execute_reply.started": "2022-02-05T21:13:38.966691Z"
    },
    "papermill": {
     "duration": 0.113349,
     "end_time": "2022-02-05T21:57:15.565271",
     "exception": false,
     "start_time": "2022-02-05T21:57:15.451922",
     "status": "completed"
    },
    "tags": []
   },
   "outputs": [],
   "source": [
    "from torch.optim.lr_scheduler import ReduceLROnPlateau"
   ]
  },
  {
   "cell_type": "code",
   "execution_count": 61,
   "id": "7b1b2429",
   "metadata": {
    "execution": {
     "iopub.execute_input": "2022-02-05T21:57:15.789362Z",
     "iopub.status.busy": "2022-02-05T21:57:15.788184Z",
     "iopub.status.idle": "2022-02-05T21:57:15.791024Z",
     "shell.execute_reply": "2022-02-05T21:57:15.791570Z",
     "shell.execute_reply.started": "2022-02-05T21:13:39.674933Z"
    },
    "papermill": {
     "duration": 0.120986,
     "end_time": "2022-02-05T21:57:15.791736",
     "exception": false,
     "start_time": "2022-02-05T21:57:15.670750",
     "status": "completed"
    },
    "tags": []
   },
   "outputs": [],
   "source": [
    "def fit(model,train_dl,opt,lr,epochs):\n",
    "    history = []\n",
    "    optimizer = opt(model.parameters(), lr)\n",
    "    scheduler = ReduceLROnPlateau(optimizer, 'min',patience=0,verbose=True,factor=0.1)\n",
    "    for epoch in range(epochs):\n",
    "        epoch_acc=[]\n",
    "        epoch_bal_acc=[]\n",
    "        epoch_f1=[]\n",
    "        loss_epo=[]\n",
    "        for batch in train_dl:\n",
    "            images,labels=batch\n",
    "            loss,acc,mic,mac,bal_acc=model.training_step(batch)\n",
    "            loss.backward()\n",
    "            optimizer.step()\n",
    "            optimizer.zero_grad()\n",
    "            epoch_acc.append(acc)\n",
    "            epoch_bal_acc.append(bal_acc)\n",
    "            epoch_f1.append(mac)\n",
    "            loss2=loss.clone().detach()\n",
    "            loss_epo.append(loss2)\n",
    "        dic_train=torch.stack(epoch_acc).mean()\n",
    "        dic_bal=torch.stack(epoch_bal_acc).mean()\n",
    "        dic_f1=torch.stack(epoch_f1).mean()\n",
    "        loss_val=torch.stack(loss_epo).mean()\n",
    "        \n",
    "        print(\"Epoch [{}], train_loss: {:.4f},train_acc: {:.4f},train_bal_acc: {:.4f},train_f1: {:.4f}\".format(\n",
    "        epoch,loss_val,dic_train,dic_bal,dic_f1))\n",
    "\n",
    "        #res=[model.validation_step(batch) for batch in val_dl ]\n",
    "        #dic=model.validation_epoch_end(res)\n",
    "        #valid_loss=dic['val_loss']\n",
    "        scheduler.step(loss_val)\n",
    "        #history.append(dic)\n",
    "        #model.epoch_end(epoch,dic)\n",
    "    return \"india\""
   ]
  },
  {
   "cell_type": "code",
   "execution_count": 62,
   "id": "2ce72a90",
   "metadata": {
    "execution": {
     "iopub.execute_input": "2022-02-05T21:57:16.009920Z",
     "iopub.status.busy": "2022-02-05T21:57:16.008877Z",
     "iopub.status.idle": "2022-02-05T21:57:16.012126Z",
     "shell.execute_reply": "2022-02-05T21:57:16.011603Z",
     "shell.execute_reply.started": "2022-02-05T21:13:45.434281Z"
    },
    "papermill": {
     "duration": 0.114151,
     "end_time": "2022-02-05T21:57:16.012265",
     "exception": false,
     "start_time": "2022-02-05T21:57:15.898114",
     "status": "completed"
    },
    "tags": []
   },
   "outputs": [],
   "source": [
    "opt=torch.optim.Adam"
   ]
  },
  {
   "cell_type": "code",
   "execution_count": 63,
   "id": "fe4868e0",
   "metadata": {
    "execution": {
     "iopub.execute_input": "2022-02-05T21:57:16.229292Z",
     "iopub.status.busy": "2022-02-05T21:57:16.228441Z",
     "iopub.status.idle": "2022-02-05T21:57:16.232593Z",
     "shell.execute_reply": "2022-02-05T21:57:16.233404Z",
     "shell.execute_reply.started": "2022-02-05T21:13:47.211041Z"
    },
    "papermill": {
     "duration": 0.115595,
     "end_time": "2022-02-05T21:57:16.233678",
     "exception": false,
     "start_time": "2022-02-05T21:57:16.118083",
     "status": "completed"
    },
    "tags": []
   },
   "outputs": [
    {
     "name": "stdout",
     "output_type": "stream",
     "text": [
      "0.0001\n"
     ]
    }
   ],
   "source": [
    "a=10e-5\n",
    "print(a)"
   ]
  },
  {
   "cell_type": "code",
   "execution_count": 64,
   "id": "83719a9c",
   "metadata": {
    "execution": {
     "iopub.execute_input": "2022-02-05T21:57:16.452845Z",
     "iopub.status.busy": "2022-02-05T21:57:16.451784Z",
     "iopub.status.idle": "2022-02-05T21:57:26.809471Z",
     "shell.execute_reply": "2022-02-05T21:57:26.810325Z",
     "shell.execute_reply.started": "2022-02-05T21:13:47.441440Z"
    },
    "papermill": {
     "duration": 10.469398,
     "end_time": "2022-02-05T21:57:26.810670",
     "exception": false,
     "start_time": "2022-02-05T21:57:16.341272",
     "status": "completed"
    },
    "tags": []
   },
   "outputs": [
    {
     "name": "stdout",
     "output_type": "stream",
     "text": [
      "Collecting torchsummary\r\n",
      "  Downloading torchsummary-1.5.1-py3-none-any.whl (2.8 kB)\r\n",
      "Installing collected packages: torchsummary\r\n",
      "Successfully installed torchsummary-1.5.1\r\n",
      "\u001b[33mWARNING: Running pip as the 'root' user can result in broken permissions and conflicting behaviour with the system package manager. It is recommended to use a virtual environment instead: https://pip.pypa.io/warnings/venv\u001b[0m\r\n",
      "Note: you may need to restart the kernel to use updated packages.\n"
     ]
    }
   ],
   "source": [
    "pip install torchsummary"
   ]
  },
  {
   "cell_type": "code",
   "execution_count": 65,
   "id": "6cbe64c0",
   "metadata": {
    "execution": {
     "iopub.execute_input": "2022-02-05T21:57:27.071569Z",
     "iopub.status.busy": "2022-02-05T21:57:27.069023Z",
     "iopub.status.idle": "2022-02-05T21:57:27.079828Z",
     "shell.execute_reply": "2022-02-05T21:57:27.080973Z",
     "shell.execute_reply.started": "2022-02-05T21:13:56.037138Z"
    },
    "papermill": {
     "duration": 0.160859,
     "end_time": "2022-02-05T21:57:27.081248",
     "exception": false,
     "start_time": "2022-02-05T21:57:26.920389",
     "status": "completed"
    },
    "tags": []
   },
   "outputs": [],
   "source": [
    "from torchsummary import summary\n",
    "#summary(model,input_size=(3,260,260))"
   ]
  },
  {
   "cell_type": "code",
   "execution_count": 66,
   "id": "b942aac9",
   "metadata": {
    "execution": {
     "iopub.execute_input": "2022-02-05T21:57:27.501086Z",
     "iopub.status.busy": "2022-02-05T21:57:27.498844Z",
     "iopub.status.idle": "2022-02-05T23:44:34.994367Z",
     "shell.execute_reply": "2022-02-05T23:44:34.993763Z"
    },
    "papermill": {
     "duration": 6427.714775,
     "end_time": "2022-02-05T23:44:34.994568",
     "exception": false,
     "start_time": "2022-02-05T21:57:27.279793",
     "status": "completed"
    },
    "tags": []
   },
   "outputs": [
    {
     "name": "stderr",
     "output_type": "stream",
     "text": [
      "/opt/conda/lib/python3.7/site-packages/sklearn/metrics/_classification.py:1814: UserWarning: y_pred contains classes not in y_true\n",
      "  warnings.warn('y_pred contains classes not in y_true')\n"
     ]
    },
    {
     "name": "stdout",
     "output_type": "stream",
     "text": [
      "Epoch [0], train_loss: 0.4604,train_acc: 0.8519,train_bal_acc: 0.8624,train_f1: 0.8384\n",
      "Epoch [1], train_loss: 0.4362,train_acc: 0.8561,train_bal_acc: 0.8669,train_f1: 0.8432\n",
      "Epoch [2], train_loss: 0.3838,train_acc: 0.8727,train_bal_acc: 0.8841,train_f1: 0.8610\n",
      "Epoch [3], train_loss: 0.4009,train_acc: 0.8676,train_bal_acc: 0.8794,train_f1: 0.8561\n",
      "Epoch     4: reducing learning rate of group 0 to 2.0000e-05.\n",
      "Epoch [4], train_loss: 0.3377,train_acc: 0.8872,train_bal_acc: 0.8967,train_f1: 0.8755\n"
     ]
    },
    {
     "data": {
      "text/plain": [
       "'india'"
      ]
     },
     "execution_count": 66,
     "metadata": {},
     "output_type": "execute_result"
    }
   ],
   "source": [
    "fit(model,train_dl,opt,2*10e-5,5)  "
   ]
  },
  {
   "cell_type": "code",
   "execution_count": 67,
   "id": "e0c09061",
   "metadata": {
    "execution": {
     "iopub.execute_input": "2022-02-05T23:44:35.223533Z",
     "iopub.status.busy": "2022-02-05T23:44:35.222497Z",
     "iopub.status.idle": "2022-02-05T23:44:35.477754Z",
     "shell.execute_reply": "2022-02-05T23:44:35.477100Z"
    },
    "papermill": {
     "duration": 0.370831,
     "end_time": "2022-02-05T23:44:35.477914",
     "exception": false,
     "start_time": "2022-02-05T23:44:35.107083",
     "status": "completed"
    },
    "tags": []
   },
   "outputs": [],
   "source": [
    "torch.save(model.state_dict(), 'res_cust_3.pth')\n",
    "torch.save(model, 'res_cust_whole3.pkl')"
   ]
  },
  {
   "cell_type": "code",
   "execution_count": 68,
   "id": "95d78c72",
   "metadata": {
    "execution": {
     "iopub.execute_input": "2022-02-05T23:44:35.710842Z",
     "iopub.status.busy": "2022-02-05T23:44:35.709746Z",
     "iopub.status.idle": "2022-02-06T01:25:41.665651Z",
     "shell.execute_reply": "2022-02-06T01:25:41.664608Z"
    },
    "papermill": {
     "duration": 6066.075566,
     "end_time": "2022-02-06T01:25:41.665994",
     "exception": false,
     "start_time": "2022-02-05T23:44:35.590428",
     "status": "completed"
    },
    "tags": []
   },
   "outputs": [
    {
     "name": "stdout",
     "output_type": "stream",
     "text": [
      "Epoch [0], train_loss: 0.3067,train_acc: 0.8984,train_bal_acc: 0.9069,train_f1: 0.8874\n",
      "Epoch [1], train_loss: 0.2897,train_acc: 0.9035,train_bal_acc: 0.9143,train_f1: 0.8944\n",
      "Epoch [2], train_loss: 0.2767,train_acc: 0.9094,train_bal_acc: 0.9188,train_f1: 0.8999\n",
      "Epoch [3], train_loss: 0.2610,train_acc: 0.9152,train_bal_acc: 0.9254,train_f1: 0.9073\n",
      "Epoch [4], train_loss: 0.2435,train_acc: 0.9204,train_bal_acc: 0.9277,train_f1: 0.9104\n"
     ]
    },
    {
     "data": {
      "text/plain": [
       "'india'"
      ]
     },
     "execution_count": 68,
     "metadata": {},
     "output_type": "execute_result"
    }
   ],
   "source": [
    "fit(model,train_dl,opt,2*10e-6,5)"
   ]
  },
  {
   "cell_type": "code",
   "execution_count": 69,
   "id": "b9739caf",
   "metadata": {
    "execution": {
     "iopub.execute_input": "2022-02-06T01:25:42.079019Z",
     "iopub.status.busy": "2022-02-06T01:25:42.077706Z",
     "iopub.status.idle": "2022-02-06T01:25:42.366299Z",
     "shell.execute_reply": "2022-02-06T01:25:42.367118Z"
    },
    "papermill": {
     "duration": 0.424935,
     "end_time": "2022-02-06T01:25:42.367354",
     "exception": false,
     "start_time": "2022-02-06T01:25:41.942419",
     "status": "completed"
    },
    "tags": []
   },
   "outputs": [],
   "source": [
    "torch.save(model.state_dict(), 'res_cust_4.pth')\n",
    "torch.save(model, 'res_cust_whole4.pkl')"
   ]
  },
  {
   "cell_type": "code",
   "execution_count": null,
   "id": "9872e60d",
   "metadata": {
    "execution": {
     "iopub.execute_input": "2022-01-29T15:53:43.578405Z",
     "iopub.status.busy": "2022-01-29T15:53:43.577744Z"
    },
    "papermill": {
     "duration": 0.127242,
     "end_time": "2022-02-06T01:25:42.622011",
     "exception": false,
     "start_time": "2022-02-06T01:25:42.494769",
     "status": "completed"
    },
    "tags": []
   },
   "outputs": [],
   "source": []
  },
  {
   "cell_type": "code",
   "execution_count": null,
   "id": "f4535a5e",
   "metadata": {
    "papermill": {
     "duration": 0.129096,
     "end_time": "2022-02-06T01:25:42.878375",
     "exception": false,
     "start_time": "2022-02-06T01:25:42.749279",
     "status": "completed"
    },
    "tags": []
   },
   "outputs": [],
   "source": []
  },
  {
   "cell_type": "code",
   "execution_count": 70,
   "id": "664b2174",
   "metadata": {
    "execution": {
     "iopub.execute_input": "2022-02-06T01:25:43.144764Z",
     "iopub.status.busy": "2022-02-06T01:25:43.142113Z",
     "iopub.status.idle": "2022-02-06T01:25:43.145724Z",
     "shell.execute_reply": "2022-02-06T01:25:43.146351Z",
     "shell.execute_reply.started": "2022-02-05T19:47:35.842864Z"
    },
    "papermill": {
     "duration": 0.139751,
     "end_time": "2022-02-06T01:25:43.146578",
     "exception": false,
     "start_time": "2022-02-06T01:25:43.006827",
     "status": "completed"
    },
    "tags": []
   },
   "outputs": [],
   "source": [
    "import glob"
   ]
  },
  {
   "cell_type": "code",
   "execution_count": 71,
   "id": "9f71d052",
   "metadata": {
    "execution": {
     "iopub.execute_input": "2022-02-06T01:25:43.409865Z",
     "iopub.status.busy": "2022-02-06T01:25:43.408884Z",
     "iopub.status.idle": "2022-02-06T01:25:43.841165Z",
     "shell.execute_reply": "2022-02-06T01:25:43.840441Z",
     "shell.execute_reply.started": "2022-02-05T19:47:36.063687Z"
    },
    "papermill": {
     "duration": 0.566419,
     "end_time": "2022-02-06T01:25:43.841366",
     "exception": false,
     "start_time": "2022-02-06T01:25:43.274947",
     "status": "completed"
    },
    "tags": []
   },
   "outputs": [],
   "source": [
    "from os import listdir\n",
    "onlyfiles = [f for f in listdir('../input/stylumia-complete/test')]"
   ]
  },
  {
   "cell_type": "code",
   "execution_count": 72,
   "id": "4c3fff9c",
   "metadata": {
    "execution": {
     "iopub.execute_input": "2022-02-06T01:25:44.104229Z",
     "iopub.status.busy": "2022-02-06T01:25:44.101973Z",
     "iopub.status.idle": "2022-02-06T01:25:44.104991Z",
     "shell.execute_reply": "2022-02-06T01:25:44.105563Z",
     "shell.execute_reply.started": "2022-02-05T19:47:36.579490Z"
    },
    "papermill": {
     "duration": 0.133643,
     "end_time": "2022-02-06T01:25:44.105738",
     "exception": false,
     "start_time": "2022-02-06T01:25:43.972095",
     "status": "completed"
    },
    "tags": []
   },
   "outputs": [],
   "source": [
    "#onlyfiles"
   ]
  },
  {
   "cell_type": "code",
   "execution_count": 73,
   "id": "9ff25c6c",
   "metadata": {
    "execution": {
     "iopub.execute_input": "2022-02-06T01:25:44.334957Z",
     "iopub.status.busy": "2022-02-06T01:25:44.333960Z",
     "iopub.status.idle": "2022-02-06T01:25:44.411676Z",
     "shell.execute_reply": "2022-02-06T01:25:44.411090Z",
     "shell.execute_reply.started": "2022-02-05T19:47:36.588174Z"
    },
    "papermill": {
     "duration": 0.194984,
     "end_time": "2022-02-06T01:25:44.411814",
     "exception": false,
     "start_time": "2022-02-06T01:25:44.216830",
     "status": "completed"
    },
    "tags": []
   },
   "outputs": [],
   "source": [
    "file_name=[]\n",
    "for name in glob.glob('../input/stylumia-complete/test/*'):\n",
    "    file_name1=name.split('/')\n",
    "    #print(file_name1[-1])\n",
    "    file_name.append(file_name1[-1])"
   ]
  },
  {
   "cell_type": "code",
   "execution_count": 74,
   "id": "148bf89b",
   "metadata": {
    "execution": {
     "iopub.execute_input": "2022-02-06T01:25:44.639514Z",
     "iopub.status.busy": "2022-02-06T01:25:44.638404Z",
     "iopub.status.idle": "2022-02-06T01:25:44.641098Z",
     "shell.execute_reply": "2022-02-06T01:25:44.641640Z",
     "shell.execute_reply.started": "2022-02-05T19:47:36.676105Z"
    },
    "papermill": {
     "duration": 0.118683,
     "end_time": "2022-02-06T01:25:44.641794",
     "exception": false,
     "start_time": "2022-02-06T01:25:44.523111",
     "status": "completed"
    },
    "tags": []
   },
   "outputs": [],
   "source": [
    "test_df=pd.DataFrame()"
   ]
  },
  {
   "cell_type": "code",
   "execution_count": 75,
   "id": "a31478f6",
   "metadata": {
    "execution": {
     "iopub.execute_input": "2022-02-06T01:25:44.874122Z",
     "iopub.status.busy": "2022-02-06T01:25:44.873219Z",
     "iopub.status.idle": "2022-02-06T01:25:44.877544Z",
     "shell.execute_reply": "2022-02-06T01:25:44.876929Z",
     "shell.execute_reply.started": "2022-02-05T19:47:36.939112Z"
    },
    "papermill": {
     "duration": 0.125187,
     "end_time": "2022-02-06T01:25:44.877700",
     "exception": false,
     "start_time": "2022-02-06T01:25:44.752513",
     "status": "completed"
    },
    "tags": []
   },
   "outputs": [],
   "source": [
    "test_df['file_name']=pd.Series(file_name)"
   ]
  },
  {
   "cell_type": "code",
   "execution_count": 76,
   "id": "500710b0",
   "metadata": {
    "execution": {
     "iopub.execute_input": "2022-02-06T01:25:45.109526Z",
     "iopub.status.busy": "2022-02-06T01:25:45.108604Z",
     "iopub.status.idle": "2022-02-06T01:25:45.112240Z",
     "shell.execute_reply": "2022-02-06T01:25:45.112827Z",
     "shell.execute_reply.started": "2022-02-05T19:47:38.406445Z"
    },
    "papermill": {
     "duration": 0.124676,
     "end_time": "2022-02-06T01:25:45.112980",
     "exception": false,
     "start_time": "2022-02-06T01:25:44.988304",
     "status": "completed"
    },
    "tags": []
   },
   "outputs": [
    {
     "data": {
      "text/html": [
       "<div>\n",
       "<style scoped>\n",
       "    .dataframe tbody tr th:only-of-type {\n",
       "        vertical-align: middle;\n",
       "    }\n",
       "\n",
       "    .dataframe tbody tr th {\n",
       "        vertical-align: top;\n",
       "    }\n",
       "\n",
       "    .dataframe thead th {\n",
       "        text-align: right;\n",
       "    }\n",
       "</style>\n",
       "<table border=\"1\" class=\"dataframe\">\n",
       "  <thead>\n",
       "    <tr style=\"text-align: right;\">\n",
       "      <th></th>\n",
       "      <th>file_name</th>\n",
       "    </tr>\n",
       "  </thead>\n",
       "  <tbody>\n",
       "    <tr>\n",
       "      <th>0</th>\n",
       "      <td>Image_test_015339.jpg</td>\n",
       "    </tr>\n",
       "    <tr>\n",
       "      <th>1</th>\n",
       "      <td>Image_test_015427.jpg</td>\n",
       "    </tr>\n",
       "    <tr>\n",
       "      <th>2</th>\n",
       "      <td>Image_test_006765.jpg</td>\n",
       "    </tr>\n",
       "    <tr>\n",
       "      <th>3</th>\n",
       "      <td>Image_test_009681.jpg</td>\n",
       "    </tr>\n",
       "    <tr>\n",
       "      <th>4</th>\n",
       "      <td>Image_test_002734.jpg</td>\n",
       "    </tr>\n",
       "    <tr>\n",
       "      <th>...</th>\n",
       "      <td>...</td>\n",
       "    </tr>\n",
       "    <tr>\n",
       "      <th>18218</th>\n",
       "      <td>Image_test_017934.jpg</td>\n",
       "    </tr>\n",
       "    <tr>\n",
       "      <th>18219</th>\n",
       "      <td>Image_test_008324.jpg</td>\n",
       "    </tr>\n",
       "    <tr>\n",
       "      <th>18220</th>\n",
       "      <td>Image_test_010326.jpg</td>\n",
       "    </tr>\n",
       "    <tr>\n",
       "      <th>18221</th>\n",
       "      <td>Image_test_001255.jpg</td>\n",
       "    </tr>\n",
       "    <tr>\n",
       "      <th>18222</th>\n",
       "      <td>Image_test_006906.jpg</td>\n",
       "    </tr>\n",
       "  </tbody>\n",
       "</table>\n",
       "<p>18223 rows × 1 columns</p>\n",
       "</div>"
      ],
      "text/plain": [
       "                   file_name\n",
       "0      Image_test_015339.jpg\n",
       "1      Image_test_015427.jpg\n",
       "2      Image_test_006765.jpg\n",
       "3      Image_test_009681.jpg\n",
       "4      Image_test_002734.jpg\n",
       "...                      ...\n",
       "18218  Image_test_017934.jpg\n",
       "18219  Image_test_008324.jpg\n",
       "18220  Image_test_010326.jpg\n",
       "18221  Image_test_001255.jpg\n",
       "18222  Image_test_006906.jpg\n",
       "\n",
       "[18223 rows x 1 columns]"
      ]
     },
     "execution_count": 76,
     "metadata": {},
     "output_type": "execute_result"
    }
   ],
   "source": [
    "test_df"
   ]
  },
  {
   "cell_type": "code",
   "execution_count": 77,
   "id": "dc468a95",
   "metadata": {
    "execution": {
     "iopub.execute_input": "2022-02-06T01:25:45.338533Z",
     "iopub.status.busy": "2022-02-06T01:25:45.337384Z",
     "iopub.status.idle": "2022-02-06T01:25:45.341004Z",
     "shell.execute_reply": "2022-02-06T01:25:45.340359Z",
     "shell.execute_reply.started": "2022-02-05T19:47:38.666622Z"
    },
    "papermill": {
     "duration": 0.117596,
     "end_time": "2022-02-06T01:25:45.341136",
     "exception": false,
     "start_time": "2022-02-06T01:25:45.223540",
     "status": "completed"
    },
    "tags": []
   },
   "outputs": [],
   "source": [
    "data_folder=\"../input/stylumia-complete/\""
   ]
  },
  {
   "cell_type": "code",
   "execution_count": 78,
   "id": "5ac3d5fa",
   "metadata": {
    "execution": {
     "iopub.execute_input": "2022-02-06T01:25:45.575231Z",
     "iopub.status.busy": "2022-02-06T01:25:45.573054Z",
     "iopub.status.idle": "2022-02-06T01:25:45.576024Z",
     "shell.execute_reply": "2022-02-06T01:25:45.576629Z",
     "shell.execute_reply.started": "2022-02-05T19:47:39.485650Z"
    },
    "papermill": {
     "duration": 0.124988,
     "end_time": "2022-02-06T01:25:45.576806",
     "exception": false,
     "start_time": "2022-02-06T01:25:45.451818",
     "status": "completed"
    },
    "tags": []
   },
   "outputs": [],
   "source": [
    "class CustomDataset_test(torch.utils.data.Dataset):\n",
    "    def __init__(self, df, images_folder,mode,stats,transform = ToTensor()):\n",
    "        self.df = df\n",
    "        self.mode=mode\n",
    "        self.images_folder = os.path.join(images_folder+'test')\n",
    "       \n",
    "        self.transform1=Resize((260,260))\n",
    "        self.train_tfms=tt.Compose([tt.RandomCrop(112,padding=4,padding_mode='reflect'),\n",
    "                      tt.RandomHorizontalFlip(),\n",
    "                      tt.ToTensor(),\n",
    "                      tt.Normalize(*stats,inplace=True)])\n",
    "        self.valid_tfms=tt.Compose([tt.ToTensor(),tt.Normalize(*stats,inplace=True)])\n",
    "\n",
    "    def __len__(self):\n",
    "        return len(self.df)\n",
    "    def __getitem__(self, index):\n",
    "        filename = self.df.loc[index, \"file_name\"]\n",
    "        #print(os.path.join(self.images_folder,filename))\n",
    "        image = PIL.Image.open(os.path.join(self.images_folder,filename))\n",
    "        if self.mode=='train':\n",
    "            image=self.transform1(image)\n",
    "            image=self.train_tfms(image)\n",
    "        else:\n",
    "            image=self.transform1(image)\n",
    "            image=self.valid_tfms(image)\n",
    "        return image,filename"
   ]
  },
  {
   "cell_type": "code",
   "execution_count": 79,
   "id": "b28c85e5",
   "metadata": {
    "execution": {
     "iopub.execute_input": "2022-02-06T01:25:45.809487Z",
     "iopub.status.busy": "2022-02-06T01:25:45.807111Z",
     "iopub.status.idle": "2022-02-06T01:25:45.810347Z",
     "shell.execute_reply": "2022-02-06T01:25:45.810932Z",
     "shell.execute_reply.started": "2022-02-05T19:47:40.169922Z"
    },
    "papermill": {
     "duration": 0.124474,
     "end_time": "2022-02-06T01:25:45.811104",
     "exception": false,
     "start_time": "2022-02-06T01:25:45.686630",
     "status": "completed"
    },
    "tags": []
   },
   "outputs": [],
   "source": [
    "dataset_test=CustomDataset_test(test_df,data_folder,\"test\",stats)"
   ]
  },
  {
   "cell_type": "code",
   "execution_count": 80,
   "id": "220b4ecb",
   "metadata": {
    "execution": {
     "iopub.execute_input": "2022-02-06T01:25:46.039213Z",
     "iopub.status.busy": "2022-02-06T01:25:46.038120Z",
     "iopub.status.idle": "2022-02-06T01:25:46.041616Z",
     "shell.execute_reply": "2022-02-06T01:25:46.041040Z",
     "shell.execute_reply.started": "2022-02-05T19:47:40.781985Z"
    },
    "papermill": {
     "duration": 0.119169,
     "end_time": "2022-02-06T01:25:46.041761",
     "exception": false,
     "start_time": "2022-02-06T01:25:45.922592",
     "status": "completed"
    },
    "tags": []
   },
   "outputs": [],
   "source": [
    "test_dl = DataLoader(dataset=dataset_test, shuffle=True, batch_size=64)"
   ]
  },
  {
   "cell_type": "code",
   "execution_count": 81,
   "id": "31098b30",
   "metadata": {
    "execution": {
     "iopub.execute_input": "2022-02-06T01:25:46.268804Z",
     "iopub.status.busy": "2022-02-06T01:25:46.268142Z",
     "iopub.status.idle": "2022-02-06T01:25:49.765808Z",
     "shell.execute_reply": "2022-02-06T01:25:49.765059Z",
     "shell.execute_reply.started": "2022-02-05T19:47:41.537510Z"
    },
    "papermill": {
     "duration": 3.614129,
     "end_time": "2022-02-06T01:25:49.765978",
     "exception": false,
     "start_time": "2022-02-06T01:25:46.151849",
     "status": "completed"
    },
    "tags": []
   },
   "outputs": [],
   "source": [
    "for i in test_dl:\n",
    "    #print(i)\n",
    "    break"
   ]
  },
  {
   "cell_type": "code",
   "execution_count": 82,
   "id": "ce63ed5c",
   "metadata": {
    "execution": {
     "iopub.execute_input": "2022-02-06T01:25:50.003456Z",
     "iopub.status.busy": "2022-02-06T01:25:50.002315Z",
     "iopub.status.idle": "2022-02-06T01:25:50.005167Z",
     "shell.execute_reply": "2022-02-06T01:25:50.006270Z",
     "shell.execute_reply.started": "2022-02-05T19:47:44.928066Z"
    },
    "papermill": {
     "duration": 0.126356,
     "end_time": "2022-02-06T01:25:50.006444",
     "exception": false,
     "start_time": "2022-02-06T01:25:49.880088",
     "status": "completed"
    },
    "tags": []
   },
   "outputs": [],
   "source": [
    "def get_default_device():\n",
    "    \"\"\"Pick GPU if available, else CPU\"\"\"\n",
    "    if torch.cuda.is_available():\n",
    "        return torch.device('cuda')\n",
    "    else:\n",
    "        return torch.device('cpu')\n",
    "    \n",
    "def to_device(data, device):\n",
    "    \"\"\"Move tensor(s) to chosen device\"\"\"\n",
    "    if isinstance(data, (list,tuple)):\n",
    "        return [to_device(x, device) for x in data]\n",
    "    return data.to(device, non_blocking=True)\n",
    "\n",
    "class DeviceDataLoader():\n",
    "    \"\"\"Wrap a dataloader to move data to a device\"\"\"\n",
    "    def __init__(self, dl, device):\n",
    "        self.dl = dl\n",
    "        self.device = device\n",
    "        \n",
    "    def __iter__(self):\n",
    "        \"\"\"Yield a batch of data after moving it to device\"\"\"\n",
    "        for b in self.dl: \n",
    "            yield to_device(b, self.device)\n",
    "\n",
    "    def __len__(self):\n",
    "        \"\"\"Number of batches\"\"\"\n",
    "        return len(self.dl)"
   ]
  },
  {
   "cell_type": "code",
   "execution_count": 83,
   "id": "bb9e63ba",
   "metadata": {
    "execution": {
     "iopub.execute_input": "2022-02-06T01:25:50.234579Z",
     "iopub.status.busy": "2022-02-06T01:25:50.233244Z",
     "iopub.status.idle": "2022-02-06T01:25:50.237352Z",
     "shell.execute_reply": "2022-02-06T01:25:50.237943Z",
     "shell.execute_reply.started": "2022-02-05T19:47:44.936819Z"
    },
    "papermill": {
     "duration": 0.12011,
     "end_time": "2022-02-06T01:25:50.238076",
     "exception": false,
     "start_time": "2022-02-06T01:25:50.117966",
     "status": "completed"
    },
    "tags": []
   },
   "outputs": [
    {
     "data": {
      "text/plain": [
       "device(type='cuda')"
      ]
     },
     "execution_count": 83,
     "metadata": {},
     "output_type": "execute_result"
    }
   ],
   "source": [
    "device = get_default_device()\n",
    "device"
   ]
  },
  {
   "cell_type": "code",
   "execution_count": 84,
   "id": "c8a14767",
   "metadata": {
    "execution": {
     "iopub.execute_input": "2022-02-06T01:25:50.468573Z",
     "iopub.status.busy": "2022-02-06T01:25:50.467562Z",
     "iopub.status.idle": "2022-02-06T01:25:53.674815Z",
     "shell.execute_reply": "2022-02-06T01:25:53.674197Z",
     "shell.execute_reply.started": "2022-02-05T19:47:45.889336Z"
    },
    "papermill": {
     "duration": 3.32453,
     "end_time": "2022-02-06T01:25:53.674987",
     "exception": false,
     "start_time": "2022-02-06T01:25:50.350457",
     "status": "completed"
    },
    "tags": []
   },
   "outputs": [
    {
     "name": "stdout",
     "output_type": "stream",
     "text": [
      "[tensor([[[[ 0.7083,  0.7083,  0.7083,  ...,  0.6651,  0.6651,  0.6651],\n",
      "          [ 0.7083,  0.7083,  0.7083,  ...,  0.6651,  0.6651,  0.6651],\n",
      "          [ 0.7083,  0.7083,  0.7083,  ...,  0.6651,  0.6651,  0.6651],\n",
      "          ...,\n",
      "          [ 0.6651,  0.6651,  0.6651,  ...,  0.2183,  0.2183,  0.2183],\n",
      "          [ 0.6651,  0.6651,  0.6651,  ...,  0.2183,  0.2183,  0.2183],\n",
      "          [ 0.6651,  0.6651,  0.6651,  ...,  0.2183,  0.2183,  0.2183]],\n",
      "\n",
      "         [[ 0.7788,  0.7788,  0.7788,  ...,  0.7253,  0.7253,  0.7253],\n",
      "          [ 0.7788,  0.7788,  0.7788,  ...,  0.7253,  0.7253,  0.7253],\n",
      "          [ 0.7788,  0.7788,  0.7788,  ...,  0.7253,  0.7253,  0.7253],\n",
      "          ...,\n",
      "          [ 0.7386,  0.7386,  0.7386,  ...,  0.2839,  0.2839,  0.2839],\n",
      "          [ 0.7386,  0.7386,  0.7386,  ...,  0.2839,  0.2839,  0.2839],\n",
      "          [ 0.7386,  0.7386,  0.7386,  ...,  0.2839,  0.2839,  0.2839]],\n",
      "\n",
      "         [[ 0.7709,  0.7709,  0.7709,  ...,  0.7182,  0.7182,  0.7182],\n",
      "          [ 0.7709,  0.7709,  0.7709,  ...,  0.7182,  0.7182,  0.7182],\n",
      "          [ 0.7709,  0.7709,  0.7709,  ...,  0.7182,  0.7182,  0.7182],\n",
      "          ...,\n",
      "          [ 0.7314,  0.7314,  0.7314,  ...,  0.2446,  0.2446,  0.2446],\n",
      "          [ 0.7314,  0.7314,  0.7314,  ...,  0.2446,  0.2446,  0.2446],\n",
      "          [ 0.7314,  0.7314,  0.7314,  ...,  0.2446,  0.2446,  0.2446]]],\n",
      "\n",
      "\n",
      "        [[[ 0.5354,  0.5354,  0.5354,  ...,  0.5354,  0.5354,  0.5354],\n",
      "          [ 0.5354,  0.5354,  0.5354,  ...,  0.5354,  0.5354,  0.5354],\n",
      "          [ 0.5354,  0.5354,  0.5354,  ...,  0.5354,  0.5354,  0.5354],\n",
      "          ...,\n",
      "          [ 0.5354,  0.5354,  0.5354,  ...,  0.5354,  0.5354,  0.5354],\n",
      "          [ 0.5354,  0.5354,  0.5354,  ...,  0.5354,  0.5354,  0.5354],\n",
      "          [ 0.5354,  0.5354,  0.5354,  ...,  0.5354,  0.5354,  0.5354]],\n",
      "\n",
      "         [[ 0.6183,  0.6183,  0.6183,  ...,  0.6183,  0.6183,  0.6183],\n",
      "          [ 0.6183,  0.6183,  0.6183,  ...,  0.6183,  0.6183,  0.6183],\n",
      "          [ 0.6183,  0.6183,  0.6183,  ...,  0.6183,  0.6183,  0.6183],\n",
      "          ...,\n",
      "          [ 0.6183,  0.6183,  0.6183,  ...,  0.6183,  0.6183,  0.6183],\n",
      "          [ 0.6183,  0.6183,  0.6183,  ...,  0.6183,  0.6183,  0.6183],\n",
      "          [ 0.6183,  0.6183,  0.6183,  ...,  0.6183,  0.6183,  0.6183]],\n",
      "\n",
      "         [[ 0.6393,  0.6393,  0.6393,  ...,  0.6393,  0.6393,  0.6393],\n",
      "          [ 0.6393,  0.6393,  0.6393,  ...,  0.6393,  0.6393,  0.6393],\n",
      "          [ 0.6393,  0.6393,  0.6393,  ...,  0.6393,  0.6393,  0.6393],\n",
      "          ...,\n",
      "          [ 0.6393,  0.6393,  0.6393,  ...,  0.6393,  0.6393,  0.6393],\n",
      "          [ 0.6393,  0.6393,  0.6393,  ...,  0.6393,  0.6393,  0.6393],\n",
      "          [ 0.6393,  0.6393,  0.6393,  ...,  0.6393,  0.6393,  0.6393]]],\n",
      "\n",
      "\n",
      "        [[[-2.2174, -2.2174, -2.2174,  ..., -2.0444, -2.0588, -2.0588],\n",
      "          [-2.2174, -2.2174, -2.2174,  ..., -2.0444, -2.0588, -2.0588],\n",
      "          [-2.2174, -2.2174, -2.2174,  ..., -2.0444, -2.0588, -2.0588],\n",
      "          ...,\n",
      "          [-2.6930, -2.6930, -2.6930,  ..., -2.5056, -2.5056, -2.5056],\n",
      "          [-2.6930, -2.6930, -2.6930,  ..., -2.5056, -2.5056, -2.5056],\n",
      "          [-2.6930, -2.6930, -2.6930,  ..., -2.5200, -2.5200, -2.5056]],\n",
      "\n",
      "         [[-1.8294, -1.8294, -1.8294,  ..., -1.6020, -1.6154, -1.6154],\n",
      "          [-1.8294, -1.8294, -1.8294,  ..., -1.6020, -1.6154, -1.6154],\n",
      "          [-1.8294, -1.8294, -1.8294,  ..., -1.6020, -1.6154, -1.6154],\n",
      "          ...,\n",
      "          [-2.2440, -2.2440, -2.2440,  ..., -1.9631, -1.9631, -1.9631],\n",
      "          [-2.2440, -2.2440, -2.2440,  ..., -1.9631, -1.9631, -1.9631],\n",
      "          [-2.2440, -2.2440, -2.2440,  ..., -1.9765, -1.9765, -1.9631]],\n",
      "\n",
      "         [[-1.4918, -1.4787, -1.4655,  ..., -1.1235, -1.1366, -1.1366],\n",
      "          [-1.4918, -1.4787, -1.4655,  ..., -1.1235, -1.1366, -1.1366],\n",
      "          [-1.4918, -1.4787, -1.4655,  ..., -1.1235, -1.1366, -1.1366],\n",
      "          ...,\n",
      "          [-1.8207, -1.8207, -1.8207,  ..., -1.4261, -1.4261, -1.4261],\n",
      "          [-1.8339, -1.8339, -1.8339,  ..., -1.4261, -1.4261, -1.4261],\n",
      "          [-1.8470, -1.8470, -1.8470,  ..., -1.4392, -1.4392, -1.4261]]],\n",
      "\n",
      "\n",
      "        ...,\n",
      "\n",
      "\n",
      "        [[[ 0.7516,  0.7516,  0.7516,  ...,  0.7516,  0.7516,  0.7516],\n",
      "          [ 0.7516,  0.7516,  0.7516,  ...,  0.7516,  0.7516,  0.7516],\n",
      "          [ 0.7516,  0.7516,  0.7516,  ...,  0.7516,  0.7516,  0.7516],\n",
      "          ...,\n",
      "          [ 0.7516,  0.7516,  0.7516,  ...,  0.7516,  0.7516,  0.7516],\n",
      "          [ 0.7516,  0.7516,  0.7516,  ...,  0.7516,  0.7516,  0.7516],\n",
      "          [ 0.7516,  0.7516,  0.7516,  ...,  0.7516,  0.7516,  0.7516]],\n",
      "\n",
      "         [[ 0.8189,  0.8189,  0.8189,  ...,  0.8189,  0.8189,  0.8189],\n",
      "          [ 0.8189,  0.8189,  0.8189,  ...,  0.8189,  0.8189,  0.8189],\n",
      "          [ 0.8189,  0.8189,  0.8189,  ...,  0.8189,  0.8189,  0.8189],\n",
      "          ...,\n",
      "          [ 0.8189,  0.8189,  0.8189,  ...,  0.8189,  0.8189,  0.8189],\n",
      "          [ 0.8189,  0.8189,  0.8189,  ...,  0.8189,  0.8189,  0.8189],\n",
      "          [ 0.8189,  0.8189,  0.8189,  ...,  0.8189,  0.8189,  0.8189]],\n",
      "\n",
      "         [[ 0.8366,  0.8366,  0.8366,  ...,  0.8366,  0.8366,  0.8366],\n",
      "          [ 0.8366,  0.8366,  0.8366,  ...,  0.8366,  0.8366,  0.8366],\n",
      "          [ 0.8366,  0.8366,  0.8366,  ...,  0.8366,  0.8366,  0.8366],\n",
      "          ...,\n",
      "          [ 0.8366,  0.8366,  0.8366,  ...,  0.8366,  0.8366,  0.8366],\n",
      "          [ 0.8366,  0.8366,  0.8366,  ...,  0.8366,  0.8366,  0.8366],\n",
      "          [ 0.8366,  0.8366,  0.8366,  ...,  0.8366,  0.8366,  0.8366]]],\n",
      "\n",
      "\n",
      "        [[[ 0.7516,  0.7516,  0.7516,  ...,  0.7516,  0.7516,  0.7516],\n",
      "          [ 0.7516,  0.7516,  0.7516,  ...,  0.7516,  0.7516,  0.7516],\n",
      "          [ 0.7516,  0.7516,  0.7516,  ...,  0.7516,  0.7516,  0.7516],\n",
      "          ...,\n",
      "          [ 0.7516,  0.7516,  0.7516,  ...,  0.7516,  0.7516,  0.7516],\n",
      "          [ 0.7516,  0.7516,  0.7516,  ...,  0.7516,  0.7516,  0.7516],\n",
      "          [ 0.7516,  0.7516,  0.7516,  ...,  0.7516,  0.7516,  0.7516]],\n",
      "\n",
      "         [[ 0.8189,  0.8189,  0.8189,  ...,  0.8189,  0.8189,  0.8189],\n",
      "          [ 0.8189,  0.8189,  0.8189,  ...,  0.8189,  0.8189,  0.8189],\n",
      "          [ 0.8189,  0.8189,  0.8189,  ...,  0.8189,  0.8189,  0.8189],\n",
      "          ...,\n",
      "          [ 0.8189,  0.8189,  0.8189,  ...,  0.8189,  0.8189,  0.8189],\n",
      "          [ 0.8189,  0.8189,  0.8189,  ...,  0.8189,  0.8189,  0.8189],\n",
      "          [ 0.8189,  0.8189,  0.8189,  ...,  0.8189,  0.8189,  0.8189]],\n",
      "\n",
      "         [[ 0.8366,  0.8366,  0.8366,  ...,  0.8366,  0.8366,  0.8366],\n",
      "          [ 0.8366,  0.8366,  0.8366,  ...,  0.8366,  0.8366,  0.8366],\n",
      "          [ 0.8366,  0.8366,  0.8366,  ...,  0.8366,  0.8366,  0.8366],\n",
      "          ...,\n",
      "          [ 0.8366,  0.8366,  0.8366,  ...,  0.8366,  0.8366,  0.8366],\n",
      "          [ 0.8366,  0.8366,  0.8366,  ...,  0.8366,  0.8366,  0.8366],\n",
      "          [ 0.8366,  0.8366,  0.8366,  ...,  0.8366,  0.8366,  0.8366]]],\n",
      "\n",
      "\n",
      "        [[[ 0.3480,  0.3624,  0.3480,  ...,  0.3624,  0.3624,  0.3624],\n",
      "          [ 0.3480,  0.3480,  0.3480,  ...,  0.3624,  0.3624,  0.3624],\n",
      "          [ 0.3480,  0.3480,  0.3624,  ...,  0.3768,  0.3624,  0.3624],\n",
      "          ...,\n",
      "          [ 0.4633,  0.4489,  0.4633,  ...,  0.4777,  0.4777,  0.4777],\n",
      "          [ 0.4633,  0.4633,  0.4489,  ...,  0.4633,  0.4777,  0.4777],\n",
      "          [ 0.4489,  0.4489,  0.4489,  ...,  0.4777,  0.4777,  0.4633]],\n",
      "\n",
      "         [[ 0.4444,  0.4578,  0.4444,  ...,  0.4578,  0.4578,  0.4578],\n",
      "          [ 0.4444,  0.4444,  0.4444,  ...,  0.4578,  0.4578,  0.4578],\n",
      "          [ 0.4444,  0.4444,  0.4578,  ...,  0.4711,  0.4578,  0.4578],\n",
      "          ...,\n",
      "          [ 0.5514,  0.5380,  0.5514,  ...,  0.5648,  0.5648,  0.5648],\n",
      "          [ 0.5514,  0.5514,  0.5380,  ...,  0.5514,  0.5648,  0.5648],\n",
      "          [ 0.5380,  0.5380,  0.5380,  ...,  0.5648,  0.5648,  0.5514]],\n",
      "\n",
      "         [[ 0.4420,  0.4551,  0.4420,  ...,  0.4814,  0.4814,  0.4814],\n",
      "          [ 0.4420,  0.4420,  0.4420,  ...,  0.4814,  0.4814,  0.4814],\n",
      "          [ 0.4420,  0.4420,  0.4551,  ...,  0.4946,  0.4814,  0.4814],\n",
      "          ...,\n",
      "          [ 0.5735,  0.5604,  0.5735,  ...,  0.5867,  0.5867,  0.5867],\n",
      "          [ 0.5735,  0.5735,  0.5604,  ...,  0.5735,  0.5867,  0.5867],\n",
      "          [ 0.5604,  0.5604,  0.5604,  ...,  0.5867,  0.5867,  0.5735]]]]), ('Image_test_016803.jpg', 'Image_test_008139.jpg', 'Image_test_006267.jpg', 'Image_test_008177.jpg', 'Image_test_001836.jpg', 'Image_test_013019.jpg', 'Image_test_009573.jpg', 'Image_test_016410.jpg', 'Image_test_015826.jpg', 'Image_test_008591.jpg', 'Image_test_001113.jpg', 'Image_test_000629.jpg', 'Image_test_010487.jpg', 'Image_test_008663.jpg', 'Image_test_010926.jpg', 'Image_test_005661.jpg', 'Image_test_009164.jpg', 'Image_test_012692.jpg', 'Image_test_018133.jpg', 'Image_test_013948.jpg', 'Image_test_000575.jpg', 'Image_test_009235.jpg', 'Image_test_010331.jpg', 'Image_test_004781.jpg', 'Image_test_001199.jpg', 'Image_test_003054.jpg', 'Image_test_006539.jpg', 'Image_test_007418.jpg', 'Image_test_006817.jpg', 'Image_test_008398.jpg', 'Image_test_008038.jpg', 'Image_test_009449.jpg', 'Image_test_007290.jpg', 'Image_test_001981.jpg', 'Image_test_010608.jpg', 'Image_test_003382.jpg', 'Image_test_012250.jpg', 'Image_test_013879.jpg', 'Image_test_016056.jpg', 'Image_test_011635.jpg', 'Image_test_014512.jpg', 'Image_test_008488.jpg', 'Image_test_002794.jpg', 'Image_test_001345.jpg', 'Image_test_008556.jpg', 'Image_test_002677.jpg', 'Image_test_014848.jpg', 'Image_test_011020.jpg', 'Image_test_009211.jpg', 'Image_test_014264.jpg', 'Image_test_013881.jpg', 'Image_test_013262.jpg', 'Image_test_001980.jpg', 'Image_test_009987.jpg', 'Image_test_013358.jpg', 'Image_test_012110.jpg', 'Image_test_002702.jpg', 'Image_test_015050.jpg', 'Image_test_011050.jpg', 'Image_test_012464.jpg', 'Image_test_011456.jpg', 'Image_test_011733.jpg', 'Image_test_016547.jpg', 'Image_test_013790.jpg')]\n"
     ]
    }
   ],
   "source": [
    "for image in test_dl:\n",
    "    print(image)\n",
    "    break"
   ]
  },
  {
   "cell_type": "code",
   "execution_count": 85,
   "id": "4d265301",
   "metadata": {
    "execution": {
     "iopub.execute_input": "2022-02-06T01:25:53.914007Z",
     "iopub.status.busy": "2022-02-06T01:25:53.912990Z",
     "iopub.status.idle": "2022-02-06T01:25:53.916529Z",
     "shell.execute_reply": "2022-02-06T01:25:53.915939Z",
     "shell.execute_reply.started": "2022-02-05T19:47:49.516342Z"
    },
    "papermill": {
     "duration": 0.125402,
     "end_time": "2022-02-06T01:25:53.916669",
     "exception": false,
     "start_time": "2022-02-06T01:25:53.791267",
     "status": "completed"
    },
    "tags": []
   },
   "outputs": [],
   "source": [
    "def predict(test_dl,model):\n",
    "    ans=[]\n",
    "    file_names=[]\n",
    "    model.eval()\n",
    "    for batch in test_dl:\n",
    "        with torch.no_grad():\n",
    "            images,names=batch\n",
    "            images=images.to(device=device)\n",
    "            out=model(images)\n",
    "        #print(out)\n",
    "        #print(type(out))\n",
    "            _, preds = torch.max(out, dim=1)\n",
    "            preds=preds.cpu().detach().numpy()\n",
    "            preds=preds.tolist()\n",
    "            #print(preds)\n",
    "            ans.extend(preds)\n",
    "            file_names.extend(names)\n",
    "            \n",
    "    label=pd.Series(ans)\n",
    "    file_name=pd.Series(file_names)\n",
    "    return label,file_name"
   ]
  },
  {
   "cell_type": "code",
   "execution_count": 86,
   "id": "49466e91",
   "metadata": {
    "execution": {
     "iopub.execute_input": "2022-02-06T01:25:54.148563Z",
     "iopub.status.busy": "2022-02-06T01:25:54.147412Z",
     "iopub.status.idle": "2022-02-06T01:25:54.151033Z",
     "shell.execute_reply": "2022-02-06T01:25:54.150318Z",
     "shell.execute_reply.started": "2022-02-05T19:47:56.790727Z"
    },
    "papermill": {
     "duration": 0.121237,
     "end_time": "2022-02-06T01:25:54.151188",
     "exception": false,
     "start_time": "2022-02-06T01:25:54.029951",
     "status": "completed"
    },
    "tags": []
   },
   "outputs": [],
   "source": [
    "#model=Classifier(model_transfer)\n",
    "#model.load_state_dict(torch.load('../input/effnet/res_cust_3.pth'))\n",
    "#model.eval()"
   ]
  },
  {
   "cell_type": "code",
   "execution_count": 87,
   "id": "32b8d5d3",
   "metadata": {
    "execution": {
     "iopub.execute_input": "2022-02-06T01:25:54.383681Z",
     "iopub.status.busy": "2022-02-06T01:25:54.382689Z",
     "iopub.status.idle": "2022-02-06T01:43:57.466828Z",
     "shell.execute_reply": "2022-02-06T01:43:57.466174Z",
     "shell.execute_reply.started": "2022-02-05T19:47:57.822780Z"
    },
    "papermill": {
     "duration": 1083.202965,
     "end_time": "2022-02-06T01:43:57.467002",
     "exception": false,
     "start_time": "2022-02-06T01:25:54.264037",
     "status": "completed"
    },
    "tags": []
   },
   "outputs": [],
   "source": [
    "a,b=predict(test_dl,model)"
   ]
  },
  {
   "cell_type": "code",
   "execution_count": 88,
   "id": "2b6f1d88",
   "metadata": {
    "execution": {
     "iopub.execute_input": "2022-02-06T01:43:57.707024Z",
     "iopub.status.busy": "2022-02-06T01:43:57.705803Z",
     "iopub.status.idle": "2022-02-06T01:43:57.708421Z",
     "shell.execute_reply": "2022-02-06T01:43:57.709006Z",
     "shell.execute_reply.started": "2022-02-05T20:04:34.637578Z"
    },
    "papermill": {
     "duration": 0.123816,
     "end_time": "2022-02-06T01:43:57.709189",
     "exception": false,
     "start_time": "2022-02-06T01:43:57.585373",
     "status": "completed"
    },
    "tags": []
   },
   "outputs": [],
   "source": [
    "test_df['file_name']=b"
   ]
  },
  {
   "cell_type": "code",
   "execution_count": 89,
   "id": "65a3f5d0",
   "metadata": {
    "execution": {
     "iopub.execute_input": "2022-02-06T01:43:57.945047Z",
     "iopub.status.busy": "2022-02-06T01:43:57.944047Z",
     "iopub.status.idle": "2022-02-06T01:43:57.947783Z",
     "shell.execute_reply": "2022-02-06T01:43:57.948379Z",
     "shell.execute_reply.started": "2022-02-05T20:04:35.026709Z"
    },
    "papermill": {
     "duration": 0.125557,
     "end_time": "2022-02-06T01:43:57.948568",
     "exception": false,
     "start_time": "2022-02-06T01:43:57.823011",
     "status": "completed"
    },
    "tags": []
   },
   "outputs": [
    {
     "data": {
      "text/plain": [
       "0        9\n",
       "1        7\n",
       "2        3\n",
       "3        9\n",
       "4        0\n",
       "        ..\n",
       "18218    6\n",
       "18219    8\n",
       "18220    0\n",
       "18221    2\n",
       "18222    3\n",
       "Length: 18223, dtype: int64"
      ]
     },
     "execution_count": 89,
     "metadata": {},
     "output_type": "execute_result"
    }
   ],
   "source": [
    "a"
   ]
  },
  {
   "cell_type": "code",
   "execution_count": 90,
   "id": "8a007536",
   "metadata": {
    "execution": {
     "iopub.execute_input": "2022-02-06T01:43:58.203460Z",
     "iopub.status.busy": "2022-02-06T01:43:58.202287Z",
     "iopub.status.idle": "2022-02-06T01:43:58.207877Z",
     "shell.execute_reply": "2022-02-06T01:43:58.207230Z",
     "shell.execute_reply.started": "2022-02-05T20:04:35.567653Z"
    },
    "papermill": {
     "duration": 0.144191,
     "end_time": "2022-02-06T01:43:58.208042",
     "exception": false,
     "start_time": "2022-02-06T01:43:58.063851",
     "status": "completed"
    },
    "tags": []
   },
   "outputs": [
    {
     "data": {
      "text/html": [
       "<div>\n",
       "<style scoped>\n",
       "    .dataframe tbody tr th:only-of-type {\n",
       "        vertical-align: middle;\n",
       "    }\n",
       "\n",
       "    .dataframe tbody tr th {\n",
       "        vertical-align: top;\n",
       "    }\n",
       "\n",
       "    .dataframe thead th {\n",
       "        text-align: right;\n",
       "    }\n",
       "</style>\n",
       "<table border=\"1\" class=\"dataframe\">\n",
       "  <thead>\n",
       "    <tr style=\"text-align: right;\">\n",
       "      <th></th>\n",
       "      <th>file_name</th>\n",
       "    </tr>\n",
       "  </thead>\n",
       "  <tbody>\n",
       "    <tr>\n",
       "      <th>0</th>\n",
       "      <td>Image_test_013092.jpg</td>\n",
       "    </tr>\n",
       "    <tr>\n",
       "      <th>1</th>\n",
       "      <td>Image_test_010719.jpg</td>\n",
       "    </tr>\n",
       "    <tr>\n",
       "      <th>2</th>\n",
       "      <td>Image_test_013339.jpg</td>\n",
       "    </tr>\n",
       "    <tr>\n",
       "      <th>3</th>\n",
       "      <td>Image_test_009758.jpg</td>\n",
       "    </tr>\n",
       "    <tr>\n",
       "      <th>4</th>\n",
       "      <td>Image_test_012116.jpg</td>\n",
       "    </tr>\n",
       "    <tr>\n",
       "      <th>...</th>\n",
       "      <td>...</td>\n",
       "    </tr>\n",
       "    <tr>\n",
       "      <th>18218</th>\n",
       "      <td>Image_test_004114.jpg</td>\n",
       "    </tr>\n",
       "    <tr>\n",
       "      <th>18219</th>\n",
       "      <td>Image_test_011861.jpg</td>\n",
       "    </tr>\n",
       "    <tr>\n",
       "      <th>18220</th>\n",
       "      <td>Image_test_004260.jpg</td>\n",
       "    </tr>\n",
       "    <tr>\n",
       "      <th>18221</th>\n",
       "      <td>Image_test_000017.jpg</td>\n",
       "    </tr>\n",
       "    <tr>\n",
       "      <th>18222</th>\n",
       "      <td>Image_test_006805.jpg</td>\n",
       "    </tr>\n",
       "  </tbody>\n",
       "</table>\n",
       "<p>18223 rows × 1 columns</p>\n",
       "</div>"
      ],
      "text/plain": [
       "                   file_name\n",
       "0      Image_test_013092.jpg\n",
       "1      Image_test_010719.jpg\n",
       "2      Image_test_013339.jpg\n",
       "3      Image_test_009758.jpg\n",
       "4      Image_test_012116.jpg\n",
       "...                      ...\n",
       "18218  Image_test_004114.jpg\n",
       "18219  Image_test_011861.jpg\n",
       "18220  Image_test_004260.jpg\n",
       "18221  Image_test_000017.jpg\n",
       "18222  Image_test_006805.jpg\n",
       "\n",
       "[18223 rows x 1 columns]"
      ]
     },
     "execution_count": 90,
     "metadata": {},
     "output_type": "execute_result"
    }
   ],
   "source": [
    "test_df"
   ]
  },
  {
   "cell_type": "code",
   "execution_count": 91,
   "id": "f179f37a",
   "metadata": {
    "execution": {
     "iopub.execute_input": "2022-02-06T01:43:58.446171Z",
     "iopub.status.busy": "2022-02-06T01:43:58.444880Z",
     "iopub.status.idle": "2022-02-06T01:43:58.447562Z",
     "shell.execute_reply": "2022-02-06T01:43:58.448113Z",
     "shell.execute_reply.started": "2022-02-05T20:04:36.551204Z"
    },
    "papermill": {
     "duration": 0.123928,
     "end_time": "2022-02-06T01:43:58.448279",
     "exception": false,
     "start_time": "2022-02-06T01:43:58.324351",
     "status": "completed"
    },
    "tags": []
   },
   "outputs": [],
   "source": [
    "test_df['label']=a"
   ]
  },
  {
   "cell_type": "code",
   "execution_count": 92,
   "id": "292d0ed6",
   "metadata": {
    "execution": {
     "iopub.execute_input": "2022-02-06T01:43:58.683388Z",
     "iopub.status.busy": "2022-02-06T01:43:58.681775Z",
     "iopub.status.idle": "2022-02-06T01:43:58.686485Z",
     "shell.execute_reply": "2022-02-06T01:43:58.685934Z",
     "shell.execute_reply.started": "2022-02-05T20:04:53.489179Z"
    },
    "papermill": {
     "duration": 0.125353,
     "end_time": "2022-02-06T01:43:58.686644",
     "exception": false,
     "start_time": "2022-02-06T01:43:58.561291",
     "status": "completed"
    },
    "tags": []
   },
   "outputs": [
    {
     "data": {
      "text/plain": [
       "6     4125\n",
       "9     3109\n",
       "3     2052\n",
       "0     1631\n",
       "8     1407\n",
       "5     1266\n",
       "4     1186\n",
       "7     1083\n",
       "2     1001\n",
       "10     773\n",
       "1      590\n",
       "Name: label, dtype: int64"
      ]
     },
     "execution_count": 92,
     "metadata": {},
     "output_type": "execute_result"
    }
   ],
   "source": [
    "test_df['label'].value_counts()"
   ]
  },
  {
   "cell_type": "code",
   "execution_count": 93,
   "id": "3a416f28",
   "metadata": {
    "execution": {
     "iopub.execute_input": "2022-02-06T01:43:58.922186Z",
     "iopub.status.busy": "2022-02-06T01:43:58.921129Z",
     "iopub.status.idle": "2022-02-06T01:43:58.924381Z",
     "shell.execute_reply": "2022-02-06T01:43:58.923860Z",
     "shell.execute_reply.started": "2022-02-03T13:10:14.241868Z"
    },
    "papermill": {
     "duration": 0.124413,
     "end_time": "2022-02-06T01:43:58.924551",
     "exception": false,
     "start_time": "2022-02-06T01:43:58.800138",
     "status": "completed"
    },
    "tags": []
   },
   "outputs": [],
   "source": [
    "test_df.set_index(['file_name'],inplace=True)"
   ]
  },
  {
   "cell_type": "code",
   "execution_count": 94,
   "id": "1aaf941c",
   "metadata": {
    "execution": {
     "iopub.execute_input": "2022-02-06T01:43:59.163586Z",
     "iopub.status.busy": "2022-02-06T01:43:59.162345Z",
     "iopub.status.idle": "2022-02-06T01:43:59.167579Z",
     "shell.execute_reply": "2022-02-06T01:43:59.167034Z",
     "shell.execute_reply.started": "2022-02-03T10:19:16.733704Z"
    },
    "papermill": {
     "duration": 0.12972,
     "end_time": "2022-02-06T01:43:59.167737",
     "exception": false,
     "start_time": "2022-02-06T01:43:59.038017",
     "status": "completed"
    },
    "tags": []
   },
   "outputs": [
    {
     "data": {
      "text/html": [
       "<div>\n",
       "<style scoped>\n",
       "    .dataframe tbody tr th:only-of-type {\n",
       "        vertical-align: middle;\n",
       "    }\n",
       "\n",
       "    .dataframe tbody tr th {\n",
       "        vertical-align: top;\n",
       "    }\n",
       "\n",
       "    .dataframe thead th {\n",
       "        text-align: right;\n",
       "    }\n",
       "</style>\n",
       "<table border=\"1\" class=\"dataframe\">\n",
       "  <thead>\n",
       "    <tr style=\"text-align: right;\">\n",
       "      <th></th>\n",
       "      <th>label</th>\n",
       "    </tr>\n",
       "    <tr>\n",
       "      <th>file_name</th>\n",
       "      <th></th>\n",
       "    </tr>\n",
       "  </thead>\n",
       "  <tbody>\n",
       "    <tr>\n",
       "      <th>Image_test_013092.jpg</th>\n",
       "      <td>9</td>\n",
       "    </tr>\n",
       "    <tr>\n",
       "      <th>Image_test_010719.jpg</th>\n",
       "      <td>7</td>\n",
       "    </tr>\n",
       "    <tr>\n",
       "      <th>Image_test_013339.jpg</th>\n",
       "      <td>3</td>\n",
       "    </tr>\n",
       "    <tr>\n",
       "      <th>Image_test_009758.jpg</th>\n",
       "      <td>9</td>\n",
       "    </tr>\n",
       "    <tr>\n",
       "      <th>Image_test_012116.jpg</th>\n",
       "      <td>0</td>\n",
       "    </tr>\n",
       "    <tr>\n",
       "      <th>...</th>\n",
       "      <td>...</td>\n",
       "    </tr>\n",
       "    <tr>\n",
       "      <th>Image_test_004114.jpg</th>\n",
       "      <td>6</td>\n",
       "    </tr>\n",
       "    <tr>\n",
       "      <th>Image_test_011861.jpg</th>\n",
       "      <td>8</td>\n",
       "    </tr>\n",
       "    <tr>\n",
       "      <th>Image_test_004260.jpg</th>\n",
       "      <td>0</td>\n",
       "    </tr>\n",
       "    <tr>\n",
       "      <th>Image_test_000017.jpg</th>\n",
       "      <td>2</td>\n",
       "    </tr>\n",
       "    <tr>\n",
       "      <th>Image_test_006805.jpg</th>\n",
       "      <td>3</td>\n",
       "    </tr>\n",
       "  </tbody>\n",
       "</table>\n",
       "<p>18223 rows × 1 columns</p>\n",
       "</div>"
      ],
      "text/plain": [
       "                       label\n",
       "file_name                   \n",
       "Image_test_013092.jpg      9\n",
       "Image_test_010719.jpg      7\n",
       "Image_test_013339.jpg      3\n",
       "Image_test_009758.jpg      9\n",
       "Image_test_012116.jpg      0\n",
       "...                      ...\n",
       "Image_test_004114.jpg      6\n",
       "Image_test_011861.jpg      8\n",
       "Image_test_004260.jpg      0\n",
       "Image_test_000017.jpg      2\n",
       "Image_test_006805.jpg      3\n",
       "\n",
       "[18223 rows x 1 columns]"
      ]
     },
     "execution_count": 94,
     "metadata": {},
     "output_type": "execute_result"
    }
   ],
   "source": [
    "test_df"
   ]
  },
  {
   "cell_type": "code",
   "execution_count": 95,
   "id": "84a1d985",
   "metadata": {
    "execution": {
     "iopub.execute_input": "2022-02-06T01:43:59.403422Z",
     "iopub.status.busy": "2022-02-06T01:43:59.402314Z",
     "iopub.status.idle": "2022-02-06T01:43:59.434901Z",
     "shell.execute_reply": "2022-02-06T01:43:59.434335Z"
    },
    "papermill": {
     "duration": 0.151868,
     "end_time": "2022-02-06T01:43:59.435032",
     "exception": false,
     "start_time": "2022-02-06T01:43:59.283164",
     "status": "completed"
    },
    "tags": []
   },
   "outputs": [],
   "source": [
    "test_df.to_csv('file_res_9.csv')"
   ]
  }
 ],
 "metadata": {
  "kernelspec": {
   "display_name": "Python 3",
   "language": "python",
   "name": "python3"
  },
  "language_info": {
   "codemirror_mode": {
    "name": "ipython",
    "version": 3
   },
   "file_extension": ".py",
   "mimetype": "text/x-python",
   "name": "python",
   "nbconvert_exporter": "python",
   "pygments_lexer": "ipython3",
   "version": "3.7.12"
  },
  "papermill": {
   "default_parameters": {},
   "duration": 13662.318899,
   "end_time": "2022-02-06T01:44:02.250726",
   "environment_variables": {},
   "exception": null,
   "input_path": "__notebook__.ipynb",
   "output_path": "__notebook__.ipynb",
   "parameters": {},
   "start_time": "2022-02-05T21:56:19.931827",
   "version": "2.3.3"
  },
  "widgets": {
   "application/vnd.jupyter.widget-state+json": {
    "state": {
     "44e94c8e0c4b4986bce17bfbd043a5fd": {
      "model_module": "@jupyter-widgets/base",
      "model_module_version": "1.2.0",
      "model_name": "LayoutModel",
      "state": {
       "_model_module": "@jupyter-widgets/base",
       "_model_module_version": "1.2.0",
       "_model_name": "LayoutModel",
       "_view_count": null,
       "_view_module": "@jupyter-widgets/base",
       "_view_module_version": "1.2.0",
       "_view_name": "LayoutView",
       "align_content": null,
       "align_items": null,
       "align_self": null,
       "border": null,
       "bottom": null,
       "display": null,
       "flex": null,
       "flex_flow": null,
       "grid_area": null,
       "grid_auto_columns": null,
       "grid_auto_flow": null,
       "grid_auto_rows": null,
       "grid_column": null,
       "grid_gap": null,
       "grid_row": null,
       "grid_template_areas": null,
       "grid_template_columns": null,
       "grid_template_rows": null,
       "height": null,
       "justify_content": null,
       "justify_items": null,
       "left": null,
       "margin": null,
       "max_height": null,
       "max_width": null,
       "min_height": null,
       "min_width": null,
       "object_fit": null,
       "object_position": null,
       "order": null,
       "overflow": null,
       "overflow_x": null,
       "overflow_y": null,
       "padding": null,
       "right": null,
       "top": null,
       "visibility": null,
       "width": null
      }
     },
     "5594082d28dc429c97cf71291ea847b8": {
      "model_module": "@jupyter-widgets/controls",
      "model_module_version": "1.5.0",
      "model_name": "HTMLModel",
      "state": {
       "_dom_classes": [],
       "_model_module": "@jupyter-widgets/controls",
       "_model_module_version": "1.5.0",
       "_model_name": "HTMLModel",
       "_view_count": null,
       "_view_module": "@jupyter-widgets/controls",
       "_view_module_version": "1.5.0",
       "_view_name": "HTMLView",
       "description": "",
       "description_tooltip": null,
       "layout": "IPY_MODEL_79d7697a36b44dfbb029b802169f829e",
       "placeholder": "​",
       "style": "IPY_MODEL_559fade409a54cab9a42cb3dbc681145",
       "value": " 35.1M/35.1M [00:01&lt;00:00, 32.2MB/s]"
      }
     },
     "559fade409a54cab9a42cb3dbc681145": {
      "model_module": "@jupyter-widgets/controls",
      "model_module_version": "1.5.0",
      "model_name": "DescriptionStyleModel",
      "state": {
       "_model_module": "@jupyter-widgets/controls",
       "_model_module_version": "1.5.0",
       "_model_name": "DescriptionStyleModel",
       "_view_count": null,
       "_view_module": "@jupyter-widgets/base",
       "_view_module_version": "1.2.0",
       "_view_name": "StyleView",
       "description_width": ""
      }
     },
     "57a2d69e5f724800a3b84887a0d1d35f": {
      "model_module": "@jupyter-widgets/base",
      "model_module_version": "1.2.0",
      "model_name": "LayoutModel",
      "state": {
       "_model_module": "@jupyter-widgets/base",
       "_model_module_version": "1.2.0",
       "_model_name": "LayoutModel",
       "_view_count": null,
       "_view_module": "@jupyter-widgets/base",
       "_view_module_version": "1.2.0",
       "_view_name": "LayoutView",
       "align_content": null,
       "align_items": null,
       "align_self": null,
       "border": null,
       "bottom": null,
       "display": null,
       "flex": null,
       "flex_flow": null,
       "grid_area": null,
       "grid_auto_columns": null,
       "grid_auto_flow": null,
       "grid_auto_rows": null,
       "grid_column": null,
       "grid_gap": null,
       "grid_row": null,
       "grid_template_areas": null,
       "grid_template_columns": null,
       "grid_template_rows": null,
       "height": null,
       "justify_content": null,
       "justify_items": null,
       "left": null,
       "margin": null,
       "max_height": null,
       "max_width": null,
       "min_height": null,
       "min_width": null,
       "object_fit": null,
       "object_position": null,
       "order": null,
       "overflow": null,
       "overflow_x": null,
       "overflow_y": null,
       "padding": null,
       "right": null,
       "top": null,
       "visibility": null,
       "width": null
      }
     },
     "5dd63991b3c84487b3259725650a1a6b": {
      "model_module": "@jupyter-widgets/controls",
      "model_module_version": "1.5.0",
      "model_name": "FloatProgressModel",
      "state": {
       "_dom_classes": [],
       "_model_module": "@jupyter-widgets/controls",
       "_model_module_version": "1.5.0",
       "_model_name": "FloatProgressModel",
       "_view_count": null,
       "_view_module": "@jupyter-widgets/controls",
       "_view_module_version": "1.5.0",
       "_view_name": "ProgressView",
       "bar_style": "success",
       "description": "",
       "description_tooltip": null,
       "layout": "IPY_MODEL_dc853b79e1714ae68b0ad8facd572e61",
       "max": 36804509.0,
       "min": 0.0,
       "orientation": "horizontal",
       "style": "IPY_MODEL_620a17cb3c0041e8854b819e25c5ec55",
       "value": 36804509.0
      }
     },
     "620a17cb3c0041e8854b819e25c5ec55": {
      "model_module": "@jupyter-widgets/controls",
      "model_module_version": "1.5.0",
      "model_name": "ProgressStyleModel",
      "state": {
       "_model_module": "@jupyter-widgets/controls",
       "_model_module_version": "1.5.0",
       "_model_name": "ProgressStyleModel",
       "_view_count": null,
       "_view_module": "@jupyter-widgets/base",
       "_view_module_version": "1.2.0",
       "_view_name": "StyleView",
       "bar_color": null,
       "description_width": ""
      }
     },
     "79d7697a36b44dfbb029b802169f829e": {
      "model_module": "@jupyter-widgets/base",
      "model_module_version": "1.2.0",
      "model_name": "LayoutModel",
      "state": {
       "_model_module": "@jupyter-widgets/base",
       "_model_module_version": "1.2.0",
       "_model_name": "LayoutModel",
       "_view_count": null,
       "_view_module": "@jupyter-widgets/base",
       "_view_module_version": "1.2.0",
       "_view_name": "LayoutView",
       "align_content": null,
       "align_items": null,
       "align_self": null,
       "border": null,
       "bottom": null,
       "display": null,
       "flex": null,
       "flex_flow": null,
       "grid_area": null,
       "grid_auto_columns": null,
       "grid_auto_flow": null,
       "grid_auto_rows": null,
       "grid_column": null,
       "grid_gap": null,
       "grid_row": null,
       "grid_template_areas": null,
       "grid_template_columns": null,
       "grid_template_rows": null,
       "height": null,
       "justify_content": null,
       "justify_items": null,
       "left": null,
       "margin": null,
       "max_height": null,
       "max_width": null,
       "min_height": null,
       "min_width": null,
       "object_fit": null,
       "object_position": null,
       "order": null,
       "overflow": null,
       "overflow_x": null,
       "overflow_y": null,
       "padding": null,
       "right": null,
       "top": null,
       "visibility": null,
       "width": null
      }
     },
     "871b14423c3e48fb8a2b0319b72e5422": {
      "model_module": "@jupyter-widgets/controls",
      "model_module_version": "1.5.0",
      "model_name": "HBoxModel",
      "state": {
       "_dom_classes": [],
       "_model_module": "@jupyter-widgets/controls",
       "_model_module_version": "1.5.0",
       "_model_name": "HBoxModel",
       "_view_count": null,
       "_view_module": "@jupyter-widgets/controls",
       "_view_module_version": "1.5.0",
       "_view_name": "HBoxView",
       "box_style": "",
       "children": [
        "IPY_MODEL_d7f032f7910f400787ac8e021c03aead",
        "IPY_MODEL_5dd63991b3c84487b3259725650a1a6b",
        "IPY_MODEL_5594082d28dc429c97cf71291ea847b8"
       ],
       "layout": "IPY_MODEL_57a2d69e5f724800a3b84887a0d1d35f"
      }
     },
     "92be00f95ee141e098031d2e985384e9": {
      "model_module": "@jupyter-widgets/controls",
      "model_module_version": "1.5.0",
      "model_name": "DescriptionStyleModel",
      "state": {
       "_model_module": "@jupyter-widgets/controls",
       "_model_module_version": "1.5.0",
       "_model_name": "DescriptionStyleModel",
       "_view_count": null,
       "_view_module": "@jupyter-widgets/base",
       "_view_module_version": "1.2.0",
       "_view_name": "StyleView",
       "description_width": ""
      }
     },
     "d7f032f7910f400787ac8e021c03aead": {
      "model_module": "@jupyter-widgets/controls",
      "model_module_version": "1.5.0",
      "model_name": "HTMLModel",
      "state": {
       "_dom_classes": [],
       "_model_module": "@jupyter-widgets/controls",
       "_model_module_version": "1.5.0",
       "_model_name": "HTMLModel",
       "_view_count": null,
       "_view_module": "@jupyter-widgets/controls",
       "_view_module_version": "1.5.0",
       "_view_name": "HTMLView",
       "description": "",
       "description_tooltip": null,
       "layout": "IPY_MODEL_44e94c8e0c4b4986bce17bfbd043a5fd",
       "placeholder": "​",
       "style": "IPY_MODEL_92be00f95ee141e098031d2e985384e9",
       "value": "100%"
      }
     },
     "dc853b79e1714ae68b0ad8facd572e61": {
      "model_module": "@jupyter-widgets/base",
      "model_module_version": "1.2.0",
      "model_name": "LayoutModel",
      "state": {
       "_model_module": "@jupyter-widgets/base",
       "_model_module_version": "1.2.0",
       "_model_name": "LayoutModel",
       "_view_count": null,
       "_view_module": "@jupyter-widgets/base",
       "_view_module_version": "1.2.0",
       "_view_name": "LayoutView",
       "align_content": null,
       "align_items": null,
       "align_self": null,
       "border": null,
       "bottom": null,
       "display": null,
       "flex": null,
       "flex_flow": null,
       "grid_area": null,
       "grid_auto_columns": null,
       "grid_auto_flow": null,
       "grid_auto_rows": null,
       "grid_column": null,
       "grid_gap": null,
       "grid_row": null,
       "grid_template_areas": null,
       "grid_template_columns": null,
       "grid_template_rows": null,
       "height": null,
       "justify_content": null,
       "justify_items": null,
       "left": null,
       "margin": null,
       "max_height": null,
       "max_width": null,
       "min_height": null,
       "min_width": null,
       "object_fit": null,
       "object_position": null,
       "order": null,
       "overflow": null,
       "overflow_x": null,
       "overflow_y": null,
       "padding": null,
       "right": null,
       "top": null,
       "visibility": null,
       "width": null
      }
     }
    },
    "version_major": 2,
    "version_minor": 0
   }
  }
 },
 "nbformat": 4,
 "nbformat_minor": 5
}
